{
  "nbformat": 4,
  "nbformat_minor": 0,
  "metadata": {
    "colab": {
      "name": "2. Education Capstone - EDA and Processing.ipynb",
      "provenance": [],
      "collapsed_sections": [],
      "toc_visible": true,
      "include_colab_link": true
    },
    "kernelspec": {
      "display_name": "Python 3",
      "name": "python3"
    },
    "language_info": {
      "name": "python"
    },
    "accelerator": "GPU"
  },
  "cells": [
    {
      "cell_type": "markdown",
      "metadata": {
        "id": "view-in-github",
        "colab_type": "text"
      },
      "source": [
        "<a href=\"https://colab.research.google.com/github/cfcastillo/DS-6-Notebooks/blob/main/2_Education_Capstone_EDA_and_Processing.ipynb\" target=\"_parent\"><img src=\"https://colab.research.google.com/assets/colab-badge.svg\" alt=\"Open In Colab\"/></a>"
      ]
    },
    {
      "cell_type": "markdown",
      "metadata": {
        "id": "BO6cDiaVzYbK"
      },
      "source": [
        "# Project Definition\n",
        "\n",
        "The purpose of this project is to identify what factors influence people to choose certain professions or trades. In understanding these factors, we can help colleges like Central New Mexico College (CNM) offer courses that support those professions and better target their marketing to people who are likely to choose those professions.\n",
        "\n",
        "This project will be a supervised categorization problem using tree-based models to identify the factors that will contribute to career choice.\n",
        "\n"
      ]
    },
    {
      "cell_type": "markdown",
      "metadata": {
        "id": "knrUtTwEztGp"
      },
      "source": [
        "# References\n",
        "\n",
        "[Oversampling and Undersampling](https://machinelearningmastery.com/combine-oversampling-and-undersampling-for-imbalanced-classification/)"
      ]
    },
    {
      "cell_type": "markdown",
      "metadata": {
        "id": "Kmxlgo4Wnjgd"
      },
      "source": [
        "# Data Collection and Cleaning\n",
        "\n",
        "The data collection and cleaning process is outlined in the notebook titled [1. Education Capstone - Data Collection and Cleaning.ipynb](https://colab.research.google.com/drive/1Y_1b7BmiRF6CSYnoiZqGpfjpbzU4qoFe#scrollTo=Kmxlgo4Wnjgd)\n"
      ]
    },
    {
      "cell_type": "markdown",
      "metadata": {
        "id": "lphrFeEB09dJ"
      },
      "source": [
        "## Column Descriptions\n",
        "\n",
        "[Here is a summary document showing selected columns.](https://docs.google.com/document/d/1io7TtqebJLtw6FKE7zkbUh26QkG3rEJrZX3Fver9zmU/edit)\n",
        "\n",
        "[Keeping notebook from disconnecting](https://www.rockyourcode.com/script-to-stop-google-colab-from-disconnecting/)"
      ]
    },
    {
      "cell_type": "markdown",
      "metadata": {
        "id": "fnEPX1rJ0rIu"
      },
      "source": [
        "# Imports"
      ]
    },
    {
      "cell_type": "code",
      "metadata": {
        "id": "QfQPgzzSer2x"
      },
      "source": [
        "# grab the imports needed for the project\n",
        "import pandas as pd\n",
        "import matplotlib.pyplot as plt\n",
        "import numpy as np\n",
        "import seaborn as sns\n",
        "# import statsmodels.api as sm\n",
        "\n",
        "from sklearn import metrics\n",
        "from sklearn.metrics import classification_report\n",
        "# import sklearn.model_selection as model_selection\n",
        "# from collections import Counter\n",
        "from imblearn.over_sampling import RandomOverSampler\n",
        "from imblearn.under_sampling import RandomUnderSampler\n",
        "# from mlxtend.plotting import plot_decision_regions\n",
        "\n",
        "from sklearn.tree import DecisionTreeClassifier\n",
        "from sklearn.ensemble import RandomForestClassifier\n",
        "import xgboost as xgb\n",
        "from sklearn.model_selection import GridSearchCV\n",
        "from sklearn.model_selection import train_test_split\n",
        "from sklearn.metrics import accuracy_score\n",
        "\n",
        "# Visualization\n",
        "import graphviz\n",
        "# from IPython.display import display\n",
        "# from sklearn import tree\n",
        "# import plotly.express as px\n",
        "# from ipywidgets import interact, Dropdown\n",
        "\n",
        "# Other\n",
        "# from sklearn.pipeline import Pipeline # Breaks if you use with over/under samplers\n",
        "from imblearn.pipeline import Pipeline  # Need this pipeline to use over/under samplers"
      ],
      "execution_count": null,
      "outputs": []
    },
    {
      "cell_type": "markdown",
      "metadata": {
        "id": "PRkEJT36ag8H"
      },
      "source": [
        "# Exploratory Data Analysis (EDA)\n",
        "\n",
        "In our EDA, we will first filter our data to focus in on our features of interest and prepare our data for analysis. Then we will generate summary statistics to identify anomalies and visualize our data to better understand our variables and the relationships between them. Finally, we will reflect on the analysis and determine next steps."
      ]
    },
    {
      "cell_type": "markdown",
      "metadata": {
        "id": "_OHnbl6ffbM6"
      },
      "source": [
        "##Import and filter data\n",
        "\n",
        "We'll first import our clean dataset. We'll also be dropping some observations, such as those employed in the armed forces, who don't have enough observations to support significant analysis. "
      ]
    },
    {
      "cell_type": "code",
      "metadata": {
        "colab": {
          "base_uri": "https://localhost:8080/"
        },
        "id": "zN5qu2I-HlKA",
        "outputId": "2a0a72ac-c753-49d8-aca0-3bc938370134"
      },
      "source": [
        "from google.colab import drive\n",
        "drive.mount('/content/drive')"
      ],
      "execution_count": null,
      "outputs": [
        {
          "output_type": "stream",
          "name": "stdout",
          "text": [
            "Mounted at /content/drive\n"
          ]
        }
      ]
    },
    {
      "cell_type": "markdown",
      "metadata": {
        "id": "v6Zkn805hLbk"
      },
      "source": [
        "The team had different data links. The global here is to allow team members to specify who is working on this notebook so that they can run the code in their environment."
      ]
    },
    {
      "cell_type": "code",
      "metadata": {
        "id": "ErVqm8idhfdd"
      },
      "source": [
        "# Expected values are: ellie, amy, cecilia - lowercase\n",
        "team_member = 'cecilia'\n",
        "\n",
        "# Root drive path\n",
        "if team_member in ['amy','ellie']:\n",
        "  root_drive = '/content/drive/MyDrive/'\n",
        "else: # Cecilia\n",
        "  root_drive = '/content/drive/MyDrive/Student Folder - Cecilia/Projects/'"
      ],
      "execution_count": null,
      "outputs": []
    },
    {
      "cell_type": "code",
      "metadata": {
        "id": "5iSbX2Kjffuk"
      },
      "source": [
        "#Import final data\n",
        "\n",
        "asec_final = pd.read_csv(root_drive + 'Capstone/Data/FinalData/asec_2021v1.csv')\n",
        "\n",
        "#Drop rows where A_CLSWKR codes are equal to 0 or 8 and A_DTOCC equals 23\n",
        "asec_final.drop(np.where((asec_final['A_CLSWKR'] == 8) | (asec_final['A_CLSWKR'] == 0) | (asec_final['A_DTOCC'] == 23)) [0], inplace=True)\n",
        "\n",
        "#Drop 'Unnamed: 0' column\n",
        "asec_final.drop('Unnamed: 0', axis=1, inplace=True)"
      ],
      "execution_count": null,
      "outputs": []
    },
    {
      "cell_type": "markdown",
      "metadata": {
        "id": "7MtbC87dfhse"
      },
      "source": [
        "## Understand our Data\n",
        "To better understand our data we'll look at the general shape, values, and summarys statistics of the dataset."
      ]
    },
    {
      "cell_type": "code",
      "metadata": {
        "colab": {
          "base_uri": "https://localhost:8080/"
        },
        "id": "tnNx2hBWfnwd",
        "outputId": "ec44458e-2e24-4860-f465-8f58d4704550"
      },
      "source": [
        "#Get dimensions of datset\n",
        "asec_final.shape"
      ],
      "execution_count": null,
      "outputs": [
        {
          "output_type": "execute_result",
          "data": {
            "text/plain": [
              "(78832, 49)"
            ]
          },
          "metadata": {},
          "execution_count": 5
        }
      ]
    },
    {
      "cell_type": "code",
      "metadata": {
        "colab": {
          "base_uri": "https://localhost:8080/",
          "height": 226
        },
        "id": "VqTpEPmmfp5g",
        "outputId": "9110a685-453b-432c-c31c-17979da71844"
      },
      "source": [
        "#Look at the first five rows\n",
        "asec_final.head()"
      ],
      "execution_count": null,
      "outputs": [
        {
          "output_type": "execute_result",
          "data": {
            "text/html": [
              "<div>\n",
              "<style scoped>\n",
              "    .dataframe tbody tr th:only-of-type {\n",
              "        vertical-align: middle;\n",
              "    }\n",
              "\n",
              "    .dataframe tbody tr th {\n",
              "        vertical-align: top;\n",
              "    }\n",
              "\n",
              "    .dataframe thead th {\n",
              "        text-align: right;\n",
              "    }\n",
              "</style>\n",
              "<table border=\"1\" class=\"dataframe\">\n",
              "  <thead>\n",
              "    <tr style=\"text-align: right;\">\n",
              "      <th></th>\n",
              "      <th>GTMETSTA</th>\n",
              "      <th>GEDIV</th>\n",
              "      <th>GESTFIPS</th>\n",
              "      <th>HHINC</th>\n",
              "      <th>H_TENURE</th>\n",
              "      <th>H_LIVQRT</th>\n",
              "      <th>OCCUP</th>\n",
              "      <th>A_MJOCC</th>\n",
              "      <th>A_DTOCC</th>\n",
              "      <th>AGE1</th>\n",
              "      <th>A_SEX</th>\n",
              "      <th>PRDTRACE</th>\n",
              "      <th>PXRACE1</th>\n",
              "      <th>PRCITSHP</th>\n",
              "      <th>A_HGA</th>\n",
              "      <th>PRERELG</th>\n",
              "      <th>A_GRSWK</th>\n",
              "      <th>HRCHECK</th>\n",
              "      <th>HRSWK</th>\n",
              "      <th>PEARNVAL</th>\n",
              "      <th>A_CLSWKR</th>\n",
              "      <th>WEIND</th>\n",
              "      <th>A_MARITL</th>\n",
              "      <th>A_HSCOL</th>\n",
              "      <th>A_WKSTAT</th>\n",
              "      <th>HEA</th>\n",
              "      <th>PEINUSYR</th>\n",
              "      <th>FKINDEX</th>\n",
              "      <th>FINC_FR</th>\n",
              "      <th>FINC_SE</th>\n",
              "      <th>FINC_WS</th>\n",
              "      <th>FINC_ANN</th>\n",
              "      <th>FINC_CSP</th>\n",
              "      <th>FINC_DIS</th>\n",
              "      <th>FINC_DIV</th>\n",
              "      <th>FINC_RNT</th>\n",
              "      <th>FINC_DST</th>\n",
              "      <th>FINC_ED</th>\n",
              "      <th>FINC_SS</th>\n",
              "      <th>FINC_SSI</th>\n",
              "      <th>FINC_FIN</th>\n",
              "      <th>FINC_SUR</th>\n",
              "      <th>FINC_INT</th>\n",
              "      <th>FINC_UC</th>\n",
              "      <th>FINC_OI</th>\n",
              "      <th>FINC_VET</th>\n",
              "      <th>FINC_PAW</th>\n",
              "      <th>FINC_WC</th>\n",
              "      <th>FINC_PEN</th>\n",
              "    </tr>\n",
              "  </thead>\n",
              "  <tbody>\n",
              "    <tr>\n",
              "      <th>1</th>\n",
              "      <td>2</td>\n",
              "      <td>1</td>\n",
              "      <td>23</td>\n",
              "      <td>11</td>\n",
              "      <td>1</td>\n",
              "      <td>1</td>\n",
              "      <td>6305</td>\n",
              "      <td>7</td>\n",
              "      <td>19</td>\n",
              "      <td>12</td>\n",
              "      <td>1</td>\n",
              "      <td>1</td>\n",
              "      <td>0</td>\n",
              "      <td>1</td>\n",
              "      <td>39</td>\n",
              "      <td>0</td>\n",
              "      <td>0</td>\n",
              "      <td>2</td>\n",
              "      <td>40</td>\n",
              "      <td>10000</td>\n",
              "      <td>1</td>\n",
              "      <td>3</td>\n",
              "      <td>1</td>\n",
              "      <td>0</td>\n",
              "      <td>6</td>\n",
              "      <td>3</td>\n",
              "      <td>0</td>\n",
              "      <td>1</td>\n",
              "      <td>2</td>\n",
              "      <td>2</td>\n",
              "      <td>1</td>\n",
              "      <td>2</td>\n",
              "      <td>2</td>\n",
              "      <td>2</td>\n",
              "      <td>2</td>\n",
              "      <td>2</td>\n",
              "      <td>2</td>\n",
              "      <td>2</td>\n",
              "      <td>1</td>\n",
              "      <td>2</td>\n",
              "      <td>2</td>\n",
              "      <td>2</td>\n",
              "      <td>2</td>\n",
              "      <td>1</td>\n",
              "      <td>2</td>\n",
              "      <td>2</td>\n",
              "      <td>2</td>\n",
              "      <td>2</td>\n",
              "      <td>2</td>\n",
              "    </tr>\n",
              "    <tr>\n",
              "      <th>3</th>\n",
              "      <td>2</td>\n",
              "      <td>1</td>\n",
              "      <td>23</td>\n",
              "      <td>41</td>\n",
              "      <td>1</td>\n",
              "      <td>1</td>\n",
              "      <td>2002</td>\n",
              "      <td>2</td>\n",
              "      <td>6</td>\n",
              "      <td>15</td>\n",
              "      <td>2</td>\n",
              "      <td>1</td>\n",
              "      <td>0</td>\n",
              "      <td>1</td>\n",
              "      <td>43</td>\n",
              "      <td>1</td>\n",
              "      <td>827</td>\n",
              "      <td>2</td>\n",
              "      <td>40</td>\n",
              "      <td>43000</td>\n",
              "      <td>1</td>\n",
              "      <td>15</td>\n",
              "      <td>1</td>\n",
              "      <td>0</td>\n",
              "      <td>2</td>\n",
              "      <td>3</td>\n",
              "      <td>0</td>\n",
              "      <td>1</td>\n",
              "      <td>2</td>\n",
              "      <td>2</td>\n",
              "      <td>1</td>\n",
              "      <td>2</td>\n",
              "      <td>2</td>\n",
              "      <td>2</td>\n",
              "      <td>2</td>\n",
              "      <td>2</td>\n",
              "      <td>2</td>\n",
              "      <td>2</td>\n",
              "      <td>2</td>\n",
              "      <td>2</td>\n",
              "      <td>2</td>\n",
              "      <td>2</td>\n",
              "      <td>1</td>\n",
              "      <td>2</td>\n",
              "      <td>2</td>\n",
              "      <td>2</td>\n",
              "      <td>2</td>\n",
              "      <td>2</td>\n",
              "      <td>2</td>\n",
              "    </tr>\n",
              "    <tr>\n",
              "      <th>4</th>\n",
              "      <td>2</td>\n",
              "      <td>1</td>\n",
              "      <td>23</td>\n",
              "      <td>41</td>\n",
              "      <td>1</td>\n",
              "      <td>1</td>\n",
              "      <td>9130</td>\n",
              "      <td>10</td>\n",
              "      <td>22</td>\n",
              "      <td>15</td>\n",
              "      <td>1</td>\n",
              "      <td>1</td>\n",
              "      <td>0</td>\n",
              "      <td>1</td>\n",
              "      <td>39</td>\n",
              "      <td>1</td>\n",
              "      <td>635</td>\n",
              "      <td>2</td>\n",
              "      <td>40</td>\n",
              "      <td>33000</td>\n",
              "      <td>1</td>\n",
              "      <td>8</td>\n",
              "      <td>1</td>\n",
              "      <td>0</td>\n",
              "      <td>2</td>\n",
              "      <td>3</td>\n",
              "      <td>0</td>\n",
              "      <td>1</td>\n",
              "      <td>2</td>\n",
              "      <td>2</td>\n",
              "      <td>1</td>\n",
              "      <td>2</td>\n",
              "      <td>2</td>\n",
              "      <td>2</td>\n",
              "      <td>2</td>\n",
              "      <td>2</td>\n",
              "      <td>2</td>\n",
              "      <td>2</td>\n",
              "      <td>2</td>\n",
              "      <td>2</td>\n",
              "      <td>2</td>\n",
              "      <td>2</td>\n",
              "      <td>1</td>\n",
              "      <td>2</td>\n",
              "      <td>2</td>\n",
              "      <td>2</td>\n",
              "      <td>2</td>\n",
              "      <td>2</td>\n",
              "      <td>2</td>\n",
              "    </tr>\n",
              "    <tr>\n",
              "      <th>5</th>\n",
              "      <td>2</td>\n",
              "      <td>1</td>\n",
              "      <td>23</td>\n",
              "      <td>41</td>\n",
              "      <td>1</td>\n",
              "      <td>1</td>\n",
              "      <td>9645</td>\n",
              "      <td>10</td>\n",
              "      <td>22</td>\n",
              "      <td>6</td>\n",
              "      <td>1</td>\n",
              "      <td>1</td>\n",
              "      <td>0</td>\n",
              "      <td>1</td>\n",
              "      <td>43</td>\n",
              "      <td>1</td>\n",
              "      <td>481</td>\n",
              "      <td>2</td>\n",
              "      <td>40</td>\n",
              "      <td>25000</td>\n",
              "      <td>1</td>\n",
              "      <td>7</td>\n",
              "      <td>7</td>\n",
              "      <td>0</td>\n",
              "      <td>2</td>\n",
              "      <td>2</td>\n",
              "      <td>0</td>\n",
              "      <td>1</td>\n",
              "      <td>2</td>\n",
              "      <td>2</td>\n",
              "      <td>1</td>\n",
              "      <td>2</td>\n",
              "      <td>2</td>\n",
              "      <td>2</td>\n",
              "      <td>2</td>\n",
              "      <td>2</td>\n",
              "      <td>2</td>\n",
              "      <td>2</td>\n",
              "      <td>2</td>\n",
              "      <td>2</td>\n",
              "      <td>2</td>\n",
              "      <td>2</td>\n",
              "      <td>1</td>\n",
              "      <td>2</td>\n",
              "      <td>2</td>\n",
              "      <td>2</td>\n",
              "      <td>2</td>\n",
              "      <td>2</td>\n",
              "      <td>2</td>\n",
              "    </tr>\n",
              "    <tr>\n",
              "      <th>8</th>\n",
              "      <td>2</td>\n",
              "      <td>1</td>\n",
              "      <td>23</td>\n",
              "      <td>28</td>\n",
              "      <td>2</td>\n",
              "      <td>1</td>\n",
              "      <td>310</td>\n",
              "      <td>1</td>\n",
              "      <td>1</td>\n",
              "      <td>10</td>\n",
              "      <td>2</td>\n",
              "      <td>1</td>\n",
              "      <td>0</td>\n",
              "      <td>1</td>\n",
              "      <td>39</td>\n",
              "      <td>0</td>\n",
              "      <td>0</td>\n",
              "      <td>2</td>\n",
              "      <td>50</td>\n",
              "      <td>60000</td>\n",
              "      <td>6</td>\n",
              "      <td>18</td>\n",
              "      <td>5</td>\n",
              "      <td>0</td>\n",
              "      <td>2</td>\n",
              "      <td>2</td>\n",
              "      <td>0</td>\n",
              "      <td>3</td>\n",
              "      <td>2</td>\n",
              "      <td>2</td>\n",
              "      <td>2</td>\n",
              "      <td>2</td>\n",
              "      <td>2</td>\n",
              "      <td>2</td>\n",
              "      <td>2</td>\n",
              "      <td>2</td>\n",
              "      <td>2</td>\n",
              "      <td>2</td>\n",
              "      <td>2</td>\n",
              "      <td>1</td>\n",
              "      <td>2</td>\n",
              "      <td>2</td>\n",
              "      <td>2</td>\n",
              "      <td>2</td>\n",
              "      <td>2</td>\n",
              "      <td>2</td>\n",
              "      <td>2</td>\n",
              "      <td>2</td>\n",
              "      <td>2</td>\n",
              "    </tr>\n",
              "  </tbody>\n",
              "</table>\n",
              "</div>"
            ],
            "text/plain": [
              "   GTMETSTA  GEDIV  GESTFIPS  HHINC  ...  FINC_VET  FINC_PAW  FINC_WC  FINC_PEN\n",
              "1         2      1        23     11  ...         2         2        2         2\n",
              "3         2      1        23     41  ...         2         2        2         2\n",
              "4         2      1        23     41  ...         2         2        2         2\n",
              "5         2      1        23     41  ...         2         2        2         2\n",
              "8         2      1        23     28  ...         2         2        2         2\n",
              "\n",
              "[5 rows x 49 columns]"
            ]
          },
          "metadata": {},
          "execution_count": 6
        }
      ]
    },
    {
      "cell_type": "code",
      "metadata": {
        "colab": {
          "base_uri": "https://localhost:8080/"
        },
        "id": "1bsEDv68ftZd",
        "outputId": "d9c577f6-02a6-4b91-9307-101e72e06790"
      },
      "source": [
        "#Get info about each column\n",
        "asec_final.info()"
      ],
      "execution_count": null,
      "outputs": [
        {
          "output_type": "stream",
          "name": "stdout",
          "text": [
            "<class 'pandas.core.frame.DataFrame'>\n",
            "Int64Index: 78832 entries, 1 to 129109\n",
            "Data columns (total 49 columns):\n",
            " #   Column    Non-Null Count  Dtype\n",
            "---  ------    --------------  -----\n",
            " 0   GTMETSTA  78832 non-null  int64\n",
            " 1   GEDIV     78832 non-null  int64\n",
            " 2   GESTFIPS  78832 non-null  int64\n",
            " 3   HHINC     78832 non-null  int64\n",
            " 4   H_TENURE  78832 non-null  int64\n",
            " 5   H_LIVQRT  78832 non-null  int64\n",
            " 6   OCCUP     78832 non-null  int64\n",
            " 7   A_MJOCC   78832 non-null  int64\n",
            " 8   A_DTOCC   78832 non-null  int64\n",
            " 9   AGE1      78832 non-null  int64\n",
            " 10  A_SEX     78832 non-null  int64\n",
            " 11  PRDTRACE  78832 non-null  int64\n",
            " 12  PXRACE1   78832 non-null  int64\n",
            " 13  PRCITSHP  78832 non-null  int64\n",
            " 14  A_HGA     78832 non-null  int64\n",
            " 15  PRERELG   78832 non-null  int64\n",
            " 16  A_GRSWK   78832 non-null  int64\n",
            " 17  HRCHECK   78832 non-null  int64\n",
            " 18  HRSWK     78832 non-null  int64\n",
            " 19  PEARNVAL  78832 non-null  int64\n",
            " 20  A_CLSWKR  78832 non-null  int64\n",
            " 21  WEIND     78832 non-null  int64\n",
            " 22  A_MARITL  78832 non-null  int64\n",
            " 23  A_HSCOL   78832 non-null  int64\n",
            " 24  A_WKSTAT  78832 non-null  int64\n",
            " 25  HEA       78832 non-null  int64\n",
            " 26  PEINUSYR  78832 non-null  int64\n",
            " 27  FKINDEX   78832 non-null  int64\n",
            " 28  FINC_FR   78832 non-null  int64\n",
            " 29  FINC_SE   78832 non-null  int64\n",
            " 30  FINC_WS   78832 non-null  int64\n",
            " 31  FINC_ANN  78832 non-null  int64\n",
            " 32  FINC_CSP  78832 non-null  int64\n",
            " 33  FINC_DIS  78832 non-null  int64\n",
            " 34  FINC_DIV  78832 non-null  int64\n",
            " 35  FINC_RNT  78832 non-null  int64\n",
            " 36  FINC_DST  78832 non-null  int64\n",
            " 37  FINC_ED   78832 non-null  int64\n",
            " 38  FINC_SS   78832 non-null  int64\n",
            " 39  FINC_SSI  78832 non-null  int64\n",
            " 40  FINC_FIN  78832 non-null  int64\n",
            " 41  FINC_SUR  78832 non-null  int64\n",
            " 42  FINC_INT  78832 non-null  int64\n",
            " 43  FINC_UC   78832 non-null  int64\n",
            " 44  FINC_OI   78832 non-null  int64\n",
            " 45  FINC_VET  78832 non-null  int64\n",
            " 46  FINC_PAW  78832 non-null  int64\n",
            " 47  FINC_WC   78832 non-null  int64\n",
            " 48  FINC_PEN  78832 non-null  int64\n",
            "dtypes: int64(49)\n",
            "memory usage: 30.1 MB\n"
          ]
        }
      ]
    },
    {
      "cell_type": "code",
      "metadata": {
        "colab": {
          "base_uri": "https://localhost:8080/",
          "height": 320
        },
        "id": "u78mh6Y8fwE3",
        "outputId": "f25d1397-4c28-49cd-8af1-0cf36623dd26"
      },
      "source": [
        "#Get summary statistics for each column\n",
        "asec_final.describe()"
      ],
      "execution_count": null,
      "outputs": [
        {
          "output_type": "execute_result",
          "data": {
            "text/html": [
              "<div>\n",
              "<style scoped>\n",
              "    .dataframe tbody tr th:only-of-type {\n",
              "        vertical-align: middle;\n",
              "    }\n",
              "\n",
              "    .dataframe tbody tr th {\n",
              "        vertical-align: top;\n",
              "    }\n",
              "\n",
              "    .dataframe thead th {\n",
              "        text-align: right;\n",
              "    }\n",
              "</style>\n",
              "<table border=\"1\" class=\"dataframe\">\n",
              "  <thead>\n",
              "    <tr style=\"text-align: right;\">\n",
              "      <th></th>\n",
              "      <th>GTMETSTA</th>\n",
              "      <th>GEDIV</th>\n",
              "      <th>GESTFIPS</th>\n",
              "      <th>HHINC</th>\n",
              "      <th>H_TENURE</th>\n",
              "      <th>H_LIVQRT</th>\n",
              "      <th>OCCUP</th>\n",
              "      <th>A_MJOCC</th>\n",
              "      <th>A_DTOCC</th>\n",
              "      <th>AGE1</th>\n",
              "      <th>A_SEX</th>\n",
              "      <th>PRDTRACE</th>\n",
              "      <th>PXRACE1</th>\n",
              "      <th>PRCITSHP</th>\n",
              "      <th>A_HGA</th>\n",
              "      <th>PRERELG</th>\n",
              "      <th>A_GRSWK</th>\n",
              "      <th>HRCHECK</th>\n",
              "      <th>HRSWK</th>\n",
              "      <th>PEARNVAL</th>\n",
              "      <th>A_CLSWKR</th>\n",
              "      <th>WEIND</th>\n",
              "      <th>A_MARITL</th>\n",
              "      <th>A_HSCOL</th>\n",
              "      <th>A_WKSTAT</th>\n",
              "      <th>HEA</th>\n",
              "      <th>PEINUSYR</th>\n",
              "      <th>FKINDEX</th>\n",
              "      <th>FINC_FR</th>\n",
              "      <th>FINC_SE</th>\n",
              "      <th>FINC_WS</th>\n",
              "      <th>FINC_ANN</th>\n",
              "      <th>FINC_CSP</th>\n",
              "      <th>FINC_DIS</th>\n",
              "      <th>FINC_DIV</th>\n",
              "      <th>FINC_RNT</th>\n",
              "      <th>FINC_DST</th>\n",
              "      <th>FINC_ED</th>\n",
              "      <th>FINC_SS</th>\n",
              "      <th>FINC_SSI</th>\n",
              "      <th>FINC_FIN</th>\n",
              "      <th>FINC_SUR</th>\n",
              "      <th>FINC_INT</th>\n",
              "      <th>FINC_UC</th>\n",
              "      <th>FINC_OI</th>\n",
              "      <th>FINC_VET</th>\n",
              "      <th>FINC_PAW</th>\n",
              "      <th>FINC_WC</th>\n",
              "      <th>FINC_PEN</th>\n",
              "    </tr>\n",
              "  </thead>\n",
              "  <tbody>\n",
              "    <tr>\n",
              "      <th>count</th>\n",
              "      <td>78832.000000</td>\n",
              "      <td>78832.000000</td>\n",
              "      <td>78832.000000</td>\n",
              "      <td>78832.000000</td>\n",
              "      <td>78832.000000</td>\n",
              "      <td>78832.000000</td>\n",
              "      <td>78832.000000</td>\n",
              "      <td>78832.000000</td>\n",
              "      <td>78832.000000</td>\n",
              "      <td>78832.000000</td>\n",
              "      <td>78832.000000</td>\n",
              "      <td>78832.000000</td>\n",
              "      <td>78832.000000</td>\n",
              "      <td>78832.000000</td>\n",
              "      <td>78832.000000</td>\n",
              "      <td>78832.000000</td>\n",
              "      <td>78832.000000</td>\n",
              "      <td>78832.000000</td>\n",
              "      <td>78832.000000</td>\n",
              "      <td>7.883200e+04</td>\n",
              "      <td>78832.000000</td>\n",
              "      <td>78832.000000</td>\n",
              "      <td>78832.000000</td>\n",
              "      <td>78832.000000</td>\n",
              "      <td>78832.000000</td>\n",
              "      <td>78832.000000</td>\n",
              "      <td>78832.000000</td>\n",
              "      <td>78832.000000</td>\n",
              "      <td>78832.000000</td>\n",
              "      <td>78832.000000</td>\n",
              "      <td>78832.000000</td>\n",
              "      <td>78832.000000</td>\n",
              "      <td>78832.000000</td>\n",
              "      <td>78832.000000</td>\n",
              "      <td>78832.000000</td>\n",
              "      <td>78832.000000</td>\n",
              "      <td>78832.000000</td>\n",
              "      <td>78832.000000</td>\n",
              "      <td>78832.000000</td>\n",
              "      <td>78832.000000</td>\n",
              "      <td>78832.000000</td>\n",
              "      <td>78832.000000</td>\n",
              "      <td>78832.000000</td>\n",
              "      <td>78832.000000</td>\n",
              "      <td>78832.000000</td>\n",
              "      <td>78832.000000</td>\n",
              "      <td>78832.000000</td>\n",
              "      <td>78832.000000</td>\n",
              "      <td>78832.000000</td>\n",
              "    </tr>\n",
              "    <tr>\n",
              "      <th>mean</th>\n",
              "      <td>1.181272</td>\n",
              "      <td>5.505011</td>\n",
              "      <td>27.832834</td>\n",
              "      <td>32.221179</td>\n",
              "      <td>1.314872</td>\n",
              "      <td>1.161889</td>\n",
              "      <td>3886.677200</td>\n",
              "      <td>3.968287</td>\n",
              "      <td>11.979133</td>\n",
              "      <td>9.095329</td>\n",
              "      <td>1.479323</td>\n",
              "      <td>1.531548</td>\n",
              "      <td>1.987974</td>\n",
              "      <td>1.623516</td>\n",
              "      <td>40.889499</td>\n",
              "      <td>0.211703</td>\n",
              "      <td>153.638941</td>\n",
              "      <td>1.754820</td>\n",
              "      <td>37.504516</td>\n",
              "      <td>5.749959e+04</td>\n",
              "      <td>1.802961</td>\n",
              "      <td>12.184849</td>\n",
              "      <td>3.435800</td>\n",
              "      <td>0.121816</td>\n",
              "      <td>2.565240</td>\n",
              "      <td>2.108953</td>\n",
              "      <td>3.010288</td>\n",
              "      <td>2.006825</td>\n",
              "      <td>1.978245</td>\n",
              "      <td>1.879250</td>\n",
              "      <td>1.046250</td>\n",
              "      <td>1.989915</td>\n",
              "      <td>1.964761</td>\n",
              "      <td>1.982165</td>\n",
              "      <td>1.786559</td>\n",
              "      <td>1.924485</td>\n",
              "      <td>1.975543</td>\n",
              "      <td>1.935496</td>\n",
              "      <td>1.865511</td>\n",
              "      <td>1.980782</td>\n",
              "      <td>1.988406</td>\n",
              "      <td>1.989015</td>\n",
              "      <td>1.276132</td>\n",
              "      <td>1.804762</td>\n",
              "      <td>1.981302</td>\n",
              "      <td>1.975847</td>\n",
              "      <td>1.992034</td>\n",
              "      <td>1.992161</td>\n",
              "      <td>1.952976</td>\n",
              "    </tr>\n",
              "    <tr>\n",
              "      <th>std</th>\n",
              "      <td>0.409321</td>\n",
              "      <td>2.524008</td>\n",
              "      <td>16.289146</td>\n",
              "      <td>11.231118</td>\n",
              "      <td>0.485121</td>\n",
              "      <td>0.814412</td>\n",
              "      <td>2758.630274</td>\n",
              "      <td>2.808246</td>\n",
              "      <td>6.967677</td>\n",
              "      <td>3.222822</td>\n",
              "      <td>0.499575</td>\n",
              "      <td>1.446914</td>\n",
              "      <td>7.752409</td>\n",
              "      <td>1.341081</td>\n",
              "      <td>2.633298</td>\n",
              "      <td>0.408518</td>\n",
              "      <td>468.301804</td>\n",
              "      <td>0.512719</td>\n",
              "      <td>13.157469</td>\n",
              "      <td>7.911178e+04</td>\n",
              "      <td>1.555167</td>\n",
              "      <td>5.977562</td>\n",
              "      <td>2.740684</td>\n",
              "      <td>0.457963</td>\n",
              "      <td>1.184818</td>\n",
              "      <td>0.927844</td>\n",
              "      <td>6.858710</td>\n",
              "      <td>1.284845</td>\n",
              "      <td>0.145884</td>\n",
              "      <td>0.325839</td>\n",
              "      <td>0.210028</td>\n",
              "      <td>0.099916</td>\n",
              "      <td>0.184386</td>\n",
              "      <td>0.132354</td>\n",
              "      <td>0.409739</td>\n",
              "      <td>0.264222</td>\n",
              "      <td>0.154464</td>\n",
              "      <td>0.245651</td>\n",
              "      <td>0.341179</td>\n",
              "      <td>0.137292</td>\n",
              "      <td>0.107051</td>\n",
              "      <td>0.104235</td>\n",
              "      <td>0.447085</td>\n",
              "      <td>0.396386</td>\n",
              "      <td>0.135457</td>\n",
              "      <td>0.153524</td>\n",
              "      <td>0.088899</td>\n",
              "      <td>0.088194</td>\n",
              "      <td>0.211692</td>\n",
              "    </tr>\n",
              "    <tr>\n",
              "      <th>min</th>\n",
              "      <td>1.000000</td>\n",
              "      <td>1.000000</td>\n",
              "      <td>1.000000</td>\n",
              "      <td>1.000000</td>\n",
              "      <td>1.000000</td>\n",
              "      <td>1.000000</td>\n",
              "      <td>0.000000</td>\n",
              "      <td>1.000000</td>\n",
              "      <td>1.000000</td>\n",
              "      <td>1.000000</td>\n",
              "      <td>1.000000</td>\n",
              "      <td>1.000000</td>\n",
              "      <td>0.000000</td>\n",
              "      <td>1.000000</td>\n",
              "      <td>31.000000</td>\n",
              "      <td>0.000000</td>\n",
              "      <td>0.000000</td>\n",
              "      <td>0.000000</td>\n",
              "      <td>0.000000</td>\n",
              "      <td>-9.999000e+03</td>\n",
              "      <td>1.000000</td>\n",
              "      <td>1.000000</td>\n",
              "      <td>1.000000</td>\n",
              "      <td>0.000000</td>\n",
              "      <td>1.000000</td>\n",
              "      <td>1.000000</td>\n",
              "      <td>0.000000</td>\n",
              "      <td>1.000000</td>\n",
              "      <td>1.000000</td>\n",
              "      <td>1.000000</td>\n",
              "      <td>1.000000</td>\n",
              "      <td>1.000000</td>\n",
              "      <td>1.000000</td>\n",
              "      <td>1.000000</td>\n",
              "      <td>1.000000</td>\n",
              "      <td>1.000000</td>\n",
              "      <td>1.000000</td>\n",
              "      <td>1.000000</td>\n",
              "      <td>1.000000</td>\n",
              "      <td>1.000000</td>\n",
              "      <td>1.000000</td>\n",
              "      <td>1.000000</td>\n",
              "      <td>1.000000</td>\n",
              "      <td>1.000000</td>\n",
              "      <td>1.000000</td>\n",
              "      <td>1.000000</td>\n",
              "      <td>1.000000</td>\n",
              "      <td>1.000000</td>\n",
              "      <td>1.000000</td>\n",
              "    </tr>\n",
              "    <tr>\n",
              "      <th>25%</th>\n",
              "      <td>1.000000</td>\n",
              "      <td>3.000000</td>\n",
              "      <td>12.000000</td>\n",
              "      <td>24.000000</td>\n",
              "      <td>1.000000</td>\n",
              "      <td>1.000000</td>\n",
              "      <td>1360.000000</td>\n",
              "      <td>2.000000</td>\n",
              "      <td>6.000000</td>\n",
              "      <td>7.000000</td>\n",
              "      <td>1.000000</td>\n",
              "      <td>1.000000</td>\n",
              "      <td>0.000000</td>\n",
              "      <td>1.000000</td>\n",
              "      <td>39.000000</td>\n",
              "      <td>0.000000</td>\n",
              "      <td>0.000000</td>\n",
              "      <td>2.000000</td>\n",
              "      <td>36.000000</td>\n",
              "      <td>2.000000e+04</td>\n",
              "      <td>1.000000</td>\n",
              "      <td>7.000000</td>\n",
              "      <td>1.000000</td>\n",
              "      <td>0.000000</td>\n",
              "      <td>2.000000</td>\n",
              "      <td>1.000000</td>\n",
              "      <td>0.000000</td>\n",
              "      <td>1.000000</td>\n",
              "      <td>2.000000</td>\n",
              "      <td>2.000000</td>\n",
              "      <td>1.000000</td>\n",
              "      <td>2.000000</td>\n",
              "      <td>2.000000</td>\n",
              "      <td>2.000000</td>\n",
              "      <td>2.000000</td>\n",
              "      <td>2.000000</td>\n",
              "      <td>2.000000</td>\n",
              "      <td>2.000000</td>\n",
              "      <td>2.000000</td>\n",
              "      <td>2.000000</td>\n",
              "      <td>2.000000</td>\n",
              "      <td>2.000000</td>\n",
              "      <td>1.000000</td>\n",
              "      <td>2.000000</td>\n",
              "      <td>2.000000</td>\n",
              "      <td>2.000000</td>\n",
              "      <td>2.000000</td>\n",
              "      <td>2.000000</td>\n",
              "      <td>2.000000</td>\n",
              "    </tr>\n",
              "    <tr>\n",
              "      <th>50%</th>\n",
              "      <td>1.000000</td>\n",
              "      <td>5.000000</td>\n",
              "      <td>28.000000</td>\n",
              "      <td>40.000000</td>\n",
              "      <td>1.000000</td>\n",
              "      <td>1.000000</td>\n",
              "      <td>4020.000000</td>\n",
              "      <td>3.000000</td>\n",
              "      <td>13.000000</td>\n",
              "      <td>9.000000</td>\n",
              "      <td>1.000000</td>\n",
              "      <td>1.000000</td>\n",
              "      <td>0.000000</td>\n",
              "      <td>1.000000</td>\n",
              "      <td>40.000000</td>\n",
              "      <td>0.000000</td>\n",
              "      <td>0.000000</td>\n",
              "      <td>2.000000</td>\n",
              "      <td>40.000000</td>\n",
              "      <td>4.000000e+04</td>\n",
              "      <td>1.000000</td>\n",
              "      <td>13.000000</td>\n",
              "      <td>1.000000</td>\n",
              "      <td>0.000000</td>\n",
              "      <td>2.000000</td>\n",
              "      <td>2.000000</td>\n",
              "      <td>0.000000</td>\n",
              "      <td>1.000000</td>\n",
              "      <td>2.000000</td>\n",
              "      <td>2.000000</td>\n",
              "      <td>1.000000</td>\n",
              "      <td>2.000000</td>\n",
              "      <td>2.000000</td>\n",
              "      <td>2.000000</td>\n",
              "      <td>2.000000</td>\n",
              "      <td>2.000000</td>\n",
              "      <td>2.000000</td>\n",
              "      <td>2.000000</td>\n",
              "      <td>2.000000</td>\n",
              "      <td>2.000000</td>\n",
              "      <td>2.000000</td>\n",
              "      <td>2.000000</td>\n",
              "      <td>1.000000</td>\n",
              "      <td>2.000000</td>\n",
              "      <td>2.000000</td>\n",
              "      <td>2.000000</td>\n",
              "      <td>2.000000</td>\n",
              "      <td>2.000000</td>\n",
              "      <td>2.000000</td>\n",
              "    </tr>\n",
              "    <tr>\n",
              "      <th>75%</th>\n",
              "      <td>1.000000</td>\n",
              "      <td>8.000000</td>\n",
              "      <td>42.000000</td>\n",
              "      <td>41.000000</td>\n",
              "      <td>2.000000</td>\n",
              "      <td>1.000000</td>\n",
              "      <td>5600.000000</td>\n",
              "      <td>5.000000</td>\n",
              "      <td>17.000000</td>\n",
              "      <td>11.000000</td>\n",
              "      <td>2.000000</td>\n",
              "      <td>1.000000</td>\n",
              "      <td>0.000000</td>\n",
              "      <td>1.000000</td>\n",
              "      <td>43.000000</td>\n",
              "      <td>0.000000</td>\n",
              "      <td>0.000000</td>\n",
              "      <td>2.000000</td>\n",
              "      <td>40.000000</td>\n",
              "      <td>7.000000e+04</td>\n",
              "      <td>1.000000</td>\n",
              "      <td>16.000000</td>\n",
              "      <td>7.000000</td>\n",
              "      <td>0.000000</td>\n",
              "      <td>2.000000</td>\n",
              "      <td>3.000000</td>\n",
              "      <td>0.000000</td>\n",
              "      <td>3.000000</td>\n",
              "      <td>2.000000</td>\n",
              "      <td>2.000000</td>\n",
              "      <td>1.000000</td>\n",
              "      <td>2.000000</td>\n",
              "      <td>2.000000</td>\n",
              "      <td>2.000000</td>\n",
              "      <td>2.000000</td>\n",
              "      <td>2.000000</td>\n",
              "      <td>2.000000</td>\n",
              "      <td>2.000000</td>\n",
              "      <td>2.000000</td>\n",
              "      <td>2.000000</td>\n",
              "      <td>2.000000</td>\n",
              "      <td>2.000000</td>\n",
              "      <td>2.000000</td>\n",
              "      <td>2.000000</td>\n",
              "      <td>2.000000</td>\n",
              "      <td>2.000000</td>\n",
              "      <td>2.000000</td>\n",
              "      <td>2.000000</td>\n",
              "      <td>2.000000</td>\n",
              "    </tr>\n",
              "    <tr>\n",
              "      <th>max</th>\n",
              "      <td>3.000000</td>\n",
              "      <td>9.000000</td>\n",
              "      <td>56.000000</td>\n",
              "      <td>41.000000</td>\n",
              "      <td>3.000000</td>\n",
              "      <td>12.000000</td>\n",
              "      <td>9840.000000</td>\n",
              "      <td>10.000000</td>\n",
              "      <td>22.000000</td>\n",
              "      <td>17.000000</td>\n",
              "      <td>2.000000</td>\n",
              "      <td>26.000000</td>\n",
              "      <td>43.000000</td>\n",
              "      <td>5.000000</td>\n",
              "      <td>46.000000</td>\n",
              "      <td>1.000000</td>\n",
              "      <td>2885.000000</td>\n",
              "      <td>2.000000</td>\n",
              "      <td>99.000000</td>\n",
              "      <td>2.899899e+06</td>\n",
              "      <td>7.000000</td>\n",
              "      <td>23.000000</td>\n",
              "      <td>7.000000</td>\n",
              "      <td>2.000000</td>\n",
              "      <td>7.000000</td>\n",
              "      <td>5.000000</td>\n",
              "      <td>26.000000</td>\n",
              "      <td>4.000000</td>\n",
              "      <td>2.000000</td>\n",
              "      <td>2.000000</td>\n",
              "      <td>2.000000</td>\n",
              "      <td>2.000000</td>\n",
              "      <td>2.000000</td>\n",
              "      <td>2.000000</td>\n",
              "      <td>2.000000</td>\n",
              "      <td>2.000000</td>\n",
              "      <td>2.000000</td>\n",
              "      <td>2.000000</td>\n",
              "      <td>2.000000</td>\n",
              "      <td>2.000000</td>\n",
              "      <td>2.000000</td>\n",
              "      <td>2.000000</td>\n",
              "      <td>2.000000</td>\n",
              "      <td>2.000000</td>\n",
              "      <td>2.000000</td>\n",
              "      <td>2.000000</td>\n",
              "      <td>2.000000</td>\n",
              "      <td>2.000000</td>\n",
              "      <td>2.000000</td>\n",
              "    </tr>\n",
              "  </tbody>\n",
              "</table>\n",
              "</div>"
            ],
            "text/plain": [
              "           GTMETSTA         GEDIV  ...       FINC_WC      FINC_PEN\n",
              "count  78832.000000  78832.000000  ...  78832.000000  78832.000000\n",
              "mean       1.181272      5.505011  ...      1.992161      1.952976\n",
              "std        0.409321      2.524008  ...      0.088194      0.211692\n",
              "min        1.000000      1.000000  ...      1.000000      1.000000\n",
              "25%        1.000000      3.000000  ...      2.000000      2.000000\n",
              "50%        1.000000      5.000000  ...      2.000000      2.000000\n",
              "75%        1.000000      8.000000  ...      2.000000      2.000000\n",
              "max        3.000000      9.000000  ...      2.000000      2.000000\n",
              "\n",
              "[8 rows x 49 columns]"
            ]
          },
          "metadata": {},
          "execution_count": 8
        }
      ]
    },
    {
      "cell_type": "code",
      "metadata": {
        "colab": {
          "base_uri": "https://localhost:8080/"
        },
        "id": "3GHidHiifyiW",
        "outputId": "05db7080-4016-452d-9d35-c7bcf026fe17"
      },
      "source": [
        "#See all column names\n",
        "asec_final.columns"
      ],
      "execution_count": null,
      "outputs": [
        {
          "output_type": "execute_result",
          "data": {
            "text/plain": [
              "Index(['GTMETSTA', 'GEDIV', 'GESTFIPS', 'HHINC', 'H_TENURE', 'H_LIVQRT',\n",
              "       'OCCUP', 'A_MJOCC', 'A_DTOCC', 'AGE1', 'A_SEX', 'PRDTRACE', 'PXRACE1',\n",
              "       'PRCITSHP', 'A_HGA', 'PRERELG', 'A_GRSWK', 'HRCHECK', 'HRSWK',\n",
              "       'PEARNVAL', 'A_CLSWKR', 'WEIND', 'A_MARITL', 'A_HSCOL', 'A_WKSTAT',\n",
              "       'HEA', 'PEINUSYR', 'FKINDEX', 'FINC_FR', 'FINC_SE', 'FINC_WS',\n",
              "       'FINC_ANN', 'FINC_CSP', 'FINC_DIS', 'FINC_DIV', 'FINC_RNT', 'FINC_DST',\n",
              "       'FINC_ED', 'FINC_SS', 'FINC_SSI', 'FINC_FIN', 'FINC_SUR', 'FINC_INT',\n",
              "       'FINC_UC', 'FINC_OI', 'FINC_VET', 'FINC_PAW', 'FINC_WC', 'FINC_PEN'],\n",
              "      dtype='object')"
            ]
          },
          "metadata": {},
          "execution_count": 9
        }
      ]
    },
    {
      "cell_type": "markdown",
      "metadata": {
        "id": "SZVbwHyCfz_W"
      },
      "source": [
        "We are particularly interested in the column A_DTOCC, which indicates the detailed occupation codes grouped by industry, because this is the attributed we are interested in modeling. Theremore, some more EDA will be focused on this column."
      ]
    },
    {
      "cell_type": "code",
      "metadata": {
        "colab": {
          "base_uri": "https://localhost:8080/"
        },
        "id": "jfdgE6HRf3o3",
        "outputId": "f3353336-8889-4c3b-955c-223c4387bce8"
      },
      "source": [
        "#See unique values for target column, A_DTOCC\n",
        "asec_final['A_DTOCC'].unique()"
      ],
      "execution_count": null,
      "outputs": [
        {
          "output_type": "execute_result",
          "data": {
            "text/plain": [
              "array([19,  6, 22,  1, 21, 10, 16, 20, 17, 12,  8,  2, 13, 18,  9, 14, 15,\n",
              "       11,  7,  4,  3,  5])"
            ]
          },
          "metadata": {},
          "execution_count": 10
        }
      ]
    },
    {
      "cell_type": "code",
      "metadata": {
        "colab": {
          "base_uri": "https://localhost:8080/"
        },
        "id": "YybDp1XWf5kW",
        "outputId": "a7a8b4b0-5670-4049-bdcf-7f4ac4e353eb"
      },
      "source": [
        "#See frequency for the A_DTOCC column\n",
        "oc_freq = asec_final['A_DTOCC'].value_counts(ascending=True)\n",
        "oc_freq"
      ],
      "execution_count": null,
      "outputs": [
        {
          "output_type": "execute_result",
          "data": {
            "text/plain": [
              "18     696\n",
              "5      815\n",
              "7      931\n",
              "6     1438\n",
              "4     1474\n",
              "9     1492\n",
              "12    1570\n",
              "15    1918\n",
              "20    2533\n",
              "11    2570\n",
              "3     2671\n",
              "14    2965\n",
              "13    4128\n",
              "21    4166\n",
              "2     4255\n",
              "19    4359\n",
              "8     4788\n",
              "10    4845\n",
              "22    5950\n",
              "16    7271\n",
              "17    8296\n",
              "1     9701\n",
              "Name: A_DTOCC, dtype: int64"
            ]
          },
          "metadata": {},
          "execution_count": 11
        }
      ]
    },
    {
      "cell_type": "code",
      "metadata": {
        "colab": {
          "base_uri": "https://localhost:8080/"
        },
        "id": "q-I9je6Sf7nq",
        "outputId": "e64e7691-8d8e-4229-c166-f6a3b9243092"
      },
      "source": [
        "#See percentages for the A_DTOCC column\n",
        "asec_final['A_DTOCC'].value_counts(ascending=True, normalize=True)"
      ],
      "execution_count": null,
      "outputs": [
        {
          "output_type": "execute_result",
          "data": {
            "text/plain": [
              "18    0.008829\n",
              "5     0.010338\n",
              "7     0.011810\n",
              "6     0.018241\n",
              "4     0.018698\n",
              "9     0.018926\n",
              "12    0.019916\n",
              "15    0.024330\n",
              "20    0.032132\n",
              "11    0.032601\n",
              "3     0.033882\n",
              "14    0.037612\n",
              "13    0.052365\n",
              "21    0.052847\n",
              "2     0.053976\n",
              "19    0.055295\n",
              "8     0.060737\n",
              "10    0.061460\n",
              "22    0.075477\n",
              "16    0.092234\n",
              "17    0.105236\n",
              "1     0.123059\n",
              "Name: A_DTOCC, dtype: float64"
            ]
          },
          "metadata": {},
          "execution_count": 12
        }
      ]
    },
    {
      "cell_type": "markdown",
      "metadata": {
        "id": "x7MXewkff-Ep"
      },
      "source": [
        "##Plots"
      ]
    },
    {
      "cell_type": "markdown",
      "metadata": {
        "id": "bZV-8fWrgCCS"
      },
      "source": [
        "###Correlation\n",
        "Correlation is only appropriate for continuous variables, so we'll create a subset of variables to evaluate using this method. "
      ]
    },
    {
      "cell_type": "code",
      "metadata": {
        "colab": {
          "base_uri": "https://localhost:8080/",
          "height": 460
        },
        "id": "SSjZZbeSgBos",
        "outputId": "68738d2a-0b87-412b-e47f-7034864057e8"
      },
      "source": [
        "# Correlation plot\n",
        "correlation_df = asec_final.filter(items=['A_GRSWK', 'HRSWK', 'PEARNVAL'], axis=1)\n",
        "\n",
        "plt.figure(figsize=(30,15))\n",
        "correlation_matrix = correlation_df.corr().round(2)\n",
        "sns.heatmap(data=correlation_matrix, annot=True, cmap='Blues')"
      ],
      "execution_count": null,
      "outputs": [
        {
          "output_type": "execute_result",
          "data": {
            "text/plain": [
              "<matplotlib.axes._subplots.AxesSubplot at 0x7f0847dd9810>"
            ]
          },
          "metadata": {},
          "execution_count": 13
        },
        {
          "output_type": "display_data",
          "data": {
            "image/png": "[encoded data removed]",
            "text/plain": [
              "<Figure size 2160x1080 with 2 Axes>"
            ]
          },
          "metadata": {
            "needs_background": "light"
          }
        }
      ]
    },
    {
      "cell_type": "code",
      "metadata": {
        "colab": {
          "base_uri": "https://localhost:8080/"
        },
        "id": "vgitj4SfgHeK",
        "outputId": "e5b5e40d-2f69-47f7-9b95-832636915580"
      },
      "source": [
        "# Numerically looking at the correlations\n",
        "corrs = correlation_df.corr().round(2).unstack().abs()\n",
        "corrs = corrs[corrs < 1]\n",
        "corrs.sort_values(ascending = False)"
      ],
      "execution_count": null,
      "outputs": [
        {
          "output_type": "execute_result",
          "data": {
            "text/plain": [
              "PEARNVAL  HRSWK       0.31\n",
              "HRSWK     PEARNVAL    0.31\n",
              "PEARNVAL  A_GRSWK     0.12\n",
              "A_GRSWK   PEARNVAL    0.12\n",
              "HRSWK     A_GRSWK     0.10\n",
              "A_GRSWK   HRSWK       0.10\n",
              "dtype: float64"
            ]
          },
          "metadata": {},
          "execution_count": 14
        }
      ]
    },
    {
      "cell_type": "markdown",
      "metadata": {
        "id": "8M0Cnp2VgJTl"
      },
      "source": [
        "None of these predictors appear to be highly correlated."
      ]
    },
    {
      "cell_type": "markdown",
      "metadata": {
        "id": "DRt-nXDKgMFe"
      },
      "source": [
        "###Boxplots\n",
        "We use boxplots to visualize the categorical variabe of occupational code against several continuous variables, including weekly earnings, total person's earnings, and weekly hours."
      ]
    },
    {
      "cell_type": "code",
      "metadata": {
        "colab": {
          "base_uri": "https://localhost:8080/",
          "height": 807
        },
        "id": "4IlPgRnZgWGO",
        "outputId": "2b0adb35-7b68-4ebc-d5e7-02820aa81de7"
      },
      "source": [
        "sns.catplot(x=\"A_DTOCC\", y=\"HRSWK\", kind=\"box\", data=asec_final, height=13)\n",
        "plt.title('Weekly Hours Worked vs Coded Occupation')"
      ],
      "execution_count": null,
      "outputs": [
        {
          "output_type": "execute_result",
          "data": {
            "text/plain": [
              "Text(0.5, 1.0, 'Weekly Hours Worked vs Coded Occupation')"
            ]
          },
          "metadata": {},
          "execution_count": 15
        },
        {
          "output_type": "display_data",
          "data": {
            "image/png": "[encoded data removed]",
            "text/plain": [
              "<Figure size 936x936 with 1 Axes>"
            ]
          },
          "metadata": {
            "needs_background": "light"
          }
        }
      ]
    },
    {
      "cell_type": "markdown",
      "metadata": {
        "id": "zme17FuhgpqF"
      },
      "source": [
        "##Reflection\n",
        "The data are not normally distributed, but do show some interesting trends between our variables of interest (sex, occupational group, race, hours worked, etc). Depending on the model implemented, we may need to return to EDA to explicitly check assumptions for the model."
      ]
    },
    {
      "cell_type": "markdown",
      "metadata": {
        "id": "MK6RwwzNampl"
      },
      "source": [
        "# Data Processing / Models\n"
      ]
    },
    {
      "cell_type": "markdown",
      "metadata": {
        "id": "SyCuxTz7254I"
      },
      "source": [
        "##Pre-processing: Balancing Classes\n",
        "Because we're interested in predicting the occupation code of an individual based on their demographic data, it will be important to ensure all of our classes have equal representation in our training model. As it stands, our classes 1-22 range from a minimum of 871 observations (class 18) to a maximum of 10239 (class 1). To balance these classes, we'll randomly undersample all classes besides our minimum class. Depending on how well our model performs with the undersampled data, this method may need to be re-visited."
      ]
    },
    {
      "cell_type": "code",
      "metadata": {
        "id": "wJvyKIqoM7Hd"
      },
      "source": [
        "# TODO: combine occupation codes that have low percentages to see if this improves model performance\n",
        "# def createOtherOccupation(value):\n",
        "#   if value == 7:\n",
        "#     return 2\n",
        "#   elif value == 23:\n",
        "#     return 5\n",
        "#   elif value == 1 or value == 21:\n",
        "#     return 99\n",
        "#   else:\n",
        "#     return value\n",
        "\n",
        "# asec_oes_final['NEW_OCC'] = asec_oes_final.apply(lambda x: createOtherOccupation(x['A_DTOCC']), axis=1)"
      ],
      "execution_count": null,
      "outputs": []
    },
    {
      "cell_type": "code",
      "metadata": {
        "id": "JpWzcYqzudvB"
      },
      "source": [
        "# Separating data into X and y data sets for applying models\n",
        "family_cols = ['FINC_FR','FINC_SE','FINC_WS','FINC_CSP','FINC_DIS','FINC_DIV','FINC_RNT',\n",
        "               'FINC_ED','FINC_SS','FINC_SSI','FINC_FIN','FINC_SUR','FINC_INT','FINC_UC',\n",
        "               'FINC_OI','FINC_VET','FINC_PAW','FINC_WC']\n",
        "other_cols = ['A_DTOCC', 'OCCUP', 'A_MJOCC', 'WEIND']\n",
        "X = asec_final.drop(other_cols + family_cols, axis = 1).copy()\n",
        "y = asec_final['A_DTOCC'].copy()"
      ],
      "execution_count": null,
      "outputs": []
    },
    {
      "cell_type": "markdown",
      "metadata": {
        "id": "K6Ip-BSPuVaO"
      },
      "source": [
        "## Random Forest - Amy\n",
        "\n",
        "[SK Learn Documentation](https://scikit-learn.org/stable/modules/generated/sklearn.ensemble.RandomForestClassifier.html)"
      ]
    },
    {
      "cell_type": "code",
      "metadata": {
        "id": "r8ewqPMRumYD"
      },
      "source": [
        "# TODO: We should change max depth for this and test again.\n",
        "# Cross validation using oversampled data\n",
        "# Creating a model and cross validating over it multiple times to see how many forest will be best to use\n",
        "# num_trees = range(10,51,10)\n",
        "# cv_loops = 5\n",
        "# results = np.zeros(len(num_trees))\n",
        "\n",
        "# for n, trees in enumerate(num_trees):\n",
        "#   accuracy_cv = np.zeros(cv_loops)\n",
        "#   for i in range(cv_loops):\n",
        "#     X_train, X_test, y_train, y_test = train_test_split(X, y, test_size=0.20)\n",
        "#     X_train_over, y_train_over = ros.fit_resample(X_train, y_train)\n",
        "#     X_train_over_df = pd.DataFrame(X_train_over, columns=X_train.columns, dtype=float)\n",
        "\n",
        "#     rfModel = RandomForestClassifier(n_estimators=trees, random_state=0)\n",
        "#     rfModel.fit(X_train_over_df, y_train_over)\n",
        "#     y_pred_rf = rfModel.predict(X_test)\n",
        "\n",
        "#     accuracy_cv[i] = accuracy_score(y_pred_rf, y_test)\n",
        "\n",
        "#   # Record average accuracy so we can then get the optimal one\n",
        "#   results[n] = accuracy_cv.mean().round(3)\n",
        "\n",
        "# # Print result so we can see which tree count provided best RMSE\n",
        "# print(f\"CV Accuracy by Tree Count:\\n\")\n",
        "# for n, trees in enumerate(num_trees):\n",
        "#   print(f'Trees={num_trees[n]} | Accuracy={accuracy_cv[n]}')\n",
        "#   if accuracy_cv[n] == accuracy_cv.min():\n",
        "#     optimal_trees = num_trees[n]\n",
        "#     optimal_accuracy = accuracy_cv[n]\n",
        "#     print(f'Optimal Trees={optimal_trees}')"
      ],
      "execution_count": null,
      "outputs": []
    },
    {
      "cell_type": "code",
      "metadata": {
        "id": "c3QcwX0yuqyg"
      },
      "source": [
        "# TODO: Do we rerun this using only one loop\n",
        "# Re-running the RF model with the suggest number of trees\n",
        "# numLoops = 5\n",
        "\n",
        "# result = np.zeros(numLoops)\n",
        "\n",
        "# for idx in range(0,numLoops):\n",
        "#   X_train, X_test, y_train, y_test = train_test_split(rfc_X,rfc_y,test_size=0.2)\n",
        "#   model = RandomForestClassifier(n_estimators = optimal_trees, random_state=0) \n",
        "#   model.fit(X_train,y_train)\n",
        "#   y_pred_rf = model.predict(X_test)\n",
        "\n",
        "#   predictions = [round(value) for value in y_pred_rf]\n",
        "#   accuracy = accuracy_score(y_test, predictions)\n",
        "#   accuracy_cv[i] = accuracy\n",
        "# print(accuracy_cv.mean())"
      ],
      "execution_count": null,
      "outputs": []
    },
    {
      "cell_type": "code",
      "metadata": {
        "id": "N1DnbBJsuogR"
      },
      "source": [
        "#Confusion matrix for random forest results\n",
        "# plt.figure(figsize=(14,36))\n",
        "# mat = metrics.confusion_matrix(y_test,y_pred_rf)\n",
        "# sns.heatmap(mat.T, square=True, annot=True, fmt='d', cbar=False,\n",
        "#             xticklabels=range(1,23), yticklabels=range(1,23))\n",
        "# plt.xlabel('Known')\n",
        "# plt.ylabel('Predicted');"
      ],
      "execution_count": null,
      "outputs": []
    },
    {
      "cell_type": "code",
      "metadata": {
        "id": "M3kdNO8vMIly"
      },
      "source": [
        "# Classification report for random forest results.\n",
        "# labels = list(map(str, range(1,23)))\n",
        "# classification_result = classification_report(y_test, y_pred_rf, target_names=labels)\n",
        "# print(classification_result)"
      ],
      "execution_count": null,
      "outputs": []
    },
    {
      "cell_type": "code",
      "metadata": {
        "id": "onFyHjjhutVI"
      },
      "source": [
        "# Visualization for the Random Forest\n",
        "# display(graphviz.Source(tree.export_graphviz(rfModel.estimators_[0], feature_names=X.columns)))"
      ],
      "execution_count": null,
      "outputs": []
    },
    {
      "cell_type": "code",
      "metadata": {
        "id": "W89bcIB1uvKM"
      },
      "source": [
        "# importances = rfModel.feature_importances_\n",
        "# forest_importances = pd.Series(importances, index=X_train.columns)\n",
        "\n",
        "# plt.figure()\n",
        "# forest_importances.plot.bar()\n",
        "# plt.ylabel(\"Feature Importance Score\")"
      ],
      "execution_count": null,
      "outputs": []
    },
    {
      "cell_type": "markdown",
      "metadata": {
        "id": "_EE_HuB6ukGJ"
      },
      "source": [
        "## XG Boost - Ellie/Cecilia\n",
        "\n",
        "[XG Boost Documentation](https://xgboost.readthedocs.io/en/stable/tutorials/index.html)\n",
        "\n",
        "[Grid Search CV documentation](https://scikit-learn.org/stable/modules/generated/sklearn.model_selection.GridSearchCV.html)\n",
        "\n",
        "[Class notebook on XG Boost](https://colab.research.google.com/drive/1q1xJOKgVCM-BYfrarCdk4EgE42ZUdVEO)\n",
        "\n",
        "[Class lecture on XG Boost](https://docs.google.com/presentation/d/1rEi9AKVslEAzyskRPbKWRfGikhcfFfmU/edit#slide=id.p1)\n",
        "\n"
      ]
    },
    {
      "cell_type": "code",
      "metadata": {
        "id": "GEvgY4QZvsV7"
      },
      "source": [
        "#Convert evenly sampled array to df\n",
        "# xgb_df = pd.DataFrame(X_oversampled, columns=asec_final.columns, dtype=float)\n",
        "\n",
        "# #Drop unneeded columns\n",
        "# xgb_df.drop(['OCCUP'], axis=1, inplace=True)\n",
        "\n",
        "# #Define data and target sets\n",
        "# X_xgb = xgb_df.copy()\n",
        "# Y_xgb = xgb_df['A_DTOCC']\n",
        "\n",
        "# #Drop target variable from dataset\n",
        "# X_xgb.drop(['A_DTOCC', 'A_MJOCC'], axis=1, inplace=True)\n",
        "\n",
        "# #Initialize model\n",
        "# numLoops = 1\n",
        "# mse_xgb  = np.zeros(numLoops)\n",
        "\n",
        "# for idx in range(0,numLoops):\n",
        "#   X_train_xgb, X_test_xgb, y_train_xgb, y_test_xgb = train_test_split(X_xgb,Y_xgb,test_size=0.15)\n",
        "#   xgbc = xgb.XGBClassifier(objective ='multi:softmax', verbosity=0, seed = 10)\n",
        "#   xgbc.fit(X_train_xgb,y_train_xgb)\n",
        "#   y_pred_xgb = xgbc.predict(X_test_xgb)\n",
        "\n",
        "# #Confusion matrix for XGB results\n",
        "# plt.figure(figsize=(14,36))\n",
        "# mat = metrics.confusion_matrix(y_test_xgb,y_pred_xgb)\n",
        "# sns.heatmap(mat.T, square=True, annot=True, fmt='d', cbar=False,\n",
        "#             xticklabels=range(1,23), yticklabels=range(1,23))\n",
        "# plt.xlabel('true label')\n",
        "# plt.ylabel('predicted label');"
      ],
      "execution_count": null,
      "outputs": []
    },
    {
      "cell_type": "code",
      "metadata": {
        "id": "HGRYJ8caJ39Q"
      },
      "source": [
        "# Classification Report for XG Boost\n",
        "# labels = list(map(str, range(1,23)))\n",
        "# classification_result = classification_report(y_test_xgb, y_pred_xgb, target_names=labels)\n",
        "# print(classification_result)"
      ],
      "execution_count": null,
      "outputs": []
    },
    {
      "cell_type": "code",
      "metadata": {
        "id": "CGDJNycV_1xm"
      },
      "source": [
        "#NOTE: Not working, ran for 18 minutes then failed. Too large of a dataset?\n",
        "\n",
        "#XGB testing parameters\n",
        "# param_test = {\n",
        "#  'max_depth':[3,4,5,6,7],\n",
        "#  'learning_rate' : [0.1, 0.2, 0.3, 0.4], \n",
        "#  'n_estimators': [20,40,60,80,100,120,140],\n",
        "# }\n",
        "\n",
        "# # Perform the grid search\n",
        "# gsearch = GridSearchCV(estimator = xgb.XGBClassifier(objective = 'multi:softmax', seed = 10), \n",
        "#  param_grid = param_test, scoring='accuracy', cv=5)\n",
        "\n",
        "# # Fit to training data \n",
        "# X_train, X_test, y_train, y_test = train_test_split(X_xgb,Y_xgb,test_size=0.05)\n",
        "# model = gsearch.fit(X_train,y_train)\n",
        "\n",
        "# # See grid search results\n",
        "# print(model.best_params_)"
      ],
      "execution_count": null,
      "outputs": []
    },
    {
      "cell_type": "markdown",
      "metadata": {
        "id": "Md1DnQZTN6gA"
      },
      "source": [
        "I'm wondering if one way to address the model's poor accuracy for some classes is to remove some of the advanced occupation codes. Perhaps we could try the model again after removing class 5 (Life, physical, and social science occupations)?"
      ]
    },
    {
      "cell_type": "code",
      "metadata": {
        "id": "M_2_mIOiN99p"
      },
      "source": [
        "#Determine feature importance\n",
        "\n",
        "# feat_imp = pd.Series(xgbc.feature_importances_, index=X_xgb.columns)\n",
        "# plt.figure(figsize = (10,6))\n",
        "# ax = sns.barplot(x = feat_imp.index, y = feat_imp.values)\n",
        "# ax.set_xticklabels(ax.get_xticklabels(),rotation = 90)\n",
        "# plt.xlabel('Feature')\n",
        "# plt.ylabel('Feature Importance Score')"
      ],
      "execution_count": null,
      "outputs": []
    },
    {
      "cell_type": "markdown",
      "metadata": {
        "id": "0cSxlk9NOCcX"
      },
      "source": [
        "Important features include \n",
        "- A_MJOCC : Major occupation recode (this seems like a type of duplicate of our target variable, A_DTCC? Not sure this should be included in our dataset)\n",
        "- WEIND : index of longest job by detailed codes (this also seems like a duplicate, not sure this should be included)\n",
        "- A_HGA : Education Attainment\n",
        "- A_SEX : Sex\n",
        "- HRCHECK : Employed full or part time"
      ]
    },
    {
      "cell_type": "markdown",
      "metadata": {
        "id": "g9_b_cS4YYJt"
      },
      "source": [
        "# Data Processing Using Pipelines - Cecilia\n",
        "\n",
        "Want to use GridSearchCV for hyperparameter optimization. Data did not require imputation because it was already in an encoded/imputed state as provided by the ASEC website.\n",
        "\n",
        "[SK Learn Documentation on Pipelines](https://scikit-learn.org/stable/modules/generated/sklearn.pipeline.Pipeline.html)\n",
        "\n",
        "[Class notes on Pipelines](https://colab.research.google.com/drive/15k8pO0FZrEnkgAN8Zxc8E_21TT5sjsxl)\n"
      ]
    },
    {
      "cell_type": "code",
      "metadata": {
        "id": "z-fnV2X51Dc5"
      },
      "source": [
        ""
      ],
      "execution_count": null,
      "outputs": []
    },
    {
      "cell_type": "markdown",
      "metadata": {
        "id": "_r2ZQDHy1D8L"
      },
      "source": [
        "## Prevent Google Colab from disconnecting\n",
        "\n",
        "Colab will only run for around 5 minutes during training then disconnects. The following code block in the JavaScript console of the Colab browser window will allow the model to keep running to completion.\n",
        "\n",
        "```\n",
        "function ClickConnect() {\n",
        "  console.log('Working')\n",
        "  document\n",
        "    .querySelector('#top-toolbar > colab-connect-button')\n",
        "    .shadowRoot.querySelector('#connect')\n",
        "    .click()\n",
        "}\n",
        "\n",
        "setInterval(ClickConnect, 60000)\n",
        "```"
      ]
    },
    {
      "cell_type": "markdown",
      "metadata": {
        "id": "2XaugwKobkBi"
      },
      "source": [
        "## Pipeline All Models"
      ]
    },
    {
      "cell_type": "code",
      "metadata": {
        "colab": {
          "base_uri": "https://localhost:8080/"
        },
        "id": "8WucPhq6hCuw",
        "outputId": "fe49756d-a32e-4f27-c755-19f299cbf41a"
      },
      "source": [
        "# Get view of classes so we can pass as parameter to models\n",
        "values, counts = np.unique(y, return_counts=True)\n",
        "class_count = len(values)\n",
        "print(values)\n",
        "print(counts)\n",
        "print(class_count)\n"
      ],
      "execution_count": null,
      "outputs": [
        {
          "output_type": "stream",
          "name": "stdout",
          "text": [
            "[ 1  2  3  4  5  6  7  8  9 10 11 12 13 14 15 16 17 18 19 20 21 22]\n",
            "[9701 4255 2671 1474  815 1438  931 4788 1492 4845 2570 1570 4128 2965\n",
            " 1918 7271 8296  696 4359 2533 4166 5950]\n",
            "22\n"
          ]
        }
      ]
    },
    {
      "cell_type": "code",
      "metadata": {
        "id": "haUuWQkqbjUm",
        "colab": {
          "base_uri": "https://localhost:8080/"
        },
        "outputId": "b00c1063-a06e-4ca9-d347-387c22e32e63"
      },
      "source": [
        "# TODO: if I use gridsearch, can I pass in my oversampled/undersampled dataset?\n",
        "random_seed = 42\n",
        "test_size = 0.15\n",
        "X_train, X_test, y_train, y_test = train_test_split(X, y, test_size=test_size, random_state=random_seed)\n",
        "\n",
        "# TODO: look at using sampling_strategy parameter\n",
        "rus = RandomUnderSampler(random_state=random_seed)\n",
        "ros = RandomOverSampler(random_state=random_seed)\n",
        "dtc = DecisionTreeClassifier(random_state=random_seed)\n",
        "rfc = RandomForestClassifier(random_state=random_seed)\n",
        "xgbc = xgb.XGBClassifier()\n",
        "\n",
        "pipe = Pipeline(steps=[(\"sampler\", rus), (\"classifier\", dtc)])\n",
        "# pipe = Pipeline(steps=[(\"classifier\", dtc)])\n",
        "# pipe = Pipeline(steps=[(\"classifier\", xgbc)])\n",
        "\n",
        "parameters = [\n",
        "  {\n",
        "    \"sampler\": [rus, ros]\n",
        "  },\n",
        "  {\n",
        "    \"classifier\": [dtc],\n",
        "    \"classifier__max_depth\": range(1,10)\n",
        "  },\n",
        "  {\n",
        "    \"classifier\": [rfc],\n",
        "    \"classifier__n_estimators\": range(10,51,10),\n",
        "    \"classifier__max_depth\": range(1,10)\n",
        "  },\n",
        "  {\n",
        "    \"classifier\": [xgbc],\n",
        "    \"classifier__objective\": [\"multi:softmax\"],\n",
        "    \"classifier__verbosity\": [0],\n",
        "    \"classifier__seed\": [10],\n",
        "    \"classifier__learning_rate\": [0.1, 0.2, 0.3, 0.4],\n",
        "    \"classifier__n_estimators\": range(10,41,10),\n",
        "    \"classifier__max_depth\": range(1,8),\n",
        "    \"classifier__num_class\": [class_count]\n",
        "  }\n",
        "]\n",
        "\n",
        "grid = GridSearchCV(estimator=pipe, param_grid=parameters, scoring='accuracy', cv=5, return_train_score=True)\n",
        "grid.fit(X_train, y_train)"
      ],
      "execution_count": null,
      "outputs": [
        {
          "output_type": "execute_result",
          "data": {
            "text/plain": [
              "GridSearchCV(cv=5,\n",
              "             estimator=Pipeline(steps=[('sampler',\n",
              "                                        RandomUnderSampler(random_state=42)),\n",
              "                                       ('classifier',\n",
              "                                        DecisionTreeClassifier(random_state=42))]),\n",
              "             param_grid=[{'sampler': [RandomUnderSampler(random_state=42),\n",
              "                                      RandomOverSampler(random_state=42)]},\n",
              "                         {'classifier': [DecisionTreeClassifier(random_state=42)],\n",
              "                          'classifier__max_depth': range(1, 10)},\n",
              "                         {'classifie...\n",
              "                                                       num_class=22,\n",
              "                                                       objective='multi:softmax',\n",
              "                                                       seed=10, verbosity=0)],\n",
              "                          'classifier__learning_rate': [0.1, 0.2, 0.3, 0.4],\n",
              "                          'classifier__max_depth': range(1, 8),\n",
              "                          'classifier__n_estimators': range(10, 41, 10),\n",
              "                          'classifier__num_class': [22],\n",
              "                          'classifier__objective': ['multi:softmax'],\n",
              "                          'classifier__seed': [10],\n",
              "                          'classifier__verbosity': [0]}],\n",
              "             return_train_score=True, scoring='accuracy')"
            ]
          },
          "metadata": {},
          "execution_count": 36
        }
      ]
    },
    {
      "cell_type": "code",
      "metadata": {
        "id": "xR6l3N2JZNOx"
      },
      "source": [
        "grid.best_score_"
      ],
      "execution_count": null,
      "outputs": []
    },
    {
      "cell_type": "code",
      "metadata": {
        "id": "hXDCl03TZZkO"
      },
      "source": [
        "grid.best_estimator_"
      ],
      "execution_count": null,
      "outputs": []
    },
    {
      "cell_type": "code",
      "metadata": {
        "id": "pdqaimymZo04"
      },
      "source": [
        "grid.best_params_"
      ],
      "execution_count": null,
      "outputs": []
    },
    {
      "cell_type": "code",
      "metadata": {
        "id": "wt-osDgKZ0eM"
      },
      "source": [
        "# grid.cv_results_"
      ],
      "execution_count": null,
      "outputs": []
    }
  ]
}