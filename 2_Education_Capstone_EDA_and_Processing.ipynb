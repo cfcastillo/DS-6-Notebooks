{
  "nbformat": 4,
  "nbformat_minor": 0,
  "metadata": {
    "colab": {
      "name": "2. Education Capstone - EDA and Processing.ipynb",
      "provenance": [],
      "collapsed_sections": [],
      "toc_visible": true,
      "include_colab_link": true
    },
    "kernelspec": {
      "display_name": "Python 3",
      "name": "python3"
    },
    "language_info": {
      "name": "python"
    },
    "accelerator": "GPU"
  },
  "cells": [
    {
      "cell_type": "markdown",
      "metadata": {
        "id": "view-in-github",
        "colab_type": "text"
      },
      "source": [
        "<a href=\"https://colab.research.google.com/github/cfcastillo/DS-6-Notebooks/blob/main/2_Education_Capstone_EDA_and_Processing.ipynb\" target=\"_parent\"><img src=\"https://colab.research.google.com/assets/colab-badge.svg\" alt=\"Open In Colab\"/></a>"
      ]
    },
    {
      "cell_type": "markdown",
      "metadata": {
        "id": "BO6cDiaVzYbK"
      },
      "source": [
        "# Project Definition\n",
        "\n",
        "The purpose of this project is to identify what factors influence people to choose certain professions or trades. In understanding these factors, we can help colleges like Central New Mexico College (CNM) offer courses that support those professions and better target their marketing to people who are likely to choose those professions.\n",
        "\n",
        "This project will be a supervised categorization problem using tree-based models to identify the factors that will contribute to career choice.\n",
        "\n"
      ]
    },
    {
      "cell_type": "markdown",
      "metadata": {
        "id": "knrUtTwEztGp"
      },
      "source": [
        "# References\n",
        "\n",
        "[Oversampling and Undersampling](https://machinelearningmastery.com/combine-oversampling-and-undersampling-for-imbalanced-classification/)"
      ]
    },
    {
      "cell_type": "markdown",
      "metadata": {
        "id": "Kmxlgo4Wnjgd"
      },
      "source": [
        "# Data Collection and Cleaning\n",
        "\n",
        "The data collection and cleaning process is outlined in the notebook titled [1. Education Capstone - Data Collection and Cleaning.ipynb](https://colab.research.google.com/drive/1Y_1b7BmiRF6CSYnoiZqGpfjpbzU4qoFe#scrollTo=Kmxlgo4Wnjgd)\n"
      ]
    },
    {
      "cell_type": "markdown",
      "metadata": {
        "id": "lphrFeEB09dJ"
      },
      "source": [
        "## Column Descriptions\n",
        "\n",
        "[Here is a summary document showing selected columns.](https://docs.google.com/document/d/1io7TtqebJLtw6FKE7zkbUh26QkG3rEJrZX3Fver9zmU/edit)"
      ]
    },
    {
      "cell_type": "markdown",
      "metadata": {
        "id": "fnEPX1rJ0rIu"
      },
      "source": [
        "# Imports"
      ]
    },
    {
      "cell_type": "code",
      "metadata": {
        "id": "QfQPgzzSer2x"
      },
      "source": [
        "# grab the imports needed for the project\n",
        "import pandas as pd\n",
        "import matplotlib.pyplot as plt\n",
        "import numpy as np\n",
        "import seaborn as sns\n",
        "# import statsmodels.api as sm\n",
        "\n",
        "from sklearn import metrics\n",
        "from sklearn.metrics import classification_report\n",
        "# import sklearn.model_selection as model_selection\n",
        "# from collections import Counter\n",
        "from imblearn.over_sampling import RandomOverSampler\n",
        "from imblearn.under_sampling import RandomUnderSampler\n",
        "# from mlxtend.plotting import plot_decision_regions\n",
        "\n",
        "from sklearn.tree import DecisionTreeClassifier\n",
        "from sklearn.ensemble import RandomForestClassifier\n",
        "import xgboost as xgb\n",
        "from sklearn.model_selection import GridSearchCV\n",
        "from sklearn.model_selection import train_test_split\n",
        "from sklearn.metrics import accuracy_score\n",
        "\n",
        "# Visualization\n",
        "import graphviz\n",
        "# from IPython.display import display\n",
        "# from sklearn import tree\n",
        "# import plotly.express as px\n",
        "# from ipywidgets import interact, Dropdown\n",
        "\n",
        "# Other\n",
        "# from sklearn.pipeline import Pipeline # Breaks if you use with over/under samplers\n",
        "from imblearn.pipeline import Pipeline  # Need this pipeline to use over/under samplers"
      ],
      "execution_count": 1,
      "outputs": []
    },
    {
      "cell_type": "markdown",
      "metadata": {
        "id": "PRkEJT36ag8H"
      },
      "source": [
        "# Exploratory Data Analysis (EDA)\n",
        "\n",
        "In our EDA, we will first filter our data to focus in on our features of interest and prepare our data for analysis. Then we will generate summary statistics to identify anomalies and visualize our data to better understand our variables and the relationships between them. Finally, we will reflect on the analysis and determine next steps."
      ]
    },
    {
      "cell_type": "markdown",
      "metadata": {
        "id": "_OHnbl6ffbM6"
      },
      "source": [
        "##Import and filter data\n",
        "\n",
        "We'll first import our clean dataset. We'll also be dropping some observations, such as those employed in the armed forces, who don't have enough observations to support significant analysis. "
      ]
    },
    {
      "cell_type": "code",
      "metadata": {
        "colab": {
          "base_uri": "https://localhost:8080/"
        },
        "id": "zN5qu2I-HlKA",
        "outputId": "b331f591-3f39-46b9-9085-6f2b16d281dd"
      },
      "source": [
        "from google.colab import drive\n",
        "drive.mount('/content/drive')"
      ],
      "execution_count": 2,
      "outputs": [
        {
          "output_type": "stream",
          "name": "stdout",
          "text": [
            "Mounted at /content/drive\n"
          ]
        }
      ]
    },
    {
      "cell_type": "markdown",
      "metadata": {
        "id": "v6Zkn805hLbk"
      },
      "source": [
        "The team had different data links. The global here is to allow team members to specify who is working on this notebook so that they can run the code in their environment."
      ]
    },
    {
      "cell_type": "code",
      "metadata": {
        "id": "ErVqm8idhfdd"
      },
      "source": [
        "# Expected values are: ellie, amy, cecilia - lowercase\n",
        "team_member = 'cecilia'\n",
        "\n",
        "# Root drive path\n",
        "if team_member in ['amy','ellie']:\n",
        "  root_drive = '/content/drive/MyDrive/'\n",
        "else: # Cecilia\n",
        "  root_drive = '/content/drive/MyDrive/Student Folder - Cecilia/Projects/'"
      ],
      "execution_count": 3,
      "outputs": []
    },
    {
      "cell_type": "code",
      "metadata": {
        "id": "5iSbX2Kjffuk"
      },
      "source": [
        "#Import final data\n",
        "asec_final = pd.read_csv(root_drive + 'Capstone/Data/FinalData/Trends/asec_2019_trend_v4.csv')"
      ],
      "execution_count": 49,
      "outputs": []
    },
    {
      "cell_type": "code",
      "metadata": {
        "colab": {
          "base_uri": "https://localhost:8080/"
        },
        "id": "vHcTHj38a53f",
        "outputId": "f255ed57-7d11-4e46-f252-c37bb5b7717b"
      },
      "source": [
        "asec_final.shape"
      ],
      "execution_count": 50,
      "outputs": [
        {
          "output_type": "execute_result",
          "data": {
            "text/plain": [
              "(141251, 49)"
            ]
          },
          "metadata": {},
          "execution_count": 50
        }
      ]
    },
    {
      "cell_type": "markdown",
      "metadata": {
        "id": "LVBw_Kl5HbaK"
      },
      "source": [
        "## Additional Data Cleaning\n",
        "\n",
        "In order to more balance the data, certain predictor values were dropped.\n",
        "\n",
        "- A_CLSWKR = 0 or 8 - remove people who have never worked or those who are not in worker universe (i.e. in military, children)"
      ]
    },
    {
      "cell_type": "code",
      "metadata": {
        "id": "3tnkBExrH2Nm"
      },
      "source": [
        "#Drop 'Unnamed: 0' column\n",
        "asec_final.drop('Unnamed: 0', axis=1, inplace=True)\n",
        "\n",
        "# drop specified class of worker\n",
        "wkr = [0,8]\n",
        "asec_final.drop(asec_final[asec_final.A_CLSWKR.isin(wkr)].index, inplace=True)"
      ],
      "execution_count": 51,
      "outputs": []
    },
    {
      "cell_type": "code",
      "metadata": {
        "colab": {
          "base_uri": "https://localhost:8080/"
        },
        "id": "gSAuRedQa8ay",
        "outputId": "847e4e17-70ce-414f-f505-a631703219d8"
      },
      "source": [
        "asec_final.shape"
      ],
      "execution_count": 52,
      "outputs": [
        {
          "output_type": "execute_result",
          "data": {
            "text/plain": [
              "(88453, 48)"
            ]
          },
          "metadata": {},
          "execution_count": 52
        }
      ]
    },
    {
      "cell_type": "code",
      "metadata": {
        "id": "jQCTvobUZY25"
      },
      "source": [
        "# Balance the data by removing low occupation code counts. Data will then be over and undersampled\n",
        "# as part of the modeling process.\n",
        "which_target = 'A_DTOCC'\n",
        "threshold = 2000\n",
        "\n",
        "# get list of target values\n",
        "occ_freq = asec_final[which_target].value_counts(ascending=False)\n",
        "# drop certain occupational codes falling below specified threshold\n",
        "df = pd.DataFrame(occ_freq)\n",
        "occ_to_drop = df[df[which_target] < threshold].index\n",
        "asec_final.drop(asec_final[asec_final[which_target].isin(occ_to_drop)].index, inplace=True)"
      ],
      "execution_count": 53,
      "outputs": []
    },
    {
      "cell_type": "markdown",
      "metadata": {
        "id": "7MtbC87dfhse"
      },
      "source": [
        "## Understand our Data\n",
        "To better understand our data we'll look at the general shape, values, and summarys statistics of the dataset."
      ]
    },
    {
      "cell_type": "code",
      "metadata": {
        "colab": {
          "base_uri": "https://localhost:8080/"
        },
        "id": "tnNx2hBWfnwd",
        "outputId": "1a307c9f-13da-419b-c87e-16f3cb5196d5"
      },
      "source": [
        "#Get dimensions of datset\n",
        "asec_final.shape"
      ],
      "execution_count": 54,
      "outputs": [
        {
          "output_type": "execute_result",
          "data": {
            "text/plain": [
              "(78883, 48)"
            ]
          },
          "metadata": {},
          "execution_count": 54
        }
      ]
    },
    {
      "cell_type": "code",
      "metadata": {
        "colab": {
          "base_uri": "https://localhost:8080/",
          "height": 226
        },
        "id": "VqTpEPmmfp5g",
        "outputId": "607ca40f-35b5-43d2-c279-84014785a15f"
      },
      "source": [
        "#Look at the first five rows\n",
        "asec_final.head()"
      ],
      "execution_count": 42,
      "outputs": [
        {
          "output_type": "execute_result",
          "data": {
            "text/html": [
              "<div>\n",
              "<style scoped>\n",
              "    .dataframe tbody tr th:only-of-type {\n",
              "        vertical-align: middle;\n",
              "    }\n",
              "\n",
              "    .dataframe tbody tr th {\n",
              "        vertical-align: top;\n",
              "    }\n",
              "\n",
              "    .dataframe thead th {\n",
              "        text-align: right;\n",
              "    }\n",
              "</style>\n",
              "<table border=\"1\" class=\"dataframe\">\n",
              "  <thead>\n",
              "    <tr style=\"text-align: right;\">\n",
              "      <th></th>\n",
              "      <th>DATA_YEAR</th>\n",
              "      <th>GTMETSTA</th>\n",
              "      <th>GEDIV</th>\n",
              "      <th>GESTFIPS</th>\n",
              "      <th>HHINC</th>\n",
              "      <th>H_TENURE</th>\n",
              "      <th>H_LIVQRT</th>\n",
              "      <th>OCCUP</th>\n",
              "      <th>POCCU2</th>\n",
              "      <th>A_MJOCC</th>\n",
              "      <th>A_DTOCC</th>\n",
              "      <th>AGE1</th>\n",
              "      <th>A_SEX</th>\n",
              "      <th>PRDTRACE</th>\n",
              "      <th>PXRACE1</th>\n",
              "      <th>PRCITSHP</th>\n",
              "      <th>A_HGA</th>\n",
              "      <th>PRERELG</th>\n",
              "      <th>A_GRSWK</th>\n",
              "      <th>HRCHECK</th>\n",
              "      <th>HRSWK</th>\n",
              "      <th>PEARNVAL</th>\n",
              "      <th>A_CLSWKR</th>\n",
              "      <th>WEIND</th>\n",
              "      <th>A_MARITL</th>\n",
              "      <th>A_HSCOL</th>\n",
              "      <th>A_WKSTAT</th>\n",
              "      <th>HEA</th>\n",
              "      <th>PEINUSYR</th>\n",
              "      <th>A_AGE</th>\n",
              "      <th>FINC_FR</th>\n",
              "      <th>FINC_SE</th>\n",
              "      <th>FINC_WS</th>\n",
              "      <th>FINC_CSP</th>\n",
              "      <th>FINC_DIS</th>\n",
              "      <th>FINC_DIV</th>\n",
              "      <th>FINC_RNT</th>\n",
              "      <th>FINC_ED</th>\n",
              "      <th>FINC_SS</th>\n",
              "      <th>FINC_SSI</th>\n",
              "      <th>FINC_FIN</th>\n",
              "      <th>FINC_SUR</th>\n",
              "      <th>FINC_INT</th>\n",
              "      <th>FINC_UC</th>\n",
              "      <th>FINC_OI</th>\n",
              "      <th>FINC_VET</th>\n",
              "      <th>FINC_PAW</th>\n",
              "      <th>FINC_WC</th>\n",
              "    </tr>\n",
              "  </thead>\n",
              "  <tbody>\n",
              "    <tr>\n",
              "      <th>0</th>\n",
              "      <td>2019</td>\n",
              "      <td>2</td>\n",
              "      <td>1</td>\n",
              "      <td>23</td>\n",
              "      <td>8</td>\n",
              "      <td>1</td>\n",
              "      <td>5</td>\n",
              "      <td>4050</td>\n",
              "      <td>33</td>\n",
              "      <td>3</td>\n",
              "      <td>13</td>\n",
              "      <td>4</td>\n",
              "      <td>1</td>\n",
              "      <td>1</td>\n",
              "      <td>0</td>\n",
              "      <td>1</td>\n",
              "      <td>37</td>\n",
              "      <td>0</td>\n",
              "      <td>0</td>\n",
              "      <td>1</td>\n",
              "      <td>30</td>\n",
              "      <td>18000</td>\n",
              "      <td>1</td>\n",
              "      <td>18</td>\n",
              "      <td>7</td>\n",
              "      <td>0</td>\n",
              "      <td>4</td>\n",
              "      <td>3</td>\n",
              "      <td>0</td>\n",
              "      <td>21</td>\n",
              "      <td>2</td>\n",
              "      <td>2</td>\n",
              "      <td>1</td>\n",
              "      <td>2</td>\n",
              "      <td>2</td>\n",
              "      <td>2</td>\n",
              "      <td>2</td>\n",
              "      <td>2</td>\n",
              "      <td>2</td>\n",
              "      <td>2</td>\n",
              "      <td>2</td>\n",
              "      <td>2</td>\n",
              "      <td>2</td>\n",
              "      <td>2</td>\n",
              "      <td>2</td>\n",
              "      <td>2</td>\n",
              "      <td>2</td>\n",
              "      <td>2</td>\n",
              "    </tr>\n",
              "    <tr>\n",
              "      <th>2</th>\n",
              "      <td>2019</td>\n",
              "      <td>2</td>\n",
              "      <td>1</td>\n",
              "      <td>23</td>\n",
              "      <td>5</td>\n",
              "      <td>2</td>\n",
              "      <td>1</td>\n",
              "      <td>4020</td>\n",
              "      <td>32</td>\n",
              "      <td>3</td>\n",
              "      <td>13</td>\n",
              "      <td>13</td>\n",
              "      <td>2</td>\n",
              "      <td>1</td>\n",
              "      <td>0</td>\n",
              "      <td>1</td>\n",
              "      <td>39</td>\n",
              "      <td>0</td>\n",
              "      <td>0</td>\n",
              "      <td>2</td>\n",
              "      <td>44</td>\n",
              "      <td>12000</td>\n",
              "      <td>1</td>\n",
              "      <td>18</td>\n",
              "      <td>7</td>\n",
              "      <td>0</td>\n",
              "      <td>2</td>\n",
              "      <td>3</td>\n",
              "      <td>0</td>\n",
              "      <td>61</td>\n",
              "      <td>2</td>\n",
              "      <td>2</td>\n",
              "      <td>1</td>\n",
              "      <td>2</td>\n",
              "      <td>2</td>\n",
              "      <td>2</td>\n",
              "      <td>2</td>\n",
              "      <td>2</td>\n",
              "      <td>2</td>\n",
              "      <td>2</td>\n",
              "      <td>2</td>\n",
              "      <td>2</td>\n",
              "      <td>2</td>\n",
              "      <td>2</td>\n",
              "      <td>2</td>\n",
              "      <td>2</td>\n",
              "      <td>2</td>\n",
              "      <td>2</td>\n",
              "    </tr>\n",
              "    <tr>\n",
              "      <th>4</th>\n",
              "      <td>2019</td>\n",
              "      <td>2</td>\n",
              "      <td>1</td>\n",
              "      <td>23</td>\n",
              "      <td>10</td>\n",
              "      <td>2</td>\n",
              "      <td>1</td>\n",
              "      <td>4610</td>\n",
              "      <td>37</td>\n",
              "      <td>3</td>\n",
              "      <td>15</td>\n",
              "      <td>8</td>\n",
              "      <td>1</td>\n",
              "      <td>1</td>\n",
              "      <td>0</td>\n",
              "      <td>1</td>\n",
              "      <td>39</td>\n",
              "      <td>0</td>\n",
              "      <td>0</td>\n",
              "      <td>1</td>\n",
              "      <td>20</td>\n",
              "      <td>12000</td>\n",
              "      <td>1</td>\n",
              "      <td>16</td>\n",
              "      <td>7</td>\n",
              "      <td>0</td>\n",
              "      <td>4</td>\n",
              "      <td>3</td>\n",
              "      <td>0</td>\n",
              "      <td>37</td>\n",
              "      <td>2</td>\n",
              "      <td>2</td>\n",
              "      <td>1</td>\n",
              "      <td>2</td>\n",
              "      <td>2</td>\n",
              "      <td>2</td>\n",
              "      <td>2</td>\n",
              "      <td>2</td>\n",
              "      <td>1</td>\n",
              "      <td>1</td>\n",
              "      <td>2</td>\n",
              "      <td>2</td>\n",
              "      <td>2</td>\n",
              "      <td>2</td>\n",
              "      <td>2</td>\n",
              "      <td>2</td>\n",
              "      <td>2</td>\n",
              "      <td>2</td>\n",
              "    </tr>\n",
              "    <tr>\n",
              "      <th>6</th>\n",
              "      <td>2019</td>\n",
              "      <td>2</td>\n",
              "      <td>1</td>\n",
              "      <td>23</td>\n",
              "      <td>23</td>\n",
              "      <td>1</td>\n",
              "      <td>1</td>\n",
              "      <td>4840</td>\n",
              "      <td>39</td>\n",
              "      <td>4</td>\n",
              "      <td>16</td>\n",
              "      <td>11</td>\n",
              "      <td>2</td>\n",
              "      <td>1</td>\n",
              "      <td>0</td>\n",
              "      <td>1</td>\n",
              "      <td>39</td>\n",
              "      <td>0</td>\n",
              "      <td>0</td>\n",
              "      <td>2</td>\n",
              "      <td>44</td>\n",
              "      <td>55000</td>\n",
              "      <td>1</td>\n",
              "      <td>8</td>\n",
              "      <td>5</td>\n",
              "      <td>0</td>\n",
              "      <td>2</td>\n",
              "      <td>2</td>\n",
              "      <td>0</td>\n",
              "      <td>53</td>\n",
              "      <td>2</td>\n",
              "      <td>2</td>\n",
              "      <td>1</td>\n",
              "      <td>2</td>\n",
              "      <td>2</td>\n",
              "      <td>2</td>\n",
              "      <td>2</td>\n",
              "      <td>2</td>\n",
              "      <td>2</td>\n",
              "      <td>2</td>\n",
              "      <td>2</td>\n",
              "      <td>2</td>\n",
              "      <td>2</td>\n",
              "      <td>2</td>\n",
              "      <td>2</td>\n",
              "      <td>2</td>\n",
              "      <td>2</td>\n",
              "      <td>2</td>\n",
              "    </tr>\n",
              "    <tr>\n",
              "      <th>10</th>\n",
              "      <td>2019</td>\n",
              "      <td>2</td>\n",
              "      <td>1</td>\n",
              "      <td>23</td>\n",
              "      <td>19</td>\n",
              "      <td>1</td>\n",
              "      <td>1</td>\n",
              "      <td>6420</td>\n",
              "      <td>46</td>\n",
              "      <td>7</td>\n",
              "      <td>19</td>\n",
              "      <td>11</td>\n",
              "      <td>1</td>\n",
              "      <td>1</td>\n",
              "      <td>0</td>\n",
              "      <td>1</td>\n",
              "      <td>43</td>\n",
              "      <td>0</td>\n",
              "      <td>0</td>\n",
              "      <td>2</td>\n",
              "      <td>50</td>\n",
              "      <td>45000</td>\n",
              "      <td>6</td>\n",
              "      <td>3</td>\n",
              "      <td>3</td>\n",
              "      <td>0</td>\n",
              "      <td>2</td>\n",
              "      <td>2</td>\n",
              "      <td>0</td>\n",
              "      <td>54</td>\n",
              "      <td>2</td>\n",
              "      <td>1</td>\n",
              "      <td>2</td>\n",
              "      <td>2</td>\n",
              "      <td>2</td>\n",
              "      <td>2</td>\n",
              "      <td>2</td>\n",
              "      <td>2</td>\n",
              "      <td>2</td>\n",
              "      <td>2</td>\n",
              "      <td>2</td>\n",
              "      <td>2</td>\n",
              "      <td>2</td>\n",
              "      <td>2</td>\n",
              "      <td>2</td>\n",
              "      <td>2</td>\n",
              "      <td>2</td>\n",
              "      <td>2</td>\n",
              "    </tr>\n",
              "  </tbody>\n",
              "</table>\n",
              "</div>"
            ],
            "text/plain": [
              "    DATA_YEAR  GTMETSTA  GEDIV  GESTFIPS  ...  FINC_OI  FINC_VET  FINC_PAW  FINC_WC\n",
              "0        2019         2      1        23  ...        2         2         2        2\n",
              "2        2019         2      1        23  ...        2         2         2        2\n",
              "4        2019         2      1        23  ...        2         2         2        2\n",
              "6        2019         2      1        23  ...        2         2         2        2\n",
              "10       2019         2      1        23  ...        2         2         2        2\n",
              "\n",
              "[5 rows x 48 columns]"
            ]
          },
          "metadata": {},
          "execution_count": 42
        }
      ]
    },
    {
      "cell_type": "code",
      "metadata": {
        "colab": {
          "base_uri": "https://localhost:8080/"
        },
        "id": "1bsEDv68ftZd",
        "outputId": "8e66559a-74d0-43fa-9e52-61a8830a28d1"
      },
      "source": [
        "#Get info about each column\n",
        "asec_final.info()"
      ],
      "execution_count": 43,
      "outputs": [
        {
          "output_type": "stream",
          "name": "stdout",
          "text": [
            "<class 'pandas.core.frame.DataFrame'>\n",
            "Int64Index: 86693 entries, 0 to 141250\n",
            "Data columns (total 48 columns):\n",
            " #   Column     Non-Null Count  Dtype\n",
            "---  ------     --------------  -----\n",
            " 0   DATA_YEAR  86693 non-null  int64\n",
            " 1   GTMETSTA   86693 non-null  int64\n",
            " 2   GEDIV      86693 non-null  int64\n",
            " 3   GESTFIPS   86693 non-null  int64\n",
            " 4   HHINC      86693 non-null  int64\n",
            " 5   H_TENURE   86693 non-null  int64\n",
            " 6   H_LIVQRT   86693 non-null  int64\n",
            " 7   OCCUP      86693 non-null  int64\n",
            " 8   POCCU2     86693 non-null  int64\n",
            " 9   A_MJOCC    86693 non-null  int64\n",
            " 10  A_DTOCC    86693 non-null  int64\n",
            " 11  AGE1       86693 non-null  int64\n",
            " 12  A_SEX      86693 non-null  int64\n",
            " 13  PRDTRACE   86693 non-null  int64\n",
            " 14  PXRACE1    86693 non-null  int64\n",
            " 15  PRCITSHP   86693 non-null  int64\n",
            " 16  A_HGA      86693 non-null  int64\n",
            " 17  PRERELG    86693 non-null  int64\n",
            " 18  A_GRSWK    86693 non-null  int64\n",
            " 19  HRCHECK    86693 non-null  int64\n",
            " 20  HRSWK      86693 non-null  int64\n",
            " 21  PEARNVAL   86693 non-null  int64\n",
            " 22  A_CLSWKR   86693 non-null  int64\n",
            " 23  WEIND      86693 non-null  int64\n",
            " 24  A_MARITL   86693 non-null  int64\n",
            " 25  A_HSCOL    86693 non-null  int64\n",
            " 26  A_WKSTAT   86693 non-null  int64\n",
            " 27  HEA        86693 non-null  int64\n",
            " 28  PEINUSYR   86693 non-null  int64\n",
            " 29  A_AGE      86693 non-null  int64\n",
            " 30  FINC_FR    86693 non-null  int64\n",
            " 31  FINC_SE    86693 non-null  int64\n",
            " 32  FINC_WS    86693 non-null  int64\n",
            " 33  FINC_CSP   86693 non-null  int64\n",
            " 34  FINC_DIS   86693 non-null  int64\n",
            " 35  FINC_DIV   86693 non-null  int64\n",
            " 36  FINC_RNT   86693 non-null  int64\n",
            " 37  FINC_ED    86693 non-null  int64\n",
            " 38  FINC_SS    86693 non-null  int64\n",
            " 39  FINC_SSI   86693 non-null  int64\n",
            " 40  FINC_FIN   86693 non-null  int64\n",
            " 41  FINC_SUR   86693 non-null  int64\n",
            " 42  FINC_INT   86693 non-null  int64\n",
            " 43  FINC_UC    86693 non-null  int64\n",
            " 44  FINC_OI    86693 non-null  int64\n",
            " 45  FINC_VET   86693 non-null  int64\n",
            " 46  FINC_PAW   86693 non-null  int64\n",
            " 47  FINC_WC    86693 non-null  int64\n",
            "dtypes: int64(48)\n",
            "memory usage: 32.4 MB\n"
          ]
        }
      ]
    },
    {
      "cell_type": "code",
      "metadata": {
        "colab": {
          "base_uri": "https://localhost:8080/",
          "height": 320
        },
        "id": "u78mh6Y8fwE3",
        "outputId": "06047032-f28e-4cb3-872e-7f4bf3c1a50f"
      },
      "source": [
        "#Get summary statistics for each column\n",
        "asec_final.describe()"
      ],
      "execution_count": 12,
      "outputs": [
        {
          "output_type": "execute_result",
          "data": {
            "text/html": [
              "<div>\n",
              "<style scoped>\n",
              "    .dataframe tbody tr th:only-of-type {\n",
              "        vertical-align: middle;\n",
              "    }\n",
              "\n",
              "    .dataframe tbody tr th {\n",
              "        vertical-align: top;\n",
              "    }\n",
              "\n",
              "    .dataframe thead th {\n",
              "        text-align: right;\n",
              "    }\n",
              "</style>\n",
              "<table border=\"1\" class=\"dataframe\">\n",
              "  <thead>\n",
              "    <tr style=\"text-align: right;\">\n",
              "      <th></th>\n",
              "      <th>DATA_YEAR</th>\n",
              "      <th>GTMETSTA</th>\n",
              "      <th>GEDIV</th>\n",
              "      <th>GESTFIPS</th>\n",
              "      <th>HHINC</th>\n",
              "      <th>H_TENURE</th>\n",
              "      <th>H_LIVQRT</th>\n",
              "      <th>OCCUP</th>\n",
              "      <th>POCCU2</th>\n",
              "      <th>A_MJOCC</th>\n",
              "      <th>A_DTOCC</th>\n",
              "      <th>AGE1</th>\n",
              "      <th>A_SEX</th>\n",
              "      <th>PRDTRACE</th>\n",
              "      <th>PXRACE1</th>\n",
              "      <th>PRCITSHP</th>\n",
              "      <th>A_HGA</th>\n",
              "      <th>PRERELG</th>\n",
              "      <th>A_GRSWK</th>\n",
              "      <th>HRCHECK</th>\n",
              "      <th>HRSWK</th>\n",
              "      <th>PEARNVAL</th>\n",
              "      <th>A_CLSWKR</th>\n",
              "      <th>WEIND</th>\n",
              "      <th>A_MARITL</th>\n",
              "      <th>A_HSCOL</th>\n",
              "      <th>A_WKSTAT</th>\n",
              "      <th>HEA</th>\n",
              "      <th>PEINUSYR</th>\n",
              "      <th>A_AGE</th>\n",
              "      <th>FINC_FR</th>\n",
              "      <th>FINC_SE</th>\n",
              "      <th>FINC_WS</th>\n",
              "      <th>FINC_CSP</th>\n",
              "      <th>FINC_DIS</th>\n",
              "      <th>FINC_DIV</th>\n",
              "      <th>FINC_RNT</th>\n",
              "      <th>FINC_ED</th>\n",
              "      <th>FINC_SS</th>\n",
              "      <th>FINC_SSI</th>\n",
              "      <th>FINC_FIN</th>\n",
              "      <th>FINC_SUR</th>\n",
              "      <th>FINC_INT</th>\n",
              "      <th>FINC_UC</th>\n",
              "      <th>FINC_OI</th>\n",
              "      <th>FINC_VET</th>\n",
              "      <th>FINC_PAW</th>\n",
              "      <th>FINC_WC</th>\n",
              "    </tr>\n",
              "  </thead>\n",
              "  <tbody>\n",
              "    <tr>\n",
              "      <th>count</th>\n",
              "      <td>78883.0</td>\n",
              "      <td>78883.00000</td>\n",
              "      <td>78883.000000</td>\n",
              "      <td>78883.000000</td>\n",
              "      <td>78883.000000</td>\n",
              "      <td>78883.000000</td>\n",
              "      <td>78883.000000</td>\n",
              "      <td>78883.000000</td>\n",
              "      <td>78883.000000</td>\n",
              "      <td>78883.000000</td>\n",
              "      <td>78883.000000</td>\n",
              "      <td>78883.000000</td>\n",
              "      <td>78883.000000</td>\n",
              "      <td>78883.000000</td>\n",
              "      <td>78883.000000</td>\n",
              "      <td>78883.000000</td>\n",
              "      <td>78883.000000</td>\n",
              "      <td>78883.000000</td>\n",
              "      <td>78883.000000</td>\n",
              "      <td>78883.000000</td>\n",
              "      <td>78883.000000</td>\n",
              "      <td>7.888300e+04</td>\n",
              "      <td>78883.000000</td>\n",
              "      <td>78883.000000</td>\n",
              "      <td>78883.000000</td>\n",
              "      <td>78883.000000</td>\n",
              "      <td>78883.000000</td>\n",
              "      <td>78883.000000</td>\n",
              "      <td>78883.000000</td>\n",
              "      <td>78883.000000</td>\n",
              "      <td>78883.000000</td>\n",
              "      <td>78883.000000</td>\n",
              "      <td>78883.000000</td>\n",
              "      <td>78883.000000</td>\n",
              "      <td>78883.000000</td>\n",
              "      <td>78883.000000</td>\n",
              "      <td>78883.000000</td>\n",
              "      <td>78883.000000</td>\n",
              "      <td>78883.000000</td>\n",
              "      <td>78883.000000</td>\n",
              "      <td>78883.000000</td>\n",
              "      <td>78883.000000</td>\n",
              "      <td>78883.000000</td>\n",
              "      <td>78883.000000</td>\n",
              "      <td>78883.000000</td>\n",
              "      <td>78883.000000</td>\n",
              "      <td>78883.000000</td>\n",
              "      <td>78883.000000</td>\n",
              "    </tr>\n",
              "    <tr>\n",
              "      <th>mean</th>\n",
              "      <td>2019.0</td>\n",
              "      <td>1.18265</td>\n",
              "      <td>5.451606</td>\n",
              "      <td>27.837139</td>\n",
              "      <td>31.080030</td>\n",
              "      <td>1.330135</td>\n",
              "      <td>1.174106</td>\n",
              "      <td>4080.576385</td>\n",
              "      <td>31.128507</td>\n",
              "      <td>4.114575</td>\n",
              "      <td>12.617940</td>\n",
              "      <td>9.042050</td>\n",
              "      <td>1.491145</td>\n",
              "      <td>1.515827</td>\n",
              "      <td>1.967483</td>\n",
              "      <td>1.654285</td>\n",
              "      <td>40.645158</td>\n",
              "      <td>0.215991</td>\n",
              "      <td>139.688919</td>\n",
              "      <td>1.748602</td>\n",
              "      <td>37.668294</td>\n",
              "      <td>5.268377e+04</td>\n",
              "      <td>1.742086</td>\n",
              "      <td>12.070205</td>\n",
              "      <td>3.391504</td>\n",
              "      <td>0.131701</td>\n",
              "      <td>2.502035</td>\n",
              "      <td>2.112394</td>\n",
              "      <td>3.039413</td>\n",
              "      <td>42.191042</td>\n",
              "      <td>1.978056</td>\n",
              "      <td>1.882839</td>\n",
              "      <td>1.045219</td>\n",
              "      <td>1.959370</td>\n",
              "      <td>1.983875</td>\n",
              "      <td>1.822573</td>\n",
              "      <td>1.922201</td>\n",
              "      <td>1.928768</td>\n",
              "      <td>1.863152</td>\n",
              "      <td>1.978614</td>\n",
              "      <td>1.988755</td>\n",
              "      <td>1.989237</td>\n",
              "      <td>1.303564</td>\n",
              "      <td>1.969702</td>\n",
              "      <td>1.974418</td>\n",
              "      <td>1.977245</td>\n",
              "      <td>1.990720</td>\n",
              "      <td>1.991975</td>\n",
              "    </tr>\n",
              "    <tr>\n",
              "      <th>std</th>\n",
              "      <td>0.0</td>\n",
              "      <td>0.41053</td>\n",
              "      <td>2.539753</td>\n",
              "      <td>16.268939</td>\n",
              "      <td>11.558703</td>\n",
              "      <td>0.488693</td>\n",
              "      <td>0.841505</td>\n",
              "      <td>2741.279211</td>\n",
              "      <td>16.394762</td>\n",
              "      <td>2.803076</td>\n",
              "      <td>6.914924</td>\n",
              "      <td>3.228295</td>\n",
              "      <td>0.499925</td>\n",
              "      <td>1.426446</td>\n",
              "      <td>7.688274</td>\n",
              "      <td>1.370654</td>\n",
              "      <td>2.601317</td>\n",
              "      <td>0.411511</td>\n",
              "      <td>433.320329</td>\n",
              "      <td>0.514089</td>\n",
              "      <td>13.457482</td>\n",
              "      <td>7.223288e+04</td>\n",
              "      <td>1.517073</td>\n",
              "      <td>5.873146</td>\n",
              "      <td>2.727056</td>\n",
              "      <td>0.475867</td>\n",
              "      <td>1.073433</td>\n",
              "      <td>0.935900</td>\n",
              "      <td>6.742210</td>\n",
              "      <td>14.395447</td>\n",
              "      <td>0.146501</td>\n",
              "      <td>0.321614</td>\n",
              "      <td>0.207785</td>\n",
              "      <td>0.197432</td>\n",
              "      <td>0.125958</td>\n",
              "      <td>0.382032</td>\n",
              "      <td>0.267856</td>\n",
              "      <td>0.257214</td>\n",
              "      <td>0.343689</td>\n",
              "      <td>0.144669</td>\n",
              "      <td>0.105443</td>\n",
              "      <td>0.103185</td>\n",
              "      <td>0.459799</td>\n",
              "      <td>0.171407</td>\n",
              "      <td>0.157886</td>\n",
              "      <td>0.149123</td>\n",
              "      <td>0.095883</td>\n",
              "      <td>0.089220</td>\n",
              "    </tr>\n",
              "    <tr>\n",
              "      <th>min</th>\n",
              "      <td>2019.0</td>\n",
              "      <td>1.00000</td>\n",
              "      <td>1.000000</td>\n",
              "      <td>1.000000</td>\n",
              "      <td>1.000000</td>\n",
              "      <td>1.000000</td>\n",
              "      <td>1.000000</td>\n",
              "      <td>0.000000</td>\n",
              "      <td>1.000000</td>\n",
              "      <td>1.000000</td>\n",
              "      <td>1.000000</td>\n",
              "      <td>1.000000</td>\n",
              "      <td>1.000000</td>\n",
              "      <td>1.000000</td>\n",
              "      <td>0.000000</td>\n",
              "      <td>1.000000</td>\n",
              "      <td>31.000000</td>\n",
              "      <td>0.000000</td>\n",
              "      <td>0.000000</td>\n",
              "      <td>0.000000</td>\n",
              "      <td>0.000000</td>\n",
              "      <td>-9.999000e+03</td>\n",
              "      <td>1.000000</td>\n",
              "      <td>1.000000</td>\n",
              "      <td>1.000000</td>\n",
              "      <td>0.000000</td>\n",
              "      <td>1.000000</td>\n",
              "      <td>1.000000</td>\n",
              "      <td>0.000000</td>\n",
              "      <td>15.000000</td>\n",
              "      <td>1.000000</td>\n",
              "      <td>1.000000</td>\n",
              "      <td>1.000000</td>\n",
              "      <td>1.000000</td>\n",
              "      <td>1.000000</td>\n",
              "      <td>1.000000</td>\n",
              "      <td>1.000000</td>\n",
              "      <td>1.000000</td>\n",
              "      <td>1.000000</td>\n",
              "      <td>1.000000</td>\n",
              "      <td>1.000000</td>\n",
              "      <td>1.000000</td>\n",
              "      <td>1.000000</td>\n",
              "      <td>1.000000</td>\n",
              "      <td>1.000000</td>\n",
              "      <td>1.000000</td>\n",
              "      <td>1.000000</td>\n",
              "      <td>1.000000</td>\n",
              "    </tr>\n",
              "    <tr>\n",
              "      <th>25%</th>\n",
              "      <td>2019.0</td>\n",
              "      <td>1.00000</td>\n",
              "      <td>3.000000</td>\n",
              "      <td>12.000000</td>\n",
              "      <td>22.000000</td>\n",
              "      <td>1.000000</td>\n",
              "      <td>1.000000</td>\n",
              "      <td>1240.000000</td>\n",
              "      <td>21.000000</td>\n",
              "      <td>2.000000</td>\n",
              "      <td>8.000000</td>\n",
              "      <td>7.000000</td>\n",
              "      <td>1.000000</td>\n",
              "      <td>1.000000</td>\n",
              "      <td>0.000000</td>\n",
              "      <td>1.000000</td>\n",
              "      <td>39.000000</td>\n",
              "      <td>0.000000</td>\n",
              "      <td>0.000000</td>\n",
              "      <td>2.000000</td>\n",
              "      <td>36.000000</td>\n",
              "      <td>2.000000e+04</td>\n",
              "      <td>1.000000</td>\n",
              "      <td>7.000000</td>\n",
              "      <td>1.000000</td>\n",
              "      <td>0.000000</td>\n",
              "      <td>2.000000</td>\n",
              "      <td>1.000000</td>\n",
              "      <td>0.000000</td>\n",
              "      <td>31.000000</td>\n",
              "      <td>2.000000</td>\n",
              "      <td>2.000000</td>\n",
              "      <td>1.000000</td>\n",
              "      <td>2.000000</td>\n",
              "      <td>2.000000</td>\n",
              "      <td>2.000000</td>\n",
              "      <td>2.000000</td>\n",
              "      <td>2.000000</td>\n",
              "      <td>2.000000</td>\n",
              "      <td>2.000000</td>\n",
              "      <td>2.000000</td>\n",
              "      <td>2.000000</td>\n",
              "      <td>1.000000</td>\n",
              "      <td>2.000000</td>\n",
              "      <td>2.000000</td>\n",
              "      <td>2.000000</td>\n",
              "      <td>2.000000</td>\n",
              "      <td>2.000000</td>\n",
              "    </tr>\n",
              "    <tr>\n",
              "      <th>50%</th>\n",
              "      <td>2019.0</td>\n",
              "      <td>1.00000</td>\n",
              "      <td>5.000000</td>\n",
              "      <td>28.000000</td>\n",
              "      <td>37.000000</td>\n",
              "      <td>1.000000</td>\n",
              "      <td>1.000000</td>\n",
              "      <td>4230.000000</td>\n",
              "      <td>37.000000</td>\n",
              "      <td>3.000000</td>\n",
              "      <td>15.000000</td>\n",
              "      <td>9.000000</td>\n",
              "      <td>1.000000</td>\n",
              "      <td>1.000000</td>\n",
              "      <td>0.000000</td>\n",
              "      <td>1.000000</td>\n",
              "      <td>40.000000</td>\n",
              "      <td>0.000000</td>\n",
              "      <td>0.000000</td>\n",
              "      <td>2.000000</td>\n",
              "      <td>40.000000</td>\n",
              "      <td>3.800000e+04</td>\n",
              "      <td>1.000000</td>\n",
              "      <td>13.000000</td>\n",
              "      <td>1.000000</td>\n",
              "      <td>0.000000</td>\n",
              "      <td>2.000000</td>\n",
              "      <td>2.000000</td>\n",
              "      <td>0.000000</td>\n",
              "      <td>41.000000</td>\n",
              "      <td>2.000000</td>\n",
              "      <td>2.000000</td>\n",
              "      <td>1.000000</td>\n",
              "      <td>2.000000</td>\n",
              "      <td>2.000000</td>\n",
              "      <td>2.000000</td>\n",
              "      <td>2.000000</td>\n",
              "      <td>2.000000</td>\n",
              "      <td>2.000000</td>\n",
              "      <td>2.000000</td>\n",
              "      <td>2.000000</td>\n",
              "      <td>2.000000</td>\n",
              "      <td>1.000000</td>\n",
              "      <td>2.000000</td>\n",
              "      <td>2.000000</td>\n",
              "      <td>2.000000</td>\n",
              "      <td>2.000000</td>\n",
              "      <td>2.000000</td>\n",
              "    </tr>\n",
              "    <tr>\n",
              "      <th>75%</th>\n",
              "      <td>2019.0</td>\n",
              "      <td>1.00000</td>\n",
              "      <td>8.000000</td>\n",
              "      <td>42.000000</td>\n",
              "      <td>41.000000</td>\n",
              "      <td>2.000000</td>\n",
              "      <td>1.000000</td>\n",
              "      <td>5700.000000</td>\n",
              "      <td>43.000000</td>\n",
              "      <td>5.000000</td>\n",
              "      <td>17.000000</td>\n",
              "      <td>11.000000</td>\n",
              "      <td>2.000000</td>\n",
              "      <td>1.000000</td>\n",
              "      <td>0.000000</td>\n",
              "      <td>1.000000</td>\n",
              "      <td>43.000000</td>\n",
              "      <td>0.000000</td>\n",
              "      <td>0.000000</td>\n",
              "      <td>2.000000</td>\n",
              "      <td>40.000000</td>\n",
              "      <td>6.400000e+04</td>\n",
              "      <td>1.000000</td>\n",
              "      <td>16.000000</td>\n",
              "      <td>7.000000</td>\n",
              "      <td>0.000000</td>\n",
              "      <td>2.000000</td>\n",
              "      <td>3.000000</td>\n",
              "      <td>0.000000</td>\n",
              "      <td>53.000000</td>\n",
              "      <td>2.000000</td>\n",
              "      <td>2.000000</td>\n",
              "      <td>1.000000</td>\n",
              "      <td>2.000000</td>\n",
              "      <td>2.000000</td>\n",
              "      <td>2.000000</td>\n",
              "      <td>2.000000</td>\n",
              "      <td>2.000000</td>\n",
              "      <td>2.000000</td>\n",
              "      <td>2.000000</td>\n",
              "      <td>2.000000</td>\n",
              "      <td>2.000000</td>\n",
              "      <td>2.000000</td>\n",
              "      <td>2.000000</td>\n",
              "      <td>2.000000</td>\n",
              "      <td>2.000000</td>\n",
              "      <td>2.000000</td>\n",
              "      <td>2.000000</td>\n",
              "    </tr>\n",
              "    <tr>\n",
              "      <th>max</th>\n",
              "      <td>2019.0</td>\n",
              "      <td>3.00000</td>\n",
              "      <td>9.000000</td>\n",
              "      <td>56.000000</td>\n",
              "      <td>41.000000</td>\n",
              "      <td>3.000000</td>\n",
              "      <td>12.000000</td>\n",
              "      <td>9840.000000</td>\n",
              "      <td>53.000000</td>\n",
              "      <td>10.000000</td>\n",
              "      <td>22.000000</td>\n",
              "      <td>17.000000</td>\n",
              "      <td>2.000000</td>\n",
              "      <td>26.000000</td>\n",
              "      <td>43.000000</td>\n",
              "      <td>5.000000</td>\n",
              "      <td>46.000000</td>\n",
              "      <td>1.000000</td>\n",
              "      <td>2885.000000</td>\n",
              "      <td>2.000000</td>\n",
              "      <td>99.000000</td>\n",
              "      <td>1.753999e+06</td>\n",
              "      <td>7.000000</td>\n",
              "      <td>23.000000</td>\n",
              "      <td>7.000000</td>\n",
              "      <td>2.000000</td>\n",
              "      <td>7.000000</td>\n",
              "      <td>5.000000</td>\n",
              "      <td>25.000000</td>\n",
              "      <td>85.000000</td>\n",
              "      <td>2.000000</td>\n",
              "      <td>2.000000</td>\n",
              "      <td>2.000000</td>\n",
              "      <td>2.000000</td>\n",
              "      <td>2.000000</td>\n",
              "      <td>2.000000</td>\n",
              "      <td>2.000000</td>\n",
              "      <td>2.000000</td>\n",
              "      <td>2.000000</td>\n",
              "      <td>2.000000</td>\n",
              "      <td>2.000000</td>\n",
              "      <td>2.000000</td>\n",
              "      <td>2.000000</td>\n",
              "      <td>2.000000</td>\n",
              "      <td>2.000000</td>\n",
              "      <td>2.000000</td>\n",
              "      <td>2.000000</td>\n",
              "      <td>2.000000</td>\n",
              "    </tr>\n",
              "  </tbody>\n",
              "</table>\n",
              "</div>"
            ],
            "text/plain": [
              "       DATA_YEAR     GTMETSTA  ...      FINC_PAW       FINC_WC\n",
              "count    78883.0  78883.00000  ...  78883.000000  78883.000000\n",
              "mean      2019.0      1.18265  ...      1.990720      1.991975\n",
              "std          0.0      0.41053  ...      0.095883      0.089220\n",
              "min       2019.0      1.00000  ...      1.000000      1.000000\n",
              "25%       2019.0      1.00000  ...      2.000000      2.000000\n",
              "50%       2019.0      1.00000  ...      2.000000      2.000000\n",
              "75%       2019.0      1.00000  ...      2.000000      2.000000\n",
              "max       2019.0      3.00000  ...      2.000000      2.000000\n",
              "\n",
              "[8 rows x 48 columns]"
            ]
          },
          "metadata": {},
          "execution_count": 12
        }
      ]
    },
    {
      "cell_type": "code",
      "metadata": {
        "colab": {
          "base_uri": "https://localhost:8080/"
        },
        "id": "3GHidHiifyiW",
        "outputId": "e5239319-892d-4e06-fc39-4e8011c777fa"
      },
      "source": [
        "#See all column names\n",
        "asec_final.columns"
      ],
      "execution_count": 13,
      "outputs": [
        {
          "output_type": "execute_result",
          "data": {
            "text/plain": [
              "Index(['DATA_YEAR', 'GTMETSTA', 'GEDIV', 'GESTFIPS', 'HHINC', 'H_TENURE',\n",
              "       'H_LIVQRT', 'OCCUP', 'POCCU2', 'A_MJOCC', 'A_DTOCC', 'AGE1', 'A_SEX',\n",
              "       'PRDTRACE', 'PXRACE1', 'PRCITSHP', 'A_HGA', 'PRERELG', 'A_GRSWK',\n",
              "       'HRCHECK', 'HRSWK', 'PEARNVAL', 'A_CLSWKR', 'WEIND', 'A_MARITL',\n",
              "       'A_HSCOL', 'A_WKSTAT', 'HEA', 'PEINUSYR', 'A_AGE', 'FINC_FR', 'FINC_SE',\n",
              "       'FINC_WS', 'FINC_CSP', 'FINC_DIS', 'FINC_DIV', 'FINC_RNT', 'FINC_ED',\n",
              "       'FINC_SS', 'FINC_SSI', 'FINC_FIN', 'FINC_SUR', 'FINC_INT', 'FINC_UC',\n",
              "       'FINC_OI', 'FINC_VET', 'FINC_PAW', 'FINC_WC'],\n",
              "      dtype='object')"
            ]
          },
          "metadata": {},
          "execution_count": 13
        }
      ]
    },
    {
      "cell_type": "markdown",
      "metadata": {
        "id": "SZVbwHyCfz_W"
      },
      "source": [
        "We are particularly interested in the column A_DTOCC, which indicates the detailed occupation codes grouped by industry, because this is the attributed we are interested in modeling. Theremore, some more EDA will be focused on this column."
      ]
    },
    {
      "cell_type": "code",
      "metadata": {
        "colab": {
          "base_uri": "https://localhost:8080/"
        },
        "id": "jfdgE6HRf3o3",
        "outputId": "59c4443a-dcd0-4158-b6e7-0a0ed660f1bc"
      },
      "source": [
        "#See unique values for target column, A_DTOCC\n",
        "asec_final[which_target].unique()"
      ],
      "execution_count": 44,
      "outputs": [
        {
          "output_type": "execute_result",
          "data": {
            "text/plain": [
              "array([13, 15, 16, 19, 22, 12,  2, 17,  6, 10,  1, 21,  8, 20, 14,  3,  4,\n",
              "        9, 11,  7])"
            ]
          },
          "metadata": {},
          "execution_count": 44
        }
      ]
    },
    {
      "cell_type": "code",
      "metadata": {
        "colab": {
          "base_uri": "https://localhost:8080/"
        },
        "id": "YybDp1XWf5kW",
        "outputId": "a3136a49-ed96-408f-9d80-216ffd64e995"
      },
      "source": [
        "#See frequency for the target column\n",
        "oc_freq = asec_final[which_target].value_counts(ascending=False)\n",
        "oc_freq"
      ],
      "execution_count": 56,
      "outputs": [
        {
          "output_type": "execute_result",
          "data": {
            "text/plain": [
              "1     10239\n",
              "17     9913\n",
              "16     8564\n",
              "8      5638\n",
              "22     5576\n",
              "10     5204\n",
              "13     5124\n",
              "21     4964\n",
              "19     4931\n",
              "2      4236\n",
              "14     3531\n",
              "15     3479\n",
              "20     2693\n",
              "3      2682\n",
              "11     2109\n",
              "Name: A_DTOCC, dtype: int64"
            ]
          },
          "metadata": {},
          "execution_count": 56
        }
      ]
    },
    {
      "cell_type": "code",
      "metadata": {
        "colab": {
          "base_uri": "https://localhost:8080/"
        },
        "id": "q-I9je6Sf7nq",
        "outputId": "8278580a-a379-4421-dd07-c390931a3cce"
      },
      "source": [
        "#See percentages for the A_DTOCC column\n",
        "asec_final[which_target].value_counts(ascending=False, normalize=True)"
      ],
      "execution_count": 46,
      "outputs": [
        {
          "output_type": "execute_result",
          "data": {
            "text/plain": [
              "1     0.118106\n",
              "17    0.114346\n",
              "16    0.098785\n",
              "8     0.065034\n",
              "22    0.064319\n",
              "10    0.060028\n",
              "13    0.059105\n",
              "21    0.057260\n",
              "19    0.056879\n",
              "2     0.048862\n",
              "14    0.040730\n",
              "15    0.040130\n",
              "20    0.031064\n",
              "3     0.030937\n",
              "11    0.024327\n",
              "9     0.020451\n",
              "4     0.020232\n",
              "12    0.019263\n",
              "6     0.018294\n",
              "7     0.011846\n",
              "Name: A_DTOCC, dtype: float64"
            ]
          },
          "metadata": {},
          "execution_count": 46
        }
      ]
    },
    {
      "cell_type": "markdown",
      "metadata": {
        "id": "x7MXewkff-Ep"
      },
      "source": [
        "##Plots"
      ]
    },
    {
      "cell_type": "markdown",
      "metadata": {
        "id": "bZV-8fWrgCCS"
      },
      "source": [
        "###Correlation\n",
        "Correlation is only appropriate for continuous variables, so we'll create a subset of variables to evaluate using this method. "
      ]
    },
    {
      "cell_type": "code",
      "metadata": {
        "colab": {
          "base_uri": "https://localhost:8080/",
          "height": 613
        },
        "id": "SSjZZbeSgBos",
        "outputId": "431f47c3-b263-40c3-bbcc-5df3f6fe57e7"
      },
      "source": [
        "# Correlation plot\n",
        "keep_cols = [which_target,'A_AGE', 'A_SEX', 'PRDTRACE', 'PRCITSHP', 'A_HGA', 'PEARNVAL', 'WEIND', 'A_MARITL', 'HEA']\n",
        "\n",
        "correlation_df = asec_final.filter(items=keep_cols, axis=1)\n",
        "\n",
        "plt.figure(figsize=(15,10))\n",
        "correlation_matrix = correlation_df.corr().round(2)\n",
        "sns.heatmap(data=correlation_matrix, annot=True)#, cmap='Blues')"
      ],
      "execution_count": 17,
      "outputs": [
        {
          "output_type": "execute_result",
          "data": {
            "text/plain": [
              "<matplotlib.axes._subplots.AxesSubplot at 0x7f5a62eb7050>"
            ]
          },
          "metadata": {},
          "execution_count": 17
        },
        {
          "output_type": "display_data",
          "data": {
            "image/png": "[encoded data removed]",
            "text/plain": [
              "<Figure size 1080x720 with 2 Axes>"
            ]
          },
          "metadata": {
            "needs_background": "light"
          }
        }
      ]
    },
    {
      "cell_type": "code",
      "metadata": {
        "colab": {
          "base_uri": "https://localhost:8080/"
        },
        "id": "vgitj4SfgHeK",
        "outputId": "741e5151-b748-4731-907a-5b7f98cdb75d"
      },
      "source": [
        "# Numerically looking at the correlations\n",
        "corrs = correlation_df.corr().round(2).unstack().abs()\n",
        "corrs = corrs[(corrs < 1) & (corrs > 0.1)]\n",
        "corrs.sort_values(ascending = False)"
      ],
      "execution_count": 18,
      "outputs": [
        {
          "output_type": "execute_result",
          "data": {
            "text/plain": [
              "A_HGA     A_DTOCC     0.41\n",
              "A_AGE     A_MARITL    0.41\n",
              "A_MARITL  A_AGE       0.41\n",
              "A_DTOCC   A_HGA       0.41\n",
              "A_HGA     PEARNVAL    0.29\n",
              "WEIND     A_SEX       0.29\n",
              "PEARNVAL  A_HGA       0.29\n",
              "A_SEX     WEIND       0.29\n",
              "A_DTOCC   PEARNVAL    0.24\n",
              "PEARNVAL  A_DTOCC     0.24\n",
              "WEIND     A_DTOCC     0.21\n",
              "A_DTOCC   WEIND       0.21\n",
              "PEARNVAL  A_MARITL    0.19\n",
              "A_HGA     PRCITSHP    0.19\n",
              "A_MARITL  PEARNVAL    0.19\n",
              "PRCITSHP  A_HGA       0.19\n",
              "A_MARITL  A_HGA       0.17\n",
              "A_HGA     A_MARITL    0.17\n",
              "A_AGE     HEA         0.17\n",
              "HEA       A_AGE       0.17\n",
              "PRCITSHP  PRDTRACE    0.15\n",
              "PRDTRACE  PRCITSHP    0.15\n",
              "A_SEX     PEARNVAL    0.14\n",
              "A_AGE     PEARNVAL    0.14\n",
              "HEA       A_HGA       0.14\n",
              "A_HGA     HEA         0.14\n",
              "PEARNVAL  A_AGE       0.14\n",
              "          A_SEX       0.14\n",
              "A_DTOCC   A_MARITL    0.13\n",
              "A_MARITL  A_DTOCC     0.13\n",
              "A_SEX     A_DTOCC     0.12\n",
              "A_DTOCC   A_SEX       0.12\n",
              "A_HGA     WEIND       0.11\n",
              "WEIND     A_HGA       0.11\n",
              "dtype: float64"
            ]
          },
          "metadata": {},
          "execution_count": 18
        }
      ]
    },
    {
      "cell_type": "markdown",
      "metadata": {
        "id": "8M0Cnp2VgJTl"
      },
      "source": [
        "The following predictors show some level of correlation with occupation\n",
        "\n",
        "- A_HGA (Education level) - Negative correlation because higher numbers relate to higher education level and lower occupation numbers relate to more professional work.\n",
        "- PEARNVAL (earnings)\n",
        "\n",
        "Other smaller correlations with occupation are\n",
        "- A_MARITL (Marital status)\n",
        "- A_SEX (sex)\n",
        "- WEIND (Industry)\n",
        "\n",
        "Finally there are some small correlations between other predictors.\n",
        "\n",
        "- A_MARITL and A_AGE - marital status and age\n",
        "- PEARNVAL and A_HGA - earnings and education\n",
        "- WEIND and A_SEX - industry and sex\n",
        "- PRCITSHP and A_HGA - citizenship and education level"
      ]
    },
    {
      "cell_type": "markdown",
      "metadata": {
        "id": "DRt-nXDKgMFe"
      },
      "source": [
        "###Boxplots\n",
        "We use boxplots to visualize the categorical variability of occupational code against several continuous variables, including weekly earnings, total person's earnings, and weekly hours."
      ]
    },
    {
      "cell_type": "code",
      "metadata": {
        "id": "4IlPgRnZgWGO"
      },
      "source": [
        "# TODO: Use pairplot instead to view all predictors and their distributions.\n",
        "# Run analysis against the original target column\n",
        "# sns.catplot(x=\"A_DTOCC\", y=\"A_HGA\", kind=\"box\", data=asec_final, height=13)\n",
        "# plt.title('Selected vs Coded Occupation')"
      ],
      "execution_count": 19,
      "outputs": []
    },
    {
      "cell_type": "code",
      "metadata": {
        "id": "dkG2zFVFClug"
      },
      "source": [
        "# run analysis against the new target column\n",
        "# sns.catplot(x=\"POCCU2\", y=\"HRSWK\", kind=\"box\", data=asec_final, height=13)\n",
        "# plt.title('Weekly Hours Worked vs Coded Occupation - Detailed')"
      ],
      "execution_count": 20,
      "outputs": []
    },
    {
      "cell_type": "markdown",
      "metadata": {
        "id": "zme17FuhgpqF"
      },
      "source": [
        "##Reflection\n",
        "The data are not normally distributed, but do show some interesting trends between our variables of interest (sex, occupational group, race, hours worked, etc). Depending on the model implemented, we may need to return to EDA to explicitly check assumptions for the model."
      ]
    },
    {
      "cell_type": "markdown",
      "metadata": {
        "id": "MK6RwwzNampl"
      },
      "source": [
        "# Data Processing / Models\n"
      ]
    },
    {
      "cell_type": "markdown",
      "metadata": {
        "id": "SyCuxTz7254I"
      },
      "source": [
        "##Pre-processing: Balancing Classes\n",
        "Because we're interested in predicting the occupation code of an individual based on their demographic data, it will be important to ensure all of our classes have equal representation in our training model. As it stands, our classes 1-22 range from a minimum of 871 observations (class 18) to a maximum of 10239 (class 1). To balance these classes, we'll randomly undersample all classes besides our minimum class. Depending on how well our model performs with the undersampled data, this method may need to be re-visited."
      ]
    },
    {
      "cell_type": "code",
      "metadata": {
        "id": "JpWzcYqzudvB"
      },
      "source": [
        "# Separating data into X and y data sets for applying models\n",
        "# household_cols = ['GTMETSTA','GEDIV','GESTFIPS','HHINC','H_TENURE','H_LIVQRT']\n",
        "household_cols = ['GEDIV','GESTFIPS','H_LIVQRT']\n",
        "# person_cols = ['A_AGE', 'A_SEX', 'PRDTRACE', 'PRCITSHP', 'A_HGA', 'PEARNVAL', 'WEIND', 'A_MARITL', 'HEA']\n",
        "person_cols = ['A_AGE', 'A_SEX', 'PRDTRACE', 'PRCITSHP', 'A_HGA', 'A_MARITL', 'HEA']\n",
        "x_cols = person_cols + household_cols\n",
        "X = asec_final[x_cols].copy()\n",
        "y = asec_final[which_target].copy()"
      ],
      "execution_count": 66,
      "outputs": []
    },
    {
      "cell_type": "markdown",
      "metadata": {
        "id": "K6Ip-BSPuVaO"
      },
      "source": [
        "## Random Forest - Amy\n",
        "\n",
        "[SK Learn Documentation](https://scikit-learn.org/stable/modules/generated/sklearn.ensemble.RandomForestClassifier.html)"
      ]
    },
    {
      "cell_type": "code",
      "metadata": {
        "id": "r8ewqPMRumYD",
        "colab": {
          "base_uri": "https://localhost:8080/"
        },
        "outputId": "7918c601-772b-48c1-dbc5-e62d12da46db"
      },
      "source": [
        "# TODO: We should change max depth for this and test again.\n",
        "# Cross validation using oversampled data\n",
        "# Creating a model and cross validating over it multiple times to see how many forest will be best to use\n",
        "\n",
        "# sample methods = under, over, none\n",
        "sample_method = 'under'\n",
        "\n",
        "random_seed = 0\n",
        "rus = RandomUnderSampler(random_state=random_seed)\n",
        "ros = RandomOverSampler(random_state=random_seed)\n",
        "num_trees = range(10,101,10)\n",
        "cv_loops = 5\n",
        "results = np.zeros(len(num_trees))\n",
        "\n",
        "for n, trees in enumerate(num_trees):\n",
        "  accuracy_cv = np.zeros(cv_loops)\n",
        "  for i in range(cv_loops):\n",
        "    # define the model\n",
        "    rfModel = RandomForestClassifier(n_estimators=trees, random_state=random_seed)\n",
        "\n",
        "    # assemble the data\n",
        "    X_train, X_test, y_train, y_test = train_test_split(X, y, test_size=0.20)\n",
        "    if sample_method == 'under':\n",
        "      X_train_samp, y_train_samp = rus.fit_resample(X_train, y_train)\n",
        "    elif sample_method == 'over':\n",
        "      X_train_samp, y_train_samp = ros.fit_resample(X_train, y_train)\n",
        "\n",
        "    # fit the model\n",
        "    if sample_method == 'none':\n",
        "      rfModel.fit(X_train, y_train)\n",
        "    else:\n",
        "      X_train_samp_df = pd.DataFrame(X_train_samp, columns=X_train.columns, dtype=float)\n",
        "      rfModel.fit(X_train_samp_df, y_train_samp)\n",
        "\n",
        "    # capture model performance\n",
        "    y_pred_rf = rfModel.predict(X_test)\n",
        "    accuracy_cv[i] = accuracy_score(y_pred_rf, y_test)\n",
        "\n",
        "  # Record average accuracy so we can then get the optimal one\n",
        "  results[n] = accuracy_cv.mean().round(3)\n",
        "\n",
        "# Print result so we can see which tree count provided best RMSE\n",
        "print(f\"CV Accuracy by Tree Count:\\n\")\n",
        "for n, trees in enumerate(num_trees):\n",
        "  print(f'Trees={num_trees[n]} | Accuracy={results[n]}')\n",
        "  if results[n] == results.max():\n",
        "    optimal_trees = num_trees[n]\n",
        "    optimal_accuracy = results[n]\n",
        "    print(f'Optimal Trees={optimal_trees}')"
      ],
      "execution_count": 67,
      "outputs": [
        {
          "output_type": "stream",
          "name": "stdout",
          "text": [
            "CV Accuracy by Tree Count:\n",
            "\n",
            "Trees=10 | Accuracy=0.156\n",
            "Trees=20 | Accuracy=0.162\n",
            "Trees=30 | Accuracy=0.162\n",
            "Trees=40 | Accuracy=0.163\n",
            "Trees=50 | Accuracy=0.163\n",
            "Trees=60 | Accuracy=0.164\n",
            "Trees=70 | Accuracy=0.165\n",
            "Trees=80 | Accuracy=0.165\n",
            "Trees=90 | Accuracy=0.167\n",
            "Optimal Trees=90\n",
            "Trees=100 | Accuracy=0.165\n"
          ]
        }
      ]
    },
    {
      "cell_type": "code",
      "metadata": {
        "id": "c3QcwX0yuqyg"
      },
      "source": [
        "# Re-running the RF model with the suggested number of trees\n",
        "model = RandomForestClassifier(n_estimators = optimal_trees, random_state=random_seed) \n",
        "X_train, X_test, y_train, y_test = train_test_split(X,y,test_size=0.2)\n",
        "\n",
        "if sample_method == 'none':\n",
        "  model.fit(X_train,y_train)\n",
        "else:\n",
        "  if sample_method == 'under':\n",
        "    X_train_samp, y_train_samp = rus.fit_resample(X_train, y_train)\n",
        "  else:\n",
        "    X_train_samp, y_train_samp = rus.fit_resample(X_train, y_train)\n",
        "  \n",
        "  X_train_samp_df = pd.DataFrame(X_train_samp, columns=X_train.columns, dtype=float)\n",
        "  model.fit(X_train_samp_df, y_train_samp)\n",
        "\n",
        "y_pred_rf = model.predict(X_test)"
      ],
      "execution_count": 68,
      "outputs": []
    },
    {
      "cell_type": "code",
      "metadata": {
        "id": "N1DnbBJsuogR",
        "colab": {
          "base_uri": "https://localhost:8080/",
          "height": 843
        },
        "outputId": "7d37d7b7-7361-45f1-b892-cf1afcffcc3f"
      },
      "source": [
        "# Confusion matrix for random forest results\n",
        "# TODO: How to get the actual values for each item. Need to map index values with real values.\n",
        "plt.figure(figsize=(14,36))\n",
        "mat = metrics.confusion_matrix(y_test,y_pred_rf)\n",
        "ax = sns.heatmap(mat.T, square=True, annot=True, fmt='d', cbar=False)\n",
        "# ax.set_xticklabels(ax.get_xticklabels)\n",
        "# ax.set_yticklabels(ax.get_yticklabels)\n",
        "            # xticklabels=range(1,23), yticklabels=range(1,23))\n",
        "plt.xlabel('Known')\n",
        "plt.ylabel('Predicted');"
      ],
      "execution_count": 69,
      "outputs": [
        {
          "output_type": "display_data",
          "data": {
            "image/png": "[encoded data removed]",
            "text/plain": [
              "<Figure size 1008x2592 with 1 Axes>"
            ]
          },
          "metadata": {
            "needs_background": "light"
          }
        }
      ]
    },
    {
      "cell_type": "code",
      "metadata": {
        "id": "M3kdNO8vMIly",
        "colab": {
          "base_uri": "https://localhost:8080/"
        },
        "outputId": "d3c14a31-2c7d-4d84-97eb-70dd925a5528"
      },
      "source": [
        "# Classification report for random forest results.\n",
        "labels = list(map(str, range(1,16)))\n",
        "classification_result = classification_report(y_test, y_pred_rf, target_names=labels)\n",
        "print(classification_result)"
      ],
      "execution_count": 70,
      "outputs": [
        {
          "output_type": "stream",
          "name": "stdout",
          "text": [
            "              precision    recall  f1-score   support\n",
            "\n",
            "           1       0.21      0.10      0.14      2049\n",
            "           2       0.11      0.13      0.12       861\n",
            "           3       0.13      0.33      0.19       508\n",
            "           4       0.24      0.29      0.26      1073\n",
            "           5       0.27      0.27      0.27      1078\n",
            "           6       0.08      0.25      0.12       394\n",
            "           7       0.22      0.22      0.22      1013\n",
            "           8       0.14      0.18      0.16       732\n",
            "           9       0.09      0.13      0.11       725\n",
            "          10       0.16      0.08      0.10      1731\n",
            "          11       0.21      0.11      0.14      1962\n",
            "          12       0.24      0.30      0.27       956\n",
            "          13       0.10      0.22      0.14       549\n",
            "          14       0.14      0.12      0.13       982\n",
            "          15       0.16      0.14      0.15      1164\n",
            "\n",
            "    accuracy                           0.17     15777\n",
            "   macro avg       0.17      0.19      0.17     15777\n",
            "weighted avg       0.18      0.17      0.17     15777\n",
            "\n"
          ]
        }
      ]
    },
    {
      "cell_type": "code",
      "metadata": {
        "id": "onFyHjjhutVI"
      },
      "source": [
        "# Visualization for the Random Forest\n",
        "# display(graphviz.Source(tree.export_graphviz(rfModel.estimators_[0], feature_names=X.columns)))"
      ],
      "execution_count": 26,
      "outputs": []
    },
    {
      "cell_type": "code",
      "metadata": {
        "id": "W89bcIB1uvKM",
        "colab": {
          "base_uri": "https://localhost:8080/",
          "height": 328
        },
        "outputId": "3d38c88f-7e4d-4128-9ed6-cb53554f7ed2"
      },
      "source": [
        "importances = rfModel.feature_importances_\n",
        "forest_importances = pd.Series(importances, index=X_train.columns)\n",
        "\n",
        "plt.figure()\n",
        "forest_importances.plot.bar()\n",
        "plt.ylabel(\"Feature Importance Score\")"
      ],
      "execution_count": 71,
      "outputs": [
        {
          "output_type": "execute_result",
          "data": {
            "text/plain": [
              "Text(0, 0.5, 'Feature Importance Score')"
            ]
          },
          "metadata": {},
          "execution_count": 71
        },
        {
          "output_type": "display_data",
          "data": {
            "image/png": "[encoded data removed]",
            "text/plain": [
              "<Figure size 432x288 with 1 Axes>"
            ]
          },
          "metadata": {
            "needs_background": "light"
          }
        }
      ]
    },
    {
      "cell_type": "markdown",
      "metadata": {
        "id": "_EE_HuB6ukGJ"
      },
      "source": [
        "## XG Boost - Ellie/Cecilia\n",
        "\n",
        "[XG Boost Documentation](https://xgboost.readthedocs.io/en/stable/tutorials/index.html)\n",
        "\n",
        "[Grid Search CV documentation](https://scikit-learn.org/stable/modules/generated/sklearn.model_selection.GridSearchCV.html)\n",
        "\n",
        "[Class notebook on XG Boost](https://colab.research.google.com/drive/1q1xJOKgVCM-BYfrarCdk4EgE42ZUdVEO)\n",
        "\n",
        "[Class lecture on XG Boost](https://docs.google.com/presentation/d/1rEi9AKVslEAzyskRPbKWRfGikhcfFfmU/edit#slide=id.p1)\n",
        "\n"
      ]
    },
    {
      "cell_type": "code",
      "metadata": {
        "id": "yK9lGf62sBaS"
      },
      "source": [
        "# XG Boost work in progress\n",
        "# random_seed = 0\n",
        "# rus = RandomUnderSampler(random_state=random_seed)\n",
        "# ros = RandomOverSampler(random_state=random_seed)\n",
        "# cv_loops = 5\n",
        "# accuracy_cv = np.zeros(cv_loops)\n",
        "\n",
        "# for i in range(cv_loops):\n",
        "#   X_train, X_test, y_train, y_test = train_test_split(X, y, test_size=0.20)\n",
        "#   # X_train_samp, y_train_samp = ros.fit_resample(X_train, y_train)\n",
        "#   # X_train_samp_df = pd.DataFrame(X_train_samp, columns=X_train.columns, dtype=float)\n",
        "\n",
        "#   xgbc = xgb.XGBClassifier(objective ='multi:softmax', verbosity=0, seed = 10, learning_rate=0.3)\n",
        "#   # xgbc.fit(X_train_samp, y_train_samp)\n",
        "#   xgbc.fit(X_train, y_train)\n",
        "#   y_pred_xgb = xgbc.predict(X_test)\n",
        "\n",
        "#   accuracy_cv[i] = accuracy_score(y_pred_xgb, y_test)\n",
        "\n",
        "# # Print result so we can see which tree count provided best RMSE\n",
        "# print(f\"CV Accuracy for XG Boost: {accuracy_cv.mean().round(3)}\")"
      ],
      "execution_count": null,
      "outputs": []
    },
    {
      "cell_type": "code",
      "metadata": {
        "id": "CGDJNycV_1xm"
      },
      "source": [
        "# XGB testing parameters\n",
        "values, counts = np.unique(y, return_counts=True)\n",
        "class_count = len(values)\n",
        "\n",
        "param_test = {\n",
        "  'max_depth': range(1,8),\n",
        "  'learning_rate' : [0.1, 0.2, 0.3, 0.4], \n",
        "  'n_estimators': range(10,41,10),\n",
        "  'class_count': class_count\n",
        "}\n",
        "\n",
        "# Perform the grid search\n",
        "gsearch = GridSearchCV(estimator = xgb.XGBClassifier(objective = 'multi:softmax', seed = 10), \n",
        " param_grid = param_test, scoring='accuracy', cv=5)\n",
        "\n",
        "# Fit to training data \n",
        "X_train, X_test, y_train, y_test = train_test_split(X_xgb,Y_xgb,test_size=0.20)\n",
        "\n",
        "# if sampling\n",
        "X_train_samp, y_train_samp = ros.fit_resample(X_train, y_train)\n",
        "X_train_samp_df = pd.DataFrame(X_train_samp, columns=X_train.columns, dtype=float)\n",
        "model = gsearch.fit(X_train_samp_df,y_train_samp)\n",
        "\n",
        "# if not sampling\n",
        "# model = gsearch.fit(X_train, y_train)\n",
        "\n",
        "# See grid search results\n",
        "print(model.best_params_)"
      ],
      "execution_count": 30,
      "outputs": []
    },
    {
      "cell_type": "code",
      "metadata": {
        "id": "HGRYJ8caJ39Q"
      },
      "source": [
        "# Classification Report for XG Boost\n",
        "# labels = list(map(str, range(1,23)))\n",
        "# classification_result = classification_report(y_test_xgb, y_pred_xgb, target_names=labels)\n",
        "# print(classification_result)"
      ],
      "execution_count": 29,
      "outputs": []
    },
    {
      "cell_type": "markdown",
      "metadata": {
        "id": "Md1DnQZTN6gA"
      },
      "source": [
        "I'm wondering if one way to address the model's poor accuracy for some classes is to remove some of the advanced occupation codes. Perhaps we could try the model again after removing class 5 (Life, physical, and social science occupations)?"
      ]
    },
    {
      "cell_type": "code",
      "metadata": {
        "id": "M_2_mIOiN99p"
      },
      "source": [
        "#Determine feature importance\n",
        "\n",
        "# feat_imp = pd.Series(xgbc.feature_importances_, index=X_xgb.columns)\n",
        "# plt.figure(figsize = (10,6))\n",
        "# ax = sns.barplot(x = feat_imp.index, y = feat_imp.values)\n",
        "# ax.set_xticklabels(ax.get_xticklabels(),rotation = 90)\n",
        "# plt.xlabel('Feature')\n",
        "# plt.ylabel('Feature Importance Score')"
      ],
      "execution_count": 31,
      "outputs": []
    },
    {
      "cell_type": "markdown",
      "metadata": {
        "id": "0cSxlk9NOCcX"
      },
      "source": [
        "Important features include \n",
        "- A_MJOCC : Major occupation recode (this seems like a type of duplicate of our target variable, A_DTCC? Not sure this should be included in our dataset)\n",
        "- WEIND : index of longest job by detailed codes (this also seems like a duplicate, not sure this should be included)\n",
        "- A_HGA : Education Attainment\n",
        "- A_SEX : Sex\n",
        "- HRCHECK : Employed full or part time"
      ]
    },
    {
      "cell_type": "markdown",
      "metadata": {
        "id": "g9_b_cS4YYJt"
      },
      "source": [
        "# Data Processing Using Pipelines - Cecilia\n",
        "\n",
        "Want to use GridSearchCV for hyperparameter optimization. Data did not require imputation because it was already in an encoded/imputed state as provided by the ASEC website.\n",
        "\n",
        "[SK Learn Documentation on Pipelines](https://scikit-learn.org/stable/modules/generated/sklearn.pipeline.Pipeline.html)\n",
        "\n",
        "[Class notes on Pipelines](https://colab.research.google.com/drive/15k8pO0FZrEnkgAN8Zxc8E_21TT5sjsxl)\n"
      ]
    },
    {
      "cell_type": "markdown",
      "metadata": {
        "id": "2XaugwKobkBi"
      },
      "source": [
        "## Pipeline All Models"
      ]
    },
    {
      "cell_type": "code",
      "metadata": {
        "colab": {
          "base_uri": "https://localhost:8080/"
        },
        "id": "8WucPhq6hCuw",
        "outputId": "42a1712e-f5ec-49ea-c277-fb0ab9eafebd"
      },
      "source": [
        "# Get view of classes so we can pass as parameter to models\n",
        "values, counts = np.unique(y, return_counts=True)\n",
        "class_count = len(values)\n",
        "print(values)\n",
        "print(counts)\n",
        "print(class_count)\n"
      ],
      "execution_count": 236,
      "outputs": [
        {
          "output_type": "stream",
          "name": "stdout",
          "text": [
            "[ 1  2  3  8 10 11 13 14 15 16 17 19 20 21 22]\n",
            "[10239  4236  2682  5638  5204  2109  5124  3531  3479  8564  9913  4931\n",
            "  2693  4964  5576]\n",
            "15\n"
          ]
        }
      ]
    },
    {
      "cell_type": "code",
      "metadata": {
        "id": "haUuWQkqbjUm",
        "colab": {
          "base_uri": "https://localhost:8080/"
        },
        "outputId": "7fdaf74d-0536-4b84-ca6e-93e1f0de3274"
      },
      "source": [
        "# TODO: if I use gridsearch, can I pass in my oversampled/undersampled dataset?\n",
        "random_seed = 0\n",
        "test_size = 0.20\n",
        "X_train, X_test, y_train, y_test = train_test_split(X, y, test_size=test_size, random_state=random_seed)\n",
        "\n",
        "# TODO: look at using sampling_strategy parameter\n",
        "rus = RandomUnderSampler(random_state=random_seed)\n",
        "ros = RandomOverSampler(random_state=random_seed)\n",
        "dtc = DecisionTreeClassifier(random_state=random_seed)\n",
        "rfc = RandomForestClassifier(random_state=random_seed)\n",
        "xgbc = xgb.XGBClassifier()\n",
        "\n",
        "pipe = Pipeline(steps=[(\"sampler\", rus), (\"classifier\", xgbc)])\n",
        "# pipe = Pipeline(steps=[(\"classifier\", dtc)])\n",
        "# pipe = Pipeline(steps=[(\"classifier\", xgbc)])\n",
        "\n",
        "# to get it to run\n",
        "# - try undersampler only\n",
        "# - reducing range for nestimators\n",
        "# - after complete - run it with test data\n",
        "\n",
        "\n",
        "parameters = [\n",
        "  {\n",
        "    \"sampler\": [rus]\n",
        "  },\n",
        "  # {\n",
        "  #   \"classifier\": [dtc],\n",
        "  #   \"classifier__max_depth\": range(1,10)\n",
        "  # },\n",
        "  # {\n",
        "  #   \"classifier\": [rfc],\n",
        "  #   \"classifier__n_estimators\": range(10,101,10),\n",
        "    # \"classifier__max_depth\": range(1,10)\n",
        "  # },\n",
        "  {\n",
        "    \"classifier\": [xgbc],\n",
        "    \"classifier__objective\": [\"multi:softmax\"],\n",
        "    \"classifier__verbosity\": [0],\n",
        "    \"classifier__seed\": [10],\n",
        "    \"classifier__learning_rate\": [0.1, 0.2, 0.3, 0.4],\n",
        "    \"classifier__n_estimators\": range(10,41,10),\n",
        "    \"classifier__max_depth\": range(1,8),\n",
        "    \"classifier__num_class\": [class_count]\n",
        "  }\n",
        "]\n",
        "\n",
        "# Try recall instead of accuracy to deal with unbalanced classes\n",
        "grid = GridSearchCV(estimator=pipe, param_grid=parameters, scoring='accuracy', cv=5, return_train_score=True)\n",
        "grid.fit(X_train, y_train)"
      ],
      "execution_count": 242,
      "outputs": [
        {
          "output_type": "execute_result",
          "data": {
            "text/plain": [
              "GridSearchCV(cv=5,\n",
              "             estimator=Pipeline(steps=[('sampler',\n",
              "                                        RandomUnderSampler(random_state=0)),\n",
              "                                       ('classifier',\n",
              "                                        XGBClassifier(learning_rate=0.2,\n",
              "                                                      max_depth=6,\n",
              "                                                      n_estimators=40,\n",
              "                                                      num_class=15,\n",
              "                                                      objective='multi:softmax',\n",
              "                                                      seed=10, verbosity=0))]),\n",
              "             param_grid=[{'sampler': [RandomUnderSampler(random_state=0)]},\n",
              "                         {'classifier': [XGBClassifier(learning_rate=0.2,\n",
              "                                                       max_depth=6,\n",
              "                                                       n_...\n",
              "                                                       num_class=15,\n",
              "                                                       objective='multi:softmax',\n",
              "                                                       seed=10, verbosity=0)],\n",
              "                          'classifier__learning_rate': [0.1, 0.2, 0.3, 0.4],\n",
              "                          'classifier__max_depth': range(1, 8),\n",
              "                          'classifier__n_estimators': range(10, 41, 10),\n",
              "                          'classifier__num_class': [15],\n",
              "                          'classifier__objective': ['multi:softmax'],\n",
              "                          'classifier__seed': [10],\n",
              "                          'classifier__verbosity': [0]}],\n",
              "             return_train_score=True, scoring='accuracy')"
            ]
          },
          "metadata": {},
          "execution_count": 242
        }
      ]
    },
    {
      "cell_type": "code",
      "metadata": {
        "id": "xR6l3N2JZNOx",
        "colab": {
          "base_uri": "https://localhost:8080/"
        },
        "outputId": "c6052ee9-79e7-45f8-e41b-bddf05e857e1"
      },
      "source": [
        "grid.best_score_"
      ],
      "execution_count": 243,
      "outputs": [
        {
          "output_type": "execute_result",
          "data": {
            "text/plain": [
              "0.22764874236374624"
            ]
          },
          "metadata": {},
          "execution_count": 243
        }
      ]
    },
    {
      "cell_type": "code",
      "metadata": {
        "id": "hXDCl03TZZkO",
        "colab": {
          "base_uri": "https://localhost:8080/"
        },
        "outputId": "3ba30eb9-0f64-4a4c-f9fe-4b26fe63f194"
      },
      "source": [
        "grid.best_estimator_"
      ],
      "execution_count": 244,
      "outputs": [
        {
          "output_type": "execute_result",
          "data": {
            "text/plain": [
              "Pipeline(steps=[('sampler', RandomUnderSampler(random_state=0)),\n",
              "                ('classifier',\n",
              "                 XGBClassifier(learning_rate=0.2, max_depth=6, n_estimators=40,\n",
              "                               num_class=15, objective='multi:softprob',\n",
              "                               seed=10, verbosity=0))])"
            ]
          },
          "metadata": {},
          "execution_count": 244
        }
      ]
    },
    {
      "cell_type": "code",
      "metadata": {
        "id": "pdqaimymZo04",
        "colab": {
          "base_uri": "https://localhost:8080/"
        },
        "outputId": "e0ff4606-be92-4d7b-cf98-6bced4e66a96"
      },
      "source": [
        "grid.best_params_"
      ],
      "execution_count": 245,
      "outputs": [
        {
          "output_type": "execute_result",
          "data": {
            "text/plain": [
              "{'classifier': XGBClassifier(learning_rate=0.2, max_depth=6, n_estimators=40, num_class=15,\n",
              "               objective='multi:softmax', seed=10, verbosity=0),\n",
              " 'classifier__learning_rate': 0.2,\n",
              " 'classifier__max_depth': 6,\n",
              " 'classifier__n_estimators': 40,\n",
              " 'classifier__num_class': 15,\n",
              " 'classifier__objective': 'multi:softmax',\n",
              " 'classifier__seed': 10,\n",
              " 'classifier__verbosity': 0}"
            ]
          },
          "metadata": {},
          "execution_count": 245
        }
      ]
    },
    {
      "cell_type": "code",
      "metadata": {
        "id": "wt-osDgKZ0eM"
      },
      "source": [
        "# grid.cv_results_"
      ],
      "execution_count": null,
      "outputs": []
    }
  ]
}