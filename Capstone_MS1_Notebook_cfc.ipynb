{
  "nbformat": 4,
  "nbformat_minor": 0,
  "metadata": {
    "colab": {
      "name": "Capstone MS1 - Notebook cfc.ipynb",
      "provenance": [],
      "collapsed_sections": [],
      "toc_visible": true,
      "authorship_tag": "ABX9TyNcP0jJYjHVGmcJSCPi+jnq",
      "include_colab_link": true
    },
    "kernelspec": {
      "name": "python3",
      "display_name": "Python 3"
    },
    "language_info": {
      "name": "python"
    }
  },
  "cells": [
    {
      "cell_type": "markdown",
      "metadata": {
        "id": "view-in-github",
        "colab_type": "text"
      },
      "source": [
        "<a href=\"https://colab.research.google.com/github/cfcastillo/DS-6-Notebooks/blob/main/Capstone_MS1_Notebook_cfc.ipynb\" target=\"_parent\"><img src=\"https://colab.research.google.com/assets/colab-badge.svg\" alt=\"Open In Colab\"/></a>"
      ]
    },
    {
      "cell_type": "markdown",
      "metadata": {
        "id": "MDdxjZ0FKN_t"
      },
      "source": [
        "# Capstone Overview\n",
        "\n",
        "1. find data\n",
        "1. what type of analysis do i want to do?\n",
        "1. Can I apply methods from class?\n",
        " * predictive\n",
        " * clustering\n",
        " "
      ]
    },
    {
      "cell_type": "markdown",
      "metadata": {
        "id": "1faCHIjobl8k"
      },
      "source": [
        "# Imports"
      ]
    },
    {
      "cell_type": "code",
      "metadata": {
        "id": "QfQPgzzSer2x"
      },
      "source": [
        "# grab the imports needed for the project\n",
        "import pandas as pd\n",
        "import matplotlib.pyplot as plt\n",
        "import numpy as np\n",
        "import seaborn as sns\n",
        "import statsmodels.api as sm\n",
        "\n",
        "# all\n",
        "from sklearn import datasets\n",
        "from sklearn import metrics\n",
        "from sklearn import preprocessing\n",
        "from sklearn.metrics import classification_report\n",
        "import sklearn.model_selection as model_selection\n",
        "\n",
        "# Gaussian Naive Bayes\n",
        "from sklearn.naive_bayes import GaussianNB\n",
        "from sklearn.naive_bayes import MultinomialNB\n",
        "\n",
        "# Regression\n",
        "from sklearn.linear_model import LinearRegression\n",
        "from sklearn.model_selection import train_test_split\n",
        "from sklearn.model_selection import cross_val_score\n",
        "from sklearn.metrics import mean_squared_error\n",
        "\n",
        "\n"
      ],
      "execution_count": null,
      "outputs": []
    },
    {
      "cell_type": "markdown",
      "metadata": {
        "id": "2X_x566Q0Slj"
      },
      "source": [
        "# xxxx Trends in Student Post Secondary Enrollment\n",
        "\n",
        "The purpose of this project would be to see post secondary enrollment trends over time showing:\n",
        "* numbers of students enrolled\n",
        "* demographics of students enrolled\n",
        "* course completion rates\n",
        "\n",
        "I believe that college enrollment is declining as students seek other education options such as self-guided online learning, bootcamps and vocational schools. Results from this project could guide CNM in how it could better serve student needs for those who are considering non-college options. Alternately this project could support UNM or other universities in revamping their offerings and tuition rates to fit today's trends and attract students back to college."
      ]
    },
    {
      "cell_type": "markdown",
      "metadata": {
        "id": "vdBF_i1ec9LE"
      },
      "source": [
        "# xxxx Relationship between government funding and quality of education\n",
        "\n",
        "Commonly, it is argued that more money is needed in public school systems to achieve a better education. The purpose of this project is to verify if more money equates to a better education or if there are other non-monetary factors that equate to a better education.\n",
        "\n",
        "Since \"a better education\" needs to be measurable, then things like test scores, college enrollment, job acquisition might be assessed to evaluate educational success.\n",
        "\n",
        "[International Education](https://console.cloud.google.com/marketplace/product/the-world-bank/education)\n",
        "\n",
        "[Big Data Project](https://console.cloud.google.com/bigquery?project=test-project-324921&ws=!1m5!1m4!4m3!1sbigquery-public-data!2sworld_bank_intl_education!3sinternational_education!1m5!1m4!1m3!1stest-project-324921!2sbquxjob_4e443ecd_17bad91ed73!3sUS&j=bq:US:bquxjob_4e443ecd_17bad91ed73&page=queryresults)\n",
        "\n",
        "[Census Data on Education](https://data.census.gov/cedsci/all?q=education)\n",
        "\n",
        "[Federal Department of Education ED Data Inventory](https://datainventory.ed.gov/home)\n",
        "\n",
        "[National Center for Education Statistics](https://nces.ed.gov/datatools/)\n",
        "\n",
        "*Note: Don't use the International Data Explorer. It is not very robust and prepares a separate report per variable.*\n",
        "\n",
        "*Note: College Navigator and DataLab are good to use.*\n",
        "\n",
        "\n",
        "\n",
        "\n"
      ]
    },
    {
      "cell_type": "markdown",
      "metadata": {
        "id": "FKwEQvb20W2K"
      },
      "source": [
        "# xxxx How government funding affects university/college tuition rates\n",
        "\n",
        "A friend suggested this project because she believes that college tuition rates are determined by the amount of government sponsored loans that students receive rather than colleges basing rates on their expenses. In other words, colleges are likely to expand tuition rates in order to consume the \"free money\" that students receive from the government. The idea is that this is similar to doctors' offices billing insurance companies more than they would bill a self-pay patient; going where the big pockets are.\n",
        "\n",
        "The purpose of this project would be to see if the amount of money granted in student loans correlates to the amount of tuition billed and to see which came first (chicken and egg problem) - the student loan or the increase in tuition. If indeed colleges are increasing tuition to get more government money, then this research might help lower the cost of tuition by encouraging colleges to base tuition on actual costs rather than available funding."
      ]
    },
    {
      "cell_type": "markdown",
      "metadata": {
        "id": "iMHgx6x7SNJk"
      },
      "source": [
        "## Data Collection\n",
        "\n",
        "[Annual Survey of School System Finances](https://catalog.data.gov/dataset/annual-survey-of-school-system-finances)\n",
        "\n",
        "*Note: the most recent year available is 2016-17.*\n",
        "\n",
        "*Note 2: the college transparency data is not available. 505 error when trying to retrieve*\n",
        "\n",
        "[Local Education Agency Finance Survey (F-33)](https://nces.ed.gov/ccd/f33agency.asp)\n",
        "\n",
        "*Note: the most recent year available is 2016-17.*\n",
        "\n",
        "[College Affordability and Transparency](https://collegecost.ed.gov/affordability)\n",
        "\n"
      ]
    },
    {
      "cell_type": "markdown",
      "metadata": {
        "id": "-5xidhJa0agK"
      },
      "source": [
        "# IoT Garbage collection - where does it all go?\n",
        "\n",
        "I have long been dissatisfied with the large amount of garbage that Americans produce. We are moving toward sustainable packaging and recycling to help alleviate problems. But the issue persists. Further, I understand that a lot of \"recycled\" materials are not actually recycled. Rather they are sent out of the country.\n",
        "\n",
        "The purpose of this project would be to see how much garbage is produced by households by area and identify types of garbage along with how much is recyclable vs. waste. Then with the results, perhaps we can come up with industry to better handle the waste:\n",
        "\n",
        "* composting vegetable waste\n",
        "* upcycling clothing and accessories\n",
        "* reusing waste as building materials"
      ]
    },
    {
      "cell_type": "markdown",
      "metadata": {
        "id": "zT0aAEUbWGml"
      },
      "source": [
        "## IoT Idea\n",
        "Smart bins? Start weighing bins. Record weight, bin number, date.\n"
      ]
    },
    {
      "cell_type": "markdown",
      "metadata": {
        "id": "OeQEfZqcP2K5"
      },
      "source": [
        "## Data Collection\n",
        "\n",
        "[Community Recycling Drop-off Sites](https://opendata.cabq.gov/dataset/community-recycling-drop-off-sites)"
      ]
    },
    {
      "cell_type": "markdown",
      "metadata": {
        "id": "KjkZId4o1Gba"
      },
      "source": [
        "# later Albuquerque transportation - public, taxi, zip, uber/lyft, walk, bicycle\n",
        "\n",
        "Albuquerque has a public transportation system of busses and the rail-runner. They also offer specialty transportation like Sun Van. However, many are concerned that public transportation is unsafe and only used by homeless or low income individuals. Another thought is that, unless you live close to a bus line, then public transportation is inconvient.\n",
        "\n",
        "The purpose of this project would be to evaluate the types of transportation that people in Albuquerque use in order to determine how we can increase use of shared transportation or non-emissions emitting transportation.\n"
      ]
    },
    {
      "cell_type": "markdown",
      "metadata": {
        "id": "hOR3m7LHQKCJ"
      },
      "source": [
        "## Data Collection\n",
        "\n",
        "[Bus Routes and Transit Maps/Schedules](https://opendata.cabq.gov/organization/transit-department)"
      ]
    },
    {
      "cell_type": "markdown",
      "metadata": {
        "id": "3K0z4udE1JXJ"
      },
      "source": [
        "# later Utility usage by zip\n",
        "\n",
        "The purpose of this project would be to identify utility usage by area so that we can determine why utility usage trends exist. Once we know what is affecting utility usage, then we can better target solutions to reducing utility usage. Questions may be:\n",
        "\n",
        "* Who is using the most water, electricity and gas?\n",
        "* Who is producing the most trash?\n",
        "* Who is producing the most recyclables?\n",
        "* How does usage translate to household size, property size, property age?"
      ]
    },
    {
      "cell_type": "markdown",
      "metadata": {
        "id": "g4xRYt4DMdCX"
      },
      "source": [
        "## Data Collection\n",
        "\n",
        "[Address Points - City of Albuquerque](https://opendata.cabq.gov/dataset/address-points)\n",
        "\n",
        "[Market Statistics House Sales](https://www.gaar.com/market-statistics/monthly/june-2021-market-statistics)"
      ]
    },
    {
      "cell_type": "markdown",
      "metadata": {
        "id": "CWV3VdMg1No3"
      },
      "source": [
        "# later Yard sizes and type by zip code\n",
        "\n",
        "The purpose of this project is to identify yard sizes and type by zip code so that we can see how properties are being used. From the data, I would like to propose that some properties be used for urban gardens or increase native plants.\n",
        "\n",
        "* Are they xeriscaped?\n",
        "* Are they lawns?\n",
        "* Gardens or native plants?\n",
        "\n",
        "Clustering problem?"
      ]
    },
    {
      "cell_type": "markdown",
      "metadata": {
        "id": "uuvcpyErQSsl"
      },
      "source": [
        "## Data Collection\n",
        "\n",
        "[Pollen Count Report](https://opendata.cabq.gov/dataset/pollen-count)"
      ]
    },
    {
      "cell_type": "markdown",
      "metadata": {
        "id": "mlZCCG_QNKoI"
      },
      "source": [
        "# Other\n",
        "\n",
        "[Public Art on Display in Albuquerque](https://opendata.cabq.gov/organization/cultural-services-department)\n",
        "\n",
        "* Where to park in Abq and avoid a citation\n",
        "* Where are traffic barricades and why\n",
        "\n",
        "IoT [Where is free wifi from City](https://opendata.cabq.gov/dataset/free-wireless-access)\n",
        "\n",
        "[Sister Cities Project](https://catalog.data.gov/dataset/sister-city-points-u-s-and-mexico-2019-u-s-environmental-protection-agency-region-6)\n",
        "\n",
        "\n",
        "\n"
      ]
    }
  ]
}