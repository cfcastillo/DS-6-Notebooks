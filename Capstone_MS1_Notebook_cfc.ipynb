{
  "nbformat": 4,
  "nbformat_minor": 0,
  "metadata": {
    "colab": {
      "name": "Capstone MS1 - Notebook cfc.ipynb",
      "provenance": [],
      "collapsed_sections": [
        "1faCHIjobl8k"
      ],
      "authorship_tag": "ABX9TyMFkFdAM6qAY4NrAu/zHqnk",
      "include_colab_link": true
    },
    "kernelspec": {
      "name": "python3",
      "display_name": "Python 3"
    },
    "language_info": {
      "name": "python"
    }
  },
  "cells": [
    {
      "cell_type": "markdown",
      "metadata": {
        "id": "view-in-github",
        "colab_type": "text"
      },
      "source": [
        "<a href=\"https://colab.research.google.com/github/cfcastillo/DS-6-Notebooks/blob/main/Capstone_MS1_Notebook_cfc.ipynb\" target=\"_parent\"><img src=\"https://colab.research.google.com/assets/colab-badge.svg\" alt=\"Open In Colab\"/></a>"
      ]
    },
    {
      "cell_type": "markdown",
      "metadata": {
        "id": "MDdxjZ0FKN_t"
      },
      "source": [
        "# Capstone Milestone 1 - Topic Submissions and Data Collection\n",
        "\n",
        "The purpose of Capstone Milestone 1 is to submit at least two capstone project ideas along with data sources for each project. Deliverables are:\n",
        "\n",
        "* A preliminary problem definition\n",
        "* Information about the relevant data\n",
        "* Data sources and data type\n",
        "* Data loaded into Pandas DataFrame\n",
        "* An overview of the data - rows, columns, number of nulls, etc.\n",
        " "
      ]
    },
    {
      "cell_type": "markdown",
      "metadata": {
        "id": "1faCHIjobl8k"
      },
      "source": [
        "# Imports"
      ]
    },
    {
      "cell_type": "code",
      "metadata": {
        "id": "QfQPgzzSer2x"
      },
      "source": [
        "# grab the imports needed for the project\n",
        "import pandas as pd\n",
        "import matplotlib.pyplot as plt\n",
        "import numpy as np\n",
        "import seaborn as sns\n",
        "import statsmodels.api as sm\n",
        "\n",
        "# all\n",
        "from sklearn import datasets\n",
        "from sklearn import metrics\n",
        "from sklearn import preprocessing\n",
        "from sklearn.metrics import classification_report\n",
        "import sklearn.model_selection as model_selection\n",
        "\n",
        "# Gaussian Naive Bayes\n",
        "from sklearn.naive_bayes import GaussianNB\n",
        "from sklearn.naive_bayes import MultinomialNB\n",
        "\n",
        "# Regression\n",
        "from sklearn.linear_model import LinearRegression\n",
        "from sklearn.model_selection import train_test_split\n",
        "from sklearn.model_selection import cross_val_score\n",
        "from sklearn.metrics import mean_squared_error\n",
        "\n",
        "\n"
      ],
      "execution_count": null,
      "outputs": []
    },
    {
      "cell_type": "code",
      "metadata": {
        "colab": {
          "base_uri": "https://localhost:8080/"
        },
        "id": "AhC4tfijtGEF",
        "outputId": "6e0e7299-7491-4e27-c8c2-27154ad30f8a"
      },
      "source": [
        "# Import dbf file of neighborhoods\n",
        "# https://dbfread.readthedocs.io/en/latest/\n",
        "!pip3 install dbfread"
      ],
      "execution_count": null,
      "outputs": [
        {
          "output_type": "stream",
          "name": "stdout",
          "text": [
            "Collecting dbfread\n",
            "  Downloading dbfread-2.0.7-py2.py3-none-any.whl (20 kB)\n",
            "Installing collected packages: dbfread\n",
            "Successfully installed dbfread-2.0.7\n"
          ]
        }
      ]
    },
    {
      "cell_type": "code",
      "metadata": {
        "id": "bfW7k-CDtTE3"
      },
      "source": [
        "# dbf file import\n",
        "from dbfread import DBF\n",
        "from pandas import DataFrame"
      ],
      "execution_count": null,
      "outputs": []
    },
    {
      "cell_type": "code",
      "metadata": {
        "colab": {
          "base_uri": "https://localhost:8080/"
        },
        "id": "56-XtHratK0h",
        "outputId": "32d1fea8-af0b-45c3-ce29-0d3c140df5c4"
      },
      "source": [
        "# Mount Drive\n",
        "from google.colab import drive\n",
        "drive.mount('/drive')"
      ],
      "execution_count": null,
      "outputs": [
        {
          "output_type": "stream",
          "name": "stdout",
          "text": [
            "Mounted at /drive\n"
          ]
        }
      ]
    },
    {
      "cell_type": "markdown",
      "metadata": {
        "id": "P-IKp4rmAvgf"
      },
      "source": [
        "# Idea 1 - Post Secondary Enrollment Trends\n",
        "\n",
        "I have seen a downward trend in college education during my lifetime. College was very important in the 1980's and 1990's and was a requirement for many jobs. Without Internet resources, college was almost exlusively the only means of obtaining higher level education. With the Internet, YouTube&trade; and many online learning resources, information and education outside college is plentiful. As a result, college requirements for employment are declining. More employers are accepting people based on experience or certifications self-taught or through formal channels. So education is still important. What is changing is the mechanism for obtaining that education.\n",
        "\n",
        "**Problem Definition**\n",
        "\n",
        "What factors determine post secondary education choice? **Supervised Classification**\n",
        "\n",
        "Scope - County or Tract level - % that go whatever route.\n",
        "\n",
        "**Classifications**\n",
        "\n",
        "* Traditional University or College\n",
        "* Trade school\n",
        "* Online learning - proctored\n",
        "* Online learning - self-paced\n",
        "\n",
        "**Data Requirements**\n",
        "\n",
        "* Demographic data (gender, race, age, income, location, household size, citizenship)\n",
        "* Learning costs (tuition, board, fees, travel)\n",
        " * Scholarships and loans available.\n",
        "* Learning entry requirements (test scores, interview requirements)\n",
        "* Learning choices (college/university, trade school, udemy, coursera)\n",
        "* Learning characteristics (in person, remote, self paced, proctored, certificate, hours)\n",
        "* Job availability by type\n",
        " * Education requirements for jobs."
      ]
    },
    {
      "cell_type": "markdown",
      "metadata": {
        "id": "G5qt1bNrTVUD"
      },
      "source": [
        "## Data Collection - Idea 1\n",
        "\n",
        "[NM Census data](https://www.kaggle.com/muonneutrino/us-census-demographic-data?select=acs2017_census_tract_data.csv)\n",
        "\n",
        "[NM Geo Census data - 2020](https://www.census.gov/cgi-bin/geo/shapefiles/index.php?year=2020&layergroup=Census+Tracts)\n",
        "\n",
        "[US College Enrollment data](https://educationdata.org/college-enrollment-statistics)\n",
        "\n",
        "*Per educationdata.org, for nearly every state, around 90% of students are from outside the state.* \n",
        "\n",
        "*In NM, there has been a 24% decline in enrollment since 2010 while other states have declined less or have increased. Why?*\n",
        "\n",
        "[College spending by state](https://educationdata.org/public-education-spending-statistics)\n",
        "\n",
        "*Note: NM is 40th in spending per student. Other states with known education issues rank much higher - such as NY, MD, PA. The question is \"Does more money equate to a better education?\"*\n",
        "\n",
        "[Percent of recent HS grads enrolled in college](https://nces.ed.gov/programs/digest/d18/tables/dt18_302.20.asp)\n",
        "\n",
        "[OECD.stat Organization for Economic Cooperation and Development](https://stats.oecd.org/Index.aspx)\n",
        "\n",
        "*Note: Most recent data is 2012. Need to investigate further*\n",
        "\n",
        "[BEA.gov US Bureau of Economic Analysis](https://www.bea.gov/data/by-place-us)\n",
        "\n",
        "[UNESCO Institute for Statistics](http://data.uis.unesco.org/)\n",
        "\n",
        "[US Department of Education Budget Tables](https://www2.ed.gov/about/overview/budget/history/index.html)\n",
        "\n",
        "[National Science Foundation - Science and Engineering Indicators](https://ncses.nsf.gov/indicators/states/indicator/state-student-aid-expenditures-per-full-time-undergraduate-student)"
      ]
    },
    {
      "cell_type": "markdown",
      "metadata": {
        "id": "gUD7CFtATZQd"
      },
      "source": [
        "## Data Overview - Idea 1\n",
        "\n",
        "**Data Availability**\n",
        "\n",
        "* Lots of education statistics are available making this a practical project topic.\n",
        "* Most data is in Excel format so will be easily imported and converted to DataFrame.\n",
        "* Data will be from multiple sources so will need to be merged together.\n",
        "\n",
        "**Tasks**\n",
        "\n",
        "* Refine problem definition so I know what indicators will be needed for project analysis.\n",
        "* Specifically identify data sources that provide needed indicators.\n",
        "* Import, merge, transform, clean, review data sources in more detail to prepare for project analysis.\n",
        "\n",
        "\n"
      ]
    },
    {
      "cell_type": "code",
      "metadata": {
        "colab": {
          "base_uri": "https://localhost:8080/",
          "height": 205
        },
        "id": "rGOcxCTLtpaI",
        "outputId": "24b5f9f6-11e6-43ff-8156-3f380c737adc"
      },
      "source": [
        "# Census Tract Geo Data\n",
        "census_tract_path = \"/drive/MyDrive/Student Folder - Cecilia/Projects/Capstone/Data/tl_2020_35_tract/tl_2020_35_tract.dbf\"\n",
        "census_tract_dbf = DBF(census_tract_path)\n",
        "census_tract_df = DataFrame(census_tract_dbf)\n",
        "census_tract_df.head()\n",
        "# census_tract_df.info()"
      ],
      "execution_count": null,
      "outputs": [
        {
          "output_type": "execute_result",
          "data": {
            "text/html": [
              "<div>\n",
              "<style scoped>\n",
              "    .dataframe tbody tr th:only-of-type {\n",
              "        vertical-align: middle;\n",
              "    }\n",
              "\n",
              "    .dataframe tbody tr th {\n",
              "        vertical-align: top;\n",
              "    }\n",
              "\n",
              "    .dataframe thead th {\n",
              "        text-align: right;\n",
              "    }\n",
              "</style>\n",
              "<table border=\"1\" class=\"dataframe\">\n",
              "  <thead>\n",
              "    <tr style=\"text-align: right;\">\n",
              "      <th></th>\n",
              "      <th>STATEFP</th>\n",
              "      <th>COUNTYFP</th>\n",
              "      <th>TRACTCE</th>\n",
              "      <th>GEOID</th>\n",
              "      <th>NAME</th>\n",
              "      <th>NAMELSAD</th>\n",
              "      <th>MTFCC</th>\n",
              "      <th>FUNCSTAT</th>\n",
              "      <th>ALAND</th>\n",
              "      <th>AWATER</th>\n",
              "      <th>INTPTLAT</th>\n",
              "      <th>INTPTLON</th>\n",
              "    </tr>\n",
              "  </thead>\n",
              "  <tbody>\n",
              "    <tr>\n",
              "      <th>0</th>\n",
              "      <td>35</td>\n",
              "      <td>013</td>\n",
              "      <td>001207</td>\n",
              "      <td>35013001207</td>\n",
              "      <td>12.07</td>\n",
              "      <td>Census Tract 12.07</td>\n",
              "      <td>G5020</td>\n",
              "      <td>S</td>\n",
              "      <td>139531826</td>\n",
              "      <td>142378</td>\n",
              "      <td>+32.3771603</td>\n",
              "      <td>-106.5763162</td>\n",
              "    </tr>\n",
              "    <tr>\n",
              "      <th>1</th>\n",
              "      <td>35</td>\n",
              "      <td>013</td>\n",
              "      <td>001314</td>\n",
              "      <td>35013001314</td>\n",
              "      <td>13.14</td>\n",
              "      <td>Census Tract 13.14</td>\n",
              "      <td>G5020</td>\n",
              "      <td>S</td>\n",
              "      <td>246796932</td>\n",
              "      <td>0</td>\n",
              "      <td>+32.5239438</td>\n",
              "      <td>-106.6786859</td>\n",
              "    </tr>\n",
              "    <tr>\n",
              "      <th>2</th>\n",
              "      <td>35</td>\n",
              "      <td>013</td>\n",
              "      <td>001310</td>\n",
              "      <td>35013001310</td>\n",
              "      <td>13.10</td>\n",
              "      <td>Census Tract 13.10</td>\n",
              "      <td>G5020</td>\n",
              "      <td>S</td>\n",
              "      <td>4789927</td>\n",
              "      <td>0</td>\n",
              "      <td>+32.3798068</td>\n",
              "      <td>-106.7437402</td>\n",
              "    </tr>\n",
              "    <tr>\n",
              "      <th>3</th>\n",
              "      <td>35</td>\n",
              "      <td>013</td>\n",
              "      <td>001316</td>\n",
              "      <td>35013001316</td>\n",
              "      <td>13.16</td>\n",
              "      <td>Census Tract 13.16</td>\n",
              "      <td>G5020</td>\n",
              "      <td>S</td>\n",
              "      <td>4992654</td>\n",
              "      <td>0</td>\n",
              "      <td>+32.3936470</td>\n",
              "      <td>-106.7153743</td>\n",
              "    </tr>\n",
              "    <tr>\n",
              "      <th>4</th>\n",
              "      <td>35</td>\n",
              "      <td>013</td>\n",
              "      <td>001208</td>\n",
              "      <td>35013001208</td>\n",
              "      <td>12.08</td>\n",
              "      <td>Census Tract 12.08</td>\n",
              "      <td>G5020</td>\n",
              "      <td>S</td>\n",
              "      <td>21632784</td>\n",
              "      <td>56931</td>\n",
              "      <td>+32.3599472</td>\n",
              "      <td>-106.7188392</td>\n",
              "    </tr>\n",
              "  </tbody>\n",
              "</table>\n",
              "</div>"
            ],
            "text/plain": [
              "  STATEFP COUNTYFP TRACTCE  ...  AWATER     INTPTLAT      INTPTLON\n",
              "0      35      013  001207  ...  142378  +32.3771603  -106.5763162\n",
              "1      35      013  001314  ...       0  +32.5239438  -106.6786859\n",
              "2      35      013  001310  ...       0  +32.3798068  -106.7437402\n",
              "3      35      013  001316  ...       0  +32.3936470  -106.7153743\n",
              "4      35      013  001208  ...   56931  +32.3599472  -106.7188392\n",
              "\n",
              "[5 rows x 12 columns]"
            ]
          },
          "metadata": {},
          "execution_count": 6
        }
      ]
    },
    {
      "cell_type": "markdown",
      "metadata": {
        "id": "ebpXCM3DSGoG"
      },
      "source": [
        "# Idea 2 - Consumer Transportation Choices - SCRAP\n",
        "\n",
        "Apparently, this is a pet project for me; How to get people to take the Albuquerque city bus. My mom reminded me that I had a college project centered on this same topic. The purpose of this project would be to understand what factors contribute to people's transportation choices so that ultimately we could increase ride-sharing options thus reducing the number of individual cars on the road, thus reducing emissions and traffic congestion.\n",
        "\n",
        "**Problem Definition**\n",
        "\n",
        "What factors determine transportation choice? **Supervised Classification**\n",
        "\n",
        "**Classifications**\n",
        "\n",
        "* Bus\n",
        "* Rideshare (uber, lyft, cab, van)\n",
        "* Rental (Zip, other)\n",
        "* Physical (walk, bicycle, skateboard, scooter)\n",
        "* Personal vehicle \n",
        "\n",
        "**Data Requirements**\n",
        "\n",
        "* Demographic data (gender, race, age, income, location, household size, citizenship)\n",
        "* Transportation costs (purchase, rent, fare, insurance, fuel, repairs)\n",
        "* Distance traveled (commuting, running errands)\n",
        "* Usage frequency\n",
        "\n"
      ]
    },
    {
      "cell_type": "markdown",
      "metadata": {
        "id": "biesbfeYTrp3"
      },
      "source": [
        "## Data Collection - Idea 2\n",
        "\n",
        "[Bus routes and stops for ABQ RIDE](https://opendata.cabq.gov/dataset/bus-routes-and-stops-for-abq-ride)\n",
        "\n",
        "*Note: the data contains links to other useful data*\n",
        "\n",
        "[NM State Data Center Program](https://gonm.biz/site-selection/state-data-center-program)\n",
        "\n",
        "*Note: contains modes of transportation for each county by gender*"
      ]
    },
    {
      "cell_type": "markdown",
      "metadata": {
        "id": "02G7zfE6TuEk"
      },
      "source": [
        "## Data Overview - Idea 2\n",
        "\n",
        "**Data Availability**\n",
        "\n",
        "Data seems limited. I could find data on bus routes in Albuquerque and modes of transportation. However some factors might contribute to lack of data availability.\n",
        "\n",
        "* Are all groups represented in data? For example are homeless people represented? Are people who pay with cash represented? Are people who work remotely considered?\n",
        "\n",
        "* I could not find available data on Lyft, Uber, Taxi, rideshare, etc.\n",
        "\n",
        "* How would we get data on people who ride bicycles, skateboards, scooters, walk?"
      ]
    },
    {
      "cell_type": "markdown",
      "metadata": {
        "id": "kdhohgtVs4wM"
      },
      "source": [
        "# Project Conclusions - Before Project Completion\n",
        "\n",
        "The Internet has changed education and transportation. With the Internet, information is readily available. People can perform many tasks from the convenience of their home; work at home, shop at home, learn at home. The Internet has also changed our pace of life. People expect things to happen quickly. People do not want to spend several years and thousands of dollars on a college education if they can get a good job without making those sacrifices. People do not want to wait for public transportation if there are more convenient, affordable options available. People want services tailored to their lives, not the other way around.\n",
        "\n",
        "It seems that people are concerned with social media and social standing. So perhaps the way to increase college enrollment and public transportation usage is to market the social aspects of each. Every choice involves cost vs. benefit. We have to create perceived value for people to reconsider college and public transportation. "
      ]
    }
  ]
}