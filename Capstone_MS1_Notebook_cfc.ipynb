{
  "nbformat": 4,
  "nbformat_minor": 0,
  "metadata": {
    "colab": {
      "name": "Capstone MS1 - Notebook cfc.ipynb",
      "provenance": [],
      "collapsed_sections": [
        "1faCHIjobl8k"
      ],
      "toc_visible": true,
      "authorship_tag": "ABX9TyO7UUl/0C74g0dhALk/nHF/",
      "include_colab_link": true
    },
    "kernelspec": {
      "name": "python3",
      "display_name": "Python 3"
    },
    "language_info": {
      "name": "python"
    }
  },
  "cells": [
    {
      "cell_type": "markdown",
      "metadata": {
        "id": "view-in-github",
        "colab_type": "text"
      },
      "source": [
        "<a href=\"https://colab.research.google.com/github/cfcastillo/DS-6-Notebooks/blob/main/Capstone_MS1_Notebook_cfc.ipynb\" target=\"_parent\"><img src=\"https://colab.research.google.com/assets/colab-badge.svg\" alt=\"Open In Colab\"/></a>"
      ]
    },
    {
      "cell_type": "markdown",
      "metadata": {
        "id": "MDdxjZ0FKN_t"
      },
      "source": [
        "# Capstone Milestone 1 - Topic Submissions and Data Collection\n",
        "\n",
        "The purpose of Capstone Milestone 1 is to submit at least two capstone project ideas along with data sources for each project. Deliverables are:\n",
        "\n",
        "* A preliminary problem definition\n",
        "* Information about the relevant data\n",
        "* Data sources and data type\n",
        "* Data loaded into Pandas DataFrame\n",
        "* An overview of the data - rows, columns, number of nulls, etc.\n",
        " "
      ]
    },
    {
      "cell_type": "markdown",
      "metadata": {
        "id": "1faCHIjobl8k"
      },
      "source": [
        "# Imports"
      ]
    },
    {
      "cell_type": "code",
      "metadata": {
        "id": "QfQPgzzSer2x"
      },
      "source": [
        "# grab the imports needed for the project\n",
        "import pandas as pd\n",
        "import matplotlib.pyplot as plt\n",
        "import numpy as np\n",
        "import seaborn as sns\n",
        "import statsmodels.api as sm\n",
        "\n",
        "# all\n",
        "from sklearn import datasets\n",
        "from sklearn import metrics\n",
        "from sklearn import preprocessing\n",
        "from sklearn.metrics import classification_report\n",
        "import sklearn.model_selection as model_selection\n",
        "\n",
        "# Gaussian Naive Bayes\n",
        "from sklearn.naive_bayes import GaussianNB\n",
        "from sklearn.naive_bayes import MultinomialNB\n",
        "\n",
        "# Regression\n",
        "from sklearn.linear_model import LinearRegression\n",
        "from sklearn.model_selection import train_test_split\n",
        "from sklearn.model_selection import cross_val_score\n",
        "from sklearn.metrics import mean_squared_error\n",
        "\n",
        "\n"
      ],
      "execution_count": null,
      "outputs": []
    },
    {
      "cell_type": "markdown",
      "metadata": {
        "id": "P-IKp4rmAvgf"
      },
      "source": [
        "# Idea 1 - Post Secondary Enrollment Trends\n",
        "1. What is the probability that a student will graduate from college with a bachelor degree?\n",
        "1. What is the probability that a student will drop out of college without completing his/her bachelor degree?\n",
        "1. How does government spending affect student test scores?\n",
        "1. Factors affecting declining enrollment in NM\n",
        " * Enrollment is declining more in NM than many other states. Why?\n",
        " * Almost every state has 90% out of state students. Why? How can we increase our local enrollment?\n",
        "\n",
        "\n",
        "\n"
      ]
    },
    {
      "cell_type": "markdown",
      "metadata": {
        "id": "G5qt1bNrTVUD"
      },
      "source": [
        "## Data Collection - Idea 1\n",
        "\n",
        "Per educationdata.org, for nearly every state, around 90% of students are from outside the state. In NM, there has been a 24% decline in enrollment since 2010 while other states have declined less or have increased. Why?\n",
        "\n",
        "[NM Education Tracts](http://rgis.unm.edu/spatialsearch/#)\n",
        "[NM Education Tracts DD](http://rgis.unm.edu/spatialsearch/#)\n",
        "\n",
        "[NM Census data](https://www.kaggle.com/muonneutrino/us-census-demographic-data?select=acs2017_census_tract_data.csv)\n",
        "\n",
        "[NM Geo Census data](https://www.census.gov/cgi-bin/geo/shapefiles/index.php?year=2017&layergroup=Census+Tracts)\n",
        "\n",
        "[US College Enrollment data](https://educationdata.org/college-enrollment-statistics)\n",
        "\n",
        "[College spending by state](https://educationdata.org/public-education-spending-statistics)\n",
        "\n",
        "*NM is 40th in spending per student. Other states with known education issues rank much higher - such as NY, MD, PA. The question is \"Does more money equate to a better education?\"\n",
        "\n",
        "[Percent of recent HS grads enrolled in college](https://nces.ed.gov/programs/digest/d18/tables/dt18_302.20.asp)"
      ]
    },
    {
      "cell_type": "markdown",
      "metadata": {
        "id": "gUD7CFtATZQd"
      },
      "source": [
        "## Data Overview - Idea 1"
      ]
    },
    {
      "cell_type": "markdown",
      "metadata": {
        "id": "jaJKfVW6T4-D"
      },
      "source": [
        ""
      ]
    },
    {
      "cell_type": "markdown",
      "metadata": {
        "id": "ebpXCM3DSGoG"
      },
      "source": [
        "# Idea 2 - Consumer Transportation Choices\n",
        "1. What factors contribute to a person's decision to ride the bus in albuquerque?\n",
        "1. What types of transportation do people choose in Albuquerque?\n",
        "  * Uber/Lyft\n",
        "  * Cab\n",
        "  * Bus\n",
        "  * SunVan or other assisted transportation\n",
        "  * Bicycle, skateboard, scooter - self propelled\n",
        "    * includes electric bicycle, scooter, skateboard\n",
        "  * Zip or other car rental\n",
        "  * Carpool"
      ]
    },
    {
      "cell_type": "markdown",
      "metadata": {
        "id": "biesbfeYTrp3"
      },
      "source": [
        "## Data Collection - Idea 2\n",
        "\n",
        "[Bus routes and stops for ABQ RIDE](https://opendata.cabq.gov/dataset/bus-routes-and-stops-for-abq-ride)\n",
        "\n",
        "*Note: the data contains links to other useful data*\n",
        "\n",
        "[NM State Data Center Program](https://gonm.biz/site-selection/state-data-center-program)\n",
        "\n",
        "*Note: contains modes of transportation for each county by gender*"
      ]
    },
    {
      "cell_type": "markdown",
      "metadata": {
        "id": "02G7zfE6TuEk"
      },
      "source": [
        "## Data Overview - Idea 2"
      ]
    },
    {
      "cell_type": "markdown",
      "metadata": {
        "id": "XSU19G4DUNHf"
      },
      "source": [
        "# Idea 3 - Public Utilities Usage\n",
        "\n",
        "What does public utility usage look like in Albuquerque? What factors contribute to utility usage? When building new construction, can we predict utility usage for new developments?"
      ]
    },
    {
      "cell_type": "markdown",
      "metadata": {
        "id": "ePfLRRDSVXsu"
      },
      "source": [
        "## Data Collection - Idea 3"
      ]
    },
    {
      "cell_type": "markdown",
      "metadata": {
        "id": "75T6zMshVbqZ"
      },
      "source": [
        "## Data Overview - Idea 3"
      ]
    },
    {
      "cell_type": "markdown",
      "metadata": {
        "id": "qhg90qXsUulR"
      },
      "source": [
        "# Idea 4 - Economic Development in New Mexico\n",
        "\n",
        "What factors contribute to a new company's choice to open their business in New Mexico? Looking at new business development in NM over the past 10 years, can we predict what other companies might come to NM and how many jobs will be created and what skills will be needed for such jobs?"
      ]
    },
    {
      "cell_type": "markdown",
      "metadata": {
        "id": "wsGkUglzVeEX"
      },
      "source": [
        "## Data Collection - Idea 4\n",
        "\n",
        "[NM State Data Center Program](https://gonm.biz/site-selection/state-data-center-program)"
      ]
    },
    {
      "cell_type": "markdown",
      "metadata": {
        "id": "C_CC9cJaVfvx"
      },
      "source": [
        "## Data Overview - Idea 4"
      ]
    }
  ]
}