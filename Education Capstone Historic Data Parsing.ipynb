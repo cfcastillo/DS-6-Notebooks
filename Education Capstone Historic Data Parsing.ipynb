{
 "cells": [
  {
   "cell_type": "markdown",
   "id": "3645d4d3",
   "metadata": {},
   "source": [
    "# Parse 2018 Data\n",
    "\n",
    "Per the data dictionary, household, family, and person data are all in the same file. So will need to split them out to import into the main notebook.\n",
    "\n",
    "[Useful link on how to use Pandas to parse fix width files.](https://towardsdatascience.com/parsing-fixed-width-text-files-with-pandas-f1db8f737276)\n",
    "\n",
    "Records are organized by:\n",
    "\n",
    "- Household 92,139 1,076 Characters - **identified by first value = 1**\n",
    "- Family    79,236 1,076 Characters - **identified by first value = 2**\n",
    "- Person   180,084 1,076 Characters - **identified by first value = 3**\n"
   ]
  },
  {
   "cell_type": "code",
   "execution_count": 29,
   "id": "05a4992a",
   "metadata": {},
   "outputs": [],
   "source": [
    "# grab the imports needed for the project\n",
    "import pandas as pd\n",
    "import glob"
   ]
  },
  {
   "cell_type": "code",
   "execution_count": 69,
   "id": "7ba58700",
   "metadata": {},
   "outputs": [],
   "source": [
    "data_path = '~/Documents/CNM/DataScience/'\n",
    "# file_name = 'asec2014_pubuse_tax_fix_5x8_2017.dat'\n",
    "# file_name = 'asec2014_pubuse_3x8_rerun_v2.dat'\n",
    "file_name = 'asec2012_pubuse.dat'\n",
    "full_file_name = data_path + file_name\n",
    "hh_rec_type = 1\n",
    "ff_rec_type = 2\n",
    "pp_rec_type = 3"
   ]
  },
  {
   "cell_type": "markdown",
   "id": "06dc9ba6",
   "metadata": {},
   "source": [
    "## Household Record\n",
    "### 2015-2018\n",
    "\n",
    "Column| Spec| Code\n",
    ":---|:---|:---|\n",
    "H_IDNUM1| 344:15| 343-358\n",
    "H_IDNUM2| 320:5| 319-324\n",
    "H_SEQ| 2:5| 1-6\n",
    "GTMETSTA| 53:1| 52-53\n",
    "GEDIV| 329:1| 328-329\n",
    "GESTFIPS| 42:2| 41-43 \n",
    "HHINC| 272:2| 271-273\n",
    "H_TENURE| 35:1| 34-35\n",
    "H_LIVQRT| 31:2| 30-32\n",
    "\n",
    "### 2014 and eariler\n",
    "\n",
    "*Some column names changed but will still map to the same name as later years.*\n",
    "\n",
    "Column| Spec| Code\n",
    ":---|:---|:---|\n",
    "H-IDNUM1| 344:15| 343-358\n",
    "H-IDNUM2| 320:5| 319-324\n",
    "H-SEQ| 2:5| 1-6\n",
    "GTMETSTA| 53:1| 52-53\n",
    "GEDIV| 329:1| 328-329\n",
    "GESTFIPS| 42:2| 41-43 \n",
    "HHINC| 272:2| 271-273\n",
    "H-TENURE| 35:1| 34-35\n",
    "H-LIVQRT| 31:2| 30-32\n"
   ]
  },
  {
   "cell_type": "code",
   "execution_count": 70,
   "id": "4924dd38",
   "metadata": {},
   "outputs": [],
   "source": [
    "household_cols = ['GTMETSTA','GEDIV','GESTFIPS','HHINC','H_TENURE','H_LIVQRT']\n",
    "\n",
    "# tuples for start and end positions of columns\n",
    "hh_specs = [(0,1),(343,358),(319,324),(1,6),(52,53),(328,329),(41,43),(271,273),(34,35),(30,32)]\n",
    "\n",
    "# Household Columns\n",
    "all_hh_cols = ['REC_TYPE','H_IDNUM1','H_IDNUM2','H_SEQ'] + household_cols"
   ]
  },
  {
   "cell_type": "code",
   "execution_count": 71,
   "id": "8daf28e7",
   "metadata": {},
   "outputs": [],
   "source": [
    "# Run command to pull data into a dataframe\n",
    "hh_data = pd.read_fwf(full_file_name, skiprows=0, \n",
    "                      skipfooter=0, colspecs=hh_specs, names=all_hh_cols)"
   ]
  },
  {
   "cell_type": "code",
   "execution_count": 72,
   "id": "c1edbad7",
   "metadata": {},
   "outputs": [],
   "source": [
    "# Post processing\n",
    "hh_data_only = hh_data[hh_data['REC_TYPE']==hh_rec_type].copy()\n",
    "hh_data_only['H_IDNUM'] = hh_data_only['H_IDNUM1'].map(str) + hh_data_only['H_IDNUM2'].map(str)\n",
    "hh_data_only.drop(['H_IDNUM1', 'H_IDNUM2'], axis=1, inplace=True)\n",
    "hh_data_only['DATA_YEAR'] = '2012'\n",
    "hh_data_only.to_csv(data_path + 'hhpub12.csv')\n",
    "# hh_data_only.shape"
   ]
  },
  {
   "cell_type": "markdown",
   "id": "ac15df35",
   "metadata": {},
   "source": [
    "## Family Record\n",
    "\n",
    "*Note: 2014 and prior, underscores are dashes. i.e. FH_SEQ is FS-SEQ*\n",
    "\n",
    "Column| Spec| Code\n",
    ":---|:---|:---|\n",
    "FH_SEQ| 2:5| 1-5\n",
    "FINC_FR| 63:1| 62-63\n",
    "FINC_SE| 55:1|\n",
    "FINC_WS| 47:1|\n",
    "FINC_CSP| 173:1|\n",
    "FINC_DIS| 125:1|\n",
    "FINC_DIV| 149:1|\n",
    "FINC_RNT| 157:1|\n",
    "FINC_ED| 165:1|\n",
    "FINC_SS| 87:1|\n",
    "FINC_SSI| 95:1|\n",
    "FINC_FIN| 189:1|\n",
    "FINC_SUR| 117:1|\n",
    "FINC_INT| 141:1|\n",
    "FINC_UC| 71:1|\n",
    "FINC_OI| 197:1|\n",
    "FINC_VET| 109:1|\n",
    "FINC_PAW| 102:1|\n",
    "FINC_WC| 79:1|\n"
   ]
  },
  {
   "cell_type": "code",
   "execution_count": 73,
   "id": "17631e00",
   "metadata": {},
   "outputs": [],
   "source": [
    "# FKINDEX, 'FINC_ANN', 'FINC_DST', 'FINC_PEN' not in 2018 and earlier\n",
    "\n",
    "family_cols = ['FINC_FR','FINC_SE','FINC_WS','FINC_CSP','FINC_DIS','FINC_DIV','FINC_RNT',\n",
    "               'FINC_ED','FINC_SS','FINC_SSI','FINC_FIN','FINC_SUR','FINC_INT','FINC_UC',\n",
    "               'FINC_OI','FINC_VET','FINC_PAW','FINC_WC']\n",
    "\n",
    "# tuples for start and end positions of columns\n",
    "ff_specs = [(0,1),(1,5),(62,63),(54,55),(46,47),(172,173),(124,125),(148,149),(156,157),\n",
    "            (164,165),(86,87),(94,95),(188,189),(116,117),(140,141),(70,71),\n",
    "            (196,197),(108,109),(101,102),(78,79)]\n",
    "\n",
    "# Household Columns\n",
    "all_ff_cols = ['REC_TYPE','FH_SEQ'] + family_cols"
   ]
  },
  {
   "cell_type": "code",
   "execution_count": 74,
   "id": "94381a59",
   "metadata": {},
   "outputs": [],
   "source": [
    "# Run command to pull data into a dataframe\n",
    "ff_data = pd.read_fwf(full_file_name, skiprows=0, \n",
    "                      skipfooter=0, colspecs=ff_specs, names=all_ff_cols)"
   ]
  },
  {
   "cell_type": "code",
   "execution_count": 75,
   "id": "dcb7447d",
   "metadata": {},
   "outputs": [],
   "source": [
    "# Post processing\n",
    "ff_data_only = ff_data[ff_data['REC_TYPE']==ff_rec_type].copy()\n",
    "ff_data_only['DATA_YEAR'] = '2012'\n",
    "ff_data_only.to_csv(data_path + 'ffpub12.csv')\n",
    "# ff_data_only.shape"
   ]
  },
  {
   "cell_type": "markdown",
   "id": "1cf1a71b",
   "metadata": {},
   "source": [
    "## Person Record\n",
    "\n",
    "*Note: 2014 and prior, underscores are dashes. i.e. A_MJOCC = A-MJOCC*\n",
    "\n",
    "Column| Spec| Code\n",
    ":---|:---|:---|\n",
    "PERIDNUM| 96:22|\n",
    "OCCUP| 296:4|\n",
    "A_MJOCC| 211:2|\n",
    "A_DTOCC| 213:2|\n",
    "AGE1| 44:2|\n",
    "A_SEX| 24:1|\n",
    "PRDTRACE| 27:2|\n",
    "PXRACE1| 859:2|\n",
    "PRCITSHP| 95:1|\n",
    "A_HGA| 25:2|\n",
    "PRERELG| 183:1|\n",
    "A_GRSWK| 191:4|\n",
    "HRCHECK| 270:1|\n",
    "HRSWK| 268:2|\n",
    "PEARNVAL| 588:8|\n",
    "A_CLSWKR| 176:1|\n",
    "WEIND| 287:2|\n",
    "A_MARITL| 21:1|\n",
    "A_HSCOL| 198:1|\n",
    "A_WKSTAT| 202:1|\n",
    "HEA| 691:1|\n",
    "PEINUSYR| 93:2|\n"
   ]
  },
  {
   "cell_type": "code",
   "execution_count": 76,
   "id": "d355525c",
   "metadata": {},
   "outputs": [],
   "source": [
    "person_cols = ['OCCUP','A_MJOCC','A_DTOCC','AGE1','A_SEX','PRDTRACE','PXRACE1','PRCITSHP',\n",
    "               'A_HGA','PRERELG', 'A_GRSWK', 'HRCHECK','HRSWK','PEARNVAL','A_CLSWKR','WEIND',\n",
    "               'A_MARITL','A_HSCOL','A_WKSTAT','HEA','PEINUSYR']\n",
    "\n",
    "# tuples for start and end positions of columns\n",
    "pp_specs = [(0,1),(95,117),(295,298),(210,212),(212,214),(43,45),(23,24),(26,28),(858,860),(94,95),\n",
    "            (24,26),(182,183),(190,193),(269,270),(267,269),(587,594),(175,176),(286,288),\n",
    "            (20,21),(197,198),(201,202),(690,691),(92,94)]\n",
    "\n",
    "# Household Columns\n",
    "all_pp_cols = ['REC_TYPE','PERIDNUM'] + person_cols"
   ]
  },
  {
   "cell_type": "code",
   "execution_count": 77,
   "id": "a99fe585",
   "metadata": {},
   "outputs": [],
   "source": [
    "# Run command to pull data into a dataframe\n",
    "pp_data = pd.read_fwf(full_file_name, skiprows=0, \n",
    "                      skipfooter=0, colspecs=pp_specs, names=all_pp_cols)"
   ]
  },
  {
   "cell_type": "code",
   "execution_count": 78,
   "id": "031de1f9",
   "metadata": {},
   "outputs": [],
   "source": [
    "# Post processing\n",
    "pp_data_only = pp_data[pp_data['REC_TYPE']==pp_rec_type].copy()\n",
    "pp_data_only['DATA_YEAR'] = '2012'\n",
    "pp_data_only.to_csv(data_path + 'pppub12.csv')\n",
    "# pp_data_only.shape"
   ]
  }
 ],
 "metadata": {
  "kernelspec": {
   "display_name": "Python 3",
   "language": "python",
   "name": "python3"
  },
  "language_info": {
   "codemirror_mode": {
    "name": "ipython",
    "version": 3
   },
   "file_extension": ".py",
   "mimetype": "text/x-python",
   "name": "python",
   "nbconvert_exporter": "python",
   "pygments_lexer": "ipython3",
   "version": "3.8.8"
  }
 },
 "nbformat": 4,
 "nbformat_minor": 5
}
