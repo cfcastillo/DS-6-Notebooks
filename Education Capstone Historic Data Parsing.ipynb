{
 "cells": [
  {
   "cell_type": "markdown",
   "id": "d1203bf3",
   "metadata": {},
   "source": [
    "# Parse 2018 Data\n",
    "\n",
    "Per the data dictionary, household, family, and person data are all in the same file. So will need to split them out to import into the main notebook.\n",
    "\n",
    "[Useful link on how to use Pandas to parse fix width files.](https://towardsdatascience.com/parsing-fixed-width-text-files-with-pandas-f1db8f737276)\n",
    "\n",
    "Records are organized by:\n",
    "\n",
    "- Household 92,139 1,076 Characters - **identified by first value = 1**\n",
    "- Family    79,236 1,076 Characters - **identified by first value = 2**\n",
    "- Person   180,084 1,076 Characters - **identified by first value = 3**\n"
   ]
  },
  {
   "cell_type": "code",
   "execution_count": 86,
   "id": "6fc00139",
   "metadata": {},
   "outputs": [],
   "source": [
    "# grab the imports needed for the project\n",
    "import pandas as pd\n",
    "import glob"
   ]
  },
  {
   "cell_type": "code",
   "execution_count": 11,
   "id": "641d4d15",
   "metadata": {},
   "outputs": [],
   "source": [
    "data_path = '~/Documents/CNM/DataScience/'\n",
    "file_name = 'asec2018_pubuse.dat'\n",
    "full_file_name = data_path + file_name"
   ]
  },
  {
   "cell_type": "code",
   "execution_count": 7,
   "id": "6b69ceb0",
   "metadata": {},
   "outputs": [],
   "source": [
    "fseq_col = ['FH_SEQ']  # Joins to household data through H_SEQ\n",
    "year_col = ['DATA_YEAR']\n",
    "person_cols = ['OCCUP','A_MJOCC','A_DTOCC','AGE1','A_SEX','PRDTRACE','PXRACE1','PRCITSHP',\n",
    "               'A_HGA','PRERELG', 'A_GRSWK', 'HRCHECK','HRSWK','PEARNVAL','A_CLSWKR','WEIND',\n",
    "               'A_MARITL','A_HSCOL','A_WKSTAT','HEA','PEINUSYR']\n",
    "\n",
    "household_cols = ['GTMETSTA','GEDIV','GESTFIPS','HHINC','H_TENURE','H_LIVQRT']\n",
    "\n",
    "family_cols = ['FKINDEX', 'FINC_FR','FINC_SE','FINC_WS','FINC_ANN','FINC_CSP','FINC_DIS','FINC_DIV','FINC_RNT','FINC_DST','FINC_ED','FINC_SS','FINC_SSI',\n",
    "               'FINC_FIN','FINC_SUR','FINC_INT','FINC_UC','FINC_OI','FINC_VET','FINC_PAW','FINC_WC','FINC_PEN']"
   ]
  },
  {
   "cell_type": "markdown",
   "id": "50d0b916",
   "metadata": {},
   "source": [
    "# 2018"
   ]
  },
  {
   "cell_type": "markdown",
   "id": "5a96d723",
   "metadata": {},
   "source": [
    "## Household Record - 2018"
   ]
  },
  {
   "cell_type": "code",
   "execution_count": 107,
   "id": "8eefaea8",
   "metadata": {},
   "outputs": [],
   "source": [
    "# Parse columns based on specification\n",
    "# tuples for start and end positions of columns\n",
    "hh_specs = [(0,1),(343,358),(319,324),(1,6),(52,53),(328,329),(41,43),(271,273),(34,35),(30,32)]\n",
    "\n",
    "# Household Columns\n",
    "all_hh_cols = ['REC_TYPE','H_IDNUM1','H_IDNUM2','H_SEQ'] + household_cols"
   ]
  },
  {
   "cell_type": "code",
   "execution_count": 108,
   "id": "8f1fbdcb",
   "metadata": {},
   "outputs": [],
   "source": [
    "# Run command to pull data into a dataframe\n",
    "hh_data = pd.read_fwf(full_file_name, skiprows=0, \n",
    "                      skipfooter=0, colspecs=hh_specs, names=all_hh_cols)"
   ]
  },
  {
   "cell_type": "code",
   "execution_count": 109,
   "id": "a572629f",
   "metadata": {},
   "outputs": [],
   "source": [
    "# Post processing\n",
    "hh_data_only = hh_data[hh_data['REC_TYPE']==1].copy()\n",
    "hh_data_only['H_IDNUM'] = hh_data_only['H_IDNUM1'].map(str) + hh_data_only['H_IDNUM2'].map(str)\n",
    "hh_data_only.drop(['H_IDNUM1', 'H_IDNUM2'], axis=1, inplace=True)\n",
    "hh_data_only.to_csv(data_path + 'hhpub18.csv')\n",
    "# hh_data_only.shape"
   ]
  },
  {
   "cell_type": "markdown",
   "id": "b104bd9f",
   "metadata": {},
   "source": [
    "## Family Record - 2018"
   ]
  },
  {
   "cell_type": "code",
   "execution_count": null,
   "id": "99975c60",
   "metadata": {},
   "outputs": [],
   "source": [
    "# Parse columns based on specification\n",
    "# tuples for start and end positions of columns\n",
    "ff_specs = [(0,1),(343,358),(319,324),(1,6),(52,53),(328,329),(41,43),(271,273),(34,35),(30,32)]\n",
    "\n",
    "# Household Columns\n",
    "all_ff_cols = ['REC_TYPE','FH_SEQ'] + family_cols"
   ]
  },
  {
   "cell_type": "markdown",
   "id": "bf357192",
   "metadata": {},
   "source": [
    "## Person Record - 2018"
   ]
  }
 ],
 "metadata": {
  "kernelspec": {
   "display_name": "Python 3",
   "language": "python",
   "name": "python3"
  },
  "language_info": {
   "codemirror_mode": {
    "name": "ipython",
    "version": 3
   },
   "file_extension": ".py",
   "mimetype": "text/x-python",
   "name": "python",
   "nbconvert_exporter": "python",
   "pygments_lexer": "ipython3",
   "version": "3.8.8"
  }
 },
 "nbformat": 4,
 "nbformat_minor": 5
}
