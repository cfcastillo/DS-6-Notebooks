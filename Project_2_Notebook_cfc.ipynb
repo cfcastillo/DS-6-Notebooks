{
  "nbformat": 4,
  "nbformat_minor": 0,
  "metadata": {
    "colab": {
      "name": "Project 2 - Notebook cfc.ipynb",
      "provenance": [],
      "collapsed_sections": [],
      "toc_visible": true,
      "authorship_tag": "ABX9TyPgBaqSZ6INXOPmCIpI2oGA",
      "include_colab_link": true
    },
    "kernelspec": {
      "display_name": "Python 3",
      "name": "python3"
    },
    "language_info": {
      "name": "python"
    }
  },
  "cells": [
    {
      "cell_type": "markdown",
      "metadata": {
        "id": "view-in-github",
        "colab_type": "text"
      },
      "source": [
        "<a href=\"https://colab.research.google.com/github/cfcastillo/DS-6-Notebooks/blob/main/Project_2_Notebook_cfc.ipynb\" target=\"_parent\"><img src=\"https://colab.research.google.com/assets/colab-badge.svg\" alt=\"Open In Colab\"/></a>"
      ]
    },
    {
      "cell_type": "markdown",
      "metadata": {
        "id": "EIgtwWNlarYC"
      },
      "source": [
        "# Problem Definition\n",
        "\n",
        "The purpose of this project is to predict house prices (response) from predictor variables using Regression prediction techniques. The goal is to minimize the root mean squared percentage error (RMSPE) on the prediction of house sales price.\n",
        "\n",
        "This is a supervised regression problem because we want to predict sales price for a house based on multiple predictors."
      ]
    },
    {
      "cell_type": "markdown",
      "metadata": {
        "id": "1faCHIjobl8k"
      },
      "source": [
        "# Imports"
      ]
    },
    {
      "cell_type": "code",
      "metadata": {
        "id": "25Bhe_qoeG8i"
      },
      "source": [
        "import pandas as pd\n",
        "import matplotlib.pyplot as plt\n",
        "import numpy as np\n",
        "import seaborn as sns\n",
        "import statsmodels.api as sm\n",
        "import scipy.stats as stats\n",
        "\n",
        "from sklearn import datasets\n",
        "from sklearn import metrics\n",
        "from sklearn import preprocessing\n",
        "from sklearn.preprocessing import LabelEncoder\n",
        "from sklearn.metrics import classification_report\n",
        "import sklearn.model_selection as model_selection\n",
        "\n",
        "from sklearn.linear_model import LinearRegression\n",
        "from sklearn.model_selection import train_test_split\n",
        "from sklearn.model_selection import cross_val_score\n",
        "from sklearn.metrics import mean_squared_error\n",
        "from sklearn.linear_model import Ridge\n",
        "from sklearn.linear_model import Lasso"
      ],
      "execution_count": 75,
      "outputs": []
    },
    {
      "cell_type": "markdown",
      "metadata": {
        "id": "evPa5wru9vJa"
      },
      "source": [
        "# Functions"
      ]
    },
    {
      "cell_type": "code",
      "metadata": {
        "id": "qcJCTsFg91Mv"
      },
      "source": [
        "# Root Mean Square Error\n",
        "def get_rmse(y_test, y_pred): \n",
        "  return np.sqrt(mean_squared_error(y_test,y_pred))\n",
        "\n",
        "# Root Mean Square Percentage Error\n",
        "def get_rmspe(y_test, y_pred):\n",
        "  return np.sqrt(np.mean(np.square((y_test - y_pred)/y_test)))"
      ],
      "execution_count": 76,
      "outputs": []
    },
    {
      "cell_type": "markdown",
      "metadata": {
        "id": "j7j9Y4TDa5X2"
      },
      "source": [
        "# Data Collection\n",
        "\n",
        "The data is a CSV file called HousingData.csv located on Google Drive. \n",
        "\n",
        "Here is a [link](https://drive.google.com/file/d/1KKbZ5xj750o7uOz7Tk84QlPiya4UX9FN/view?usp=sharing) to the data dictionary for the dataset."
      ]
    },
    {
      "cell_type": "markdown",
      "metadata": {
        "id": "kAuOuhJ1bpjX"
      },
      "source": [
        "## Load Data\n",
        "\n",
        "Data was provided on a Google Drive by the insructor."
      ]
    },
    {
      "cell_type": "code",
      "metadata": {
        "colab": {
          "base_uri": "https://localhost:8080/"
        },
        "id": "0Y7c00lbeMYa",
        "outputId": "8acdd745-19bc-4fe9-8f6d-0d0746849969"
      },
      "source": [
        "# Mount Drive\n",
        "from google.colab import drive\n",
        "drive.mount('/drive')"
      ],
      "execution_count": 77,
      "outputs": [
        {
          "output_type": "stream",
          "text": [
            "Drive already mounted at /drive; to attempt to forcibly remount, call drive.mount(\"/drive\", force_remount=True).\n"
          ],
          "name": "stdout"
        }
      ]
    },
    {
      "cell_type": "code",
      "metadata": {
        "id": "Db4wejD3ePKI"
      },
      "source": [
        "# Load Data\n",
        "data_path = '/drive/My Drive/Cohort_6/Projects/Project 2/Data/Housing Data.csv'\n",
        "data = pd.read_csv(data_path)"
      ],
      "execution_count": 78,
      "outputs": []
    },
    {
      "cell_type": "markdown",
      "metadata": {
        "id": "7JkGem0Ha7fU"
      },
      "source": [
        "# Data Cleaning\n",
        "\n",
        "Data cleaning began with a high-level view of the columns to determine number of records, number of columns, volume of null (missing) values, and which values were continuous vs discrete.\n",
        "\n",
        "Throughout the data cleaning process, the data specification was used to better understand the definition of columns and their values.\n",
        "\n",
        "Columns that contained a large number of null values (over 80%) were removed. Remaining null values were filled with zeroes or with a value provided in the specification to indicate the absence of that feature.\n",
        "\n",
        "Finally, columns containing non-numeric qualititative values were encoded into numeric qualitative values necessary to run correlations and apply statistical models to the data."
      ]
    },
    {
      "cell_type": "code",
      "metadata": {
        "id": "xae-P3weyTig"
      },
      "source": [
        "# Create copy of data that will be clean data\n",
        "data_clean = data.copy();"
      ],
      "execution_count": 79,
      "outputs": []
    },
    {
      "cell_type": "code",
      "metadata": {
        "colab": {
          "base_uri": "https://localhost:8080/",
          "height": 302
        },
        "id": "L24M-TuGi1Yk",
        "outputId": "c3ab06ba-2b67-42cc-a7c1-e6e48f9378a7"
      },
      "source": [
        "# Get preliminary look at the data\n",
        "data.head()"
      ],
      "execution_count": 80,
      "outputs": [
        {
          "output_type": "execute_result",
          "data": {
            "text/html": [
              "<div>\n",
              "<style scoped>\n",
              "    .dataframe tbody tr th:only-of-type {\n",
              "        vertical-align: middle;\n",
              "    }\n",
              "\n",
              "    .dataframe tbody tr th {\n",
              "        vertical-align: top;\n",
              "    }\n",
              "\n",
              "    .dataframe thead th {\n",
              "        text-align: right;\n",
              "    }\n",
              "</style>\n",
              "<table border=\"1\" class=\"dataframe\">\n",
              "  <thead>\n",
              "    <tr style=\"text-align: right;\">\n",
              "      <th></th>\n",
              "      <th>PID</th>\n",
              "      <th>MS SubClass</th>\n",
              "      <th>MS Zoning</th>\n",
              "      <th>Lot Frontage</th>\n",
              "      <th>Lot Area</th>\n",
              "      <th>Street</th>\n",
              "      <th>Alley</th>\n",
              "      <th>Lot Shape</th>\n",
              "      <th>Land Contour</th>\n",
              "      <th>Utilities</th>\n",
              "      <th>Lot Config</th>\n",
              "      <th>Land Slope</th>\n",
              "      <th>Neighborhood</th>\n",
              "      <th>Condition 1</th>\n",
              "      <th>Condition 2</th>\n",
              "      <th>Bldg Type</th>\n",
              "      <th>House Style</th>\n",
              "      <th>Overall Qual</th>\n",
              "      <th>Overall Cond</th>\n",
              "      <th>Year Built</th>\n",
              "      <th>Year Remod/Add</th>\n",
              "      <th>Roof Style</th>\n",
              "      <th>Roof Matl</th>\n",
              "      <th>Exterior 1st</th>\n",
              "      <th>Exterior 2nd</th>\n",
              "      <th>Mas Vnr Type</th>\n",
              "      <th>Mas Vnr Area</th>\n",
              "      <th>Exter Qual</th>\n",
              "      <th>Exter Cond</th>\n",
              "      <th>Foundation</th>\n",
              "      <th>Bsmt Qual</th>\n",
              "      <th>Bsmt Cond</th>\n",
              "      <th>Bsmt Exposure</th>\n",
              "      <th>BsmtFin Type 1</th>\n",
              "      <th>BsmtFin SF 1</th>\n",
              "      <th>BsmtFin Type 2</th>\n",
              "      <th>BsmtFin SF 2</th>\n",
              "      <th>Bsmt Unf SF</th>\n",
              "      <th>Total Bsmt SF</th>\n",
              "      <th>Heating</th>\n",
              "      <th>...</th>\n",
              "      <th>Central Air</th>\n",
              "      <th>Electrical</th>\n",
              "      <th>1st Flr SF</th>\n",
              "      <th>2nd Flr SF</th>\n",
              "      <th>Low Qual Fin SF</th>\n",
              "      <th>Gr Liv Area</th>\n",
              "      <th>Bsmt Full Bath</th>\n",
              "      <th>Bsmt Half Bath</th>\n",
              "      <th>Full Bath</th>\n",
              "      <th>Half Bath</th>\n",
              "      <th>Bedroom AbvGr</th>\n",
              "      <th>Kitchen AbvGr</th>\n",
              "      <th>Kitchen Qual</th>\n",
              "      <th>TotRms AbvGrd</th>\n",
              "      <th>Functional</th>\n",
              "      <th>Fireplaces</th>\n",
              "      <th>Fireplace Qu</th>\n",
              "      <th>Garage Type</th>\n",
              "      <th>Garage Yr Blt</th>\n",
              "      <th>Garage Finish</th>\n",
              "      <th>Garage Cars</th>\n",
              "      <th>Garage Area</th>\n",
              "      <th>Garage Qual</th>\n",
              "      <th>Garage Cond</th>\n",
              "      <th>Paved Drive</th>\n",
              "      <th>Wood Deck SF</th>\n",
              "      <th>Open Porch SF</th>\n",
              "      <th>Enclosed Porch</th>\n",
              "      <th>3Ssn Porch</th>\n",
              "      <th>Screen Porch</th>\n",
              "      <th>Pool Area</th>\n",
              "      <th>Pool QC</th>\n",
              "      <th>Fence</th>\n",
              "      <th>Misc Feature</th>\n",
              "      <th>Misc Val</th>\n",
              "      <th>Mo Sold</th>\n",
              "      <th>Yr Sold</th>\n",
              "      <th>Sale Type</th>\n",
              "      <th>Sale Condition</th>\n",
              "      <th>SalePrice</th>\n",
              "    </tr>\n",
              "  </thead>\n",
              "  <tbody>\n",
              "    <tr>\n",
              "      <th>0</th>\n",
              "      <td>905101070</td>\n",
              "      <td>20</td>\n",
              "      <td>RL</td>\n",
              "      <td>62.0</td>\n",
              "      <td>14299</td>\n",
              "      <td>Pave</td>\n",
              "      <td>NaN</td>\n",
              "      <td>Reg</td>\n",
              "      <td>Lvl</td>\n",
              "      <td>AllPub</td>\n",
              "      <td>Inside</td>\n",
              "      <td>Gtl</td>\n",
              "      <td>Sawyer</td>\n",
              "      <td>Feedr</td>\n",
              "      <td>Norm</td>\n",
              "      <td>1Fam</td>\n",
              "      <td>1Story</td>\n",
              "      <td>4</td>\n",
              "      <td>3</td>\n",
              "      <td>1964</td>\n",
              "      <td>1964</td>\n",
              "      <td>Gable</td>\n",
              "      <td>CompShg</td>\n",
              "      <td>HdBoard</td>\n",
              "      <td>HdBoard</td>\n",
              "      <td>None</td>\n",
              "      <td>0.0</td>\n",
              "      <td>TA</td>\n",
              "      <td>TA</td>\n",
              "      <td>CBlock</td>\n",
              "      <td>TA</td>\n",
              "      <td>TA</td>\n",
              "      <td>No</td>\n",
              "      <td>Rec</td>\n",
              "      <td>513.0</td>\n",
              "      <td>LwQ</td>\n",
              "      <td>144.0</td>\n",
              "      <td>348.0</td>\n",
              "      <td>1005.0</td>\n",
              "      <td>GasA</td>\n",
              "      <td>...</td>\n",
              "      <td>Y</td>\n",
              "      <td>SBrkr</td>\n",
              "      <td>1005</td>\n",
              "      <td>0</td>\n",
              "      <td>0</td>\n",
              "      <td>1005</td>\n",
              "      <td>1.0</td>\n",
              "      <td>0.0</td>\n",
              "      <td>1</td>\n",
              "      <td>0</td>\n",
              "      <td>3</td>\n",
              "      <td>1</td>\n",
              "      <td>TA</td>\n",
              "      <td>5</td>\n",
              "      <td>Typ</td>\n",
              "      <td>0</td>\n",
              "      <td>NaN</td>\n",
              "      <td>Detchd</td>\n",
              "      <td>1964.0</td>\n",
              "      <td>Unf</td>\n",
              "      <td>2.0</td>\n",
              "      <td>440.0</td>\n",
              "      <td>TA</td>\n",
              "      <td>TA</td>\n",
              "      <td>N</td>\n",
              "      <td>0</td>\n",
              "      <td>0</td>\n",
              "      <td>0</td>\n",
              "      <td>0</td>\n",
              "      <td>0</td>\n",
              "      <td>0</td>\n",
              "      <td>NaN</td>\n",
              "      <td>MnPrv</td>\n",
              "      <td>NaN</td>\n",
              "      <td>0</td>\n",
              "      <td>7</td>\n",
              "      <td>2007</td>\n",
              "      <td>WD</td>\n",
              "      <td>Normal</td>\n",
              "      <td>115400</td>\n",
              "    </tr>\n",
              "    <tr>\n",
              "      <th>1</th>\n",
              "      <td>905101330</td>\n",
              "      <td>90</td>\n",
              "      <td>RL</td>\n",
              "      <td>72.0</td>\n",
              "      <td>10791</td>\n",
              "      <td>Pave</td>\n",
              "      <td>NaN</td>\n",
              "      <td>Reg</td>\n",
              "      <td>Lvl</td>\n",
              "      <td>AllPub</td>\n",
              "      <td>Inside</td>\n",
              "      <td>Gtl</td>\n",
              "      <td>Sawyer</td>\n",
              "      <td>Norm</td>\n",
              "      <td>Norm</td>\n",
              "      <td>Duplex</td>\n",
              "      <td>1Story</td>\n",
              "      <td>4</td>\n",
              "      <td>5</td>\n",
              "      <td>1967</td>\n",
              "      <td>1967</td>\n",
              "      <td>Gable</td>\n",
              "      <td>CompShg</td>\n",
              "      <td>MetalSd</td>\n",
              "      <td>MetalSd</td>\n",
              "      <td>None</td>\n",
              "      <td>0.0</td>\n",
              "      <td>TA</td>\n",
              "      <td>TA</td>\n",
              "      <td>Slab</td>\n",
              "      <td>NaN</td>\n",
              "      <td>NaN</td>\n",
              "      <td>NaN</td>\n",
              "      <td>NaN</td>\n",
              "      <td>0.0</td>\n",
              "      <td>NaN</td>\n",
              "      <td>0.0</td>\n",
              "      <td>0.0</td>\n",
              "      <td>0.0</td>\n",
              "      <td>GasA</td>\n",
              "      <td>...</td>\n",
              "      <td>Y</td>\n",
              "      <td>SBrkr</td>\n",
              "      <td>1296</td>\n",
              "      <td>0</td>\n",
              "      <td>0</td>\n",
              "      <td>1296</td>\n",
              "      <td>0.0</td>\n",
              "      <td>0.0</td>\n",
              "      <td>2</td>\n",
              "      <td>0</td>\n",
              "      <td>2</td>\n",
              "      <td>2</td>\n",
              "      <td>TA</td>\n",
              "      <td>6</td>\n",
              "      <td>Typ</td>\n",
              "      <td>0</td>\n",
              "      <td>NaN</td>\n",
              "      <td>CarPort</td>\n",
              "      <td>1967.0</td>\n",
              "      <td>Unf</td>\n",
              "      <td>2.0</td>\n",
              "      <td>516.0</td>\n",
              "      <td>TA</td>\n",
              "      <td>TA</td>\n",
              "      <td>Y</td>\n",
              "      <td>0</td>\n",
              "      <td>0</td>\n",
              "      <td>0</td>\n",
              "      <td>0</td>\n",
              "      <td>0</td>\n",
              "      <td>0</td>\n",
              "      <td>NaN</td>\n",
              "      <td>NaN</td>\n",
              "      <td>Shed</td>\n",
              "      <td>500</td>\n",
              "      <td>10</td>\n",
              "      <td>2006</td>\n",
              "      <td>WD</td>\n",
              "      <td>Normal</td>\n",
              "      <td>90000</td>\n",
              "    </tr>\n",
              "    <tr>\n",
              "      <th>2</th>\n",
              "      <td>903454090</td>\n",
              "      <td>50</td>\n",
              "      <td>RM</td>\n",
              "      <td>50.0</td>\n",
              "      <td>9000</td>\n",
              "      <td>Pave</td>\n",
              "      <td>NaN</td>\n",
              "      <td>Reg</td>\n",
              "      <td>Bnk</td>\n",
              "      <td>AllPub</td>\n",
              "      <td>Inside</td>\n",
              "      <td>Gtl</td>\n",
              "      <td>IDOTRR</td>\n",
              "      <td>Norm</td>\n",
              "      <td>Norm</td>\n",
              "      <td>1Fam</td>\n",
              "      <td>1.5Fin</td>\n",
              "      <td>6</td>\n",
              "      <td>6</td>\n",
              "      <td>1937</td>\n",
              "      <td>1950</td>\n",
              "      <td>Gable</td>\n",
              "      <td>CompShg</td>\n",
              "      <td>Wd Sdng</td>\n",
              "      <td>Wd Sdng</td>\n",
              "      <td>None</td>\n",
              "      <td>0.0</td>\n",
              "      <td>TA</td>\n",
              "      <td>Gd</td>\n",
              "      <td>PConc</td>\n",
              "      <td>TA</td>\n",
              "      <td>TA</td>\n",
              "      <td>No</td>\n",
              "      <td>Unf</td>\n",
              "      <td>0.0</td>\n",
              "      <td>Unf</td>\n",
              "      <td>0.0</td>\n",
              "      <td>780.0</td>\n",
              "      <td>780.0</td>\n",
              "      <td>GasA</td>\n",
              "      <td>...</td>\n",
              "      <td>Y</td>\n",
              "      <td>SBrkr</td>\n",
              "      <td>780</td>\n",
              "      <td>595</td>\n",
              "      <td>0</td>\n",
              "      <td>1375</td>\n",
              "      <td>0.0</td>\n",
              "      <td>0.0</td>\n",
              "      <td>1</td>\n",
              "      <td>1</td>\n",
              "      <td>3</td>\n",
              "      <td>1</td>\n",
              "      <td>Gd</td>\n",
              "      <td>6</td>\n",
              "      <td>Typ</td>\n",
              "      <td>1</td>\n",
              "      <td>Gd</td>\n",
              "      <td>Detchd</td>\n",
              "      <td>1979.0</td>\n",
              "      <td>Unf</td>\n",
              "      <td>1.0</td>\n",
              "      <td>544.0</td>\n",
              "      <td>TA</td>\n",
              "      <td>TA</td>\n",
              "      <td>P</td>\n",
              "      <td>0</td>\n",
              "      <td>162</td>\n",
              "      <td>0</td>\n",
              "      <td>0</td>\n",
              "      <td>126</td>\n",
              "      <td>0</td>\n",
              "      <td>NaN</td>\n",
              "      <td>NaN</td>\n",
              "      <td>NaN</td>\n",
              "      <td>0</td>\n",
              "      <td>12</td>\n",
              "      <td>2007</td>\n",
              "      <td>WD</td>\n",
              "      <td>Normal</td>\n",
              "      <td>141000</td>\n",
              "    </tr>\n",
              "    <tr>\n",
              "      <th>3</th>\n",
              "      <td>533244030</td>\n",
              "      <td>60</td>\n",
              "      <td>FV</td>\n",
              "      <td>68.0</td>\n",
              "      <td>7379</td>\n",
              "      <td>Pave</td>\n",
              "      <td>NaN</td>\n",
              "      <td>IR1</td>\n",
              "      <td>Lvl</td>\n",
              "      <td>AllPub</td>\n",
              "      <td>Inside</td>\n",
              "      <td>Gtl</td>\n",
              "      <td>Somerst</td>\n",
              "      <td>Norm</td>\n",
              "      <td>Norm</td>\n",
              "      <td>1Fam</td>\n",
              "      <td>2Story</td>\n",
              "      <td>8</td>\n",
              "      <td>5</td>\n",
              "      <td>2000</td>\n",
              "      <td>2000</td>\n",
              "      <td>Gable</td>\n",
              "      <td>CompShg</td>\n",
              "      <td>VinylSd</td>\n",
              "      <td>VinylSd</td>\n",
              "      <td>None</td>\n",
              "      <td>0.0</td>\n",
              "      <td>Gd</td>\n",
              "      <td>TA</td>\n",
              "      <td>PConc</td>\n",
              "      <td>Gd</td>\n",
              "      <td>TA</td>\n",
              "      <td>No</td>\n",
              "      <td>GLQ</td>\n",
              "      <td>484.0</td>\n",
              "      <td>Unf</td>\n",
              "      <td>0.0</td>\n",
              "      <td>491.0</td>\n",
              "      <td>975.0</td>\n",
              "      <td>GasA</td>\n",
              "      <td>...</td>\n",
              "      <td>Y</td>\n",
              "      <td>SBrkr</td>\n",
              "      <td>975</td>\n",
              "      <td>873</td>\n",
              "      <td>0</td>\n",
              "      <td>1848</td>\n",
              "      <td>1.0</td>\n",
              "      <td>0.0</td>\n",
              "      <td>2</td>\n",
              "      <td>1</td>\n",
              "      <td>3</td>\n",
              "      <td>1</td>\n",
              "      <td>Gd</td>\n",
              "      <td>7</td>\n",
              "      <td>Typ</td>\n",
              "      <td>1</td>\n",
              "      <td>TA</td>\n",
              "      <td>Attchd</td>\n",
              "      <td>2000.0</td>\n",
              "      <td>RFn</td>\n",
              "      <td>2.0</td>\n",
              "      <td>592.0</td>\n",
              "      <td>TA</td>\n",
              "      <td>TA</td>\n",
              "      <td>Y</td>\n",
              "      <td>280</td>\n",
              "      <td>184</td>\n",
              "      <td>0</td>\n",
              "      <td>0</td>\n",
              "      <td>0</td>\n",
              "      <td>0</td>\n",
              "      <td>NaN</td>\n",
              "      <td>NaN</td>\n",
              "      <td>NaN</td>\n",
              "      <td>0</td>\n",
              "      <td>4</td>\n",
              "      <td>2010</td>\n",
              "      <td>WD</td>\n",
              "      <td>Normal</td>\n",
              "      <td>254000</td>\n",
              "    </tr>\n",
              "    <tr>\n",
              "      <th>4</th>\n",
              "      <td>909252020</td>\n",
              "      <td>70</td>\n",
              "      <td>RL</td>\n",
              "      <td>60.0</td>\n",
              "      <td>7200</td>\n",
              "      <td>Pave</td>\n",
              "      <td>NaN</td>\n",
              "      <td>Reg</td>\n",
              "      <td>Lvl</td>\n",
              "      <td>AllPub</td>\n",
              "      <td>Inside</td>\n",
              "      <td>Gtl</td>\n",
              "      <td>SWISU</td>\n",
              "      <td>Feedr</td>\n",
              "      <td>Norm</td>\n",
              "      <td>1Fam</td>\n",
              "      <td>2Story</td>\n",
              "      <td>7</td>\n",
              "      <td>9</td>\n",
              "      <td>1936</td>\n",
              "      <td>2007</td>\n",
              "      <td>Gable</td>\n",
              "      <td>CompShg</td>\n",
              "      <td>Wd Sdng</td>\n",
              "      <td>Wd Sdng</td>\n",
              "      <td>None</td>\n",
              "      <td>0.0</td>\n",
              "      <td>Gd</td>\n",
              "      <td>Gd</td>\n",
              "      <td>PConc</td>\n",
              "      <td>Gd</td>\n",
              "      <td>Gd</td>\n",
              "      <td>No</td>\n",
              "      <td>ALQ</td>\n",
              "      <td>350.0</td>\n",
              "      <td>BLQ</td>\n",
              "      <td>210.0</td>\n",
              "      <td>0.0</td>\n",
              "      <td>560.0</td>\n",
              "      <td>GasA</td>\n",
              "      <td>...</td>\n",
              "      <td>Y</td>\n",
              "      <td>SBrkr</td>\n",
              "      <td>575</td>\n",
              "      <td>560</td>\n",
              "      <td>0</td>\n",
              "      <td>1135</td>\n",
              "      <td>1.0</td>\n",
              "      <td>0.0</td>\n",
              "      <td>1</td>\n",
              "      <td>0</td>\n",
              "      <td>3</td>\n",
              "      <td>1</td>\n",
              "      <td>Gd</td>\n",
              "      <td>6</td>\n",
              "      <td>Typ</td>\n",
              "      <td>0</td>\n",
              "      <td>NaN</td>\n",
              "      <td>Detchd</td>\n",
              "      <td>1971.0</td>\n",
              "      <td>RFn</td>\n",
              "      <td>2.0</td>\n",
              "      <td>576.0</td>\n",
              "      <td>TA</td>\n",
              "      <td>TA</td>\n",
              "      <td>Y</td>\n",
              "      <td>256</td>\n",
              "      <td>0</td>\n",
              "      <td>0</td>\n",
              "      <td>0</td>\n",
              "      <td>0</td>\n",
              "      <td>0</td>\n",
              "      <td>NaN</td>\n",
              "      <td>MnPrv</td>\n",
              "      <td>NaN</td>\n",
              "      <td>0</td>\n",
              "      <td>4</td>\n",
              "      <td>2009</td>\n",
              "      <td>WD</td>\n",
              "      <td>Normal</td>\n",
              "      <td>155000</td>\n",
              "    </tr>\n",
              "  </tbody>\n",
              "</table>\n",
              "<p>5 rows × 81 columns</p>\n",
              "</div>"
            ],
            "text/plain": [
              "         PID  MS SubClass MS Zoning  ...  Sale Type  Sale Condition SalePrice\n",
              "0  905101070           20        RL  ...        WD           Normal    115400\n",
              "1  905101330           90        RL  ...        WD           Normal     90000\n",
              "2  903454090           50        RM  ...        WD           Normal    141000\n",
              "3  533244030           60        FV  ...        WD           Normal    254000\n",
              "4  909252020           70        RL  ...        WD           Normal    155000\n",
              "\n",
              "[5 rows x 81 columns]"
            ]
          },
          "metadata": {},
          "execution_count": 80
        }
      ]
    },
    {
      "cell_type": "code",
      "metadata": {
        "colab": {
          "base_uri": "https://localhost:8080/"
        },
        "id": "EREutG3vjFBS",
        "outputId": "ac571314-da45-4ca5-a77f-440f85d737c8"
      },
      "source": [
        "# Check data types and other information about the dataset\n",
        "# 2637 records\n",
        "# 81 columns\n",
        "# Sale Price is target column\n",
        "# PID is unique identifier for rows - not important for analysis\n",
        "row_count = len(data.index)\n",
        "print(row_count)\n",
        "data.info()"
      ],
      "execution_count": 81,
      "outputs": [
        {
          "output_type": "stream",
          "text": [
            "2637\n",
            "<class 'pandas.core.frame.DataFrame'>\n",
            "RangeIndex: 2637 entries, 0 to 2636\n",
            "Data columns (total 81 columns):\n",
            " #   Column           Non-Null Count  Dtype  \n",
            "---  ------           --------------  -----  \n",
            " 0   PID              2637 non-null   int64  \n",
            " 1   MS SubClass      2637 non-null   int64  \n",
            " 2   MS Zoning        2637 non-null   object \n",
            " 3   Lot Frontage     2188 non-null   float64\n",
            " 4   Lot Area         2637 non-null   int64  \n",
            " 5   Street           2637 non-null   object \n",
            " 6   Alley            180 non-null    object \n",
            " 7   Lot Shape        2637 non-null   object \n",
            " 8   Land Contour     2637 non-null   object \n",
            " 9   Utilities        2637 non-null   object \n",
            " 10  Lot Config       2637 non-null   object \n",
            " 11  Land Slope       2637 non-null   object \n",
            " 12  Neighborhood     2637 non-null   object \n",
            " 13  Condition 1      2637 non-null   object \n",
            " 14  Condition 2      2637 non-null   object \n",
            " 15  Bldg Type        2637 non-null   object \n",
            " 16  House Style      2637 non-null   object \n",
            " 17  Overall Qual     2637 non-null   int64  \n",
            " 18  Overall Cond     2637 non-null   int64  \n",
            " 19  Year Built       2637 non-null   int64  \n",
            " 20  Year Remod/Add   2637 non-null   int64  \n",
            " 21  Roof Style       2637 non-null   object \n",
            " 22  Roof Matl        2637 non-null   object \n",
            " 23  Exterior 1st     2637 non-null   object \n",
            " 24  Exterior 2nd     2637 non-null   object \n",
            " 25  Mas Vnr Type     2614 non-null   object \n",
            " 26  Mas Vnr Area     2614 non-null   float64\n",
            " 27  Exter Qual       2637 non-null   object \n",
            " 28  Exter Cond       2637 non-null   object \n",
            " 29  Foundation       2637 non-null   object \n",
            " 30  Bsmt Qual        2564 non-null   object \n",
            " 31  Bsmt Cond        2564 non-null   object \n",
            " 32  Bsmt Exposure    2561 non-null   object \n",
            " 33  BsmtFin Type 1   2564 non-null   object \n",
            " 34  BsmtFin SF 1     2636 non-null   float64\n",
            " 35  BsmtFin Type 2   2563 non-null   object \n",
            " 36  BsmtFin SF 2     2636 non-null   float64\n",
            " 37  Bsmt Unf SF      2636 non-null   float64\n",
            " 38  Total Bsmt SF    2636 non-null   float64\n",
            " 39  Heating          2637 non-null   object \n",
            " 40  Heating QC       2637 non-null   object \n",
            " 41  Central Air      2637 non-null   object \n",
            " 42  Electrical       2637 non-null   object \n",
            " 43  1st Flr SF       2637 non-null   int64  \n",
            " 44  2nd Flr SF       2637 non-null   int64  \n",
            " 45  Low Qual Fin SF  2637 non-null   int64  \n",
            " 46  Gr Liv Area      2637 non-null   int64  \n",
            " 47  Bsmt Full Bath   2635 non-null   float64\n",
            " 48  Bsmt Half Bath   2635 non-null   float64\n",
            " 49  Full Bath        2637 non-null   int64  \n",
            " 50  Half Bath        2637 non-null   int64  \n",
            " 51  Bedroom AbvGr    2637 non-null   int64  \n",
            " 52  Kitchen AbvGr    2637 non-null   int64  \n",
            " 53  Kitchen Qual     2637 non-null   object \n",
            " 54  TotRms AbvGrd    2637 non-null   int64  \n",
            " 55  Functional       2637 non-null   object \n",
            " 56  Fireplaces       2637 non-null   int64  \n",
            " 57  Fireplace Qu     1353 non-null   object \n",
            " 58  Garage Type      2492 non-null   object \n",
            " 59  Garage Yr Blt    2490 non-null   float64\n",
            " 60  Garage Finish    2490 non-null   object \n",
            " 61  Garage Cars      2636 non-null   float64\n",
            " 62  Garage Area      2636 non-null   float64\n",
            " 63  Garage Qual      2490 non-null   object \n",
            " 64  Garage Cond      2490 non-null   object \n",
            " 65  Paved Drive      2637 non-null   object \n",
            " 66  Wood Deck SF     2637 non-null   int64  \n",
            " 67  Open Porch SF    2637 non-null   int64  \n",
            " 68  Enclosed Porch   2637 non-null   int64  \n",
            " 69  3Ssn Porch       2637 non-null   int64  \n",
            " 70  Screen Porch     2637 non-null   int64  \n",
            " 71  Pool Area        2637 non-null   int64  \n",
            " 72  Pool QC          11 non-null     object \n",
            " 73  Fence            528 non-null    object \n",
            " 74  Misc Feature     96 non-null     object \n",
            " 75  Misc Val         2637 non-null   int64  \n",
            " 76  Mo Sold          2637 non-null   int64  \n",
            " 77  Yr Sold          2637 non-null   int64  \n",
            " 78  Sale Type        2637 non-null   object \n",
            " 79  Sale Condition   2637 non-null   object \n",
            " 80  SalePrice        2637 non-null   int64  \n",
            "dtypes: float64(11), int64(27), object(43)\n",
            "memory usage: 1.6+ MB\n"
          ],
          "name": "stdout"
        }
      ]
    },
    {
      "cell_type": "markdown",
      "metadata": {
        "id": "f40AfSehXZIf"
      },
      "source": [
        "## Identify nulls\n",
        "\n",
        "Nulls were identified by column. Then a percentage was calculated for each column to identify which columns had a large percentage of null values. Any columns with null percentages over 80% were deleted. Any columns with null percentages below 80% were evaluated and either deleted or filled with acceptable non-null values based on data type and the data specification."
      ]
    },
    {
      "cell_type": "code",
      "metadata": {
        "colab": {
          "base_uri": "https://localhost:8080/"
        },
        "id": "5Ib5Rg0zj376",
        "outputId": "8fea8f7d-068b-48ff-a25a-f7003abb6570"
      },
      "source": [
        "# Identify nulls by column\n",
        "# Identified columns that have large percentage of nulls. \n",
        "\n",
        "# Get columns with nulls\n",
        "nulls = data.isnull().sum()\n",
        "nulls = nulls[nulls > 0]\n",
        "print(nulls)\n",
        "print('-'*20)\n",
        "# See what percentage of the rows have nulls for columns containing nulls\n",
        "nulls = (nulls/row_count) * 100\n",
        "nulls_df = nulls.to_frame()\n",
        "nulls_df.columns=['null_pct']\n",
        "print('Large number of nulls')\n",
        "nulls_df_big = nulls_df[nulls_df['null_pct'] > 40]\n",
        "print(nulls_df_big)\n",
        "print('-'*20)\n",
        "print('Small number of nulls')\n",
        "nulls_df_small = nulls_df[(nulls_df['null_pct'] <= 40)]\n",
        "print(nulls_df_small)"
      ],
      "execution_count": 82,
      "outputs": [
        {
          "output_type": "stream",
          "text": [
            "Lot Frontage       449\n",
            "Alley             2457\n",
            "Mas Vnr Type        23\n",
            "Mas Vnr Area        23\n",
            "Bsmt Qual           73\n",
            "Bsmt Cond           73\n",
            "Bsmt Exposure       76\n",
            "BsmtFin Type 1      73\n",
            "BsmtFin SF 1         1\n",
            "BsmtFin Type 2      74\n",
            "BsmtFin SF 2         1\n",
            "Bsmt Unf SF          1\n",
            "Total Bsmt SF        1\n",
            "Bsmt Full Bath       2\n",
            "Bsmt Half Bath       2\n",
            "Fireplace Qu      1284\n",
            "Garage Type        145\n",
            "Garage Yr Blt      147\n",
            "Garage Finish      147\n",
            "Garage Cars          1\n",
            "Garage Area          1\n",
            "Garage Qual        147\n",
            "Garage Cond        147\n",
            "Pool QC           2626\n",
            "Fence             2109\n",
            "Misc Feature      2541\n",
            "dtype: int64\n",
            "--------------------\n",
            "Large number of nulls\n",
            "               null_pct\n",
            "Alley         93.174061\n",
            "Fireplace Qu  48.691695\n",
            "Pool QC       99.582859\n",
            "Fence         79.977247\n",
            "Misc Feature  96.359499\n",
            "--------------------\n",
            "Small number of nulls\n",
            "                 null_pct\n",
            "Lot Frontage    17.026925\n",
            "Mas Vnr Type     0.872203\n",
            "Mas Vnr Area     0.872203\n",
            "Bsmt Qual        2.768297\n",
            "Bsmt Cond        2.768297\n",
            "Bsmt Exposure    2.882063\n",
            "BsmtFin Type 1   2.768297\n",
            "BsmtFin SF 1     0.037922\n",
            "BsmtFin Type 2   2.806219\n",
            "BsmtFin SF 2     0.037922\n",
            "Bsmt Unf SF      0.037922\n",
            "Total Bsmt SF    0.037922\n",
            "Bsmt Full Bath   0.075844\n",
            "Bsmt Half Bath   0.075844\n",
            "Garage Type      5.498673\n",
            "Garage Yr Blt    5.574516\n",
            "Garage Finish    5.574516\n",
            "Garage Cars      0.037922\n",
            "Garage Area      0.037922\n",
            "Garage Qual      5.574516\n",
            "Garage Cond      5.574516\n"
          ],
          "name": "stdout"
        }
      ]
    },
    {
      "cell_type": "markdown",
      "metadata": {
        "id": "22Y0lW4l1BJg"
      },
      "source": [
        "## Fill Missing Values\n",
        "\n",
        "Value counts were taken on all columns with nulls. Data was evaluated to determine if the nulls would ge filled in with alternate values or if the column would be deleted. If there were a small number of nulls, then nulls were replaced with zero for continuous columns and whatever code was specified as None or NA in the data sheet for categorical data.\n",
        "\n",
        "Changes were made directly in the dataset."
      ]
    },
    {
      "cell_type": "code",
      "metadata": {
        "id": "QOvP_-hw4dGW"
      },
      "source": [
        "# Fill in null values on columns based on data type and data specification\n",
        "data_clean['Mas Vnr Type'].fillna('None', inplace=True)\n",
        "data_clean['Mas Vnr Area'].fillna(0, inplace=True)\n",
        "data_clean['Bsmt Cond'].fillna('NA', inplace=True)\n",
        "data_clean['Bsmt Exposure'].fillna('NA', inplace=True)\n",
        "data_clean['BsmtFin Type 1'].fillna('NA', inplace=True)\n",
        "data_clean['BsmtFin SF 1'].fillna(0, inplace=True)\n",
        "data_clean['Bsmt Unf SF'].fillna(0, inplace=True)\n",
        "data_clean['Total Bsmt SF'].fillna(0, inplace=True)\n",
        "data_clean['Bsmt Full Bath'].fillna(0, inplace=True)\n",
        "data_clean['Bsmt Half Bath'].fillna(0, inplace=True)\n",
        "data_clean['Garage Type'].fillna('NA', inplace=True)\n",
        "data_clean['Garage Finish'].fillna('NA', inplace=True)\n",
        "data_clean['Garage Cars'].fillna(0, inplace=True)"
      ],
      "execution_count": 83,
      "outputs": []
    },
    {
      "cell_type": "markdown",
      "metadata": {
        "id": "fd_UtzzM0uU3"
      },
      "source": [
        "## Remove columns\n",
        "\n",
        "After reviewing the data, columns were removed that were deemed unlikely to support a Sale Price prediction based on the following criteria:\n",
        "\n",
        "* Was a non-predictor column such as the row id.\n",
        "* Had a high percentage of null values (more than 80%).\n",
        "* Appeared redundant. i.e. Similar values with similar data variability contained in another column.\n",
        "* Had very little variability in values; More than 90% fell in a single category.\n"
      ]
    },
    {
      "cell_type": "code",
      "metadata": {
        "id": "JJW7OYGep_rk"
      },
      "source": [
        "# Remove unneeded columns based on criteria listed above.\n",
        "data_clean.drop(['PID','Lot Frontage','Garage Yr Blt','Utilities','Land Slope','Land Contour',\n",
        "               'Condition 2','Roof Matl','Exterior 2nd','Exter Qual','Bsmt Qual',\n",
        "               'Garage Qual','Garage Cond','BsmtFin Type 2','BsmtFin SF 2','Heating',\n",
        "               'Electrical','Functional','Alley','Pool QC','Misc Feature',\n",
        "               'Fence','Fireplace Qu','Garage Area'], axis=1, inplace=True)\n"
      ],
      "execution_count": 84,
      "outputs": []
    },
    {
      "cell_type": "code",
      "metadata": {
        "colab": {
          "base_uri": "https://localhost:8080/"
        },
        "id": "v5AWCYwoqCfi",
        "outputId": "30a23812-65a9-4ef1-ee7c-e7688d1f4d8e"
      },
      "source": [
        "# Verify no nulls exist after data cleaned\n",
        "data_clean.isnull().sum().sum()\n"
      ],
      "execution_count": 85,
      "outputs": [
        {
          "output_type": "execute_result",
          "data": {
            "text/plain": [
              "0"
            ]
          },
          "metadata": {},
          "execution_count": 85
        }
      ]
    },
    {
      "cell_type": "markdown",
      "metadata": {
        "id": "BoqPm7kw1HKp"
      },
      "source": [
        "## Encode columns\n",
        "\n",
        "After nulls were elminated and unnecessary columns were removed, remaining columns containing discrete non-numeric data were encoded (converted to numeric equivalents).\n",
        "\n",
        "This process was necessary because the analysis engines used required numeric data to operate.\n",
        "\n",
        "A dataset containing the original values was retained as a data dictionary to allow for translation between original and encoded values."
      ]
    },
    {
      "cell_type": "code",
      "metadata": {
        "colab": {
          "base_uri": "https://localhost:8080/",
          "height": 302
        },
        "id": "SzplyOSkzODY",
        "outputId": "367e4a14-30db-430d-e083-31786e0b5c06"
      },
      "source": [
        "# Encode data so can run correlations to determine which columns to keep\n",
        "labelencoder = LabelEncoder()\n",
        "data_clean['Condition 1 Lb'] = labelencoder.fit_transform(data_clean['Condition 1'])\n",
        "data_clean['MS Zoning Lb'] = labelencoder.fit_transform(data_clean['MS Zoning'])\n",
        "data_clean['Street Lb'] = data_clean['Street'].replace({'Pave': 0, 'Grvl': 1})\n",
        "data_clean['Lot Shape Lb'] = labelencoder.fit_transform(data_clean['Lot Shape'])\n",
        "data_clean['Neighborhood Lb'] = labelencoder.fit_transform(data_clean['Neighborhood'])\n",
        "data_clean['Lot Config Lb'] = labelencoder.fit_transform(data_clean['Lot Config'])\n",
        "data_clean['Bldg Type Lb'] = labelencoder.fit_transform(data_clean['Bldg Type'])\n",
        "data_clean['House Style Lb'] = labelencoder.fit_transform(data_clean['House Style'])\n",
        "data_clean['Roof Style Lb'] = labelencoder.fit_transform(data_clean['Roof Style'])\n",
        "data_clean['Exterior 1st Lb'] = labelencoder.fit_transform(data_clean['Exterior 1st'])\n",
        "data_clean['Mas Vnr Type Lb'] = labelencoder.fit_transform(data_clean['Mas Vnr Type'])\n",
        "data_clean['Bsmt Cond Lb'] = labelencoder.fit_transform(data_clean['Bsmt Cond'])\n",
        "data_clean['Exter Cond Lb'] = labelencoder.fit_transform(data_clean['Exter Cond'])\n",
        "data_clean['Foundation Lb'] = labelencoder.fit_transform(data_clean['Foundation'])\n",
        "data_clean['Bsmt Exposure Lb'] = labelencoder.fit_transform(data_clean['Bsmt Exposure'])\n",
        "data_clean['BsmtFin Type 1 Lb'] = labelencoder.fit_transform(data_clean['BsmtFin Type 1'])\n",
        "data_clean['Heating QC Lb'] = labelencoder.fit_transform(data_clean['Heating QC'])\n",
        "data_clean['Central Air Lb'] = data_clean['Central Air'].replace({'N': 0, 'Y': 1})\n",
        "data_clean['Kitchen Qual Lb'] = labelencoder.fit_transform(data_clean['Kitchen Qual'])\n",
        "data_clean['Garage Type Lb'] = labelencoder.fit_transform(data_clean['Garage Type'])\n",
        "data_clean['Garage Finish Lb'] = labelencoder.fit_transform(data_clean['Garage Finish'])\n",
        "data_clean['Paved Drive Lb'] = data_clean['Paved Drive'].replace({'N': 0, 'Y': 1, 'P': 2})\n",
        "data_clean['Sale Type Lb'] = labelencoder.fit_transform(data_clean['Sale Type'])\n",
        "data_clean['Sale Condition Lb'] = labelencoder.fit_transform(data_clean['Sale Condition'])\n",
        "\n",
        "data_clean.head()"
      ],
      "execution_count": 86,
      "outputs": [
        {
          "output_type": "execute_result",
          "data": {
            "text/html": [
              "<div>\n",
              "<style scoped>\n",
              "    .dataframe tbody tr th:only-of-type {\n",
              "        vertical-align: middle;\n",
              "    }\n",
              "\n",
              "    .dataframe tbody tr th {\n",
              "        vertical-align: top;\n",
              "    }\n",
              "\n",
              "    .dataframe thead th {\n",
              "        text-align: right;\n",
              "    }\n",
              "</style>\n",
              "<table border=\"1\" class=\"dataframe\">\n",
              "  <thead>\n",
              "    <tr style=\"text-align: right;\">\n",
              "      <th></th>\n",
              "      <th>MS SubClass</th>\n",
              "      <th>MS Zoning</th>\n",
              "      <th>Lot Area</th>\n",
              "      <th>Street</th>\n",
              "      <th>Lot Shape</th>\n",
              "      <th>Lot Config</th>\n",
              "      <th>Neighborhood</th>\n",
              "      <th>Condition 1</th>\n",
              "      <th>Bldg Type</th>\n",
              "      <th>House Style</th>\n",
              "      <th>Overall Qual</th>\n",
              "      <th>Overall Cond</th>\n",
              "      <th>Year Built</th>\n",
              "      <th>Year Remod/Add</th>\n",
              "      <th>Roof Style</th>\n",
              "      <th>Exterior 1st</th>\n",
              "      <th>Mas Vnr Type</th>\n",
              "      <th>Mas Vnr Area</th>\n",
              "      <th>Exter Cond</th>\n",
              "      <th>Foundation</th>\n",
              "      <th>Bsmt Cond</th>\n",
              "      <th>Bsmt Exposure</th>\n",
              "      <th>BsmtFin Type 1</th>\n",
              "      <th>BsmtFin SF 1</th>\n",
              "      <th>Bsmt Unf SF</th>\n",
              "      <th>Total Bsmt SF</th>\n",
              "      <th>Heating QC</th>\n",
              "      <th>Central Air</th>\n",
              "      <th>1st Flr SF</th>\n",
              "      <th>2nd Flr SF</th>\n",
              "      <th>Low Qual Fin SF</th>\n",
              "      <th>Gr Liv Area</th>\n",
              "      <th>Bsmt Full Bath</th>\n",
              "      <th>Bsmt Half Bath</th>\n",
              "      <th>Full Bath</th>\n",
              "      <th>Half Bath</th>\n",
              "      <th>Bedroom AbvGr</th>\n",
              "      <th>Kitchen AbvGr</th>\n",
              "      <th>Kitchen Qual</th>\n",
              "      <th>TotRms AbvGrd</th>\n",
              "      <th>...</th>\n",
              "      <th>Garage Type</th>\n",
              "      <th>Garage Finish</th>\n",
              "      <th>Garage Cars</th>\n",
              "      <th>Paved Drive</th>\n",
              "      <th>Wood Deck SF</th>\n",
              "      <th>Open Porch SF</th>\n",
              "      <th>Enclosed Porch</th>\n",
              "      <th>3Ssn Porch</th>\n",
              "      <th>Screen Porch</th>\n",
              "      <th>Pool Area</th>\n",
              "      <th>Misc Val</th>\n",
              "      <th>Mo Sold</th>\n",
              "      <th>Yr Sold</th>\n",
              "      <th>Sale Type</th>\n",
              "      <th>Sale Condition</th>\n",
              "      <th>SalePrice</th>\n",
              "      <th>Condition 1 Lb</th>\n",
              "      <th>MS Zoning Lb</th>\n",
              "      <th>Street Lb</th>\n",
              "      <th>Lot Shape Lb</th>\n",
              "      <th>Neighborhood Lb</th>\n",
              "      <th>Lot Config Lb</th>\n",
              "      <th>Bldg Type Lb</th>\n",
              "      <th>House Style Lb</th>\n",
              "      <th>Roof Style Lb</th>\n",
              "      <th>Exterior 1st Lb</th>\n",
              "      <th>Mas Vnr Type Lb</th>\n",
              "      <th>Bsmt Cond Lb</th>\n",
              "      <th>Exter Cond Lb</th>\n",
              "      <th>Foundation Lb</th>\n",
              "      <th>Bsmt Exposure Lb</th>\n",
              "      <th>BsmtFin Type 1 Lb</th>\n",
              "      <th>Heating QC Lb</th>\n",
              "      <th>Central Air Lb</th>\n",
              "      <th>Kitchen Qual Lb</th>\n",
              "      <th>Garage Type Lb</th>\n",
              "      <th>Garage Finish Lb</th>\n",
              "      <th>Paved Drive Lb</th>\n",
              "      <th>Sale Type Lb</th>\n",
              "      <th>Sale Condition Lb</th>\n",
              "    </tr>\n",
              "  </thead>\n",
              "  <tbody>\n",
              "    <tr>\n",
              "      <th>0</th>\n",
              "      <td>20</td>\n",
              "      <td>RL</td>\n",
              "      <td>14299</td>\n",
              "      <td>Pave</td>\n",
              "      <td>Reg</td>\n",
              "      <td>Inside</td>\n",
              "      <td>Sawyer</td>\n",
              "      <td>Feedr</td>\n",
              "      <td>1Fam</td>\n",
              "      <td>1Story</td>\n",
              "      <td>4</td>\n",
              "      <td>3</td>\n",
              "      <td>1964</td>\n",
              "      <td>1964</td>\n",
              "      <td>Gable</td>\n",
              "      <td>HdBoard</td>\n",
              "      <td>None</td>\n",
              "      <td>0.0</td>\n",
              "      <td>TA</td>\n",
              "      <td>CBlock</td>\n",
              "      <td>TA</td>\n",
              "      <td>No</td>\n",
              "      <td>Rec</td>\n",
              "      <td>513.0</td>\n",
              "      <td>348.0</td>\n",
              "      <td>1005.0</td>\n",
              "      <td>TA</td>\n",
              "      <td>Y</td>\n",
              "      <td>1005</td>\n",
              "      <td>0</td>\n",
              "      <td>0</td>\n",
              "      <td>1005</td>\n",
              "      <td>1.0</td>\n",
              "      <td>0.0</td>\n",
              "      <td>1</td>\n",
              "      <td>0</td>\n",
              "      <td>3</td>\n",
              "      <td>1</td>\n",
              "      <td>TA</td>\n",
              "      <td>5</td>\n",
              "      <td>...</td>\n",
              "      <td>Detchd</td>\n",
              "      <td>Unf</td>\n",
              "      <td>2.0</td>\n",
              "      <td>N</td>\n",
              "      <td>0</td>\n",
              "      <td>0</td>\n",
              "      <td>0</td>\n",
              "      <td>0</td>\n",
              "      <td>0</td>\n",
              "      <td>0</td>\n",
              "      <td>0</td>\n",
              "      <td>7</td>\n",
              "      <td>2007</td>\n",
              "      <td>WD</td>\n",
              "      <td>Normal</td>\n",
              "      <td>115400</td>\n",
              "      <td>1</td>\n",
              "      <td>5</td>\n",
              "      <td>0</td>\n",
              "      <td>3</td>\n",
              "      <td>22</td>\n",
              "      <td>4</td>\n",
              "      <td>0</td>\n",
              "      <td>2</td>\n",
              "      <td>1</td>\n",
              "      <td>6</td>\n",
              "      <td>3</td>\n",
              "      <td>5</td>\n",
              "      <td>4</td>\n",
              "      <td>1</td>\n",
              "      <td>4</td>\n",
              "      <td>5</td>\n",
              "      <td>4</td>\n",
              "      <td>1</td>\n",
              "      <td>3</td>\n",
              "      <td>5</td>\n",
              "      <td>3</td>\n",
              "      <td>0</td>\n",
              "      <td>9</td>\n",
              "      <td>4</td>\n",
              "    </tr>\n",
              "    <tr>\n",
              "      <th>1</th>\n",
              "      <td>90</td>\n",
              "      <td>RL</td>\n",
              "      <td>10791</td>\n",
              "      <td>Pave</td>\n",
              "      <td>Reg</td>\n",
              "      <td>Inside</td>\n",
              "      <td>Sawyer</td>\n",
              "      <td>Norm</td>\n",
              "      <td>Duplex</td>\n",
              "      <td>1Story</td>\n",
              "      <td>4</td>\n",
              "      <td>5</td>\n",
              "      <td>1967</td>\n",
              "      <td>1967</td>\n",
              "      <td>Gable</td>\n",
              "      <td>MetalSd</td>\n",
              "      <td>None</td>\n",
              "      <td>0.0</td>\n",
              "      <td>TA</td>\n",
              "      <td>Slab</td>\n",
              "      <td>NA</td>\n",
              "      <td>NA</td>\n",
              "      <td>NA</td>\n",
              "      <td>0.0</td>\n",
              "      <td>0.0</td>\n",
              "      <td>0.0</td>\n",
              "      <td>TA</td>\n",
              "      <td>Y</td>\n",
              "      <td>1296</td>\n",
              "      <td>0</td>\n",
              "      <td>0</td>\n",
              "      <td>1296</td>\n",
              "      <td>0.0</td>\n",
              "      <td>0.0</td>\n",
              "      <td>2</td>\n",
              "      <td>0</td>\n",
              "      <td>2</td>\n",
              "      <td>2</td>\n",
              "      <td>TA</td>\n",
              "      <td>6</td>\n",
              "      <td>...</td>\n",
              "      <td>CarPort</td>\n",
              "      <td>Unf</td>\n",
              "      <td>2.0</td>\n",
              "      <td>Y</td>\n",
              "      <td>0</td>\n",
              "      <td>0</td>\n",
              "      <td>0</td>\n",
              "      <td>0</td>\n",
              "      <td>0</td>\n",
              "      <td>0</td>\n",
              "      <td>500</td>\n",
              "      <td>10</td>\n",
              "      <td>2006</td>\n",
              "      <td>WD</td>\n",
              "      <td>Normal</td>\n",
              "      <td>90000</td>\n",
              "      <td>2</td>\n",
              "      <td>5</td>\n",
              "      <td>0</td>\n",
              "      <td>3</td>\n",
              "      <td>22</td>\n",
              "      <td>4</td>\n",
              "      <td>2</td>\n",
              "      <td>2</td>\n",
              "      <td>1</td>\n",
              "      <td>8</td>\n",
              "      <td>3</td>\n",
              "      <td>3</td>\n",
              "      <td>4</td>\n",
              "      <td>3</td>\n",
              "      <td>3</td>\n",
              "      <td>4</td>\n",
              "      <td>4</td>\n",
              "      <td>1</td>\n",
              "      <td>3</td>\n",
              "      <td>4</td>\n",
              "      <td>3</td>\n",
              "      <td>1</td>\n",
              "      <td>9</td>\n",
              "      <td>4</td>\n",
              "    </tr>\n",
              "    <tr>\n",
              "      <th>2</th>\n",
              "      <td>50</td>\n",
              "      <td>RM</td>\n",
              "      <td>9000</td>\n",
              "      <td>Pave</td>\n",
              "      <td>Reg</td>\n",
              "      <td>Inside</td>\n",
              "      <td>IDOTRR</td>\n",
              "      <td>Norm</td>\n",
              "      <td>1Fam</td>\n",
              "      <td>1.5Fin</td>\n",
              "      <td>6</td>\n",
              "      <td>6</td>\n",
              "      <td>1937</td>\n",
              "      <td>1950</td>\n",
              "      <td>Gable</td>\n",
              "      <td>Wd Sdng</td>\n",
              "      <td>None</td>\n",
              "      <td>0.0</td>\n",
              "      <td>Gd</td>\n",
              "      <td>PConc</td>\n",
              "      <td>TA</td>\n",
              "      <td>No</td>\n",
              "      <td>Unf</td>\n",
              "      <td>0.0</td>\n",
              "      <td>780.0</td>\n",
              "      <td>780.0</td>\n",
              "      <td>TA</td>\n",
              "      <td>Y</td>\n",
              "      <td>780</td>\n",
              "      <td>595</td>\n",
              "      <td>0</td>\n",
              "      <td>1375</td>\n",
              "      <td>0.0</td>\n",
              "      <td>0.0</td>\n",
              "      <td>1</td>\n",
              "      <td>1</td>\n",
              "      <td>3</td>\n",
              "      <td>1</td>\n",
              "      <td>Gd</td>\n",
              "      <td>6</td>\n",
              "      <td>...</td>\n",
              "      <td>Detchd</td>\n",
              "      <td>Unf</td>\n",
              "      <td>1.0</td>\n",
              "      <td>P</td>\n",
              "      <td>0</td>\n",
              "      <td>162</td>\n",
              "      <td>0</td>\n",
              "      <td>0</td>\n",
              "      <td>126</td>\n",
              "      <td>0</td>\n",
              "      <td>0</td>\n",
              "      <td>12</td>\n",
              "      <td>2007</td>\n",
              "      <td>WD</td>\n",
              "      <td>Normal</td>\n",
              "      <td>141000</td>\n",
              "      <td>2</td>\n",
              "      <td>6</td>\n",
              "      <td>0</td>\n",
              "      <td>3</td>\n",
              "      <td>11</td>\n",
              "      <td>4</td>\n",
              "      <td>0</td>\n",
              "      <td>0</td>\n",
              "      <td>1</td>\n",
              "      <td>14</td>\n",
              "      <td>3</td>\n",
              "      <td>5</td>\n",
              "      <td>2</td>\n",
              "      <td>2</td>\n",
              "      <td>4</td>\n",
              "      <td>6</td>\n",
              "      <td>4</td>\n",
              "      <td>1</td>\n",
              "      <td>2</td>\n",
              "      <td>5</td>\n",
              "      <td>3</td>\n",
              "      <td>2</td>\n",
              "      <td>9</td>\n",
              "      <td>4</td>\n",
              "    </tr>\n",
              "    <tr>\n",
              "      <th>3</th>\n",
              "      <td>60</td>\n",
              "      <td>FV</td>\n",
              "      <td>7379</td>\n",
              "      <td>Pave</td>\n",
              "      <td>IR1</td>\n",
              "      <td>Inside</td>\n",
              "      <td>Somerst</td>\n",
              "      <td>Norm</td>\n",
              "      <td>1Fam</td>\n",
              "      <td>2Story</td>\n",
              "      <td>8</td>\n",
              "      <td>5</td>\n",
              "      <td>2000</td>\n",
              "      <td>2000</td>\n",
              "      <td>Gable</td>\n",
              "      <td>VinylSd</td>\n",
              "      <td>None</td>\n",
              "      <td>0.0</td>\n",
              "      <td>TA</td>\n",
              "      <td>PConc</td>\n",
              "      <td>TA</td>\n",
              "      <td>No</td>\n",
              "      <td>GLQ</td>\n",
              "      <td>484.0</td>\n",
              "      <td>491.0</td>\n",
              "      <td>975.0</td>\n",
              "      <td>Ex</td>\n",
              "      <td>Y</td>\n",
              "      <td>975</td>\n",
              "      <td>873</td>\n",
              "      <td>0</td>\n",
              "      <td>1848</td>\n",
              "      <td>1.0</td>\n",
              "      <td>0.0</td>\n",
              "      <td>2</td>\n",
              "      <td>1</td>\n",
              "      <td>3</td>\n",
              "      <td>1</td>\n",
              "      <td>Gd</td>\n",
              "      <td>7</td>\n",
              "      <td>...</td>\n",
              "      <td>Attchd</td>\n",
              "      <td>RFn</td>\n",
              "      <td>2.0</td>\n",
              "      <td>Y</td>\n",
              "      <td>280</td>\n",
              "      <td>184</td>\n",
              "      <td>0</td>\n",
              "      <td>0</td>\n",
              "      <td>0</td>\n",
              "      <td>0</td>\n",
              "      <td>0</td>\n",
              "      <td>4</td>\n",
              "      <td>2010</td>\n",
              "      <td>WD</td>\n",
              "      <td>Normal</td>\n",
              "      <td>254000</td>\n",
              "      <td>2</td>\n",
              "      <td>2</td>\n",
              "      <td>0</td>\n",
              "      <td>0</td>\n",
              "      <td>24</td>\n",
              "      <td>4</td>\n",
              "      <td>0</td>\n",
              "      <td>5</td>\n",
              "      <td>1</td>\n",
              "      <td>13</td>\n",
              "      <td>3</td>\n",
              "      <td>5</td>\n",
              "      <td>4</td>\n",
              "      <td>2</td>\n",
              "      <td>4</td>\n",
              "      <td>2</td>\n",
              "      <td>0</td>\n",
              "      <td>1</td>\n",
              "      <td>2</td>\n",
              "      <td>1</td>\n",
              "      <td>2</td>\n",
              "      <td>1</td>\n",
              "      <td>9</td>\n",
              "      <td>4</td>\n",
              "    </tr>\n",
              "    <tr>\n",
              "      <th>4</th>\n",
              "      <td>70</td>\n",
              "      <td>RL</td>\n",
              "      <td>7200</td>\n",
              "      <td>Pave</td>\n",
              "      <td>Reg</td>\n",
              "      <td>Inside</td>\n",
              "      <td>SWISU</td>\n",
              "      <td>Feedr</td>\n",
              "      <td>1Fam</td>\n",
              "      <td>2Story</td>\n",
              "      <td>7</td>\n",
              "      <td>9</td>\n",
              "      <td>1936</td>\n",
              "      <td>2007</td>\n",
              "      <td>Gable</td>\n",
              "      <td>Wd Sdng</td>\n",
              "      <td>None</td>\n",
              "      <td>0.0</td>\n",
              "      <td>Gd</td>\n",
              "      <td>PConc</td>\n",
              "      <td>Gd</td>\n",
              "      <td>No</td>\n",
              "      <td>ALQ</td>\n",
              "      <td>350.0</td>\n",
              "      <td>0.0</td>\n",
              "      <td>560.0</td>\n",
              "      <td>Ex</td>\n",
              "      <td>Y</td>\n",
              "      <td>575</td>\n",
              "      <td>560</td>\n",
              "      <td>0</td>\n",
              "      <td>1135</td>\n",
              "      <td>1.0</td>\n",
              "      <td>0.0</td>\n",
              "      <td>1</td>\n",
              "      <td>0</td>\n",
              "      <td>3</td>\n",
              "      <td>1</td>\n",
              "      <td>Gd</td>\n",
              "      <td>6</td>\n",
              "      <td>...</td>\n",
              "      <td>Detchd</td>\n",
              "      <td>RFn</td>\n",
              "      <td>2.0</td>\n",
              "      <td>Y</td>\n",
              "      <td>256</td>\n",
              "      <td>0</td>\n",
              "      <td>0</td>\n",
              "      <td>0</td>\n",
              "      <td>0</td>\n",
              "      <td>0</td>\n",
              "      <td>0</td>\n",
              "      <td>4</td>\n",
              "      <td>2009</td>\n",
              "      <td>WD</td>\n",
              "      <td>Normal</td>\n",
              "      <td>155000</td>\n",
              "      <td>1</td>\n",
              "      <td>5</td>\n",
              "      <td>0</td>\n",
              "      <td>3</td>\n",
              "      <td>21</td>\n",
              "      <td>4</td>\n",
              "      <td>0</td>\n",
              "      <td>5</td>\n",
              "      <td>1</td>\n",
              "      <td>14</td>\n",
              "      <td>3</td>\n",
              "      <td>2</td>\n",
              "      <td>2</td>\n",
              "      <td>2</td>\n",
              "      <td>4</td>\n",
              "      <td>0</td>\n",
              "      <td>0</td>\n",
              "      <td>1</td>\n",
              "      <td>2</td>\n",
              "      <td>5</td>\n",
              "      <td>2</td>\n",
              "      <td>1</td>\n",
              "      <td>9</td>\n",
              "      <td>4</td>\n",
              "    </tr>\n",
              "  </tbody>\n",
              "</table>\n",
              "<p>5 rows × 81 columns</p>\n",
              "</div>"
            ],
            "text/plain": [
              "   MS SubClass MS Zoning  ...  Sale Type Lb Sale Condition Lb\n",
              "0           20        RL  ...             9                 4\n",
              "1           90        RL  ...             9                 4\n",
              "2           50        RM  ...             9                 4\n",
              "3           60        FV  ...             9                 4\n",
              "4           70        RL  ...             9                 4\n",
              "\n",
              "[5 rows x 81 columns]"
            ]
          },
          "metadata": {},
          "execution_count": 86
        }
      ]
    },
    {
      "cell_type": "code",
      "metadata": {
        "colab": {
          "base_uri": "https://localhost:8080/",
          "height": 274
        },
        "id": "GFIGbVxsNY6H",
        "outputId": "a5c03451-cad1-4901-f8b0-fdf211c514d6"
      },
      "source": [
        "# Create copy that contains only encoded and numeric values. \n",
        "# TODO: change code to drop columns based on data type being non-numeric\n",
        "data_enc = data_clean.copy()\n",
        "\n",
        "data_enc.drop(['MS Zoning','Street','Lot Shape','Neighborhood','Lot Config','Bldg Type',\n",
        "               'House Style','Roof Style','Exterior 1st','Mas Vnr Type','Bsmt Cond',\n",
        "               'Exter Cond','Foundation','Bsmt Exposure','BsmtFin Type 1','Heating QC',\n",
        "               'Central Air','Kitchen Qual','Garage Type','Garage Finish','Paved Drive',\n",
        "               'Sale Type','Sale Condition','Condition 1'], axis=1, inplace=True)\n",
        "\n",
        "# Verify all values have been encoded.\n",
        "data_enc.head()\n"
      ],
      "execution_count": 87,
      "outputs": [
        {
          "output_type": "execute_result",
          "data": {
            "text/html": [
              "<div>\n",
              "<style scoped>\n",
              "    .dataframe tbody tr th:only-of-type {\n",
              "        vertical-align: middle;\n",
              "    }\n",
              "\n",
              "    .dataframe tbody tr th {\n",
              "        vertical-align: top;\n",
              "    }\n",
              "\n",
              "    .dataframe thead th {\n",
              "        text-align: right;\n",
              "    }\n",
              "</style>\n",
              "<table border=\"1\" class=\"dataframe\">\n",
              "  <thead>\n",
              "    <tr style=\"text-align: right;\">\n",
              "      <th></th>\n",
              "      <th>MS SubClass</th>\n",
              "      <th>Lot Area</th>\n",
              "      <th>Overall Qual</th>\n",
              "      <th>Overall Cond</th>\n",
              "      <th>Year Built</th>\n",
              "      <th>Year Remod/Add</th>\n",
              "      <th>Mas Vnr Area</th>\n",
              "      <th>BsmtFin SF 1</th>\n",
              "      <th>Bsmt Unf SF</th>\n",
              "      <th>Total Bsmt SF</th>\n",
              "      <th>1st Flr SF</th>\n",
              "      <th>2nd Flr SF</th>\n",
              "      <th>Low Qual Fin SF</th>\n",
              "      <th>Gr Liv Area</th>\n",
              "      <th>Bsmt Full Bath</th>\n",
              "      <th>Bsmt Half Bath</th>\n",
              "      <th>Full Bath</th>\n",
              "      <th>Half Bath</th>\n",
              "      <th>Bedroom AbvGr</th>\n",
              "      <th>Kitchen AbvGr</th>\n",
              "      <th>TotRms AbvGrd</th>\n",
              "      <th>Fireplaces</th>\n",
              "      <th>Garage Cars</th>\n",
              "      <th>Wood Deck SF</th>\n",
              "      <th>Open Porch SF</th>\n",
              "      <th>Enclosed Porch</th>\n",
              "      <th>3Ssn Porch</th>\n",
              "      <th>Screen Porch</th>\n",
              "      <th>Pool Area</th>\n",
              "      <th>Misc Val</th>\n",
              "      <th>Mo Sold</th>\n",
              "      <th>Yr Sold</th>\n",
              "      <th>SalePrice</th>\n",
              "      <th>Condition 1 Lb</th>\n",
              "      <th>MS Zoning Lb</th>\n",
              "      <th>Street Lb</th>\n",
              "      <th>Lot Shape Lb</th>\n",
              "      <th>Neighborhood Lb</th>\n",
              "      <th>Lot Config Lb</th>\n",
              "      <th>Bldg Type Lb</th>\n",
              "      <th>House Style Lb</th>\n",
              "      <th>Roof Style Lb</th>\n",
              "      <th>Exterior 1st Lb</th>\n",
              "      <th>Mas Vnr Type Lb</th>\n",
              "      <th>Bsmt Cond Lb</th>\n",
              "      <th>Exter Cond Lb</th>\n",
              "      <th>Foundation Lb</th>\n",
              "      <th>Bsmt Exposure Lb</th>\n",
              "      <th>BsmtFin Type 1 Lb</th>\n",
              "      <th>Heating QC Lb</th>\n",
              "      <th>Central Air Lb</th>\n",
              "      <th>Kitchen Qual Lb</th>\n",
              "      <th>Garage Type Lb</th>\n",
              "      <th>Garage Finish Lb</th>\n",
              "      <th>Paved Drive Lb</th>\n",
              "      <th>Sale Type Lb</th>\n",
              "      <th>Sale Condition Lb</th>\n",
              "    </tr>\n",
              "  </thead>\n",
              "  <tbody>\n",
              "    <tr>\n",
              "      <th>0</th>\n",
              "      <td>20</td>\n",
              "      <td>14299</td>\n",
              "      <td>4</td>\n",
              "      <td>3</td>\n",
              "      <td>1964</td>\n",
              "      <td>1964</td>\n",
              "      <td>0.0</td>\n",
              "      <td>513.0</td>\n",
              "      <td>348.0</td>\n",
              "      <td>1005.0</td>\n",
              "      <td>1005</td>\n",
              "      <td>0</td>\n",
              "      <td>0</td>\n",
              "      <td>1005</td>\n",
              "      <td>1.0</td>\n",
              "      <td>0.0</td>\n",
              "      <td>1</td>\n",
              "      <td>0</td>\n",
              "      <td>3</td>\n",
              "      <td>1</td>\n",
              "      <td>5</td>\n",
              "      <td>0</td>\n",
              "      <td>2.0</td>\n",
              "      <td>0</td>\n",
              "      <td>0</td>\n",
              "      <td>0</td>\n",
              "      <td>0</td>\n",
              "      <td>0</td>\n",
              "      <td>0</td>\n",
              "      <td>0</td>\n",
              "      <td>7</td>\n",
              "      <td>2007</td>\n",
              "      <td>115400</td>\n",
              "      <td>1</td>\n",
              "      <td>5</td>\n",
              "      <td>0</td>\n",
              "      <td>3</td>\n",
              "      <td>22</td>\n",
              "      <td>4</td>\n",
              "      <td>0</td>\n",
              "      <td>2</td>\n",
              "      <td>1</td>\n",
              "      <td>6</td>\n",
              "      <td>3</td>\n",
              "      <td>5</td>\n",
              "      <td>4</td>\n",
              "      <td>1</td>\n",
              "      <td>4</td>\n",
              "      <td>5</td>\n",
              "      <td>4</td>\n",
              "      <td>1</td>\n",
              "      <td>3</td>\n",
              "      <td>5</td>\n",
              "      <td>3</td>\n",
              "      <td>0</td>\n",
              "      <td>9</td>\n",
              "      <td>4</td>\n",
              "    </tr>\n",
              "    <tr>\n",
              "      <th>1</th>\n",
              "      <td>90</td>\n",
              "      <td>10791</td>\n",
              "      <td>4</td>\n",
              "      <td>5</td>\n",
              "      <td>1967</td>\n",
              "      <td>1967</td>\n",
              "      <td>0.0</td>\n",
              "      <td>0.0</td>\n",
              "      <td>0.0</td>\n",
              "      <td>0.0</td>\n",
              "      <td>1296</td>\n",
              "      <td>0</td>\n",
              "      <td>0</td>\n",
              "      <td>1296</td>\n",
              "      <td>0.0</td>\n",
              "      <td>0.0</td>\n",
              "      <td>2</td>\n",
              "      <td>0</td>\n",
              "      <td>2</td>\n",
              "      <td>2</td>\n",
              "      <td>6</td>\n",
              "      <td>0</td>\n",
              "      <td>2.0</td>\n",
              "      <td>0</td>\n",
              "      <td>0</td>\n",
              "      <td>0</td>\n",
              "      <td>0</td>\n",
              "      <td>0</td>\n",
              "      <td>0</td>\n",
              "      <td>500</td>\n",
              "      <td>10</td>\n",
              "      <td>2006</td>\n",
              "      <td>90000</td>\n",
              "      <td>2</td>\n",
              "      <td>5</td>\n",
              "      <td>0</td>\n",
              "      <td>3</td>\n",
              "      <td>22</td>\n",
              "      <td>4</td>\n",
              "      <td>2</td>\n",
              "      <td>2</td>\n",
              "      <td>1</td>\n",
              "      <td>8</td>\n",
              "      <td>3</td>\n",
              "      <td>3</td>\n",
              "      <td>4</td>\n",
              "      <td>3</td>\n",
              "      <td>3</td>\n",
              "      <td>4</td>\n",
              "      <td>4</td>\n",
              "      <td>1</td>\n",
              "      <td>3</td>\n",
              "      <td>4</td>\n",
              "      <td>3</td>\n",
              "      <td>1</td>\n",
              "      <td>9</td>\n",
              "      <td>4</td>\n",
              "    </tr>\n",
              "    <tr>\n",
              "      <th>2</th>\n",
              "      <td>50</td>\n",
              "      <td>9000</td>\n",
              "      <td>6</td>\n",
              "      <td>6</td>\n",
              "      <td>1937</td>\n",
              "      <td>1950</td>\n",
              "      <td>0.0</td>\n",
              "      <td>0.0</td>\n",
              "      <td>780.0</td>\n",
              "      <td>780.0</td>\n",
              "      <td>780</td>\n",
              "      <td>595</td>\n",
              "      <td>0</td>\n",
              "      <td>1375</td>\n",
              "      <td>0.0</td>\n",
              "      <td>0.0</td>\n",
              "      <td>1</td>\n",
              "      <td>1</td>\n",
              "      <td>3</td>\n",
              "      <td>1</td>\n",
              "      <td>6</td>\n",
              "      <td>1</td>\n",
              "      <td>1.0</td>\n",
              "      <td>0</td>\n",
              "      <td>162</td>\n",
              "      <td>0</td>\n",
              "      <td>0</td>\n",
              "      <td>126</td>\n",
              "      <td>0</td>\n",
              "      <td>0</td>\n",
              "      <td>12</td>\n",
              "      <td>2007</td>\n",
              "      <td>141000</td>\n",
              "      <td>2</td>\n",
              "      <td>6</td>\n",
              "      <td>0</td>\n",
              "      <td>3</td>\n",
              "      <td>11</td>\n",
              "      <td>4</td>\n",
              "      <td>0</td>\n",
              "      <td>0</td>\n",
              "      <td>1</td>\n",
              "      <td>14</td>\n",
              "      <td>3</td>\n",
              "      <td>5</td>\n",
              "      <td>2</td>\n",
              "      <td>2</td>\n",
              "      <td>4</td>\n",
              "      <td>6</td>\n",
              "      <td>4</td>\n",
              "      <td>1</td>\n",
              "      <td>2</td>\n",
              "      <td>5</td>\n",
              "      <td>3</td>\n",
              "      <td>2</td>\n",
              "      <td>9</td>\n",
              "      <td>4</td>\n",
              "    </tr>\n",
              "    <tr>\n",
              "      <th>3</th>\n",
              "      <td>60</td>\n",
              "      <td>7379</td>\n",
              "      <td>8</td>\n",
              "      <td>5</td>\n",
              "      <td>2000</td>\n",
              "      <td>2000</td>\n",
              "      <td>0.0</td>\n",
              "      <td>484.0</td>\n",
              "      <td>491.0</td>\n",
              "      <td>975.0</td>\n",
              "      <td>975</td>\n",
              "      <td>873</td>\n",
              "      <td>0</td>\n",
              "      <td>1848</td>\n",
              "      <td>1.0</td>\n",
              "      <td>0.0</td>\n",
              "      <td>2</td>\n",
              "      <td>1</td>\n",
              "      <td>3</td>\n",
              "      <td>1</td>\n",
              "      <td>7</td>\n",
              "      <td>1</td>\n",
              "      <td>2.0</td>\n",
              "      <td>280</td>\n",
              "      <td>184</td>\n",
              "      <td>0</td>\n",
              "      <td>0</td>\n",
              "      <td>0</td>\n",
              "      <td>0</td>\n",
              "      <td>0</td>\n",
              "      <td>4</td>\n",
              "      <td>2010</td>\n",
              "      <td>254000</td>\n",
              "      <td>2</td>\n",
              "      <td>2</td>\n",
              "      <td>0</td>\n",
              "      <td>0</td>\n",
              "      <td>24</td>\n",
              "      <td>4</td>\n",
              "      <td>0</td>\n",
              "      <td>5</td>\n",
              "      <td>1</td>\n",
              "      <td>13</td>\n",
              "      <td>3</td>\n",
              "      <td>5</td>\n",
              "      <td>4</td>\n",
              "      <td>2</td>\n",
              "      <td>4</td>\n",
              "      <td>2</td>\n",
              "      <td>0</td>\n",
              "      <td>1</td>\n",
              "      <td>2</td>\n",
              "      <td>1</td>\n",
              "      <td>2</td>\n",
              "      <td>1</td>\n",
              "      <td>9</td>\n",
              "      <td>4</td>\n",
              "    </tr>\n",
              "    <tr>\n",
              "      <th>4</th>\n",
              "      <td>70</td>\n",
              "      <td>7200</td>\n",
              "      <td>7</td>\n",
              "      <td>9</td>\n",
              "      <td>1936</td>\n",
              "      <td>2007</td>\n",
              "      <td>0.0</td>\n",
              "      <td>350.0</td>\n",
              "      <td>0.0</td>\n",
              "      <td>560.0</td>\n",
              "      <td>575</td>\n",
              "      <td>560</td>\n",
              "      <td>0</td>\n",
              "      <td>1135</td>\n",
              "      <td>1.0</td>\n",
              "      <td>0.0</td>\n",
              "      <td>1</td>\n",
              "      <td>0</td>\n",
              "      <td>3</td>\n",
              "      <td>1</td>\n",
              "      <td>6</td>\n",
              "      <td>0</td>\n",
              "      <td>2.0</td>\n",
              "      <td>256</td>\n",
              "      <td>0</td>\n",
              "      <td>0</td>\n",
              "      <td>0</td>\n",
              "      <td>0</td>\n",
              "      <td>0</td>\n",
              "      <td>0</td>\n",
              "      <td>4</td>\n",
              "      <td>2009</td>\n",
              "      <td>155000</td>\n",
              "      <td>1</td>\n",
              "      <td>5</td>\n",
              "      <td>0</td>\n",
              "      <td>3</td>\n",
              "      <td>21</td>\n",
              "      <td>4</td>\n",
              "      <td>0</td>\n",
              "      <td>5</td>\n",
              "      <td>1</td>\n",
              "      <td>14</td>\n",
              "      <td>3</td>\n",
              "      <td>2</td>\n",
              "      <td>2</td>\n",
              "      <td>2</td>\n",
              "      <td>4</td>\n",
              "      <td>0</td>\n",
              "      <td>0</td>\n",
              "      <td>1</td>\n",
              "      <td>2</td>\n",
              "      <td>5</td>\n",
              "      <td>2</td>\n",
              "      <td>1</td>\n",
              "      <td>9</td>\n",
              "      <td>4</td>\n",
              "    </tr>\n",
              "  </tbody>\n",
              "</table>\n",
              "</div>"
            ],
            "text/plain": [
              "   MS SubClass  Lot Area  ...  Sale Type Lb  Sale Condition Lb\n",
              "0           20     14299  ...             9                  4\n",
              "1           90     10791  ...             9                  4\n",
              "2           50      9000  ...             9                  4\n",
              "3           60      7379  ...             9                  4\n",
              "4           70      7200  ...             9                  4\n",
              "\n",
              "[5 rows x 57 columns]"
            ]
          },
          "metadata": {},
          "execution_count": 87
        }
      ]
    },
    {
      "cell_type": "markdown",
      "metadata": {
        "id": "o8EipOm6a-Hj"
      },
      "source": [
        "# Exploratory Data Analysis (EDA)\n",
        "\n",
        "Once data cleaning was complete, the data was further analyzed to determine which columns would qualify as predictor columns. This analysis was performed using **correlations** between the response (SalePrice) and other columns as well as correlations between predictor columns. Additional analysis was performed using **histograms and scatter plots**."
      ]
    },
    {
      "cell_type": "markdown",
      "metadata": {
        "id": "J2x0YwW1MpKW"
      },
      "source": [
        "## Correlations\n",
        "\n",
        "**Steps:**\n",
        "\n",
        "1. Identify correlations with SalePrice. Remove any predictors that do not have an effect on SalePrice (i.e. low correlation).\n",
        "1. Identify correlations between predictors. Remove some predictors that are highly correlated - have sibling predictors i.e. garage type and garage finish - as they are extraneous for this analysis.\n",
        "\n",
        "Initially I looked at correlations over .60. However, when included features that had lower correlations, the model performed better. It seemed that more predictors resulted in better model performance with RMSPE dropping from around 19% to around 16%.\n",
        "\n",
        "It was also observed that rating systems differed between predictors. Some predictors gave a high value for high quality and a low value for poor quality. Some predictors gave a high value for low quality and a low value for high quality. This resulted in a negative correlation in such cases."
      ]
    },
    {
      "cell_type": "code",
      "metadata": {
        "id": "BBSkwA94vyDK"
      },
      "source": [
        "# Note: Some items have low correlations when I would have expected higher correlation\n",
        "# with sale price based on my personal house purchasing/selling experience.\n",
        "\n",
        "# Look at clean data to see which columns can be used as predictors\n",
        "corr = data_enc.corr()['SalePrice'].round(2)\n",
        "correlated_vars = abs(corr).sort_values(ascending=False)\n",
        "correlated_vars\n",
        "\n",
        "# Keep predictors that have correlation over 30% with SalePrice\n",
        "corr_lower_threshold = .25"
      ],
      "execution_count": 88,
      "outputs": []
    },
    {
      "cell_type": "code",
      "metadata": {
        "colab": {
          "base_uri": "https://localhost:8080/"
        },
        "id": "d2wT2POOA16k",
        "outputId": "1f876cf3-9413-4aa7-95cb-9ffc91b0a22d"
      },
      "source": [
        "# Also look at correlations between all columns.\n",
        "corrs = data_enc.corr().round(2).unstack().abs()\n",
        "# No need to look at correlation = 1 since this is where predictors are correlated with themselves.\n",
        "# Only look at correlations between lower threshold and .99\n",
        "corrs = corrs[(corrs < 1) & (corrs > corr_lower_threshold)]\n",
        "corrs = corrs.sort_values(ascending=False)\n",
        "corrs.iloc[:50]"
      ],
      "execution_count": 89,
      "outputs": [
        {
          "output_type": "execute_result",
          "data": {
            "text/plain": [
              "SalePrice          Overall Qual         0.81\n",
              "Overall Qual       SalePrice            0.81\n",
              "TotRms AbvGrd      Gr Liv Area          0.81\n",
              "Gr Liv Area        TotRms AbvGrd        0.81\n",
              "Total Bsmt SF      1st Flr SF           0.78\n",
              "1st Flr SF         Total Bsmt SF        0.78\n",
              "Bldg Type Lb       MS SubClass          0.74\n",
              "MS SubClass        Bldg Type Lb         0.74\n",
              "SalePrice          Gr Liv Area          0.71\n",
              "Gr Liv Area        SalePrice            0.71\n",
              "Bedroom AbvGr      TotRms AbvGrd        0.68\n",
              "TotRms AbvGrd      Bedroom AbvGr        0.68\n",
              "2nd Flr SF         Gr Liv Area          0.66\n",
              "Gr Liv Area        2nd Flr SF           0.66\n",
              "Garage Cars        SalePrice            0.65\n",
              "SalePrice          Garage Cars          0.65\n",
              "BsmtFin SF 1       Bsmt Full Bath       0.64\n",
              "Bsmt Full Bath     BsmtFin SF 1         0.64\n",
              "SalePrice          Kitchen Qual Lb      0.63\n",
              "Kitchen Qual Lb    SalePrice            0.63\n",
              "Gr Liv Area        Full Bath            0.63\n",
              "Year Built         Foundation Lb        0.63\n",
              "Foundation Lb      Year Built           0.63\n",
              "Full Bath          Gr Liv Area          0.63\n",
              "Total Bsmt SF      SalePrice            0.63\n",
              "SalePrice          Total Bsmt SF        0.63\n",
              "1st Flr SF         SalePrice            0.62\n",
              "SalePrice          1st Flr SF           0.62\n",
              "Half Bath          2nd Flr SF           0.61\n",
              "2nd Flr SF         Half Bath            0.61\n",
              "Year Built         Year Remod/Add       0.61\n",
              "Year Remod/Add     Year Built           0.61\n",
              "TotRms AbvGrd      2nd Flr SF           0.60\n",
              "Year Built         Overall Qual         0.60\n",
              "2nd Flr SF         TotRms AbvGrd        0.60\n",
              "Overall Qual       Year Built           0.60\n",
              "BsmtFin Type 1 Lb  BsmtFin SF 1         0.59\n",
              "Overall Qual       Garage Cars          0.59\n",
              "Garage Cars        Overall Qual         0.59\n",
              "BsmtFin SF 1       BsmtFin Type 1 Lb    0.59\n",
              "Overall Qual       Gr Liv Area          0.57\n",
              "Gr Liv Area        Overall Qual         0.57\n",
              "Kitchen Qual Lb    Overall Qual         0.57\n",
              "Year Remod/Add     Overall Qual         0.57\n",
              "Overall Qual       Year Remod/Add       0.57\n",
              "                   Kitchen Qual Lb      0.57\n",
              "Year Built         SalePrice            0.56\n",
              "SalePrice          Year Built           0.56\n",
              "Gr Liv Area        1st Flr SF           0.54\n",
              "SalePrice          Year Remod/Add       0.54\n",
              "dtype: float64"
            ]
          },
          "metadata": {},
          "execution_count": 89
        }
      ]
    },
    {
      "cell_type": "markdown",
      "metadata": {
        "id": "dM_7k--S_DUS"
      },
      "source": [
        "### Remove Additional Columns"
      ]
    },
    {
      "cell_type": "code",
      "metadata": {
        "colab": {
          "base_uri": "https://localhost:8080/",
          "height": 257
        },
        "id": "Ao38x9HVLACt",
        "outputId": "45fe57db-e358-4428-ae36-3abc78ffa1ab"
      },
      "source": [
        "# Drop columns with low correlation to SalePrice\n",
        "cols_to_drop = correlated_vars.to_frame()\n",
        "cols_to_drop = cols_to_drop[cols_to_drop['SalePrice'] < corr_lower_threshold]\n",
        "for row in range(len(cols_to_drop.index)):\n",
        "  data_enc.drop(cols_to_drop.index[row], inplace=True, axis=1)\n",
        "\n",
        "data_enc.head()"
      ],
      "execution_count": 90,
      "outputs": [
        {
          "output_type": "execute_result",
          "data": {
            "text/html": [
              "<div>\n",
              "<style scoped>\n",
              "    .dataframe tbody tr th:only-of-type {\n",
              "        vertical-align: middle;\n",
              "    }\n",
              "\n",
              "    .dataframe tbody tr th {\n",
              "        vertical-align: top;\n",
              "    }\n",
              "\n",
              "    .dataframe thead th {\n",
              "        text-align: right;\n",
              "    }\n",
              "</style>\n",
              "<table border=\"1\" class=\"dataframe\">\n",
              "  <thead>\n",
              "    <tr style=\"text-align: right;\">\n",
              "      <th></th>\n",
              "      <th>Lot Area</th>\n",
              "      <th>Overall Qual</th>\n",
              "      <th>Year Built</th>\n",
              "      <th>Year Remod/Add</th>\n",
              "      <th>Mas Vnr Area</th>\n",
              "      <th>BsmtFin SF 1</th>\n",
              "      <th>Total Bsmt SF</th>\n",
              "      <th>1st Flr SF</th>\n",
              "      <th>2nd Flr SF</th>\n",
              "      <th>Gr Liv Area</th>\n",
              "      <th>Bsmt Full Bath</th>\n",
              "      <th>Full Bath</th>\n",
              "      <th>Half Bath</th>\n",
              "      <th>TotRms AbvGrd</th>\n",
              "      <th>Fireplaces</th>\n",
              "      <th>Garage Cars</th>\n",
              "      <th>Wood Deck SF</th>\n",
              "      <th>Open Porch SF</th>\n",
              "      <th>SalePrice</th>\n",
              "      <th>Lot Shape Lb</th>\n",
              "      <th>Roof Style Lb</th>\n",
              "      <th>Foundation Lb</th>\n",
              "      <th>Bsmt Exposure Lb</th>\n",
              "      <th>Heating QC Lb</th>\n",
              "      <th>Central Air Lb</th>\n",
              "      <th>Kitchen Qual Lb</th>\n",
              "      <th>Garage Type Lb</th>\n",
              "      <th>Garage Finish Lb</th>\n",
              "    </tr>\n",
              "  </thead>\n",
              "  <tbody>\n",
              "    <tr>\n",
              "      <th>0</th>\n",
              "      <td>14299</td>\n",
              "      <td>4</td>\n",
              "      <td>1964</td>\n",
              "      <td>1964</td>\n",
              "      <td>0.0</td>\n",
              "      <td>513.0</td>\n",
              "      <td>1005.0</td>\n",
              "      <td>1005</td>\n",
              "      <td>0</td>\n",
              "      <td>1005</td>\n",
              "      <td>1.0</td>\n",
              "      <td>1</td>\n",
              "      <td>0</td>\n",
              "      <td>5</td>\n",
              "      <td>0</td>\n",
              "      <td>2.0</td>\n",
              "      <td>0</td>\n",
              "      <td>0</td>\n",
              "      <td>115400</td>\n",
              "      <td>3</td>\n",
              "      <td>1</td>\n",
              "      <td>1</td>\n",
              "      <td>4</td>\n",
              "      <td>4</td>\n",
              "      <td>1</td>\n",
              "      <td>3</td>\n",
              "      <td>5</td>\n",
              "      <td>3</td>\n",
              "    </tr>\n",
              "    <tr>\n",
              "      <th>1</th>\n",
              "      <td>10791</td>\n",
              "      <td>4</td>\n",
              "      <td>1967</td>\n",
              "      <td>1967</td>\n",
              "      <td>0.0</td>\n",
              "      <td>0.0</td>\n",
              "      <td>0.0</td>\n",
              "      <td>1296</td>\n",
              "      <td>0</td>\n",
              "      <td>1296</td>\n",
              "      <td>0.0</td>\n",
              "      <td>2</td>\n",
              "      <td>0</td>\n",
              "      <td>6</td>\n",
              "      <td>0</td>\n",
              "      <td>2.0</td>\n",
              "      <td>0</td>\n",
              "      <td>0</td>\n",
              "      <td>90000</td>\n",
              "      <td>3</td>\n",
              "      <td>1</td>\n",
              "      <td>3</td>\n",
              "      <td>3</td>\n",
              "      <td>4</td>\n",
              "      <td>1</td>\n",
              "      <td>3</td>\n",
              "      <td>4</td>\n",
              "      <td>3</td>\n",
              "    </tr>\n",
              "    <tr>\n",
              "      <th>2</th>\n",
              "      <td>9000</td>\n",
              "      <td>6</td>\n",
              "      <td>1937</td>\n",
              "      <td>1950</td>\n",
              "      <td>0.0</td>\n",
              "      <td>0.0</td>\n",
              "      <td>780.0</td>\n",
              "      <td>780</td>\n",
              "      <td>595</td>\n",
              "      <td>1375</td>\n",
              "      <td>0.0</td>\n",
              "      <td>1</td>\n",
              "      <td>1</td>\n",
              "      <td>6</td>\n",
              "      <td>1</td>\n",
              "      <td>1.0</td>\n",
              "      <td>0</td>\n",
              "      <td>162</td>\n",
              "      <td>141000</td>\n",
              "      <td>3</td>\n",
              "      <td>1</td>\n",
              "      <td>2</td>\n",
              "      <td>4</td>\n",
              "      <td>4</td>\n",
              "      <td>1</td>\n",
              "      <td>2</td>\n",
              "      <td>5</td>\n",
              "      <td>3</td>\n",
              "    </tr>\n",
              "    <tr>\n",
              "      <th>3</th>\n",
              "      <td>7379</td>\n",
              "      <td>8</td>\n",
              "      <td>2000</td>\n",
              "      <td>2000</td>\n",
              "      <td>0.0</td>\n",
              "      <td>484.0</td>\n",
              "      <td>975.0</td>\n",
              "      <td>975</td>\n",
              "      <td>873</td>\n",
              "      <td>1848</td>\n",
              "      <td>1.0</td>\n",
              "      <td>2</td>\n",
              "      <td>1</td>\n",
              "      <td>7</td>\n",
              "      <td>1</td>\n",
              "      <td>2.0</td>\n",
              "      <td>280</td>\n",
              "      <td>184</td>\n",
              "      <td>254000</td>\n",
              "      <td>0</td>\n",
              "      <td>1</td>\n",
              "      <td>2</td>\n",
              "      <td>4</td>\n",
              "      <td>0</td>\n",
              "      <td>1</td>\n",
              "      <td>2</td>\n",
              "      <td>1</td>\n",
              "      <td>2</td>\n",
              "    </tr>\n",
              "    <tr>\n",
              "      <th>4</th>\n",
              "      <td>7200</td>\n",
              "      <td>7</td>\n",
              "      <td>1936</td>\n",
              "      <td>2007</td>\n",
              "      <td>0.0</td>\n",
              "      <td>350.0</td>\n",
              "      <td>560.0</td>\n",
              "      <td>575</td>\n",
              "      <td>560</td>\n",
              "      <td>1135</td>\n",
              "      <td>1.0</td>\n",
              "      <td>1</td>\n",
              "      <td>0</td>\n",
              "      <td>6</td>\n",
              "      <td>0</td>\n",
              "      <td>2.0</td>\n",
              "      <td>256</td>\n",
              "      <td>0</td>\n",
              "      <td>155000</td>\n",
              "      <td>3</td>\n",
              "      <td>1</td>\n",
              "      <td>2</td>\n",
              "      <td>4</td>\n",
              "      <td>0</td>\n",
              "      <td>1</td>\n",
              "      <td>2</td>\n",
              "      <td>5</td>\n",
              "      <td>2</td>\n",
              "    </tr>\n",
              "  </tbody>\n",
              "</table>\n",
              "</div>"
            ],
            "text/plain": [
              "   Lot Area  Overall Qual  ...  Garage Type Lb  Garage Finish Lb\n",
              "0     14299             4  ...               5                 3\n",
              "1     10791             4  ...               4                 3\n",
              "2      9000             6  ...               5                 3\n",
              "3      7379             8  ...               1                 2\n",
              "4      7200             7  ...               5                 2\n",
              "\n",
              "[5 rows x 28 columns]"
            ]
          },
          "metadata": {},
          "execution_count": 90
        }
      ]
    },
    {
      "cell_type": "code",
      "metadata": {
        "id": "DPlyVOGwJns0"
      },
      "source": [
        "# Drop additional columns that are shown to add little predictive value \n",
        "#  when viewing regression results. \n",
        "# data_enc.drop(['Year Built', 'Year Remod/Add', 'Mas Vnr Area', 'BsmtFin SF 1', 'Total Bsmt SF', '1st Flr SF',\n",
        "#                'Gr Liv Area', 'Garage Type Lb'], inplace=True, axis=1)\n",
        "\n",
        "# data_enc.drop(['Year Built', 'Year Remod/Add', 'Mas Vnr Area', 'BsmtFin SF 1', 'Total Bsmt SF', '1st Flr SF',\n",
        "#                'Garage Type Lb'], inplace=True, axis=1)\n"
      ],
      "execution_count": 91,
      "outputs": []
    },
    {
      "cell_type": "code",
      "metadata": {
        "id": "V2-d-MzpLFeJ"
      },
      "source": [
        "# Create correlation plot to see if any of the remaining predictors are highly correlated.\n",
        "# If they are, then we can further reduce the number of predictors as unnecessary\n",
        "#  since we don't need every predictor. \n",
        "# plt.figure(figsize=(15,15))\n",
        "# correlation_matrix = data_enc.corr().round(2)\n",
        "# sns.heatmap(data=correlation_matrix, annot=True)"
      ],
      "execution_count": 92,
      "outputs": []
    },
    {
      "cell_type": "code",
      "metadata": {
        "id": "fWbkHiicof8n"
      },
      "source": [
        "# With remaining columns create scatter plots and histograms to further see relationships\n",
        "#   between columns\n",
        "# sns.pairplot(data_enc)"
      ],
      "execution_count": 93,
      "outputs": []
    },
    {
      "cell_type": "markdown",
      "metadata": {
        "id": "ftp3mmAUAV3r"
      },
      "source": [
        "### Observations\n",
        "\n",
        "Sale Price shows the following relationships with predictors:\n",
        "\n",
        "* Sale Price increases as Overall Quality increases.\n",
        "\n",
        "* Sale Price rises at an increasing rate starting in the year 2000.\n",
        "\n",
        "* Sale Price increases as square footage and living area increase. However there were some outliers where a low sale price was observed for a couple of houses that had very high square footage.\n",
        "\n",
        "* Sale Price increases as the number of Full Baths and Garage Cars increase.\n",
        "\n",
        "* Sale Price is positively affected by Excellent Kitchen Quality but lower levels of Kitchen Quality seem to have a nominal effect on Sale Price."
      ]
    },
    {
      "cell_type": "markdown",
      "metadata": {
        "id": "JYTTYeRLqKJe"
      },
      "source": [
        "### Evaluate Anomalies - TODO: REMOVE"
      ]
    },
    {
      "cell_type": "code",
      "metadata": {
        "id": "1310plP8qhgA"
      },
      "source": [
        "# Gr Liv Area = 1st Flr SF in many cases. This indicates a single story house.\n",
        "# data_enc.plot('1st Flr SF', 'Gr Liv Area', kind = 'scatter')"
      ],
      "execution_count": 94,
      "outputs": []
    },
    {
      "cell_type": "code",
      "metadata": {
        "id": "Cr4r-FT9rnv9"
      },
      "source": [
        "# Sale Price trends up when square feet increases. \n",
        "# However there are some outliers with low price and large square feet.\n",
        "# data_enc.plot('SalePrice', '1st Flr SF', kind = 'scatter')"
      ],
      "execution_count": 95,
      "outputs": []
    },
    {
      "cell_type": "code",
      "metadata": {
        "id": "nWG-q7qesTH9"
      },
      "source": [
        "# TODO: put side by side with previous plot\n",
        "# Sale Price trends up when square feet increases. \n",
        "# However there are some outliers with low price and large square feet.\n",
        "# data_enc.plot('SalePrice', 'Gr Liv Area', kind = 'scatter')"
      ],
      "execution_count": 96,
      "outputs": []
    },
    {
      "cell_type": "code",
      "metadata": {
        "id": "oLjkCXVRNQif"
      },
      "source": [
        "# Remove ground square feet outliers; large homes at low prices\n",
        "vals = np.where((data_enc['Gr Liv Area'] > 4000) & (data_enc['SalePrice']< 200000))\n",
        "data_enc.iloc[vals]\n",
        "data_enc.drop(vals[0], inplace=True, axis=0)"
      ],
      "execution_count": 97,
      "outputs": []
    },
    {
      "cell_type": "markdown",
      "metadata": {
        "id": "hHXPHIj2HquB"
      },
      "source": [
        "## Distributions\n",
        "\n",
        "**Steps:**\n",
        "\n",
        "1. Look at distribution of SalePrice.\n",
        "1. Identify average SalePrice by Discrete and Ordinal predictors to further confirm effect such predictors have on SalePrice.\n",
        "1. Identify outliers to determine course of action.\n",
        " - Remove rows with outliers if there are a small number of them.\n",
        " - Scale data if necessary to bring outliers into line with other values.\n",
        "\n"
      ]
    },
    {
      "cell_type": "code",
      "metadata": {
        "id": "bnrRyIgMLfvX",
        "colab": {
          "base_uri": "https://localhost:8080/",
          "height": 296
        },
        "outputId": "9dcd6002-1196-4abf-dc7d-4a15acbb2620"
      },
      "source": [
        "# Look at distribution of SalePrice\n",
        "# Result indicates data is right skewed with some outliers\n",
        "sns.histplot(data_enc['SalePrice'], kde=True)\n",
        "plt.xlabel('Residential Sale Price')\n",
        "plt.ylabel(\"Count\")"
      ],
      "execution_count": 98,
      "outputs": [
        {
          "output_type": "execute_result",
          "data": {
            "text/plain": [
              "Text(0, 0.5, 'Count')"
            ]
          },
          "metadata": {},
          "execution_count": 98
        },
        {
          "output_type": "display_data",
          "data": {
            "image/png": "[encoded data removed]",
            "text/plain": [
              "<Figure size 432x288 with 1 Axes>"
            ]
          },
          "metadata": {
            "needs_background": "light"
          }
        }
      ]
    },
    {
      "cell_type": "code",
      "metadata": {
        "id": "kxopVDizF8oj",
        "colab": {
          "base_uri": "https://localhost:8080/",
          "height": 416
        },
        "outputId": "69f7a0c6-458e-4d36-f2c0-71a55cf9994a"
      },
      "source": [
        "data_enc.boxplot(column= 'SalePrice')\n",
        "data_enc['SalePrice'].describe()"
      ],
      "execution_count": 99,
      "outputs": [
        {
          "output_type": "execute_result",
          "data": {
            "text/plain": [
              "count      2635.000000\n",
              "mean     179992.007211\n",
              "std       78337.952919\n",
              "min       12789.000000\n",
              "25%      129500.000000\n",
              "50%      160000.000000\n",
              "75%      213000.000000\n",
              "max      745000.000000\n",
              "Name: SalePrice, dtype: float64"
            ]
          },
          "metadata": {},
          "execution_count": 99
        },
        {
          "output_type": "display_data",
          "data": {
            "image/png": "[encoded data removed]",
            "text/plain": [
              "<Figure size 432x288 with 1 Axes>"
            ]
          },
          "metadata": {
            "needs_background": "light"
          }
        }
      ]
    },
    {
      "cell_type": "markdown",
      "metadata": {
        "id": "07gzGUB6Fbhf"
      },
      "source": [
        "Sale Price is positively skewed with most values falling between \\$125,000 and \\$210,000. The average sale price is around \\$180,000 with outliers starting at around \\$330,000."
      ]
    },
    {
      "cell_type": "code",
      "metadata": {
        "id": "m74vosXub4Eu",
        "colab": {
          "base_uri": "https://localhost:8080/",
          "height": 390
        },
        "outputId": "f2776ec9-d7fa-496b-9a6d-0bbc71d19d78"
      },
      "source": [
        "# Look at distributions for remaining predictors\n",
        "fig, axs = plt.subplots(2,5, figsize = (25,10)) \n",
        "column_names = data_enc.columns\n",
        "n = 0\n",
        "for i in range(2): # Loop through rows \n",
        "  for j in range(5): # Loop through columns\n",
        "    # Only have 11 plots so prevent index out of bounds error\n",
        "    # if not (i == 2 and j > 2):\n",
        "    axs[i,j].hist(data_enc[column_names[n]])\n",
        "    axs[i,j].set_xlabel(column_names[n])\n",
        "    axs[i,j].set_ylabel('Count')\n",
        "    n = n + 1"
      ],
      "execution_count": 100,
      "outputs": [
        {
          "output_type": "display_data",
          "data": {
            "image/png": "[encoded data removed]",
            "text/plain": [
              "<Figure size 1800x720 with 10 Axes>"
            ]
          },
          "metadata": {
            "needs_background": "light"
          }
        }
      ]
    },
    {
      "cell_type": "markdown",
      "metadata": {
        "id": "lRTX90q92Nuh"
      },
      "source": [
        "### Observations - Histograms\n",
        "\n",
        "* Year built is highly skewed toward newer houses built after 2000 with a normal distribution of houses built between 1940 and 2000.\n",
        "\n",
        "* Year Remod/Add is equal to the year built if the house was *not* remodeled. So this may indicate that **the year remodeled is not a useful predictor**.\n",
        "\n",
        "* Mas Vnr Area is highly skewed indicating this may **not be a good predictor**.\n",
        "\n",
        "* Total Bsmt SF, 1st Flr SF and Gr Liv Area are skewed toward lower square footages.\n",
        "\n",
        " * Total Bsmt SF has some outliers.\n",
        "\n",
        "* Full Bath and Garage Cars are discrete.\n",
        "\n",
        "* Overall Quality and Kitchen Quality are ordinal.\n"
      ]
    },
    {
      "cell_type": "code",
      "metadata": {
        "id": "WCQ9CXnY-boq",
        "colab": {
          "base_uri": "https://localhost:8080/"
        },
        "outputId": "1e355011-89f7-4e6d-cb74-b3edff935941"
      },
      "source": [
        "# Identify average sale price by discrete and ordinal predictors\n",
        "print(data_enc.groupby('Overall Qual')['SalePrice'].mean().round())\n",
        "print(data_enc.groupby('Garage Cars')['SalePrice'].mean().round())\n",
        "print(data_enc.groupby('Kitchen Qual Lb')['SalePrice'].mean().round())\n",
        "# print(data_enc.groupby('Year Built')['SalePrice'].mean().round())\n",
        "print(data_enc.groupby('Full Bath')['SalePrice'].mean().round())"
      ],
      "execution_count": 101,
      "outputs": [
        {
          "output_type": "stream",
          "text": [
            "Overall Qual\n",
            "1      48725.0\n",
            "2      48783.0\n",
            "3      81768.0\n",
            "4     105836.0\n",
            "5     134980.0\n",
            "6     161039.0\n",
            "7     204109.0\n",
            "8     269078.0\n",
            "9     362322.0\n",
            "10    466445.0\n",
            "Name: SalePrice, dtype: float64\n",
            "Garage Cars\n",
            "0.0    104577.0\n",
            "1.0    127732.0\n",
            "2.0    183057.0\n",
            "3.0    309047.0\n",
            "4.0    209320.0\n",
            "5.0    126500.0\n",
            "Name: SalePrice, dtype: float64\n",
            "Kitchen Qual Lb\n",
            "0    338006.0\n",
            "1    103317.0\n",
            "2    209312.0\n",
            "3    138949.0\n",
            "Name: SalePrice, dtype: float64\n",
            "Full Bath\n",
            "0    176834.0\n",
            "1    134920.0\n",
            "2    214139.0\n",
            "3    315297.0\n",
            "4    232667.0\n",
            "Name: SalePrice, dtype: float64\n"
          ],
          "name": "stdout"
        }
      ]
    },
    {
      "cell_type": "markdown",
      "metadata": {
        "id": "ulEHyLeIDR_P"
      },
      "source": [
        "### Observations - Sale Price Averages by Predictor\n",
        "\n",
        "* Increased Overall Quality shows a steady increase in average Sale Price.\n",
        "\n",
        "* Garage size up to 3 car garages shows an increase in average Sale Price. However any additional increase in garage size does not positively affect Sale Price.\n",
        "\n",
        "* Excellent Kitchen quality correlates with a large average Sale Price. However any other Kitchen Quality does not correlate with a larger Sale Price. **Therefore, Kitchen Quality will not be considered further as a Sale Price predictor**.\n",
        "\n",
        " * _NOTE: re-ran regression models and discovered that Kitchen Quality **did** have a strong impact on Sale Price._\n",
        "\n",
        "* Houses built more recently result in a higher average Sale Price especially for those built after the year 2000.\n",
        "\n",
        "* The number of full baths up to 3 results in a higher average Sale Price.\n",
        "\n"
      ]
    },
    {
      "cell_type": "markdown",
      "metadata": {
        "id": "On_33iPdEX8m"
      },
      "source": [
        "## EDA Summary\n",
        "\n",
        "After analyzing the data, looking at correlations between predictors and correlations with SalePrice, the following predictors were chosen to model against SalePrice:\n",
        "\n",
        "* Overall Qual\n",
        "* Gr Liv Area\n",
        "* Garage Cars\n",
        "* Year Built\n",
        "* Full Bath\n",
        "\n",
        "#### Outliers\n",
        "\n",
        "Sale Price has significant outliers (house prices exceeding \\$330,000) that need to be addressed when fitting the regression model.\n",
        "\n",
        "There were cases where a low sale price (under \\$200,000) was observed with a very high living area (over 3,000 SF). These outliers need to be addressed."
      ]
    },
    {
      "cell_type": "markdown",
      "metadata": {
        "id": "n2pVtkyHbAuB"
      },
      "source": [
        "# Processing\n",
        "\n",
        "aka Model Validation of Continuous Response\n",
        "\n",
        "* Mean Squared Error (MSE)\n",
        " * Outliers can be more heavily weighted\n",
        "* Root Mean Squared Error (RMSE)\n",
        " * Square root of MSE\n",
        " * In same units as the response\n",
        "* Root Mean Squared Percentage Error (RMSPE) --> GOAL FOR THIS PROJECT\n",
        " * Scales RMSE based on the response value\n",
        "* Mean Absolute Error (MAE)\n",
        " * Outliers are *not* more heavily weighted.\n",
        "\n",
        " [Slides](https://docs.google.com/presentation/d/1uMKqprz6tjWaGdzyXc2KAc5rGqZYdXC_/edit#slide=id.gdabdebda8f_0_61)\n",
        "\n",
        " [Example](https://colab.research.google.com/drive/1T59pwLHro8Hoj6hhgnAz-i4ShH5wm-jh)\n",
        " \n",
        "\n"
      ]
    },
    {
      "cell_type": "markdown",
      "metadata": {
        "id": "kreJIDMpHSp4"
      },
      "source": [
        "## Feature Scaling - TODO\n",
        "\n",
        "* Min-Max Scaling - aka Normalization\n",
        "* Robust Scaling - like min-max but resistant to outliers\n",
        "\n",
        "[Examples](https://colab.research.google.com/drive/1RxlvHBJ-Gh6tKxsRZsjW03S6owedpj6q#scrollTo=aX-z3Va86EjG)"
      ]
    },
    {
      "cell_type": "code",
      "metadata": {
        "id": "HHzoPqVyEh5h"
      },
      "source": [
        "# TODO: do we only do this with a couple of the columns and then add them back in?\n",
        "# Try robust scaling to deal with outliers\n"
      ],
      "execution_count": 102,
      "outputs": []
    },
    {
      "cell_type": "markdown",
      "metadata": {
        "id": "29g8fpJP1_kV"
      },
      "source": [
        "## Prepare Test Data"
      ]
    },
    {
      "cell_type": "code",
      "metadata": {
        "id": "FtPfNqEqPXJS"
      },
      "source": [
        "# Break up data into training and testing sets\n",
        "X = data_enc.drop(['SalePrice'], axis = 1).copy()\n",
        "y = data_enc['SalePrice']\n",
        "\n",
        "X_train, X_test, y_train, y_test = train_test_split(X, y, test_size = 0.2, random_state=5)"
      ],
      "execution_count": 103,
      "outputs": []
    },
    {
      "cell_type": "markdown",
      "metadata": {
        "id": "kJfaseEzPSLg"
      },
      "source": [
        "## Linear Regression"
      ]
    },
    {
      "cell_type": "markdown",
      "metadata": {
        "id": "DT7YNSDa4Sy-"
      },
      "source": [
        "### RMSPE for Linear Regression"
      ]
    },
    {
      "cell_type": "code",
      "metadata": {
        "id": "XhQVrAA8P1g0",
        "colab": {
          "base_uri": "https://localhost:8080/"
        },
        "outputId": "0ff484cc-ae9a-4abc-c493-a061016ed4f7"
      },
      "source": [
        "# Fit a linear model using Sklearn\n",
        "model = LinearRegression(normalize = True)\n",
        "my_fit_lr = model.fit(X_train, y_train)\n",
        "\n",
        "# TODO: verify these values.\n",
        "y_pred = my_fit_lr.predict(X_test)\n",
        "rmse = get_rmse(y_test, y_pred)\n",
        "print(f\"RMSE: {rmse}\")\n",
        "rmspe = get_rmspe(y_test, y_pred)\n",
        "print(f\"RMSPE: {rmspe}\")"
      ],
      "execution_count": 104,
      "outputs": [
        {
          "output_type": "stream",
          "text": [
            "RMSE: 24406.870512881847\n",
            "RMSPE: 0.19339688280814482\n"
          ],
          "name": "stdout"
        }
      ]
    },
    {
      "cell_type": "code",
      "metadata": {
        "id": "QkUrxmR162TW",
        "colab": {
          "base_uri": "https://localhost:8080/",
          "height": 312
        },
        "outputId": "ef097e62-09c8-4f93-8c8a-8bbb85d0aefc"
      },
      "source": [
        "# Visualize results\n",
        "plt.scatter(y_test, y_pred)\n",
        "plt.plot([min(y_pred), max(y_pred)],[min(y_pred), max(y_pred)], c='red')\n",
        "plt.xlabel('Actual Sale Price')\n",
        "plt.ylabel('Predicted Sale Price')\n",
        "plt.title('Linear Regression')"
      ],
      "execution_count": 105,
      "outputs": [
        {
          "output_type": "execute_result",
          "data": {
            "text/plain": [
              "Text(0.5, 1.0, 'Linear Regression')"
            ]
          },
          "metadata": {},
          "execution_count": 105
        },
        {
          "output_type": "display_data",
          "data": {
            "image/png": "[encoded data removed]",
            "text/plain": [
              "<Figure size 432x288 with 1 Axes>"
            ]
          },
          "metadata": {
            "needs_background": "light"
          }
        }
      ]
    },
    {
      "cell_type": "code",
      "metadata": {
        "colab": {
          "base_uri": "https://localhost:8080/",
          "height": 279
        },
        "id": "lejcYJ7xJY1T",
        "outputId": "deeae420-56bd-433d-ea9e-4d93dab2ffda"
      },
      "source": [
        "# QQ Plot - Residuals of Linear Model Above \n",
        "res = y_test - y_pred\n",
        "sm.qqplot(res, fit=True, line=\"45\")\n",
        "plt.show()"
      ],
      "execution_count": 106,
      "outputs": [
        {
          "output_type": "display_data",
          "data": {
            "image/png": "[encoded data removed]",
            "text/plain": [
              "<Figure size 432x288 with 1 Axes>"
            ]
          },
          "metadata": {
            "needs_background": "light"
          }
        }
      ]
    },
    {
      "cell_type": "code",
      "metadata": {
        "id": "MREoX-0OP75J"
      },
      "source": [
        "# Create a data frame with the results from the linear regression model\n",
        "model_results = pd.DataFrame()\n",
        "model_results['Predictor'] = X_train.columns\n",
        "model_results['Linear'] = my_fit_lr.coef_\n",
        "# model_results"
      ],
      "execution_count": 107,
      "outputs": []
    },
    {
      "cell_type": "code",
      "metadata": {
        "id": "OWc4omoQQUYP",
        "colab": {
          "base_uri": "https://localhost:8080/"
        },
        "outputId": "f8031379-2b08-41db-e0bd-6f064fc25f38"
      },
      "source": [
        "# Calculate CV RMSE\n",
        "# TODO: Why is CV RMSE so much larger than single RMSE?\n",
        "results = cross_val_score(model, X, y, scoring='neg_mean_squared_error', cv = 10)\n",
        "mse = results.mean()\n",
        "rmse = np.sqrt(abs(mse))\n",
        "print(f\"CV RMSE: {rmse}\")"
      ],
      "execution_count": 108,
      "outputs": [
        {
          "output_type": "stream",
          "text": [
            "CV RMSE: 27416.983472357584\n"
          ],
          "name": "stdout"
        }
      ]
    },
    {
      "cell_type": "markdown",
      "metadata": {
        "id": "054VzJBDHWJU"
      },
      "source": [
        "## Regularization\n",
        "\n",
        "Helps with overfitting (high variance, low bias) with large datasets. Shrinks regression model coefficient estimates towards zero.\n",
        "\n",
        "* Ridge Regression\n",
        "* Lasso Regression\n",
        "\n",
        "[Slides](https://docs.google.com/presentation/d/1m2vJB58QWDLDtW-A244J4y8TcNH867j3G_UyeULUe9w/edit#slide=id.gdd52504e00_0_0)\n",
        "\n",
        "[Examples](https://colab.research.google.com/drive/1rHyd135SB8Xk_xyALCNRsjzhavMghL5q)"
      ]
    },
    {
      "cell_type": "markdown",
      "metadata": {
        "id": "e33HhpPcQlKR"
      },
      "source": [
        "### Ridge Regression"
      ]
    },
    {
      "cell_type": "code",
      "metadata": {
        "id": "QHOnyaFcQkpZ",
        "colab": {
          "base_uri": "https://localhost:8080/"
        },
        "outputId": "4888a452-b2cd-4d13-dfac-1995d80abd25"
      },
      "source": [
        "# Train the model\n",
        "my_fit_rr = Ridge(alpha = 1, normalize = True) # Arbitrarily choosing alpha = 1\n",
        "my_fit_rr.fit(X_train, y_train)"
      ],
      "execution_count": 109,
      "outputs": [
        {
          "output_type": "execute_result",
          "data": {
            "text/plain": [
              "Ridge(alpha=1, copy_X=True, fit_intercept=True, max_iter=None, normalize=True,\n",
              "      random_state=None, solver='auto', tol=0.001)"
            ]
          },
          "metadata": {},
          "execution_count": 109
        }
      ]
    },
    {
      "cell_type": "markdown",
      "metadata": {
        "id": "qmxIaT7645r1"
      },
      "source": [
        "#### RMSPE for Ridge Regression"
      ]
    },
    {
      "cell_type": "code",
      "metadata": {
        "colab": {
          "base_uri": "https://localhost:8080/"
        },
        "id": "XJE1WDIiQ8W1",
        "outputId": "cb5c46c3-8743-46fe-f1dd-ca8cb55efbfe"
      },
      "source": [
        "# Calculate RMSE for prediction based on actual values using model with alpha score 1\n",
        "y_pred = my_fit_rr.predict(X_test)\n",
        "rmse = get_rmse(y_test, y_pred)\n",
        "print(f\"RMSE: {rmse}\")\n",
        "rmspe = get_rmspe(y_test, y_pred)\n",
        "print(f\"RMSPE: {rmspe}\")"
      ],
      "execution_count": 110,
      "outputs": [
        {
          "output_type": "stream",
          "text": [
            "RMSE: 25826.420261342162\n",
            "RMSPE: 0.1742950518807184\n"
          ],
          "name": "stdout"
        }
      ]
    },
    {
      "cell_type": "code",
      "metadata": {
        "colab": {
          "base_uri": "https://localhost:8080/",
          "height": 312
        },
        "id": "VpSqtdGj7Lue",
        "outputId": "51c45b7e-2113-4a7b-c5b6-3f068b4a5c63"
      },
      "source": [
        "# Visualize results\n",
        "plt.scatter(y_test, y_pred)\n",
        "plt.plot([min(y_pred), max(y_pred)],[min(y_pred), max(y_pred)], c='red')\n",
        "plt.xlabel('Actual Sale Price')\n",
        "plt.ylabel('Predicted Sale Price')\n",
        "plt.title('Before Alpha Ridge Regression')"
      ],
      "execution_count": 111,
      "outputs": [
        {
          "output_type": "execute_result",
          "data": {
            "text/plain": [
              "Text(0.5, 1.0, 'Before Alpha Ridge Regression')"
            ]
          },
          "metadata": {},
          "execution_count": 111
        },
        {
          "output_type": "display_data",
          "data": {
            "image/png": "[encoded data removed]",
            "text/plain": [
              "<Figure size 432x288 with 1 Axes>"
            ]
          },
          "metadata": {
            "needs_background": "light"
          }
        }
      ]
    },
    {
      "cell_type": "code",
      "metadata": {
        "colab": {
          "base_uri": "https://localhost:8080/",
          "height": 279
        },
        "id": "TzgEX1BeIgOB",
        "outputId": "6146c5d6-6e25-4c5a-8553-d2f771bbd8b2"
      },
      "source": [
        "# QQ Plot - Residuals of Linear Model Above \n",
        "res = y_test - y_pred\n",
        "sm.qqplot(res, fit=True, line=\"45\")\n",
        "plt.show()"
      ],
      "execution_count": 112,
      "outputs": [
        {
          "output_type": "display_data",
          "data": {
            "image/png": "[encoded data removed]",
            "text/plain": [
              "<Figure size 432x288 with 1 Axes>"
            ]
          },
          "metadata": {
            "needs_background": "light"
          }
        }
      ]
    },
    {
      "cell_type": "code",
      "metadata": {
        "id": "2dXDeHBlRFtr"
      },
      "source": [
        "# Specify values of alpha we want to try \n",
        "alph = [1e-15, 1e-10, 1e-8, 1e-4, 1e-3, 1e-2, 1e-1, 1, 2, 3, 4, 5, 10, 20, 30, 50]\n",
        "\n",
        "# Create empty list to hold results\n",
        "results_alpha = []\n",
        "\n",
        "for i in alph: \n",
        "  # Train the model\n",
        "  my_fit_rr = Ridge(alpha = i, normalize = True) # Looping through alpha\n",
        "  my_fit_rr.fit(X_train, y_train)\n",
        "\n",
        "  # Calculate CV RMSE\n",
        "  results = cross_val_score(my_fit_rr, X, y, scoring='neg_mean_squared_error', cv = 10)\n",
        "  results\n",
        "  mse = results.mean()\n",
        "  rmse = np.sqrt(abs(mse))\n",
        "  results_alpha.append(rmse)\n",
        "\n",
        "results_df = pd.DataFrame({'Alpha': alph, 'RMSE': results_alpha})\n",
        "# print(results_df)\n",
        "a_val = results_df[results_df['RMSE'] == results_df['RMSE'].min()]['Alpha'].values[0]"
      ],
      "execution_count": 113,
      "outputs": []
    },
    {
      "cell_type": "code",
      "metadata": {
        "colab": {
          "base_uri": "https://localhost:8080/"
        },
        "id": "oFkgib-SRmSo",
        "outputId": "43d53a22-8baa-4508-c7f5-244a45c0cce2"
      },
      "source": [
        "# Retrain the model w/ new alpha score\n",
        "my_fit_rr = Ridge(alpha = a_val, normalize = True) \n",
        "my_fit_rr.fit(X_train, y_train)\n",
        "\n",
        "# Calculate CV RMSE\n",
        "results = cross_val_score(my_fit_rr, X, y, scoring='neg_mean_squared_error', cv = 10)\n",
        "mse = results.mean()\n",
        "rmse = np.sqrt(abs(mse))\n",
        "print(f\"CV RMSE: {rmse}\")"
      ],
      "execution_count": 114,
      "outputs": [
        {
          "output_type": "stream",
          "text": [
            "CV RMSE: 27404.678303442273\n"
          ],
          "name": "stdout"
        }
      ]
    },
    {
      "cell_type": "code",
      "metadata": {
        "colab": {
          "base_uri": "https://localhost:8080/"
        },
        "id": "GhrxQuAOKvsY",
        "outputId": "8440aa36-edc5-4cb5-f859-65adeec0cf95"
      },
      "source": [
        "# Calculate RMSE for prediction based on actual values using new alpha\n",
        "y_pred = my_fit_rr.predict(X_test)\n",
        "rmse = get_rmse(y_test, y_pred)\n",
        "print(f\"RMSE: {rmse}\")\n",
        "rmspe = get_rmspe(y_test, y_pred)\n",
        "print(f\"RMSPE: {rmspe}\")"
      ],
      "execution_count": 115,
      "outputs": [
        {
          "output_type": "stream",
          "text": [
            "RMSE: 24364.802029561768\n",
            "RMSPE: 0.19222153641415482\n"
          ],
          "name": "stdout"
        }
      ]
    },
    {
      "cell_type": "code",
      "metadata": {
        "colab": {
          "base_uri": "https://localhost:8080/",
          "height": 312
        },
        "id": "NZ2mtWrQK-3X",
        "outputId": "63d6d755-ee3f-40d4-c6bd-e971f27b5724"
      },
      "source": [
        "# Visualize results using final model\n",
        "plt.scatter(y_test, y_pred)\n",
        "plt.plot([min(y_pred), max(y_pred)],[min(y_pred), max(y_pred)], c='red')\n",
        "plt.xlabel('Actual Sale Price')\n",
        "plt.ylabel('Predicted Sale Price')\n",
        "plt.title('After Alpha Ridge Regression')"
      ],
      "execution_count": 116,
      "outputs": [
        {
          "output_type": "execute_result",
          "data": {
            "text/plain": [
              "Text(0.5, 1.0, 'After Alpha Ridge Regression')"
            ]
          },
          "metadata": {},
          "execution_count": 116
        },
        {
          "output_type": "display_data",
          "data": {
            "image/png": "[encoded data removed]",
            "text/plain": [
              "<Figure size 432x288 with 1 Axes>"
            ]
          },
          "metadata": {
            "needs_background": "light"
          }
        }
      ]
    },
    {
      "cell_type": "code",
      "metadata": {
        "colab": {
          "base_uri": "https://localhost:8080/",
          "height": 279
        },
        "id": "5ImBXPfNJBN7",
        "outputId": "13215dff-2553-4d5b-9bbf-2daec9093671"
      },
      "source": [
        "# QQ Plot - Residuals of Linear Model Above \n",
        "res = y_test - y_pred\n",
        "sm.qqplot(res, fit=True, line=\"45\")\n",
        "plt.show()"
      ],
      "execution_count": 117,
      "outputs": [
        {
          "output_type": "display_data",
          "data": {
            "image/png": "[encoded data removed]",
            "text/plain": [
              "<Figure size 432x288 with 1 Axes>"
            ]
          },
          "metadata": {
            "needs_background": "light"
          }
        }
      ]
    },
    {
      "cell_type": "code",
      "metadata": {
        "id": "5ntA1RV_RtOo"
      },
      "source": [
        "# Add ridge regression results to data frame we created earlier\n",
        "model_results['Ridge'] = my_fit_rr.coef_"
      ],
      "execution_count": 118,
      "outputs": []
    },
    {
      "cell_type": "markdown",
      "metadata": {
        "id": "eHk45TlSSDGD"
      },
      "source": [
        "### Lasso Regression"
      ]
    },
    {
      "cell_type": "markdown",
      "metadata": {
        "id": "6S-M888z5s_X"
      },
      "source": [
        "#### RMSPE for Lasso Regression"
      ]
    },
    {
      "cell_type": "code",
      "metadata": {
        "colab": {
          "base_uri": "https://localhost:8080/"
        },
        "id": "vOV6B8_C5Pmz",
        "outputId": "a921b1c0-1012-4387-fac3-d7553a4b9b9e"
      },
      "source": [
        "my_fit_lasso = Lasso(alpha = 1, normalize = True, tol = .1, max_iter=1000000)\n",
        "my_fit_lasso.fit(X_train, y_train)\n",
        "\n",
        "y_pred = my_fit_lasso.predict(X_test)\n",
        "rmse = get_rmse(y_test, y_pred)\n",
        "print(f\"RMSE: {rmse}\")\n",
        "rmspe = get_rmspe(y_test, y_pred)\n",
        "print(f\"RMSPE: {rmspe}\")"
      ],
      "execution_count": 119,
      "outputs": [
        {
          "output_type": "stream",
          "text": [
            "RMSE: 25128.34647246271\n",
            "RMSPE: 0.20242592077958355\n"
          ],
          "name": "stdout"
        }
      ]
    },
    {
      "cell_type": "code",
      "metadata": {
        "colab": {
          "base_uri": "https://localhost:8080/",
          "height": 312
        },
        "id": "TmbjLVDJ7Yzw",
        "outputId": "cf9cf5d9-3733-4c5a-bec1-f4af24609ef3"
      },
      "source": [
        "# Visualize results\n",
        "plt.scatter(y_test, y_pred)\n",
        "plt.plot([min(y_pred), max(y_pred)],[min(y_pred), max(y_pred)], c='red')\n",
        "plt.xlabel('Actual Sale Price')\n",
        "plt.ylabel('Predicted Sale Price')\n",
        "plt.title('Before Alpha - Lasso Regression')"
      ],
      "execution_count": 120,
      "outputs": [
        {
          "output_type": "execute_result",
          "data": {
            "text/plain": [
              "Text(0.5, 1.0, 'Before Alpha - Lasso Regression')"
            ]
          },
          "metadata": {},
          "execution_count": 120
        },
        {
          "output_type": "display_data",
          "data": {
            "image/png": "[encoded data removed]",
            "text/plain": [
              "<Figure size 432x288 with 1 Axes>"
            ]
          },
          "metadata": {
            "needs_background": "light"
          }
        }
      ]
    },
    {
      "cell_type": "code",
      "metadata": {
        "colab": {
          "base_uri": "https://localhost:8080/",
          "height": 279
        },
        "id": "_CNitit0JPaC",
        "outputId": "50320596-8677-464d-df7f-31b5c76ba0d2"
      },
      "source": [
        "# QQ Plot - Residuals of Linear Model Above \n",
        "res = y_test - y_pred\n",
        "sm.qqplot(res, fit=True, line=\"45\")\n",
        "plt.show()"
      ],
      "execution_count": 121,
      "outputs": [
        {
          "output_type": "display_data",
          "data": {
            "image/png": "[encoded data removed]",
            "text/plain": [
              "<Figure size 432x288 with 1 Axes>"
            ]
          },
          "metadata": {
            "needs_background": "light"
          }
        }
      ]
    },
    {
      "cell_type": "code",
      "metadata": {
        "id": "8YaRwrhBSIfH"
      },
      "source": [
        "# Specify values of alpha we want to try \n",
        "alph = [1e-15, 1e-10, 1e-8, 1e-4, 1e-3, 1e-2, 1e-1, 1, 2, 3, 4, 5, 10, 20, 30, 50]\n",
        "\n",
        "# Create empty list to hold results\n",
        "results_alpha = []\n",
        "\n",
        "for i in alph: \n",
        "  # Train the model\n",
        "  # Note had to increase tolerance from .01 to .1\n",
        "  my_fit_lasso = Lasso(alpha = i, normalize = True, tol = .1, max_iter=1000000) # Looping through alpha\n",
        "  my_fit_lasso.fit(X_train, y_train)\n",
        "  \n",
        "  # Calculate CV RMSE\n",
        "  results = cross_val_score(my_fit_lasso, X, y, scoring='neg_mean_squared_error', cv = 10)\n",
        "  mse = results.mean()\n",
        "  rmse = np.sqrt(abs(mse))\n",
        "  results_alpha.append(rmse)\n",
        "\n",
        "results_df = pd.DataFrame({'Alpha': alph, 'RMSE': results_alpha})\n",
        "# print(results_df)\n",
        "a_val = results_df[results_df['RMSE'] == results_df['RMSE'].min()]['Alpha'].values[0]"
      ],
      "execution_count": 122,
      "outputs": []
    },
    {
      "cell_type": "code",
      "metadata": {
        "colab": {
          "base_uri": "https://localhost:8080/"
        },
        "id": "kFMc45ocSgMT",
        "outputId": "716980d4-e8de-46ee-e63d-324e65be9a23"
      },
      "source": [
        "# re-train the model with best alpha\n",
        "my_fit_lasso = Lasso(alpha = a_val, normalize = True, tol = .1, max_iter=1000000) \n",
        "my_fit_lasso.fit(X_train, y_train)\n",
        "\n",
        "# Calculate CV RMSE\n",
        "results = cross_val_score(my_fit_lasso, X, y, scoring='neg_mean_squared_error', cv = 10)\n",
        "mse = results.mean()\n",
        "rmse = np.sqrt(abs(mse))\n",
        "print(f\"CV RMSE: {rmse}\")"
      ],
      "execution_count": 123,
      "outputs": [
        {
          "output_type": "stream",
          "text": [
            "CV RMSE: 27637.96808531456\n"
          ],
          "name": "stdout"
        }
      ]
    },
    {
      "cell_type": "code",
      "metadata": {
        "colab": {
          "base_uri": "https://localhost:8080/"
        },
        "id": "g-gf0oAfMa_K",
        "outputId": "03866d4a-50ff-4597-dca2-65e1bf82bb94"
      },
      "source": [
        "y_pred = my_fit_lasso.predict(X_test)\n",
        "rmse = get_rmse(y_test, y_pred)\n",
        "print(f\"RMSE: {rmse}\")\n",
        "rmspe = get_rmspe(y_test, y_pred)\n",
        "print(f\"RMSPE: {rmspe}\")"
      ],
      "execution_count": 124,
      "outputs": [
        {
          "output_type": "stream",
          "text": [
            "RMSE: 24906.85501686416\n",
            "RMSPE: 0.19863110067055526\n"
          ],
          "name": "stdout"
        }
      ]
    },
    {
      "cell_type": "code",
      "metadata": {
        "colab": {
          "base_uri": "https://localhost:8080/",
          "height": 312
        },
        "id": "T_vwJrTkMpVq",
        "outputId": "75053b00-c0ce-4bdc-d0a4-b78a7b80e1e4"
      },
      "source": [
        "# Visualize results\n",
        "plt.scatter(y_test, y_pred)\n",
        "plt.plot([min(y_pred), max(y_pred)],[min(y_pred), max(y_pred)], c='red')\n",
        "plt.xlabel('Actual Sale Price')\n",
        "plt.ylabel('Predicted Sale Price')\n",
        "plt.title('After Alpha - Lasso Regression')"
      ],
      "execution_count": 125,
      "outputs": [
        {
          "output_type": "execute_result",
          "data": {
            "text/plain": [
              "Text(0.5, 1.0, 'After Alpha - Lasso Regression')"
            ]
          },
          "metadata": {},
          "execution_count": 125
        },
        {
          "output_type": "display_data",
          "data": {
            "image/png": "[encoded data removed]",
            "text/plain": [
              "<Figure size 432x288 with 1 Axes>"
            ]
          },
          "metadata": {
            "needs_background": "light"
          }
        }
      ]
    },
    {
      "cell_type": "code",
      "metadata": {
        "colab": {
          "base_uri": "https://localhost:8080/",
          "height": 279
        },
        "id": "AeksjAYvJURe",
        "outputId": "506bd582-3584-40e0-822b-5ed0d15fe620"
      },
      "source": [
        "# QQ Plot - Residuals of Linear Model Above \n",
        "res = y_test - y_pred\n",
        "sm.qqplot(res, fit=True, line=\"45\")\n",
        "plt.show()"
      ],
      "execution_count": 126,
      "outputs": [
        {
          "output_type": "display_data",
          "data": {
            "image/png": "[encoded data removed]",
            "text/plain": [
              "<Figure size 432x288 with 1 Axes>"
            ]
          },
          "metadata": {
            "needs_background": "light"
          }
        }
      ]
    },
    {
      "cell_type": "code",
      "metadata": {
        "colab": {
          "base_uri": "https://localhost:8080/",
          "height": 881
        },
        "id": "UEBJX_W1SP-g",
        "outputId": "95db3cde-cf8e-45c9-da59-1bfd0d030167"
      },
      "source": [
        "# Add Lasso results to the data frame we created before\n",
        "model_results['Lasso'] = my_fit_lasso.coef_\n",
        "model_results"
      ],
      "execution_count": 127,
      "outputs": [
        {
          "output_type": "execute_result",
          "data": {
            "text/html": [
              "<div>\n",
              "<style scoped>\n",
              "    .dataframe tbody tr th:only-of-type {\n",
              "        vertical-align: middle;\n",
              "    }\n",
              "\n",
              "    .dataframe tbody tr th {\n",
              "        vertical-align: top;\n",
              "    }\n",
              "\n",
              "    .dataframe thead th {\n",
              "        text-align: right;\n",
              "    }\n",
              "</style>\n",
              "<table border=\"1\" class=\"dataframe\">\n",
              "  <thead>\n",
              "    <tr style=\"text-align: right;\">\n",
              "      <th></th>\n",
              "      <th>Predictor</th>\n",
              "      <th>Linear</th>\n",
              "      <th>Ridge</th>\n",
              "      <th>Lasso</th>\n",
              "    </tr>\n",
              "  </thead>\n",
              "  <tbody>\n",
              "    <tr>\n",
              "      <th>0</th>\n",
              "      <td>Lot Area</td>\n",
              "      <td>0.648814</td>\n",
              "      <td>0.642298</td>\n",
              "      <td>0.497060</td>\n",
              "    </tr>\n",
              "    <tr>\n",
              "      <th>1</th>\n",
              "      <td>Overall Qual</td>\n",
              "      <td>14564.474986</td>\n",
              "      <td>14334.596786</td>\n",
              "      <td>12210.464164</td>\n",
              "    </tr>\n",
              "    <tr>\n",
              "      <th>2</th>\n",
              "      <td>Year Built</td>\n",
              "      <td>136.295619</td>\n",
              "      <td>129.910036</td>\n",
              "      <td>171.953414</td>\n",
              "    </tr>\n",
              "    <tr>\n",
              "      <th>3</th>\n",
              "      <td>Year Remod/Add</td>\n",
              "      <td>193.353991</td>\n",
              "      <td>194.765474</td>\n",
              "      <td>293.248408</td>\n",
              "    </tr>\n",
              "    <tr>\n",
              "      <th>4</th>\n",
              "      <td>Mas Vnr Area</td>\n",
              "      <td>26.662656</td>\n",
              "      <td>27.177399</td>\n",
              "      <td>26.591403</td>\n",
              "    </tr>\n",
              "    <tr>\n",
              "      <th>5</th>\n",
              "      <td>BsmtFin SF 1</td>\n",
              "      <td>21.519491</td>\n",
              "      <td>21.322552</td>\n",
              "      <td>21.897210</td>\n",
              "    </tr>\n",
              "    <tr>\n",
              "      <th>6</th>\n",
              "      <td>Total Bsmt SF</td>\n",
              "      <td>22.819627</td>\n",
              "      <td>22.945429</td>\n",
              "      <td>27.593712</td>\n",
              "    </tr>\n",
              "    <tr>\n",
              "      <th>7</th>\n",
              "      <td>1st Flr SF</td>\n",
              "      <td>36.497387</td>\n",
              "      <td>28.552843</td>\n",
              "      <td>49.211779</td>\n",
              "    </tr>\n",
              "    <tr>\n",
              "      <th>8</th>\n",
              "      <td>2nd Flr SF</td>\n",
              "      <td>33.303409</td>\n",
              "      <td>25.167813</td>\n",
              "      <td>44.037489</td>\n",
              "    </tr>\n",
              "    <tr>\n",
              "      <th>9</th>\n",
              "      <td>Gr Liv Area</td>\n",
              "      <td>23.336722</td>\n",
              "      <td>29.679088</td>\n",
              "      <td>14.288639</td>\n",
              "    </tr>\n",
              "    <tr>\n",
              "      <th>10</th>\n",
              "      <td>Bsmt Full Bath</td>\n",
              "      <td>1792.699310</td>\n",
              "      <td>1974.554761</td>\n",
              "      <td>1751.213105</td>\n",
              "    </tr>\n",
              "    <tr>\n",
              "      <th>11</th>\n",
              "      <td>Full Bath</td>\n",
              "      <td>-8611.190127</td>\n",
              "      <td>-7838.691702</td>\n",
              "      <td>-5427.526318</td>\n",
              "    </tr>\n",
              "    <tr>\n",
              "      <th>12</th>\n",
              "      <td>Half Bath</td>\n",
              "      <td>-556.299416</td>\n",
              "      <td>-40.462328</td>\n",
              "      <td>270.740738</td>\n",
              "    </tr>\n",
              "    <tr>\n",
              "      <th>13</th>\n",
              "      <td>TotRms AbvGrd</td>\n",
              "      <td>-746.653822</td>\n",
              "      <td>-524.614630</td>\n",
              "      <td>-456.483863</td>\n",
              "    </tr>\n",
              "    <tr>\n",
              "      <th>14</th>\n",
              "      <td>Fireplaces</td>\n",
              "      <td>3476.268999</td>\n",
              "      <td>3670.817562</td>\n",
              "      <td>4353.423615</td>\n",
              "    </tr>\n",
              "    <tr>\n",
              "      <th>15</th>\n",
              "      <td>Garage Cars</td>\n",
              "      <td>8528.821919</td>\n",
              "      <td>8565.208685</td>\n",
              "      <td>8622.182343</td>\n",
              "    </tr>\n",
              "    <tr>\n",
              "      <th>16</th>\n",
              "      <td>Wood Deck SF</td>\n",
              "      <td>13.511554</td>\n",
              "      <td>13.750814</td>\n",
              "      <td>13.223333</td>\n",
              "    </tr>\n",
              "    <tr>\n",
              "      <th>17</th>\n",
              "      <td>Open Porch SF</td>\n",
              "      <td>10.376060</td>\n",
              "      <td>11.309325</td>\n",
              "      <td>3.289766</td>\n",
              "    </tr>\n",
              "    <tr>\n",
              "      <th>18</th>\n",
              "      <td>Lot Shape Lb</td>\n",
              "      <td>-597.884373</td>\n",
              "      <td>-615.296897</td>\n",
              "      <td>-684.412439</td>\n",
              "    </tr>\n",
              "    <tr>\n",
              "      <th>19</th>\n",
              "      <td>Roof Style Lb</td>\n",
              "      <td>2648.313923</td>\n",
              "      <td>2710.022800</td>\n",
              "      <td>2499.404591</td>\n",
              "    </tr>\n",
              "    <tr>\n",
              "      <th>20</th>\n",
              "      <td>Foundation Lb</td>\n",
              "      <td>3127.386061</td>\n",
              "      <td>3204.001081</td>\n",
              "      <td>2883.486518</td>\n",
              "    </tr>\n",
              "    <tr>\n",
              "      <th>21</th>\n",
              "      <td>Bsmt Exposure Lb</td>\n",
              "      <td>-1686.449239</td>\n",
              "      <td>-1721.006848</td>\n",
              "      <td>-1677.925439</td>\n",
              "    </tr>\n",
              "    <tr>\n",
              "      <th>22</th>\n",
              "      <td>Heating QC Lb</td>\n",
              "      <td>-1249.870839</td>\n",
              "      <td>-1278.202605</td>\n",
              "      <td>-1155.661515</td>\n",
              "    </tr>\n",
              "    <tr>\n",
              "      <th>23</th>\n",
              "      <td>Central Air Lb</td>\n",
              "      <td>5994.735821</td>\n",
              "      <td>6129.582286</td>\n",
              "      <td>2515.399723</td>\n",
              "    </tr>\n",
              "    <tr>\n",
              "      <th>24</th>\n",
              "      <td>Kitchen Qual Lb</td>\n",
              "      <td>-14180.850061</td>\n",
              "      <td>-14159.727790</td>\n",
              "      <td>-12777.239440</td>\n",
              "    </tr>\n",
              "    <tr>\n",
              "      <th>25</th>\n",
              "      <td>Garage Type Lb</td>\n",
              "      <td>1179.309562</td>\n",
              "      <td>1108.045933</td>\n",
              "      <td>1265.431430</td>\n",
              "    </tr>\n",
              "    <tr>\n",
              "      <th>26</th>\n",
              "      <td>Garage Finish Lb</td>\n",
              "      <td>-1431.238187</td>\n",
              "      <td>-1435.852820</td>\n",
              "      <td>-160.940536</td>\n",
              "    </tr>\n",
              "  </tbody>\n",
              "</table>\n",
              "</div>"
            ],
            "text/plain": [
              "           Predictor        Linear         Ridge         Lasso\n",
              "0           Lot Area      0.648814      0.642298      0.497060\n",
              "1       Overall Qual  14564.474986  14334.596786  12210.464164\n",
              "2         Year Built    136.295619    129.910036    171.953414\n",
              "3     Year Remod/Add    193.353991    194.765474    293.248408\n",
              "4       Mas Vnr Area     26.662656     27.177399     26.591403\n",
              "5       BsmtFin SF 1     21.519491     21.322552     21.897210\n",
              "6      Total Bsmt SF     22.819627     22.945429     27.593712\n",
              "7         1st Flr SF     36.497387     28.552843     49.211779\n",
              "8         2nd Flr SF     33.303409     25.167813     44.037489\n",
              "9        Gr Liv Area     23.336722     29.679088     14.288639\n",
              "10    Bsmt Full Bath   1792.699310   1974.554761   1751.213105\n",
              "11         Full Bath  -8611.190127  -7838.691702  -5427.526318\n",
              "12         Half Bath   -556.299416    -40.462328    270.740738\n",
              "13     TotRms AbvGrd   -746.653822   -524.614630   -456.483863\n",
              "14        Fireplaces   3476.268999   3670.817562   4353.423615\n",
              "15       Garage Cars   8528.821919   8565.208685   8622.182343\n",
              "16      Wood Deck SF     13.511554     13.750814     13.223333\n",
              "17     Open Porch SF     10.376060     11.309325      3.289766\n",
              "18      Lot Shape Lb   -597.884373   -615.296897   -684.412439\n",
              "19     Roof Style Lb   2648.313923   2710.022800   2499.404591\n",
              "20     Foundation Lb   3127.386061   3204.001081   2883.486518\n",
              "21  Bsmt Exposure Lb  -1686.449239  -1721.006848  -1677.925439\n",
              "22     Heating QC Lb  -1249.870839  -1278.202605  -1155.661515\n",
              "23    Central Air Lb   5994.735821   6129.582286   2515.399723\n",
              "24   Kitchen Qual Lb -14180.850061 -14159.727790 -12777.239440\n",
              "25    Garage Type Lb   1179.309562   1108.045933   1265.431430\n",
              "26  Garage Finish Lb  -1431.238187  -1435.852820   -160.940536"
            ]
          },
          "metadata": {},
          "execution_count": 127
        }
      ]
    },
    {
      "cell_type": "code",
      "metadata": {
        "colab": {
          "base_uri": "https://localhost:8080/",
          "height": 522
        },
        "id": "toa9QyesSW2o",
        "outputId": "02fe1024-c4a0-4e80-cf73-a5031951cbc6"
      },
      "source": [
        "# Plot results\n",
        "fig, ax = plt.subplots(1,1, figsize = (10,7))\n",
        "model_results.plot(x = 'Predictor', kind = 'bar', ax = ax)\n",
        "ax.set_ylabel('Coefficient')\n",
        "plt.grid()"
      ],
      "execution_count": 128,
      "outputs": [
        {
          "output_type": "display_data",
          "data": {
            "image/png": "[encoded data removed]",
            "text/plain": [
              "<Figure size 720x504 with 1 Axes>"
            ]
          },
          "metadata": {
            "needs_background": "light"
          }
        }
      ]
    },
    {
      "cell_type": "markdown",
      "metadata": {
        "id": "ZbSyPyiFUNTf"
      },
      "source": [
        "### Observations\n",
        "\n",
        "The best result was achieved with Lasso Regularization reducing the RMSE from \\$37,223 to \\$37,217. For all models, Overall Qual, Full Bath, and Garage Cars were most important predictors of Sale Price.\n",
        "\n",
        "I added other predictors back in and re-ran the models and discovered that Kitchen Quality had a strong impact on reducing RMSE to \\$33,027 for Ridge and \\$33,922 for Lasso making Ridge the better choice. \n",
        "\n",
        "Finally, I re-introduced any predictors that had > .30 correlation with Sale Price. This further dropped RMSE to \\$31,482 for Ridge and \\$31,618 for Lasso making Ridge a slightly better model for predicting Sale Price and making the most important predictors Overall Quality, Fireplaces, Garage Cars,  Kitchen Quality and Full Bath.\n",
        "\n",
        "**TODO: Note that I expected Living Area to be an important predictor. Will scale the data to handle outliers and re-run models.**"
      ]
    },
    {
      "cell_type": "markdown",
      "metadata": {
        "id": "GF0je9ciOd08"
      },
      "source": [
        "## Box Cox - TODO\n",
        "\n",
        "Transform non-normal dependent variables into a normal shape. An optimal lambda will give you the best approximation of a normal curve.\n",
        "\n",
        "[Example](https://colab.research.google.com/drive/1qjsj9Ka1GSV5g71vV1laWL2qY7E5EjEe)\n",
        "\n"
      ]
    },
    {
      "cell_type": "code",
      "metadata": {
        "id": "Dqz-iB2HpVUp"
      },
      "source": [
        ""
      ],
      "execution_count": 128,
      "outputs": []
    },
    {
      "cell_type": "markdown",
      "metadata": {
        "id": "rdxbp9k_bChz"
      },
      "source": [
        "# Communicate Results\n",
        "\n",
        "Preliminary results indicate that price is affected by the following predictors:\n",
        "\n",
        "1. Overall Qual        0.805016\n",
        "1. Gr Liv Area         0.705482\n",
        "1. Garage Cars         0.646874\n",
        "1. Kitchen Qual Lb     0.629955\n",
        "1. 1st Flr SF          0.618247\n",
        "1. Year Built          0.562777\n",
        "1. Full Bath           0.542386\n",
        "1. Year Remod/Add      0.539932"
      ]
    }
  ]
}