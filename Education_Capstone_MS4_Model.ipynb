{
  "nbformat": 4,
  "nbformat_minor": 0,
  "metadata": {
    "colab": {
      "name": "Education Capstone MS4 Model.ipynb",
      "provenance": [],
      "collapsed_sections": [],
      "toc_visible": true,
      "include_colab_link": true
    },
    "kernelspec": {
      "display_name": "Python 3",
      "name": "python3"
    },
    "language_info": {
      "name": "python"
    }
  },
  "cells": [
    {
      "cell_type": "markdown",
      "metadata": {
        "id": "view-in-github",
        "colab_type": "text"
      },
      "source": [
        "<a href=\"https://colab.research.google.com/github/cfcastillo/DS-6-Notebooks/blob/main/Education_Capstone_MS4_Model.ipynb\" target=\"_parent\"><img src=\"https://colab.research.google.com/assets/colab-badge.svg\" alt=\"Open In Colab\"/></a>"
      ]
    },
    {
      "cell_type": "markdown",
      "metadata": {
        "id": "BO6cDiaVzYbK"
      },
      "source": [
        "# Project Definition\n",
        "\n",
        "The purpose of this project is to identify what factors influence people to choose certain professions or trades. In understanding these factors, we can help colleges like Central New Mexico College (CNM) offer courses that support those professions and better target their marketing to people who are likely to choose those professions.\n",
        "\n",
        "This project will be a supervised categorization problem using tree-based models to identify the factors that will contribute to career choice.\n",
        "\n",
        "**TODO: Start with 2019 and then, if time, see how covid has affected numbers in 2020 and 2021.**\n",
        "\n",
        "**TODO: If time, parse 2018 and prior to compare years**\n",
        "\n"
      ]
    },
    {
      "cell_type": "markdown",
      "metadata": {
        "id": "Kmxlgo4Wnjgd"
      },
      "source": [
        "# Data Identification Process\n",
        "\n",
        "Steps:\n",
        "\n",
        "1. We stated several questions we wanted answered (target). \n",
        "1. After defining our problem, we listed sets of variables that we believed could answer our questions. We then put the variables and targets into a [spreadsheet](https://docs.google.com/spreadsheets/d/1bOhOBHKOae9TDN9n9-xF7ag4QW_Z0c7HXTYLXeMMLHs/edit#gid=0) to define the dataset we would need to run our analysis. \n",
        "1. We then researched data sources such as Bureau of Labor Statistics and the US Census to locate data that supported our research. \n",
        "1. We then mapped the columns in the data sources to the columns in our desired dataset and linked multiple datasets by target code value.\n",
        "\n",
        "*Note: The data identification process is still a work in progress. As we proceed with EDA, we will discover some columns are not needed and others are needed. As we analyzed the data during the data cleaning process, we discovered that earnings are complex, often made up of multiple jobs. Additional analysis will be needed to solidify our predictor when applying the model.*"
      ]
    },
    {
      "cell_type": "markdown",
      "metadata": {
        "id": "0I3qXXVbFUJt"
      },
      "source": [
        "# Data Collection\n",
        "\n",
        "The following data sources were used for this project. Data was imported into Google Drive from the below links and modified as needed to support this project.\n",
        "\n",
        "The primary datasets for this project were initially taken from the Census' [Annual Social and Economic Supplement (ASEC)](https://www.census.gov/programs-surveys/saipe/guidance/model-input-data/cpsasec.html) of the Current Population Survey (CPS) for 2020. However, because 2020 was anomalous due to Covid, we chose to go back and take data from 2019 - pre-covid to get occupation and salary information that was more stable. Per the above link, the \"*ASEC data is the source of timely official national estimates of poverty levels and rates and of widely used measures of income. It provides annual estimates based on a survey of more than 75,000 households. The survey contains detailed questions covering social and economic characteristics of each person who is a household member as of the interview date. Income questions refer to income received during the previous calendar year.*\"\n",
        "\n",
        "[Annual Social and Economic Survey (ASEC) All Years Data](https://www.census.gov/data/datasets/time-series/demo/cps/cps-asec.html)\n",
        "\n",
        "* Contains links to all years from 2010 to 2021. CSV format available from 2019 to 2021. Prior to 2019, a fixed format file is provided so columns would need to be parsed using the available data dictionary.\n",
        "* [2021 Survey - csv](https://www.census.gov/data/datasets/time-series/demo/cps/cps-asec.2021.html)\n",
        "* [2020 Survey - csv](https://www.census.gov/data/datasets/time-series/demo/cps/cps-asec.2020.html)\n",
        "* [2019 Survey - csv](https://www.census.gov/data/datasets/time-series/demo/cps/cps-asec.2019.html)\n",
        "* [2018 Survey - dat](https://www.census.gov/data/datasets/time-series/demo/cps/cps-asec.2018.html) - Need to convert to csv\n",
        "\n",
        "[Quarterly Census of Employment and Wages](https://www.bls.gov/cew/about-data/)\n",
        "\n",
        "* Source data for OES Statistics. Can be used if detailed data is needed.\n",
        "\n",
        "[Occupational Employment Wage Statistics (OES) Data](https://data.bls.gov/oes/#/geoOcc/Multiple%20occupations%20for%20one%20geographical%20area)\n",
        "\n",
        "* Format - Excel converted to CSV\n",
        "* Contains Occupational codes and aggregated statistics on wages for those occupations.\n",
        "\n",
        "[FIPS State Codes](https://www.census.gov/library/reference/code-lists/ansi/ansi-codes-for-states.html)\n",
        "\n",
        "* Format - Copied from PDF and converted to CSV\n",
        "* Contains FIPS State codes mapped to US Postal Service (USPS) State codes.\n",
        "\n",
        "[Census Occupation Codes](https://www2.census.gov/programs-surveys/cps/techdocs/cpsmar20.pdf)\n",
        "\n",
        "* Format - Copied from PDF and converted to CSV\n",
        "* Contains Census Occupation codes mapped to Federal Standard Occupational Classification (SOC) Codes.\n",
        "\n",
        "[Bureau of Labor Statistics SOC Codes](https://www.bls.gov/oes/current/oes_stru.htm#15-0000)\n",
        "\n",
        "* Format - list on website\n",
        "\n",
        "[Potential CNM Enrollment Data](https://www.cnm.edu/depts/finance-operations/ods/institutional-research-request)\n"
      ]
    },
    {
      "cell_type": "markdown",
      "metadata": {
        "id": "aRITM1LRlbBN"
      },
      "source": [
        "## CNM Data Links\n",
        "\n",
        "[KPIs PDF](https://www.cnm.edu/depts/finance-operations/ods/dashboards-kpis/kpiupdate1120.pdf)\n",
        "\n",
        "[CNM Data Dashboard](https://livecnm.sharepoint.com/sites/insights/FO/ODS/CNMdashboards/SitePages/Home.aspx?e=1%3Aa3207ba35cac40c480e6029dc0bfcc2c)\n",
        "\n",
        "[CNM Graduate Outcomes](https://www.cnm.edu/depts/finance-operations/ods/documents/graduate-surveys/2018-2019-graduate-outcomes.pdf)"
      ]
    },
    {
      "cell_type": "markdown",
      "metadata": {
        "id": "6HTbiRgHEybx"
      },
      "source": [
        "## Summarized Data Dictionary\n",
        "\n",
        "[Here is a link to a summarized data dictionary.](https://docs.google.com/document/d/1io7TtqebJLtw6FKE7zkbUh26QkG3rEJrZX3Fver9zmU/edit)\n"
      ]
    },
    {
      "cell_type": "markdown",
      "metadata": {
        "id": "1faCHIjobl8k"
      },
      "source": [
        "# Imports"
      ]
    },
    {
      "cell_type": "code",
      "metadata": {
        "id": "QfQPgzzSer2x",
        "colab": {
          "base_uri": "https://localhost:8080/"
        },
        "outputId": "506941b2-b91a-4868-c388-bfab92b228d0"
      },
      "source": [
        "# grab the imports needed for the project\n",
        "import pandas as pd\n",
        "import glob\n",
        "import matplotlib.pyplot as plt\n",
        "import numpy as np\n",
        "import seaborn as sns\n",
        "import statsmodels.api as sm\n",
        "\n",
        "# all\n",
        "from sklearn import datasets\n",
        "from sklearn import metrics\n",
        "from sklearn import preprocessing\n",
        "from sklearn import datasets, neighbors\n",
        "from sklearn.metrics import classification_report\n",
        "from sklearn.neighbors import NearestNeighbors\n",
        "import sklearn.model_selection as model_selection\n",
        "from collections import Counter\n",
        "from imblearn.under_sampling import RandomUnderSampler\n",
        "from imblearn.over_sampling import RandomOverSampler\n",
        "from mlxtend.plotting import plot_decision_regions\n",
        "\n",
        "# Regression\n",
        "from sklearn.linear_model import LinearRegression\n",
        "from sklearn.tree import DecisionTreeRegressor \n",
        "from sklearn.ensemble import RandomForestClassifier\n",
        "import xgboost as xgb\n",
        "from sklearn.model_selection import GridSearchCV\n",
        "from sklearn.model_selection import train_test_split\n",
        "from sklearn.model_selection import cross_val_score\n",
        "from sklearn.metrics import mean_squared_error\n",
        "from sklearn.metrics import r2_score\n",
        "from sklearn.metrics import accuracy_score\n",
        "from sklearn import metrics  \n",
        "\n",
        "# Visualization\n",
        "import graphviz\n",
        "from IPython.display import display\n",
        "from sklearn import tree"
      ],
      "execution_count": null,
      "outputs": [
        {
          "output_type": "stream",
          "name": "stderr",
          "text": [
            "/usr/local/lib/python3.7/dist-packages/statsmodels/tools/_testing.py:19: FutureWarning: pandas.util.testing is deprecated. Use the functions in the public API at pandas.testing instead.\n",
            "  import pandas.util.testing as tm\n",
            "/usr/local/lib/python3.7/dist-packages/sklearn/externals/six.py:31: FutureWarning: The module is deprecated in version 0.21 and will be removed in version 0.23 since we've dropped support for Python 2.7. Please rely on the official version of six (https://pypi.org/project/six/).\n",
            "  \"(https://pypi.org/project/six/).\", FutureWarning)\n",
            "/usr/local/lib/python3.7/dist-packages/sklearn/utils/deprecation.py:144: FutureWarning: The sklearn.neighbors.base module is  deprecated in version 0.22 and will be removed in version 0.24. The corresponding classes / functions should instead be imported from sklearn.neighbors. Anything that cannot be imported from sklearn.neighbors is now part of the private API.\n",
            "  warnings.warn(message, FutureWarning)\n"
          ]
        }
      ]
    },
    {
      "cell_type": "markdown",
      "metadata": {
        "id": "v6Zkn805hLbk"
      },
      "source": [
        "# Globals\n",
        "The team had different data links. The global here is to allow team members to specify who is working on this notebook so that they can run the code in their environment."
      ]
    },
    {
      "cell_type": "code",
      "metadata": {
        "id": "ErVqm8idhfdd"
      },
      "source": [
        "# Expected values are: ellie, amy, cecilia - lowercase\n",
        "team_member = 'amy'\n",
        "\n",
        "# Root drive path\n",
        "if team_member in ['amy','ellie']:\n",
        "  root_drive = '/content/drive/MyDrive/'\n",
        "else: # Cecilia\n",
        "  root_drive = '/content/drive/MyDrive/Student Folder - Cecilia/Projects/'"
      ],
      "execution_count": null,
      "outputs": []
    },
    {
      "cell_type": "markdown",
      "metadata": {
        "id": "2vb8BJGOadkb"
      },
      "source": [
        "# Data Cleaning\n",
        "\n",
        "Once we identified the data elements needed for our project and the data sources that provided those data elements, the following steps were taken to get the data into a format needed for our analysis.\n",
        "\n",
        "1. Downloaded data from data sources and placed copies in Google Drive.\n",
        "1. Made changes to raw data where needed to support the project. \n",
        "  * Added State code to OES data and remove headers and footers from the data.\n",
        "  * Created lookup data for State codes and SOC codes so secondary data sources could be merged with primary Census data. This involved cleaning the census code list so it could be properly parsed.\n",
        "1. Converted codes in secondary datasets into Census codes.\n",
        "1. Merged all datasets together into a single dataset.\n",
        "1. Removed data that did not meet criteria for our analysis\n",
        "  * Removed anyone under age 16.\n",
        "  * Imputed null values.\n",
        "1. Studied earnings/salary columns to determine which columns provided values that could be used for modeling. Added in columns that were missing from the initial analysis.\n",
        "1. We were not able to reliably match the OES data to the census data using the full SOC Code because of disparities in SOC Codes. Therefore, we executed 3 matching passes reducing the SOC code by one character each time and pulling the largest Census code for the SOC code prefix. This allowed us to match XX % of the data.\n",
        "\n",
        "TODO: REFINE AS PROJECT PROGRESSES."
      ]
    },
    {
      "cell_type": "markdown",
      "metadata": {
        "id": "rPuX27WyMnJ_"
      },
      "source": [
        "## Import Data"
      ]
    },
    {
      "cell_type": "code",
      "metadata": {
        "colab": {
          "base_uri": "https://localhost:8080/"
        },
        "id": "zN5qu2I-HlKA",
        "outputId": "8ffe19db-2d08-487d-ac20-b7ad7bdc4301"
      },
      "source": [
        "from google.colab import drive\n",
        "drive.mount('/content/drive')"
      ],
      "execution_count": null,
      "outputs": [
        {
          "output_type": "stream",
          "name": "stdout",
          "text": [
            "Drive already mounted at /content/drive; to attempt to forcibly remount, call drive.mount(\"/content/drive\", force_remount=True).\n"
          ]
        }
      ]
    },
    {
      "cell_type": "code",
      "metadata": {
        "id": "7cPrmvySZmj5"
      },
      "source": [
        "# Import Census data\n",
        "asec_year = '19'\n",
        "asec_path = root_drive + 'Capstone/Data/ASEC/asecpub' + asec_year + 'csv/'\n",
        "asec_data_person = pd.read_csv(asec_path + 'pppub' + asec_year + '.csv')\n",
        "asec_data_household = pd.read_csv(asec_path + 'hhpub' + asec_year + '.csv')\n",
        "asec_data_family = pd.read_csv(asec_path + 'ffpub' + asec_year + '.csv')"
      ],
      "execution_count": null,
      "outputs": []
    },
    {
      "cell_type": "code",
      "metadata": {
        "colab": {
          "base_uri": "https://localhost:8080/"
        },
        "id": "8E6_TE9j9UUT",
        "outputId": "b02da0d8-a9f1-49d5-c614-28a9be646cdc"
      },
      "source": [
        "# How many columns and rows do we have in each dataset?\n",
        "print(f'Person data: {asec_data_person.shape}')\n",
        "print(f'Household data: {asec_data_household.shape}')\n",
        "print(f'Family data: {asec_data_family.shape}')"
      ],
      "execution_count": null,
      "outputs": [
        {
          "output_type": "stream",
          "name": "stdout",
          "text": [
            "Person data: (180101, 799)\n",
            "Household data: (94633, 135)\n",
            "Family data: (79611, 87)\n"
          ]
        }
      ]
    },
    {
      "cell_type": "markdown",
      "metadata": {
        "id": "qsyP7bCKMtEQ"
      },
      "source": [
        "## ASEC Data"
      ]
    },
    {
      "cell_type": "markdown",
      "metadata": {
        "id": "nOawUJ1nQ8J9"
      },
      "source": [
        "### Define ASEC Columns\n",
        "\n",
        "The following data dictionary provides details for the selected columns.\n",
        "\n",
        "[ASEC Appendices](https://www2.census.gov/programs-surveys/cps/techdocs/cpsmar19.pdf)\n",
        "\n",
        "[ASEC Data Dictionary](https://www2.census.gov/programs-surveys/cps/datasets/2019/march/06_ASEC_2019-Data_Dictionary_Full.pdf)\n"
      ]
    },
    {
      "cell_type": "code",
      "metadata": {
        "id": "WDc8BIA8XttY"
      },
      "source": [
        "# Get lists of columns for various datasets that will be used for the project\n",
        "# Note: Columns can be added as needed here and will propagate through the project.\n",
        "hid_col = ['H_IDNUM']\n",
        "hseq_col = ['H_SEQ']\n",
        "fseq_col = ['FH_SEQ']  # Joins to household data through H_SEQ\n",
        "person_cols = ['OCCUP','A_MJOCC','A_DTOCC','AGE1','A_SEX','PRDTRACE','PXRACE1','PRCITSHP',\n",
        "               'A_HGA','PRERELG', 'A_GRSWK', 'HRCHECK','HRSWK','PEARNVAL','A_CLSWKR','WEIND',\n",
        "               'A_MARITL','A_HSCOL','A_WKSTAT','HEA','PEINUSYR']\n",
        "\n",
        "# In 2022 data? - A_MAJACT, PURACEOT, RAC_HISP, UED_TYP\n",
        "\n",
        "household_cols = ['GTMETSTA','GEDIV','GESTFIPS','HHINC','H_TENURE','H_LIVQRT']\n",
        "\n",
        "# In 2022 data? - FEARNS, GEUR\n",
        "\n",
        "family_cols = ['FKINDEX', 'FINC_FR','FINC_SE','FINC_WS','FINC_ANN','FINC_CSP','FINC_DIS','FINC_DIV','FINC_RNT','FINC_DST','FINC_ED','FINC_SS','FINC_SSI',\n",
        "               'FINC_FIN','FINC_SUR','FINC_INT','FINC_UC','FINC_OI','FINC_VET','FINC_PAW','FINC_WC','FINC_PEN']"
      ],
      "execution_count": null,
      "outputs": []
    },
    {
      "cell_type": "markdown",
      "metadata": {
        "id": "FTp3lJSiUXLy"
      },
      "source": [
        "### Get Household Id"
      ]
    },
    {
      "cell_type": "code",
      "metadata": {
        "id": "1mKhyrDr6413"
      },
      "source": [
        "# Extract the Household id number from the person record so we can join the household and person dataframes by this id.\n",
        "asec_data_person[hid_col] = asec_data_person['PERIDNUM'].str[:20]"
      ],
      "execution_count": null,
      "outputs": []
    },
    {
      "cell_type": "code",
      "metadata": {
        "colab": {
          "base_uri": "https://localhost:8080/"
        },
        "id": "VJpYTwqHsZiV",
        "outputId": "94f55aed-ff34-4fa8-fe43-574a311d6600"
      },
      "source": [
        "# View Person Data\n",
        "asec_data_person[hid_col + person_cols].info()"
      ],
      "execution_count": null,
      "outputs": [
        {
          "output_type": "stream",
          "name": "stdout",
          "text": [
            "<class 'pandas.core.frame.DataFrame'>\n",
            "RangeIndex: 180101 entries, 0 to 180100\n",
            "Data columns (total 22 columns):\n",
            " #   Column    Non-Null Count   Dtype \n",
            "---  ------    --------------   ----- \n",
            " 0   H_IDNUM   180101 non-null  object\n",
            " 1   OCCUP     180101 non-null  int64 \n",
            " 2   A_MJOCC   180101 non-null  int64 \n",
            " 3   A_DTOCC   180101 non-null  int64 \n",
            " 4   AGE1      180101 non-null  int64 \n",
            " 5   A_SEX     180101 non-null  int64 \n",
            " 6   PRDTRACE  180101 non-null  int64 \n",
            " 7   PXRACE1   180101 non-null  int64 \n",
            " 8   PRCITSHP  180101 non-null  int64 \n",
            " 9   A_HGA     180101 non-null  int64 \n",
            " 10  PRERELG   180101 non-null  int64 \n",
            " 11  A_GRSWK   180101 non-null  int64 \n",
            " 12  HRCHECK   180101 non-null  int64 \n",
            " 13  HRSWK     180101 non-null  int64 \n",
            " 14  PEARNVAL  180101 non-null  int64 \n",
            " 15  A_CLSWKR  180101 non-null  int64 \n",
            " 16  WEIND     180101 non-null  int64 \n",
            " 17  A_MARITL  180101 non-null  int64 \n",
            " 18  A_HSCOL   180101 non-null  int64 \n",
            " 19  A_WKSTAT  180101 non-null  int64 \n",
            " 20  HEA       180101 non-null  int64 \n",
            " 21  PEINUSYR  180101 non-null  int64 \n",
            "dtypes: int64(21), object(1)\n",
            "memory usage: 30.2+ MB\n"
          ]
        }
      ]
    },
    {
      "cell_type": "code",
      "metadata": {
        "colab": {
          "base_uri": "https://localhost:8080/",
          "height": 223
        },
        "id": "lCGqLO4xR8Me",
        "outputId": "66bd576c-337a-4c64-955e-2eca3eaf76d0"
      },
      "source": [
        "# Look at first 5 records of selected columns of person data.\n",
        "asec_data_person[hid_col + person_cols].head()"
      ],
      "execution_count": null,
      "outputs": [
        {
          "output_type": "execute_result",
          "data": {
            "text/html": [
              "<div>\n",
              "<style scoped>\n",
              "    .dataframe tbody tr th:only-of-type {\n",
              "        vertical-align: middle;\n",
              "    }\n",
              "\n",
              "    .dataframe tbody tr th {\n",
              "        vertical-align: top;\n",
              "    }\n",
              "\n",
              "    .dataframe thead th {\n",
              "        text-align: right;\n",
              "    }\n",
              "</style>\n",
              "<table border=\"1\" class=\"dataframe\">\n",
              "  <thead>\n",
              "    <tr style=\"text-align: right;\">\n",
              "      <th></th>\n",
              "      <th>H_IDNUM</th>\n",
              "      <th>OCCUP</th>\n",
              "      <th>A_MJOCC</th>\n",
              "      <th>A_DTOCC</th>\n",
              "      <th>AGE1</th>\n",
              "      <th>A_SEX</th>\n",
              "      <th>PRDTRACE</th>\n",
              "      <th>PXRACE1</th>\n",
              "      <th>PRCITSHP</th>\n",
              "      <th>A_HGA</th>\n",
              "      <th>PRERELG</th>\n",
              "      <th>A_GRSWK</th>\n",
              "      <th>HRCHECK</th>\n",
              "      <th>HRSWK</th>\n",
              "      <th>PEARNVAL</th>\n",
              "      <th>A_CLSWKR</th>\n",
              "      <th>WEIND</th>\n",
              "      <th>A_MARITL</th>\n",
              "      <th>A_HSCOL</th>\n",
              "      <th>A_WKSTAT</th>\n",
              "      <th>HEA</th>\n",
              "      <th>PEINUSYR</th>\n",
              "    </tr>\n",
              "  </thead>\n",
              "  <tbody>\n",
              "    <tr>\n",
              "      <th>0</th>\n",
              "      <td>01000691245394308011</td>\n",
              "      <td>4050</td>\n",
              "      <td>3</td>\n",
              "      <td>13</td>\n",
              "      <td>4</td>\n",
              "      <td>1</td>\n",
              "      <td>1</td>\n",
              "      <td>0</td>\n",
              "      <td>1</td>\n",
              "      <td>37</td>\n",
              "      <td>0</td>\n",
              "      <td>0</td>\n",
              "      <td>1</td>\n",
              "      <td>30</td>\n",
              "      <td>18000</td>\n",
              "      <td>1</td>\n",
              "      <td>18</td>\n",
              "      <td>7</td>\n",
              "      <td>0</td>\n",
              "      <td>4</td>\n",
              "      <td>3</td>\n",
              "      <td>0</td>\n",
              "    </tr>\n",
              "    <tr>\n",
              "      <th>1</th>\n",
              "      <td>39994039016100209011</td>\n",
              "      <td>0</td>\n",
              "      <td>0</td>\n",
              "      <td>0</td>\n",
              "      <td>17</td>\n",
              "      <td>2</td>\n",
              "      <td>1</td>\n",
              "      <td>0</td>\n",
              "      <td>1</td>\n",
              "      <td>39</td>\n",
              "      <td>0</td>\n",
              "      <td>0</td>\n",
              "      <td>0</td>\n",
              "      <td>0</td>\n",
              "      <td>0</td>\n",
              "      <td>0</td>\n",
              "      <td>23</td>\n",
              "      <td>4</td>\n",
              "      <td>0</td>\n",
              "      <td>1</td>\n",
              "      <td>3</td>\n",
              "      <td>0</td>\n",
              "    </tr>\n",
              "    <tr>\n",
              "      <th>2</th>\n",
              "      <td>91193400932060909011</td>\n",
              "      <td>4020</td>\n",
              "      <td>3</td>\n",
              "      <td>13</td>\n",
              "      <td>13</td>\n",
              "      <td>2</td>\n",
              "      <td>1</td>\n",
              "      <td>0</td>\n",
              "      <td>1</td>\n",
              "      <td>39</td>\n",
              "      <td>0</td>\n",
              "      <td>0</td>\n",
              "      <td>2</td>\n",
              "      <td>44</td>\n",
              "      <td>12000</td>\n",
              "      <td>1</td>\n",
              "      <td>18</td>\n",
              "      <td>7</td>\n",
              "      <td>0</td>\n",
              "      <td>2</td>\n",
              "      <td>3</td>\n",
              "      <td>0</td>\n",
              "    </tr>\n",
              "    <tr>\n",
              "      <th>3</th>\n",
              "      <td>14103203009699909011</td>\n",
              "      <td>0</td>\n",
              "      <td>0</td>\n",
              "      <td>0</td>\n",
              "      <td>16</td>\n",
              "      <td>2</td>\n",
              "      <td>1</td>\n",
              "      <td>0</td>\n",
              "      <td>1</td>\n",
              "      <td>39</td>\n",
              "      <td>0</td>\n",
              "      <td>0</td>\n",
              "      <td>0</td>\n",
              "      <td>0</td>\n",
              "      <td>0</td>\n",
              "      <td>0</td>\n",
              "      <td>23</td>\n",
              "      <td>5</td>\n",
              "      <td>0</td>\n",
              "      <td>1</td>\n",
              "      <td>5</td>\n",
              "      <td>0</td>\n",
              "    </tr>\n",
              "    <tr>\n",
              "      <th>4</th>\n",
              "      <td>14103203009699909011</td>\n",
              "      <td>4610</td>\n",
              "      <td>3</td>\n",
              "      <td>15</td>\n",
              "      <td>8</td>\n",
              "      <td>1</td>\n",
              "      <td>1</td>\n",
              "      <td>0</td>\n",
              "      <td>1</td>\n",
              "      <td>39</td>\n",
              "      <td>0</td>\n",
              "      <td>0</td>\n",
              "      <td>1</td>\n",
              "      <td>20</td>\n",
              "      <td>12000</td>\n",
              "      <td>1</td>\n",
              "      <td>16</td>\n",
              "      <td>7</td>\n",
              "      <td>0</td>\n",
              "      <td>4</td>\n",
              "      <td>3</td>\n",
              "      <td>0</td>\n",
              "    </tr>\n",
              "  </tbody>\n",
              "</table>\n",
              "</div>"
            ],
            "text/plain": [
              "                H_IDNUM  OCCUP  A_MJOCC  ...  A_WKSTAT  HEA  PEINUSYR\n",
              "0  01000691245394308011   4050        3  ...         4    3         0\n",
              "1  39994039016100209011      0        0  ...         1    3         0\n",
              "2  91193400932060909011   4020        3  ...         2    3         0\n",
              "3  14103203009699909011      0        0  ...         1    5         0\n",
              "4  14103203009699909011   4610        3  ...         4    3         0\n",
              "\n",
              "[5 rows x 22 columns]"
            ]
          },
          "metadata": {},
          "execution_count": 10
        }
      ]
    },
    {
      "cell_type": "code",
      "metadata": {
        "colab": {
          "base_uri": "https://localhost:8080/"
        },
        "id": "xc8qbSUIse8z",
        "outputId": "9ea2831d-b8f8-45e6-fe98-ad62d124a04f"
      },
      "source": [
        "# View Household Data\n",
        "asec_data_household[hid_col + hseq_col + household_cols].info()"
      ],
      "execution_count": null,
      "outputs": [
        {
          "output_type": "stream",
          "name": "stdout",
          "text": [
            "<class 'pandas.core.frame.DataFrame'>\n",
            "RangeIndex: 94633 entries, 0 to 94632\n",
            "Data columns (total 8 columns):\n",
            " #   Column    Non-Null Count  Dtype \n",
            "---  ------    --------------  ----- \n",
            " 0   H_IDNUM   94633 non-null  object\n",
            " 1   H_SEQ     94633 non-null  int64 \n",
            " 2   GTMETSTA  94633 non-null  int64 \n",
            " 3   GEDIV     94633 non-null  int64 \n",
            " 4   GESTFIPS  94633 non-null  int64 \n",
            " 5   HHINC     94633 non-null  int64 \n",
            " 6   H_TENURE  94633 non-null  int64 \n",
            " 7   H_LIVQRT  94633 non-null  int64 \n",
            "dtypes: int64(7), object(1)\n",
            "memory usage: 5.8+ MB\n"
          ]
        }
      ]
    },
    {
      "cell_type": "code",
      "metadata": {
        "colab": {
          "base_uri": "https://localhost:8080/",
          "height": 203
        },
        "id": "f8AO0ZvtR-6w",
        "outputId": "652779d1-efee-4c1b-db71-634faa043a4e"
      },
      "source": [
        "# Look at first 5 records of household data\n",
        "asec_data_household[hid_col + hseq_col + household_cols].head()"
      ],
      "execution_count": null,
      "outputs": [
        {
          "output_type": "execute_result",
          "data": {
            "text/html": [
              "<div>\n",
              "<style scoped>\n",
              "    .dataframe tbody tr th:only-of-type {\n",
              "        vertical-align: middle;\n",
              "    }\n",
              "\n",
              "    .dataframe tbody tr th {\n",
              "        vertical-align: top;\n",
              "    }\n",
              "\n",
              "    .dataframe thead th {\n",
              "        text-align: right;\n",
              "    }\n",
              "</style>\n",
              "<table border=\"1\" class=\"dataframe\">\n",
              "  <thead>\n",
              "    <tr style=\"text-align: right;\">\n",
              "      <th></th>\n",
              "      <th>H_IDNUM</th>\n",
              "      <th>H_SEQ</th>\n",
              "      <th>GTMETSTA</th>\n",
              "      <th>GEDIV</th>\n",
              "      <th>GESTFIPS</th>\n",
              "      <th>HHINC</th>\n",
              "      <th>H_TENURE</th>\n",
              "      <th>H_LIVQRT</th>\n",
              "    </tr>\n",
              "  </thead>\n",
              "  <tbody>\n",
              "    <tr>\n",
              "      <th>0</th>\n",
              "      <td>02031046575209908011</td>\n",
              "      <td>1</td>\n",
              "      <td>2</td>\n",
              "      <td>1</td>\n",
              "      <td>23</td>\n",
              "      <td>0</td>\n",
              "      <td>0</td>\n",
              "      <td>1</td>\n",
              "    </tr>\n",
              "    <tr>\n",
              "      <th>1</th>\n",
              "      <td>11000302225345308011</td>\n",
              "      <td>2</td>\n",
              "      <td>2</td>\n",
              "      <td>1</td>\n",
              "      <td>23</td>\n",
              "      <td>0</td>\n",
              "      <td>0</td>\n",
              "      <td>1</td>\n",
              "    </tr>\n",
              "    <tr>\n",
              "      <th>2</th>\n",
              "      <td>02031054530232108011</td>\n",
              "      <td>3</td>\n",
              "      <td>2</td>\n",
              "      <td>1</td>\n",
              "      <td>23</td>\n",
              "      <td>0</td>\n",
              "      <td>0</td>\n",
              "      <td>1</td>\n",
              "    </tr>\n",
              "    <tr>\n",
              "      <th>3</th>\n",
              "      <td>01000691245394308011</td>\n",
              "      <td>4</td>\n",
              "      <td>2</td>\n",
              "      <td>1</td>\n",
              "      <td>23</td>\n",
              "      <td>8</td>\n",
              "      <td>1</td>\n",
              "      <td>5</td>\n",
              "    </tr>\n",
              "    <tr>\n",
              "      <th>4</th>\n",
              "      <td>14320203005595208011</td>\n",
              "      <td>5</td>\n",
              "      <td>2</td>\n",
              "      <td>1</td>\n",
              "      <td>23</td>\n",
              "      <td>0</td>\n",
              "      <td>0</td>\n",
              "      <td>1</td>\n",
              "    </tr>\n",
              "  </tbody>\n",
              "</table>\n",
              "</div>"
            ],
            "text/plain": [
              "                H_IDNUM  H_SEQ  GTMETSTA  ...  HHINC  H_TENURE  H_LIVQRT\n",
              "0  02031046575209908011      1         2  ...      0         0         1\n",
              "1  11000302225345308011      2         2  ...      0         0         1\n",
              "2  02031054530232108011      3         2  ...      0         0         1\n",
              "3  01000691245394308011      4         2  ...      8         1         5\n",
              "4  14320203005595208011      5         2  ...      0         0         1\n",
              "\n",
              "[5 rows x 8 columns]"
            ]
          },
          "metadata": {},
          "execution_count": 12
        }
      ]
    },
    {
      "cell_type": "code",
      "metadata": {
        "colab": {
          "base_uri": "https://localhost:8080/"
        },
        "id": "2jEdPRiqB_45",
        "outputId": "62ef7323-2642-4ae4-bd2a-a4a75ecb464a"
      },
      "source": [
        "# View family data. Get record count before grouping data.\n",
        "asec_data_family[fseq_col + family_cols].info()"
      ],
      "execution_count": null,
      "outputs": [
        {
          "output_type": "stream",
          "name": "stdout",
          "text": [
            "<class 'pandas.core.frame.DataFrame'>\n",
            "RangeIndex: 79611 entries, 0 to 79610\n",
            "Data columns (total 23 columns):\n",
            " #   Column    Non-Null Count  Dtype\n",
            "---  ------    --------------  -----\n",
            " 0   FH_SEQ    79611 non-null  int64\n",
            " 1   FKINDEX   79611 non-null  int64\n",
            " 2   FINC_FR   79611 non-null  int64\n",
            " 3   FINC_SE   79611 non-null  int64\n",
            " 4   FINC_WS   79611 non-null  int64\n",
            " 5   FINC_ANN  79611 non-null  int64\n",
            " 6   FINC_CSP  79611 non-null  int64\n",
            " 7   FINC_DIS  79611 non-null  int64\n",
            " 8   FINC_DIV  79611 non-null  int64\n",
            " 9   FINC_RNT  79611 non-null  int64\n",
            " 10  FINC_DST  79611 non-null  int64\n",
            " 11  FINC_ED   79611 non-null  int64\n",
            " 12  FINC_SS   79611 non-null  int64\n",
            " 13  FINC_SSI  79611 non-null  int64\n",
            " 14  FINC_FIN  79611 non-null  int64\n",
            " 15  FINC_SUR  79611 non-null  int64\n",
            " 16  FINC_INT  79611 non-null  int64\n",
            " 17  FINC_UC   79611 non-null  int64\n",
            " 18  FINC_OI   79611 non-null  int64\n",
            " 19  FINC_VET  79611 non-null  int64\n",
            " 20  FINC_PAW  79611 non-null  int64\n",
            " 21  FINC_WC   79611 non-null  int64\n",
            " 22  FINC_PEN  79611 non-null  int64\n",
            "dtypes: int64(23)\n",
            "memory usage: 14.0 MB\n"
          ]
        }
      ]
    },
    {
      "cell_type": "code",
      "metadata": {
        "id": "kqACfpI7CMJl"
      },
      "source": [
        "# There may be multiple families per household. We need unique records in order to merge\n",
        "# with the household data.\n",
        "asec_data_family_unique = asec_data_family.drop_duplicates(fseq_col + family_cols)[fseq_col + family_cols]"
      ],
      "execution_count": null,
      "outputs": []
    },
    {
      "cell_type": "code",
      "metadata": {
        "colab": {
          "base_uri": "https://localhost:8080/",
          "height": 437
        },
        "id": "YeyYv4rNClcY",
        "outputId": "de999c3e-7f67-448c-c571-5906e6d0f973"
      },
      "source": [
        "# View family data after grouping. Get record count with all columns. \n",
        "# Compare with record count from sequence number column to ensure we truly have unique rows \n",
        "# and to see if further grouping is needed.\n",
        "asec_data_family_unique"
      ],
      "execution_count": null,
      "outputs": [
        {
          "output_type": "execute_result",
          "data": {
            "text/html": [
              "<div>\n",
              "<style scoped>\n",
              "    .dataframe tbody tr th:only-of-type {\n",
              "        vertical-align: middle;\n",
              "    }\n",
              "\n",
              "    .dataframe tbody tr th {\n",
              "        vertical-align: top;\n",
              "    }\n",
              "\n",
              "    .dataframe thead th {\n",
              "        text-align: right;\n",
              "    }\n",
              "</style>\n",
              "<table border=\"1\" class=\"dataframe\">\n",
              "  <thead>\n",
              "    <tr style=\"text-align: right;\">\n",
              "      <th></th>\n",
              "      <th>FH_SEQ</th>\n",
              "      <th>FKINDEX</th>\n",
              "      <th>FINC_FR</th>\n",
              "      <th>FINC_SE</th>\n",
              "      <th>FINC_WS</th>\n",
              "      <th>FINC_ANN</th>\n",
              "      <th>FINC_CSP</th>\n",
              "      <th>FINC_DIS</th>\n",
              "      <th>FINC_DIV</th>\n",
              "      <th>FINC_RNT</th>\n",
              "      <th>FINC_DST</th>\n",
              "      <th>FINC_ED</th>\n",
              "      <th>FINC_SS</th>\n",
              "      <th>FINC_SSI</th>\n",
              "      <th>FINC_FIN</th>\n",
              "      <th>FINC_SUR</th>\n",
              "      <th>FINC_INT</th>\n",
              "      <th>FINC_UC</th>\n",
              "      <th>FINC_OI</th>\n",
              "      <th>FINC_VET</th>\n",
              "      <th>FINC_PAW</th>\n",
              "      <th>FINC_WC</th>\n",
              "      <th>FINC_PEN</th>\n",
              "    </tr>\n",
              "  </thead>\n",
              "  <tbody>\n",
              "    <tr>\n",
              "      <th>0</th>\n",
              "      <td>4</td>\n",
              "      <td>3</td>\n",
              "      <td>2</td>\n",
              "      <td>2</td>\n",
              "      <td>1</td>\n",
              "      <td>2</td>\n",
              "      <td>2</td>\n",
              "      <td>2</td>\n",
              "      <td>2</td>\n",
              "      <td>2</td>\n",
              "      <td>2</td>\n",
              "      <td>2</td>\n",
              "      <td>2</td>\n",
              "      <td>2</td>\n",
              "      <td>2</td>\n",
              "      <td>2</td>\n",
              "      <td>2</td>\n",
              "      <td>2</td>\n",
              "      <td>2</td>\n",
              "      <td>2</td>\n",
              "      <td>2</td>\n",
              "      <td>2</td>\n",
              "      <td>2</td>\n",
              "    </tr>\n",
              "    <tr>\n",
              "      <th>1</th>\n",
              "      <td>6</td>\n",
              "      <td>4</td>\n",
              "      <td>2</td>\n",
              "      <td>2</td>\n",
              "      <td>2</td>\n",
              "      <td>2</td>\n",
              "      <td>2</td>\n",
              "      <td>2</td>\n",
              "      <td>2</td>\n",
              "      <td>2</td>\n",
              "      <td>2</td>\n",
              "      <td>2</td>\n",
              "      <td>1</td>\n",
              "      <td>2</td>\n",
              "      <td>2</td>\n",
              "      <td>2</td>\n",
              "      <td>2</td>\n",
              "      <td>2</td>\n",
              "      <td>2</td>\n",
              "      <td>2</td>\n",
              "      <td>2</td>\n",
              "      <td>2</td>\n",
              "      <td>1</td>\n",
              "    </tr>\n",
              "    <tr>\n",
              "      <th>2</th>\n",
              "      <td>7</td>\n",
              "      <td>4</td>\n",
              "      <td>2</td>\n",
              "      <td>2</td>\n",
              "      <td>1</td>\n",
              "      <td>2</td>\n",
              "      <td>2</td>\n",
              "      <td>2</td>\n",
              "      <td>2</td>\n",
              "      <td>2</td>\n",
              "      <td>2</td>\n",
              "      <td>2</td>\n",
              "      <td>2</td>\n",
              "      <td>2</td>\n",
              "      <td>2</td>\n",
              "      <td>2</td>\n",
              "      <td>2</td>\n",
              "      <td>2</td>\n",
              "      <td>2</td>\n",
              "      <td>2</td>\n",
              "      <td>2</td>\n",
              "      <td>2</td>\n",
              "      <td>2</td>\n",
              "    </tr>\n",
              "    <tr>\n",
              "      <th>3</th>\n",
              "      <td>8</td>\n",
              "      <td>4</td>\n",
              "      <td>2</td>\n",
              "      <td>2</td>\n",
              "      <td>1</td>\n",
              "      <td>2</td>\n",
              "      <td>2</td>\n",
              "      <td>2</td>\n",
              "      <td>2</td>\n",
              "      <td>2</td>\n",
              "      <td>2</td>\n",
              "      <td>2</td>\n",
              "      <td>1</td>\n",
              "      <td>1</td>\n",
              "      <td>2</td>\n",
              "      <td>2</td>\n",
              "      <td>2</td>\n",
              "      <td>2</td>\n",
              "      <td>2</td>\n",
              "      <td>2</td>\n",
              "      <td>2</td>\n",
              "      <td>2</td>\n",
              "      <td>2</td>\n",
              "    </tr>\n",
              "    <tr>\n",
              "      <th>4</th>\n",
              "      <td>13</td>\n",
              "      <td>4</td>\n",
              "      <td>2</td>\n",
              "      <td>2</td>\n",
              "      <td>2</td>\n",
              "      <td>2</td>\n",
              "      <td>2</td>\n",
              "      <td>2</td>\n",
              "      <td>2</td>\n",
              "      <td>2</td>\n",
              "      <td>2</td>\n",
              "      <td>2</td>\n",
              "      <td>1</td>\n",
              "      <td>2</td>\n",
              "      <td>2</td>\n",
              "      <td>2</td>\n",
              "      <td>1</td>\n",
              "      <td>2</td>\n",
              "      <td>2</td>\n",
              "      <td>2</td>\n",
              "      <td>2</td>\n",
              "      <td>2</td>\n",
              "      <td>2</td>\n",
              "    </tr>\n",
              "    <tr>\n",
              "      <th>...</th>\n",
              "      <td>...</td>\n",
              "      <td>...</td>\n",
              "      <td>...</td>\n",
              "      <td>...</td>\n",
              "      <td>...</td>\n",
              "      <td>...</td>\n",
              "      <td>...</td>\n",
              "      <td>...</td>\n",
              "      <td>...</td>\n",
              "      <td>...</td>\n",
              "      <td>...</td>\n",
              "      <td>...</td>\n",
              "      <td>...</td>\n",
              "      <td>...</td>\n",
              "      <td>...</td>\n",
              "      <td>...</td>\n",
              "      <td>...</td>\n",
              "      <td>...</td>\n",
              "      <td>...</td>\n",
              "      <td>...</td>\n",
              "      <td>...</td>\n",
              "      <td>...</td>\n",
              "      <td>...</td>\n",
              "    </tr>\n",
              "    <tr>\n",
              "      <th>79606</th>\n",
              "      <td>94631</td>\n",
              "      <td>4</td>\n",
              "      <td>2</td>\n",
              "      <td>2</td>\n",
              "      <td>1</td>\n",
              "      <td>2</td>\n",
              "      <td>2</td>\n",
              "      <td>2</td>\n",
              "      <td>2</td>\n",
              "      <td>2</td>\n",
              "      <td>2</td>\n",
              "      <td>2</td>\n",
              "      <td>2</td>\n",
              "      <td>2</td>\n",
              "      <td>2</td>\n",
              "      <td>2</td>\n",
              "      <td>2</td>\n",
              "      <td>2</td>\n",
              "      <td>2</td>\n",
              "      <td>2</td>\n",
              "      <td>2</td>\n",
              "      <td>2</td>\n",
              "      <td>2</td>\n",
              "    </tr>\n",
              "    <tr>\n",
              "      <th>79607</th>\n",
              "      <td>94631</td>\n",
              "      <td>3</td>\n",
              "      <td>2</td>\n",
              "      <td>2</td>\n",
              "      <td>1</td>\n",
              "      <td>2</td>\n",
              "      <td>2</td>\n",
              "      <td>2</td>\n",
              "      <td>2</td>\n",
              "      <td>2</td>\n",
              "      <td>2</td>\n",
              "      <td>2</td>\n",
              "      <td>2</td>\n",
              "      <td>2</td>\n",
              "      <td>2</td>\n",
              "      <td>2</td>\n",
              "      <td>2</td>\n",
              "      <td>2</td>\n",
              "      <td>2</td>\n",
              "      <td>2</td>\n",
              "      <td>2</td>\n",
              "      <td>2</td>\n",
              "      <td>2</td>\n",
              "    </tr>\n",
              "    <tr>\n",
              "      <th>79608</th>\n",
              "      <td>94632</td>\n",
              "      <td>1</td>\n",
              "      <td>2</td>\n",
              "      <td>2</td>\n",
              "      <td>1</td>\n",
              "      <td>2</td>\n",
              "      <td>2</td>\n",
              "      <td>2</td>\n",
              "      <td>2</td>\n",
              "      <td>2</td>\n",
              "      <td>2</td>\n",
              "      <td>2</td>\n",
              "      <td>1</td>\n",
              "      <td>2</td>\n",
              "      <td>2</td>\n",
              "      <td>2</td>\n",
              "      <td>1</td>\n",
              "      <td>1</td>\n",
              "      <td>2</td>\n",
              "      <td>2</td>\n",
              "      <td>2</td>\n",
              "      <td>2</td>\n",
              "      <td>2</td>\n",
              "    </tr>\n",
              "    <tr>\n",
              "      <th>79609</th>\n",
              "      <td>94632</td>\n",
              "      <td>1</td>\n",
              "      <td>2</td>\n",
              "      <td>2</td>\n",
              "      <td>1</td>\n",
              "      <td>2</td>\n",
              "      <td>2</td>\n",
              "      <td>2</td>\n",
              "      <td>2</td>\n",
              "      <td>2</td>\n",
              "      <td>2</td>\n",
              "      <td>2</td>\n",
              "      <td>2</td>\n",
              "      <td>2</td>\n",
              "      <td>2</td>\n",
              "      <td>2</td>\n",
              "      <td>1</td>\n",
              "      <td>1</td>\n",
              "      <td>2</td>\n",
              "      <td>2</td>\n",
              "      <td>2</td>\n",
              "      <td>2</td>\n",
              "      <td>2</td>\n",
              "    </tr>\n",
              "    <tr>\n",
              "      <th>79610</th>\n",
              "      <td>94633</td>\n",
              "      <td>4</td>\n",
              "      <td>2</td>\n",
              "      <td>1</td>\n",
              "      <td>1</td>\n",
              "      <td>2</td>\n",
              "      <td>2</td>\n",
              "      <td>2</td>\n",
              "      <td>2</td>\n",
              "      <td>2</td>\n",
              "      <td>2</td>\n",
              "      <td>2</td>\n",
              "      <td>2</td>\n",
              "      <td>2</td>\n",
              "      <td>2</td>\n",
              "      <td>2</td>\n",
              "      <td>2</td>\n",
              "      <td>2</td>\n",
              "      <td>2</td>\n",
              "      <td>2</td>\n",
              "      <td>2</td>\n",
              "      <td>2</td>\n",
              "      <td>2</td>\n",
              "    </tr>\n",
              "  </tbody>\n",
              "</table>\n",
              "<p>78211 rows × 23 columns</p>\n",
              "</div>"
            ],
            "text/plain": [
              "       FH_SEQ  FKINDEX  FINC_FR  FINC_SE  ...  FINC_VET  FINC_PAW  FINC_WC  FINC_PEN\n",
              "0           4        3        2        2  ...         2         2        2         2\n",
              "1           6        4        2        2  ...         2         2        2         1\n",
              "2           7        4        2        2  ...         2         2        2         2\n",
              "3           8        4        2        2  ...         2         2        2         2\n",
              "4          13        4        2        2  ...         2         2        2         2\n",
              "...       ...      ...      ...      ...  ...       ...       ...      ...       ...\n",
              "79606   94631        4        2        2  ...         2         2        2         2\n",
              "79607   94631        3        2        2  ...         2         2        2         2\n",
              "79608   94632        1        2        2  ...         2         2        2         2\n",
              "79609   94632        1        2        2  ...         2         2        2         2\n",
              "79610   94633        4        2        1  ...         2         2        2         2\n",
              "\n",
              "[78211 rows x 23 columns]"
            ]
          },
          "metadata": {},
          "execution_count": 15
        }
      ]
    },
    {
      "cell_type": "code",
      "metadata": {
        "id": "rDenwjFAHSCe"
      },
      "source": [
        "# Looking at the unique results indicates that we still do not have a single family record per household\n",
        "# because families within the household may have different income sources. Therefore, we will take the \n",
        "# first family record assuming it is the most significant record. If extending this project in future, \n",
        "# a better mechanism for reducing the data would be required.\n",
        "temp_family = asec_data_family[asec_data_family['FFPOS'] == 1]\n",
        "asec_data_family_single = temp_family[fseq_col + family_cols]"
      ],
      "execution_count": null,
      "outputs": []
    },
    {
      "cell_type": "code",
      "metadata": {
        "id": "f-DSl51m8K6a"
      },
      "source": [
        "# TODO CFC: will redo above functionality so that if any family in the household has a 1 for an income source, we port over a 1.\n",
        "# Can do this by picking the min() value for each column and grouping on FH_SEQ"
      ],
      "execution_count": null,
      "outputs": []
    },
    {
      "cell_type": "code",
      "metadata": {
        "colab": {
          "base_uri": "https://localhost:8080/",
          "height": 437
        },
        "id": "Bqp8EZFoJ3fD",
        "outputId": "a6af1cf8-e342-4b60-8c58-2804f282bf9b"
      },
      "source": [
        "# View results\n",
        "asec_data_family_single"
      ],
      "execution_count": null,
      "outputs": [
        {
          "output_type": "execute_result",
          "data": {
            "text/html": [
              "<div>\n",
              "<style scoped>\n",
              "    .dataframe tbody tr th:only-of-type {\n",
              "        vertical-align: middle;\n",
              "    }\n",
              "\n",
              "    .dataframe tbody tr th {\n",
              "        vertical-align: top;\n",
              "    }\n",
              "\n",
              "    .dataframe thead th {\n",
              "        text-align: right;\n",
              "    }\n",
              "</style>\n",
              "<table border=\"1\" class=\"dataframe\">\n",
              "  <thead>\n",
              "    <tr style=\"text-align: right;\">\n",
              "      <th></th>\n",
              "      <th>FH_SEQ</th>\n",
              "      <th>FKINDEX</th>\n",
              "      <th>FINC_FR</th>\n",
              "      <th>FINC_SE</th>\n",
              "      <th>FINC_WS</th>\n",
              "      <th>FINC_ANN</th>\n",
              "      <th>FINC_CSP</th>\n",
              "      <th>FINC_DIS</th>\n",
              "      <th>FINC_DIV</th>\n",
              "      <th>FINC_RNT</th>\n",
              "      <th>FINC_DST</th>\n",
              "      <th>FINC_ED</th>\n",
              "      <th>FINC_SS</th>\n",
              "      <th>FINC_SSI</th>\n",
              "      <th>FINC_FIN</th>\n",
              "      <th>FINC_SUR</th>\n",
              "      <th>FINC_INT</th>\n",
              "      <th>FINC_UC</th>\n",
              "      <th>FINC_OI</th>\n",
              "      <th>FINC_VET</th>\n",
              "      <th>FINC_PAW</th>\n",
              "      <th>FINC_WC</th>\n",
              "      <th>FINC_PEN</th>\n",
              "    </tr>\n",
              "  </thead>\n",
              "  <tbody>\n",
              "    <tr>\n",
              "      <th>0</th>\n",
              "      <td>4</td>\n",
              "      <td>3</td>\n",
              "      <td>2</td>\n",
              "      <td>2</td>\n",
              "      <td>1</td>\n",
              "      <td>2</td>\n",
              "      <td>2</td>\n",
              "      <td>2</td>\n",
              "      <td>2</td>\n",
              "      <td>2</td>\n",
              "      <td>2</td>\n",
              "      <td>2</td>\n",
              "      <td>2</td>\n",
              "      <td>2</td>\n",
              "      <td>2</td>\n",
              "      <td>2</td>\n",
              "      <td>2</td>\n",
              "      <td>2</td>\n",
              "      <td>2</td>\n",
              "      <td>2</td>\n",
              "      <td>2</td>\n",
              "      <td>2</td>\n",
              "      <td>2</td>\n",
              "    </tr>\n",
              "    <tr>\n",
              "      <th>1</th>\n",
              "      <td>6</td>\n",
              "      <td>4</td>\n",
              "      <td>2</td>\n",
              "      <td>2</td>\n",
              "      <td>2</td>\n",
              "      <td>2</td>\n",
              "      <td>2</td>\n",
              "      <td>2</td>\n",
              "      <td>2</td>\n",
              "      <td>2</td>\n",
              "      <td>2</td>\n",
              "      <td>2</td>\n",
              "      <td>1</td>\n",
              "      <td>2</td>\n",
              "      <td>2</td>\n",
              "      <td>2</td>\n",
              "      <td>2</td>\n",
              "      <td>2</td>\n",
              "      <td>2</td>\n",
              "      <td>2</td>\n",
              "      <td>2</td>\n",
              "      <td>2</td>\n",
              "      <td>1</td>\n",
              "    </tr>\n",
              "    <tr>\n",
              "      <th>2</th>\n",
              "      <td>7</td>\n",
              "      <td>4</td>\n",
              "      <td>2</td>\n",
              "      <td>2</td>\n",
              "      <td>1</td>\n",
              "      <td>2</td>\n",
              "      <td>2</td>\n",
              "      <td>2</td>\n",
              "      <td>2</td>\n",
              "      <td>2</td>\n",
              "      <td>2</td>\n",
              "      <td>2</td>\n",
              "      <td>2</td>\n",
              "      <td>2</td>\n",
              "      <td>2</td>\n",
              "      <td>2</td>\n",
              "      <td>2</td>\n",
              "      <td>2</td>\n",
              "      <td>2</td>\n",
              "      <td>2</td>\n",
              "      <td>2</td>\n",
              "      <td>2</td>\n",
              "      <td>2</td>\n",
              "    </tr>\n",
              "    <tr>\n",
              "      <th>3</th>\n",
              "      <td>8</td>\n",
              "      <td>4</td>\n",
              "      <td>2</td>\n",
              "      <td>2</td>\n",
              "      <td>1</td>\n",
              "      <td>2</td>\n",
              "      <td>2</td>\n",
              "      <td>2</td>\n",
              "      <td>2</td>\n",
              "      <td>2</td>\n",
              "      <td>2</td>\n",
              "      <td>2</td>\n",
              "      <td>1</td>\n",
              "      <td>1</td>\n",
              "      <td>2</td>\n",
              "      <td>2</td>\n",
              "      <td>2</td>\n",
              "      <td>2</td>\n",
              "      <td>2</td>\n",
              "      <td>2</td>\n",
              "      <td>2</td>\n",
              "      <td>2</td>\n",
              "      <td>2</td>\n",
              "    </tr>\n",
              "    <tr>\n",
              "      <th>4</th>\n",
              "      <td>13</td>\n",
              "      <td>4</td>\n",
              "      <td>2</td>\n",
              "      <td>2</td>\n",
              "      <td>2</td>\n",
              "      <td>2</td>\n",
              "      <td>2</td>\n",
              "      <td>2</td>\n",
              "      <td>2</td>\n",
              "      <td>2</td>\n",
              "      <td>2</td>\n",
              "      <td>2</td>\n",
              "      <td>1</td>\n",
              "      <td>2</td>\n",
              "      <td>2</td>\n",
              "      <td>2</td>\n",
              "      <td>1</td>\n",
              "      <td>2</td>\n",
              "      <td>2</td>\n",
              "      <td>2</td>\n",
              "      <td>2</td>\n",
              "      <td>2</td>\n",
              "      <td>2</td>\n",
              "    </tr>\n",
              "    <tr>\n",
              "      <th>...</th>\n",
              "      <td>...</td>\n",
              "      <td>...</td>\n",
              "      <td>...</td>\n",
              "      <td>...</td>\n",
              "      <td>...</td>\n",
              "      <td>...</td>\n",
              "      <td>...</td>\n",
              "      <td>...</td>\n",
              "      <td>...</td>\n",
              "      <td>...</td>\n",
              "      <td>...</td>\n",
              "      <td>...</td>\n",
              "      <td>...</td>\n",
              "      <td>...</td>\n",
              "      <td>...</td>\n",
              "      <td>...</td>\n",
              "      <td>...</td>\n",
              "      <td>...</td>\n",
              "      <td>...</td>\n",
              "      <td>...</td>\n",
              "      <td>...</td>\n",
              "      <td>...</td>\n",
              "      <td>...</td>\n",
              "    </tr>\n",
              "    <tr>\n",
              "      <th>79603</th>\n",
              "      <td>94629</td>\n",
              "      <td>3</td>\n",
              "      <td>2</td>\n",
              "      <td>2</td>\n",
              "      <td>1</td>\n",
              "      <td>2</td>\n",
              "      <td>2</td>\n",
              "      <td>2</td>\n",
              "      <td>2</td>\n",
              "      <td>2</td>\n",
              "      <td>2</td>\n",
              "      <td>2</td>\n",
              "      <td>1</td>\n",
              "      <td>2</td>\n",
              "      <td>2</td>\n",
              "      <td>2</td>\n",
              "      <td>1</td>\n",
              "      <td>2</td>\n",
              "      <td>2</td>\n",
              "      <td>2</td>\n",
              "      <td>2</td>\n",
              "      <td>2</td>\n",
              "      <td>2</td>\n",
              "    </tr>\n",
              "    <tr>\n",
              "      <th>79604</th>\n",
              "      <td>94630</td>\n",
              "      <td>4</td>\n",
              "      <td>2</td>\n",
              "      <td>2</td>\n",
              "      <td>1</td>\n",
              "      <td>2</td>\n",
              "      <td>2</td>\n",
              "      <td>2</td>\n",
              "      <td>2</td>\n",
              "      <td>1</td>\n",
              "      <td>2</td>\n",
              "      <td>2</td>\n",
              "      <td>1</td>\n",
              "      <td>2</td>\n",
              "      <td>2</td>\n",
              "      <td>2</td>\n",
              "      <td>1</td>\n",
              "      <td>2</td>\n",
              "      <td>2</td>\n",
              "      <td>2</td>\n",
              "      <td>2</td>\n",
              "      <td>2</td>\n",
              "      <td>2</td>\n",
              "    </tr>\n",
              "    <tr>\n",
              "      <th>79606</th>\n",
              "      <td>94631</td>\n",
              "      <td>4</td>\n",
              "      <td>2</td>\n",
              "      <td>2</td>\n",
              "      <td>1</td>\n",
              "      <td>2</td>\n",
              "      <td>2</td>\n",
              "      <td>2</td>\n",
              "      <td>2</td>\n",
              "      <td>2</td>\n",
              "      <td>2</td>\n",
              "      <td>2</td>\n",
              "      <td>2</td>\n",
              "      <td>2</td>\n",
              "      <td>2</td>\n",
              "      <td>2</td>\n",
              "      <td>2</td>\n",
              "      <td>2</td>\n",
              "      <td>2</td>\n",
              "      <td>2</td>\n",
              "      <td>2</td>\n",
              "      <td>2</td>\n",
              "      <td>2</td>\n",
              "    </tr>\n",
              "    <tr>\n",
              "      <th>79608</th>\n",
              "      <td>94632</td>\n",
              "      <td>1</td>\n",
              "      <td>2</td>\n",
              "      <td>2</td>\n",
              "      <td>1</td>\n",
              "      <td>2</td>\n",
              "      <td>2</td>\n",
              "      <td>2</td>\n",
              "      <td>2</td>\n",
              "      <td>2</td>\n",
              "      <td>2</td>\n",
              "      <td>2</td>\n",
              "      <td>1</td>\n",
              "      <td>2</td>\n",
              "      <td>2</td>\n",
              "      <td>2</td>\n",
              "      <td>1</td>\n",
              "      <td>1</td>\n",
              "      <td>2</td>\n",
              "      <td>2</td>\n",
              "      <td>2</td>\n",
              "      <td>2</td>\n",
              "      <td>2</td>\n",
              "    </tr>\n",
              "    <tr>\n",
              "      <th>79610</th>\n",
              "      <td>94633</td>\n",
              "      <td>4</td>\n",
              "      <td>2</td>\n",
              "      <td>1</td>\n",
              "      <td>1</td>\n",
              "      <td>2</td>\n",
              "      <td>2</td>\n",
              "      <td>2</td>\n",
              "      <td>2</td>\n",
              "      <td>2</td>\n",
              "      <td>2</td>\n",
              "      <td>2</td>\n",
              "      <td>2</td>\n",
              "      <td>2</td>\n",
              "      <td>2</td>\n",
              "      <td>2</td>\n",
              "      <td>2</td>\n",
              "      <td>2</td>\n",
              "      <td>2</td>\n",
              "      <td>2</td>\n",
              "      <td>2</td>\n",
              "      <td>2</td>\n",
              "      <td>2</td>\n",
              "    </tr>\n",
              "  </tbody>\n",
              "</table>\n",
              "<p>68345 rows × 23 columns</p>\n",
              "</div>"
            ],
            "text/plain": [
              "       FH_SEQ  FKINDEX  FINC_FR  FINC_SE  ...  FINC_VET  FINC_PAW  FINC_WC  FINC_PEN\n",
              "0           4        3        2        2  ...         2         2        2         2\n",
              "1           6        4        2        2  ...         2         2        2         1\n",
              "2           7        4        2        2  ...         2         2        2         2\n",
              "3           8        4        2        2  ...         2         2        2         2\n",
              "4          13        4        2        2  ...         2         2        2         2\n",
              "...       ...      ...      ...      ...  ...       ...       ...      ...       ...\n",
              "79603   94629        3        2        2  ...         2         2        2         2\n",
              "79604   94630        4        2        2  ...         2         2        2         2\n",
              "79606   94631        4        2        2  ...         2         2        2         2\n",
              "79608   94632        1        2        2  ...         2         2        2         2\n",
              "79610   94633        4        2        1  ...         2         2        2         2\n",
              "\n",
              "[68345 rows x 23 columns]"
            ]
          },
          "metadata": {},
          "execution_count": 18
        }
      ]
    },
    {
      "cell_type": "markdown",
      "metadata": {
        "id": "lD4Z0dJhUcSF"
      },
      "source": [
        "### Merge ASEC Tables"
      ]
    },
    {
      "cell_type": "code",
      "metadata": {
        "id": "_vwS8IBWIWQ6"
      },
      "source": [
        "# Join Household and Personal records into single dataframe\n",
        "# Inner join - should not have person without household.\n",
        "asec_combined = pd.merge(asec_data_household[hid_col + hseq_col + household_cols], asec_data_person[hid_col + person_cols], on=hid_col)\n",
        "\n",
        "# Join Family to get FINC columns\n",
        "asec_combined = pd.merge(asec_combined, asec_data_family_single[fseq_col + family_cols], left_on=hseq_col, right_on=fseq_col, how='left')"
      ],
      "execution_count": null,
      "outputs": []
    },
    {
      "cell_type": "code",
      "metadata": {
        "colab": {
          "base_uri": "https://localhost:8080/"
        },
        "id": "7vcMHyLB6cW2",
        "outputId": "c3e79bf2-8630-4fb8-b3ab-547c6610d0bc"
      },
      "source": [
        "# View combined result\n",
        "asec_combined.info()"
      ],
      "execution_count": null,
      "outputs": [
        {
          "output_type": "stream",
          "name": "stdout",
          "text": [
            "<class 'pandas.core.frame.DataFrame'>\n",
            "Int64Index: 180101 entries, 0 to 180100\n",
            "Data columns (total 52 columns):\n",
            " #   Column    Non-Null Count   Dtype \n",
            "---  ------    --------------   ----- \n",
            " 0   H_IDNUM   180101 non-null  object\n",
            " 1   H_SEQ     180101 non-null  int64 \n",
            " 2   GTMETSTA  180101 non-null  int64 \n",
            " 3   GEDIV     180101 non-null  int64 \n",
            " 4   GESTFIPS  180101 non-null  int64 \n",
            " 5   HHINC     180101 non-null  int64 \n",
            " 6   H_TENURE  180101 non-null  int64 \n",
            " 7   H_LIVQRT  180101 non-null  int64 \n",
            " 8   OCCUP     180101 non-null  int64 \n",
            " 9   A_MJOCC   180101 non-null  int64 \n",
            " 10  A_DTOCC   180101 non-null  int64 \n",
            " 11  AGE1      180101 non-null  int64 \n",
            " 12  A_SEX     180101 non-null  int64 \n",
            " 13  PRDTRACE  180101 non-null  int64 \n",
            " 14  PXRACE1   180101 non-null  int64 \n",
            " 15  PRCITSHP  180101 non-null  int64 \n",
            " 16  A_HGA     180101 non-null  int64 \n",
            " 17  PRERELG   180101 non-null  int64 \n",
            " 18  A_GRSWK   180101 non-null  int64 \n",
            " 19  HRCHECK   180101 non-null  int64 \n",
            " 20  HRSWK     180101 non-null  int64 \n",
            " 21  PEARNVAL  180101 non-null  int64 \n",
            " 22  A_CLSWKR  180101 non-null  int64 \n",
            " 23  WEIND     180101 non-null  int64 \n",
            " 24  A_MARITL  180101 non-null  int64 \n",
            " 25  A_HSCOL   180101 non-null  int64 \n",
            " 26  A_WKSTAT  180101 non-null  int64 \n",
            " 27  HEA       180101 non-null  int64 \n",
            " 28  PEINUSYR  180101 non-null  int64 \n",
            " 29  FH_SEQ    180101 non-null  int64 \n",
            " 30  FKINDEX   180101 non-null  int64 \n",
            " 31  FINC_FR   180101 non-null  int64 \n",
            " 32  FINC_SE   180101 non-null  int64 \n",
            " 33  FINC_WS   180101 non-null  int64 \n",
            " 34  FINC_ANN  180101 non-null  int64 \n",
            " 35  FINC_CSP  180101 non-null  int64 \n",
            " 36  FINC_DIS  180101 non-null  int64 \n",
            " 37  FINC_DIV  180101 non-null  int64 \n",
            " 38  FINC_RNT  180101 non-null  int64 \n",
            " 39  FINC_DST  180101 non-null  int64 \n",
            " 40  FINC_ED   180101 non-null  int64 \n",
            " 41  FINC_SS   180101 non-null  int64 \n",
            " 42  FINC_SSI  180101 non-null  int64 \n",
            " 43  FINC_FIN  180101 non-null  int64 \n",
            " 44  FINC_SUR  180101 non-null  int64 \n",
            " 45  FINC_INT  180101 non-null  int64 \n",
            " 46  FINC_UC   180101 non-null  int64 \n",
            " 47  FINC_OI   180101 non-null  int64 \n",
            " 48  FINC_VET  180101 non-null  int64 \n",
            " 49  FINC_PAW  180101 non-null  int64 \n",
            " 50  FINC_WC   180101 non-null  int64 \n",
            " 51  FINC_PEN  180101 non-null  int64 \n",
            "dtypes: int64(51), object(1)\n",
            "memory usage: 72.8+ MB\n"
          ]
        }
      ]
    },
    {
      "cell_type": "code",
      "metadata": {
        "colab": {
          "base_uri": "https://localhost:8080/",
          "height": 223
        },
        "id": "skMqUb61iCJZ",
        "outputId": "6ed676b6-0bcc-4428-85b2-94778c5b73c2"
      },
      "source": [
        "asec_combined.head()"
      ],
      "execution_count": null,
      "outputs": [
        {
          "output_type": "execute_result",
          "data": {
            "text/html": [
              "<div>\n",
              "<style scoped>\n",
              "    .dataframe tbody tr th:only-of-type {\n",
              "        vertical-align: middle;\n",
              "    }\n",
              "\n",
              "    .dataframe tbody tr th {\n",
              "        vertical-align: top;\n",
              "    }\n",
              "\n",
              "    .dataframe thead th {\n",
              "        text-align: right;\n",
              "    }\n",
              "</style>\n",
              "<table border=\"1\" class=\"dataframe\">\n",
              "  <thead>\n",
              "    <tr style=\"text-align: right;\">\n",
              "      <th></th>\n",
              "      <th>H_IDNUM</th>\n",
              "      <th>H_SEQ</th>\n",
              "      <th>GTMETSTA</th>\n",
              "      <th>GEDIV</th>\n",
              "      <th>GESTFIPS</th>\n",
              "      <th>HHINC</th>\n",
              "      <th>H_TENURE</th>\n",
              "      <th>H_LIVQRT</th>\n",
              "      <th>OCCUP</th>\n",
              "      <th>A_MJOCC</th>\n",
              "      <th>A_DTOCC</th>\n",
              "      <th>AGE1</th>\n",
              "      <th>A_SEX</th>\n",
              "      <th>PRDTRACE</th>\n",
              "      <th>PXRACE1</th>\n",
              "      <th>PRCITSHP</th>\n",
              "      <th>A_HGA</th>\n",
              "      <th>PRERELG</th>\n",
              "      <th>A_GRSWK</th>\n",
              "      <th>HRCHECK</th>\n",
              "      <th>HRSWK</th>\n",
              "      <th>PEARNVAL</th>\n",
              "      <th>A_CLSWKR</th>\n",
              "      <th>WEIND</th>\n",
              "      <th>A_MARITL</th>\n",
              "      <th>A_HSCOL</th>\n",
              "      <th>A_WKSTAT</th>\n",
              "      <th>HEA</th>\n",
              "      <th>PEINUSYR</th>\n",
              "      <th>FH_SEQ</th>\n",
              "      <th>FKINDEX</th>\n",
              "      <th>FINC_FR</th>\n",
              "      <th>FINC_SE</th>\n",
              "      <th>FINC_WS</th>\n",
              "      <th>FINC_ANN</th>\n",
              "      <th>FINC_CSP</th>\n",
              "      <th>FINC_DIS</th>\n",
              "      <th>FINC_DIV</th>\n",
              "      <th>FINC_RNT</th>\n",
              "      <th>FINC_DST</th>\n",
              "      <th>FINC_ED</th>\n",
              "      <th>FINC_SS</th>\n",
              "      <th>FINC_SSI</th>\n",
              "      <th>FINC_FIN</th>\n",
              "      <th>FINC_SUR</th>\n",
              "      <th>FINC_INT</th>\n",
              "      <th>FINC_UC</th>\n",
              "      <th>FINC_OI</th>\n",
              "      <th>FINC_VET</th>\n",
              "      <th>FINC_PAW</th>\n",
              "      <th>FINC_WC</th>\n",
              "      <th>FINC_PEN</th>\n",
              "    </tr>\n",
              "  </thead>\n",
              "  <tbody>\n",
              "    <tr>\n",
              "      <th>0</th>\n",
              "      <td>01000691245394308011</td>\n",
              "      <td>4</td>\n",
              "      <td>2</td>\n",
              "      <td>1</td>\n",
              "      <td>23</td>\n",
              "      <td>8</td>\n",
              "      <td>1</td>\n",
              "      <td>5</td>\n",
              "      <td>4050</td>\n",
              "      <td>3</td>\n",
              "      <td>13</td>\n",
              "      <td>4</td>\n",
              "      <td>1</td>\n",
              "      <td>1</td>\n",
              "      <td>0</td>\n",
              "      <td>1</td>\n",
              "      <td>37</td>\n",
              "      <td>0</td>\n",
              "      <td>0</td>\n",
              "      <td>1</td>\n",
              "      <td>30</td>\n",
              "      <td>18000</td>\n",
              "      <td>1</td>\n",
              "      <td>18</td>\n",
              "      <td>7</td>\n",
              "      <td>0</td>\n",
              "      <td>4</td>\n",
              "      <td>3</td>\n",
              "      <td>0</td>\n",
              "      <td>4</td>\n",
              "      <td>3</td>\n",
              "      <td>2</td>\n",
              "      <td>2</td>\n",
              "      <td>1</td>\n",
              "      <td>2</td>\n",
              "      <td>2</td>\n",
              "      <td>2</td>\n",
              "      <td>2</td>\n",
              "      <td>2</td>\n",
              "      <td>2</td>\n",
              "      <td>2</td>\n",
              "      <td>2</td>\n",
              "      <td>2</td>\n",
              "      <td>2</td>\n",
              "      <td>2</td>\n",
              "      <td>2</td>\n",
              "      <td>2</td>\n",
              "      <td>2</td>\n",
              "      <td>2</td>\n",
              "      <td>2</td>\n",
              "      <td>2</td>\n",
              "      <td>2</td>\n",
              "    </tr>\n",
              "    <tr>\n",
              "      <th>1</th>\n",
              "      <td>39994039016100209011</td>\n",
              "      <td>6</td>\n",
              "      <td>2</td>\n",
              "      <td>1</td>\n",
              "      <td>23</td>\n",
              "      <td>9</td>\n",
              "      <td>2</td>\n",
              "      <td>1</td>\n",
              "      <td>0</td>\n",
              "      <td>0</td>\n",
              "      <td>0</td>\n",
              "      <td>17</td>\n",
              "      <td>2</td>\n",
              "      <td>1</td>\n",
              "      <td>0</td>\n",
              "      <td>1</td>\n",
              "      <td>39</td>\n",
              "      <td>0</td>\n",
              "      <td>0</td>\n",
              "      <td>0</td>\n",
              "      <td>0</td>\n",
              "      <td>0</td>\n",
              "      <td>0</td>\n",
              "      <td>23</td>\n",
              "      <td>4</td>\n",
              "      <td>0</td>\n",
              "      <td>1</td>\n",
              "      <td>3</td>\n",
              "      <td>0</td>\n",
              "      <td>6</td>\n",
              "      <td>4</td>\n",
              "      <td>2</td>\n",
              "      <td>2</td>\n",
              "      <td>2</td>\n",
              "      <td>2</td>\n",
              "      <td>2</td>\n",
              "      <td>2</td>\n",
              "      <td>2</td>\n",
              "      <td>2</td>\n",
              "      <td>2</td>\n",
              "      <td>2</td>\n",
              "      <td>1</td>\n",
              "      <td>2</td>\n",
              "      <td>2</td>\n",
              "      <td>2</td>\n",
              "      <td>2</td>\n",
              "      <td>2</td>\n",
              "      <td>2</td>\n",
              "      <td>2</td>\n",
              "      <td>2</td>\n",
              "      <td>2</td>\n",
              "      <td>1</td>\n",
              "    </tr>\n",
              "    <tr>\n",
              "      <th>2</th>\n",
              "      <td>91193400932060909011</td>\n",
              "      <td>7</td>\n",
              "      <td>2</td>\n",
              "      <td>1</td>\n",
              "      <td>23</td>\n",
              "      <td>5</td>\n",
              "      <td>2</td>\n",
              "      <td>1</td>\n",
              "      <td>4020</td>\n",
              "      <td>3</td>\n",
              "      <td>13</td>\n",
              "      <td>13</td>\n",
              "      <td>2</td>\n",
              "      <td>1</td>\n",
              "      <td>0</td>\n",
              "      <td>1</td>\n",
              "      <td>39</td>\n",
              "      <td>0</td>\n",
              "      <td>0</td>\n",
              "      <td>2</td>\n",
              "      <td>44</td>\n",
              "      <td>12000</td>\n",
              "      <td>1</td>\n",
              "      <td>18</td>\n",
              "      <td>7</td>\n",
              "      <td>0</td>\n",
              "      <td>2</td>\n",
              "      <td>3</td>\n",
              "      <td>0</td>\n",
              "      <td>7</td>\n",
              "      <td>4</td>\n",
              "      <td>2</td>\n",
              "      <td>2</td>\n",
              "      <td>1</td>\n",
              "      <td>2</td>\n",
              "      <td>2</td>\n",
              "      <td>2</td>\n",
              "      <td>2</td>\n",
              "      <td>2</td>\n",
              "      <td>2</td>\n",
              "      <td>2</td>\n",
              "      <td>2</td>\n",
              "      <td>2</td>\n",
              "      <td>2</td>\n",
              "      <td>2</td>\n",
              "      <td>2</td>\n",
              "      <td>2</td>\n",
              "      <td>2</td>\n",
              "      <td>2</td>\n",
              "      <td>2</td>\n",
              "      <td>2</td>\n",
              "      <td>2</td>\n",
              "    </tr>\n",
              "    <tr>\n",
              "      <th>3</th>\n",
              "      <td>14103203009699909011</td>\n",
              "      <td>8</td>\n",
              "      <td>2</td>\n",
              "      <td>1</td>\n",
              "      <td>23</td>\n",
              "      <td>10</td>\n",
              "      <td>2</td>\n",
              "      <td>1</td>\n",
              "      <td>0</td>\n",
              "      <td>0</td>\n",
              "      <td>0</td>\n",
              "      <td>16</td>\n",
              "      <td>2</td>\n",
              "      <td>1</td>\n",
              "      <td>0</td>\n",
              "      <td>1</td>\n",
              "      <td>39</td>\n",
              "      <td>0</td>\n",
              "      <td>0</td>\n",
              "      <td>0</td>\n",
              "      <td>0</td>\n",
              "      <td>0</td>\n",
              "      <td>0</td>\n",
              "      <td>23</td>\n",
              "      <td>5</td>\n",
              "      <td>0</td>\n",
              "      <td>1</td>\n",
              "      <td>5</td>\n",
              "      <td>0</td>\n",
              "      <td>8</td>\n",
              "      <td>4</td>\n",
              "      <td>2</td>\n",
              "      <td>2</td>\n",
              "      <td>1</td>\n",
              "      <td>2</td>\n",
              "      <td>2</td>\n",
              "      <td>2</td>\n",
              "      <td>2</td>\n",
              "      <td>2</td>\n",
              "      <td>2</td>\n",
              "      <td>2</td>\n",
              "      <td>1</td>\n",
              "      <td>1</td>\n",
              "      <td>2</td>\n",
              "      <td>2</td>\n",
              "      <td>2</td>\n",
              "      <td>2</td>\n",
              "      <td>2</td>\n",
              "      <td>2</td>\n",
              "      <td>2</td>\n",
              "      <td>2</td>\n",
              "      <td>2</td>\n",
              "    </tr>\n",
              "    <tr>\n",
              "      <th>4</th>\n",
              "      <td>14103203009699909011</td>\n",
              "      <td>8</td>\n",
              "      <td>2</td>\n",
              "      <td>1</td>\n",
              "      <td>23</td>\n",
              "      <td>10</td>\n",
              "      <td>2</td>\n",
              "      <td>1</td>\n",
              "      <td>4610</td>\n",
              "      <td>3</td>\n",
              "      <td>15</td>\n",
              "      <td>8</td>\n",
              "      <td>1</td>\n",
              "      <td>1</td>\n",
              "      <td>0</td>\n",
              "      <td>1</td>\n",
              "      <td>39</td>\n",
              "      <td>0</td>\n",
              "      <td>0</td>\n",
              "      <td>1</td>\n",
              "      <td>20</td>\n",
              "      <td>12000</td>\n",
              "      <td>1</td>\n",
              "      <td>16</td>\n",
              "      <td>7</td>\n",
              "      <td>0</td>\n",
              "      <td>4</td>\n",
              "      <td>3</td>\n",
              "      <td>0</td>\n",
              "      <td>8</td>\n",
              "      <td>4</td>\n",
              "      <td>2</td>\n",
              "      <td>2</td>\n",
              "      <td>1</td>\n",
              "      <td>2</td>\n",
              "      <td>2</td>\n",
              "      <td>2</td>\n",
              "      <td>2</td>\n",
              "      <td>2</td>\n",
              "      <td>2</td>\n",
              "      <td>2</td>\n",
              "      <td>1</td>\n",
              "      <td>1</td>\n",
              "      <td>2</td>\n",
              "      <td>2</td>\n",
              "      <td>2</td>\n",
              "      <td>2</td>\n",
              "      <td>2</td>\n",
              "      <td>2</td>\n",
              "      <td>2</td>\n",
              "      <td>2</td>\n",
              "      <td>2</td>\n",
              "    </tr>\n",
              "  </tbody>\n",
              "</table>\n",
              "</div>"
            ],
            "text/plain": [
              "                H_IDNUM  H_SEQ  GTMETSTA  ...  FINC_PAW  FINC_WC  FINC_PEN\n",
              "0  01000691245394308011      4         2  ...         2        2         2\n",
              "1  39994039016100209011      6         2  ...         2        2         1\n",
              "2  91193400932060909011      7         2  ...         2        2         2\n",
              "3  14103203009699909011      8         2  ...         2        2         2\n",
              "4  14103203009699909011      8         2  ...         2        2         2\n",
              "\n",
              "[5 rows x 52 columns]"
            ]
          },
          "metadata": {},
          "execution_count": 21
        }
      ]
    },
    {
      "cell_type": "markdown",
      "metadata": {
        "id": "pFCk35poNC2N"
      },
      "source": [
        "## Combine All Data"
      ]
    },
    {
      "cell_type": "code",
      "metadata": {
        "id": "KG00feoEfKei"
      },
      "source": [
        "# Only get desired columns\n",
        "asec_oes = asec_combined[household_cols + person_cols + family_cols]"
      ],
      "execution_count": null,
      "outputs": []
    },
    {
      "cell_type": "code",
      "metadata": {
        "colab": {
          "base_uri": "https://localhost:8080/"
        },
        "id": "pCa98N8UQHGt",
        "outputId": "3f153b37-1f03-4f52-88c4-4924ef68c8e6"
      },
      "source": [
        "# TODO: rename final dataset since no longer have oes data in it.\n",
        "asec_oes.shape"
      ],
      "execution_count": null,
      "outputs": [
        {
          "output_type": "execute_result",
          "data": {
            "text/plain": [
              "(180101, 49)"
            ]
          },
          "metadata": {},
          "execution_count": 23
        }
      ]
    },
    {
      "cell_type": "code",
      "metadata": {
        "colab": {
          "base_uri": "https://localhost:8080/"
        },
        "id": "iTOrZhFvjM_S",
        "outputId": "5a05d858-7085-46d7-b039-479663f9f814"
      },
      "source": [
        "# Review result of merged data\n",
        "# 170113 total\n",
        "asec_oes.info()\n",
        "# asec_oes.head(50)"
      ],
      "execution_count": null,
      "outputs": [
        {
          "output_type": "stream",
          "name": "stdout",
          "text": [
            "<class 'pandas.core.frame.DataFrame'>\n",
            "Int64Index: 180101 entries, 0 to 180100\n",
            "Data columns (total 49 columns):\n",
            " #   Column    Non-Null Count   Dtype\n",
            "---  ------    --------------   -----\n",
            " 0   GTMETSTA  180101 non-null  int64\n",
            " 1   GEDIV     180101 non-null  int64\n",
            " 2   GESTFIPS  180101 non-null  int64\n",
            " 3   HHINC     180101 non-null  int64\n",
            " 4   H_TENURE  180101 non-null  int64\n",
            " 5   H_LIVQRT  180101 non-null  int64\n",
            " 6   OCCUP     180101 non-null  int64\n",
            " 7   A_MJOCC   180101 non-null  int64\n",
            " 8   A_DTOCC   180101 non-null  int64\n",
            " 9   AGE1      180101 non-null  int64\n",
            " 10  A_SEX     180101 non-null  int64\n",
            " 11  PRDTRACE  180101 non-null  int64\n",
            " 12  PXRACE1   180101 non-null  int64\n",
            " 13  PRCITSHP  180101 non-null  int64\n",
            " 14  A_HGA     180101 non-null  int64\n",
            " 15  PRERELG   180101 non-null  int64\n",
            " 16  A_GRSWK   180101 non-null  int64\n",
            " 17  HRCHECK   180101 non-null  int64\n",
            " 18  HRSWK     180101 non-null  int64\n",
            " 19  PEARNVAL  180101 non-null  int64\n",
            " 20  A_CLSWKR  180101 non-null  int64\n",
            " 21  WEIND     180101 non-null  int64\n",
            " 22  A_MARITL  180101 non-null  int64\n",
            " 23  A_HSCOL   180101 non-null  int64\n",
            " 24  A_WKSTAT  180101 non-null  int64\n",
            " 25  HEA       180101 non-null  int64\n",
            " 26  PEINUSYR  180101 non-null  int64\n",
            " 27  FKINDEX   180101 non-null  int64\n",
            " 28  FINC_FR   180101 non-null  int64\n",
            " 29  FINC_SE   180101 non-null  int64\n",
            " 30  FINC_WS   180101 non-null  int64\n",
            " 31  FINC_ANN  180101 non-null  int64\n",
            " 32  FINC_CSP  180101 non-null  int64\n",
            " 33  FINC_DIS  180101 non-null  int64\n",
            " 34  FINC_DIV  180101 non-null  int64\n",
            " 35  FINC_RNT  180101 non-null  int64\n",
            " 36  FINC_DST  180101 non-null  int64\n",
            " 37  FINC_ED   180101 non-null  int64\n",
            " 38  FINC_SS   180101 non-null  int64\n",
            " 39  FINC_SSI  180101 non-null  int64\n",
            " 40  FINC_FIN  180101 non-null  int64\n",
            " 41  FINC_SUR  180101 non-null  int64\n",
            " 42  FINC_INT  180101 non-null  int64\n",
            " 43  FINC_UC   180101 non-null  int64\n",
            " 44  FINC_OI   180101 non-null  int64\n",
            " 45  FINC_VET  180101 non-null  int64\n",
            " 46  FINC_PAW  180101 non-null  int64\n",
            " 47  FINC_WC   180101 non-null  int64\n",
            " 48  FINC_PEN  180101 non-null  int64\n",
            "dtypes: int64(49)\n",
            "memory usage: 68.7 MB\n"
          ]
        }
      ]
    },
    {
      "cell_type": "markdown",
      "metadata": {
        "id": "6ZZwtWTaNSEN"
      },
      "source": [
        "## Clean Data"
      ]
    },
    {
      "cell_type": "code",
      "metadata": {
        "colab": {
          "base_uri": "https://localhost:8080/"
        },
        "id": "GRPyEs4I8U7v",
        "outputId": "8be7a92a-3a65-42c8-c370-c3c72d83fde4"
      },
      "source": [
        "# Remove people under 15 years old because they are not relevant for this project.\n",
        "# 0 = Not in universe\n",
        "# 1 = 15 years\n",
        "# 2 = 16 and 17 years\n",
        "# 3 = 18 and 19 years\n",
        "# 4 = 20 and 21 years\n",
        "# 5 = 22 to 24 years\n",
        "# 6 = 25 to 29 years\n",
        "# 7 = 30 to 34 years\n",
        "# 8 = 35 to 39 years\n",
        "# 9 = 40 to 44 years\n",
        "# 10 = 45 to 49 years\n",
        "# 11 = 50 to 54 years\n",
        "# 12 = 55 to 59 years\n",
        "# 13 = 60 to 61 years\n",
        "# 14 = 62 to 64 years\n",
        "# 15 = 65 to 69 years\n",
        "# 16 = 70 to 74 years\n",
        "# 17 = 75 years and over\n",
        "asec_oes = asec_oes[asec_oes['AGE1'] > 0]\n",
        "asec_oes.info()\n",
        "# asec_oes.head()"
      ],
      "execution_count": null,
      "outputs": [
        {
          "output_type": "stream",
          "name": "stdout",
          "text": [
            "<class 'pandas.core.frame.DataFrame'>\n",
            "Int64Index: 141251 entries, 0 to 180100\n",
            "Data columns (total 49 columns):\n",
            " #   Column    Non-Null Count   Dtype\n",
            "---  ------    --------------   -----\n",
            " 0   GTMETSTA  141251 non-null  int64\n",
            " 1   GEDIV     141251 non-null  int64\n",
            " 2   GESTFIPS  141251 non-null  int64\n",
            " 3   HHINC     141251 non-null  int64\n",
            " 4   H_TENURE  141251 non-null  int64\n",
            " 5   H_LIVQRT  141251 non-null  int64\n",
            " 6   OCCUP     141251 non-null  int64\n",
            " 7   A_MJOCC   141251 non-null  int64\n",
            " 8   A_DTOCC   141251 non-null  int64\n",
            " 9   AGE1      141251 non-null  int64\n",
            " 10  A_SEX     141251 non-null  int64\n",
            " 11  PRDTRACE  141251 non-null  int64\n",
            " 12  PXRACE1   141251 non-null  int64\n",
            " 13  PRCITSHP  141251 non-null  int64\n",
            " 14  A_HGA     141251 non-null  int64\n",
            " 15  PRERELG   141251 non-null  int64\n",
            " 16  A_GRSWK   141251 non-null  int64\n",
            " 17  HRCHECK   141251 non-null  int64\n",
            " 18  HRSWK     141251 non-null  int64\n",
            " 19  PEARNVAL  141251 non-null  int64\n",
            " 20  A_CLSWKR  141251 non-null  int64\n",
            " 21  WEIND     141251 non-null  int64\n",
            " 22  A_MARITL  141251 non-null  int64\n",
            " 23  A_HSCOL   141251 non-null  int64\n",
            " 24  A_WKSTAT  141251 non-null  int64\n",
            " 25  HEA       141251 non-null  int64\n",
            " 26  PEINUSYR  141251 non-null  int64\n",
            " 27  FKINDEX   141251 non-null  int64\n",
            " 28  FINC_FR   141251 non-null  int64\n",
            " 29  FINC_SE   141251 non-null  int64\n",
            " 30  FINC_WS   141251 non-null  int64\n",
            " 31  FINC_ANN  141251 non-null  int64\n",
            " 32  FINC_CSP  141251 non-null  int64\n",
            " 33  FINC_DIS  141251 non-null  int64\n",
            " 34  FINC_DIV  141251 non-null  int64\n",
            " 35  FINC_RNT  141251 non-null  int64\n",
            " 36  FINC_DST  141251 non-null  int64\n",
            " 37  FINC_ED   141251 non-null  int64\n",
            " 38  FINC_SS   141251 non-null  int64\n",
            " 39  FINC_SSI  141251 non-null  int64\n",
            " 40  FINC_FIN  141251 non-null  int64\n",
            " 41  FINC_SUR  141251 non-null  int64\n",
            " 42  FINC_INT  141251 non-null  int64\n",
            " 43  FINC_UC   141251 non-null  int64\n",
            " 44  FINC_OI   141251 non-null  int64\n",
            " 45  FINC_VET  141251 non-null  int64\n",
            " 46  FINC_PAW  141251 non-null  int64\n",
            " 47  FINC_WC   141251 non-null  int64\n",
            " 48  FINC_PEN  141251 non-null  int64\n",
            "dtypes: int64(49)\n",
            "memory usage: 53.9 MB\n"
          ]
        }
      ]
    },
    {
      "cell_type": "code",
      "metadata": {
        "id": "K1-_mLZZ5gqz"
      },
      "source": [
        "# Export to CSV for teammates to use in EDA\n",
        "# export_path = root_drive + 'Capstone/Data/FinalData/asec_oes_2019v3.csv'\n",
        "# asec_oes.to_csv(export_path)"
      ],
      "execution_count": null,
      "outputs": []
    },
    {
      "cell_type": "markdown",
      "metadata": {
        "id": "bUT_zr2uU2Nq"
      },
      "source": [
        "### Column Descriptions\n",
        "\n",
        "[Here is a summary document showing selected columns.](https://docs.google.com/document/d/1io7TtqebJLtw6FKE7zkbUh26QkG3rEJrZX3Fver9zmU/edit)"
      ]
    },
    {
      "cell_type": "code",
      "metadata": {
        "colab": {
          "base_uri": "https://localhost:8080/"
        },
        "id": "HQ8Fkx0rZzqT",
        "outputId": "97561807-a9b8-4bd5-e748-d271e05f69a4"
      },
      "source": [
        "asec_oes.shape"
      ],
      "execution_count": null,
      "outputs": [
        {
          "output_type": "execute_result",
          "data": {
            "text/plain": [
              "(141251, 49)"
            ]
          },
          "metadata": {},
          "execution_count": 27
        }
      ]
    },
    {
      "cell_type": "code",
      "metadata": {
        "id": "vxWuX2N4-Nxr"
      },
      "source": [
        "# TODO: Handle null or blank data - We have some \"-\" data in the oes file that indicates value is unavailable.\n",
        "# File path for all code conversion files.\n"
      ],
      "execution_count": null,
      "outputs": []
    },
    {
      "cell_type": "markdown",
      "metadata": {
        "id": "PRkEJT36ag8H"
      },
      "source": [
        "# Exploratory Data Analysis (EDA)\n",
        "\n",
        "In our EDA, we will first filter our data to focus in on our features of interest and prepare our data for analysis. Then we will generate summary statistics to identify anomalies and visualize our data to better understand our variables and the relationships between them. Finally, we will reflect on the analysis and determine next steps."
      ]
    },
    {
      "cell_type": "markdown",
      "metadata": {
        "id": "_OHnbl6ffbM6"
      },
      "source": [
        "##Import and filter data\n",
        "\n",
        "We'll first import our clean dataset. We'll also be dropping some observations, such as those employed in the armed forces, who don't have enough observations to support significant analysis. "
      ]
    },
    {
      "cell_type": "code",
      "metadata": {
        "id": "5iSbX2Kjffuk"
      },
      "source": [
        "#Import final data\n",
        "\n",
        "asec_oes_final = pd.read_csv(root_drive + 'Capstone/Data/FinalData/asec_2019v4.csv')\n",
        "\n",
        "#Drop rows where A_CLSWKR codes are equal to 0 or 8 and A_DTOCC equals 23\n",
        "asec_oes_final.drop(np.where((asec_oes_final['A_CLSWKR'] == 8) | (asec_oes_final['A_CLSWKR'] == 0) | (asec_oes_final['A_DTOCC'] == 23)) [0], inplace=True)\n",
        "\n",
        "#Drop 'Unnamed: 0' column\n",
        "asec_oes_final.drop('Unnamed: 0', axis=1, inplace=True)"
      ],
      "execution_count": null,
      "outputs": []
    },
    {
      "cell_type": "markdown",
      "metadata": {
        "id": "7MtbC87dfhse"
      },
      "source": [
        "## Understand our Data\n",
        "To better understand our data we'll look at the general shape, values, and summarys statistics of the dataset."
      ]
    },
    {
      "cell_type": "code",
      "metadata": {
        "colab": {
          "base_uri": "https://localhost:8080/"
        },
        "id": "tnNx2hBWfnwd",
        "outputId": "fc134141-afd0-4c8f-caf1-56c7724ee7e7"
      },
      "source": [
        "#Get dimensions of datset\n",
        "asec_oes_final.shape"
      ],
      "execution_count": null,
      "outputs": [
        {
          "output_type": "execute_result",
          "data": {
            "text/plain": [
              "(88445, 49)"
            ]
          },
          "metadata": {},
          "execution_count": 30
        }
      ]
    },
    {
      "cell_type": "code",
      "metadata": {
        "colab": {
          "base_uri": "https://localhost:8080/",
          "height": 223
        },
        "id": "VqTpEPmmfp5g",
        "outputId": "5b18aa79-93fa-4038-d3e7-6eb153a076b4"
      },
      "source": [
        "#Look at the first five rows\n",
        "asec_oes_final.head()"
      ],
      "execution_count": null,
      "outputs": [
        {
          "output_type": "execute_result",
          "data": {
            "text/html": [
              "<div>\n",
              "<style scoped>\n",
              "    .dataframe tbody tr th:only-of-type {\n",
              "        vertical-align: middle;\n",
              "    }\n",
              "\n",
              "    .dataframe tbody tr th {\n",
              "        vertical-align: top;\n",
              "    }\n",
              "\n",
              "    .dataframe thead th {\n",
              "        text-align: right;\n",
              "    }\n",
              "</style>\n",
              "<table border=\"1\" class=\"dataframe\">\n",
              "  <thead>\n",
              "    <tr style=\"text-align: right;\">\n",
              "      <th></th>\n",
              "      <th>GTMETSTA</th>\n",
              "      <th>GEDIV</th>\n",
              "      <th>GESTFIPS</th>\n",
              "      <th>HHINC</th>\n",
              "      <th>H_TENURE</th>\n",
              "      <th>H_LIVQRT</th>\n",
              "      <th>OCCUP</th>\n",
              "      <th>A_MJOCC</th>\n",
              "      <th>A_DTOCC</th>\n",
              "      <th>AGE1</th>\n",
              "      <th>A_SEX</th>\n",
              "      <th>PRDTRACE</th>\n",
              "      <th>PXRACE1</th>\n",
              "      <th>PRCITSHP</th>\n",
              "      <th>A_HGA</th>\n",
              "      <th>PRERELG</th>\n",
              "      <th>A_GRSWK</th>\n",
              "      <th>HRCHECK</th>\n",
              "      <th>HRSWK</th>\n",
              "      <th>PEARNVAL</th>\n",
              "      <th>A_CLSWKR</th>\n",
              "      <th>WEIND</th>\n",
              "      <th>A_MARITL</th>\n",
              "      <th>A_HSCOL</th>\n",
              "      <th>A_WKSTAT</th>\n",
              "      <th>HEA</th>\n",
              "      <th>PEINUSYR</th>\n",
              "      <th>FKINDEX</th>\n",
              "      <th>FINC_FR</th>\n",
              "      <th>FINC_SE</th>\n",
              "      <th>FINC_WS</th>\n",
              "      <th>FINC_ANN</th>\n",
              "      <th>FINC_CSP</th>\n",
              "      <th>FINC_DIS</th>\n",
              "      <th>FINC_DIV</th>\n",
              "      <th>FINC_RNT</th>\n",
              "      <th>FINC_DST</th>\n",
              "      <th>FINC_ED</th>\n",
              "      <th>FINC_SS</th>\n",
              "      <th>FINC_SSI</th>\n",
              "      <th>FINC_FIN</th>\n",
              "      <th>FINC_SUR</th>\n",
              "      <th>FINC_INT</th>\n",
              "      <th>FINC_UC</th>\n",
              "      <th>FINC_OI</th>\n",
              "      <th>FINC_VET</th>\n",
              "      <th>FINC_PAW</th>\n",
              "      <th>FINC_WC</th>\n",
              "      <th>FINC_PEN</th>\n",
              "    </tr>\n",
              "  </thead>\n",
              "  <tbody>\n",
              "    <tr>\n",
              "      <th>0</th>\n",
              "      <td>2</td>\n",
              "      <td>1</td>\n",
              "      <td>23</td>\n",
              "      <td>8</td>\n",
              "      <td>1</td>\n",
              "      <td>5</td>\n",
              "      <td>4050</td>\n",
              "      <td>3</td>\n",
              "      <td>13</td>\n",
              "      <td>4</td>\n",
              "      <td>1</td>\n",
              "      <td>1</td>\n",
              "      <td>0</td>\n",
              "      <td>1</td>\n",
              "      <td>37</td>\n",
              "      <td>0</td>\n",
              "      <td>0</td>\n",
              "      <td>1</td>\n",
              "      <td>30</td>\n",
              "      <td>18000</td>\n",
              "      <td>1</td>\n",
              "      <td>18</td>\n",
              "      <td>7</td>\n",
              "      <td>0</td>\n",
              "      <td>4</td>\n",
              "      <td>3</td>\n",
              "      <td>0</td>\n",
              "      <td>3</td>\n",
              "      <td>2</td>\n",
              "      <td>2</td>\n",
              "      <td>1</td>\n",
              "      <td>2</td>\n",
              "      <td>2</td>\n",
              "      <td>2</td>\n",
              "      <td>2</td>\n",
              "      <td>2</td>\n",
              "      <td>2</td>\n",
              "      <td>2</td>\n",
              "      <td>2</td>\n",
              "      <td>2</td>\n",
              "      <td>2</td>\n",
              "      <td>2</td>\n",
              "      <td>2</td>\n",
              "      <td>2</td>\n",
              "      <td>2</td>\n",
              "      <td>2</td>\n",
              "      <td>2</td>\n",
              "      <td>2</td>\n",
              "      <td>2</td>\n",
              "    </tr>\n",
              "    <tr>\n",
              "      <th>2</th>\n",
              "      <td>2</td>\n",
              "      <td>1</td>\n",
              "      <td>23</td>\n",
              "      <td>5</td>\n",
              "      <td>2</td>\n",
              "      <td>1</td>\n",
              "      <td>4020</td>\n",
              "      <td>3</td>\n",
              "      <td>13</td>\n",
              "      <td>13</td>\n",
              "      <td>2</td>\n",
              "      <td>1</td>\n",
              "      <td>0</td>\n",
              "      <td>1</td>\n",
              "      <td>39</td>\n",
              "      <td>0</td>\n",
              "      <td>0</td>\n",
              "      <td>2</td>\n",
              "      <td>44</td>\n",
              "      <td>12000</td>\n",
              "      <td>1</td>\n",
              "      <td>18</td>\n",
              "      <td>7</td>\n",
              "      <td>0</td>\n",
              "      <td>2</td>\n",
              "      <td>3</td>\n",
              "      <td>0</td>\n",
              "      <td>4</td>\n",
              "      <td>2</td>\n",
              "      <td>2</td>\n",
              "      <td>1</td>\n",
              "      <td>2</td>\n",
              "      <td>2</td>\n",
              "      <td>2</td>\n",
              "      <td>2</td>\n",
              "      <td>2</td>\n",
              "      <td>2</td>\n",
              "      <td>2</td>\n",
              "      <td>2</td>\n",
              "      <td>2</td>\n",
              "      <td>2</td>\n",
              "      <td>2</td>\n",
              "      <td>2</td>\n",
              "      <td>2</td>\n",
              "      <td>2</td>\n",
              "      <td>2</td>\n",
              "      <td>2</td>\n",
              "      <td>2</td>\n",
              "      <td>2</td>\n",
              "    </tr>\n",
              "    <tr>\n",
              "      <th>4</th>\n",
              "      <td>2</td>\n",
              "      <td>1</td>\n",
              "      <td>23</td>\n",
              "      <td>10</td>\n",
              "      <td>2</td>\n",
              "      <td>1</td>\n",
              "      <td>4610</td>\n",
              "      <td>3</td>\n",
              "      <td>15</td>\n",
              "      <td>8</td>\n",
              "      <td>1</td>\n",
              "      <td>1</td>\n",
              "      <td>0</td>\n",
              "      <td>1</td>\n",
              "      <td>39</td>\n",
              "      <td>0</td>\n",
              "      <td>0</td>\n",
              "      <td>1</td>\n",
              "      <td>20</td>\n",
              "      <td>12000</td>\n",
              "      <td>1</td>\n",
              "      <td>16</td>\n",
              "      <td>7</td>\n",
              "      <td>0</td>\n",
              "      <td>4</td>\n",
              "      <td>3</td>\n",
              "      <td>0</td>\n",
              "      <td>4</td>\n",
              "      <td>2</td>\n",
              "      <td>2</td>\n",
              "      <td>1</td>\n",
              "      <td>2</td>\n",
              "      <td>2</td>\n",
              "      <td>2</td>\n",
              "      <td>2</td>\n",
              "      <td>2</td>\n",
              "      <td>2</td>\n",
              "      <td>2</td>\n",
              "      <td>1</td>\n",
              "      <td>1</td>\n",
              "      <td>2</td>\n",
              "      <td>2</td>\n",
              "      <td>2</td>\n",
              "      <td>2</td>\n",
              "      <td>2</td>\n",
              "      <td>2</td>\n",
              "      <td>2</td>\n",
              "      <td>2</td>\n",
              "      <td>2</td>\n",
              "    </tr>\n",
              "    <tr>\n",
              "      <th>6</th>\n",
              "      <td>2</td>\n",
              "      <td>1</td>\n",
              "      <td>23</td>\n",
              "      <td>23</td>\n",
              "      <td>1</td>\n",
              "      <td>1</td>\n",
              "      <td>4840</td>\n",
              "      <td>4</td>\n",
              "      <td>16</td>\n",
              "      <td>11</td>\n",
              "      <td>2</td>\n",
              "      <td>1</td>\n",
              "      <td>0</td>\n",
              "      <td>1</td>\n",
              "      <td>39</td>\n",
              "      <td>0</td>\n",
              "      <td>0</td>\n",
              "      <td>2</td>\n",
              "      <td>44</td>\n",
              "      <td>55000</td>\n",
              "      <td>1</td>\n",
              "      <td>8</td>\n",
              "      <td>5</td>\n",
              "      <td>0</td>\n",
              "      <td>2</td>\n",
              "      <td>2</td>\n",
              "      <td>0</td>\n",
              "      <td>4</td>\n",
              "      <td>2</td>\n",
              "      <td>2</td>\n",
              "      <td>1</td>\n",
              "      <td>2</td>\n",
              "      <td>2</td>\n",
              "      <td>2</td>\n",
              "      <td>2</td>\n",
              "      <td>2</td>\n",
              "      <td>2</td>\n",
              "      <td>2</td>\n",
              "      <td>2</td>\n",
              "      <td>2</td>\n",
              "      <td>2</td>\n",
              "      <td>2</td>\n",
              "      <td>2</td>\n",
              "      <td>2</td>\n",
              "      <td>2</td>\n",
              "      <td>2</td>\n",
              "      <td>2</td>\n",
              "      <td>2</td>\n",
              "      <td>2</td>\n",
              "    </tr>\n",
              "    <tr>\n",
              "      <th>10</th>\n",
              "      <td>2</td>\n",
              "      <td>1</td>\n",
              "      <td>23</td>\n",
              "      <td>19</td>\n",
              "      <td>1</td>\n",
              "      <td>1</td>\n",
              "      <td>6420</td>\n",
              "      <td>7</td>\n",
              "      <td>19</td>\n",
              "      <td>11</td>\n",
              "      <td>1</td>\n",
              "      <td>1</td>\n",
              "      <td>0</td>\n",
              "      <td>1</td>\n",
              "      <td>43</td>\n",
              "      <td>0</td>\n",
              "      <td>0</td>\n",
              "      <td>2</td>\n",
              "      <td>50</td>\n",
              "      <td>45000</td>\n",
              "      <td>6</td>\n",
              "      <td>3</td>\n",
              "      <td>3</td>\n",
              "      <td>0</td>\n",
              "      <td>2</td>\n",
              "      <td>2</td>\n",
              "      <td>0</td>\n",
              "      <td>3</td>\n",
              "      <td>2</td>\n",
              "      <td>1</td>\n",
              "      <td>2</td>\n",
              "      <td>2</td>\n",
              "      <td>2</td>\n",
              "      <td>2</td>\n",
              "      <td>2</td>\n",
              "      <td>2</td>\n",
              "      <td>2</td>\n",
              "      <td>2</td>\n",
              "      <td>2</td>\n",
              "      <td>2</td>\n",
              "      <td>2</td>\n",
              "      <td>2</td>\n",
              "      <td>2</td>\n",
              "      <td>2</td>\n",
              "      <td>2</td>\n",
              "      <td>2</td>\n",
              "      <td>2</td>\n",
              "      <td>2</td>\n",
              "      <td>2</td>\n",
              "    </tr>\n",
              "  </tbody>\n",
              "</table>\n",
              "</div>"
            ],
            "text/plain": [
              "    GTMETSTA  GEDIV  GESTFIPS  HHINC  ...  FINC_VET  FINC_PAW  FINC_WC  FINC_PEN\n",
              "0          2      1        23      8  ...         2         2        2         2\n",
              "2          2      1        23      5  ...         2         2        2         2\n",
              "4          2      1        23     10  ...         2         2        2         2\n",
              "6          2      1        23     23  ...         2         2        2         2\n",
              "10         2      1        23     19  ...         2         2        2         2\n",
              "\n",
              "[5 rows x 49 columns]"
            ]
          },
          "metadata": {},
          "execution_count": 31
        }
      ]
    },
    {
      "cell_type": "code",
      "metadata": {
        "colab": {
          "base_uri": "https://localhost:8080/"
        },
        "id": "1bsEDv68ftZd",
        "outputId": "3f3fa27f-c495-4220-ed4b-86f919d0d5ff"
      },
      "source": [
        "#Get info about each column\n",
        "asec_oes_final.info()"
      ],
      "execution_count": null,
      "outputs": [
        {
          "output_type": "stream",
          "name": "stdout",
          "text": [
            "<class 'pandas.core.frame.DataFrame'>\n",
            "Int64Index: 88445 entries, 0 to 141250\n",
            "Data columns (total 49 columns):\n",
            " #   Column    Non-Null Count  Dtype\n",
            "---  ------    --------------  -----\n",
            " 0   GTMETSTA  88445 non-null  int64\n",
            " 1   GEDIV     88445 non-null  int64\n",
            " 2   GESTFIPS  88445 non-null  int64\n",
            " 3   HHINC     88445 non-null  int64\n",
            " 4   H_TENURE  88445 non-null  int64\n",
            " 5   H_LIVQRT  88445 non-null  int64\n",
            " 6   OCCUP     88445 non-null  int64\n",
            " 7   A_MJOCC   88445 non-null  int64\n",
            " 8   A_DTOCC   88445 non-null  int64\n",
            " 9   AGE1      88445 non-null  int64\n",
            " 10  A_SEX     88445 non-null  int64\n",
            " 11  PRDTRACE  88445 non-null  int64\n",
            " 12  PXRACE1   88445 non-null  int64\n",
            " 13  PRCITSHP  88445 non-null  int64\n",
            " 14  A_HGA     88445 non-null  int64\n",
            " 15  PRERELG   88445 non-null  int64\n",
            " 16  A_GRSWK   88445 non-null  int64\n",
            " 17  HRCHECK   88445 non-null  int64\n",
            " 18  HRSWK     88445 non-null  int64\n",
            " 19  PEARNVAL  88445 non-null  int64\n",
            " 20  A_CLSWKR  88445 non-null  int64\n",
            " 21  WEIND     88445 non-null  int64\n",
            " 22  A_MARITL  88445 non-null  int64\n",
            " 23  A_HSCOL   88445 non-null  int64\n",
            " 24  A_WKSTAT  88445 non-null  int64\n",
            " 25  HEA       88445 non-null  int64\n",
            " 26  PEINUSYR  88445 non-null  int64\n",
            " 27  FKINDEX   88445 non-null  int64\n",
            " 28  FINC_FR   88445 non-null  int64\n",
            " 29  FINC_SE   88445 non-null  int64\n",
            " 30  FINC_WS   88445 non-null  int64\n",
            " 31  FINC_ANN  88445 non-null  int64\n",
            " 32  FINC_CSP  88445 non-null  int64\n",
            " 33  FINC_DIS  88445 non-null  int64\n",
            " 34  FINC_DIV  88445 non-null  int64\n",
            " 35  FINC_RNT  88445 non-null  int64\n",
            " 36  FINC_DST  88445 non-null  int64\n",
            " 37  FINC_ED   88445 non-null  int64\n",
            " 38  FINC_SS   88445 non-null  int64\n",
            " 39  FINC_SSI  88445 non-null  int64\n",
            " 40  FINC_FIN  88445 non-null  int64\n",
            " 41  FINC_SUR  88445 non-null  int64\n",
            " 42  FINC_INT  88445 non-null  int64\n",
            " 43  FINC_UC   88445 non-null  int64\n",
            " 44  FINC_OI   88445 non-null  int64\n",
            " 45  FINC_VET  88445 non-null  int64\n",
            " 46  FINC_PAW  88445 non-null  int64\n",
            " 47  FINC_WC   88445 non-null  int64\n",
            " 48  FINC_PEN  88445 non-null  int64\n",
            "dtypes: int64(49)\n",
            "memory usage: 33.7 MB\n"
          ]
        }
      ]
    },
    {
      "cell_type": "code",
      "metadata": {
        "colab": {
          "base_uri": "https://localhost:8080/",
          "height": 315
        },
        "id": "u78mh6Y8fwE3",
        "outputId": "ce0ea9ca-002a-4d6a-b826-4b418377bc9e"
      },
      "source": [
        "#Get summary statistics for each column\n",
        "asec_oes_final.describe()"
      ],
      "execution_count": null,
      "outputs": [
        {
          "output_type": "execute_result",
          "data": {
            "text/html": [
              "<div>\n",
              "<style scoped>\n",
              "    .dataframe tbody tr th:only-of-type {\n",
              "        vertical-align: middle;\n",
              "    }\n",
              "\n",
              "    .dataframe tbody tr th {\n",
              "        vertical-align: top;\n",
              "    }\n",
              "\n",
              "    .dataframe thead th {\n",
              "        text-align: right;\n",
              "    }\n",
              "</style>\n",
              "<table border=\"1\" class=\"dataframe\">\n",
              "  <thead>\n",
              "    <tr style=\"text-align: right;\">\n",
              "      <th></th>\n",
              "      <th>GTMETSTA</th>\n",
              "      <th>GEDIV</th>\n",
              "      <th>GESTFIPS</th>\n",
              "      <th>HHINC</th>\n",
              "      <th>H_TENURE</th>\n",
              "      <th>H_LIVQRT</th>\n",
              "      <th>OCCUP</th>\n",
              "      <th>A_MJOCC</th>\n",
              "      <th>A_DTOCC</th>\n",
              "      <th>AGE1</th>\n",
              "      <th>A_SEX</th>\n",
              "      <th>PRDTRACE</th>\n",
              "      <th>PXRACE1</th>\n",
              "      <th>PRCITSHP</th>\n",
              "      <th>A_HGA</th>\n",
              "      <th>PRERELG</th>\n",
              "      <th>A_GRSWK</th>\n",
              "      <th>HRCHECK</th>\n",
              "      <th>HRSWK</th>\n",
              "      <th>PEARNVAL</th>\n",
              "      <th>A_CLSWKR</th>\n",
              "      <th>WEIND</th>\n",
              "      <th>A_MARITL</th>\n",
              "      <th>A_HSCOL</th>\n",
              "      <th>A_WKSTAT</th>\n",
              "      <th>HEA</th>\n",
              "      <th>PEINUSYR</th>\n",
              "      <th>FKINDEX</th>\n",
              "      <th>FINC_FR</th>\n",
              "      <th>FINC_SE</th>\n",
              "      <th>FINC_WS</th>\n",
              "      <th>FINC_ANN</th>\n",
              "      <th>FINC_CSP</th>\n",
              "      <th>FINC_DIS</th>\n",
              "      <th>FINC_DIV</th>\n",
              "      <th>FINC_RNT</th>\n",
              "      <th>FINC_DST</th>\n",
              "      <th>FINC_ED</th>\n",
              "      <th>FINC_SS</th>\n",
              "      <th>FINC_SSI</th>\n",
              "      <th>FINC_FIN</th>\n",
              "      <th>FINC_SUR</th>\n",
              "      <th>FINC_INT</th>\n",
              "      <th>FINC_UC</th>\n",
              "      <th>FINC_OI</th>\n",
              "      <th>FINC_VET</th>\n",
              "      <th>FINC_PAW</th>\n",
              "      <th>FINC_WC</th>\n",
              "      <th>FINC_PEN</th>\n",
              "    </tr>\n",
              "  </thead>\n",
              "  <tbody>\n",
              "    <tr>\n",
              "      <th>count</th>\n",
              "      <td>88445.000000</td>\n",
              "      <td>88445.000000</td>\n",
              "      <td>88445.000000</td>\n",
              "      <td>88445.000000</td>\n",
              "      <td>88445.000000</td>\n",
              "      <td>88445.000000</td>\n",
              "      <td>88445.000000</td>\n",
              "      <td>88445.000000</td>\n",
              "      <td>88445.000000</td>\n",
              "      <td>88445.000000</td>\n",
              "      <td>88445.000000</td>\n",
              "      <td>88445.000000</td>\n",
              "      <td>88445.000000</td>\n",
              "      <td>88445.000000</td>\n",
              "      <td>88445.000000</td>\n",
              "      <td>88445.000000</td>\n",
              "      <td>88445.000000</td>\n",
              "      <td>88445.000000</td>\n",
              "      <td>88445.000000</td>\n",
              "      <td>8.844500e+04</td>\n",
              "      <td>88445.000000</td>\n",
              "      <td>88445.000000</td>\n",
              "      <td>88445.000000</td>\n",
              "      <td>88445.000000</td>\n",
              "      <td>88445.000000</td>\n",
              "      <td>88445.000000</td>\n",
              "      <td>88445.000000</td>\n",
              "      <td>88445.000000</td>\n",
              "      <td>88445.000000</td>\n",
              "      <td>88445.000000</td>\n",
              "      <td>88445.000000</td>\n",
              "      <td>88445.000000</td>\n",
              "      <td>88445.000000</td>\n",
              "      <td>88445.000000</td>\n",
              "      <td>88445.000000</td>\n",
              "      <td>88445.000000</td>\n",
              "      <td>88445.000000</td>\n",
              "      <td>88445.000000</td>\n",
              "      <td>88445.000000</td>\n",
              "      <td>88445.000000</td>\n",
              "      <td>88445.000000</td>\n",
              "      <td>88445.000000</td>\n",
              "      <td>88445.000000</td>\n",
              "      <td>88445.000000</td>\n",
              "      <td>88445.000000</td>\n",
              "      <td>88445.000000</td>\n",
              "      <td>88445.000000</td>\n",
              "      <td>88445.000000</td>\n",
              "      <td>88445.000000</td>\n",
              "    </tr>\n",
              "    <tr>\n",
              "      <th>mean</th>\n",
              "      <td>1.182011</td>\n",
              "      <td>5.461959</td>\n",
              "      <td>27.779275</td>\n",
              "      <td>31.351258</td>\n",
              "      <td>1.328000</td>\n",
              "      <td>1.168365</td>\n",
              "      <td>3927.746543</td>\n",
              "      <td>3.944237</td>\n",
              "      <td>12.156052</td>\n",
              "      <td>9.054644</td>\n",
              "      <td>1.481429</td>\n",
              "      <td>1.517033</td>\n",
              "      <td>1.929289</td>\n",
              "      <td>1.646176</td>\n",
              "      <td>40.783312</td>\n",
              "      <td>0.216711</td>\n",
              "      <td>144.251297</td>\n",
              "      <td>1.754627</td>\n",
              "      <td>37.816575</td>\n",
              "      <td>5.425753e+04</td>\n",
              "      <td>1.776030</td>\n",
              "      <td>12.223664</td>\n",
              "      <td>3.366872</td>\n",
              "      <td>0.130149</td>\n",
              "      <td>2.490542</td>\n",
              "      <td>2.103104</td>\n",
              "      <td>2.999921</td>\n",
              "      <td>1.982927</td>\n",
              "      <td>1.978133</td>\n",
              "      <td>1.881339</td>\n",
              "      <td>1.045248</td>\n",
              "      <td>1.989270</td>\n",
              "      <td>1.960586</td>\n",
              "      <td>1.984058</td>\n",
              "      <td>1.814800</td>\n",
              "      <td>1.920651</td>\n",
              "      <td>1.972480</td>\n",
              "      <td>1.928487</td>\n",
              "      <td>1.865679</td>\n",
              "      <td>1.979185</td>\n",
              "      <td>1.988287</td>\n",
              "      <td>1.989180</td>\n",
              "      <td>1.294556</td>\n",
              "      <td>1.970015</td>\n",
              "      <td>1.973984</td>\n",
              "      <td>1.976777</td>\n",
              "      <td>1.990966</td>\n",
              "      <td>1.992119</td>\n",
              "      <td>1.951439</td>\n",
              "    </tr>\n",
              "    <tr>\n",
              "      <th>std</th>\n",
              "      <td>0.409897</td>\n",
              "      <td>2.547711</td>\n",
              "      <td>16.299467</td>\n",
              "      <td>11.475406</td>\n",
              "      <td>0.489461</td>\n",
              "      <td>0.828792</td>\n",
              "      <td>2670.312454</td>\n",
              "      <td>2.718854</td>\n",
              "      <td>6.796392</td>\n",
              "      <td>3.216079</td>\n",
              "      <td>0.499658</td>\n",
              "      <td>1.436242</td>\n",
              "      <td>7.621024</td>\n",
              "      <td>1.363435</td>\n",
              "      <td>2.642788</td>\n",
              "      <td>0.412006</td>\n",
              "      <td>444.308436</td>\n",
              "      <td>0.510140</td>\n",
              "      <td>13.449082</td>\n",
              "      <td>7.363843e+04</td>\n",
              "      <td>1.530036</td>\n",
              "      <td>5.948697</td>\n",
              "      <td>2.724514</td>\n",
              "      <td>0.473805</td>\n",
              "      <td>1.065721</td>\n",
              "      <td>0.934061</td>\n",
              "      <td>6.710288</td>\n",
              "      <td>1.278221</td>\n",
              "      <td>0.146249</td>\n",
              "      <td>0.323391</td>\n",
              "      <td>0.207850</td>\n",
              "      <td>0.103028</td>\n",
              "      <td>0.194580</td>\n",
              "      <td>0.125252</td>\n",
              "      <td>0.388462</td>\n",
              "      <td>0.270284</td>\n",
              "      <td>0.163594</td>\n",
              "      <td>0.257682</td>\n",
              "      <td>0.340999</td>\n",
              "      <td>0.142766</td>\n",
              "      <td>0.107594</td>\n",
              "      <td>0.103457</td>\n",
              "      <td>0.455845</td>\n",
              "      <td>0.170546</td>\n",
              "      <td>0.159184</td>\n",
              "      <td>0.150613</td>\n",
              "      <td>0.094617</td>\n",
              "      <td>0.088423</td>\n",
              "      <td>0.214950</td>\n",
              "    </tr>\n",
              "    <tr>\n",
              "      <th>min</th>\n",
              "      <td>1.000000</td>\n",
              "      <td>1.000000</td>\n",
              "      <td>1.000000</td>\n",
              "      <td>1.000000</td>\n",
              "      <td>1.000000</td>\n",
              "      <td>1.000000</td>\n",
              "      <td>0.000000</td>\n",
              "      <td>1.000000</td>\n",
              "      <td>1.000000</td>\n",
              "      <td>1.000000</td>\n",
              "      <td>1.000000</td>\n",
              "      <td>1.000000</td>\n",
              "      <td>0.000000</td>\n",
              "      <td>1.000000</td>\n",
              "      <td>31.000000</td>\n",
              "      <td>0.000000</td>\n",
              "      <td>0.000000</td>\n",
              "      <td>0.000000</td>\n",
              "      <td>0.000000</td>\n",
              "      <td>-9.999000e+03</td>\n",
              "      <td>1.000000</td>\n",
              "      <td>1.000000</td>\n",
              "      <td>1.000000</td>\n",
              "      <td>0.000000</td>\n",
              "      <td>1.000000</td>\n",
              "      <td>1.000000</td>\n",
              "      <td>0.000000</td>\n",
              "      <td>1.000000</td>\n",
              "      <td>1.000000</td>\n",
              "      <td>1.000000</td>\n",
              "      <td>1.000000</td>\n",
              "      <td>1.000000</td>\n",
              "      <td>1.000000</td>\n",
              "      <td>1.000000</td>\n",
              "      <td>1.000000</td>\n",
              "      <td>1.000000</td>\n",
              "      <td>1.000000</td>\n",
              "      <td>1.000000</td>\n",
              "      <td>1.000000</td>\n",
              "      <td>1.000000</td>\n",
              "      <td>1.000000</td>\n",
              "      <td>1.000000</td>\n",
              "      <td>1.000000</td>\n",
              "      <td>1.000000</td>\n",
              "      <td>1.000000</td>\n",
              "      <td>1.000000</td>\n",
              "      <td>1.000000</td>\n",
              "      <td>1.000000</td>\n",
              "      <td>1.000000</td>\n",
              "    </tr>\n",
              "    <tr>\n",
              "      <th>25%</th>\n",
              "      <td>1.000000</td>\n",
              "      <td>3.000000</td>\n",
              "      <td>12.000000</td>\n",
              "      <td>22.000000</td>\n",
              "      <td>1.000000</td>\n",
              "      <td>1.000000</td>\n",
              "      <td>1740.000000</td>\n",
              "      <td>2.000000</td>\n",
              "      <td>7.000000</td>\n",
              "      <td>7.000000</td>\n",
              "      <td>1.000000</td>\n",
              "      <td>1.000000</td>\n",
              "      <td>0.000000</td>\n",
              "      <td>1.000000</td>\n",
              "      <td>39.000000</td>\n",
              "      <td>0.000000</td>\n",
              "      <td>0.000000</td>\n",
              "      <td>2.000000</td>\n",
              "      <td>36.000000</td>\n",
              "      <td>2.000000e+04</td>\n",
              "      <td>1.000000</td>\n",
              "      <td>7.000000</td>\n",
              "      <td>1.000000</td>\n",
              "      <td>0.000000</td>\n",
              "      <td>2.000000</td>\n",
              "      <td>1.000000</td>\n",
              "      <td>0.000000</td>\n",
              "      <td>1.000000</td>\n",
              "      <td>2.000000</td>\n",
              "      <td>2.000000</td>\n",
              "      <td>1.000000</td>\n",
              "      <td>2.000000</td>\n",
              "      <td>2.000000</td>\n",
              "      <td>2.000000</td>\n",
              "      <td>2.000000</td>\n",
              "      <td>2.000000</td>\n",
              "      <td>2.000000</td>\n",
              "      <td>2.000000</td>\n",
              "      <td>2.000000</td>\n",
              "      <td>2.000000</td>\n",
              "      <td>2.000000</td>\n",
              "      <td>2.000000</td>\n",
              "      <td>1.000000</td>\n",
              "      <td>2.000000</td>\n",
              "      <td>2.000000</td>\n",
              "      <td>2.000000</td>\n",
              "      <td>2.000000</td>\n",
              "      <td>2.000000</td>\n",
              "      <td>2.000000</td>\n",
              "    </tr>\n",
              "    <tr>\n",
              "      <th>50%</th>\n",
              "      <td>1.000000</td>\n",
              "      <td>5.000000</td>\n",
              "      <td>28.000000</td>\n",
              "      <td>37.000000</td>\n",
              "      <td>1.000000</td>\n",
              "      <td>1.000000</td>\n",
              "      <td>4110.000000</td>\n",
              "      <td>3.000000</td>\n",
              "      <td>14.000000</td>\n",
              "      <td>9.000000</td>\n",
              "      <td>1.000000</td>\n",
              "      <td>1.000000</td>\n",
              "      <td>0.000000</td>\n",
              "      <td>1.000000</td>\n",
              "      <td>40.000000</td>\n",
              "      <td>0.000000</td>\n",
              "      <td>0.000000</td>\n",
              "      <td>2.000000</td>\n",
              "      <td>40.000000</td>\n",
              "      <td>4.000000e+04</td>\n",
              "      <td>1.000000</td>\n",
              "      <td>13.000000</td>\n",
              "      <td>1.000000</td>\n",
              "      <td>0.000000</td>\n",
              "      <td>2.000000</td>\n",
              "      <td>2.000000</td>\n",
              "      <td>0.000000</td>\n",
              "      <td>1.000000</td>\n",
              "      <td>2.000000</td>\n",
              "      <td>2.000000</td>\n",
              "      <td>1.000000</td>\n",
              "      <td>2.000000</td>\n",
              "      <td>2.000000</td>\n",
              "      <td>2.000000</td>\n",
              "      <td>2.000000</td>\n",
              "      <td>2.000000</td>\n",
              "      <td>2.000000</td>\n",
              "      <td>2.000000</td>\n",
              "      <td>2.000000</td>\n",
              "      <td>2.000000</td>\n",
              "      <td>2.000000</td>\n",
              "      <td>2.000000</td>\n",
              "      <td>1.000000</td>\n",
              "      <td>2.000000</td>\n",
              "      <td>2.000000</td>\n",
              "      <td>2.000000</td>\n",
              "      <td>2.000000</td>\n",
              "      <td>2.000000</td>\n",
              "      <td>2.000000</td>\n",
              "    </tr>\n",
              "    <tr>\n",
              "      <th>75%</th>\n",
              "      <td>1.000000</td>\n",
              "      <td>8.000000</td>\n",
              "      <td>42.000000</td>\n",
              "      <td>41.000000</td>\n",
              "      <td>2.000000</td>\n",
              "      <td>1.000000</td>\n",
              "      <td>5610.000000</td>\n",
              "      <td>5.000000</td>\n",
              "      <td>17.000000</td>\n",
              "      <td>11.000000</td>\n",
              "      <td>2.000000</td>\n",
              "      <td>1.000000</td>\n",
              "      <td>0.000000</td>\n",
              "      <td>1.000000</td>\n",
              "      <td>43.000000</td>\n",
              "      <td>0.000000</td>\n",
              "      <td>0.000000</td>\n",
              "      <td>2.000000</td>\n",
              "      <td>40.000000</td>\n",
              "      <td>6.500000e+04</td>\n",
              "      <td>1.000000</td>\n",
              "      <td>16.000000</td>\n",
              "      <td>7.000000</td>\n",
              "      <td>0.000000</td>\n",
              "      <td>2.000000</td>\n",
              "      <td>3.000000</td>\n",
              "      <td>0.000000</td>\n",
              "      <td>3.000000</td>\n",
              "      <td>2.000000</td>\n",
              "      <td>2.000000</td>\n",
              "      <td>1.000000</td>\n",
              "      <td>2.000000</td>\n",
              "      <td>2.000000</td>\n",
              "      <td>2.000000</td>\n",
              "      <td>2.000000</td>\n",
              "      <td>2.000000</td>\n",
              "      <td>2.000000</td>\n",
              "      <td>2.000000</td>\n",
              "      <td>2.000000</td>\n",
              "      <td>2.000000</td>\n",
              "      <td>2.000000</td>\n",
              "      <td>2.000000</td>\n",
              "      <td>2.000000</td>\n",
              "      <td>2.000000</td>\n",
              "      <td>2.000000</td>\n",
              "      <td>2.000000</td>\n",
              "      <td>2.000000</td>\n",
              "      <td>2.000000</td>\n",
              "      <td>2.000000</td>\n",
              "    </tr>\n",
              "    <tr>\n",
              "      <th>max</th>\n",
              "      <td>3.000000</td>\n",
              "      <td>9.000000</td>\n",
              "      <td>56.000000</td>\n",
              "      <td>41.000000</td>\n",
              "      <td>3.000000</td>\n",
              "      <td>12.000000</td>\n",
              "      <td>9840.000000</td>\n",
              "      <td>10.000000</td>\n",
              "      <td>22.000000</td>\n",
              "      <td>17.000000</td>\n",
              "      <td>2.000000</td>\n",
              "      <td>26.000000</td>\n",
              "      <td>43.000000</td>\n",
              "      <td>5.000000</td>\n",
              "      <td>46.000000</td>\n",
              "      <td>1.000000</td>\n",
              "      <td>2885.000000</td>\n",
              "      <td>2.000000</td>\n",
              "      <td>99.000000</td>\n",
              "      <td>1.753999e+06</td>\n",
              "      <td>7.000000</td>\n",
              "      <td>23.000000</td>\n",
              "      <td>7.000000</td>\n",
              "      <td>2.000000</td>\n",
              "      <td>7.000000</td>\n",
              "      <td>5.000000</td>\n",
              "      <td>25.000000</td>\n",
              "      <td>4.000000</td>\n",
              "      <td>2.000000</td>\n",
              "      <td>2.000000</td>\n",
              "      <td>2.000000</td>\n",
              "      <td>2.000000</td>\n",
              "      <td>2.000000</td>\n",
              "      <td>2.000000</td>\n",
              "      <td>2.000000</td>\n",
              "      <td>2.000000</td>\n",
              "      <td>2.000000</td>\n",
              "      <td>2.000000</td>\n",
              "      <td>2.000000</td>\n",
              "      <td>2.000000</td>\n",
              "      <td>2.000000</td>\n",
              "      <td>2.000000</td>\n",
              "      <td>2.000000</td>\n",
              "      <td>2.000000</td>\n",
              "      <td>2.000000</td>\n",
              "      <td>2.000000</td>\n",
              "      <td>2.000000</td>\n",
              "      <td>2.000000</td>\n",
              "      <td>2.000000</td>\n",
              "    </tr>\n",
              "  </tbody>\n",
              "</table>\n",
              "</div>"
            ],
            "text/plain": [
              "           GTMETSTA         GEDIV  ...       FINC_WC      FINC_PEN\n",
              "count  88445.000000  88445.000000  ...  88445.000000  88445.000000\n",
              "mean       1.182011      5.461959  ...      1.992119      1.951439\n",
              "std        0.409897      2.547711  ...      0.088423      0.214950\n",
              "min        1.000000      1.000000  ...      1.000000      1.000000\n",
              "25%        1.000000      3.000000  ...      2.000000      2.000000\n",
              "50%        1.000000      5.000000  ...      2.000000      2.000000\n",
              "75%        1.000000      8.000000  ...      2.000000      2.000000\n",
              "max        3.000000      9.000000  ...      2.000000      2.000000\n",
              "\n",
              "[8 rows x 49 columns]"
            ]
          },
          "metadata": {},
          "execution_count": 33
        }
      ]
    },
    {
      "cell_type": "code",
      "metadata": {
        "colab": {
          "base_uri": "https://localhost:8080/"
        },
        "id": "3GHidHiifyiW",
        "outputId": "3f266cc9-1845-46fe-bfac-553776d7ca81"
      },
      "source": [
        "#See all column names\n",
        "asec_oes_final.columns"
      ],
      "execution_count": null,
      "outputs": [
        {
          "output_type": "execute_result",
          "data": {
            "text/plain": [
              "Index(['GTMETSTA', 'GEDIV', 'GESTFIPS', 'HHINC', 'H_TENURE', 'H_LIVQRT',\n",
              "       'OCCUP', 'A_MJOCC', 'A_DTOCC', 'AGE1', 'A_SEX', 'PRDTRACE', 'PXRACE1',\n",
              "       'PRCITSHP', 'A_HGA', 'PRERELG', 'A_GRSWK', 'HRCHECK', 'HRSWK',\n",
              "       'PEARNVAL', 'A_CLSWKR', 'WEIND', 'A_MARITL', 'A_HSCOL', 'A_WKSTAT',\n",
              "       'HEA', 'PEINUSYR', 'FKINDEX', 'FINC_FR', 'FINC_SE', 'FINC_WS',\n",
              "       'FINC_ANN', 'FINC_CSP', 'FINC_DIS', 'FINC_DIV', 'FINC_RNT', 'FINC_DST',\n",
              "       'FINC_ED', 'FINC_SS', 'FINC_SSI', 'FINC_FIN', 'FINC_SUR', 'FINC_INT',\n",
              "       'FINC_UC', 'FINC_OI', 'FINC_VET', 'FINC_PAW', 'FINC_WC', 'FINC_PEN'],\n",
              "      dtype='object')"
            ]
          },
          "metadata": {},
          "execution_count": 34
        }
      ]
    },
    {
      "cell_type": "markdown",
      "metadata": {
        "id": "SZVbwHyCfz_W"
      },
      "source": [
        "We are particularly interested in the column A_DTOCC, which indicates the detailed occupation codes grouped by industry, because this is the attributed we are interested in modeling. Theremore, some more EDA will be focused on this column."
      ]
    },
    {
      "cell_type": "code",
      "metadata": {
        "colab": {
          "base_uri": "https://localhost:8080/"
        },
        "id": "jfdgE6HRf3o3",
        "outputId": "8b3124d3-2165-4b6a-ba9a-5551e648ad70"
      },
      "source": [
        "#See unique values for target column, A_DTOCC\n",
        "asec_oes_final['A_DTOCC'].unique()"
      ],
      "execution_count": null,
      "outputs": [
        {
          "output_type": "execute_result",
          "data": {
            "text/plain": [
              "array([13, 15, 16, 19, 22, 12,  2, 17,  6, 10,  1, 21,  8, 20, 18, 14,  3,\n",
              "        4,  9, 11,  5,  7])"
            ]
          },
          "metadata": {},
          "execution_count": 35
        }
      ]
    },
    {
      "cell_type": "code",
      "metadata": {
        "colab": {
          "base_uri": "https://localhost:8080/"
        },
        "id": "YybDp1XWf5kW",
        "outputId": "f92268fd-50b8-42e2-9707-76ac534aca8c"
      },
      "source": [
        "#See frequency for the A_DTOCC column\n",
        "oc_freq = asec_oes_final['A_DTOCC'].value_counts(ascending=True)\n",
        "oc_freq"
      ],
      "execution_count": null,
      "outputs": [
        {
          "output_type": "execute_result",
          "data": {
            "text/plain": [
              "18      871\n",
              "5       881\n",
              "7      1027\n",
              "6      1586\n",
              "12     1670\n",
              "4      1754\n",
              "9      1773\n",
              "11     2109\n",
              "3      2682\n",
              "20     2693\n",
              "15     3479\n",
              "14     3531\n",
              "2      4236\n",
              "19     4931\n",
              "21     4964\n",
              "13     5124\n",
              "10     5204\n",
              "22     5576\n",
              "8      5638\n",
              "16     8564\n",
              "17     9913\n",
              "1     10239\n",
              "Name: A_DTOCC, dtype: int64"
            ]
          },
          "metadata": {},
          "execution_count": 36
        }
      ]
    },
    {
      "cell_type": "code",
      "metadata": {
        "colab": {
          "base_uri": "https://localhost:8080/"
        },
        "id": "q-I9je6Sf7nq",
        "outputId": "7214e372-080c-46c5-d5f0-689472d7ff30"
      },
      "source": [
        "#See percentages for the A_DTOCC column\n",
        "asec_oes_final['A_DTOCC'].value_counts(ascending=True, normalize=True)"
      ],
      "execution_count": null,
      "outputs": [
        {
          "output_type": "execute_result",
          "data": {
            "text/plain": [
              "18    0.009848\n",
              "5     0.009961\n",
              "7     0.011612\n",
              "6     0.017932\n",
              "12    0.018882\n",
              "4     0.019832\n",
              "9     0.020046\n",
              "11    0.023845\n",
              "3     0.030324\n",
              "20    0.030448\n",
              "15    0.039335\n",
              "14    0.039923\n",
              "2     0.047894\n",
              "19    0.055752\n",
              "21    0.056125\n",
              "13    0.057934\n",
              "10    0.058839\n",
              "22    0.063045\n",
              "8     0.063746\n",
              "16    0.096829\n",
              "17    0.112081\n",
              "1     0.115767\n",
              "Name: A_DTOCC, dtype: float64"
            ]
          },
          "metadata": {},
          "execution_count": 37
        }
      ]
    },
    {
      "cell_type": "markdown",
      "metadata": {
        "id": "x7MXewkff-Ep"
      },
      "source": [
        "##Plots"
      ]
    },
    {
      "cell_type": "markdown",
      "metadata": {
        "id": "bZV-8fWrgCCS"
      },
      "source": [
        "###Correlation\n",
        "Correlation is only appropriate for continuous variables, so we'll create a subset of variables to evaluate using this method. "
      ]
    },
    {
      "cell_type": "code",
      "metadata": {
        "colab": {
          "base_uri": "https://localhost:8080/",
          "height": 658
        },
        "id": "SSjZZbeSgBos",
        "outputId": "90c742d6-9d51-4be2-9b64-23b89fbaef73"
      },
      "source": [
        "# Correlation plot\n",
        "correlation_df = asec_oes_final.filter(items=['A_GRSWK', 'HRSWK', 'PEARNVAL'], axis=1)\n",
        "\n",
        "plt.figure(figsize=(30,15))\n",
        "correlation_matrix = correlation_df.corr().round(2)\n",
        "sns.heatmap(data=correlation_matrix, annot=True, cmap='Blues')"
      ],
      "execution_count": null,
      "outputs": [
        {
          "output_type": "execute_result",
          "data": {
            "text/plain": [
              "<matplotlib.axes._subplots.AxesSubplot at 0x7fd114fa3690>"
            ]
          },
          "metadata": {},
          "execution_count": 38
        },
        {
          "output_type": "display_data",
          "data": {
            "image/png": "[encoded data removed]",
            "text/plain": [
              "<Figure size 2160x1080 with 2 Axes>"
            ]
          },
          "metadata": {
            "needs_background": "light"
          }
        }
      ]
    },
    {
      "cell_type": "code",
      "metadata": {
        "colab": {
          "base_uri": "https://localhost:8080/"
        },
        "id": "vgitj4SfgHeK",
        "outputId": "40840c22-22d3-4561-b11d-7570ce4b8e86"
      },
      "source": [
        "# Numerically looking at the correlations\n",
        "corrs = correlation_df.corr().round(2).unstack().abs()\n",
        "corrs = corrs[corrs < 1]\n",
        "corrs.sort_values(ascending = False)"
      ],
      "execution_count": null,
      "outputs": [
        {
          "output_type": "execute_result",
          "data": {
            "text/plain": [
              "PEARNVAL  HRSWK       0.31\n",
              "HRSWK     PEARNVAL    0.31\n",
              "PEARNVAL  A_GRSWK     0.13\n",
              "A_GRSWK   PEARNVAL    0.13\n",
              "HRSWK     A_GRSWK     0.10\n",
              "A_GRSWK   HRSWK       0.10\n",
              "dtype: float64"
            ]
          },
          "metadata": {},
          "execution_count": 39
        }
      ]
    },
    {
      "cell_type": "markdown",
      "metadata": {
        "id": "8M0Cnp2VgJTl"
      },
      "source": [
        "None of these predictors appear to be highly correlated."
      ]
    },
    {
      "cell_type": "markdown",
      "metadata": {
        "id": "DRt-nXDKgMFe"
      },
      "source": [
        "###Boxplots\n",
        "We use boxplots to visualize the categorical variabe of occupational code against several continuous variables, including weekly earnings, total person's earnings, and weekly hours."
      ]
    },
    {
      "cell_type": "code",
      "metadata": {
        "colab": {
          "base_uri": "https://localhost:8080/",
          "height": 978
        },
        "id": "4IlPgRnZgWGO",
        "outputId": "ec521282-50ad-43ec-a95d-111af4e7d3b1"
      },
      "source": [
        "sns.catplot(x=\"A_DTOCC\", y=\"HRSWK\", kind=\"box\", data=asec_oes_final, height=13)\n",
        "plt.title('Weekly Hours Worked vs Coded Occupation')"
      ],
      "execution_count": null,
      "outputs": [
        {
          "output_type": "execute_result",
          "data": {
            "text/plain": [
              "Text(0.5, 1.0, 'Weekly Hours Worked vs Coded Occupation')"
            ]
          },
          "metadata": {},
          "execution_count": 40
        },
        {
          "output_type": "display_data",
          "data": {
            "image/png": "[encoded data removed]",
            "text/plain": [
              "<Figure size 936x936 with 1 Axes>"
            ]
          },
          "metadata": {
            "needs_background": "light"
          }
        }
      ]
    },
    {
      "cell_type": "markdown",
      "metadata": {
        "id": "zme17FuhgpqF"
      },
      "source": [
        "##Reflection\n",
        "The data are not normally distributed, but do show some interesting trends between our variables of interest (sex, occupational group, race, hours worked, etc). Depending on the model implemented, we may need to return to EDA to explicitly check assumptions for the model."
      ]
    },
    {
      "cell_type": "markdown",
      "metadata": {
        "id": "MK6RwwzNampl"
      },
      "source": [
        "# Data Processing / Models\n"
      ]
    },
    {
      "cell_type": "markdown",
      "metadata": {
        "id": "SyCuxTz7254I"
      },
      "source": [
        "##Pre-processing: Balancing Classes - Ellie\n",
        "Because we're interested in predicting the occupation code of an individual based on their demographic data, it will be important to ensure all of our classes have equal representation in our training model. As it stands, our classes 1-22 range from a minimum of 871 observations (class 18) to a maximum of 10239 (class 1). To balance these classes, we'll randomly undersample all classes besides our minimum class. Depending on how well our model performs with the undersampled data, this method may need to be re-visited. "
      ]
    },
    {
      "cell_type": "code",
      "metadata": {
        "colab": {
          "base_uri": "https://localhost:8080/"
        },
        "id": "Nu9k1BgK4jiB",
        "outputId": "97f9def7-c6f2-47ae-f683-59dfcf7580dc"
      },
      "source": [
        "#undersampling using RandomUnderSampler\n",
        "\n",
        "#Initialize random sampler\n",
        "rus = RandomUnderSampler(random_state=0)\n",
        "\n",
        "#Sampling\n",
        "X_undersampled, y_undersampled = rus.fit_resample(asec_oes_final, asec_oes_final['A_DTOCC'])\n",
        "print(sorted(Counter(y_undersampled).items()))"
      ],
      "execution_count": null,
      "outputs": [
        {
          "output_type": "stream",
          "name": "stdout",
          "text": [
            "[(1, 871), (2, 871), (3, 871), (4, 871), (5, 871), (6, 871), (7, 871), (8, 871), (9, 871), (10, 871), (11, 871), (12, 871), (13, 871), (14, 871), (15, 871), (16, 871), (17, 871), (18, 871), (19, 871), (20, 871), (21, 871), (22, 871)]\n"
          ]
        },
        {
          "output_type": "stream",
          "name": "stderr",
          "text": [
            "/usr/local/lib/python3.7/dist-packages/sklearn/utils/deprecation.py:87: FutureWarning: Function safe_indexing is deprecated; safe_indexing is deprecated in version 0.22 and will be removed in version 0.24.\n",
            "  warnings.warn(msg, category=FutureWarning)\n"
          ]
        }
      ]
    },
    {
      "cell_type": "code",
      "metadata": {
        "colab": {
          "base_uri": "https://localhost:8080/"
        },
        "id": "GOhv8ocpFXlk",
        "outputId": "4d75f1b5-6a36-4be7-a7d0-81bf5f274eff"
      },
      "source": [
        "#over-sampling with RandomOverSampler\n",
        "ros = RandomOverSampler()\n",
        "X_oversampled, y_oversampled = ros.fit_resample(asec_oes_final, asec_oes_final['A_DTOCC'])\n",
        "print(sorted(Counter(y_oversampled).items()))"
      ],
      "execution_count": null,
      "outputs": [
        {
          "output_type": "stream",
          "name": "stderr",
          "text": [
            "/usr/local/lib/python3.7/dist-packages/sklearn/utils/deprecation.py:87: FutureWarning: Function safe_indexing is deprecated; safe_indexing is deprecated in version 0.22 and will be removed in version 0.24.\n",
            "  warnings.warn(msg, category=FutureWarning)\n"
          ]
        },
        {
          "output_type": "stream",
          "name": "stdout",
          "text": [
            "[(1, 10239), (2, 10239), (3, 10239), (4, 10239), (5, 10239), (6, 10239), (7, 10239), (8, 10239), (9, 10239), (10, 10239), (11, 10239), (12, 10239), (13, 10239), (14, 10239), (15, 10239), (16, 10239), (17, 10239), (18, 10239), (19, 10239), (20, 10239), (21, 10239), (22, 10239)]\n"
          ]
        }
      ]
    },
    {
      "cell_type": "markdown",
      "metadata": {
        "id": "K6Ip-BSPuVaO"
      },
      "source": [
        "## Random Forest - Amy"
      ]
    },
    {
      "cell_type": "code",
      "metadata": {
        "id": "JpWzcYqzudvB"
      },
      "source": [
        "#Convert evenly sampled array to df\n",
        "rfc_df = pd.DataFrame(X_oversampled, columns=asec_oes_final.columns, dtype=float)\n",
        "\n",
        "# Separating data into training and testing sets\n",
        "rfc_X = rfc_df.drop(['A_DTOCC', 'OCCUP', 'A_MJOCC'], axis = 1).copy()\n",
        "rfc_y = rfc_df['A_DTOCC']\n",
        "\n",
        "X_train, X_test, y_train, y_test = train_test_split(rfc_X, rfc_y, test_size = 0.2, random_state=4)"
      ],
      "execution_count": null,
      "outputs": []
    },
    {
      "cell_type": "code",
      "metadata": {
        "id": "r8ewqPMRumYD",
        "colab": {
          "base_uri": "https://localhost:8080/"
        },
        "outputId": "2f913879-7716-4b49-d322-584eabbfae2e"
      },
      "source": [
        "# Creating a model and cross validating over it multiple times to see how many forest will be best to use\n",
        "num_trees = range(10,101,10)\n",
        "cv_loops = 5\n",
        "results = np.zeros(len(num_trees))\n",
        "for n, trees in enumerate(num_trees):\n",
        "  accuracy_cv = np.zeros(cv_loops)\n",
        "  for i in range(cv_loops):\n",
        "    X_train, X_test, y_train, y_test = train_test_split(rfc_X,rfc_y,test_size=0.20)\n",
        "\n",
        "    rfModel = RandomForestClassifier(n_estimators=trees, random_state=0)\n",
        "    rfModel.fit(X_train, y_train)\n",
        "    y_pred_rf = rfModel.predict(X_test)\n",
        "\n",
        "    predictions = [round(value) for value in y_pred_rf]\n",
        "    accuracy = accuracy_score(y_test, predictions)\n",
        "    accuracy_cv[i] = accuracy\n",
        "\n",
        "  print(trees,' trees finished.')\n",
        "  print(accuracy_cv.mean())"
      ],
      "execution_count": null,
      "outputs": [
        {
          "output_type": "stream",
          "name": "stdout",
          "text": [
            "10  trees finished.\n",
            "0.8592826067655155\n",
            "20  trees finished.\n",
            "0.8692843824913433\n",
            "30  trees finished.\n",
            "0.8747269821539554\n",
            "40  trees finished.\n",
            "0.8745849240877208\n",
            "50  trees finished.\n",
            "0.8779055313859541\n",
            "60  trees finished.\n",
            "0.877878895498535\n",
            "70  trees finished.\n",
            "0.8786247003462666\n",
            "80  trees finished.\n",
            "0.8794948060019532\n",
            "90  trees finished.\n",
            "0.8793438693065792\n",
            "100  trees finished.\n",
            "0.8798277545946906\n"
          ]
        }
      ]
    },
    {
      "cell_type": "code",
      "metadata": {
        "id": "c3QcwX0yuqyg",
        "colab": {
          "base_uri": "https://localhost:8080/"
        },
        "outputId": "1517f7bc-f111-46c3-dee9-552a1eb2f35a"
      },
      "source": [
        "# Re-running the RF model with the suggest number of trees\n",
        "numLoops = 5\n",
        "\n",
        "result = np.zeros(numLoops)\n",
        "\n",
        "for idx in range(0,numLoops):\n",
        "  X_train, X_test, y_train, y_test = train_test_split(rfc_X,rfc_y,test_size=0.2)\n",
        "  model = RandomForestClassifier(n_estimators = 40, random_state=0) \n",
        "  model.fit(X_train,y_train)\n",
        "  y_pred_rf = model.predict(X_test)\n",
        "\n",
        "  predictions = [round(value) for value in y_pred_rf]\n",
        "  accuracy = accuracy_score(y_test, predictions)\n",
        "  accuracy_cv[i] = accuracy\n",
        "print(accuracy_cv.mean())"
      ],
      "execution_count": null,
      "outputs": [
        {
          "output_type": "stream",
          "name": "stdout",
          "text": [
            "0.8783450235283672\n"
          ]
        }
      ]
    },
    {
      "cell_type": "code",
      "metadata": {
        "id": "N1DnbBJsuogR",
        "colab": {
          "base_uri": "https://localhost:8080/",
          "height": 843
        },
        "outputId": "76ec3a37-acf0-443e-8a37-c7d9312c9615"
      },
      "source": [
        "#Confusion matrix for random forest results\n",
        "plt.figure(figsize=(14,36))\n",
        "mat = metrics.confusion_matrix(y_test,y_pred_rf)\n",
        "sns.heatmap(mat.T, square=True, annot=True, fmt='d', cbar=False,\n",
        "            xticklabels=range(1,23), yticklabels=range(1,23))\n",
        "plt.xlabel('Known')\n",
        "plt.ylabel('Predicted');"
      ],
      "execution_count": null,
      "outputs": [
        {
          "output_type": "display_data",
          "data": {
            "image/png": "[encoded data removed]",
            "text/plain": [
              "<Figure size 1008x2592 with 1 Axes>"
            ]
          },
          "metadata": {
            "needs_background": "light"
          }
        }
      ]
    },
    {
      "cell_type": "code",
      "metadata": {
        "colab": {
          "base_uri": "https://localhost:8080/"
        },
        "id": "M3kdNO8vMIly",
        "outputId": "4a4dc334-74a6-445d-b98a-69d242376aa2"
      },
      "source": [
        "# Classification report for random forest results.\n",
        "labels = list(map(str, range(1,23)))\n",
        "classification_result = classification_report(y_test, y_pred_rf, target_names=labels)\n",
        "print(classification_result)"
      ],
      "execution_count": null,
      "outputs": [
        {
          "output_type": "stream",
          "name": "stdout",
          "text": [
            "              precision    recall  f1-score   support\n",
            "\n",
            "           1       0.59      0.34      0.44      2051\n",
            "           2       0.83      0.86      0.85      2062\n",
            "           3       0.89      0.97      0.93      1990\n",
            "           4       0.94      1.00      0.97      2066\n",
            "           5       0.98      1.00      0.99      1980\n",
            "           6       0.95      1.00      0.97      2072\n",
            "           7       0.98      1.00      0.99      2069\n",
            "           8       0.86      0.93      0.89      2042\n",
            "           9       0.94      0.99      0.97      2029\n",
            "          10       0.86      0.88      0.87      2066\n",
            "          11       0.91      0.99      0.94      2070\n",
            "          12       0.94      1.00      0.97      2065\n",
            "          13       0.80      0.91      0.85      2003\n",
            "          14       0.89      0.94      0.91      2114\n",
            "          15       0.90      0.94      0.92      2027\n",
            "          16       0.67      0.54      0.60      2094\n",
            "          17       0.55      0.34      0.42      1999\n",
            "          18       0.98      1.00      0.99      2005\n",
            "          19       0.89      0.94      0.92      2058\n",
            "          20       0.90      0.97      0.93      2037\n",
            "          21       0.87      0.88      0.88      2114\n",
            "          22       0.80      0.79      0.80      2039\n",
            "\n",
            "    accuracy                           0.87     45052\n",
            "   macro avg       0.86      0.87      0.86     45052\n",
            "weighted avg       0.86      0.87      0.86     45052\n",
            "\n"
          ]
        }
      ]
    },
    {
      "cell_type": "code",
      "metadata": {
        "id": "onFyHjjhutVI"
      },
      "source": [
        "# Visualization for the Random Forest\n",
        "# display(graphviz.Source(tree.export_graphviz(rfModel.estimators_[0], feature_names=X.columns)))"
      ],
      "execution_count": null,
      "outputs": []
    },
    {
      "cell_type": "code",
      "metadata": {
        "id": "W89bcIB1uvKM",
        "colab": {
          "base_uri": "https://localhost:8080/",
          "height": 326
        },
        "outputId": "6bf2d6e4-212b-4ce7-e3a5-557163e723a5"
      },
      "source": [
        "importances = rfModel.feature_importances_\n",
        "forest_importances = pd.Series(importances, index=X_train.columns)\n",
        "\n",
        "plt.figure(figsize= (20,10))\n",
        "forest_importances.plot.bar()\n",
        "plt.ylabel(\"Feature Importance Score\")\n",
        "\n",
        "feat_imp = pd.Series(xgbc.feature_importances_, index=X_xgb.columns)\n",
        "plt.figure(figsize = (10,6))\n",
        "ax = sns.barplot(x = feat_imp.index, y = feat_imp.values)\n",
        "ax.set_xticklabels(ax.get_xticklabels(),rotation = 90)\n",
        "plt.xlabel('Feature')\n",
        "plt.ylabel('Feature Importance Score')"
      ],
      "execution_count": null,
      "outputs": [
        {
          "output_type": "execute_result",
          "data": {
            "text/plain": [
              "Text(0, 0.5, 'Feature Importance Score')"
            ]
          },
          "metadata": {},
          "execution_count": 61
        },
        {
          "output_type": "display_data",
          "data": {
            "image/png": "[encoded data removed]",
            "text/plain": [
              "<Figure size 432x288 with 1 Axes>"
            ]
          },
          "metadata": {
            "needs_background": "light"
          }
        }
      ]
    },
    {
      "cell_type": "markdown",
      "metadata": {
        "id": "_EE_HuB6ukGJ"
      },
      "source": [
        "## XG Boost - Ellie"
      ]
    },
    {
      "cell_type": "code",
      "metadata": {
        "id": "GEvgY4QZvsV7",
        "colab": {
          "base_uri": "https://localhost:8080/",
          "height": 843
        },
        "outputId": "1af85240-631a-4cdc-f3d6-6a02360ca38e"
      },
      "source": [
        "#Convert evenly sampled array to df\n",
        "xgb_df = pd.DataFrame(X_oversampled, columns=asec_oes_final.columns, dtype=float)\n",
        "\n",
        "#Drop unneeded columns\n",
        "xgb_df.drop(['OCCUP'], axis=1, inplace=True)\n",
        "\n",
        "#Define data and target sets\n",
        "X_xgb = xgb_df.copy()\n",
        "Y_xgb = xgb_df['A_DTOCC']\n",
        "\n",
        "#Drop target variable from dataset\n",
        "X_xgb.drop(['A_DTOCC', 'A_MJOCC'], axis=1, inplace=True)\n",
        "\n",
        "#Initialize model\n",
        "numLoops = 1\n",
        "mse_xgb  = np.zeros(numLoops)\n",
        "\n",
        "for idx in range(0,numLoops):\n",
        "  X_train_xgb, X_test_xgb, y_train_xgb, y_test_xgb = train_test_split(X_xgb,Y_xgb,test_size=0.15)\n",
        "  xgbc = xgb.XGBClassifier(objective ='multi:softmax', verbosity=0, seed = 10)\n",
        "  xgbc.fit(X_train_xgb,y_train_xgb)\n",
        "  y_pred_xgb = xgbc.predict(X_test_xgb)\n",
        "\n",
        "#Confusion matrix for XGB results\n",
        "plt.figure(figsize=(14,36))\n",
        "mat = metrics.confusion_matrix(y_test_xgb,y_pred_xgb)\n",
        "sns.heatmap(mat.T, square=True, annot=True, fmt='d', cbar=False,\n",
        "            xticklabels=range(1,23), yticklabels=range(1,23))\n",
        "plt.xlabel('true label')\n",
        "plt.ylabel('predicted label');"
      ],
      "execution_count": null,
      "outputs": [
        {
          "output_type": "display_data",
          "data": {
            "image/png": "[encoded data removed]",
            "text/plain": [
              "<Figure size 1008x2592 with 1 Axes>"
            ]
          },
          "metadata": {
            "needs_background": "light"
          }
        }
      ]
    },
    {
      "cell_type": "code",
      "metadata": {
        "id": "HGRYJ8caJ39Q"
      },
      "source": [
        "# Classification Report for XG Boost\n",
        "labels = list(map(str, range(1,23)))\n",
        "classification_result = classification_report(y_test_xgb, y_pred_xgb, target_names=labels)\n",
        "print(classification_result)"
      ],
      "execution_count": null,
      "outputs": []
    },
    {
      "cell_type": "code",
      "metadata": {
        "id": "CGDJNycV_1xm"
      },
      "source": [
        "#NOTE: Not working, ran for 18 minutes then failed. Too large of a dataset?\n",
        "\n",
        "#XGB testing parameters\n",
        "param_test = {\n",
        " 'max_depth':[3,4,5,6,7],\n",
        " 'learning_rate' : [0.1, 0.2, 0.3, 0.4], \n",
        " 'n_estimators': [20,40,60,80,100,120,140],\n",
        "}\n",
        "\n",
        "# Perform the grid search\n",
        "gsearch = GridSearchCV(estimator = xgb.XGBClassifier(objective = 'multi:softmax', seed = 10), \n",
        " param_grid = param_test, scoring='accuracy', cv=5)\n",
        "\n",
        "# Fit to training data \n",
        "X_train, X_test, y_train, y_test = train_test_split(X_xgb,Y_xgb,test_size=0.05)\n",
        "model = gsearch.fit(X_train,y_train)\n",
        "\n",
        "# See grid search results\n",
        "print(model.best_params_)"
      ],
      "execution_count": null,
      "outputs": []
    },
    {
      "cell_type": "markdown",
      "metadata": {
        "id": "Md1DnQZTN6gA"
      },
      "source": [
        "I'm wondering if one way to address the model's poor accuracy for some classes is to remove some of the advanced occupation codes. Perhaps we could try the model again after removing class 5 (Life, physical, and social science occupations)?"
      ]
    },
    {
      "cell_type": "code",
      "metadata": {
        "id": "M_2_mIOiN99p"
      },
      "source": [
        "#Determine feature importance\n",
        "\n",
        "feat_imp = pd.Series(xgbc.feature_importances_, index=X_xgb.columns)\n",
        "plt.figure(figsize = (10,6))\n",
        "ax = sns.barplot(x = feat_imp.index, y = feat_imp.values)\n",
        "ax.set_xticklabels(ax.get_xticklabels(),rotation = 90)\n",
        "plt.xlabel('Feature')\n",
        "plt.ylabel('Feature Importance Score')"
      ],
      "execution_count": null,
      "outputs": []
    },
    {
      "cell_type": "markdown",
      "metadata": {
        "id": "0cSxlk9NOCcX"
      },
      "source": [
        "Important features include \n",
        "- A_MJOCC : Major occupation recode (this seems like a type of duplicate of our target variable, A_DTCC? Not sure this should be included in our dataset)\n",
        "- WEIND : index of longest job by detailed codes (this also seems like a duplicate, not sure this should be included)\n",
        "- A_HGA : Education Attainment\n",
        "- A_SEX : Sex\n",
        "- HRCHECK : Employed full or part time"
      ]
    },
    {
      "cell_type": "markdown",
      "metadata": {
        "id": "UDLQw48gaxPv"
      },
      "source": [
        "# Data Visualization and Results - MS-5 - Nov 19"
      ]
    },
    {
      "cell_type": "markdown",
      "metadata": {
        "id": "gUD7CFtATZQd"
      },
      "source": [
        "# Presentation and Conclusions - Final - Dec 3\n",
        "\n"
      ]
    },
    {
      "cell_type": "markdown",
      "metadata": {
        "id": "9NWc0bP5Yj4r"
      },
      "source": [
        ""
      ]
    }
  ]
}