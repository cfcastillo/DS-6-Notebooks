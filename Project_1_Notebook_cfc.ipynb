{
  "nbformat": 4,
  "nbformat_minor": 0,
  "metadata": {
    "colab": {
      "name": "Project 1 Notebook - cfc.ipynb",
      "provenance": [],
      "collapsed_sections": [],
      "toc_visible": true,
      "authorship_tag": "ABX9TyPm6ZOISPixZuK/TdJ6O/No",
      "include_colab_link": true
    },
    "kernelspec": {
      "display_name": "Python 3",
      "name": "python3"
    },
    "language_info": {
      "name": "python"
    }
  },
  "cells": [
    {
      "cell_type": "markdown",
      "metadata": {
        "id": "view-in-github",
        "colab_type": "text"
      },
      "source": [
        "<a href=\"https://colab.research.google.com/github/cfcastillo/DS-stamp-prices/blob/main/Project_1_Notebook_cfc.ipynb\" target=\"_parent\"><img src=\"https://colab.research.google.com/assets/colab-badge.svg\" alt=\"Open In Colab\"/></a>"
      ]
    },
    {
      "cell_type": "markdown",
      "metadata": {
        "id": "SbEiErkqR_vN"
      },
      "source": [
        "# Problem Definition\n",
        "\n",
        "The purpose of this project is to predict whether or not a future customer will make a transaction based on their historical transaction data. This is a supervised binary classification problem because the results predict if a customer will or will not buy something in the future based on their past purchase history. \n",
        "\n",
        "The project requirements state that this analysis should use Gaussian Naive Bayes classification. The first part of the project analyzed the data to see if the data met the requirements for a Gaussian Naive Bayes Classification problem:\n",
        "1. Predictor variables are normally distributed\n",
        "1. Predictor variables are independent showing low correlation.\n",
        "Once the data was deemed suitable for a Gaussian Naive Bayes classification, then models using training and testing subsets were derived using both skewed and even subsets.\n",
        "\n",
        "[TODO] finish problem definition"
      ]
    },
    {
      "cell_type": "markdown",
      "metadata": {
        "id": "spR7ebMvSDHw"
      },
      "source": [
        "# Data Collection/Sources\n",
        "\n",
        "Data was provided by the instructor in a single comma-delimited text file called Train.csv located on a Google Drive.\n"
      ]
    },
    {
      "cell_type": "markdown",
      "metadata": {
        "id": "7BQ6JNBiVQzf"
      },
      "source": [
        "## Imports"
      ]
    },
    {
      "cell_type": "code",
      "metadata": {
        "id": "sELTF4Q6Vqc3"
      },
      "source": [
        "import pandas as pd\n",
        "import matplotlib.pyplot as plt\n",
        "import numpy as np\n",
        "import seaborn as sns\n",
        "\n",
        "from sklearn import datasets\n",
        "from sklearn import metrics\n",
        "from sklearn.naive_bayes import GaussianNB\n",
        "from sklearn.naive_bayes import MultinomialNB\n",
        "from sklearn import preprocessing\n",
        "from sklearn.metrics import classification_report\n",
        "import sklearn.model_selection as model_selection"
      ],
      "execution_count": 117,
      "outputs": []
    },
    {
      "cell_type": "markdown",
      "metadata": {
        "id": "iwDto4SiVZbb"
      },
      "source": [
        "## Load Data\n"
      ]
    },
    {
      "cell_type": "code",
      "metadata": {
        "colab": {
          "base_uri": "https://localhost:8080/"
        },
        "id": "f8264tQ2WLUB",
        "outputId": "1c96aff5-a047-4f6d-85c5-71d293bb0191"
      },
      "source": [
        "# Mount Drive\n",
        "from google.colab import drive\n",
        "drive.mount('/drive')"
      ],
      "execution_count": 118,
      "outputs": [
        {
          "output_type": "stream",
          "text": [
            "Drive already mounted at /drive; to attempt to forcibly remount, call drive.mount(\"/drive\", force_remount=True).\n"
          ],
          "name": "stdout"
        }
      ]
    },
    {
      "cell_type": "code",
      "metadata": {
        "id": "ACOSS0uzWRhp"
      },
      "source": [
        "# Load Data\n",
        "train_path = '/drive/My Drive/Cohort_6/Projects/Project 1/Data/Train.csv'\n",
        "train_data = pd.read_csv(train_path)"
      ],
      "execution_count": 119,
      "outputs": []
    },
    {
      "cell_type": "markdown",
      "metadata": {
        "id": "-cccToNgSF6L"
      },
      "source": [
        "# Data Cleaning and Inspection\n",
        "\n",
        "Columns that were not predictor columns were dropped. The target column contained the expected values of 1 and 0 and no nulls wer present. So no further data cleaning was necessary."
      ]
    },
    {
      "cell_type": "code",
      "metadata": {
        "colab": {
          "base_uri": "https://localhost:8080/",
          "height": 238
        },
        "id": "427gj5CMW4qn",
        "outputId": "da1e8aa1-9adb-4912-e49d-a0abfadf96a8"
      },
      "source": [
        "# Examine sample data to understand data set\n",
        "train_data.head()"
      ],
      "execution_count": 120,
      "outputs": [
        {
          "output_type": "execute_result",
          "data": {
            "text/html": [
              "<div>\n",
              "<style scoped>\n",
              "    .dataframe tbody tr th:only-of-type {\n",
              "        vertical-align: middle;\n",
              "    }\n",
              "\n",
              "    .dataframe tbody tr th {\n",
              "        vertical-align: top;\n",
              "    }\n",
              "\n",
              "    .dataframe thead th {\n",
              "        text-align: right;\n",
              "    }\n",
              "</style>\n",
              "<table border=\"1\" class=\"dataframe\">\n",
              "  <thead>\n",
              "    <tr style=\"text-align: right;\">\n",
              "      <th></th>\n",
              "      <th>Unnamed: 0</th>\n",
              "      <th>ID_code</th>\n",
              "      <th>target</th>\n",
              "      <th>var_0</th>\n",
              "      <th>var_1</th>\n",
              "      <th>var_2</th>\n",
              "      <th>var_3</th>\n",
              "      <th>var_4</th>\n",
              "      <th>var_5</th>\n",
              "      <th>var_6</th>\n",
              "      <th>var_7</th>\n",
              "      <th>var_8</th>\n",
              "      <th>var_9</th>\n",
              "      <th>var_10</th>\n",
              "      <th>var_11</th>\n",
              "      <th>var_12</th>\n",
              "      <th>var_13</th>\n",
              "      <th>var_14</th>\n",
              "      <th>var_15</th>\n",
              "      <th>var_16</th>\n",
              "      <th>var_17</th>\n",
              "      <th>var_18</th>\n",
              "      <th>var_19</th>\n",
              "      <th>var_20</th>\n",
              "      <th>var_21</th>\n",
              "      <th>var_22</th>\n",
              "      <th>var_23</th>\n",
              "      <th>var_24</th>\n",
              "      <th>var_25</th>\n",
              "      <th>var_26</th>\n",
              "      <th>var_27</th>\n",
              "      <th>var_28</th>\n",
              "      <th>var_29</th>\n",
              "      <th>var_30</th>\n",
              "      <th>var_31</th>\n",
              "      <th>var_32</th>\n",
              "      <th>var_33</th>\n",
              "      <th>var_34</th>\n",
              "      <th>var_35</th>\n",
              "      <th>var_36</th>\n",
              "      <th>var_37</th>\n",
              "      <th>var_38</th>\n",
              "      <th>var_39</th>\n",
              "      <th>var_40</th>\n",
              "      <th>var_41</th>\n",
              "      <th>var_42</th>\n",
              "      <th>var_43</th>\n",
              "      <th>var_44</th>\n",
              "      <th>var_45</th>\n",
              "      <th>var_46</th>\n",
              "      <th>var_47</th>\n",
              "      <th>var_48</th>\n",
              "      <th>var_49</th>\n",
              "    </tr>\n",
              "  </thead>\n",
              "  <tbody>\n",
              "    <tr>\n",
              "      <th>0</th>\n",
              "      <td>0</td>\n",
              "      <td>train_0</td>\n",
              "      <td>0</td>\n",
              "      <td>8.9255</td>\n",
              "      <td>-6.7863</td>\n",
              "      <td>11.9081</td>\n",
              "      <td>5.1187</td>\n",
              "      <td>5.7470</td>\n",
              "      <td>14.0137</td>\n",
              "      <td>0.5745</td>\n",
              "      <td>4.2840</td>\n",
              "      <td>16.2191</td>\n",
              "      <td>2.5791</td>\n",
              "      <td>-5.1488</td>\n",
              "      <td>16.8911</td>\n",
              "      <td>11.1920</td>\n",
              "      <td>-5.2387</td>\n",
              "      <td>11.6418</td>\n",
              "      <td>5.1736</td>\n",
              "      <td>22.4321</td>\n",
              "      <td>-2.3440</td>\n",
              "      <td>6.5199</td>\n",
              "      <td>13.6468</td>\n",
              "      <td>13.8372</td>\n",
              "      <td>9.3225</td>\n",
              "      <td>11.0924</td>\n",
              "      <td>14.8421</td>\n",
              "      <td>-3.4132</td>\n",
              "      <td>14.1104</td>\n",
              "      <td>24.3627</td>\n",
              "      <td>2.0323</td>\n",
              "      <td>1.5093</td>\n",
              "      <td>0.8897</td>\n",
              "      <td>6.5674</td>\n",
              "      <td>15.6599</td>\n",
              "      <td>11.5659</td>\n",
              "      <td>-16.4727</td>\n",
              "      <td>4.0288</td>\n",
              "      <td>17.9244</td>\n",
              "      <td>10.4838</td>\n",
              "      <td>6.6760</td>\n",
              "      <td>12.6644</td>\n",
              "      <td>2.7004</td>\n",
              "      <td>5.4879</td>\n",
              "      <td>-4.7645</td>\n",
              "      <td>3.1531</td>\n",
              "      <td>18.5618</td>\n",
              "      <td>1.7202</td>\n",
              "      <td>25.8398</td>\n",
              "      <td>4.4354</td>\n",
              "      <td>3.9642</td>\n",
              "      <td>3.1364</td>\n",
              "      <td>12.7803</td>\n",
              "    </tr>\n",
              "    <tr>\n",
              "      <th>1</th>\n",
              "      <td>1</td>\n",
              "      <td>train_1</td>\n",
              "      <td>0</td>\n",
              "      <td>11.5006</td>\n",
              "      <td>-4.1473</td>\n",
              "      <td>13.8588</td>\n",
              "      <td>5.6208</td>\n",
              "      <td>8.0851</td>\n",
              "      <td>14.0239</td>\n",
              "      <td>8.4135</td>\n",
              "      <td>7.8000</td>\n",
              "      <td>2.7407</td>\n",
              "      <td>8.5524</td>\n",
              "      <td>-11.7684</td>\n",
              "      <td>19.3710</td>\n",
              "      <td>11.3702</td>\n",
              "      <td>-11.1147</td>\n",
              "      <td>1.2444</td>\n",
              "      <td>6.6885</td>\n",
              "      <td>7.9344</td>\n",
              "      <td>3.2709</td>\n",
              "      <td>5.5075</td>\n",
              "      <td>2.5462</td>\n",
              "      <td>18.1782</td>\n",
              "      <td>-13.5901</td>\n",
              "      <td>8.0905</td>\n",
              "      <td>11.7569</td>\n",
              "      <td>0.6939</td>\n",
              "      <td>13.9550</td>\n",
              "      <td>13.0858</td>\n",
              "      <td>6.6203</td>\n",
              "      <td>4.1569</td>\n",
              "      <td>8.2736</td>\n",
              "      <td>7.0513</td>\n",
              "      <td>16.1622</td>\n",
              "      <td>8.9231</td>\n",
              "      <td>11.7700</td>\n",
              "      <td>4.2578</td>\n",
              "      <td>-4.4223</td>\n",
              "      <td>-0.5687</td>\n",
              "      <td>-5.0121</td>\n",
              "      <td>15.1345</td>\n",
              "      <td>3.2003</td>\n",
              "      <td>5.7999</td>\n",
              "      <td>5.5378</td>\n",
              "      <td>5.5134</td>\n",
              "      <td>30.2645</td>\n",
              "      <td>11.0752</td>\n",
              "      <td>22.5441</td>\n",
              "      <td>7.6421</td>\n",
              "      <td>7.7214</td>\n",
              "      <td>2.5837</td>\n",
              "      <td>18.3560</td>\n",
              "    </tr>\n",
              "    <tr>\n",
              "      <th>2</th>\n",
              "      <td>2</td>\n",
              "      <td>train_2</td>\n",
              "      <td>0</td>\n",
              "      <td>8.6093</td>\n",
              "      <td>-2.7457</td>\n",
              "      <td>12.0805</td>\n",
              "      <td>6.9427</td>\n",
              "      <td>5.9525</td>\n",
              "      <td>14.1929</td>\n",
              "      <td>7.3124</td>\n",
              "      <td>4.7011</td>\n",
              "      <td>18.1377</td>\n",
              "      <td>1.2145</td>\n",
              "      <td>-7.9940</td>\n",
              "      <td>19.0422</td>\n",
              "      <td>11.0449</td>\n",
              "      <td>-13.5174</td>\n",
              "      <td>4.1006</td>\n",
              "      <td>6.4059</td>\n",
              "      <td>9.8565</td>\n",
              "      <td>4.5048</td>\n",
              "      <td>6.3191</td>\n",
              "      <td>7.4729</td>\n",
              "      <td>15.7811</td>\n",
              "      <td>-4.4577</td>\n",
              "      <td>14.1613</td>\n",
              "      <td>14.2621</td>\n",
              "      <td>-0.0269</td>\n",
              "      <td>14.1963</td>\n",
              "      <td>20.3882</td>\n",
              "      <td>3.2304</td>\n",
              "      <td>2.9044</td>\n",
              "      <td>2.7768</td>\n",
              "      <td>6.6231</td>\n",
              "      <td>8.6674</td>\n",
              "      <td>11.4934</td>\n",
              "      <td>1.7624</td>\n",
              "      <td>4.0714</td>\n",
              "      <td>-1.2681</td>\n",
              "      <td>-5.1747</td>\n",
              "      <td>-1.0410</td>\n",
              "      <td>20.5092</td>\n",
              "      <td>3.2790</td>\n",
              "      <td>5.7690</td>\n",
              "      <td>-7.0927</td>\n",
              "      <td>-5.8234</td>\n",
              "      <td>25.6820</td>\n",
              "      <td>2.4013</td>\n",
              "      <td>23.0866</td>\n",
              "      <td>2.9057</td>\n",
              "      <td>9.7905</td>\n",
              "      <td>1.6704</td>\n",
              "      <td>14.7222</td>\n",
              "    </tr>\n",
              "    <tr>\n",
              "      <th>3</th>\n",
              "      <td>3</td>\n",
              "      <td>train_3</td>\n",
              "      <td>0</td>\n",
              "      <td>11.0604</td>\n",
              "      <td>-2.1518</td>\n",
              "      <td>8.9522</td>\n",
              "      <td>5.8428</td>\n",
              "      <td>8.2450</td>\n",
              "      <td>13.8463</td>\n",
              "      <td>11.9704</td>\n",
              "      <td>15.9426</td>\n",
              "      <td>12.5579</td>\n",
              "      <td>6.8202</td>\n",
              "      <td>0.8135</td>\n",
              "      <td>6.1796</td>\n",
              "      <td>10.6093</td>\n",
              "      <td>-3.8294</td>\n",
              "      <td>8.0485</td>\n",
              "      <td>5.2091</td>\n",
              "      <td>23.6143</td>\n",
              "      <td>11.6875</td>\n",
              "      <td>4.0806</td>\n",
              "      <td>0.7839</td>\n",
              "      <td>10.5404</td>\n",
              "      <td>-2.3174</td>\n",
              "      <td>14.4027</td>\n",
              "      <td>7.2887</td>\n",
              "      <td>1.9480</td>\n",
              "      <td>14.3256</td>\n",
              "      <td>14.4135</td>\n",
              "      <td>4.2827</td>\n",
              "      <td>-2.5459</td>\n",
              "      <td>3.9618</td>\n",
              "      <td>7.1954</td>\n",
              "      <td>8.9821</td>\n",
              "      <td>10.4994</td>\n",
              "      <td>4.1622</td>\n",
              "      <td>3.7613</td>\n",
              "      <td>2.3701</td>\n",
              "      <td>17.0336</td>\n",
              "      <td>-11.0882</td>\n",
              "      <td>17.2502</td>\n",
              "      <td>2.5881</td>\n",
              "      <td>5.3430</td>\n",
              "      <td>-7.1541</td>\n",
              "      <td>11.7134</td>\n",
              "      <td>14.7483</td>\n",
              "      <td>5.6961</td>\n",
              "      <td>-0.4639</td>\n",
              "      <td>4.4666</td>\n",
              "      <td>4.7433</td>\n",
              "      <td>0.7178</td>\n",
              "      <td>17.9697</td>\n",
              "    </tr>\n",
              "    <tr>\n",
              "      <th>4</th>\n",
              "      <td>4</td>\n",
              "      <td>train_4</td>\n",
              "      <td>0</td>\n",
              "      <td>9.8369</td>\n",
              "      <td>-1.4834</td>\n",
              "      <td>12.8746</td>\n",
              "      <td>5.9405</td>\n",
              "      <td>7.6784</td>\n",
              "      <td>13.8481</td>\n",
              "      <td>7.8895</td>\n",
              "      <td>6.5263</td>\n",
              "      <td>18.9608</td>\n",
              "      <td>10.1102</td>\n",
              "      <td>3.1736</td>\n",
              "      <td>19.3239</td>\n",
              "      <td>12.4057</td>\n",
              "      <td>-5.5963</td>\n",
              "      <td>6.9087</td>\n",
              "      <td>5.7555</td>\n",
              "      <td>1.6184</td>\n",
              "      <td>1.0273</td>\n",
              "      <td>7.1734</td>\n",
              "      <td>2.9598</td>\n",
              "      <td>13.3317</td>\n",
              "      <td>7.0799</td>\n",
              "      <td>9.3627</td>\n",
              "      <td>14.0553</td>\n",
              "      <td>0.6715</td>\n",
              "      <td>14.0837</td>\n",
              "      <td>28.2749</td>\n",
              "      <td>-0.1937</td>\n",
              "      <td>-3.6135</td>\n",
              "      <td>5.2964</td>\n",
              "      <td>6.6173</td>\n",
              "      <td>13.9547</td>\n",
              "      <td>11.5670</td>\n",
              "      <td>-12.7047</td>\n",
              "      <td>3.7574</td>\n",
              "      <td>9.9110</td>\n",
              "      <td>4.7022</td>\n",
              "      <td>6.5769</td>\n",
              "      <td>21.2607</td>\n",
              "      <td>3.2304</td>\n",
              "      <td>5.5518</td>\n",
              "      <td>1.4493</td>\n",
              "      <td>2.3705</td>\n",
              "      <td>18.4685</td>\n",
              "      <td>5.1743</td>\n",
              "      <td>11.8503</td>\n",
              "      <td>-1.4905</td>\n",
              "      <td>9.5214</td>\n",
              "      <td>-0.1508</td>\n",
              "      <td>17.9974</td>\n",
              "    </tr>\n",
              "  </tbody>\n",
              "</table>\n",
              "</div>"
            ],
            "text/plain": [
              "   Unnamed: 0  ID_code  target    var_0  ...  var_46  var_47  var_48   var_49\n",
              "0           0  train_0       0   8.9255  ...  4.4354  3.9642  3.1364  12.7803\n",
              "1           1  train_1       0  11.5006  ...  7.6421  7.7214  2.5837  18.3560\n",
              "2           2  train_2       0   8.6093  ...  2.9057  9.7905  1.6704  14.7222\n",
              "3           3  train_3       0  11.0604  ...  4.4666  4.7433  0.7178  17.9697\n",
              "4           4  train_4       0   9.8369  ... -1.4905  9.5214 -0.1508  17.9974\n",
              "\n",
              "[5 rows x 53 columns]"
            ]
          },
          "metadata": {
            "tags": []
          },
          "execution_count": 120
        }
      ]
    },
    {
      "cell_type": "code",
      "metadata": {
        "id": "7JbMHbcddPsy"
      },
      "source": [
        "# Drop unnecessary columns\n",
        "train_data.drop(train_data.columns[0], axis=1, inplace=True)\n",
        "train_data.drop('ID_code', axis=1, inplace=True)"
      ],
      "execution_count": 121,
      "outputs": []
    },
    {
      "cell_type": "code",
      "metadata": {
        "colab": {
          "base_uri": "https://localhost:8080/"
        },
        "id": "whEYsQrsiMBQ",
        "outputId": "30195bf9-264a-402e-e798-09d5d612f92a"
      },
      "source": [
        "# Any Nulls?\n",
        "val = train_data.isnull().sum().sum()\n",
        "# if any null data is found, print out nulls by column to find where \n",
        "if val > 0:\n",
        "  print(train_data.isnull().sum())\n",
        "else:\n",
        "  print(\"No null data found.\")\n"
      ],
      "execution_count": 122,
      "outputs": [
        {
          "output_type": "stream",
          "text": [
            "No null data found.\n"
          ],
          "name": "stdout"
        }
      ]
    },
    {
      "cell_type": "markdown",
      "metadata": {
        "id": "vm2pFmEUlJiY"
      },
      "source": [
        "The target column was evaluated to confirm that all values were either a zero or a one. During this evaluation, it was observed that most data has a target value of 0 indicating a bias in the data toward no transaction."
      ]
    },
    {
      "cell_type": "code",
      "metadata": {
        "colab": {
          "base_uri": "https://localhost:8080/"
        },
        "id": "w5y-8PIeUMoC",
        "outputId": "70681a40-420d-4f4b-f565-d9923b8e1f18"
      },
      "source": [
        "# Confirm veracity of target column. Values of 0 and 1 are expected.\n",
        "train_data['target'].value_counts()"
      ],
      "execution_count": 123,
      "outputs": [
        {
          "output_type": "execute_result",
          "data": {
            "text/plain": [
              "0    161960\n",
              "1     18040\n",
              "Name: target, dtype: int64"
            ]
          },
          "metadata": {
            "tags": []
          },
          "execution_count": 123
        }
      ]
    },
    {
      "cell_type": "code",
      "metadata": {
        "colab": {
          "base_uri": "https://localhost:8080/"
        },
        "id": "0C91QJGHYawu",
        "outputId": "10b6d400-de55-4c18-9c9f-81493f738400"
      },
      "source": [
        "train_data.info()\n",
        "# no nulls. All floats. 180,000 rows. 50 columns."
      ],
      "execution_count": 124,
      "outputs": [
        {
          "output_type": "stream",
          "text": [
            "<class 'pandas.core.frame.DataFrame'>\n",
            "RangeIndex: 180000 entries, 0 to 179999\n",
            "Data columns (total 51 columns):\n",
            " #   Column  Non-Null Count   Dtype  \n",
            "---  ------  --------------   -----  \n",
            " 0   target  180000 non-null  int64  \n",
            " 1   var_0   180000 non-null  float64\n",
            " 2   var_1   180000 non-null  float64\n",
            " 3   var_2   180000 non-null  float64\n",
            " 4   var_3   180000 non-null  float64\n",
            " 5   var_4   180000 non-null  float64\n",
            " 6   var_5   180000 non-null  float64\n",
            " 7   var_6   180000 non-null  float64\n",
            " 8   var_7   180000 non-null  float64\n",
            " 9   var_8   180000 non-null  float64\n",
            " 10  var_9   180000 non-null  float64\n",
            " 11  var_10  180000 non-null  float64\n",
            " 12  var_11  180000 non-null  float64\n",
            " 13  var_12  180000 non-null  float64\n",
            " 14  var_13  180000 non-null  float64\n",
            " 15  var_14  180000 non-null  float64\n",
            " 16  var_15  180000 non-null  float64\n",
            " 17  var_16  180000 non-null  float64\n",
            " 18  var_17  180000 non-null  float64\n",
            " 19  var_18  180000 non-null  float64\n",
            " 20  var_19  180000 non-null  float64\n",
            " 21  var_20  180000 non-null  float64\n",
            " 22  var_21  180000 non-null  float64\n",
            " 23  var_22  180000 non-null  float64\n",
            " 24  var_23  180000 non-null  float64\n",
            " 25  var_24  180000 non-null  float64\n",
            " 26  var_25  180000 non-null  float64\n",
            " 27  var_26  180000 non-null  float64\n",
            " 28  var_27  180000 non-null  float64\n",
            " 29  var_28  180000 non-null  float64\n",
            " 30  var_29  180000 non-null  float64\n",
            " 31  var_30  180000 non-null  float64\n",
            " 32  var_31  180000 non-null  float64\n",
            " 33  var_32  180000 non-null  float64\n",
            " 34  var_33  180000 non-null  float64\n",
            " 35  var_34  180000 non-null  float64\n",
            " 36  var_35  180000 non-null  float64\n",
            " 37  var_36  180000 non-null  float64\n",
            " 38  var_37  180000 non-null  float64\n",
            " 39  var_38  180000 non-null  float64\n",
            " 40  var_39  180000 non-null  float64\n",
            " 41  var_40  180000 non-null  float64\n",
            " 42  var_41  180000 non-null  float64\n",
            " 43  var_42  180000 non-null  float64\n",
            " 44  var_43  180000 non-null  float64\n",
            " 45  var_44  180000 non-null  float64\n",
            " 46  var_45  180000 non-null  float64\n",
            " 47  var_46  180000 non-null  float64\n",
            " 48  var_47  180000 non-null  float64\n",
            " 49  var_48  180000 non-null  float64\n",
            " 50  var_49  180000 non-null  float64\n",
            "dtypes: float64(50), int64(1)\n",
            "memory usage: 70.0 MB\n"
          ],
          "name": "stdout"
        }
      ]
    },
    {
      "cell_type": "code",
      "metadata": {
        "colab": {
          "base_uri": "https://localhost:8080/",
          "height": 314
        },
        "id": "bbsTf_NvYy0p",
        "outputId": "78687572-ce5c-44d5-8884-917601223d23"
      },
      "source": [
        "train_data.describe()"
      ],
      "execution_count": 125,
      "outputs": [
        {
          "output_type": "execute_result",
          "data": {
            "text/html": [
              "<div>\n",
              "<style scoped>\n",
              "    .dataframe tbody tr th:only-of-type {\n",
              "        vertical-align: middle;\n",
              "    }\n",
              "\n",
              "    .dataframe tbody tr th {\n",
              "        vertical-align: top;\n",
              "    }\n",
              "\n",
              "    .dataframe thead th {\n",
              "        text-align: right;\n",
              "    }\n",
              "</style>\n",
              "<table border=\"1\" class=\"dataframe\">\n",
              "  <thead>\n",
              "    <tr style=\"text-align: right;\">\n",
              "      <th></th>\n",
              "      <th>target</th>\n",
              "      <th>var_0</th>\n",
              "      <th>var_1</th>\n",
              "      <th>var_2</th>\n",
              "      <th>var_3</th>\n",
              "      <th>var_4</th>\n",
              "      <th>var_5</th>\n",
              "      <th>var_6</th>\n",
              "      <th>var_7</th>\n",
              "      <th>var_8</th>\n",
              "      <th>var_9</th>\n",
              "      <th>var_10</th>\n",
              "      <th>var_11</th>\n",
              "      <th>var_12</th>\n",
              "      <th>var_13</th>\n",
              "      <th>var_14</th>\n",
              "      <th>var_15</th>\n",
              "      <th>var_16</th>\n",
              "      <th>var_17</th>\n",
              "      <th>var_18</th>\n",
              "      <th>var_19</th>\n",
              "      <th>var_20</th>\n",
              "      <th>var_21</th>\n",
              "      <th>var_22</th>\n",
              "      <th>var_23</th>\n",
              "      <th>var_24</th>\n",
              "      <th>var_25</th>\n",
              "      <th>var_26</th>\n",
              "      <th>var_27</th>\n",
              "      <th>var_28</th>\n",
              "      <th>var_29</th>\n",
              "      <th>var_30</th>\n",
              "      <th>var_31</th>\n",
              "      <th>var_32</th>\n",
              "      <th>var_33</th>\n",
              "      <th>var_34</th>\n",
              "      <th>var_35</th>\n",
              "      <th>var_36</th>\n",
              "      <th>var_37</th>\n",
              "      <th>var_38</th>\n",
              "      <th>var_39</th>\n",
              "      <th>var_40</th>\n",
              "      <th>var_41</th>\n",
              "      <th>var_42</th>\n",
              "      <th>var_43</th>\n",
              "      <th>var_44</th>\n",
              "      <th>var_45</th>\n",
              "      <th>var_46</th>\n",
              "      <th>var_47</th>\n",
              "      <th>var_48</th>\n",
              "      <th>var_49</th>\n",
              "    </tr>\n",
              "  </thead>\n",
              "  <tbody>\n",
              "    <tr>\n",
              "      <th>count</th>\n",
              "      <td>180000.000000</td>\n",
              "      <td>180000.000000</td>\n",
              "      <td>180000.000000</td>\n",
              "      <td>180000.000000</td>\n",
              "      <td>180000.000000</td>\n",
              "      <td>180000.000000</td>\n",
              "      <td>180000.000000</td>\n",
              "      <td>180000.00000</td>\n",
              "      <td>180000.000000</td>\n",
              "      <td>180000.000000</td>\n",
              "      <td>180000.000000</td>\n",
              "      <td>180000.000000</td>\n",
              "      <td>180000.000000</td>\n",
              "      <td>180000.000000</td>\n",
              "      <td>180000.000000</td>\n",
              "      <td>180000.000000</td>\n",
              "      <td>180000.000000</td>\n",
              "      <td>180000.000000</td>\n",
              "      <td>180000.000000</td>\n",
              "      <td>180000.000000</td>\n",
              "      <td>180000.000000</td>\n",
              "      <td>180000.000000</td>\n",
              "      <td>180000.000000</td>\n",
              "      <td>180000.000000</td>\n",
              "      <td>180000.000000</td>\n",
              "      <td>180000.000000</td>\n",
              "      <td>180000.000000</td>\n",
              "      <td>180000.000000</td>\n",
              "      <td>180000.000000</td>\n",
              "      <td>180000.000000</td>\n",
              "      <td>180000.000000</td>\n",
              "      <td>180000.000000</td>\n",
              "      <td>180000.000000</td>\n",
              "      <td>180000.000000</td>\n",
              "      <td>180000.000000</td>\n",
              "      <td>180000.000000</td>\n",
              "      <td>180000.000000</td>\n",
              "      <td>180000.000000</td>\n",
              "      <td>180000.000000</td>\n",
              "      <td>180000.000000</td>\n",
              "      <td>180000.000000</td>\n",
              "      <td>180000.000000</td>\n",
              "      <td>180000.000000</td>\n",
              "      <td>180000.000000</td>\n",
              "      <td>180000.000000</td>\n",
              "      <td>180000.000000</td>\n",
              "      <td>180000.000000</td>\n",
              "      <td>180000.000000</td>\n",
              "      <td>180000.000000</td>\n",
              "      <td>180000.000000</td>\n",
              "      <td>180000.000000</td>\n",
              "    </tr>\n",
              "    <tr>\n",
              "      <th>mean</th>\n",
              "      <td>0.100222</td>\n",
              "      <td>10.678650</td>\n",
              "      <td>-1.630045</td>\n",
              "      <td>10.712922</td>\n",
              "      <td>5.408688</td>\n",
              "      <td>7.566953</td>\n",
              "      <td>14.024017</td>\n",
              "      <td>8.52808</td>\n",
              "      <td>15.243424</td>\n",
              "      <td>17.264876</td>\n",
              "      <td>4.306171</td>\n",
              "      <td>-4.046449</td>\n",
              "      <td>14.777153</td>\n",
              "      <td>11.434945</td>\n",
              "      <td>-6.727860</td>\n",
              "      <td>8.942328</td>\n",
              "      <td>6.007784</td>\n",
              "      <td>11.946357</td>\n",
              "      <td>6.051401</td>\n",
              "      <td>5.347539</td>\n",
              "      <td>5.799587</td>\n",
              "      <td>14.721236</td>\n",
              "      <td>5.621549</td>\n",
              "      <td>12.735619</td>\n",
              "      <td>10.996891</td>\n",
              "      <td>-0.746871</td>\n",
              "      <td>14.224538</td>\n",
              "      <td>18.458395</td>\n",
              "      <td>5.515193</td>\n",
              "      <td>2.212756</td>\n",
              "      <td>1.190419</td>\n",
              "      <td>6.813431</td>\n",
              "      <td>7.765323</td>\n",
              "      <td>10.342814</td>\n",
              "      <td>-3.294620</td>\n",
              "      <td>3.990847</td>\n",
              "      <td>5.302094</td>\n",
              "      <td>6.980101</td>\n",
              "      <td>-2.870288</td>\n",
              "      <td>19.320843</td>\n",
              "      <td>2.963064</td>\n",
              "      <td>5.635896</td>\n",
              "      <td>-0.000418</td>\n",
              "      <td>-0.668334</td>\n",
              "      <td>20.208845</td>\n",
              "      <td>2.595090</td>\n",
              "      <td>12.756574</td>\n",
              "      <td>3.236201</td>\n",
              "      <td>7.440715</td>\n",
              "      <td>1.927078</td>\n",
              "      <td>15.870166</td>\n",
              "    </tr>\n",
              "    <tr>\n",
              "      <th>std</th>\n",
              "      <td>0.300297</td>\n",
              "      <td>3.041036</td>\n",
              "      <td>4.050519</td>\n",
              "      <td>2.639146</td>\n",
              "      <td>0.866265</td>\n",
              "      <td>1.235043</td>\n",
              "      <td>0.190038</td>\n",
              "      <td>4.64170</td>\n",
              "      <td>7.851050</td>\n",
              "      <td>8.203204</td>\n",
              "      <td>2.845792</td>\n",
              "      <td>5.921909</td>\n",
              "      <td>4.324646</td>\n",
              "      <td>0.541385</td>\n",
              "      <td>8.278554</td>\n",
              "      <td>5.905752</td>\n",
              "      <td>0.764765</td>\n",
              "      <td>7.364523</td>\n",
              "      <td>7.939415</td>\n",
              "      <td>1.993530</td>\n",
              "      <td>7.432116</td>\n",
              "      <td>2.300002</td>\n",
              "      <td>7.748588</td>\n",
              "      <td>4.185923</td>\n",
              "      <td>2.765963</td>\n",
              "      <td>1.862151</td>\n",
              "      <td>0.171058</td>\n",
              "      <td>4.354830</td>\n",
              "      <td>3.823662</td>\n",
              "      <td>2.621057</td>\n",
              "      <td>5.169343</td>\n",
              "      <td>0.375564</td>\n",
              "      <td>7.686960</td>\n",
              "      <td>2.520602</td>\n",
              "      <td>7.418545</td>\n",
              "      <td>0.198989</td>\n",
              "      <td>10.384752</td>\n",
              "      <td>4.964332</td>\n",
              "      <td>5.455353</td>\n",
              "      <td>5.019303</td>\n",
              "      <td>0.369891</td>\n",
              "      <td>0.369629</td>\n",
              "      <td>4.422915</td>\n",
              "      <td>5.968300</td>\n",
              "      <td>7.132446</td>\n",
              "      <td>2.801692</td>\n",
              "      <td>9.320939</td>\n",
              "      <td>4.561317</td>\n",
              "      <td>3.021636</td>\n",
              "      <td>1.476777</td>\n",
              "      <td>3.010492</td>\n",
              "    </tr>\n",
              "    <tr>\n",
              "      <th>min</th>\n",
              "      <td>0.000000</td>\n",
              "      <td>0.408400</td>\n",
              "      <td>-15.043400</td>\n",
              "      <td>2.117100</td>\n",
              "      <td>2.347300</td>\n",
              "      <td>3.970500</td>\n",
              "      <td>13.434600</td>\n",
              "      <td>-6.01110</td>\n",
              "      <td>-10.664200</td>\n",
              "      <td>-10.089000</td>\n",
              "      <td>-5.322500</td>\n",
              "      <td>-24.243100</td>\n",
              "      <td>1.508500</td>\n",
              "      <td>9.816900</td>\n",
              "      <td>-35.211700</td>\n",
              "      <td>-9.939600</td>\n",
              "      <td>3.344900</td>\n",
              "      <td>-19.544300</td>\n",
              "      <td>-21.633300</td>\n",
              "      <td>-1.818300</td>\n",
              "      <td>-18.042200</td>\n",
              "      <td>7.586500</td>\n",
              "      <td>-19.272200</td>\n",
              "      <td>-1.018500</td>\n",
              "      <td>2.819000</td>\n",
              "      <td>-7.280600</td>\n",
              "      <td>13.729000</td>\n",
              "      <td>5.769700</td>\n",
              "      <td>-9.239800</td>\n",
              "      <td>-6.858600</td>\n",
              "      <td>-15.194000</td>\n",
              "      <td>5.359300</td>\n",
              "      <td>-21.123200</td>\n",
              "      <td>0.427400</td>\n",
              "      <td>-29.984000</td>\n",
              "      <td>3.320500</td>\n",
              "      <td>-41.168300</td>\n",
              "      <td>-8.196600</td>\n",
              "      <td>-19.551500</td>\n",
              "      <td>3.816700</td>\n",
              "      <td>1.851200</td>\n",
              "      <td>4.258800</td>\n",
              "      <td>-14.506000</td>\n",
              "      <td>-22.748700</td>\n",
              "      <td>-2.995300</td>\n",
              "      <td>-7.856100</td>\n",
              "      <td>-18.489700</td>\n",
              "      <td>-14.093300</td>\n",
              "      <td>-2.691700</td>\n",
              "      <td>-3.814500</td>\n",
              "      <td>6.299300</td>\n",
              "    </tr>\n",
              "    <tr>\n",
              "      <th>25%</th>\n",
              "      <td>0.000000</td>\n",
              "      <td>8.451675</td>\n",
              "      <td>-4.745600</td>\n",
              "      <td>8.720000</td>\n",
              "      <td>4.768500</td>\n",
              "      <td>6.618800</td>\n",
              "      <td>13.893900</td>\n",
              "      <td>5.06575</td>\n",
              "      <td>9.170200</td>\n",
              "      <td>11.552000</td>\n",
              "      <td>2.185350</td>\n",
              "      <td>-8.313225</td>\n",
              "      <td>11.456375</td>\n",
              "      <td>11.032400</td>\n",
              "      <td>-12.835875</td>\n",
              "      <td>5.303575</td>\n",
              "      <td>5.435000</td>\n",
              "      <td>6.756875</td>\n",
              "      <td>0.598475</td>\n",
              "      <td>3.815200</td>\n",
              "      <td>0.703000</td>\n",
              "      <td>13.216875</td>\n",
              "      <td>0.412475</td>\n",
              "      <td>9.664675</td>\n",
              "      <td>8.829700</td>\n",
              "      <td>-2.105300</td>\n",
              "      <td>14.098900</td>\n",
              "      <td>15.107300</td>\n",
              "      <td>2.817000</td>\n",
              "      <td>0.397300</td>\n",
              "      <td>-2.571400</td>\n",
              "      <td>6.544100</td>\n",
              "      <td>2.391950</td>\n",
              "      <td>8.646700</td>\n",
              "      <td>-8.757925</td>\n",
              "      <td>3.853700</td>\n",
              "      <td>-1.894525</td>\n",
              "      <td>3.340800</td>\n",
              "      <td>-7.092725</td>\n",
              "      <td>15.752275</td>\n",
              "      <td>2.698400</td>\n",
              "      <td>5.374200</td>\n",
              "      <td>-3.253575</td>\n",
              "      <td>-4.997500</td>\n",
              "      <td>15.062900</td>\n",
              "      <td>0.628600</td>\n",
              "      <td>5.661300</td>\n",
              "      <td>-0.062000</td>\n",
              "      <td>5.160325</td>\n",
              "      <td>0.890000</td>\n",
              "      <td>13.830400</td>\n",
              "    </tr>\n",
              "    <tr>\n",
              "      <th>50%</th>\n",
              "      <td>0.000000</td>\n",
              "      <td>10.526750</td>\n",
              "      <td>-1.611250</td>\n",
              "      <td>10.579600</td>\n",
              "      <td>5.385600</td>\n",
              "      <td>7.628500</td>\n",
              "      <td>14.025500</td>\n",
              "      <td>8.59920</td>\n",
              "      <td>15.198900</td>\n",
              "      <td>17.246850</td>\n",
              "      <td>4.275700</td>\n",
              "      <td>-4.184500</td>\n",
              "      <td>14.579150</td>\n",
              "      <td>11.435500</td>\n",
              "      <td>-6.615100</td>\n",
              "      <td>9.432200</td>\n",
              "      <td>6.027100</td>\n",
              "      <td>11.925300</td>\n",
              "      <td>6.298250</td>\n",
              "      <td>5.437750</td>\n",
              "      <td>6.071300</td>\n",
              "      <td>14.846150</td>\n",
              "      <td>6.014100</td>\n",
              "      <td>12.670700</td>\n",
              "      <td>10.981400</td>\n",
              "      <td>-0.772000</td>\n",
              "      <td>14.226800</td>\n",
              "      <td>18.276650</td>\n",
              "      <td>5.397400</td>\n",
              "      <td>2.248800</td>\n",
              "      <td>1.194600</td>\n",
              "      <td>6.806800</td>\n",
              "      <td>8.072150</td>\n",
              "      <td>10.395800</td>\n",
              "      <td>-3.170950</td>\n",
              "      <td>3.996000</td>\n",
              "      <td>5.288550</td>\n",
              "      <td>7.006550</td>\n",
              "      <td>-2.632150</td>\n",
              "      <td>19.272750</td>\n",
              "      <td>2.959900</td>\n",
              "      <td>5.634500</td>\n",
              "      <td>0.008500</td>\n",
              "      <td>-0.560300</td>\n",
              "      <td>20.203300</td>\n",
              "      <td>2.513800</td>\n",
              "      <td>12.520300</td>\n",
              "      <td>3.204650</td>\n",
              "      <td>7.350950</td>\n",
              "      <td>1.899700</td>\n",
              "      <td>15.934600</td>\n",
              "    </tr>\n",
              "    <tr>\n",
              "      <th>75%</th>\n",
              "      <td>0.000000</td>\n",
              "      <td>12.756200</td>\n",
              "      <td>1.360225</td>\n",
              "      <td>12.514100</td>\n",
              "      <td>6.003200</td>\n",
              "      <td>8.583800</td>\n",
              "      <td>14.164400</td>\n",
              "      <td>12.27330</td>\n",
              "      <td>21.010500</td>\n",
              "      <td>23.100050</td>\n",
              "      <td>6.290225</td>\n",
              "      <td>-0.090100</td>\n",
              "      <td>18.107200</td>\n",
              "      <td>11.845000</td>\n",
              "      <td>-0.885250</td>\n",
              "      <td>13.083800</td>\n",
              "      <td>6.542325</td>\n",
              "      <td>17.039600</td>\n",
              "      <td>11.817825</td>\n",
              "      <td>6.864700</td>\n",
              "      <td>11.444800</td>\n",
              "      <td>16.343000</td>\n",
              "      <td>11.159500</td>\n",
              "      <td>15.837300</td>\n",
              "      <td>13.086500</td>\n",
              "      <td>0.526925</td>\n",
              "      <td>14.361800</td>\n",
              "      <td>21.857650</td>\n",
              "      <td>8.109525</td>\n",
              "      <td>4.119400</td>\n",
              "      <td>5.090450</td>\n",
              "      <td>7.070900</td>\n",
              "      <td>13.236650</td>\n",
              "      <td>12.116300</td>\n",
              "      <td>2.043350</td>\n",
              "      <td>4.131625</td>\n",
              "      <td>12.701300</td>\n",
              "      <td>10.776700</td>\n",
              "      <td>1.321300</td>\n",
              "      <td>23.021875</td>\n",
              "      <td>3.241425</td>\n",
              "      <td>5.905600</td>\n",
              "      <td>3.098325</td>\n",
              "      <td>3.632525</td>\n",
              "      <td>25.639125</td>\n",
              "      <td>4.396725</td>\n",
              "      <td>19.461725</td>\n",
              "      <td>6.409900</td>\n",
              "      <td>9.511125</td>\n",
              "      <td>2.947225</td>\n",
              "      <td>18.061425</td>\n",
              "    </tr>\n",
              "    <tr>\n",
              "      <th>max</th>\n",
              "      <td>1.000000</td>\n",
              "      <td>20.315000</td>\n",
              "      <td>10.376800</td>\n",
              "      <td>19.353000</td>\n",
              "      <td>8.447700</td>\n",
              "      <td>11.150600</td>\n",
              "      <td>14.654500</td>\n",
              "      <td>22.33150</td>\n",
              "      <td>41.748000</td>\n",
              "      <td>49.044300</td>\n",
              "      <td>14.594500</td>\n",
              "      <td>15.675100</td>\n",
              "      <td>29.546600</td>\n",
              "      <td>13.287800</td>\n",
              "      <td>18.105600</td>\n",
              "      <td>34.196100</td>\n",
              "      <td>8.231500</td>\n",
              "      <td>39.396800</td>\n",
              "      <td>34.435200</td>\n",
              "      <td>11.350700</td>\n",
              "      <td>30.476900</td>\n",
              "      <td>23.132400</td>\n",
              "      <td>34.563700</td>\n",
              "      <td>26.997600</td>\n",
              "      <td>18.975000</td>\n",
              "      <td>4.993900</td>\n",
              "      <td>14.743000</td>\n",
              "      <td>32.059100</td>\n",
              "      <td>19.519300</td>\n",
              "      <td>11.950400</td>\n",
              "      <td>18.471400</td>\n",
              "      <td>8.309100</td>\n",
              "      <td>36.097100</td>\n",
              "      <td>20.437300</td>\n",
              "      <td>21.236400</td>\n",
              "      <td>4.752800</td>\n",
              "      <td>44.462000</td>\n",
              "      <td>23.242800</td>\n",
              "      <td>12.119300</td>\n",
              "      <td>38.332200</td>\n",
              "      <td>4.220400</td>\n",
              "      <td>7.089000</td>\n",
              "      <td>16.731900</td>\n",
              "      <td>18.855400</td>\n",
              "      <td>43.546800</td>\n",
              "      <td>13.448700</td>\n",
              "      <td>44.363400</td>\n",
              "      <td>18.440900</td>\n",
              "      <td>16.716500</td>\n",
              "      <td>8.402400</td>\n",
              "      <td>26.079100</td>\n",
              "    </tr>\n",
              "  </tbody>\n",
              "</table>\n",
              "</div>"
            ],
            "text/plain": [
              "              target          var_0  ...         var_48         var_49\n",
              "count  180000.000000  180000.000000  ...  180000.000000  180000.000000\n",
              "mean        0.100222      10.678650  ...       1.927078      15.870166\n",
              "std         0.300297       3.041036  ...       1.476777       3.010492\n",
              "min         0.000000       0.408400  ...      -3.814500       6.299300\n",
              "25%         0.000000       8.451675  ...       0.890000      13.830400\n",
              "50%         0.000000      10.526750  ...       1.899700      15.934600\n",
              "75%         0.000000      12.756200  ...       2.947225      18.061425\n",
              "max         1.000000      20.315000  ...       8.402400      26.079100\n",
              "\n",
              "[8 rows x 51 columns]"
            ]
          },
          "metadata": {
            "tags": []
          },
          "execution_count": 125
        }
      ]
    },
    {
      "cell_type": "markdown",
      "metadata": {
        "id": "S_ItpEM7SIqU"
      },
      "source": [
        "# Exploratory Data Analysis\n",
        "\n",
        "First, data was analyzed for data containing both successful and unsuccessful transactions (target = 1 and 0 respectively). Then data was split into successful and unsuccessful dataframes and re-analyzed to determine if the same distributions and correlations existed."
      ]
    },
    {
      "cell_type": "code",
      "metadata": {
        "id": "lBqWTo7td7z7"
      },
      "source": [
        "# Get data with unsuccessful transactions\n",
        "train_data_0 = train_data[train_data['target']==0]\n",
        "\n",
        "# Get data with successful transactions\n",
        "train_data_1 = train_data[train_data['target']==1]"
      ],
      "execution_count": 126,
      "outputs": []
    },
    {
      "cell_type": "markdown",
      "metadata": {
        "id": "uydH--2taW8V"
      },
      "source": [
        "## Plot data to find predictors\n",
        "Data was plotted in 3 series:\n",
        "1. All Data\n",
        "1. Successful Transactions\n",
        "1. Unsuccessful Transactions\n",
        "\n",
        "In all 3 cases, all predictor columns showed a normal distribution with very little skew. This indicated that the all columns were appropriate for Gaussian Naive Bayes modeling."
      ]
    },
    {
      "cell_type": "markdown",
      "metadata": {
        "id": "LrLql2-oYu2s"
      },
      "source": [
        "### Histograms - All Data"
      ]
    },
    {
      "cell_type": "code",
      "metadata": {
        "colab": {
          "base_uri": "https://localhost:8080/",
          "height": 715
        },
        "id": "Wyai51kJ4gZR",
        "outputId": "1bdcf81a-d80a-45ee-9ccb-a666d4c9d625"
      },
      "source": [
        "# TODO: overlay or figure out how to plot one row for each for comparison.\n",
        "\n",
        "# Confirm distribution for all columns to note biases in the data.\n",
        "fig, axs = plt.subplots(10,5, figsize = (12,12))\n",
        "plt.subplots_adjust(wspace=1,hspace=1)\n",
        "\n",
        "# All data\n",
        "n = 0\n",
        "for i in range(10): #loop rows\n",
        "  for j in range(5): #loop cols\n",
        "    col = train_data.columns[n]\n",
        "    axs[i,j].hist(train_data[col])\n",
        "    axs[i,j].set_title(col)\n",
        "    n+=1"
      ],
      "execution_count": 127,
      "outputs": [
        {
          "output_type": "display_data",
          "data": {
            "image/png": "[encoded data removed]",
            "text/plain": [
              "<Figure size 864x864 with 50 Axes>"
            ]
          },
          "metadata": {
            "tags": [],
            "needs_background": "light"
          }
        }
      ]
    },
    {
      "cell_type": "markdown",
      "metadata": {
        "id": "RgaAsy8JYxmH"
      },
      "source": [
        "### Histograms - Successful Transactions"
      ]
    },
    {
      "cell_type": "code",
      "metadata": {
        "colab": {
          "base_uri": "https://localhost:8080/",
          "height": 715
        },
        "id": "DV0dbDIfhIml",
        "outputId": "923030ec-fe6b-4a09-a8c4-60d07073d221"
      },
      "source": [
        "# Successful transactions\n",
        "fig, axs = plt.subplots(10,5, figsize = (12,12))\n",
        "plt.subplots_adjust(wspace=1,hspace=1)\n",
        "n = 0\n",
        "for i in range(10): #loop rows\n",
        "  for j in range(5): #loop cols\n",
        "    col = train_data_1.columns[n]\n",
        "    axs[i,j].hist(train_data_1[col], color='green')\n",
        "    axs[i,j].set_title(col)\n",
        "    n+=1\n"
      ],
      "execution_count": 128,
      "outputs": [
        {
          "output_type": "display_data",
          "data": {
            "image/png": "[encoded data removed]",
            "text/plain": [
              "<Figure size 864x864 with 50 Axes>"
            ]
          },
          "metadata": {
            "tags": [],
            "needs_background": "light"
          }
        }
      ]
    },
    {
      "cell_type": "markdown",
      "metadata": {
        "id": "nHc6or3hY16c"
      },
      "source": [
        "### Histograms - Unsuccessful Transactions"
      ]
    },
    {
      "cell_type": "code",
      "metadata": {
        "colab": {
          "base_uri": "https://localhost:8080/",
          "height": 715
        },
        "id": "d_evsyHwhNhA",
        "outputId": "b6d204f1-6916-4e21-8652-4113386d4198"
      },
      "source": [
        "# Unsuccessful transactions\n",
        "fig, axs = plt.subplots(10,5, figsize = (12,12))\n",
        "plt.subplots_adjust(wspace=1,hspace=1)\n",
        "n = 0\n",
        "for i in range(10): #loop rows\n",
        "  for j in range(5): #loop cols\n",
        "    col = train_data_0.columns[n]\n",
        "    axs[i,j].hist(train_data_0[col], color='red')\n",
        "    axs[i,j].set_title(col)\n",
        "    n+=1"
      ],
      "execution_count": 129,
      "outputs": [
        {
          "output_type": "display_data",
          "data": {
            "image/png": "[encoded data removed]",
            "text/plain": [
              "<Figure size 864x864 with 50 Axes>"
            ]
          },
          "metadata": {
            "tags": [],
            "needs_background": "light"
          }
        }
      ]
    },
    {
      "cell_type": "markdown",
      "metadata": {
        "id": "gdGCbYH-a-iz"
      },
      "source": [
        "## Verify target column values\n",
        "Target values were verified to be a 1 (transaction occurred) or 0 (no transaction occurred. No cleanup is required on the target column as it contains only expected values.\n",
        "\n",
        "Note that target data favored 0 - no transaction by a factor of 9:1."
      ]
    },
    {
      "cell_type": "code",
      "metadata": {
        "colab": {
          "base_uri": "https://localhost:8080/"
        },
        "id": "ZGMHkc8Rg-VB",
        "outputId": "bc5bd34a-2c4b-400a-903c-ef04b7162dab"
      },
      "source": [
        "# Verify that target column has only 1 and 0\n",
        "train_data['target'].value_counts()"
      ],
      "execution_count": 130,
      "outputs": [
        {
          "output_type": "execute_result",
          "data": {
            "text/plain": [
              "0    161960\n",
              "1     18040\n",
              "Name: target, dtype: int64"
            ]
          },
          "metadata": {
            "tags": []
          },
          "execution_count": 130
        }
      ]
    },
    {
      "cell_type": "markdown",
      "metadata": {
        "id": "xmOcqYpGbp_W"
      },
      "source": [
        "## Correlations\n",
        "Correlations were plotted using a heatmap. Correlations were also plotted for sample sizes less than 1000 and values more 20000. Small sample sizes showed slightly more correlation. As sample sizes increased, data correlation decreased almost to zero indicating predictor variables show very little correlation. \n",
        "\n",
        "Correlating all variables with the target for the entire data set revealed very little correlation with all correlation values falling below 0.10."
      ]
    },
    {
      "cell_type": "markdown",
      "metadata": {
        "id": "_NAPkrotaBco"
      },
      "source": [
        "### Heatmaps - All Data"
      ]
    },
    {
      "cell_type": "code",
      "metadata": {
        "colab": {
          "base_uri": "https://localhost:8080/",
          "height": 594
        },
        "id": "5CViG6Fdl2dK",
        "outputId": "bc946099-61ed-4fbc-95e2-0490dda742ae"
      },
      "source": [
        "# Small sample sizes result in higher correlations. Larger sample sizes result in lower correlations.\n",
        "color_all = 'Blues'\n",
        "fig, (ax1, ax2) = plt.subplots(1,2, figsize = (24,9))\n",
        "\n",
        "corr = train_data.corr()\n",
        "plt_full = sns.heatmap(corr, annot=False, cmap=color_all, ax=ax1)\n",
        "plt_full.set_title('All Data Points')\n",
        "\n",
        "points = 500\n",
        "train_data_subset = train_data.sample(n = points, random_state = 10, axis=0)\n",
        "corr_reduced = train_data_subset.corr()\n",
        "plt_reduced = sns.heatmap(corr_reduced, annot=False, cmap=color_all, ax=ax2)\n",
        "plt_reduced.set_title(f'{points} Data Points')"
      ],
      "execution_count": 131,
      "outputs": [
        {
          "output_type": "execute_result",
          "data": {
            "text/plain": [
              "Text(0.5, 1.0, '500 Data Points')"
            ]
          },
          "metadata": {
            "tags": []
          },
          "execution_count": 131
        },
        {
          "output_type": "display_data",
          "data": {
            "image/png": "[encoded data removed]",
            "text/plain": [
              "<Figure size 1728x648 with 4 Axes>"
            ]
          },
          "metadata": {
            "tags": [],
            "needs_background": "light"
          }
        }
      ]
    },
    {
      "cell_type": "markdown",
      "metadata": {
        "id": "IjV3AxOFaJzg"
      },
      "source": [
        "### Heatmaps - Successful Transactions"
      ]
    },
    {
      "cell_type": "code",
      "metadata": {
        "colab": {
          "base_uri": "https://localhost:8080/",
          "height": 594
        },
        "id": "IYQHXhRjh_gP",
        "outputId": "6fdb565d-5d96-4200-c162-06d51c36c1e4"
      },
      "source": [
        "## Successful transactions\n",
        "color_1 = 'Greens'\n",
        "fig, (ax1, ax2) = plt.subplots(1,2, figsize = (24,9))\n",
        "\n",
        "corr_1 = train_data_1.corr()\n",
        "plt_full_1 = sns.heatmap(corr_1, annot=False, cmap=color_1, ax=ax1)\n",
        "plt_full_1.set_title('All Data Points')\n",
        "\n",
        "points = 500\n",
        "train_data_1_subset = train_data_1.sample(n = points, random_state = 10, axis=0)\n",
        "corr_reduced_1 = train_data_1_subset.corr()\n",
        "plt_reduced_1 = sns.heatmap(corr_reduced_1, annot=False, cmap=color_1, ax=ax2)\n",
        "plt_reduced_1.set_title(f'{points} Data Points')"
      ],
      "execution_count": 132,
      "outputs": [
        {
          "output_type": "execute_result",
          "data": {
            "text/plain": [
              "Text(0.5, 1.0, '500 Data Points')"
            ]
          },
          "metadata": {
            "tags": []
          },
          "execution_count": 132
        },
        {
          "output_type": "display_data",
          "data": {
            "image/png": "[encoded data removed]",
            "text/plain": [
              "<Figure size 1728x648 with 4 Axes>"
            ]
          },
          "metadata": {
            "tags": [],
            "needs_background": "light"
          }
        }
      ]
    },
    {
      "cell_type": "markdown",
      "metadata": {
        "id": "pW9JOGvVaNzI"
      },
      "source": [
        "### Heatmaps - Unsuccessful Transactions"
      ]
    },
    {
      "cell_type": "code",
      "metadata": {
        "colab": {
          "base_uri": "https://localhost:8080/",
          "height": 594
        },
        "id": "DQWw0AWNijpz",
        "outputId": "23e1a4b8-62b4-4d01-fd83-c176a345177b"
      },
      "source": [
        "# Unsuccessful transactions\n",
        "color_0 = 'Reds'\n",
        "fig, (ax1, ax2) = plt.subplots(1,2, figsize = (24,9))\n",
        "\n",
        "corr_0 = train_data_0.corr()\n",
        "plt_full_0 = sns.heatmap(corr_0, annot=False, cmap=color_0, ax=ax1)\n",
        "plt_full_0.set_title('All Data Points')\n",
        "\n",
        "points = 500\n",
        "train_data_0_subset = train_data_0.sample(n = points, random_state = 10, axis=0)\n",
        "corr_reduced_0 = train_data_1_subset.corr()\n",
        "plt_reduced_0 = sns.heatmap(corr_reduced_0, annot=False, cmap=color_0, ax=ax2)\n",
        "plt_reduced_0.set_title(f'{points} Data Points')"
      ],
      "execution_count": 133,
      "outputs": [
        {
          "output_type": "execute_result",
          "data": {
            "text/plain": [
              "Text(0.5, 1.0, '500 Data Points')"
            ]
          },
          "metadata": {
            "tags": []
          },
          "execution_count": 133
        },
        {
          "output_type": "display_data",
          "data": {
            "image/png": "[encoded data removed]",
            "text/plain": [
              "<Figure size 1728x648 with 4 Axes>"
            ]
          },
          "metadata": {
            "tags": [],
            "needs_background": "light"
          }
        }
      ]
    },
    {
      "cell_type": "markdown",
      "metadata": {
        "id": "wK01OKicasav"
      },
      "source": [
        "### Numerical Correlations"
      ]
    },
    {
      "cell_type": "code",
      "metadata": {
        "colab": {
          "base_uri": "https://localhost:8080/"
        },
        "id": "wLSL0tTRpour",
        "outputId": "8a535525-8df0-485d-bdda-335fae85ecfe"
      },
      "source": [
        "# All predictor variables are lower than .1 indicating a low correlation with the target\n",
        "\n",
        "# All data\n",
        "target_corr = train_data.corr()['target']\n",
        "correlated_vars = abs(target_corr).sort_values(ascending=False)\n",
        "correlated_vars"
      ],
      "execution_count": 134,
      "outputs": [
        {
          "output_type": "execute_result",
          "data": {
            "text/plain": [
              "target    1.000000\n",
              "var_20    0.080689\n",
              "var_31    0.073296\n",
              "var_5     0.070015\n",
              "var_3     0.066924\n",
              "var_27    0.064868\n",
              "var_32    0.063871\n",
              "var_10    0.063565\n",
              "var_15    0.062887\n",
              "var_43    0.061291\n",
              "var_17    0.059906\n",
              "var_24    0.059306\n",
              "var_9     0.059227\n",
              "var_8     0.057378\n",
              "var_39    0.057373\n",
              "var_19    0.057320\n",
              "var_46    0.056902\n",
              "var_38    0.055704\n",
              "var_2     0.055450\n",
              "var_6     0.054375\n",
              "var_34    0.053733\n",
              "var_0     0.052904\n",
              "var_30    0.052457\n",
              "var_12    0.052324\n",
              "var_49    0.051718\n",
              "var_44    0.051110\n",
              "var_26    0.050278\n",
              "var_40    0.050049\n",
              "var_1     0.049916\n",
              "var_28    0.049551\n",
              "var_13    0.049072\n",
              "var_14    0.048623\n",
              "var_18    0.048392\n",
              "var_35    0.048198\n",
              "var_41    0.047948\n",
              "var_23    0.047569\n",
              "var_45    0.047543\n",
              "var_25    0.047005\n",
              "var_22    0.046433\n",
              "var_11    0.045516\n",
              "var_36    0.045513\n",
              "var_47    0.045506\n",
              "var_16    0.045281\n",
              "var_7     0.044769\n",
              "var_48    0.042765\n",
              "var_4     0.042073\n",
              "var_29    0.041987\n",
              "var_42    0.041593\n",
              "var_33    0.040520\n",
              "var_21    0.040311\n",
              "var_37    0.040147\n",
              "Name: target, dtype: float64"
            ]
          },
          "metadata": {
            "tags": []
          },
          "execution_count": 134
        }
      ]
    },
    {
      "cell_type": "markdown",
      "metadata": {
        "id": "f5iOa_o3SMTw"
      },
      "source": [
        "# Data Processing\n"
      ]
    },
    {
      "cell_type": "markdown",
      "metadata": {
        "id": "X_PLB6C2hiRk"
      },
      "source": [
        "## Full Data with 90/10 Bias"
      ]
    },
    {
      "cell_type": "markdown",
      "metadata": {
        "id": "PK6Dg48jksQp"
      },
      "source": [
        "### Create target/predictor df (90/10)"
      ]
    },
    {
      "cell_type": "code",
      "metadata": {
        "colab": {
          "base_uri": "https://localhost:8080/"
        },
        "id": "uVSEumDpkpUF",
        "outputId": "a6b54cc2-7b46-48eb-e564-d533d81cfe13"
      },
      "source": [
        "p_data = train_data[train_data.columns[~train_data.columns.isin(['target'])]]\n",
        "p_data.info()\n"
      ],
      "execution_count": 135,
      "outputs": [
        {
          "output_type": "stream",
          "text": [
            "<class 'pandas.core.frame.DataFrame'>\n",
            "RangeIndex: 180000 entries, 0 to 179999\n",
            "Data columns (total 50 columns):\n",
            " #   Column  Non-Null Count   Dtype  \n",
            "---  ------  --------------   -----  \n",
            " 0   var_0   180000 non-null  float64\n",
            " 1   var_1   180000 non-null  float64\n",
            " 2   var_2   180000 non-null  float64\n",
            " 3   var_3   180000 non-null  float64\n",
            " 4   var_4   180000 non-null  float64\n",
            " 5   var_5   180000 non-null  float64\n",
            " 6   var_6   180000 non-null  float64\n",
            " 7   var_7   180000 non-null  float64\n",
            " 8   var_8   180000 non-null  float64\n",
            " 9   var_9   180000 non-null  float64\n",
            " 10  var_10  180000 non-null  float64\n",
            " 11  var_11  180000 non-null  float64\n",
            " 12  var_12  180000 non-null  float64\n",
            " 13  var_13  180000 non-null  float64\n",
            " 14  var_14  180000 non-null  float64\n",
            " 15  var_15  180000 non-null  float64\n",
            " 16  var_16  180000 non-null  float64\n",
            " 17  var_17  180000 non-null  float64\n",
            " 18  var_18  180000 non-null  float64\n",
            " 19  var_19  180000 non-null  float64\n",
            " 20  var_20  180000 non-null  float64\n",
            " 21  var_21  180000 non-null  float64\n",
            " 22  var_22  180000 non-null  float64\n",
            " 23  var_23  180000 non-null  float64\n",
            " 24  var_24  180000 non-null  float64\n",
            " 25  var_25  180000 non-null  float64\n",
            " 26  var_26  180000 non-null  float64\n",
            " 27  var_27  180000 non-null  float64\n",
            " 28  var_28  180000 non-null  float64\n",
            " 29  var_29  180000 non-null  float64\n",
            " 30  var_30  180000 non-null  float64\n",
            " 31  var_31  180000 non-null  float64\n",
            " 32  var_32  180000 non-null  float64\n",
            " 33  var_33  180000 non-null  float64\n",
            " 34  var_34  180000 non-null  float64\n",
            " 35  var_35  180000 non-null  float64\n",
            " 36  var_36  180000 non-null  float64\n",
            " 37  var_37  180000 non-null  float64\n",
            " 38  var_38  180000 non-null  float64\n",
            " 39  var_39  180000 non-null  float64\n",
            " 40  var_40  180000 non-null  float64\n",
            " 41  var_41  180000 non-null  float64\n",
            " 42  var_42  180000 non-null  float64\n",
            " 43  var_43  180000 non-null  float64\n",
            " 44  var_44  180000 non-null  float64\n",
            " 45  var_45  180000 non-null  float64\n",
            " 46  var_46  180000 non-null  float64\n",
            " 47  var_47  180000 non-null  float64\n",
            " 48  var_48  180000 non-null  float64\n",
            " 49  var_49  180000 non-null  float64\n",
            "dtypes: float64(50)\n",
            "memory usage: 68.7 MB\n"
          ],
          "name": "stdout"
        }
      ]
    },
    {
      "cell_type": "code",
      "metadata": {
        "colab": {
          "base_uri": "https://localhost:8080/"
        },
        "id": "97Id5CB-nkX3",
        "outputId": "326c2fc9-2467-43c6-8d69-747169658983"
      },
      "source": [
        "t_data = train_data['target']\n",
        "#cannot do info() on this table for some reason - because one column?\n",
        "# t_data.info()\n",
        "t_data.describe()"
      ],
      "execution_count": 136,
      "outputs": [
        {
          "output_type": "execute_result",
          "data": {
            "text/plain": [
              "count    180000.000000\n",
              "mean          0.100222\n",
              "std           0.300297\n",
              "min           0.000000\n",
              "25%           0.000000\n",
              "50%           0.000000\n",
              "75%           0.000000\n",
              "max           1.000000\n",
              "Name: target, dtype: float64"
            ]
          },
          "metadata": {
            "tags": []
          },
          "execution_count": 136
        }
      ]
    },
    {
      "cell_type": "markdown",
      "metadata": {
        "id": "79XFhnNYoqfF"
      },
      "source": [
        "### Define GNB Model (90/10)"
      ]
    },
    {
      "cell_type": "code",
      "metadata": {
        "colab": {
          "base_uri": "https://localhost:8080/"
        },
        "id": "_fXN4-tupn7r",
        "outputId": "0a6438b8-ee7b-47b5-923a-49551667026a"
      },
      "source": [
        "# Create and fit model. t_data is target and is Y. p_data are predictors.\n",
        "model = GaussianNB()\n",
        "model.fit(p_data, t_data)"
      ],
      "execution_count": 137,
      "outputs": [
        {
          "output_type": "execute_result",
          "data": {
            "text/plain": [
              "GaussianNB(priors=None, var_smoothing=1e-09)"
            ]
          },
          "metadata": {
            "tags": []
          },
          "execution_count": 137
        }
      ]
    },
    {
      "cell_type": "markdown",
      "metadata": {
        "id": "IPvTqjblDe02"
      },
      "source": [
        "### Confusion Matrix (90/10)\n",
        "For both the confusion matrix and classification report, accuracy is reported at around 91%.\n",
        "\n",
        "TODO: revisit this analysis"
      ]
    },
    {
      "cell_type": "code",
      "metadata": {
        "colab": {
          "base_uri": "https://localhost:8080/",
          "height": 496
        },
        "id": "YynIPccL7KWU",
        "outputId": "ad529094-c282-40a7-8a1d-b03cce584bda"
      },
      "source": [
        "# True Positive | False Positive\n",
        "# False Negativ | True Negative\n",
        "predicted_y = model.predict(p_data)\n",
        "plt.figure(figsize=(8,8))\n",
        "mat = metrics.confusion_matrix(t_data,predicted_y)\n",
        "sns.heatmap(mat.T, square=True, annot=True, fmt='d', cbar=False,\n",
        "            xticklabels='01', yticklabels='01')\n",
        "plt.xlabel('Actual')\n",
        "plt.ylabel('Predicted');"
      ],
      "execution_count": 138,
      "outputs": [
        {
          "output_type": "display_data",
          "data": {
            "image/png": "[encoded data removed]",
            "text/plain": [
              "<Figure size 576x576 with 1 Axes>"
            ]
          },
          "metadata": {
            "tags": [],
            "needs_background": "light"
          }
        }
      ]
    },
    {
      "cell_type": "code",
      "metadata": {
        "colab": {
          "base_uri": "https://localhost:8080/"
        },
        "id": "b2mMmW5e97xb",
        "outputId": "14cb9ccc-4d1d-4d1a-a9d9-15e31021c2ca"
      },
      "source": [
        "# Get accuracy score from confusion matrix\n",
        "metrics.accuracy_score(t_data, predicted_y)"
      ],
      "execution_count": 139,
      "outputs": [
        {
          "output_type": "execute_result",
          "data": {
            "text/plain": [
              "0.9112611111111111"
            ]
          },
          "metadata": {
            "tags": []
          },
          "execution_count": 139
        }
      ]
    },
    {
      "cell_type": "markdown",
      "metadata": {
        "id": "WW1gompNTZze"
      },
      "source": [
        "### Cross Validation (90/10)\n",
        "\n",
        "Y = Target (target column)\n",
        "\n",
        "X = Predictors (var_* columns)\n",
        "\n",
        "Accuracy is 91% when using the full dataset that contains 90% unsuccessful transactions and 10% successful transactions."
      ]
    },
    {
      "cell_type": "code",
      "metadata": {
        "colab": {
          "base_uri": "https://localhost:8080/"
        },
        "id": "v3vvBlvZAO4R",
        "outputId": "f1925c46-8ca7-48d3-bfb0-1f3ca94911f8"
      },
      "source": [
        "# How accurate is our model? \n",
        "# Number of iterations - ran with 5, 10, 50, 100, 200 iterations. All produce around 91% accuracy\n",
        "iterations = 200\n",
        "results = np.zeros(iterations)\n",
        "\n",
        "for idx in range(iterations):\n",
        "  # get different train and test data sets for each iteration\n",
        "  x_train, x_test, y_train, y_test = model_selection.train_test_split(p_data, t_data, test_size=0.25)\n",
        "  # train the model\n",
        "  model.fit(x_train, y_train)\n",
        "  # get predictions from the model\n",
        "  y_pred = model.predict(x_test)\n",
        "  # verify accuracy of predictions\n",
        "  results[idx] = metrics.accuracy_score(y_test,y_pred)\n",
        "\n",
        "print(results.mean())"
      ],
      "execution_count": 140,
      "outputs": [
        {
          "output_type": "stream",
          "text": [
            "0.911193888888889\n"
          ],
          "name": "stdout"
        }
      ]
    },
    {
      "cell_type": "code",
      "metadata": {
        "colab": {
          "base_uri": "https://localhost:8080/",
          "height": 353
        },
        "id": "54nsMAMSBHy2",
        "outputId": "6243a1af-47c6-42fd-c198-3e27091337b1"
      },
      "source": [
        "# more iterations with the training and testing data sets produce a smoother normal distribution.\n",
        "plt.hist(results)"
      ],
      "execution_count": 141,
      "outputs": [
        {
          "output_type": "execute_result",
          "data": {
            "text/plain": [
              "(array([ 2.,  6., 14., 50., 42., 43., 26., 15.,  1.,  1.]),\n",
              " array([0.90753333, 0.90831111, 0.90908889, 0.90986667, 0.91064444,\n",
              "        0.91142222, 0.9122    , 0.91297778, 0.91375556, 0.91453333,\n",
              "        0.91531111]),\n",
              " <a list of 10 Patch objects>)"
            ]
          },
          "metadata": {
            "tags": []
          },
          "execution_count": 141
        },
        {
          "output_type": "display_data",
          "data": {
            "image/png": "[encoded data removed]",
            "text/plain": [
              "<Figure size 432x288 with 1 Axes>"
            ]
          },
          "metadata": {
            "tags": [],
            "needs_background": "light"
          }
        }
      ]
    },
    {
      "cell_type": "markdown",
      "metadata": {
        "id": "nCth0nThh8uW"
      },
      "source": [
        "### Classification Report (90/10)"
      ]
    },
    {
      "cell_type": "code",
      "metadata": {
        "colab": {
          "base_uri": "https://localhost:8080/"
        },
        "id": "ByrIv3c1D-NN",
        "outputId": "c23c5b29-2fcb-4643-b21b-fb4622c60ddb"
      },
      "source": [
        "# classification_report?\n",
        "# classification_report(y_true, y_pred, target_names)\n",
        "classification_result = classification_report(t_data, predicted_y, target_names='01')\n",
        "print(classification_result)"
      ],
      "execution_count": 142,
      "outputs": [
        {
          "output_type": "stream",
          "text": [
            "              precision    recall  f1-score   support\n",
            "\n",
            "           0       0.92      0.99      0.95    161960\n",
            "           1       0.67      0.23      0.34     18040\n",
            "\n",
            "    accuracy                           0.91    180000\n",
            "   macro avg       0.79      0.61      0.65    180000\n",
            "weighted avg       0.89      0.91      0.89    180000\n",
            "\n"
          ],
          "name": "stdout"
        }
      ]
    },
    {
      "cell_type": "markdown",
      "metadata": {
        "id": "oHLN3eo_ipEw"
      },
      "source": [
        "## Reduced Data with 50/50"
      ]
    },
    {
      "cell_type": "markdown",
      "metadata": {
        "id": "L1xwpj2uMDSS"
      },
      "source": [
        "### Create target/predictor df 50/50\n",
        "\n"
      ]
    },
    {
      "cell_type": "code",
      "metadata": {
        "id": "M6nXGlWjMUEL"
      },
      "source": [
        "# Get random sample of unsuccessful transactions matching count of successful transactions\n",
        "# so we have 50/50 split and remove skew in the data. Original data is skewed at 90% unsuccessful\n",
        "# and 10% successful.\n",
        "# 2nd column contains the value count.\n",
        "no_transaction_count = train_data_1['target'].value_counts()[1]\n",
        "train_data_0_reduced = train_data_0.sample(n = no_transaction_count, axis=0)\n",
        "train_data_0_reduced.describe()\n",
        "\n",
        "# Join reduced unsuccessful transactions with successful transactions\n",
        "train_data_5050 = train_data_0_reduced.append(train_data_1)\n",
        "train_data_5050.describe()\n",
        "\n",
        "# Split into target and predictor dataframes\n",
        "p_data_5050 = train_data_5050[train_data.columns[~train_data_5050.columns.isin(['target'])]]\n",
        "t_data_5050 = train_data_5050['target']"
      ],
      "execution_count": 143,
      "outputs": []
    },
    {
      "cell_type": "markdown",
      "metadata": {
        "id": "9ZxNkEoojsO5"
      },
      "source": [
        "### Define GNB Model (50/50)"
      ]
    },
    {
      "cell_type": "code",
      "metadata": {
        "colab": {
          "base_uri": "https://localhost:8080/"
        },
        "id": "6wUk2hmJjxrN",
        "outputId": "ebbb5eeb-82ad-4d56-a2e8-c7b17ae08e18"
      },
      "source": [
        "model_5050 = GaussianNB()\n",
        "model_5050.fit(p_data_5050, t_data_5050)"
      ],
      "execution_count": 144,
      "outputs": [
        {
          "output_type": "execute_result",
          "data": {
            "text/plain": [
              "GaussianNB(priors=None, var_smoothing=1e-09)"
            ]
          },
          "metadata": {
            "tags": []
          },
          "execution_count": 144
        }
      ]
    },
    {
      "cell_type": "markdown",
      "metadata": {
        "id": "TYeW0S7zj-5S"
      },
      "source": [
        "### Confusion Matrix (50/50)"
      ]
    },
    {
      "cell_type": "code",
      "metadata": {
        "colab": {
          "base_uri": "https://localhost:8080/",
          "height": 496
        },
        "id": "EDQaDkSCkD7U",
        "outputId": "20e7e5bc-cf10-45fb-d3ca-25b703222ef6"
      },
      "source": [
        "# TODO: analysis needed\n",
        "predicted_y_5050 = model_5050.predict(p_data_5050)\n",
        "plt.figure(figsize=(8,8))\n",
        "mat_5050 = metrics.confusion_matrix(t_data_5050,predicted_y_5050)\n",
        "sns.heatmap(mat_5050.T, square=True, annot=True, fmt='d', cbar=False,\n",
        "            xticklabels='01', yticklabels='01')\n",
        "plt.xlabel('Actual')\n",
        "plt.ylabel('Predicted');"
      ],
      "execution_count": 145,
      "outputs": [
        {
          "output_type": "display_data",
          "data": {
            "image/png": "[encoded data removed]",
            "text/plain": [
              "<Figure size 576x576 with 1 Axes>"
            ]
          },
          "metadata": {
            "tags": [],
            "needs_background": "light"
          }
        }
      ]
    },
    {
      "cell_type": "markdown",
      "metadata": {
        "id": "h-8PPu-ZS22z"
      },
      "source": [
        "### Cross Validation (50/50)\n",
        "Accuracy is **76%** using 50% unsuccessful / 50% successful transactions compared to **91%** when using the full data set with 90 unsuccessful / 10 successful transactions."
      ]
    },
    {
      "cell_type": "code",
      "metadata": {
        "colab": {
          "base_uri": "https://localhost:8080/"
        },
        "id": "acG2NVKaThzj",
        "outputId": "6b3d186d-7b45-4c0f-eec3-a5beda57f359"
      },
      "source": [
        "# How accurate is our model? \n",
        "# Number of iterations - ran with 5, 10, 50, 100, 200 iterations. All produce around 91% accuracy\n",
        "iterations = 200\n",
        "results_5050 = np.zeros(iterations)\n",
        "\n",
        "for idx in range(iterations):\n",
        "  # get different train and test data sets for each iteration\n",
        "  x_train_5050, x_test_5050, y_train_5050, y_test_5050 = model_selection.train_test_split(p_data_5050, t_data_5050, test_size=0.25)\n",
        "  # train the model\n",
        "  model_5050.fit(x_train_5050, y_train_5050)\n",
        "  # get predictions from the model\n",
        "  y_pred_5050 = model_5050.predict(x_test_5050)\n",
        "  # verify accuracy of predictions\n",
        "  results_5050[idx] = metrics.accuracy_score(y_test_5050, y_pred_5050)\n",
        "\n",
        "print(results_5050.mean())"
      ],
      "execution_count": 146,
      "outputs": [
        {
          "output_type": "stream",
          "text": [
            "0.7536008869179601\n"
          ],
          "name": "stdout"
        }
      ]
    },
    {
      "cell_type": "code",
      "metadata": {
        "colab": {
          "base_uri": "https://localhost:8080/",
          "height": 353
        },
        "id": "h3U6LW4eqjIX",
        "outputId": "e62002f3-cdd1-46be-edb0-c13b5270201f"
      },
      "source": [
        "plt.hist(results_5050)"
      ],
      "execution_count": 147,
      "outputs": [
        {
          "output_type": "execute_result",
          "data": {
            "text/plain": [
              "(array([ 4.,  8., 15., 34., 40., 39., 29., 20.,  7.,  4.]),\n",
              " array([0.74223947, 0.7445122 , 0.74678492, 0.74905765, 0.75133038,\n",
              "        0.7536031 , 0.75587583, 0.75814856, 0.76042129, 0.76269401,\n",
              "        0.76496674]),\n",
              " <a list of 10 Patch objects>)"
            ]
          },
          "metadata": {
            "tags": []
          },
          "execution_count": 147
        },
        {
          "output_type": "display_data",
          "data": {
            "image/png": "[encoded data removed]",
            "text/plain": [
              "<Figure size 432x288 with 1 Axes>"
            ]
          },
          "metadata": {
            "tags": [],
            "needs_background": "light"
          }
        }
      ]
    },
    {
      "cell_type": "markdown",
      "metadata": {
        "id": "bzlXtNsClHNC"
      },
      "source": [
        "### Classification Report (50/50)\n"
      ]
    },
    {
      "cell_type": "code",
      "metadata": {
        "colab": {
          "base_uri": "https://localhost:8080/"
        },
        "id": "UbaDR2a4lLo5",
        "outputId": "fe503848-59e7-43c0-e5cc-04f716bd83f3"
      },
      "source": [
        "# classification_report?\n",
        "# classification_report(y_true, y_pred, target_names)\n",
        "classification_result_5050 = classification_report(t_data_5050, predicted_y_5050, target_names='01')\n",
        "print(classification_result_5050)"
      ],
      "execution_count": 148,
      "outputs": [
        {
          "output_type": "stream",
          "text": [
            "              precision    recall  f1-score   support\n",
            "\n",
            "           0       0.75      0.77      0.76     18040\n",
            "           1       0.76      0.74      0.75     18040\n",
            "\n",
            "    accuracy                           0.75     36080\n",
            "   macro avg       0.75      0.75      0.75     36080\n",
            "weighted avg       0.75      0.75      0.75     36080\n",
            "\n"
          ],
          "name": "stdout"
        }
      ]
    },
    {
      "cell_type": "markdown",
      "metadata": {
        "id": "e05gj8YfSP7e"
      },
      "source": [
        "# Data Visualization\n",
        "\n",
        "\n"
      ]
    },
    {
      "cell_type": "markdown",
      "metadata": {
        "id": "n9t5xl5rX4et"
      },
      "source": [
        "## Compare Confusion Matrices"
      ]
    },
    {
      "cell_type": "code",
      "metadata": {
        "colab": {
          "base_uri": "https://localhost:8080/",
          "height": 602
        },
        "id": "51r8OBAiyvOO",
        "outputId": "a29c6052-5fa4-45ef-d17d-a57bb2c7bdcf"
      },
      "source": [
        "model = GaussianNB()\n",
        "model.fit(p_data, t_data)\n",
        "predicted_y = model.predict(p_data)\n",
        "\n",
        "model_5050 = GaussianNB()\n",
        "model_5050.fit(p_data_5050, t_data_5050)\n",
        "predicted_y_5050 = model_5050.predict(p_data_5050)\n",
        "\n",
        "fig, (ax1, ax2) = plt.subplots(1,2, figsize = (20,20))\n",
        "\n",
        "mat = metrics.confusion_matrix(t_data,predicted_y)\n",
        "plt_9010 = sns.heatmap(mat.T, square=True, annot=True, fmt='d', cbar=False, xticklabels='01', yticklabels='01', ax=ax1)\n",
        "plt_9010.set_xlabel('Actual')\n",
        "plt_9010.set_ylabel('Predicted')\n",
        "plt_9010.set_title('90/10')\n",
        "\n",
        "mat_5050 = metrics.confusion_matrix(t_data_5050,predicted_y_5050)\n",
        "plt_5050 = sns.heatmap(mat_5050.T, square=True, annot=True, fmt='d', cbar=False, xticklabels='01', yticklabels='01', ax=ax2)\n",
        "plt_5050.set_xlabel('Actual')\n",
        "plt_5050.set_ylabel('Predicted')\n",
        "plt_5050.set_title('50/50')"
      ],
      "execution_count": 149,
      "outputs": [
        {
          "output_type": "execute_result",
          "data": {
            "text/plain": [
              "Text(0.5, 1.0, '50/50')"
            ]
          },
          "metadata": {
            "tags": []
          },
          "execution_count": 149
        },
        {
          "output_type": "display_data",
          "data": {
            "image/png": "[encoded data removed]",
            "text/plain": [
              "<Figure size 1440x1440 with 2 Axes>"
            ]
          },
          "metadata": {
            "tags": [],
            "needs_background": "light"
          }
        }
      ]
    },
    {
      "cell_type": "markdown",
      "metadata": {
        "id": "eR39FjClxCJ2"
      },
      "source": [
        "## Compare Classification Reports\n"
      ]
    },
    {
      "cell_type": "code",
      "metadata": {
        "colab": {
          "base_uri": "https://localhost:8080/"
        },
        "id": "gKF8xySdxNyI",
        "outputId": "c8bca6f3-622a-4739-de2d-03b5949fb0a1"
      },
      "source": [
        "# classification_report(y_true, y_pred, target_names)\n",
        "# https://www.delftstack.com/howto/python/python-bold-text/\n",
        "# color tips 3x dark, 4x background, 9x bright\n",
        "BOLD = '\\033[1m'\n",
        "DARKCYAN = '\\033[36m'\n",
        "PURPLE = '\\033[35m'\n",
        "print(DARKCYAN + BOLD)\n",
        "\n",
        "print('Classification 90/10')\n",
        "classification_result = classification_report(t_data, predicted_y, target_names='01')\n",
        "print(classification_result)\n",
        "\n",
        "print(PURPLE + '\\n'*2)\n",
        "\n",
        "print('Classification 50/50')\n",
        "classification_result_5050 = classification_report(t_data_5050, predicted_y_5050, target_names='01')\n",
        "print(classification_result_5050)"
      ],
      "execution_count": 150,
      "outputs": [
        {
          "output_type": "stream",
          "text": [
            "\u001b[36m\u001b[1m\n",
            "Classification 90/10\n",
            "              precision    recall  f1-score   support\n",
            "\n",
            "           0       0.92      0.99      0.95    161960\n",
            "           1       0.67      0.23      0.34     18040\n",
            "\n",
            "    accuracy                           0.91    180000\n",
            "   macro avg       0.79      0.61      0.65    180000\n",
            "weighted avg       0.89      0.91      0.89    180000\n",
            "\n",
            "\u001b[35m\n",
            "\n",
            "\n",
            "Classification 50/50\n",
            "              precision    recall  f1-score   support\n",
            "\n",
            "           0       0.75      0.77      0.76     18040\n",
            "           1       0.76      0.74      0.75     18040\n",
            "\n",
            "    accuracy                           0.75     36080\n",
            "   macro avg       0.75      0.75      0.75     36080\n",
            "weighted avg       0.75      0.75      0.75     36080\n",
            "\n"
          ],
          "name": "stdout"
        }
      ]
    },
    {
      "cell_type": "markdown",
      "metadata": {
        "id": "hMyFaL_jSTSc"
      },
      "source": [
        "# Conclusions and Recommendations\n",
        "\n",
        "TODO: based on the results, we predict \n",
        "\n",
        "predicts one class but not the other\n",
        "\n",
        "accuracy decreased ...\n",
        "\n",
        "Based on the above analysis, conclusions:\n",
        "\n",
        "* need more data\n",
        "* another model may be needed to ....\n",
        "\n",
        "helpful to know desired level of accuracy - unknown\n",
        "\n"
      ]
    }
  ]
}