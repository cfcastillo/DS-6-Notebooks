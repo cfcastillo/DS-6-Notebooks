{
  "nbformat": 4,
  "nbformat_minor": 0,
  "metadata": {
    "colab": {
      "name": "3. Education Capstone - Data Visualization.ipynb",
      "provenance": [],
      "collapsed_sections": [],
      "toc_visible": true,
      "include_colab_link": true
    },
    "kernelspec": {
      "display_name": "Python 3",
      "name": "python3"
    },
    "language_info": {
      "name": "python"
    }
  },
  "cells": [
    {
      "cell_type": "markdown",
      "metadata": {
        "id": "view-in-github",
        "colab_type": "text"
      },
      "source": [
        "<a href=\"https://colab.research.google.com/github/cfcastillo/DS-6-Notebooks/blob/main/3_Education_Capstone_Data_Visualization.ipynb\" target=\"_parent\"><img src=\"https://colab.research.google.com/assets/colab-badge.svg\" alt=\"Open In Colab\"/></a>"
      ]
    },
    {
      "cell_type": "markdown",
      "metadata": {
        "id": "BO6cDiaVzYbK"
      },
      "source": [
        "# Project Definition\n",
        "\n",
        "The purpose of this project is to identify what factors influence people to choose certain professions or trades. In understanding these factors, we can help colleges like Central New Mexico College (CNM) offer courses that support those professions and better target their marketing to people who are likely to choose those professions.\n",
        "\n",
        "This project will be a supervised categorization problem using tree-based models to identify the factors that will contribute to career choice.\n",
        "\n"
      ]
    },
    {
      "cell_type": "markdown",
      "metadata": {
        "id": "Kmxlgo4Wnjgd"
      },
      "source": [
        "# Data Collection and Cleaning\n",
        "\n",
        "The data collection and cleaning process is outlined in the notebook titled [1. Education Capstone - Data Collection and Cleaning.ipynb](https://colab.research.google.com/drive/1Y_1b7BmiRF6CSYnoiZqGpfjpbzU4qoFe#scrollTo=Kmxlgo4Wnjgd)\n"
      ]
    },
    {
      "cell_type": "markdown",
      "metadata": {
        "id": "lphrFeEB09dJ"
      },
      "source": [
        "## Column Descriptions\n",
        "\n",
        "[Here is a summary document showing selected columns.](https://docs.google.com/document/d/1io7TtqebJLtw6FKE7zkbUh26QkG3rEJrZX3Fver9zmU/edit)"
      ]
    },
    {
      "cell_type": "markdown",
      "metadata": {
        "id": "PRkEJT36ag8H"
      },
      "source": [
        "# Exploratory Data Analysis (EDA)\n",
        "\n",
        "EDA can be found in the notebook titled [2. Education Capstone - EDA and Processing.ipynb](https://colab.research.google.com/drive/1Fa18G_kZY8fCEKupjsfICRyeav7dEw7K)"
      ]
    },
    {
      "cell_type": "markdown",
      "metadata": {
        "id": "4wtlDiiy7FDy"
      },
      "source": [
        "# Data Processing / Models\n",
        "\n",
        "Data Processing and Model application can be found in the notebook titled [2. Education Capstone - EDA and Processing.ipynb](https://colab.research.google.com/drive/1Fa18G_kZY8fCEKupjsfICRyeav7dEw7K)"
      ]
    },
    {
      "cell_type": "markdown",
      "metadata": {
        "id": "fnEPX1rJ0rIu"
      },
      "source": [
        "# Imports"
      ]
    },
    {
      "cell_type": "code",
      "metadata": {
        "id": "QfQPgzzSer2x"
      },
      "source": [
        "# grab the imports needed for the project\n",
        "import pandas as pd\n",
        "import matplotlib.pyplot as plt\n",
        "import numpy as np\n",
        "import seaborn as sns\n",
        "# import statsmodels.api as sm\n",
        "\n",
        "from sklearn import metrics\n",
        "from sklearn.metrics import classification_report\n",
        "# import sklearn.model_selection as model_selection\n",
        "# from collections import Counter\n",
        "from imblearn.under_sampling import RandomUnderSampler\n",
        "from imblearn.over_sampling import RandomOverSampler\n",
        "# from mlxtend.plotting import plot_decision_regions\n",
        "\n",
        "from sklearn.ensemble import RandomForestClassifier\n",
        "import xgboost as xgb\n",
        "from sklearn.model_selection import GridSearchCV\n",
        "from sklearn.model_selection import train_test_split\n",
        "from sklearn.metrics import accuracy_score\n",
        "\n",
        "# Visualization\n",
        "import graphviz\n",
        "# from IPython.display import display\n",
        "# from sklearn import tree\n",
        "# import plotly.express as px\n",
        "# from ipywidgets import interact, Dropdown\n",
        "\n",
        "# Other\n",
        "# from sklearn.pipeline import make_pipeline  # does not work properly with randomoversampler.\n",
        "from imblearn.pipeline import make_pipeline"
      ],
      "execution_count": null,
      "outputs": []
    },
    {
      "cell_type": "markdown",
      "metadata": {
        "id": "_OHnbl6ffbM6"
      },
      "source": [
        "# Link to Data Drive\n"
      ]
    },
    {
      "cell_type": "code",
      "metadata": {
        "colab": {
          "base_uri": "https://localhost:8080/"
        },
        "id": "zN5qu2I-HlKA",
        "outputId": "614e8a23-05f3-4057-cf27-36be34d2a695"
      },
      "source": [
        "from google.colab import drive\n",
        "drive.mount('/content/drive')"
      ],
      "execution_count": null,
      "outputs": [
        {
          "output_type": "stream",
          "name": "stdout",
          "text": [
            "Mounted at /content/drive\n"
          ]
        }
      ]
    },
    {
      "cell_type": "markdown",
      "metadata": {
        "id": "v6Zkn805hLbk"
      },
      "source": [
        "The team had different data links. The global here is to allow team members to specify who is working on this notebook so that they can run the code in their environment."
      ]
    },
    {
      "cell_type": "code",
      "metadata": {
        "id": "ErVqm8idhfdd"
      },
      "source": [
        "# Expected values are: ellie, amy, cecilia - lowercase\n",
        "team_member = 'cecilia'\n",
        "\n",
        "# Root drive path\n",
        "if team_member in ['amy','ellie']:\n",
        "  root_drive = '/content/drive/MyDrive/'\n",
        "else: # Cecilia\n",
        "  root_drive = '/content/drive/MyDrive/Student Folder - Cecilia/Projects/'"
      ],
      "execution_count": null,
      "outputs": []
    },
    {
      "cell_type": "markdown",
      "metadata": {
        "id": "UDLQw48gaxPv"
      },
      "source": [
        "# Data Visualization and Results - Ellie"
      ]
    },
    {
      "cell_type": "code",
      "metadata": {
        "id": "Kobo3ndh3TX9"
      },
      "source": [
        "#Import df with all years\n",
        "df_viz = pd.read_csv(root_drive + 'Capstone/Data/FinalData/Trends/asec_trend_v2.csv')\n",
        "\n",
        "# Drop rows where A_DTOCC = 0 = Not in universe or Armed Forces\n",
        "df_viz.drop(np.where(df_viz['A_DTOCC'] == 0) [0], inplace=True)\n",
        "\n",
        "#create dictionary to convert A_DTOCC codes to string descriptions\n",
        "occ_dict = {1: 'Management',\n",
        "            2: 'Business & Financial Operations',\n",
        "            3: 'Computer & Mathematical Science',\n",
        "            4: 'Architecture & Engineering',\n",
        "            5: 'Life, Physical, & Social Science',\n",
        "            6: 'Community & Social Service',\n",
        "            7: 'Legal',\n",
        "            8: 'Education, Training, & Library',\n",
        "            9: 'Arts, Design, Entertainment, Sports, & Media',\n",
        "            10: 'Healthcare Practitioner & Technical',\n",
        "            11: 'Healtcare Support',\n",
        "            12: 'Protective Service',\n",
        "            13: 'Food Preparation & Serving Related',\n",
        "            14: 'Building & Grounds Cleaning & Maintenance',\n",
        "            15: 'Personal Care & Service',\n",
        "            16: 'Sales & Related',\n",
        "            17: 'Office & Administrative Support',\n",
        "            18: 'Farming, Fishing, & Forestry',\n",
        "            19: 'Construction & Extraction',\n",
        "            20: 'Installation, Maintenance, & Repair',\n",
        "            21: 'Production',\n",
        "            22: 'Transportation & Material Moving',\n",
        "            23: 'Armed Forces'}\n",
        "\n",
        "#add column to df_viz with A_DTOCC codes converted to string descriptions\n",
        "df_viz['occ_string'] = df_viz['A_DTOCC'].apply(lambda x: occ_dict.get(x, occ_dict.values))\n",
        "\n",
        "#Import state codes\n",
        "df_states = pd.read_csv(root_drive + 'Capstone/Data/Codes/FIPS_STATE_CODES.csv')\n",
        "\n",
        "#Combine dataframes to get state names\n",
        "df_viz = pd.merge(df_viz, df_states, how='left', left_on='GESTFIPS', right_on='FIPS_STATE')"
      ],
      "execution_count": null,
      "outputs": []
    },
    {
      "cell_type": "markdown",
      "metadata": {
        "id": "cWeAfWtx3Xcz"
      },
      "source": [
        "Nationally, what are the most popular occupation categories from years 2012 to 2021?"
      ]
    },
    {
      "cell_type": "code",
      "metadata": {
        "id": "dYZPknNLBkX2"
      },
      "source": [
        "state_o = df_viz['USPS_STATE'].unique()\n",
        "state_o_s = Dropdown(options = sorted(state_o))\n",
        "\n",
        "year_o = df_viz['DATA_YEAR'].unique()\n",
        "year_o_s = Dropdown(options = sorted(year_o)) \n",
        "\n",
        "@interact(Year = year_o_s, State = state_o_s)\n",
        "def pie(Year=2012, State = 'NM'):\n",
        "  'Makes pie plot with given year and state'\n",
        "  df_viz_year = df_viz[(df_viz['DATA_YEAR'] == Year) & (df_viz['USPS_STATE'] == State)]\n",
        "  keys = Counter(df_viz_year['occ_string']).keys()\n",
        "  list_keys= list(keys)\n",
        "  list_keys.sort()\n",
        "  fig = px.pie(df_viz_year, values=df_viz_year['occ_string'].value_counts().sort_index(), names=list_keys, color_discrete_map={\n",
        "    'Management': 'Dark24[0]',\n",
        "    'Business & Financial Operations': '#E15F99',\n",
        "    'Computer & Mathematical Science': '#1CA71C',\n",
        "    'Architecture & Engineering': '#FB0D0D',\n",
        "    'Life, Physical, & Social Science': '#DA16FF',\n",
        "    'Community & Social Service': '#222A2A',\n",
        "    'Legal': '#B68100',\n",
        "    'Education, Training, & Library': '#750D86',\n",
        "    'Arts, Design, Entertainment, Sports, & Media': '#EB663B',\n",
        "    'Healthcare Practitioner & Technical': '#511CFB',\n",
        "    'Healtcare Support': '#00A08B',\n",
        "    'Protective Service': '#FB00D1',\n",
        "    'Food Preparation & Serving Related': '#FC0080',\n",
        "    'Building & Grounds Cleaning & Maintenance': '#B2828D',\n",
        "    'Personal Care & Service': '#6C7C32',\n",
        "    'Sales & Related': '#778AAE',\n",
        "    'Office & Administrative Support': '#862A16',\n",
        "    'Farming, Fishing, & Forestry': '#A777F1',\n",
        "    'Construction & Extraction': '#620042',\n",
        "    'Installation, Maintenance, & Repair': '#1616A7',\n",
        "    'Production': '#DA60CA',\n",
        "    'Transportation & Material Moving': '#6C4516',\n",
        "    'Armed Forces': '#0D2A63'},\n",
        "    title=f'Occupations in the US by Year and State: {Year}, {State}')\n",
        "  return fig.show()\n",
        "\n",
        "#Note : how do I make the pie chart stay big when re-running the function? also cannot seem to get color_discrete_map to work so that categories stick with the same color"
      ],
      "execution_count": null,
      "outputs": []
    },
    {
      "cell_type": "code",
      "metadata": {
        "id": "BUd8KQXCe0Mo"
      },
      "source": [
        "df_viz.head(1)"
      ],
      "execution_count": null,
      "outputs": []
    },
    {
      "cell_type": "code",
      "metadata": {
        "id": "XfGGRNNnh2If"
      },
      "source": [
        "years = df_viz.DATA_YEAR.unique()\n",
        "years.sort()\n",
        "years\n",
        "\n",
        "years = df_viz.DATA_YEAR.unique().sort()\n",
        "print(years)"
      ],
      "execution_count": null,
      "outputs": []
    },
    {
      "cell_type": "code",
      "metadata": {
        "id": "K4ZUIIkrhEHu"
      },
      "source": [
        "#time series w/ NM state data w/ drop down of the 23 occupation codes\n",
        "\n",
        "occ_o = df_viz['occ_string'].unique()\n",
        "occ_o_s = Dropdown(options = sorted(occ_o))\n",
        "\n",
        "@interact(Occupation = occ_o_s)\n",
        "def timeseries(Occupation = 'Management'):\n",
        "  'Makes timeseries with given occupation category'\n",
        "  df_time = df_viz[(df_viz['occ_string'] == Occupation) & (df_viz['USPS_STATE'] == 'NM')]\n",
        "  fig = px.line(df_time, x=df_time.DATA_YEAR.unique().sort(), y=df_time['occ_string'].value_counts(), title='Occupations over Time')\n",
        "  return fig.show()"
      ],
      "execution_count": null,
      "outputs": []
    },
    {
      "cell_type": "markdown",
      "metadata": {
        "id": "RM66bT-6wwic"
      },
      "source": [
        "visualization ideas\n",
        "- trendlines\n",
        "- maps"
      ]
    },
    {
      "cell_type": "markdown",
      "metadata": {
        "id": "gUD7CFtATZQd"
      },
      "source": [
        "# Presentation and Conclusions - Final - Dec 3\n",
        "\n"
      ]
    },
    {
      "cell_type": "markdown",
      "metadata": {
        "id": "9NWc0bP5Yj4r"
      },
      "source": [
        ""
      ]
    }
  ]
}