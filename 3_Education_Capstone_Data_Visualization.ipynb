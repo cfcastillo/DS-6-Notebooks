{
  "nbformat": 4,
  "nbformat_minor": 0,
  "metadata": {
    "colab": {
      "name": "3. Education Capstone - Data Visualization.ipynb",
      "provenance": [],
      "collapsed_sections": [],
      "toc_visible": true,
      "include_colab_link": true
    },
    "kernelspec": {
      "display_name": "Python 3",
      "name": "python3"
    },
    "language_info": {
      "name": "python"
    },
    "widgets": {
      "application/vnd.jupyter.widget-state+json": {
        "a0e6f3c846d14e5daaedd53566525ed1": {
          "model_module": "@jupyter-widgets/controls",
          "model_name": "VBoxModel",
          "model_module_version": "1.5.0",
          "state": {
            "_view_name": "VBoxView",
            "_dom_classes": [
              "widget-interact"
            ],
            "_model_name": "VBoxModel",
            "_view_module": "@jupyter-widgets/controls",
            "_model_module_version": "1.5.0",
            "_view_count": null,
            "_view_module_version": "1.5.0",
            "box_style": "",
            "layout": "IPY_MODEL_2899e1e0b7614900a9f937982fc2237e",
            "_model_module": "@jupyter-widgets/controls",
            "children": [
              "IPY_MODEL_47088b30bf554b72b1ecc3be27fbebc1",
              "IPY_MODEL_5946f0572d7a4d488fdf76535e607ec9",
              "IPY_MODEL_62baa4975caa4a8c8ada0fc33cad83b2"
            ]
          }
        },
        "2899e1e0b7614900a9f937982fc2237e": {
          "model_module": "@jupyter-widgets/base",
          "model_name": "LayoutModel",
          "model_module_version": "1.2.0",
          "state": {
            "_view_name": "LayoutView",
            "grid_template_rows": null,
            "right": null,
            "justify_content": null,
            "_view_module": "@jupyter-widgets/base",
            "overflow": null,
            "_model_module_version": "1.2.0",
            "_view_count": null,
            "flex_flow": null,
            "width": null,
            "min_width": null,
            "border": null,
            "align_items": null,
            "bottom": null,
            "_model_module": "@jupyter-widgets/base",
            "top": null,
            "grid_column": null,
            "overflow_y": null,
            "overflow_x": null,
            "grid_auto_flow": null,
            "grid_area": null,
            "grid_template_columns": null,
            "flex": null,
            "_model_name": "LayoutModel",
            "justify_items": null,
            "grid_row": null,
            "max_height": null,
            "align_content": null,
            "visibility": null,
            "align_self": null,
            "height": null,
            "min_height": null,
            "padding": null,
            "grid_auto_rows": null,
            "grid_gap": null,
            "max_width": null,
            "order": null,
            "_view_module_version": "1.2.0",
            "grid_template_areas": null,
            "object_position": null,
            "object_fit": null,
            "grid_auto_columns": null,
            "margin": null,
            "display": null,
            "left": null
          }
        },
        "47088b30bf554b72b1ecc3be27fbebc1": {
          "model_module": "@jupyter-widgets/controls",
          "model_name": "DropdownModel",
          "model_module_version": "1.5.0",
          "state": {
            "_options_labels": [
              "2012",
              "2013",
              "2014",
              "2015",
              "2016",
              "2017",
              "2018",
              "2019",
              "2020",
              "2021"
            ],
            "_view_name": "DropdownView",
            "style": "IPY_MODEL_ab22352b87164c8f9591b93742affa91",
            "_dom_classes": [],
            "description": "Year",
            "_model_name": "DropdownModel",
            "index": 0,
            "_view_module": "@jupyter-widgets/controls",
            "_model_module_version": "1.5.0",
            "_view_count": null,
            "disabled": false,
            "_view_module_version": "1.5.0",
            "description_tooltip": null,
            "_model_module": "@jupyter-widgets/controls",
            "layout": "IPY_MODEL_d10a231996a84c6196b7654e51c635d8"
          }
        },
        "5946f0572d7a4d488fdf76535e607ec9": {
          "model_module": "@jupyter-widgets/controls",
          "model_name": "DropdownModel",
          "model_module_version": "1.5.0",
          "state": {
            "_options_labels": [
              "AK",
              "AL",
              "AR",
              "AZ",
              "CA",
              "CO",
              "CT",
              "DC",
              "DE",
              "FL",
              "GA",
              "HI",
              "IA",
              "ID",
              "IL",
              "IN",
              "KS",
              "KY",
              "LA",
              "MA",
              "MD",
              "ME",
              "MI",
              "MN",
              "MO",
              "MS",
              "MT",
              "NC",
              "ND",
              "NE",
              "NH",
              "NJ",
              "NM",
              "NV",
              "NY",
              "OH",
              "OK",
              "OR",
              "PA",
              "RI",
              "SC",
              "SD",
              "TN",
              "TX",
              "UT",
              "VA",
              "VT",
              "WA",
              "WI",
              "WV",
              "WY"
            ],
            "_view_name": "DropdownView",
            "style": "IPY_MODEL_2af7de974f77425cb838b51f49d6ca8c",
            "_dom_classes": [],
            "description": "State",
            "_model_name": "DropdownModel",
            "index": 0,
            "_view_module": "@jupyter-widgets/controls",
            "_model_module_version": "1.5.0",
            "_view_count": null,
            "disabled": false,
            "_view_module_version": "1.5.0",
            "description_tooltip": null,
            "_model_module": "@jupyter-widgets/controls",
            "layout": "IPY_MODEL_6c7fbd979bdc46bf92d29602b986fb28"
          }
        },
        "62baa4975caa4a8c8ada0fc33cad83b2": {
          "model_module": "@jupyter-widgets/output",
          "model_name": "OutputModel",
          "model_module_version": "1.0.0",
          "state": {
            "_view_name": "OutputView",
            "msg_id": "",
            "_dom_classes": [],
            "_model_name": "OutputModel",
            "outputs": [
              {
                "output_type": "display_data",
                "data": {
                  "text/html": "<html>\n<head><meta charset=\"utf-8\" /></head>\n<body>\n    <div>\n            <script src=\"https://cdnjs.cloudflare.com/ajax/libs/mathjax/2.7.5/MathJax.js?config=TeX-AMS-MML_SVG\"></script><script type=\"text/javascript\">if (window.MathJax) {MathJax.Hub.Config({SVG: {font: \"STIX-Web\"}});}</script>\n                <script type=\"text/javascript\">window.PlotlyConfig = {MathJaxConfig: 'local'};</script>\n        <script src=\"https://cdn.plot.ly/plotly-latest.min.js\"></script>    \n            <div id=\"144ca7a5-218f-4c7e-889c-c79a168b6d1e\" class=\"plotly-graph-div\" style=\"height:525px; width:100%;\"></div>\n            <script type=\"text/javascript\">\n                \n                    window.PLOTLYENV=window.PLOTLYENV || {};\n                    \n                if (document.getElementById(\"144ca7a5-218f-4c7e-889c-c79a168b6d1e\")) {\n                    Plotly.newPlot(\n                        '144ca7a5-218f-4c7e-889c-c79a168b6d1e',\n                        [{\"domain\": {\"x\": [0.0, 1.0], \"y\": [0.0, 1.0]}, \"hoverlabel\": {\"namelength\": 0}, \"hovertemplate\": \"label=%{label}<br>value=%{value}\", \"labels\": [\"Building & Grounds Cleaning & Maintenance\", \"Business & Financial Operations\", \"Construction & Extraction\", \"Education, Training, & Library\", \"Food Preparation & Serving Related\", \"Healthcare Practitioner & Technical\", \"Management\", \"Office & Administrative Support\", \"Personal Care & Service\", \"Production\", \"Sales & Related\", \"Transportation & Material Moving\"], \"legendgroup\": \"\", \"name\": \"\", \"showlegend\": true, \"type\": \"pie\", \"values\": [45, 44, 86, 61, 66, 54, 113, 144, 51, 37, 93, 79]}],\n                        {\"legend\": {\"tracegroupgap\": 0}, \"template\": {\"data\": {\"bar\": [{\"error_x\": {\"color\": \"#2a3f5f\"}, \"error_y\": {\"color\": \"#2a3f5f\"}, \"marker\": {\"line\": {\"color\": \"#E5ECF6\", \"width\": 0.5}}, \"type\": \"bar\"}], \"barpolar\": [{\"marker\": {\"line\": {\"color\": \"#E5ECF6\", \"width\": 0.5}}, \"type\": \"barpolar\"}], \"carpet\": [{\"aaxis\": {\"endlinecolor\": \"#2a3f5f\", \"gridcolor\": \"white\", \"linecolor\": \"white\", \"minorgridcolor\": \"white\", \"startlinecolor\": \"#2a3f5f\"}, \"baxis\": {\"endlinecolor\": \"#2a3f5f\", \"gridcolor\": \"white\", \"linecolor\": \"white\", \"minorgridcolor\": \"white\", \"startlinecolor\": \"#2a3f5f\"}, \"type\": \"carpet\"}], \"choropleth\": [{\"colorbar\": {\"outlinewidth\": 0, \"ticks\": \"\"}, \"type\": \"choropleth\"}], \"contour\": [{\"colorbar\": {\"outlinewidth\": 0, \"ticks\": \"\"}, \"colorscale\": [[0.0, \"#0d0887\"], [0.1111111111111111, \"#46039f\"], [0.2222222222222222, \"#7201a8\"], [0.3333333333333333, \"#9c179e\"], [0.4444444444444444, \"#bd3786\"], [0.5555555555555556, \"#d8576b\"], [0.6666666666666666, \"#ed7953\"], [0.7777777777777778, \"#fb9f3a\"], [0.8888888888888888, \"#fdca26\"], [1.0, \"#f0f921\"]], \"type\": \"contour\"}], \"contourcarpet\": [{\"colorbar\": {\"outlinewidth\": 0, \"ticks\": \"\"}, \"type\": \"contourcarpet\"}], \"heatmap\": [{\"colorbar\": {\"outlinewidth\": 0, \"ticks\": \"\"}, \"colorscale\": [[0.0, \"#0d0887\"], [0.1111111111111111, \"#46039f\"], [0.2222222222222222, \"#7201a8\"], [0.3333333333333333, \"#9c179e\"], [0.4444444444444444, \"#bd3786\"], [0.5555555555555556, \"#d8576b\"], [0.6666666666666666, \"#ed7953\"], [0.7777777777777778, \"#fb9f3a\"], [0.8888888888888888, \"#fdca26\"], [1.0, \"#f0f921\"]], \"type\": \"heatmap\"}], \"heatmapgl\": [{\"colorbar\": {\"outlinewidth\": 0, \"ticks\": \"\"}, \"colorscale\": [[0.0, \"#0d0887\"], [0.1111111111111111, \"#46039f\"], [0.2222222222222222, \"#7201a8\"], [0.3333333333333333, \"#9c179e\"], [0.4444444444444444, \"#bd3786\"], [0.5555555555555556, \"#d8576b\"], [0.6666666666666666, \"#ed7953\"], [0.7777777777777778, \"#fb9f3a\"], [0.8888888888888888, \"#fdca26\"], [1.0, \"#f0f921\"]], \"type\": \"heatmapgl\"}], \"histogram\": [{\"marker\": {\"colorbar\": {\"outlinewidth\": 0, \"ticks\": \"\"}}, \"type\": \"histogram\"}], \"histogram2d\": [{\"colorbar\": {\"outlinewidth\": 0, \"ticks\": \"\"}, \"colorscale\": [[0.0, \"#0d0887\"], [0.1111111111111111, \"#46039f\"], [0.2222222222222222, \"#7201a8\"], [0.3333333333333333, \"#9c179e\"], [0.4444444444444444, \"#bd3786\"], [0.5555555555555556, \"#d8576b\"], [0.6666666666666666, \"#ed7953\"], [0.7777777777777778, \"#fb9f3a\"], [0.8888888888888888, \"#fdca26\"], [1.0, \"#f0f921\"]], \"type\": \"histogram2d\"}], \"histogram2dcontour\": [{\"colorbar\": {\"outlinewidth\": 0, \"ticks\": \"\"}, \"colorscale\": [[0.0, \"#0d0887\"], [0.1111111111111111, \"#46039f\"], [0.2222222222222222, \"#7201a8\"], [0.3333333333333333, \"#9c179e\"], [0.4444444444444444, \"#bd3786\"], [0.5555555555555556, \"#d8576b\"], [0.6666666666666666, \"#ed7953\"], [0.7777777777777778, \"#fb9f3a\"], [0.8888888888888888, \"#fdca26\"], [1.0, \"#f0f921\"]], \"type\": \"histogram2dcontour\"}], \"mesh3d\": [{\"colorbar\": {\"outlinewidth\": 0, \"ticks\": \"\"}, \"type\": \"mesh3d\"}], \"parcoords\": [{\"line\": {\"colorbar\": {\"outlinewidth\": 0, \"ticks\": \"\"}}, \"type\": \"parcoords\"}], \"pie\": [{\"automargin\": true, \"type\": \"pie\"}], \"scatter\": [{\"marker\": {\"colorbar\": {\"outlinewidth\": 0, \"ticks\": \"\"}}, \"type\": \"scatter\"}], \"scatter3d\": [{\"line\": {\"colorbar\": {\"outlinewidth\": 0, \"ticks\": \"\"}}, \"marker\": {\"colorbar\": {\"outlinewidth\": 0, \"ticks\": \"\"}}, \"type\": \"scatter3d\"}], \"scattercarpet\": [{\"marker\": {\"colorbar\": {\"outlinewidth\": 0, \"ticks\": \"\"}}, \"type\": \"scattercarpet\"}], \"scattergeo\": [{\"marker\": {\"colorbar\": {\"outlinewidth\": 0, \"ticks\": \"\"}}, \"type\": \"scattergeo\"}], \"scattergl\": [{\"marker\": {\"colorbar\": {\"outlinewidth\": 0, \"ticks\": \"\"}}, \"type\": \"scattergl\"}], \"scattermapbox\": [{\"marker\": {\"colorbar\": {\"outlinewidth\": 0, \"ticks\": \"\"}}, \"type\": \"scattermapbox\"}], \"scatterpolar\": [{\"marker\": {\"colorbar\": {\"outlinewidth\": 0, \"ticks\": \"\"}}, \"type\": \"scatterpolar\"}], \"scatterpolargl\": [{\"marker\": {\"colorbar\": {\"outlinewidth\": 0, \"ticks\": \"\"}}, \"type\": \"scatterpolargl\"}], \"scatterternary\": [{\"marker\": {\"colorbar\": {\"outlinewidth\": 0, \"ticks\": \"\"}}, \"type\": \"scatterternary\"}], \"surface\": [{\"colorbar\": {\"outlinewidth\": 0, \"ticks\": \"\"}, \"colorscale\": [[0.0, \"#0d0887\"], [0.1111111111111111, \"#46039f\"], [0.2222222222222222, \"#7201a8\"], [0.3333333333333333, \"#9c179e\"], [0.4444444444444444, \"#bd3786\"], [0.5555555555555556, \"#d8576b\"], [0.6666666666666666, \"#ed7953\"], [0.7777777777777778, \"#fb9f3a\"], [0.8888888888888888, \"#fdca26\"], [1.0, \"#f0f921\"]], \"type\": \"surface\"}], \"table\": [{\"cells\": {\"fill\": {\"color\": \"#EBF0F8\"}, \"line\": {\"color\": \"white\"}}, \"header\": {\"fill\": {\"color\": \"#C8D4E3\"}, \"line\": {\"color\": \"white\"}}, \"type\": \"table\"}]}, \"layout\": {\"annotationdefaults\": {\"arrowcolor\": \"#2a3f5f\", \"arrowhead\": 0, \"arrowwidth\": 1}, \"coloraxis\": {\"colorbar\": {\"outlinewidth\": 0, \"ticks\": \"\"}}, \"colorscale\": {\"diverging\": [[0, \"#8e0152\"], [0.1, \"#c51b7d\"], [0.2, \"#de77ae\"], [0.3, \"#f1b6da\"], [0.4, \"#fde0ef\"], [0.5, \"#f7f7f7\"], [0.6, \"#e6f5d0\"], [0.7, \"#b8e186\"], [0.8, \"#7fbc41\"], [0.9, \"#4d9221\"], [1, \"#276419\"]], \"sequential\": [[0.0, \"#0d0887\"], [0.1111111111111111, \"#46039f\"], [0.2222222222222222, \"#7201a8\"], [0.3333333333333333, \"#9c179e\"], [0.4444444444444444, \"#bd3786\"], [0.5555555555555556, \"#d8576b\"], [0.6666666666666666, \"#ed7953\"], [0.7777777777777778, \"#fb9f3a\"], [0.8888888888888888, \"#fdca26\"], [1.0, \"#f0f921\"]], \"sequentialminus\": [[0.0, \"#0d0887\"], [0.1111111111111111, \"#46039f\"], [0.2222222222222222, \"#7201a8\"], [0.3333333333333333, \"#9c179e\"], [0.4444444444444444, \"#bd3786\"], [0.5555555555555556, \"#d8576b\"], [0.6666666666666666, \"#ed7953\"], [0.7777777777777778, \"#fb9f3a\"], [0.8888888888888888, \"#fdca26\"], [1.0, \"#f0f921\"]]}, \"colorway\": [\"#636efa\", \"#EF553B\", \"#00cc96\", \"#ab63fa\", \"#FFA15A\", \"#19d3f3\", \"#FF6692\", \"#B6E880\", \"#FF97FF\", \"#FECB52\"], \"font\": {\"color\": \"#2a3f5f\"}, \"geo\": {\"bgcolor\": \"white\", \"lakecolor\": \"white\", \"landcolor\": \"#E5ECF6\", \"showlakes\": true, \"showland\": true, \"subunitcolor\": \"white\"}, \"hoverlabel\": {\"align\": \"left\"}, \"hovermode\": \"closest\", \"mapbox\": {\"style\": \"light\"}, \"paper_bgcolor\": \"white\", \"plot_bgcolor\": \"#E5ECF6\", \"polar\": {\"angularaxis\": {\"gridcolor\": \"white\", \"linecolor\": \"white\", \"ticks\": \"\"}, \"bgcolor\": \"#E5ECF6\", \"radialaxis\": {\"gridcolor\": \"white\", \"linecolor\": \"white\", \"ticks\": \"\"}}, \"scene\": {\"xaxis\": {\"backgroundcolor\": \"#E5ECF6\", \"gridcolor\": \"white\", \"gridwidth\": 2, \"linecolor\": \"white\", \"showbackground\": true, \"ticks\": \"\", \"zerolinecolor\": \"white\"}, \"yaxis\": {\"backgroundcolor\": \"#E5ECF6\", \"gridcolor\": \"white\", \"gridwidth\": 2, \"linecolor\": \"white\", \"showbackground\": true, \"ticks\": \"\", \"zerolinecolor\": \"white\"}, \"zaxis\": {\"backgroundcolor\": \"#E5ECF6\", \"gridcolor\": \"white\", \"gridwidth\": 2, \"linecolor\": \"white\", \"showbackground\": true, \"ticks\": \"\", \"zerolinecolor\": \"white\"}}, \"shapedefaults\": {\"line\": {\"color\": \"#2a3f5f\"}}, \"ternary\": {\"aaxis\": {\"gridcolor\": \"white\", \"linecolor\": \"white\", \"ticks\": \"\"}, \"baxis\": {\"gridcolor\": \"white\", \"linecolor\": \"white\", \"ticks\": \"\"}, \"bgcolor\": \"#E5ECF6\", \"caxis\": {\"gridcolor\": \"white\", \"linecolor\": \"white\", \"ticks\": \"\"}}, \"title\": {\"x\": 0.05}, \"xaxis\": {\"automargin\": true, \"gridcolor\": \"white\", \"linecolor\": \"white\", \"ticks\": \"\", \"title\": {\"standoff\": 15}, \"zerolinecolor\": \"white\", \"zerolinewidth\": 2}, \"yaxis\": {\"automargin\": true, \"gridcolor\": \"white\", \"linecolor\": \"white\", \"ticks\": \"\", \"title\": {\"standoff\": 15}, \"zerolinecolor\": \"white\", \"zerolinewidth\": 2}}}, \"title\": {\"text\": \"Occupations in the US by Year and State: 2012, AK\"}},\n                        {\"responsive\": true}\n                    ).then(function(){\n                            \nvar gd = document.getElementById('144ca7a5-218f-4c7e-889c-c79a168b6d1e');\nvar x = new MutationObserver(function (mutations, observer) {{\n        var display = window.getComputedStyle(gd).display;\n        if (!display || display === 'none') {{\n            console.log([gd, 'removed!']);\n            Plotly.purge(gd);\n            observer.disconnect();\n        }}\n}});\n\n// Listen for the removal of the full notebook cells\nvar notebookContainer = gd.closest('#notebook-container');\nif (notebookContainer) {{\n    x.observe(notebookContainer, {childList: true});\n}}\n\n// Listen for the clearing of the current output cell\nvar outputEl = gd.closest('.output');\nif (outputEl) {{\n    x.observe(outputEl, {childList: true});\n}}\n\n                        })\n                };\n                \n            </script>\n        </div>\n</body>\n</html>"
                },
                "metadata": {}
              }
            ],
            "_view_module": "@jupyter-widgets/output",
            "_model_module_version": "1.0.0",
            "_view_count": null,
            "_view_module_version": "1.0.0",
            "layout": "IPY_MODEL_d1662ded75fa4851ad2e9b352ad8fc7f",
            "_model_module": "@jupyter-widgets/output"
          }
        },
        "ab22352b87164c8f9591b93742affa91": {
          "model_module": "@jupyter-widgets/controls",
          "model_name": "DescriptionStyleModel",
          "model_module_version": "1.5.0",
          "state": {
            "_view_name": "StyleView",
            "_model_name": "DescriptionStyleModel",
            "description_width": "",
            "_view_module": "@jupyter-widgets/base",
            "_model_module_version": "1.5.0",
            "_view_count": null,
            "_view_module_version": "1.2.0",
            "_model_module": "@jupyter-widgets/controls"
          }
        },
        "d10a231996a84c6196b7654e51c635d8": {
          "model_module": "@jupyter-widgets/base",
          "model_name": "LayoutModel",
          "model_module_version": "1.2.0",
          "state": {
            "_view_name": "LayoutView",
            "grid_template_rows": null,
            "right": null,
            "justify_content": null,
            "_view_module": "@jupyter-widgets/base",
            "overflow": null,
            "_model_module_version": "1.2.0",
            "_view_count": null,
            "flex_flow": null,
            "width": null,
            "min_width": null,
            "border": null,
            "align_items": null,
            "bottom": null,
            "_model_module": "@jupyter-widgets/base",
            "top": null,
            "grid_column": null,
            "overflow_y": null,
            "overflow_x": null,
            "grid_auto_flow": null,
            "grid_area": null,
            "grid_template_columns": null,
            "flex": null,
            "_model_name": "LayoutModel",
            "justify_items": null,
            "grid_row": null,
            "max_height": null,
            "align_content": null,
            "visibility": null,
            "align_self": null,
            "height": null,
            "min_height": null,
            "padding": null,
            "grid_auto_rows": null,
            "grid_gap": null,
            "max_width": null,
            "order": null,
            "_view_module_version": "1.2.0",
            "grid_template_areas": null,
            "object_position": null,
            "object_fit": null,
            "grid_auto_columns": null,
            "margin": null,
            "display": null,
            "left": null
          }
        },
        "2af7de974f77425cb838b51f49d6ca8c": {
          "model_module": "@jupyter-widgets/controls",
          "model_name": "DescriptionStyleModel",
          "model_module_version": "1.5.0",
          "state": {
            "_view_name": "StyleView",
            "_model_name": "DescriptionStyleModel",
            "description_width": "",
            "_view_module": "@jupyter-widgets/base",
            "_model_module_version": "1.5.0",
            "_view_count": null,
            "_view_module_version": "1.2.0",
            "_model_module": "@jupyter-widgets/controls"
          }
        },
        "6c7fbd979bdc46bf92d29602b986fb28": {
          "model_module": "@jupyter-widgets/base",
          "model_name": "LayoutModel",
          "model_module_version": "1.2.0",
          "state": {
            "_view_name": "LayoutView",
            "grid_template_rows": null,
            "right": null,
            "justify_content": null,
            "_view_module": "@jupyter-widgets/base",
            "overflow": null,
            "_model_module_version": "1.2.0",
            "_view_count": null,
            "flex_flow": null,
            "width": null,
            "min_width": null,
            "border": null,
            "align_items": null,
            "bottom": null,
            "_model_module": "@jupyter-widgets/base",
            "top": null,
            "grid_column": null,
            "overflow_y": null,
            "overflow_x": null,
            "grid_auto_flow": null,
            "grid_area": null,
            "grid_template_columns": null,
            "flex": null,
            "_model_name": "LayoutModel",
            "justify_items": null,
            "grid_row": null,
            "max_height": null,
            "align_content": null,
            "visibility": null,
            "align_self": null,
            "height": null,
            "min_height": null,
            "padding": null,
            "grid_auto_rows": null,
            "grid_gap": null,
            "max_width": null,
            "order": null,
            "_view_module_version": "1.2.0",
            "grid_template_areas": null,
            "object_position": null,
            "object_fit": null,
            "grid_auto_columns": null,
            "margin": null,
            "display": null,
            "left": null
          }
        },
        "d1662ded75fa4851ad2e9b352ad8fc7f": {
          "model_module": "@jupyter-widgets/base",
          "model_name": "LayoutModel",
          "model_module_version": "1.2.0",
          "state": {
            "_view_name": "LayoutView",
            "grid_template_rows": null,
            "right": null,
            "justify_content": null,
            "_view_module": "@jupyter-widgets/base",
            "overflow": null,
            "_model_module_version": "1.2.0",
            "_view_count": null,
            "flex_flow": null,
            "width": null,
            "min_width": null,
            "border": null,
            "align_items": null,
            "bottom": null,
            "_model_module": "@jupyter-widgets/base",
            "top": null,
            "grid_column": null,
            "overflow_y": null,
            "overflow_x": null,
            "grid_auto_flow": null,
            "grid_area": null,
            "grid_template_columns": null,
            "flex": null,
            "_model_name": "LayoutModel",
            "justify_items": null,
            "grid_row": null,
            "max_height": null,
            "align_content": null,
            "visibility": null,
            "align_self": null,
            "height": null,
            "min_height": null,
            "padding": null,
            "grid_auto_rows": null,
            "grid_gap": null,
            "max_width": null,
            "order": null,
            "_view_module_version": "1.2.0",
            "grid_template_areas": null,
            "object_position": null,
            "object_fit": null,
            "grid_auto_columns": null,
            "margin": null,
            "display": null,
            "left": null
          }
        },
        "36de30fded3540fcaebda63b6dfcc7be": {
          "model_module": "@jupyter-widgets/controls",
          "model_name": "VBoxModel",
          "model_module_version": "1.5.0",
          "state": {
            "_view_name": "VBoxView",
            "_dom_classes": [
              "widget-interact"
            ],
            "_model_name": "VBoxModel",
            "_view_module": "@jupyter-widgets/controls",
            "_model_module_version": "1.5.0",
            "_view_count": null,
            "_view_module_version": "1.5.0",
            "box_style": "",
            "layout": "IPY_MODEL_1717a086ffe441b7b085e7dd88fa8aec",
            "_model_module": "@jupyter-widgets/controls",
            "children": [
              "IPY_MODEL_5946f0572d7a4d488fdf76535e607ec9",
              "IPY_MODEL_730d6d9307374f7abe43d2d50c86adcd"
            ]
          }
        },
        "1717a086ffe441b7b085e7dd88fa8aec": {
          "model_module": "@jupyter-widgets/base",
          "model_name": "LayoutModel",
          "model_module_version": "1.2.0",
          "state": {
            "_view_name": "LayoutView",
            "grid_template_rows": null,
            "right": null,
            "justify_content": null,
            "_view_module": "@jupyter-widgets/base",
            "overflow": null,
            "_model_module_version": "1.2.0",
            "_view_count": null,
            "flex_flow": null,
            "width": null,
            "min_width": null,
            "border": null,
            "align_items": null,
            "bottom": null,
            "_model_module": "@jupyter-widgets/base",
            "top": null,
            "grid_column": null,
            "overflow_y": null,
            "overflow_x": null,
            "grid_auto_flow": null,
            "grid_area": null,
            "grid_template_columns": null,
            "flex": null,
            "_model_name": "LayoutModel",
            "justify_items": null,
            "grid_row": null,
            "max_height": null,
            "align_content": null,
            "visibility": null,
            "align_self": null,
            "height": null,
            "min_height": null,
            "padding": null,
            "grid_auto_rows": null,
            "grid_gap": null,
            "max_width": null,
            "order": null,
            "_view_module_version": "1.2.0",
            "grid_template_areas": null,
            "object_position": null,
            "object_fit": null,
            "grid_auto_columns": null,
            "margin": null,
            "display": null,
            "left": null
          }
        },
        "730d6d9307374f7abe43d2d50c86adcd": {
          "model_module": "@jupyter-widgets/output",
          "model_name": "OutputModel",
          "model_module_version": "1.0.0",
          "state": {
            "_view_name": "OutputView",
            "msg_id": "",
            "_dom_classes": [],
            "_model_name": "OutputModel",
            "outputs": [
              {
                "output_type": "display_data",
                "data": {
                  "text/html": "<html>\n<head><meta charset=\"utf-8\" /></head>\n<body>\n    <div>\n            <script src=\"https://cdnjs.cloudflare.com/ajax/libs/mathjax/2.7.5/MathJax.js?config=TeX-AMS-MML_SVG\"></script><script type=\"text/javascript\">if (window.MathJax) {MathJax.Hub.Config({SVG: {font: \"STIX-Web\"}});}</script>\n                <script type=\"text/javascript\">window.PlotlyConfig = {MathJaxConfig: 'local'};</script>\n        <script src=\"https://cdn.plot.ly/plotly-latest.min.js\"></script>    \n            <div id=\"adbe2bf1-0981-4380-928f-ebd9ac93c301\" class=\"plotly-graph-div\" style=\"height:525px; width:100%;\"></div>\n            <script type=\"text/javascript\">\n                \n                    window.PLOTLYENV=window.PLOTLYENV || {};\n                    \n                if (document.getElementById(\"adbe2bf1-0981-4380-928f-ebd9ac93c301\")) {\n                    Plotly.newPlot(\n                        'adbe2bf1-0981-4380-928f-ebd9ac93c301',\n                        [{\"mode\": \"lines+markers\", \"name\": \"Construction & Extraction Percent\", \"type\": \"scatter\", \"x\": [2012, 2013, 2014, 2015, 2016, 2017, 2018, 2019, 2020, 2021], \"y\": [9.851088201603666, 7.74869109947644, 8.223684210526317, 10.17142857142857, 9.353348729792147, 8.32356389214537, 6.501950585175553, 6.775407779171895, 7.293127629733521, 8.836524300441827]}, {\"mode\": \"lines+markers\", \"name\": \"Education, Training, & Library Percent\", \"type\": \"scatter\", \"x\": [2012, 2013, 2014, 2015, 2016, 2017, 2018, 2019, 2020, 2021], \"y\": [6.987399770904926, 8.167539267015707, 9.100877192982457, 8.685714285714285, 7.852193995381063, 7.268464243845251, 8.192457737321195, 7.65370138017566, 8.695652173913043, 6.62739322533137]}, {\"mode\": \"lines+markers\", \"name\": \"Transportation & Material Moving Percent\", \"type\": \"scatter\", \"x\": [2012, 2013, 2014, 2015, 2016, 2017, 2018, 2019, 2020, 2021], \"y\": [9.049255441008018, 7.539267015706806, 8.333333333333332, 10.17142857142857, 6.351039260969977, 6.3305978898007025, 8.192457737321195, 7.65370138017566, 8.274894810659186, 9.867452135493373]}, {\"mode\": \"lines+markers\", \"name\": \"Sales & Related Percent\", \"type\": \"scatter\", \"x\": [2012, 2013, 2014, 2015, 2016, 2017, 2018, 2019, 2020, 2021], \"y\": [10.652920962199312, 10.261780104712042, 11.074561403508772, 8.342857142857143, 9.930715935334874, 12.42672919109027, 8.84265279583875, 12.045169385194479, 12.903225806451612, 12.076583210603829]}, {\"mode\": \"lines+markers\", \"name\": \"Business & Financial Operations Percent\", \"type\": \"scatter\", \"x\": [2012, 2013, 2014, 2015, 2016, 2017, 2018, 2019, 2020, 2021], \"y\": [5.040091638029782, 5.7591623036649215, 3.7280701754385963, 4.914285714285714, 6.581986143187067, 5.978898007033997, 5.331599479843954, 5.395232120451694, 5.610098176718092, 4.418262150220913]}, {\"mode\": \"lines+markers\", \"name\": \"Office & Administrative Support Percent\", \"type\": \"scatter\", \"x\": [2012, 2013, 2014, 2015, 2016, 2017, 2018, 2019, 2020, 2021], \"y\": [16.49484536082474, 17.382198952879584, 16.776315789473685, 16.914285714285715, 18.59122401847575, 16.881594372801874, 17.425227568270483, 14.554579673776663, 15.848527349228611, 16.347569955817377]}, {\"mode\": \"lines+markers\", \"name\": \"Management Percent\", \"type\": \"scatter\", \"x\": [2012, 2013, 2014, 2015, 2016, 2017, 2018, 2019, 2020, 2021], \"y\": [12.943871706758307, 13.717277486910994, 14.692982456140353, 12.685714285714287, 15.1270207852194, 14.06799531066823, 15.474642392717817, 15.934755332496863, 14.586255259467041, 17.673048600883654]}, {\"mode\": \"lines+markers\", \"name\": \"Personal Care & Service Percent\", \"type\": \"scatter\", \"x\": [2012, 2013, 2014, 2015, 2016, 2017, 2018, 2019, 2020, 2021], \"y\": [5.841924398625429, 7.015706806282722, 7.675438596491229, 5.942857142857143, 4.503464203233257, 5.627198124267292, 5.721716514954486, 4.642409033877039, 4.207573632538569, 3.2400589101620034]}, {\"mode\": \"lines+markers\", \"name\": \"Building & Grounds Cleaning & Maintenance Percent\", \"type\": \"scatter\", \"x\": [2012, 2013, 2014, 2015, 2016, 2017, 2018, 2019, 2020, 2021], \"y\": [5.154639175257731, 6.0732984293193715, 3.7280701754385963, 4.228571428571429, 5.080831408775981, 4.6893317702227435, 4.811443433029909, 5.395232120451694, 3.7868162692847123, 2.945508100147275]}, {\"mode\": \"lines+markers\", \"name\": \"Production Percent\", \"type\": \"scatter\", \"x\": [2012, 2013, 2014, 2015, 2016, 2017, 2018, 2019, 2020, 2021], \"y\": [4.238258877434135, 4.397905759162303, 4.057017543859649, 5.485714285714286, 4.965357967667437, 5.275498241500586, 5.071521456436931, 5.018820577164367, 3.506311360448808, 3.829160530191458]}, {\"mode\": \"lines+markers\", \"name\": \"Healthcare Practitioner & Technical Percent\", \"type\": \"scatter\", \"x\": [2012, 2013, 2014, 2015, 2016, 2017, 2018, 2019, 2020, 2021], \"y\": [6.185567010309279, 5.2356020942408374, 4.934210526315789, 5.371428571428572, 6.812933025404157, 6.682297772567409, 8.192457737321195, 7.779171894604768, 8.695652173913043, 7.363770250368189]}, {\"mode\": \"lines+markers\", \"name\": \"Food Preparation & Serving Related Percent\", \"type\": \"scatter\", \"x\": [2012, 2013, 2014, 2015, 2016, 2017, 2018, 2019, 2020, 2021], \"y\": [7.560137457044673, 6.701570680628273, 7.675438596491229, 7.085714285714285, 4.849884526558892, 6.447831184056271, 6.241872561768531, 7.151819322459223, 6.5918653576437585, 6.774668630338733]}],\n                        {\"template\": {\"data\": {\"bar\": [{\"error_x\": {\"color\": \"#2a3f5f\"}, \"error_y\": {\"color\": \"#2a3f5f\"}, \"marker\": {\"line\": {\"color\": \"#E5ECF6\", \"width\": 0.5}}, \"type\": \"bar\"}], \"barpolar\": [{\"marker\": {\"line\": {\"color\": \"#E5ECF6\", \"width\": 0.5}}, \"type\": \"barpolar\"}], \"carpet\": [{\"aaxis\": {\"endlinecolor\": \"#2a3f5f\", \"gridcolor\": \"white\", \"linecolor\": \"white\", \"minorgridcolor\": \"white\", \"startlinecolor\": \"#2a3f5f\"}, \"baxis\": {\"endlinecolor\": \"#2a3f5f\", \"gridcolor\": \"white\", \"linecolor\": \"white\", \"minorgridcolor\": \"white\", \"startlinecolor\": \"#2a3f5f\"}, \"type\": \"carpet\"}], \"choropleth\": [{\"colorbar\": {\"outlinewidth\": 0, \"ticks\": \"\"}, \"type\": \"choropleth\"}], \"contour\": [{\"colorbar\": {\"outlinewidth\": 0, \"ticks\": \"\"}, \"colorscale\": [[0.0, \"#0d0887\"], [0.1111111111111111, \"#46039f\"], [0.2222222222222222, \"#7201a8\"], [0.3333333333333333, \"#9c179e\"], [0.4444444444444444, \"#bd3786\"], [0.5555555555555556, \"#d8576b\"], [0.6666666666666666, \"#ed7953\"], [0.7777777777777778, \"#fb9f3a\"], [0.8888888888888888, \"#fdca26\"], [1.0, \"#f0f921\"]], \"type\": \"contour\"}], \"contourcarpet\": [{\"colorbar\": {\"outlinewidth\": 0, \"ticks\": \"\"}, \"type\": \"contourcarpet\"}], \"heatmap\": [{\"colorbar\": {\"outlinewidth\": 0, \"ticks\": \"\"}, \"colorscale\": [[0.0, \"#0d0887\"], [0.1111111111111111, \"#46039f\"], [0.2222222222222222, \"#7201a8\"], [0.3333333333333333, \"#9c179e\"], [0.4444444444444444, \"#bd3786\"], [0.5555555555555556, \"#d8576b\"], [0.6666666666666666, \"#ed7953\"], [0.7777777777777778, \"#fb9f3a\"], [0.8888888888888888, \"#fdca26\"], [1.0, \"#f0f921\"]], \"type\": \"heatmap\"}], \"heatmapgl\": [{\"colorbar\": {\"outlinewidth\": 0, \"ticks\": \"\"}, \"colorscale\": [[0.0, \"#0d0887\"], [0.1111111111111111, \"#46039f\"], [0.2222222222222222, \"#7201a8\"], [0.3333333333333333, \"#9c179e\"], [0.4444444444444444, \"#bd3786\"], [0.5555555555555556, \"#d8576b\"], [0.6666666666666666, \"#ed7953\"], [0.7777777777777778, \"#fb9f3a\"], [0.8888888888888888, \"#fdca26\"], [1.0, \"#f0f921\"]], \"type\": \"heatmapgl\"}], \"histogram\": [{\"marker\": {\"colorbar\": {\"outlinewidth\": 0, \"ticks\": \"\"}}, \"type\": \"histogram\"}], \"histogram2d\": [{\"colorbar\": {\"outlinewidth\": 0, \"ticks\": \"\"}, \"colorscale\": [[0.0, \"#0d0887\"], [0.1111111111111111, \"#46039f\"], [0.2222222222222222, \"#7201a8\"], [0.3333333333333333, \"#9c179e\"], [0.4444444444444444, \"#bd3786\"], [0.5555555555555556, \"#d8576b\"], [0.6666666666666666, \"#ed7953\"], [0.7777777777777778, \"#fb9f3a\"], [0.8888888888888888, \"#fdca26\"], [1.0, \"#f0f921\"]], \"type\": \"histogram2d\"}], \"histogram2dcontour\": [{\"colorbar\": {\"outlinewidth\": 0, \"ticks\": \"\"}, \"colorscale\": [[0.0, \"#0d0887\"], [0.1111111111111111, \"#46039f\"], [0.2222222222222222, \"#7201a8\"], [0.3333333333333333, \"#9c179e\"], [0.4444444444444444, \"#bd3786\"], [0.5555555555555556, \"#d8576b\"], [0.6666666666666666, \"#ed7953\"], [0.7777777777777778, \"#fb9f3a\"], [0.8888888888888888, \"#fdca26\"], [1.0, \"#f0f921\"]], \"type\": \"histogram2dcontour\"}], \"mesh3d\": [{\"colorbar\": {\"outlinewidth\": 0, \"ticks\": \"\"}, \"type\": \"mesh3d\"}], \"parcoords\": [{\"line\": {\"colorbar\": {\"outlinewidth\": 0, \"ticks\": \"\"}}, \"type\": \"parcoords\"}], \"pie\": [{\"automargin\": true, \"type\": \"pie\"}], \"scatter\": [{\"marker\": {\"colorbar\": {\"outlinewidth\": 0, \"ticks\": \"\"}}, \"type\": \"scatter\"}], \"scatter3d\": [{\"line\": {\"colorbar\": {\"outlinewidth\": 0, \"ticks\": \"\"}}, \"marker\": {\"colorbar\": {\"outlinewidth\": 0, \"ticks\": \"\"}}, \"type\": \"scatter3d\"}], \"scattercarpet\": [{\"marker\": {\"colorbar\": {\"outlinewidth\": 0, \"ticks\": \"\"}}, \"type\": \"scattercarpet\"}], \"scattergeo\": [{\"marker\": {\"colorbar\": {\"outlinewidth\": 0, \"ticks\": \"\"}}, \"type\": \"scattergeo\"}], \"scattergl\": [{\"marker\": {\"colorbar\": {\"outlinewidth\": 0, \"ticks\": \"\"}}, \"type\": \"scattergl\"}], \"scattermapbox\": [{\"marker\": {\"colorbar\": {\"outlinewidth\": 0, \"ticks\": \"\"}}, \"type\": \"scattermapbox\"}], \"scatterpolar\": [{\"marker\": {\"colorbar\": {\"outlinewidth\": 0, \"ticks\": \"\"}}, \"type\": \"scatterpolar\"}], \"scatterpolargl\": [{\"marker\": {\"colorbar\": {\"outlinewidth\": 0, \"ticks\": \"\"}}, \"type\": \"scatterpolargl\"}], \"scatterternary\": [{\"marker\": {\"colorbar\": {\"outlinewidth\": 0, \"ticks\": \"\"}}, \"type\": \"scatterternary\"}], \"surface\": [{\"colorbar\": {\"outlinewidth\": 0, \"ticks\": \"\"}, \"colorscale\": [[0.0, \"#0d0887\"], [0.1111111111111111, \"#46039f\"], [0.2222222222222222, \"#7201a8\"], [0.3333333333333333, \"#9c179e\"], [0.4444444444444444, \"#bd3786\"], [0.5555555555555556, \"#d8576b\"], [0.6666666666666666, \"#ed7953\"], [0.7777777777777778, \"#fb9f3a\"], [0.8888888888888888, \"#fdca26\"], [1.0, \"#f0f921\"]], \"type\": \"surface\"}], \"table\": [{\"cells\": {\"fill\": {\"color\": \"#EBF0F8\"}, \"line\": {\"color\": \"white\"}}, \"header\": {\"fill\": {\"color\": \"#C8D4E3\"}, \"line\": {\"color\": \"white\"}}, \"type\": \"table\"}]}, \"layout\": {\"annotationdefaults\": {\"arrowcolor\": \"#2a3f5f\", \"arrowhead\": 0, \"arrowwidth\": 1}, \"coloraxis\": {\"colorbar\": {\"outlinewidth\": 0, \"ticks\": \"\"}}, \"colorscale\": {\"diverging\": [[0, \"#8e0152\"], [0.1, \"#c51b7d\"], [0.2, \"#de77ae\"], [0.3, \"#f1b6da\"], [0.4, \"#fde0ef\"], [0.5, \"#f7f7f7\"], [0.6, \"#e6f5d0\"], [0.7, \"#b8e186\"], [0.8, \"#7fbc41\"], [0.9, \"#4d9221\"], [1, \"#276419\"]], \"sequential\": [[0.0, \"#0d0887\"], [0.1111111111111111, \"#46039f\"], [0.2222222222222222, \"#7201a8\"], [0.3333333333333333, \"#9c179e\"], [0.4444444444444444, \"#bd3786\"], [0.5555555555555556, \"#d8576b\"], [0.6666666666666666, \"#ed7953\"], [0.7777777777777778, \"#fb9f3a\"], [0.8888888888888888, \"#fdca26\"], [1.0, \"#f0f921\"]], \"sequentialminus\": [[0.0, \"#0d0887\"], [0.1111111111111111, \"#46039f\"], [0.2222222222222222, \"#7201a8\"], [0.3333333333333333, \"#9c179e\"], [0.4444444444444444, \"#bd3786\"], [0.5555555555555556, \"#d8576b\"], [0.6666666666666666, \"#ed7953\"], [0.7777777777777778, \"#fb9f3a\"], [0.8888888888888888, \"#fdca26\"], [1.0, \"#f0f921\"]]}, \"colorway\": [\"#636efa\", \"#EF553B\", \"#00cc96\", \"#ab63fa\", \"#FFA15A\", \"#19d3f3\", \"#FF6692\", \"#B6E880\", \"#FF97FF\", \"#FECB52\"], \"font\": {\"color\": \"#2a3f5f\"}, \"geo\": {\"bgcolor\": \"white\", \"lakecolor\": \"white\", \"landcolor\": \"#E5ECF6\", \"showlakes\": true, \"showland\": true, \"subunitcolor\": \"white\"}, \"hoverlabel\": {\"align\": \"left\"}, \"hovermode\": \"closest\", \"mapbox\": {\"style\": \"light\"}, \"paper_bgcolor\": \"white\", \"plot_bgcolor\": \"#E5ECF6\", \"polar\": {\"angularaxis\": {\"gridcolor\": \"white\", \"linecolor\": \"white\", \"ticks\": \"\"}, \"bgcolor\": \"#E5ECF6\", \"radialaxis\": {\"gridcolor\": \"white\", \"linecolor\": \"white\", \"ticks\": \"\"}}, \"scene\": {\"xaxis\": {\"backgroundcolor\": \"#E5ECF6\", \"gridcolor\": \"white\", \"gridwidth\": 2, \"linecolor\": \"white\", \"showbackground\": true, \"ticks\": \"\", \"zerolinecolor\": \"white\"}, \"yaxis\": {\"backgroundcolor\": \"#E5ECF6\", \"gridcolor\": \"white\", \"gridwidth\": 2, \"linecolor\": \"white\", \"showbackground\": true, \"ticks\": \"\", \"zerolinecolor\": \"white\"}, \"zaxis\": {\"backgroundcolor\": \"#E5ECF6\", \"gridcolor\": \"white\", \"gridwidth\": 2, \"linecolor\": \"white\", \"showbackground\": true, \"ticks\": \"\", \"zerolinecolor\": \"white\"}}, \"shapedefaults\": {\"line\": {\"color\": \"#2a3f5f\"}}, \"ternary\": {\"aaxis\": {\"gridcolor\": \"white\", \"linecolor\": \"white\", \"ticks\": \"\"}, \"baxis\": {\"gridcolor\": \"white\", \"linecolor\": \"white\", \"ticks\": \"\"}, \"bgcolor\": \"#E5ECF6\", \"caxis\": {\"gridcolor\": \"white\", \"linecolor\": \"white\", \"ticks\": \"\"}}, \"title\": {\"x\": 0.05}, \"xaxis\": {\"automargin\": true, \"gridcolor\": \"white\", \"linecolor\": \"white\", \"ticks\": \"\", \"title\": {\"standoff\": 15}, \"zerolinecolor\": \"white\", \"zerolinewidth\": 2}, \"yaxis\": {\"automargin\": true, \"gridcolor\": \"white\", \"linecolor\": \"white\", \"ticks\": \"\", \"title\": {\"standoff\": 15}, \"zerolinecolor\": \"white\", \"zerolinewidth\": 2}}}, \"title\": {\"text\": \"State Trends in Occupation\"}, \"xaxis\": {\"title\": {\"text\": \"Year\"}}, \"yaxis\": {\"title\": {\"text\": \"Occupation as Percent\"}}},\n                        {\"responsive\": true}\n                    ).then(function(){\n                            \nvar gd = document.getElementById('adbe2bf1-0981-4380-928f-ebd9ac93c301');\nvar x = new MutationObserver(function (mutations, observer) {{\n        var display = window.getComputedStyle(gd).display;\n        if (!display || display === 'none') {{\n            console.log([gd, 'removed!']);\n            Plotly.purge(gd);\n            observer.disconnect();\n        }}\n}});\n\n// Listen for the removal of the full notebook cells\nvar notebookContainer = gd.closest('#notebook-container');\nif (notebookContainer) {{\n    x.observe(notebookContainer, {childList: true});\n}}\n\n// Listen for the clearing of the current output cell\nvar outputEl = gd.closest('.output');\nif (outputEl) {{\n    x.observe(outputEl, {childList: true});\n}}\n\n                        })\n                };\n                \n            </script>\n        </div>\n</body>\n</html>"
                },
                "metadata": {}
              }
            ],
            "_view_module": "@jupyter-widgets/output",
            "_model_module_version": "1.0.0",
            "_view_count": null,
            "_view_module_version": "1.0.0",
            "layout": "IPY_MODEL_d97a8d4c24d14ebf866b76d9fcd81ea5",
            "_model_module": "@jupyter-widgets/output"
          }
        },
        "d97a8d4c24d14ebf866b76d9fcd81ea5": {
          "model_module": "@jupyter-widgets/base",
          "model_name": "LayoutModel",
          "model_module_version": "1.2.0",
          "state": {
            "_view_name": "LayoutView",
            "grid_template_rows": null,
            "right": null,
            "justify_content": null,
            "_view_module": "@jupyter-widgets/base",
            "overflow": null,
            "_model_module_version": "1.2.0",
            "_view_count": null,
            "flex_flow": null,
            "width": null,
            "min_width": null,
            "border": null,
            "align_items": null,
            "bottom": null,
            "_model_module": "@jupyter-widgets/base",
            "top": null,
            "grid_column": null,
            "overflow_y": null,
            "overflow_x": null,
            "grid_auto_flow": null,
            "grid_area": null,
            "grid_template_columns": null,
            "flex": null,
            "_model_name": "LayoutModel",
            "justify_items": null,
            "grid_row": null,
            "max_height": null,
            "align_content": null,
            "visibility": null,
            "align_self": null,
            "height": null,
            "min_height": null,
            "padding": null,
            "grid_auto_rows": null,
            "grid_gap": null,
            "max_width": null,
            "order": null,
            "_view_module_version": "1.2.0",
            "grid_template_areas": null,
            "object_position": null,
            "object_fit": null,
            "grid_auto_columns": null,
            "margin": null,
            "display": null,
            "left": null
          }
        }
      }
    }
  },
  "cells": [
    {
      "cell_type": "markdown",
      "metadata": {
        "id": "view-in-github",
        "colab_type": "text"
      },
      "source": [
        "<a href=\"https://colab.research.google.com/github/cfcastillo/DS-6-Notebooks/blob/main/3_Education_Capstone_Data_Visualization.ipynb\" target=\"_parent\"><img src=\"https://colab.research.google.com/assets/colab-badge.svg\" alt=\"Open In Colab\"/></a>"
      ]
    },
    {
      "cell_type": "markdown",
      "source": [
        "# Data Visualization"
      ],
      "metadata": {
        "id": "-tQRl8vr5VUA"
      }
    },
    {
      "cell_type": "markdown",
      "source": [
        "# Project Definition\n",
        "\n",
        "The purpose of this project is to identify what factors influence people to choose certain professions or trades. In understanding these factors, we can help colleges like Central New Mexico College (CNM) offer courses that support those professions and better target their marketing to people who are likely to choose those professions.\n",
        "\n",
        "This project will be a supervised categorization problem using tree-based models to identify the factors that will contribute to career choice."
      ],
      "metadata": {
        "id": "Tdr7M33g5IK_"
      }
    },
    {
      "cell_type": "markdown",
      "source": [
        "# Data Collection and Cleaning\n",
        "\n",
        "The data collection and cleaning process is outlined in the notebook titled [1. Education Capstone - Data Collection and Cleaning.ipynb](https://colab.research.google.com/drive/1Y_1b7BmiRF6CSYnoiZqGpfjpbzU4qoFe#scrollTo=Kmxlgo4Wnjgd)\n"
      ],
      "metadata": {
        "id": "APKDS3So40r5"
      }
    },
    {
      "cell_type": "markdown",
      "source": [
        "## Column Descriptions\n",
        "\n",
        "[Here is a summary document showing selected columns.](https://docs.google.com/document/d/1io7TtqebJLtw6FKE7zkbUh26QkG3rEJrZX3Fver9zmU/edit)"
      ],
      "metadata": {
        "id": "U6keuWGA43yk"
      }
    },
    {
      "cell_type": "markdown",
      "source": [
        "# Exploratory Data Analysis (EDA)\n",
        "\n",
        "EDA can be found in the notebook titled [2. Education Capstone - EDA and Processing.ipynb](https://colab.research.google.com/drive/1Fa18G_kZY8fCEKupjsfICRyeav7dEw7K)"
      ],
      "metadata": {
        "id": "uIGWj3EA4-m6"
      }
    },
    {
      "cell_type": "markdown",
      "source": [
        "# Data Processing / Models\n",
        "\n",
        "Data Processing and Model application can be found in the notebook titled [2. Education Capstone - EDA and Processing.ipynb](https://colab.research.google.com/drive/1Fa18G_kZY8fCEKupjsfICRyeav7dEw7K)"
      ],
      "metadata": {
        "id": "t8XiX6LF5CMV"
      }
    },
    {
      "cell_type": "markdown",
      "metadata": {
        "id": "1faCHIjobl8k"
      },
      "source": [
        "# Imports"
      ]
    },
    {
      "cell_type": "code",
      "metadata": {
        "id": "QfQPgzzSer2x"
      },
      "source": [
        "# grab the imports needed for the project\n",
        "import pandas as pd\n",
        "import numpy as np\n",
        "\n",
        "# all\n",
        "from collections import Counter\n",
        "\n",
        "# Visualization\n",
        "import plotly.express as px\n",
        "from ipywidgets import interact, Dropdown, interact_manual\n",
        "import plotly.graph_objs as go\n",
        "from plotly.graph_objs.scatter.marker import Line"
      ],
      "execution_count": null,
      "outputs": []
    },
    {
      "cell_type": "code",
      "metadata": {
        "colab": {
          "base_uri": "https://localhost:8080/"
        },
        "id": "zN5qu2I-HlKA",
        "outputId": "6d5fb341-93ec-4353-b7e3-ddd28dd87725"
      },
      "source": [
        "from google.colab import drive\n",
        "drive.mount('/content/drive')"
      ],
      "execution_count": null,
      "outputs": [
        {
          "output_type": "stream",
          "name": "stdout",
          "text": [
            "Drive already mounted at /content/drive; to attempt to forcibly remount, call drive.mount(\"/content/drive\", force_remount=True).\n"
          ]
        }
      ]
    },
    {
      "cell_type": "markdown",
      "metadata": {
        "id": "v6Zkn805hLbk"
      },
      "source": [
        "#Globals\n",
        "\n",
        "The team had different data links. The global here is to allow team members to specify who is working on this notebook so that they can run the code in their environment."
      ]
    },
    {
      "cell_type": "code",
      "metadata": {
        "id": "ErVqm8idhfdd"
      },
      "source": [
        "# Expected values are: ellie, amy, cecilia - lowercase\n",
        "team_member = 'ellie'\n",
        "\n",
        "# Root drive path\n",
        "if team_member in ['amy','ellie']:\n",
        "  root_drive = '/content/drive/MyDrive/'\n",
        "else: # Cecilia\n",
        "  root_drive = '/content/drive/MyDrive/Student Folder - Cecilia/Projects/'"
      ],
      "execution_count": null,
      "outputs": []
    },
    {
      "cell_type": "code",
      "source": [
        "#Import df with all years\n",
        "df_viz = pd.read_csv(root_drive + 'Capstone/Data/FinalData/Trends/asec_trend_v2.csv')"
      ],
      "metadata": {
        "id": "jYYAD8rNV5mG"
      },
      "execution_count": null,
      "outputs": []
    },
    {
      "cell_type": "markdown",
      "source": [
        "#Visualization"
      ],
      "metadata": {
        "id": "FBo6GieXyt66"
      }
    },
    {
      "cell_type": "markdown",
      "source": [
        "##Cleaning"
      ],
      "metadata": {
        "id": "ZUiEeU7zWbjA"
      }
    },
    {
      "cell_type": "code",
      "source": [
        "# filter data to features of interest\n",
        "keep_cols = ['A_DTOCC','GEDIV','GESTFIPS','HHINC','H_TENURE','A_SEX','PRDTRACE','PRCITSHP','A_HGA','A_GRSWK','HRSWK','PEARNVAL','A_CLSWKR','A_MARITL','HEA','PEINUSYR', 'DATA_YEAR']\n",
        "df_viz = df_viz[keep_cols].copy()\n",
        "\n",
        "# drop specified class of worker\n",
        "wkr = [0,8]\n",
        "df_viz.drop(df_viz[df_viz.A_CLSWKR.isin(wkr)].index, inplace=True)\n",
        "\n",
        "# Drop rows where A_DTOCC = 0 = Not in universe or Armed Forces\n",
        "df_viz.drop(np.where(df_viz['A_DTOCC'] == 0) [0], inplace=True)\n",
        "\n",
        "#create dictionary to convert A_DTOCC codes to string descriptions\n",
        "occ_dict = {1: 'Management',\n",
        "            2: 'Business & Financial Operations',\n",
        "            3: 'Computer & Mathematical Science',\n",
        "            4: 'Architecture & Engineering',\n",
        "            5: 'Life, Physical, & Social Science',\n",
        "            6: 'Community & Social Service',\n",
        "            7: 'Legal',\n",
        "            8: 'Education, Training, & Library',\n",
        "            9: 'Arts, Design, Entertainment, Sports, & Media',\n",
        "            10: 'Healthcare Practitioner & Technical',\n",
        "            11: 'Healtcare Support',\n",
        "            12: 'Protective Service',\n",
        "            13: 'Food Preparation & Serving Related',\n",
        "            14: 'Building & Grounds Cleaning & Maintenance',\n",
        "            15: 'Personal Care & Service',\n",
        "            16: 'Sales & Related',\n",
        "            17: 'Office & Administrative Support',\n",
        "            18: 'Farming, Fishing, & Forestry',\n",
        "            19: 'Construction & Extraction',\n",
        "            20: 'Installation, Maintenance, & Repair',\n",
        "            21: 'Production',\n",
        "            22: 'Transportation & Material Moving',\n",
        "            23: 'Armed Forces'}\n",
        "\n",
        "#add column to df_viz with A_DTOCC codes converted to string descriptions\n",
        "df_viz['occ_string'] = df_viz['A_DTOCC'].apply(lambda x: occ_dict.get(x, occ_dict.values))\n",
        "\n",
        "# drop rows which were not highly populated (determined earlier with 3000 threshold)\n",
        "df_viz = df_viz.query('A_DTOCC not in [3,4,5,6,7,9,11,12,18,20,23]')\n",
        "\n",
        "#Import state codes\n",
        "df_states = pd.read_csv(root_drive + 'Capstone/Data/Codes/FIPS_STATE_CODES.csv')\n",
        "\n",
        "#Combine dataframes to get state names\n",
        "df_viz = pd.merge(df_viz, df_states, how='left', left_on='GESTFIPS', right_on='FIPS_STATE')"
      ],
      "metadata": {
        "id": "t8grw4u_WeHZ"
      },
      "execution_count": null,
      "outputs": []
    },
    {
      "cell_type": "markdown",
      "source": [
        "##Plots"
      ],
      "metadata": {
        "id": "dp2uvRw4y8Bv"
      }
    },
    {
      "cell_type": "markdown",
      "metadata": {
        "id": "cWeAfWtx3Xcz"
      },
      "source": [
        "Nationally, what are the most popular occupation categories from years 2012 to 2021?"
      ]
    },
    {
      "cell_type": "code",
      "metadata": {
        "id": "dYZPknNLBkX2",
        "colab": {
          "base_uri": "https://localhost:8080/",
          "height": 606,
          "referenced_widgets": [
            "a0e6f3c846d14e5daaedd53566525ed1",
            "2899e1e0b7614900a9f937982fc2237e",
            "47088b30bf554b72b1ecc3be27fbebc1",
            "5946f0572d7a4d488fdf76535e607ec9",
            "62baa4975caa4a8c8ada0fc33cad83b2",
            "ab22352b87164c8f9591b93742affa91",
            "d10a231996a84c6196b7654e51c635d8",
            "2af7de974f77425cb838b51f49d6ca8c",
            "6c7fbd979bdc46bf92d29602b986fb28",
            "d1662ded75fa4851ad2e9b352ad8fc7f"
          ]
        },
        "outputId": "09d5ce0e-d11f-4f93-ffc2-eaad56820e39"
      },
      "source": [
        "state_o = df_viz['USPS_STATE'].unique()\n",
        "state_o_s = Dropdown(options = sorted(state_o))\n",
        "\n",
        "year_o = df_viz['DATA_YEAR'].unique()\n",
        "year_o_s = Dropdown(options = sorted(year_o)) \n",
        "\n",
        "@interact(Year = year_o_s, State = state_o_s)\n",
        "def pie(Year=2012, State = 'NM'):\n",
        "  'Makes pie plot with given year and state'\n",
        "  df_viz_year = df_viz[(df_viz['DATA_YEAR'] == Year) & (df_viz['USPS_STATE'] == State)]\n",
        "  keys = Counter(df_viz_year['occ_string']).keys()\n",
        "  list_keys= list(keys)\n",
        "  list_keys.sort()\n",
        "  fig = px.pie(df_viz_year, values=df_viz_year['occ_string'].value_counts().sort_index(), names=list_keys, color_discrete_map={\n",
        "    'Management': 'Dark24[0]',\n",
        "    'Business & Financial Operations': '#E15F99',\n",
        "    'Computer & Mathematical Science': '#1CA71C',\n",
        "    'Architecture & Engineering': '#FB0D0D',\n",
        "    'Life, Physical, & Social Science': '#DA16FF',\n",
        "    'Community & Social Service': '#222A2A',\n",
        "    'Legal': '#B68100',\n",
        "    'Education, Training, & Library': '#750D86',\n",
        "    'Arts, Design, Entertainment, Sports, & Media': '#EB663B',\n",
        "    'Healthcare Practitioner & Technical': '#511CFB',\n",
        "    'Healtcare Support': '#00A08B',\n",
        "    'Protective Service': '#FB00D1',\n",
        "    'Food Preparation & Serving Related': '#FC0080',\n",
        "    'Building & Grounds Cleaning & Maintenance': '#B2828D',\n",
        "    'Personal Care & Service': '#6C7C32',\n",
        "    'Sales & Related': '#778AAE',\n",
        "    'Office & Administrative Support': '#862A16',\n",
        "    'Farming, Fishing, & Forestry': '#A777F1',\n",
        "    'Construction & Extraction': '#620042',\n",
        "    'Installation, Maintenance, & Repair': '#1616A7',\n",
        "    'Production': '#DA60CA',\n",
        "    'Transportation & Material Moving': '#6C4516',\n",
        "    'Armed Forces': '#0D2A63'},\n",
        "    title=f'Occupations in the US by Year and State: {Year}, {State}')\n",
        "  return fig.show() "
      ],
      "execution_count": null,
      "outputs": [
        {
          "output_type": "display_data",
          "data": {
            "application/vnd.jupyter.widget-view+json": {
              "model_id": "a0e6f3c846d14e5daaedd53566525ed1",
              "version_minor": 0,
              "version_major": 2
            },
            "text/plain": [
              "interactive(children=(Dropdown(description='Year', options=(2012, 2013, 2014, 2015, 2016, 2017, 2018, 2019, 20…"
            ]
          },
          "metadata": {}
        }
      ]
    },
    {
      "cell_type": "code",
      "metadata": {
        "id": "m0Pu4dsFJZ4p",
        "colab": {
          "base_uri": "https://localhost:8080/",
          "height": 542
        },
        "outputId": "f9843e6d-8ac6-4986-a648-8ef2d0b39dbd"
      },
      "source": [
        "# create subset of visualization dataframe with columns of interest\n",
        "subset_df = df_viz[['DATA_YEAR', 'occ_string']].copy()\n",
        " \n",
        "# all occupation counts\n",
        "all_counts_df = subset_df.groupby('DATA_YEAR').count()\n",
        "all_counts_df.set_axis(['All Counts'], axis=1, inplace=True)\n",
        "all_counts_df['Data Year'] = all_counts_df.index\n",
        "\n",
        "results = []\n",
        "\n",
        "# loop through the occupation codes to add to merged dataframe\n",
        "for value in subset_df['occ_string'].unique():\n",
        "  occ_counts_df = subset_df[subset_df['occ_string'] == value].groupby('DATA_YEAR').count()\n",
        "  occ_counts_df.set_axis([value], axis=1, inplace=True)\n",
        "  combo_df = pd.merge(all_counts_df,occ_counts_df, on = 'DATA_YEAR')\n",
        "  combo_df[f'{value} Percent'] = combo_df[value]/combo_df['All Counts'] * 100\n",
        "  results.append(combo_df)\n",
        "\n",
        "final_df = pd.concat(results, axis=1, join= 'inner')\n",
        "\n",
        "#drop columns not needed\n",
        "drop_idx_allcounts = list(range(4, final_df.shape[1], 4))\n",
        "drop_idx_datayear = list(range(5, final_df.shape[1], 4))\n",
        "drop_idx = drop_idx_allcounts + drop_idx_datayear\n",
        "final_df.drop(final_df.columns[drop_idx], axis=1, inplace=True)\n",
        "\n",
        "#add back in one Data Year column\n",
        "final_df['Data Year'] = final_df.index\n",
        "\n",
        "#columns to plot\n",
        "columns_plot = list(range(1, final_df.shape[1], 2))\n",
        "\n",
        "fig = go.Figure()\n",
        "for col in final_df.columns[columns_plot]:\n",
        "  fig.add_trace(go.Scatter(x=final_df.index, y=final_df[col], mode='lines+markers', name=col))\n",
        "fig.update_layout(title='National Trends in Occupation', xaxis_title='Year', yaxis_title = 'Occupation as Percent')\n",
        "fig.show()"
      ],
      "execution_count": null,
      "outputs": [
        {
          "output_type": "display_data",
          "data": {
            "text/html": [
              "<html>\n",
              "<head><meta charset=\"utf-8\" /></head>\n",
              "<body>\n",
              "    <div>\n",
              "            <script src=\"https://cdnjs.cloudflare.com/ajax/libs/mathjax/2.7.5/MathJax.js?config=TeX-AMS-MML_SVG\"></script><script type=\"text/javascript\">if (window.MathJax) {MathJax.Hub.Config({SVG: {font: \"STIX-Web\"}});}</script>\n",
              "                <script type=\"text/javascript\">window.PlotlyConfig = {MathJaxConfig: 'local'};</script>\n",
              "        <script src=\"https://cdn.plot.ly/plotly-latest.min.js\"></script>    \n",
              "            <div id=\"00f3a46b-02dd-4232-9fb6-cb3c5e493777\" class=\"plotly-graph-div\" style=\"height:525px; width:100%;\"></div>\n",
              "            <script type=\"text/javascript\">\n",
              "                \n",
              "                    window.PLOTLYENV=window.PLOTLYENV || {};\n",
              "                    \n",
              "                if (document.getElementById(\"00f3a46b-02dd-4232-9fb6-cb3c5e493777\")) {\n",
              "                    Plotly.newPlot(\n",
              "                        '00f3a46b-02dd-4232-9fb6-cb3c5e493777',\n",
              "                        [{\"mode\": \"lines+markers\", \"name\": \"Transportation & Material Moving Percent\", \"type\": \"scatter\", \"x\": [2012, 2013, 2014, 2015, 2016, 2017, 2018, 2019, 2020, 2021], \"y\": [7.493777999004479, 7.497258771929824, 7.6654390827290335, 7.649270375326579, 7.610689740149502, 7.640684979989655, 7.889866783448938, 7.80963318813989, 9.102352421899267, 9.498419590689952]}, {\"mode\": \"lines+markers\", \"name\": \"Management Percent\", \"type\": \"scatter\", \"x\": [2012, 2013, 2014, 2015, 2016, 2017, 2018, 2019, 2020, 2021], \"y\": [13.0251368840219, 13.273773923444976, 13.28448308591822, 13.422545083795324, 13.95909202924345, 13.943263183686804, 14.001158404791841, 14.340536982310676, 15.06596262935051, 15.486414865425752]}, {\"mode\": \"lines+markers\", \"name\": \"Education, Training, & Library Percent\", \"type\": \"scatter\", \"x\": [2012, 2013, 2014, 2015, 2016, 2017, 2018, 2019, 2020, 2021], \"y\": [7.463912394225983, 7.524671052631579, 7.614817064682283, 7.684955075511375, 7.709263163659265, 7.825814706923308, 7.9887549973865255, 7.896469138223225, 8.123130241454284, 7.64343411768462]}, {\"mode\": \"lines+markers\", \"name\": \"Office & Administrative Support Percent\", \"type\": \"scatter\", \"x\": [2012, 2013, 2014, 2015, 2016, 2017, 2018, 2019, 2020, 2021], \"y\": [15.497760079641612, 15.272378389154706, 14.853765645367453, 14.855030905499266, 14.390350757098656, 14.043995535106585, 14.030824868973117, 13.883947954453143, 12.978372104428571, 13.243510743590562]}, {\"mode\": \"lines+markers\", \"name\": \"Healthcare Practitioner & Technical Percent\", \"type\": \"scatter\", \"x\": [2012, 2013, 2014, 2015, 2016, 2017, 2018, 2019, 2020, 2021], \"y\": [6.536834245893479, 6.6138357256778315, 6.821316931799486, 6.966163257503346, 7.160263957722954, 7.16560943072609, 7.083221495472332, 7.288617487639883, 7.823968874139707, 7.73442738099039]}, {\"mode\": \"lines+markers\", \"name\": \"Personal Care & Service Percent\", \"type\": \"scatter\", \"x\": [2012, 2013, 2014, 2015, 2016, 2017, 2018, 2019, 2020, 2021], \"y\": [4.715032354405177, 4.797149122807018, 4.658491210752117, 4.649206652647677, 4.639796281591413, 4.892325283820206, 4.821506773842655, 4.872617263547109, 3.4084778735021497, 3.0618434915871138]}, {\"mode\": \"lines+markers\", \"name\": \"Business & Financial Operations Percent\", \"type\": \"scatter\", \"x\": [2012, 2013, 2014, 2015, 2016, 2017, 2018, 2019, 2020, 2021], \"y\": [5.520159283225485, 5.5397727272727275, 5.613981801384512, 5.524756260753202, 5.756961748035376, 5.872423838174838, 5.909277127156116, 5.932856202467822, 6.805512416014124, 6.792567287123655]}, {\"mode\": \"lines+markers\", \"name\": \"Sales & Related Percent\", \"type\": \"scatter\", \"x\": [2012, 2013, 2014, 2015, 2016, 2017, 2018, 2019, 2020, 2021], \"y\": [12.89198606271777, 12.956040669856458, 13.245251021931988, 12.968839610017206, 12.39560800635251, 12.51667528790395, 12.221170553915266, 11.994565750220591, 11.699988556669009, 11.607228377127168]}, {\"mode\": \"lines+markers\", \"name\": \"Food Preparation & Serving Related Percent\", \"type\": \"scatter\", \"x\": [2012, 2013, 2014, 2015, 2016, 2017, 2018, 2019, 2020, 2021], \"y\": [7.24365355898457, 7.37390350877193, 7.222496424819975, 7.168801376409864, 7.447769776293092, 7.222781846396777, 7.0196505007981695, 7.176571100435581, 6.8234947932844, 6.589827910986239]}, {\"mode\": \"lines+markers\", \"name\": \"Construction & Extraction Percent\", \"type\": \"scatter\", \"x\": [2012, 2013, 2014, 2015, 2016, 2017, 2018, 2019, 2020, 2021], \"y\": [6.784469885515182, 6.672398325358851, 6.682106382170925, 6.85018798190276, 6.7563867363982375, 6.849799896545153, 6.949016062271321, 6.9062591913052005, 6.74175671478315, 6.958590083330672]}, {\"mode\": \"lines+markers\", \"name\": \"Building & Grounds Cleaning & Maintenance Percent\", \"type\": \"scatter\", \"x\": [2012, 2013, 2014, 2015, 2016, 2017, 2018, 2019, 2020, 2021], \"y\": [5.281234444997511, 5.306768341307815, 5.141931483098574, 4.96144777926464, 5.123079871854549, 5.066565026816586, 5.043298910816958, 4.945447415229905, 4.80456425430351, 4.733246064940455]}, {\"mode\": \"lines+markers\", \"name\": \"Production Percent\", \"type\": \"scatter\", \"x\": [2012, 2013, 2014, 2015, 2016, 2017, 2018, 2019, 2020, 2021], \"y\": [7.54604280736685, 7.1720494417862835, 7.195919865345432, 7.298795641368764, 7.050737931600996, 6.960060983910049, 7.042253521126761, 6.952478326026975, 6.622419120171323, 6.650490086523418]}],\n",
              "                        {\"template\": {\"data\": {\"bar\": [{\"error_x\": {\"color\": \"#2a3f5f\"}, \"error_y\": {\"color\": \"#2a3f5f\"}, \"marker\": {\"line\": {\"color\": \"#E5ECF6\", \"width\": 0.5}}, \"type\": \"bar\"}], \"barpolar\": [{\"marker\": {\"line\": {\"color\": \"#E5ECF6\", \"width\": 0.5}}, \"type\": \"barpolar\"}], \"carpet\": [{\"aaxis\": {\"endlinecolor\": \"#2a3f5f\", \"gridcolor\": \"white\", \"linecolor\": \"white\", \"minorgridcolor\": \"white\", \"startlinecolor\": \"#2a3f5f\"}, \"baxis\": {\"endlinecolor\": \"#2a3f5f\", \"gridcolor\": \"white\", \"linecolor\": \"white\", \"minorgridcolor\": \"white\", \"startlinecolor\": \"#2a3f5f\"}, \"type\": \"carpet\"}], \"choropleth\": [{\"colorbar\": {\"outlinewidth\": 0, \"ticks\": \"\"}, \"type\": \"choropleth\"}], \"contour\": [{\"colorbar\": {\"outlinewidth\": 0, \"ticks\": \"\"}, \"colorscale\": [[0.0, \"#0d0887\"], [0.1111111111111111, \"#46039f\"], [0.2222222222222222, \"#7201a8\"], [0.3333333333333333, \"#9c179e\"], [0.4444444444444444, \"#bd3786\"], [0.5555555555555556, \"#d8576b\"], [0.6666666666666666, \"#ed7953\"], [0.7777777777777778, \"#fb9f3a\"], [0.8888888888888888, \"#fdca26\"], [1.0, \"#f0f921\"]], \"type\": \"contour\"}], \"contourcarpet\": [{\"colorbar\": {\"outlinewidth\": 0, \"ticks\": \"\"}, \"type\": \"contourcarpet\"}], \"heatmap\": [{\"colorbar\": {\"outlinewidth\": 0, \"ticks\": \"\"}, \"colorscale\": [[0.0, \"#0d0887\"], [0.1111111111111111, \"#46039f\"], [0.2222222222222222, \"#7201a8\"], [0.3333333333333333, \"#9c179e\"], [0.4444444444444444, \"#bd3786\"], [0.5555555555555556, \"#d8576b\"], [0.6666666666666666, \"#ed7953\"], [0.7777777777777778, \"#fb9f3a\"], [0.8888888888888888, \"#fdca26\"], [1.0, \"#f0f921\"]], \"type\": \"heatmap\"}], \"heatmapgl\": [{\"colorbar\": {\"outlinewidth\": 0, \"ticks\": \"\"}, \"colorscale\": [[0.0, \"#0d0887\"], [0.1111111111111111, \"#46039f\"], [0.2222222222222222, \"#7201a8\"], [0.3333333333333333, \"#9c179e\"], [0.4444444444444444, \"#bd3786\"], [0.5555555555555556, \"#d8576b\"], [0.6666666666666666, \"#ed7953\"], [0.7777777777777778, \"#fb9f3a\"], [0.8888888888888888, \"#fdca26\"], [1.0, \"#f0f921\"]], \"type\": \"heatmapgl\"}], \"histogram\": [{\"marker\": {\"colorbar\": {\"outlinewidth\": 0, \"ticks\": \"\"}}, \"type\": \"histogram\"}], \"histogram2d\": [{\"colorbar\": {\"outlinewidth\": 0, \"ticks\": \"\"}, \"colorscale\": [[0.0, \"#0d0887\"], [0.1111111111111111, \"#46039f\"], [0.2222222222222222, \"#7201a8\"], [0.3333333333333333, \"#9c179e\"], [0.4444444444444444, \"#bd3786\"], [0.5555555555555556, \"#d8576b\"], [0.6666666666666666, \"#ed7953\"], [0.7777777777777778, \"#fb9f3a\"], [0.8888888888888888, \"#fdca26\"], [1.0, \"#f0f921\"]], \"type\": \"histogram2d\"}], \"histogram2dcontour\": [{\"colorbar\": {\"outlinewidth\": 0, \"ticks\": \"\"}, \"colorscale\": [[0.0, \"#0d0887\"], [0.1111111111111111, \"#46039f\"], [0.2222222222222222, \"#7201a8\"], [0.3333333333333333, \"#9c179e\"], [0.4444444444444444, \"#bd3786\"], [0.5555555555555556, \"#d8576b\"], [0.6666666666666666, \"#ed7953\"], [0.7777777777777778, \"#fb9f3a\"], [0.8888888888888888, \"#fdca26\"], [1.0, \"#f0f921\"]], \"type\": \"histogram2dcontour\"}], \"mesh3d\": [{\"colorbar\": {\"outlinewidth\": 0, \"ticks\": \"\"}, \"type\": \"mesh3d\"}], \"parcoords\": [{\"line\": {\"colorbar\": {\"outlinewidth\": 0, \"ticks\": \"\"}}, \"type\": \"parcoords\"}], \"pie\": [{\"automargin\": true, \"type\": \"pie\"}], \"scatter\": [{\"marker\": {\"colorbar\": {\"outlinewidth\": 0, \"ticks\": \"\"}}, \"type\": \"scatter\"}], \"scatter3d\": [{\"line\": {\"colorbar\": {\"outlinewidth\": 0, \"ticks\": \"\"}}, \"marker\": {\"colorbar\": {\"outlinewidth\": 0, \"ticks\": \"\"}}, \"type\": \"scatter3d\"}], \"scattercarpet\": [{\"marker\": {\"colorbar\": {\"outlinewidth\": 0, \"ticks\": \"\"}}, \"type\": \"scattercarpet\"}], \"scattergeo\": [{\"marker\": {\"colorbar\": {\"outlinewidth\": 0, \"ticks\": \"\"}}, \"type\": \"scattergeo\"}], \"scattergl\": [{\"marker\": {\"colorbar\": {\"outlinewidth\": 0, \"ticks\": \"\"}}, \"type\": \"scattergl\"}], \"scattermapbox\": [{\"marker\": {\"colorbar\": {\"outlinewidth\": 0, \"ticks\": \"\"}}, \"type\": \"scattermapbox\"}], \"scatterpolar\": [{\"marker\": {\"colorbar\": {\"outlinewidth\": 0, \"ticks\": \"\"}}, \"type\": \"scatterpolar\"}], \"scatterpolargl\": [{\"marker\": {\"colorbar\": {\"outlinewidth\": 0, \"ticks\": \"\"}}, \"type\": \"scatterpolargl\"}], \"scatterternary\": [{\"marker\": {\"colorbar\": {\"outlinewidth\": 0, \"ticks\": \"\"}}, \"type\": \"scatterternary\"}], \"surface\": [{\"colorbar\": {\"outlinewidth\": 0, \"ticks\": \"\"}, \"colorscale\": [[0.0, \"#0d0887\"], [0.1111111111111111, \"#46039f\"], [0.2222222222222222, \"#7201a8\"], [0.3333333333333333, \"#9c179e\"], [0.4444444444444444, \"#bd3786\"], [0.5555555555555556, \"#d8576b\"], [0.6666666666666666, \"#ed7953\"], [0.7777777777777778, \"#fb9f3a\"], [0.8888888888888888, \"#fdca26\"], [1.0, \"#f0f921\"]], \"type\": \"surface\"}], \"table\": [{\"cells\": {\"fill\": {\"color\": \"#EBF0F8\"}, \"line\": {\"color\": \"white\"}}, \"header\": {\"fill\": {\"color\": \"#C8D4E3\"}, \"line\": {\"color\": \"white\"}}, \"type\": \"table\"}]}, \"layout\": {\"annotationdefaults\": {\"arrowcolor\": \"#2a3f5f\", \"arrowhead\": 0, \"arrowwidth\": 1}, \"coloraxis\": {\"colorbar\": {\"outlinewidth\": 0, \"ticks\": \"\"}}, \"colorscale\": {\"diverging\": [[0, \"#8e0152\"], [0.1, \"#c51b7d\"], [0.2, \"#de77ae\"], [0.3, \"#f1b6da\"], [0.4, \"#fde0ef\"], [0.5, \"#f7f7f7\"], [0.6, \"#e6f5d0\"], [0.7, \"#b8e186\"], [0.8, \"#7fbc41\"], [0.9, \"#4d9221\"], [1, \"#276419\"]], \"sequential\": [[0.0, \"#0d0887\"], [0.1111111111111111, \"#46039f\"], [0.2222222222222222, \"#7201a8\"], [0.3333333333333333, \"#9c179e\"], [0.4444444444444444, \"#bd3786\"], [0.5555555555555556, \"#d8576b\"], [0.6666666666666666, \"#ed7953\"], [0.7777777777777778, \"#fb9f3a\"], [0.8888888888888888, \"#fdca26\"], [1.0, \"#f0f921\"]], \"sequentialminus\": [[0.0, \"#0d0887\"], [0.1111111111111111, \"#46039f\"], [0.2222222222222222, \"#7201a8\"], [0.3333333333333333, \"#9c179e\"], [0.4444444444444444, \"#bd3786\"], [0.5555555555555556, \"#d8576b\"], [0.6666666666666666, \"#ed7953\"], [0.7777777777777778, \"#fb9f3a\"], [0.8888888888888888, \"#fdca26\"], [1.0, \"#f0f921\"]]}, \"colorway\": [\"#636efa\", \"#EF553B\", \"#00cc96\", \"#ab63fa\", \"#FFA15A\", \"#19d3f3\", \"#FF6692\", \"#B6E880\", \"#FF97FF\", \"#FECB52\"], \"font\": {\"color\": \"#2a3f5f\"}, \"geo\": {\"bgcolor\": \"white\", \"lakecolor\": \"white\", \"landcolor\": \"#E5ECF6\", \"showlakes\": true, \"showland\": true, \"subunitcolor\": \"white\"}, \"hoverlabel\": {\"align\": \"left\"}, \"hovermode\": \"closest\", \"mapbox\": {\"style\": \"light\"}, \"paper_bgcolor\": \"white\", \"plot_bgcolor\": \"#E5ECF6\", \"polar\": {\"angularaxis\": {\"gridcolor\": \"white\", \"linecolor\": \"white\", \"ticks\": \"\"}, \"bgcolor\": \"#E5ECF6\", \"radialaxis\": {\"gridcolor\": \"white\", \"linecolor\": \"white\", \"ticks\": \"\"}}, \"scene\": {\"xaxis\": {\"backgroundcolor\": \"#E5ECF6\", \"gridcolor\": \"white\", \"gridwidth\": 2, \"linecolor\": \"white\", \"showbackground\": true, \"ticks\": \"\", \"zerolinecolor\": \"white\"}, \"yaxis\": {\"backgroundcolor\": \"#E5ECF6\", \"gridcolor\": \"white\", \"gridwidth\": 2, \"linecolor\": \"white\", \"showbackground\": true, \"ticks\": \"\", \"zerolinecolor\": \"white\"}, \"zaxis\": {\"backgroundcolor\": \"#E5ECF6\", \"gridcolor\": \"white\", \"gridwidth\": 2, \"linecolor\": \"white\", \"showbackground\": true, \"ticks\": \"\", \"zerolinecolor\": \"white\"}}, \"shapedefaults\": {\"line\": {\"color\": \"#2a3f5f\"}}, \"ternary\": {\"aaxis\": {\"gridcolor\": \"white\", \"linecolor\": \"white\", \"ticks\": \"\"}, \"baxis\": {\"gridcolor\": \"white\", \"linecolor\": \"white\", \"ticks\": \"\"}, \"bgcolor\": \"#E5ECF6\", \"caxis\": {\"gridcolor\": \"white\", \"linecolor\": \"white\", \"ticks\": \"\"}}, \"title\": {\"x\": 0.05}, \"xaxis\": {\"automargin\": true, \"gridcolor\": \"white\", \"linecolor\": \"white\", \"ticks\": \"\", \"title\": {\"standoff\": 15}, \"zerolinecolor\": \"white\", \"zerolinewidth\": 2}, \"yaxis\": {\"automargin\": true, \"gridcolor\": \"white\", \"linecolor\": \"white\", \"ticks\": \"\", \"title\": {\"standoff\": 15}, \"zerolinecolor\": \"white\", \"zerolinewidth\": 2}}}, \"title\": {\"text\": \"National Trends in Occupation\"}, \"xaxis\": {\"title\": {\"text\": \"Year\"}}, \"yaxis\": {\"title\": {\"text\": \"Occupation as Percent\"}}},\n",
              "                        {\"responsive\": true}\n",
              "                    ).then(function(){\n",
              "                            \n",
              "var gd = document.getElementById('00f3a46b-02dd-4232-9fb6-cb3c5e493777');\n",
              "var x = new MutationObserver(function (mutations, observer) {{\n",
              "        var display = window.getComputedStyle(gd).display;\n",
              "        if (!display || display === 'none') {{\n",
              "            console.log([gd, 'removed!']);\n",
              "            Plotly.purge(gd);\n",
              "            observer.disconnect();\n",
              "        }}\n",
              "}});\n",
              "\n",
              "// Listen for the removal of the full notebook cells\n",
              "var notebookContainer = gd.closest('#notebook-container');\n",
              "if (notebookContainer) {{\n",
              "    x.observe(notebookContainer, {childList: true});\n",
              "}}\n",
              "\n",
              "// Listen for the clearing of the current output cell\n",
              "var outputEl = gd.closest('.output');\n",
              "if (outputEl) {{\n",
              "    x.observe(outputEl, {childList: true});\n",
              "}}\n",
              "\n",
              "                        })\n",
              "                };\n",
              "                \n",
              "            </script>\n",
              "        </div>\n",
              "</body>\n",
              "</html>"
            ]
          },
          "metadata": {}
        }
      ]
    },
    {
      "cell_type": "markdown",
      "source": [
        "**National occupation trends**\n",
        "\n",
        "Going up:\n",
        "-\tTransportation & material moving (i.e. air traffic controllers, bus drivers)\n",
        "-\tHealthcare practitioner & technical\n",
        "\n",
        "Going down:\n",
        "-\tPersonal care & service (hairstylists, childcare)\n",
        "-\tFood preparation & serving\n"
      ],
      "metadata": {
        "id": "WPKDtfHb1_pl"
      }
    },
    {
      "cell_type": "code",
      "source": [
        "@interact(State = state_o_s)\n",
        "def line_state(State = 'NM'):\n",
        "  subset_df = df_viz[['DATA_YEAR', 'occ_string', 'USPS_STATE']].copy()\n",
        "  subset_df = subset_df[subset_df['USPS_STATE'] == State]\n",
        "  subset_df.drop(['USPS_STATE'], axis=1, inplace=True)\n",
        "  \n",
        "  all_counts_df = subset_df.groupby('DATA_YEAR').count()\n",
        "  all_counts_df.set_axis(['All Counts'], axis=1, inplace=True)\n",
        "  all_counts_df['Data Year'] = all_counts_df.index\n",
        "  \n",
        "  results = []\n",
        "  for value in subset_df['occ_string'].unique():\n",
        "    occ_counts_df = subset_df[subset_df['occ_string'] == value].groupby('DATA_YEAR').count()\n",
        "    occ_counts_df.set_axis([value], axis=1, inplace=True)\n",
        "    combo_df = pd.merge(all_counts_df,occ_counts_df, on = 'DATA_YEAR')\n",
        "    combo_df[f'{value} Percent'] = combo_df[value]/combo_df['All Counts'] * 100\n",
        "    results.append(combo_df)\n",
        "\n",
        "  final_df = pd.concat(results, axis=1, join= 'inner')\n",
        "\n",
        "  drop_idx_allcounts = list(range(4, final_df.shape[1], 4))\n",
        "  drop_idx_datayear = list(range(5, final_df.shape[1], 4))\n",
        "  drop_idx = drop_idx_allcounts + drop_idx_datayear\n",
        "  final_df.drop(final_df.columns[drop_idx], axis=1, inplace=True)\n",
        "\n",
        "  final_df['Data Year'] = final_df.index\n",
        "\n",
        "  columns_plot = list(range(1, final_df.shape[1], 2))\n",
        "\n",
        "  fig = go.Figure()\n",
        "  for col in final_df.columns[columns_plot]:\n",
        "    fig.add_trace(go.Scatter(x=final_df.index, y=final_df[col], mode='lines+markers', name=col))\n",
        "  fig.update_layout(title='State Trends in Occupation', xaxis_title='Year', yaxis_title = 'Occupation as Percent')\n",
        "  return fig.show()"
      ],
      "metadata": {
        "id": "pbaMCBzPRjax",
        "colab": {
          "base_uri": "https://localhost:8080/",
          "height": 574,
          "referenced_widgets": [
            "36de30fded3540fcaebda63b6dfcc7be",
            "1717a086ffe441b7b085e7dd88fa8aec",
            "5946f0572d7a4d488fdf76535e607ec9",
            "730d6d9307374f7abe43d2d50c86adcd",
            "2af7de974f77425cb838b51f49d6ca8c",
            "6c7fbd979bdc46bf92d29602b986fb28",
            "d97a8d4c24d14ebf866b76d9fcd81ea5"
          ]
        },
        "outputId": "6ec3128b-dce0-4477-db53-b82cc6764def"
      },
      "execution_count": null,
      "outputs": [
        {
          "output_type": "display_data",
          "data": {
            "application/vnd.jupyter.widget-view+json": {
              "model_id": "36de30fded3540fcaebda63b6dfcc7be",
              "version_minor": 0,
              "version_major": 2
            },
            "text/plain": [
              "interactive(children=(Dropdown(description='State', options=('AK', 'AL', 'AR', 'AZ', 'CA', 'CO', 'CT', 'DC', '…"
            ]
          },
          "metadata": {}
        }
      ]
    },
    {
      "cell_type": "markdown",
      "source": [
        "**New Mexico occupation trends**\n",
        "\n",
        "Going up:\n",
        "-\tTransportation & material moving \n",
        "-\tHealthcare practitioner & technical \n",
        "\n",
        "Going down:\n",
        "-\tFood preparation & serving \n",
        "-\tPersonal care & service \n"
      ],
      "metadata": {
        "id": "aWvpKyk02FnL"
      }
    }
  ]
}