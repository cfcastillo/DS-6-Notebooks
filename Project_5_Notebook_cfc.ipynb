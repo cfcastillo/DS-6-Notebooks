{
  "nbformat": 4,
  "nbformat_minor": 0,
  "metadata": {
    "colab": {
      "name": "Project 5 - Notebook cfc.ipynb",
      "provenance": [],
      "collapsed_sections": [],
      "toc_visible": true,
      "authorship_tag": "ABX9TyNZhK/xSv33Q6hClUdGAwUe",
      "include_colab_link": true
    },
    "kernelspec": {
      "name": "python3",
      "display_name": "Python 3"
    },
    "language_info": {
      "name": "python"
    }
  },
  "cells": [
    {
      "cell_type": "markdown",
      "metadata": {
        "id": "view-in-github",
        "colab_type": "text"
      },
      "source": [
        "<a href=\"https://colab.research.google.com/github/cfcastillo/DS-6-Notebooks/blob/main/Project_5_Notebook_cfc.ipynb\" target=\"_parent\"><img src=\"https://colab.research.google.com/assets/colab-badge.svg\" alt=\"Open In Colab\"/></a>"
      ]
    },
    {
      "cell_type": "markdown",
      "metadata": {
        "id": "EIgtwWNlarYC"
      },
      "source": [
        "# Problem Definition\n",
        "The goal of this project is to demonstrate the ability to pull data from an SQL database and to perform exploratory data analysis on that data. Here is [a link to the project details](https://docs.google.com/document/d/1Eoq5MdMySlKZr70NJCwdi4a9iIw91oLWtQI-Nmb9dSQ/edit).\n",
        "\n",
        "\n",
        "1. Pick one or more datasets from the Open Data Sets available from Google BigQuery.\n",
        "1. Come up with questions about your data.\n",
        "1. Use SQL queries to pull the specific information for your questions. *Note: data manipulation must be done using SQL, not DataFrames.*\n",
        "1. Make some plots. Plot data should be filtered using SQL before plotting.\n",
        "1. Present findings along with plots to the class.\n"
      ]
    },
    {
      "cell_type": "markdown",
      "metadata": {
        "id": "hlUacIxERsOL"
      },
      "source": [
        "# Project Process\n",
        "\n",
        "I chose to look at the schemas through Big Query rather than in my notebook because it was easier to visualize the data there. I also built and tested my queries in Big Query before porting them here."
      ]
    },
    {
      "cell_type": "markdown",
      "metadata": {
        "id": "j7j9Y4TDa5X2"
      },
      "source": [
        "# Data Collection"
      ]
    },
    {
      "cell_type": "markdown",
      "metadata": {
        "id": "CHkKi4BzV8vJ"
      },
      "source": [
        "## Choose Data\n",
        "\n",
        "Here is a list of interesting datasets to explore:\n",
        "\n",
        "- [Consumer Complaint Database](https://console.cloud.google.com/marketplace/product/cfpb/complaint-database?project=ds-6-project-5)\n",
        "  - click \"run sample\" link to get to data.\n",
        "  - single table\n",
        "- [American Consumer Survey - maybe use for Capstone](https://console.cloud.google.com/marketplace/product/united-states-census-bureau/acs?project=ds-6-project-5)\n",
        "  - Data summarized. \n",
        "- **DEFERRED** [Data 360 - Traffic Safety](https://console.cloud.google.com/marketplace/product/dataflix-public-datasets/data-360-traffic-and-safety?project=ds-6-project-5)\n",
        "  - multiple tables; each has incident data\n",
        "  - unique key\n",
        "    - consecutive_number - which is the state code + case number\n",
        "  - can join multiple events on unique key\n",
        "- [US Forestry Industry Analysis](https://console.cloud.google.com/marketplace/product/us-forest-service/forest-inventory-analysis?project=ds-6-project-5)\n",
        "  - has multiple tables so can demonstrate joins.\n",
        "- [BEA GDP and Income Data - maybe use for Capstone](https://console.cloud.google.com/marketplace/product/bureau-econonmic-analysis/gdp-income-by-county?project=ds-6-project-5)\n",
        "  - Data summarized\n",
        "- **SELECTED** [Historical Air Quality](https://console.cloud.google.com/marketplace/product/epa/historical-air-quality?project=ds-6-project-5)\n",
        "  - Different datasets for each type of measure like wind, temperature, pressure, particulate, etc.\n",
        "  - Data is summarized\n",
        "  - Unique key\n",
        "    - state_code\n",
        "    - county_code\n",
        "    - site_num\n",
        "- **SELECTED** [National Homelessness](https://console.cloud.google.com/marketplace/product/housing-urban-development/homelessness-count?project=ds-6-project-5)\n",
        "  - single table\n",
        "- [US Residential Real-Estate Stats](https://console.cloud.google.com/marketplace/product/housecanary-com/housecanary?project=ds-6-project-5)\n",
        "  - need to pay for service to access."
      ]
    },
    {
      "cell_type": "markdown",
      "metadata": {
        "id": "1faCHIjobl8k"
      },
      "source": [
        "## Imports"
      ]
    },
    {
      "cell_type": "code",
      "metadata": {
        "id": "QfQPgzzSer2x"
      },
      "source": [
        "# grab the imports needed for the project\n",
        "import pandas as pd\n",
        "import matplotlib.pyplot as plt\n",
        "import numpy as np\n",
        "from google.cloud import bigquery\n",
        "import re\n",
        "\n",
        "# import seaborn as sns\n",
        "# import statsmodels.api as sm\n",
        "\n",
        "# # all\n",
        "# from sklearn import datasets\n",
        "# from sklearn import metrics\n",
        "# from sklearn import preprocessing\n",
        "# from sklearn.metrics import classification_report\n",
        "# import sklearn.model_selection as model_selection\n",
        "# from sklearn.preprocessing import LabelEncoder\n",
        "# from sklearn.preprocessing import MultiLabelBinarizer\n",
        "# from sklearn.model_selection import train_test_split\n",
        "# from sklearn.model_selection import cross_val_score\n",
        "# from sklearn.model_selection import GridSearchCV\n",
        "\n",
        "# # Gaussian Naive Bayes\n",
        "# from sklearn.naive_bayes import GaussianNB\n",
        "# from sklearn.naive_bayes import MultinomialNB\n",
        "\n",
        "# # Regression\n",
        "# from sklearn.linear_model import LinearRegression\n",
        "# from sklearn.tree import DecisionTreeRegressor \n",
        "# from sklearn.ensemble import RandomForestRegressor\n",
        "# import xgboost as xgb\n",
        "# from sklearn.metrics import mean_squared_error\n",
        "# from sklearn.metrics import r2_score\n",
        "# from sklearn.metrics import accuracy_score\n",
        "# from sklearn import metrics"
      ],
      "execution_count": 1,
      "outputs": []
    },
    {
      "cell_type": "markdown",
      "metadata": {
        "id": "kAuOuhJ1bpjX"
      },
      "source": [
        "## Load Data\n",
        "\n",
        "[BigQuery Datasets](https://console.cloud.google.com/marketplace/browse?filter=solution-type:dataset&project=ds-6-project-5)\n",
        "\n",
        "[BigQuery Project Link](https://console.cloud.google.com/bigquery?project=ds-6-project-5)"
      ]
    },
    {
      "cell_type": "code",
      "metadata": {
        "id": "wNLKZBmwecoL",
        "colab": {
          "base_uri": "https://localhost:8080/"
        },
        "outputId": "49b8d145-a393-48bd-c933-9f9632e34d6f"
      },
      "source": [
        "# Connect to BigQuery\n",
        "project_id = 'ds-6-project-5'\n",
        "from google.colab import auth\n",
        "auth.authenticate_user()\n",
        "print('Authenticated')"
      ],
      "execution_count": 2,
      "outputs": [
        {
          "output_type": "stream",
          "name": "stdout",
          "text": [
            "Authenticated\n"
          ]
        }
      ]
    },
    {
      "cell_type": "code",
      "metadata": {
        "id": "zFd2XTjVWU4E"
      },
      "source": [
        "# Set query limits to avoid incurring unexpected charges. Free limit is 1TB.\n",
        "# Note that limit applies to querying.\n",
        "ONE_MB = 1000*1000\n",
        "ONE_GB = 1000*ONE_MB"
      ],
      "execution_count": 3,
      "outputs": []
    },
    {
      "cell_type": "code",
      "metadata": {
        "id": "0doP3kAnV5Hv"
      },
      "source": [
        "# Create client object that will be used to query data\n",
        "client = bigquery.Client(project=project_id)\n",
        "\n",
        "# Where data is located in Big Query\n",
        "project_name = 'bigquery-public-data'"
      ],
      "execution_count": 4,
      "outputs": []
    },
    {
      "cell_type": "markdown",
      "metadata": {
        "id": "dP6V8sRydm0A"
      },
      "source": [
        "# Homelessness Data"
      ]
    },
    {
      "cell_type": "markdown",
      "metadata": {
        "id": "JvEHni_EB5Pk"
      },
      "source": [
        "## Details\n",
        "\n",
        "[National Homelessness](https://console.cloud.google.com/marketplace/product/housing-urban-development/homelessness-count?project=ds-6-project-5)\n",
        "- single table"
      ]
    },
    {
      "cell_type": "markdown",
      "metadata": {
        "id": "S-NcnZ1GCAFT"
      },
      "source": [
        "## Skills Used\n",
        "\n",
        "- WITH statement to setup subquery\n",
        "- UNION ALL to append multiple datasets together into a transformed result\n",
        "- LEFT() to pull State code from a column\n",
        "- WHERE clause with IS NOT NULL and AND\n",
        "- GROUP BY with SUM() to summarize the data before transforming\n",
        "- Stacked bar plot using groupby() and unstack()"
      ]
    },
    {
      "cell_type": "markdown",
      "metadata": {
        "id": "P9hYKOR8tVhS"
      },
      "source": [
        "## Extract Data\n",
        "\n",
        "The data was not in a plot-friendly format. So I transformed the data from columns to rows with categories for easier plotting."
      ]
    },
    {
      "cell_type": "code",
      "metadata": {
        "id": "S10QApmoe3he"
      },
      "source": [
        "# Cache instance and table name(s) so can change in one place if needed and will propagate to queries.\n",
        "hud_instance = 'sdoh_hud_pit_homelessness'\n",
        "hud_table = 'hud_pit_by_coc'"
      ],
      "execution_count": 26,
      "outputs": []
    },
    {
      "cell_type": "code",
      "metadata": {
        "colab": {
          "base_uri": "https://localhost:8080/"
        },
        "id": "p9NSX6aYMijV",
        "outputId": "23ab30a9-3326-4bb9-b4aa-88dff9d373c1"
      },
      "source": [
        "# Construct a reference to the \"covid19_google_mobility\" dataset\n",
        "# dataset_ref = client.dataset(\"covid19_geotab_mobility_impact\", project=\"bigquery-public-data\")\n",
        "dataset_ref = client.dataset(hud_instance, project=project_name)\n",
        "\n",
        "# API request - fetch the dataset\n",
        "dataset = client.get_dataset(dataset_ref)\n",
        "\n",
        "# Get all the tables in the dataset\n",
        "tables = list(client.list_tables(dataset))\n",
        "\n",
        "# Print names of all tables in the dataset\n",
        "for table in tables: \n",
        "  print(table.table_id)"
      ],
      "execution_count": 27,
      "outputs": [
        {
          "output_type": "stream",
          "name": "stdout",
          "text": [
            "hud_pit_by_coc\n"
          ]
        }
      ]
    },
    {
      "cell_type": "code",
      "metadata": {
        "colab": {
          "base_uri": "https://localhost:8080/"
        },
        "id": "NWiCK0JGcIBB",
        "outputId": "5133b6e9-e1ba-4566-9ee8-84830661bb6b"
      },
      "source": [
        "# Construct a reference to the \"mobility report\" table\n",
        "table_ref = dataset.table(hud_table)\n",
        "\n",
        "# API request - fetch the table\n",
        "table = client.get_table(table_ref)\n",
        "\n",
        "# See the table's schema - name, field type, mode, description\n",
        "table.schema"
      ],
      "execution_count": 29,
      "outputs": [
        {
          "output_type": "execute_result",
          "data": {
            "text/plain": [
              "[SchemaField('CoC_Number', 'STRING', 'NULLABLE', 'Number of the Continuum of Care Area', ()),\n",
              " SchemaField('CoC_Name', 'STRING', 'NULLABLE', 'Name of the Continuum of Care Area', ()),\n",
              " SchemaField('CoC_Category', 'STRING', 'NULLABLE', 'Only for 2018', ()),\n",
              " SchemaField('Overall_Homeless', 'INTEGER', 'NULLABLE', 'Total Homeless Population', ()),\n",
              " SchemaField('Sheltered_ES_Homeless', 'INTEGER', 'NULLABLE', 'Homeless in Emergency Shelters', ()),\n",
              " SchemaField('Sheltered_TH_Homeless', 'INTEGER', 'NULLABLE', 'Homeless in Transitional Housing', ()),\n",
              " SchemaField('Sheltered_SH_Homeless', 'INTEGER', 'NULLABLE', 'Homeless in Safe Haven Housing', ()),\n",
              " SchemaField('Sheltered_Total_Homeless', 'INTEGER', 'NULLABLE', 'Total Sheltered Homeless', ()),\n",
              " SchemaField('Unsheltered_Homeless', 'INTEGER', 'NULLABLE', None, ()),\n",
              " SchemaField('Homeless_Individuals', 'INTEGER', 'NULLABLE', 'Individuals not with Families', ()),\n",
              " SchemaField('Sheltered_ES_Homeless_Individuals', 'INTEGER', 'NULLABLE', 'Emergency Shelter', ()),\n",
              " SchemaField('Sheltered_TH_Homeless_Individuals', 'INTEGER', 'NULLABLE', 'Transitional Housing', ()),\n",
              " SchemaField('Sheltered_SH_Homeless_Individuals', 'INTEGER', 'NULLABLE', 'Safe Haven Housing', ()),\n",
              " SchemaField('Sheltered_Total_Homeless_Individuals', 'INTEGER', 'NULLABLE', None, ()),\n",
              " SchemaField('Unsheltered_Homeless_Individuals', 'INTEGER', 'NULLABLE', None, ()),\n",
              " SchemaField('Homeless_People_in_Families', 'INTEGER', 'NULLABLE', None, ()),\n",
              " SchemaField('Sheltered_ES_Homeless_People_in_Families', 'INTEGER', 'NULLABLE', 'Emergency Shelter', ()),\n",
              " SchemaField('Sheltered_TH_Homeless_People_in_Families', 'INTEGER', 'NULLABLE', 'Transitional Housing', ()),\n",
              " SchemaField('Sheltered_Total_Homeless_People_in_Families', 'INTEGER', 'NULLABLE', None, ()),\n",
              " SchemaField('Unsheltered_Homeless_People_in_Families', 'INTEGER', 'NULLABLE', None, ()),\n",
              " SchemaField('Homeless_Family_Households', 'INTEGER', 'NULLABLE', None, ()),\n",
              " SchemaField('Sheltered_ES_Homeless_Family_Households', 'INTEGER', 'NULLABLE', 'Emergency Shelter', ()),\n",
              " SchemaField('Sheltered_TH_Homeless_Family_Households', 'INTEGER', 'NULLABLE', 'Transitional Housing', ()),\n",
              " SchemaField('Sheltered_Total_Homeless_Family_Households', 'INTEGER', 'NULLABLE', None, ()),\n",
              " SchemaField('Unsheltered_Homeless_Family_Households', 'INTEGER', 'NULLABLE', None, ()),\n",
              " SchemaField('Chronically_Homeless', 'INTEGER', 'NULLABLE', 'Homelessness for a Year', ()),\n",
              " SchemaField('Sheltered_ES_Chronically_Homeless', 'INTEGER', 'NULLABLE', 'Emergency Shelter; Homelessness for a Year', ()),\n",
              " SchemaField('Sheltered_SH_Chronically_Homeless', 'INTEGER', 'NULLABLE', 'Homelessness for a Year', ()),\n",
              " SchemaField('Sheltered_Total_Chronically_Homeless', 'INTEGER', 'NULLABLE', 'Homelessness for a Year', ()),\n",
              " SchemaField('Unsheltered_Chronically_Homeless', 'INTEGER', 'NULLABLE', 'Homelessness for a Year', ()),\n",
              " SchemaField('Chronically_Homeless_Individuals', 'INTEGER', 'NULLABLE', 'Homelessness for a Year', ()),\n",
              " SchemaField('Sheltered_ES_Chronically_Homeless_Individuals', 'INTEGER', 'NULLABLE', 'Emergency Shelter; Homelessness for a Year', ()),\n",
              " SchemaField('Sheltered_SH_Chronically_Homeless_Individuals', 'INTEGER', 'NULLABLE', 'Safe Haven Housing; Homelessness for a Year', ()),\n",
              " SchemaField('Sheltered_Total_Chronically_Homeless_Individuals', 'INTEGER', 'NULLABLE', 'Homelessness for a Year', ()),\n",
              " SchemaField('Unsheltered_Chronically_Homeless_Individuals', 'INTEGER', 'NULLABLE', 'Homelessness for a Year', ()),\n",
              " SchemaField('Chronically_Homeless_People_in_Families', 'INTEGER', 'NULLABLE', 'Homelessness for a Year', ()),\n",
              " SchemaField('Sheltered_ES_Chronically_Homeless_People_in_Families', 'INTEGER', 'NULLABLE', 'Emergency Shelter; Homelessness for a Year', ()),\n",
              " SchemaField('Sheltered_Total_Chronically_Homeless_People_in_Families', 'INTEGER', 'NULLABLE', 'Homelessness for a Year', ()),\n",
              " SchemaField('Unsheltered_Chronically_Homeless_People_in_Families', 'INTEGER', 'NULLABLE', 'Homelessness for a Year', ()),\n",
              " SchemaField('Homeless_Veterans', 'INTEGER', 'NULLABLE', None, ()),\n",
              " SchemaField('Sheltered_ES_Homeless_Veterans', 'INTEGER', 'NULLABLE', 'Emergency Shelter; after 2013', ()),\n",
              " SchemaField('Sheltered_TH_Homeless_Veterans', 'INTEGER', 'NULLABLE', 'Transitional Housing; after 2013', ()),\n",
              " SchemaField('Sheltered_SH_Homeless_Veterans', 'INTEGER', 'NULLABLE', 'Safe Haven Housing; after 2013', ()),\n",
              " SchemaField('Sheltered_Total_Homeless_Veterans', 'INTEGER', 'NULLABLE', None, ()),\n",
              " SchemaField('Unsheltered_Homeless_Veterans', 'INTEGER', 'NULLABLE', None, ()),\n",
              " SchemaField('Homeless_Unaccompanied_Youth_Under_25', 'INTEGER', 'NULLABLE', 'after 2014', ()),\n",
              " SchemaField('Sheltered_ES_Homeless_Unaccompanied_Youth_Under_25', 'INTEGER', 'NULLABLE', 'Emergency Shelter; after 2014', ()),\n",
              " SchemaField('Sheltered_TH_Homeless_Unaccompanied_Youth_Under_25', 'INTEGER', 'NULLABLE', 'Transitional Housing; after 2014', ()),\n",
              " SchemaField('Sheltered_SH_Homeless_Unaccompanied_Youth_Under_25', 'INTEGER', 'NULLABLE', 'Safe Haven Housing; after 2014', ()),\n",
              " SchemaField('Sheltered_Total_Homeless_Unaccompanied_Youth_Under_25', 'INTEGER', 'NULLABLE', 'after 2014', ()),\n",
              " SchemaField('Unsheltered_Homeless_Unaccompanied_Youth_Under_25', 'INTEGER', 'NULLABLE', 'after 2014', ()),\n",
              " SchemaField('Homeless_Unaccompanied_Youth_Under_18', 'INTEGER', 'NULLABLE', 'after 2014', ()),\n",
              " SchemaField('Sheltered_ES_Homeless_Unaccompanied_Youth_Under_18', 'INTEGER', 'NULLABLE', 'Emergency Shelter; after 2014', ()),\n",
              " SchemaField('Sheltered_TH_Homeless_Unaccompanied_Youth_Under_18', 'INTEGER', 'NULLABLE', 'Transitional Housing; after 2014', ()),\n",
              " SchemaField('Sheltered_SH_Homeless_Unaccompanied_Youth_Under_18', 'INTEGER', 'NULLABLE', 'Safe Haven Housing; after 2014', ()),\n",
              " SchemaField('Sheltered_Total_Homeless_Unaccompanied_Youth_Under_18', 'INTEGER', 'NULLABLE', 'after 2014', ()),\n",
              " SchemaField('Unsheltered_Homeless_Unaccompanied_Youth_Under_18', 'INTEGER', 'NULLABLE', 'after 2014', ()),\n",
              " SchemaField('Homeless_Unaccompanied_Youth_Age_18_24', 'INTEGER', 'NULLABLE', 'after 2014', ()),\n",
              " SchemaField('Sheltered_ES_Homeless_Unaccompanied_Youth_Age_18_24', 'INTEGER', 'NULLABLE', 'Emergency Shelter; after 2014', ()),\n",
              " SchemaField('Sheltered_TH_Homeless_Unaccompanied_Youth_Age_18_24', 'INTEGER', 'NULLABLE', 'Transitional Housing; after 2014', ()),\n",
              " SchemaField('Sheltered_SH_Homeless_Unaccompanied_Youth_Age_18_24', 'INTEGER', 'NULLABLE', 'Safe Haven Housing; after 2014', ()),\n",
              " SchemaField('Sheltered_Total_Homeless_Unaccompanied_Youth_Age_18_24', 'INTEGER', 'NULLABLE', 'after 2014', ()),\n",
              " SchemaField('Unsheltered_Homeless_Unaccompanied_Youth_Age_18_24', 'INTEGER', 'NULLABLE', 'after 2014', ()),\n",
              " SchemaField('Homeless_Parenting_Youth_Under_25', 'INTEGER', 'NULLABLE', 'after 2014', ()),\n",
              " SchemaField('Sheltered_ES_Homeless_Parenting_Youth_Under_25', 'INTEGER', 'NULLABLE', 'Emergency Shelter; after 2014', ()),\n",
              " SchemaField('Sheltered_TH_Homeless_Parenting_Youth_Under_25', 'INTEGER', 'NULLABLE', 'Transitional Housing; after 2014', ()),\n",
              " SchemaField('Sheltered_Total_Homeless_Parenting_Youth_Under_25', 'INTEGER', 'NULLABLE', 'after 2014', ()),\n",
              " SchemaField('Unsheltered_Homeless_Parenting_Youth_Under_25', 'INTEGER', 'NULLABLE', 'after 2014', ()),\n",
              " SchemaField('Homeless_Parenting_Youth_Under_18', 'INTEGER', 'NULLABLE', 'after 2014', ()),\n",
              " SchemaField('Sheltered_ES_Homeless_Parenting_Youth_Under_18', 'INTEGER', 'NULLABLE', 'Emergency Shelter; after 2014', ()),\n",
              " SchemaField('Sheltered_TH_Homeless_Parenting_Youth_Under_18', 'INTEGER', 'NULLABLE', 'Transitional Housing; after 2014', ()),\n",
              " SchemaField('Sheltered_Total_Homeless_Parenting_Youth_Under_18', 'INTEGER', 'NULLABLE', 'after 2014', ()),\n",
              " SchemaField('Unsheltered_Homeless_Parenting_Youth_Under_18', 'INTEGER', 'NULLABLE', 'after 2014', ()),\n",
              " SchemaField('Homeless_Parenting_Youth_Age_18_24', 'INTEGER', 'NULLABLE', 'after 2014', ()),\n",
              " SchemaField('Sheltered_ES_Homeless_Parenting_Youth_Age_18_24', 'INTEGER', 'NULLABLE', 'Emergency Shelter; after 2014', ()),\n",
              " SchemaField('Sheltered_TH_Homeless_Parenting_Youth_Age_18_24', 'INTEGER', 'NULLABLE', 'Transitional Housing; after 2014', ()),\n",
              " SchemaField('Sheltered_Total_Homeless_Parenting_Youth_Age_18_24', 'INTEGER', 'NULLABLE', 'after 2014', ()),\n",
              " SchemaField('Unsheltered_Homeless_Parenting_Youth_Age_18_24', 'INTEGER', 'NULLABLE', 'after 2014', ()),\n",
              " SchemaField('Homeless_Children_of_Parenting_Youth', 'INTEGER', 'NULLABLE', 'after 2014', ()),\n",
              " SchemaField('Sheltered_ES_Homeless_Children_of_Parenting_Youth', 'INTEGER', 'NULLABLE', 'Emergency Shelter; after 2014', ()),\n",
              " SchemaField('Sheltered_TH_Homeless_Children_of_Parenting_Youth', 'INTEGER', 'NULLABLE', 'Transitional Housing; after 2014', ()),\n",
              " SchemaField('Sheltered_Total_Homeless_Children_of_Parenting_Youth', 'INTEGER', 'NULLABLE', 'after 2014', ()),\n",
              " SchemaField('Unsheltered_Homeless_Children_of_Parenting_Youth', 'INTEGER', 'NULLABLE', 'after 2014', ()),\n",
              " SchemaField('Count_Year', 'INTEGER', 'NULLABLE', 'Year the Count took Place (January)', ())]"
            ]
          },
          "metadata": {},
          "execution_count": 29
        }
      ]
    },
    {
      "cell_type": "markdown",
      "metadata": {
        "id": "xliec5SCbEzn"
      },
      "source": [
        "## Data Dictionary\n",
        "\n",
        "\n",
        "- Sheltered - Shelter Types\n",
        "  - ES - Emergency shelter\n",
        "  - TH - Transitional housing\n",
        "  - SH - Safe haven housing\n",
        "- Unsheltered\n",
        "- Categories\n",
        "  - Individuals\n",
        "  - People in families\n",
        "  - Family Households\n",
        "  - Youth - various categories\n",
        "  - Veterans\n",
        "- Chronic - homeless for a year\n",
        "\n",
        "\n",
        "\n"
      ]
    },
    {
      "cell_type": "code",
      "metadata": {
        "colab": {
          "base_uri": "https://localhost:8080/",
          "height": 372
        },
        "id": "xrEl_aNOXqg8",
        "outputId": "5fa0eda4-45a8-434e-d950-b91ef7fcf38c"
      },
      "source": [
        "# Look at data prior to data transformation\n",
        "query = f'''\n",
        "        SELECT *\n",
        "        FROM {project_name}.{hud_instance}.{hud_table}\n",
        "        LIMIT 5\n",
        "'''\n",
        "df = client.query(query).to_dataframe()\n",
        "df.head()"
      ],
      "execution_count": 28,
      "outputs": [
        {
          "output_type": "execute_result",
          "data": {
            "text/html": [
              "<div>\n",
              "<style scoped>\n",
              "    .dataframe tbody tr th:only-of-type {\n",
              "        vertical-align: middle;\n",
              "    }\n",
              "\n",
              "    .dataframe tbody tr th {\n",
              "        vertical-align: top;\n",
              "    }\n",
              "\n",
              "    .dataframe thead th {\n",
              "        text-align: right;\n",
              "    }\n",
              "</style>\n",
              "<table border=\"1\" class=\"dataframe\">\n",
              "  <thead>\n",
              "    <tr style=\"text-align: right;\">\n",
              "      <th></th>\n",
              "      <th>CoC_Number</th>\n",
              "      <th>CoC_Name</th>\n",
              "      <th>CoC_Category</th>\n",
              "      <th>Overall_Homeless</th>\n",
              "      <th>Sheltered_ES_Homeless</th>\n",
              "      <th>Sheltered_TH_Homeless</th>\n",
              "      <th>Sheltered_SH_Homeless</th>\n",
              "      <th>Sheltered_Total_Homeless</th>\n",
              "      <th>Unsheltered_Homeless</th>\n",
              "      <th>Homeless_Individuals</th>\n",
              "      <th>Sheltered_ES_Homeless_Individuals</th>\n",
              "      <th>Sheltered_TH_Homeless_Individuals</th>\n",
              "      <th>Sheltered_SH_Homeless_Individuals</th>\n",
              "      <th>Sheltered_Total_Homeless_Individuals</th>\n",
              "      <th>Unsheltered_Homeless_Individuals</th>\n",
              "      <th>Homeless_People_in_Families</th>\n",
              "      <th>Sheltered_ES_Homeless_People_in_Families</th>\n",
              "      <th>Sheltered_TH_Homeless_People_in_Families</th>\n",
              "      <th>Sheltered_Total_Homeless_People_in_Families</th>\n",
              "      <th>Unsheltered_Homeless_People_in_Families</th>\n",
              "      <th>Homeless_Family_Households</th>\n",
              "      <th>Sheltered_ES_Homeless_Family_Households</th>\n",
              "      <th>Sheltered_TH_Homeless_Family_Households</th>\n",
              "      <th>Sheltered_Total_Homeless_Family_Households</th>\n",
              "      <th>Unsheltered_Homeless_Family_Households</th>\n",
              "      <th>Chronically_Homeless</th>\n",
              "      <th>Sheltered_ES_Chronically_Homeless</th>\n",
              "      <th>Sheltered_SH_Chronically_Homeless</th>\n",
              "      <th>Sheltered_Total_Chronically_Homeless</th>\n",
              "      <th>Unsheltered_Chronically_Homeless</th>\n",
              "      <th>Chronically_Homeless_Individuals</th>\n",
              "      <th>Sheltered_ES_Chronically_Homeless_Individuals</th>\n",
              "      <th>Sheltered_SH_Chronically_Homeless_Individuals</th>\n",
              "      <th>Sheltered_Total_Chronically_Homeless_Individuals</th>\n",
              "      <th>Unsheltered_Chronically_Homeless_Individuals</th>\n",
              "      <th>Chronically_Homeless_People_in_Families</th>\n",
              "      <th>Sheltered_ES_Chronically_Homeless_People_in_Families</th>\n",
              "      <th>Sheltered_Total_Chronically_Homeless_People_in_Families</th>\n",
              "      <th>Unsheltered_Chronically_Homeless_People_in_Families</th>\n",
              "      <th>Homeless_Veterans</th>\n",
              "      <th>...</th>\n",
              "      <th>Unsheltered_Homeless_Veterans</th>\n",
              "      <th>Homeless_Unaccompanied_Youth_Under_25</th>\n",
              "      <th>Sheltered_ES_Homeless_Unaccompanied_Youth_Under_25</th>\n",
              "      <th>Sheltered_TH_Homeless_Unaccompanied_Youth_Under_25</th>\n",
              "      <th>Sheltered_SH_Homeless_Unaccompanied_Youth_Under_25</th>\n",
              "      <th>Sheltered_Total_Homeless_Unaccompanied_Youth_Under_25</th>\n",
              "      <th>Unsheltered_Homeless_Unaccompanied_Youth_Under_25</th>\n",
              "      <th>Homeless_Unaccompanied_Youth_Under_18</th>\n",
              "      <th>Sheltered_ES_Homeless_Unaccompanied_Youth_Under_18</th>\n",
              "      <th>Sheltered_TH_Homeless_Unaccompanied_Youth_Under_18</th>\n",
              "      <th>Sheltered_SH_Homeless_Unaccompanied_Youth_Under_18</th>\n",
              "      <th>Sheltered_Total_Homeless_Unaccompanied_Youth_Under_18</th>\n",
              "      <th>Unsheltered_Homeless_Unaccompanied_Youth_Under_18</th>\n",
              "      <th>Homeless_Unaccompanied_Youth_Age_18_24</th>\n",
              "      <th>Sheltered_ES_Homeless_Unaccompanied_Youth_Age_18_24</th>\n",
              "      <th>Sheltered_TH_Homeless_Unaccompanied_Youth_Age_18_24</th>\n",
              "      <th>Sheltered_SH_Homeless_Unaccompanied_Youth_Age_18_24</th>\n",
              "      <th>Sheltered_Total_Homeless_Unaccompanied_Youth_Age_18_24</th>\n",
              "      <th>Unsheltered_Homeless_Unaccompanied_Youth_Age_18_24</th>\n",
              "      <th>Homeless_Parenting_Youth_Under_25</th>\n",
              "      <th>Sheltered_ES_Homeless_Parenting_Youth_Under_25</th>\n",
              "      <th>Sheltered_TH_Homeless_Parenting_Youth_Under_25</th>\n",
              "      <th>Sheltered_Total_Homeless_Parenting_Youth_Under_25</th>\n",
              "      <th>Unsheltered_Homeless_Parenting_Youth_Under_25</th>\n",
              "      <th>Homeless_Parenting_Youth_Under_18</th>\n",
              "      <th>Sheltered_ES_Homeless_Parenting_Youth_Under_18</th>\n",
              "      <th>Sheltered_TH_Homeless_Parenting_Youth_Under_18</th>\n",
              "      <th>Sheltered_Total_Homeless_Parenting_Youth_Under_18</th>\n",
              "      <th>Unsheltered_Homeless_Parenting_Youth_Under_18</th>\n",
              "      <th>Homeless_Parenting_Youth_Age_18_24</th>\n",
              "      <th>Sheltered_ES_Homeless_Parenting_Youth_Age_18_24</th>\n",
              "      <th>Sheltered_TH_Homeless_Parenting_Youth_Age_18_24</th>\n",
              "      <th>Sheltered_Total_Homeless_Parenting_Youth_Age_18_24</th>\n",
              "      <th>Unsheltered_Homeless_Parenting_Youth_Age_18_24</th>\n",
              "      <th>Homeless_Children_of_Parenting_Youth</th>\n",
              "      <th>Sheltered_ES_Homeless_Children_of_Parenting_Youth</th>\n",
              "      <th>Sheltered_TH_Homeless_Children_of_Parenting_Youth</th>\n",
              "      <th>Sheltered_Total_Homeless_Children_of_Parenting_Youth</th>\n",
              "      <th>Unsheltered_Homeless_Children_of_Parenting_Youth</th>\n",
              "      <th>Count_Year</th>\n",
              "    </tr>\n",
              "  </thead>\n",
              "  <tbody>\n",
              "    <tr>\n",
              "      <th>0</th>\n",
              "      <td>AK-500</td>\n",
              "      <td>Anchorage CoC</td>\n",
              "      <td>None</td>\n",
              "      <td>1023</td>\n",
              "      <td>665</td>\n",
              "      <td>305</td>\n",
              "      <td>0</td>\n",
              "      <td>970</td>\n",
              "      <td>53</td>\n",
              "      <td>736</td>\n",
              "      <td>530</td>\n",
              "      <td>158</td>\n",
              "      <td>0</td>\n",
              "      <td>688</td>\n",
              "      <td>48</td>\n",
              "      <td>287</td>\n",
              "      <td>135</td>\n",
              "      <td>147</td>\n",
              "      <td>282</td>\n",
              "      <td>5</td>\n",
              "      <td>102</td>\n",
              "      <td>52</td>\n",
              "      <td>48</td>\n",
              "      <td>100</td>\n",
              "      <td>2</td>\n",
              "      <td>101</td>\n",
              "      <td>59</td>\n",
              "      <td>0</td>\n",
              "      <td>59</td>\n",
              "      <td>42</td>\n",
              "      <td>94</td>\n",
              "      <td>56</td>\n",
              "      <td>0</td>\n",
              "      <td>56</td>\n",
              "      <td>38</td>\n",
              "      <td>7</td>\n",
              "      <td>3</td>\n",
              "      <td>3</td>\n",
              "      <td>4</td>\n",
              "      <td>138</td>\n",
              "      <td>...</td>\n",
              "      <td>18</td>\n",
              "      <td>None</td>\n",
              "      <td>None</td>\n",
              "      <td>None</td>\n",
              "      <td>None</td>\n",
              "      <td>None</td>\n",
              "      <td>None</td>\n",
              "      <td>None</td>\n",
              "      <td>None</td>\n",
              "      <td>None</td>\n",
              "      <td>None</td>\n",
              "      <td>None</td>\n",
              "      <td>None</td>\n",
              "      <td>None</td>\n",
              "      <td>None</td>\n",
              "      <td>None</td>\n",
              "      <td>None</td>\n",
              "      <td>None</td>\n",
              "      <td>None</td>\n",
              "      <td>None</td>\n",
              "      <td>None</td>\n",
              "      <td>None</td>\n",
              "      <td>None</td>\n",
              "      <td>None</td>\n",
              "      <td>None</td>\n",
              "      <td>None</td>\n",
              "      <td>None</td>\n",
              "      <td>None</td>\n",
              "      <td>None</td>\n",
              "      <td>None</td>\n",
              "      <td>None</td>\n",
              "      <td>None</td>\n",
              "      <td>None</td>\n",
              "      <td>None</td>\n",
              "      <td>None</td>\n",
              "      <td>None</td>\n",
              "      <td>None</td>\n",
              "      <td>None</td>\n",
              "      <td>None</td>\n",
              "      <td>2014</td>\n",
              "    </tr>\n",
              "    <tr>\n",
              "      <th>1</th>\n",
              "      <td>AK-500</td>\n",
              "      <td>Anchorage CoC</td>\n",
              "      <td>None</td>\n",
              "      <td>1122</td>\n",
              "      <td>676</td>\n",
              "      <td>394</td>\n",
              "      <td>0</td>\n",
              "      <td>1070</td>\n",
              "      <td>52</td>\n",
              "      <td>844</td>\n",
              "      <td>553</td>\n",
              "      <td>239</td>\n",
              "      <td>0</td>\n",
              "      <td>792</td>\n",
              "      <td>52</td>\n",
              "      <td>278</td>\n",
              "      <td>123</td>\n",
              "      <td>155</td>\n",
              "      <td>278</td>\n",
              "      <td>0</td>\n",
              "      <td>87</td>\n",
              "      <td>38</td>\n",
              "      <td>49</td>\n",
              "      <td>87</td>\n",
              "      <td>0</td>\n",
              "      <td>89</td>\n",
              "      <td>68</td>\n",
              "      <td>0</td>\n",
              "      <td>68</td>\n",
              "      <td>21</td>\n",
              "      <td>83</td>\n",
              "      <td>62</td>\n",
              "      <td>0</td>\n",
              "      <td>62</td>\n",
              "      <td>21</td>\n",
              "      <td>6</td>\n",
              "      <td>6</td>\n",
              "      <td>6</td>\n",
              "      <td>0</td>\n",
              "      <td>144</td>\n",
              "      <td>...</td>\n",
              "      <td>6</td>\n",
              "      <td>None</td>\n",
              "      <td>None</td>\n",
              "      <td>None</td>\n",
              "      <td>None</td>\n",
              "      <td>None</td>\n",
              "      <td>None</td>\n",
              "      <td>None</td>\n",
              "      <td>None</td>\n",
              "      <td>None</td>\n",
              "      <td>None</td>\n",
              "      <td>None</td>\n",
              "      <td>None</td>\n",
              "      <td>None</td>\n",
              "      <td>None</td>\n",
              "      <td>None</td>\n",
              "      <td>None</td>\n",
              "      <td>None</td>\n",
              "      <td>None</td>\n",
              "      <td>None</td>\n",
              "      <td>None</td>\n",
              "      <td>None</td>\n",
              "      <td>None</td>\n",
              "      <td>None</td>\n",
              "      <td>None</td>\n",
              "      <td>None</td>\n",
              "      <td>None</td>\n",
              "      <td>None</td>\n",
              "      <td>None</td>\n",
              "      <td>None</td>\n",
              "      <td>None</td>\n",
              "      <td>None</td>\n",
              "      <td>None</td>\n",
              "      <td>None</td>\n",
              "      <td>None</td>\n",
              "      <td>None</td>\n",
              "      <td>None</td>\n",
              "      <td>None</td>\n",
              "      <td>None</td>\n",
              "      <td>2013</td>\n",
              "    </tr>\n",
              "    <tr>\n",
              "      <th>2</th>\n",
              "      <td>AK-500</td>\n",
              "      <td>Anchorage CoC</td>\n",
              "      <td>None</td>\n",
              "      <td>1147</td>\n",
              "      <td>704</td>\n",
              "      <td>393</td>\n",
              "      <td>0</td>\n",
              "      <td>1097</td>\n",
              "      <td>50</td>\n",
              "      <td>791</td>\n",
              "      <td>561</td>\n",
              "      <td>195</td>\n",
              "      <td>0</td>\n",
              "      <td>756</td>\n",
              "      <td>35</td>\n",
              "      <td>356</td>\n",
              "      <td>143</td>\n",
              "      <td>198</td>\n",
              "      <td>341</td>\n",
              "      <td>15</td>\n",
              "      <td>126</td>\n",
              "      <td>41</td>\n",
              "      <td>81</td>\n",
              "      <td>122</td>\n",
              "      <td>4</td>\n",
              "      <td>114</td>\n",
              "      <td>109</td>\n",
              "      <td>0</td>\n",
              "      <td>109</td>\n",
              "      <td>5</td>\n",
              "      <td>113</td>\n",
              "      <td>108</td>\n",
              "      <td>0</td>\n",
              "      <td>108</td>\n",
              "      <td>5</td>\n",
              "      <td>1</td>\n",
              "      <td>1</td>\n",
              "      <td>1</td>\n",
              "      <td>0</td>\n",
              "      <td>174</td>\n",
              "      <td>...</td>\n",
              "      <td>7</td>\n",
              "      <td>None</td>\n",
              "      <td>None</td>\n",
              "      <td>None</td>\n",
              "      <td>None</td>\n",
              "      <td>None</td>\n",
              "      <td>None</td>\n",
              "      <td>None</td>\n",
              "      <td>None</td>\n",
              "      <td>None</td>\n",
              "      <td>None</td>\n",
              "      <td>None</td>\n",
              "      <td>None</td>\n",
              "      <td>None</td>\n",
              "      <td>None</td>\n",
              "      <td>None</td>\n",
              "      <td>None</td>\n",
              "      <td>None</td>\n",
              "      <td>None</td>\n",
              "      <td>None</td>\n",
              "      <td>None</td>\n",
              "      <td>None</td>\n",
              "      <td>None</td>\n",
              "      <td>None</td>\n",
              "      <td>None</td>\n",
              "      <td>None</td>\n",
              "      <td>None</td>\n",
              "      <td>None</td>\n",
              "      <td>None</td>\n",
              "      <td>None</td>\n",
              "      <td>None</td>\n",
              "      <td>None</td>\n",
              "      <td>None</td>\n",
              "      <td>None</td>\n",
              "      <td>None</td>\n",
              "      <td>None</td>\n",
              "      <td>None</td>\n",
              "      <td>None</td>\n",
              "      <td>None</td>\n",
              "      <td>2012</td>\n",
              "    </tr>\n",
              "    <tr>\n",
              "      <th>3</th>\n",
              "      <td>AK-501</td>\n",
              "      <td>Alaska Balance of State CoC</td>\n",
              "      <td>None</td>\n",
              "      <td>761</td>\n",
              "      <td>474</td>\n",
              "      <td>195</td>\n",
              "      <td>0</td>\n",
              "      <td>669</td>\n",
              "      <td>92</td>\n",
              "      <td>473</td>\n",
              "      <td>318</td>\n",
              "      <td>103</td>\n",
              "      <td>0</td>\n",
              "      <td>421</td>\n",
              "      <td>52</td>\n",
              "      <td>288</td>\n",
              "      <td>156</td>\n",
              "      <td>92</td>\n",
              "      <td>248</td>\n",
              "      <td>40</td>\n",
              "      <td>91</td>\n",
              "      <td>56</td>\n",
              "      <td>23</td>\n",
              "      <td>79</td>\n",
              "      <td>12</td>\n",
              "      <td>105</td>\n",
              "      <td>78</td>\n",
              "      <td>0</td>\n",
              "      <td>78</td>\n",
              "      <td>27</td>\n",
              "      <td>88</td>\n",
              "      <td>63</td>\n",
              "      <td>0</td>\n",
              "      <td>63</td>\n",
              "      <td>25</td>\n",
              "      <td>17</td>\n",
              "      <td>15</td>\n",
              "      <td>15</td>\n",
              "      <td>2</td>\n",
              "      <td>40</td>\n",
              "      <td>...</td>\n",
              "      <td>0</td>\n",
              "      <td>None</td>\n",
              "      <td>None</td>\n",
              "      <td>None</td>\n",
              "      <td>None</td>\n",
              "      <td>None</td>\n",
              "      <td>None</td>\n",
              "      <td>None</td>\n",
              "      <td>None</td>\n",
              "      <td>None</td>\n",
              "      <td>None</td>\n",
              "      <td>None</td>\n",
              "      <td>None</td>\n",
              "      <td>None</td>\n",
              "      <td>None</td>\n",
              "      <td>None</td>\n",
              "      <td>None</td>\n",
              "      <td>None</td>\n",
              "      <td>None</td>\n",
              "      <td>None</td>\n",
              "      <td>None</td>\n",
              "      <td>None</td>\n",
              "      <td>None</td>\n",
              "      <td>None</td>\n",
              "      <td>None</td>\n",
              "      <td>None</td>\n",
              "      <td>None</td>\n",
              "      <td>None</td>\n",
              "      <td>None</td>\n",
              "      <td>None</td>\n",
              "      <td>None</td>\n",
              "      <td>None</td>\n",
              "      <td>None</td>\n",
              "      <td>None</td>\n",
              "      <td>None</td>\n",
              "      <td>None</td>\n",
              "      <td>None</td>\n",
              "      <td>None</td>\n",
              "      <td>None</td>\n",
              "      <td>2014</td>\n",
              "    </tr>\n",
              "    <tr>\n",
              "      <th>4</th>\n",
              "      <td>AK-501</td>\n",
              "      <td>Alaska Balance of State CoC</td>\n",
              "      <td>None</td>\n",
              "      <td>824</td>\n",
              "      <td>461</td>\n",
              "      <td>210</td>\n",
              "      <td>0</td>\n",
              "      <td>671</td>\n",
              "      <td>153</td>\n",
              "      <td>518</td>\n",
              "      <td>282</td>\n",
              "      <td>134</td>\n",
              "      <td>0</td>\n",
              "      <td>416</td>\n",
              "      <td>102</td>\n",
              "      <td>306</td>\n",
              "      <td>179</td>\n",
              "      <td>76</td>\n",
              "      <td>255</td>\n",
              "      <td>51</td>\n",
              "      <td>109</td>\n",
              "      <td>67</td>\n",
              "      <td>28</td>\n",
              "      <td>95</td>\n",
              "      <td>14</td>\n",
              "      <td>95</td>\n",
              "      <td>70</td>\n",
              "      <td>0</td>\n",
              "      <td>70</td>\n",
              "      <td>25</td>\n",
              "      <td>83</td>\n",
              "      <td>62</td>\n",
              "      <td>0</td>\n",
              "      <td>62</td>\n",
              "      <td>21</td>\n",
              "      <td>12</td>\n",
              "      <td>8</td>\n",
              "      <td>8</td>\n",
              "      <td>4</td>\n",
              "      <td>66</td>\n",
              "      <td>...</td>\n",
              "      <td>16</td>\n",
              "      <td>None</td>\n",
              "      <td>None</td>\n",
              "      <td>None</td>\n",
              "      <td>None</td>\n",
              "      <td>None</td>\n",
              "      <td>None</td>\n",
              "      <td>None</td>\n",
              "      <td>None</td>\n",
              "      <td>None</td>\n",
              "      <td>None</td>\n",
              "      <td>None</td>\n",
              "      <td>None</td>\n",
              "      <td>None</td>\n",
              "      <td>None</td>\n",
              "      <td>None</td>\n",
              "      <td>None</td>\n",
              "      <td>None</td>\n",
              "      <td>None</td>\n",
              "      <td>None</td>\n",
              "      <td>None</td>\n",
              "      <td>None</td>\n",
              "      <td>None</td>\n",
              "      <td>None</td>\n",
              "      <td>None</td>\n",
              "      <td>None</td>\n",
              "      <td>None</td>\n",
              "      <td>None</td>\n",
              "      <td>None</td>\n",
              "      <td>None</td>\n",
              "      <td>None</td>\n",
              "      <td>None</td>\n",
              "      <td>None</td>\n",
              "      <td>None</td>\n",
              "      <td>None</td>\n",
              "      <td>None</td>\n",
              "      <td>None</td>\n",
              "      <td>None</td>\n",
              "      <td>None</td>\n",
              "      <td>2013</td>\n",
              "    </tr>\n",
              "  </tbody>\n",
              "</table>\n",
              "<p>5 rows × 84 columns</p>\n",
              "</div>"
            ],
            "text/plain": [
              "  CoC_Number  ... Count_Year\n",
              "0     AK-500  ...       2014\n",
              "1     AK-500  ...       2013\n",
              "2     AK-500  ...       2012\n",
              "3     AK-501  ...       2014\n",
              "4     AK-501  ...       2013\n",
              "\n",
              "[5 rows x 84 columns]"
            ]
          },
          "metadata": {},
          "execution_count": 28
        }
      ]
    },
    {
      "cell_type": "code",
      "metadata": {
        "id": "qSVYSUKddlOd"
      },
      "source": [
        "# Here is an example of how to transform the data from columns into rows for easier plotting and querying.\n",
        "# The table had the data pivoted into columns for each category which is good for performing arithmetic\n",
        "#   on the data, but is not so good for plotting.\n",
        "# Note: I only took a sample of the columns available.\n",
        "# Use WITH to create a reusable subquery. Realistically, I would pull this into a dataframe and then \n",
        "# continue querying from there to avoid BigData charges.\n",
        "subquery = f'''\n",
        "WITH tdata AS (\n",
        "--Individuals\n",
        "SELECT LEFT(CoC_Number,2) AS State, Count_Year, '1' as Sheltered, \n",
        "    'ES' as Shelter_Type, 'individual' as Category, SUM(Sheltered_ES_Homeless_Individuals) as How_Many \n",
        "FROM {project_name}.{hud_instance}.{hud_table}\n",
        "WHERE (Sheltered_ES_Homeless_Individuals IS NOT NULL AND Sheltered_ES_Homeless_Individuals <> 0) \n",
        "GROUP BY State, Count_Year\n",
        "UNION ALL \n",
        "SELECT LEFT(CoC_Number,2) AS State, Count_Year, '1' as Sheltered,\n",
        "    'TH' as Shelter_Type, 'individual' as Category, SUM(Sheltered_TH_Homeless_Individuals) as How_Many \n",
        "FROM {project_name}.{hud_instance}.{hud_table}\n",
        "WHERE (Sheltered_TH_Homeless_Individuals IS NOT NULL AND Sheltered_TH_Homeless_Individuals <> 0) \n",
        "GROUP BY State, Count_Year\n",
        "UNION ALL \n",
        "SELECT LEFT(CoC_Number,2) AS State, Count_Year, '1' as Sheltered,\n",
        "    'SH' as Shelter_Type, 'individual' as Category, SUM(Sheltered_SH_Homeless_Individuals) as How_Many \n",
        "FROM {project_name}.{hud_instance}.{hud_table}\n",
        "WHERE (Sheltered_SH_Homeless_Individuals IS NOT NULL AND Sheltered_SH_Homeless_Individuals <> 0) \n",
        "GROUP BY State, Count_Year\n",
        "UNION ALL \n",
        "SELECT LEFT(CoC_Number,2) AS State, Count_Year, '0' as Sheltered,\n",
        "    'NA' as Shelter_Type, 'individual' as Category, SUM(Unsheltered_Homeless_Individuals) as How_Many \n",
        "FROM {project_name}.{hud_instance}.{hud_table}\n",
        "WHERE (Unsheltered_Homeless_Individuals IS NOT NULL AND Unsheltered_Homeless_Individuals <> 0) \n",
        "GROUP BY State, Count_Year\n",
        "UNION ALL\n",
        "--Families\n",
        "SELECT LEFT(CoC_Number,2) AS State, Count_Year, '1' as Sheltered,\n",
        "    'ES' as Shelter_Type, 'family' as Category, SUM(Sheltered_ES_Homeless_People_in_Families) as How_Many \n",
        "FROM {project_name}.{hud_instance}.{hud_table}\n",
        "WHERE (Sheltered_ES_Homeless_People_in_Families IS NOT NULL AND Sheltered_ES_Homeless_People_in_Families <> 0) \n",
        "GROUP BY State, Count_Year\n",
        "UNION ALL \n",
        "SELECT LEFT(CoC_Number,2) AS State, Count_Year, '1' as Sheltered,\n",
        "    'TH' as Shelter_Type, 'family' as Category, SUM(Sheltered_TH_Homeless_People_in_Families) as How_Many \n",
        "FROM {project_name}.{hud_instance}.{hud_table}\n",
        "WHERE (Sheltered_TH_Homeless_People_in_Families IS NOT NULL AND Sheltered_TH_Homeless_People_in_Families <> 0) \n",
        "GROUP BY State, Count_Year\n",
        "UNION ALL \n",
        "SELECT LEFT(CoC_Number,2) AS State, Count_Year, '0' as Sheltered, \n",
        "    'NA' as Shelter_Type, 'family' as Category, SUM(Unsheltered_Homeless_People_in_Families) as How_Many \n",
        "FROM {project_name}.{hud_instance}.{hud_table}\n",
        "WHERE (Unsheltered_Homeless_People_in_Families IS NOT NULL AND Unsheltered_Homeless_People_in_Families <> 0) \n",
        "GROUP BY State, Count_Year\n",
        "UNION ALL \n",
        "--Veterans\n",
        "SELECT LEFT(CoC_Number,2) AS State, Count_Year, '1' as Sheltered,\n",
        "    'ES' as Shelter_Type, 'veteran' as Category, SUM(Sheltered_ES_Homeless_Veterans) as How_Many \n",
        "FROM {project_name}.{hud_instance}.{hud_table}\n",
        "WHERE (Sheltered_ES_Homeless_Veterans IS NOT NULL AND Sheltered_ES_Homeless_Veterans <> 0) \n",
        "GROUP BY State, Count_Year\n",
        "UNION ALL \n",
        "SELECT LEFT(CoC_Number,2) AS State, Count_Year, '1' as Sheltered, \n",
        "    'TH' as Shelter_Type, 'veteran' as Category, SUM(Sheltered_TH_Homeless_Veterans) as How_Many \n",
        "FROM {project_name}.{hud_instance}.{hud_table}\n",
        "WHERE (Sheltered_TH_Homeless_Veterans IS NOT NULL AND Sheltered_TH_Homeless_Veterans <> 0) \n",
        "GROUP BY State, Count_Year\n",
        "UNION ALL \n",
        "SELECT LEFT(CoC_Number,2) AS State, Count_Year, '1' as Sheltered,\n",
        "    'SH' as Shelter_Type, 'veteran' as Category, SUM(Sheltered_SH_Homeless_Veterans) as How_Many \n",
        "FROM {project_name}.{hud_instance}.{hud_table}\n",
        "WHERE (Sheltered_SH_Homeless_Veterans IS NOT NULL AND Sheltered_SH_Homeless_Veterans <> 0) \n",
        "GROUP BY State, Count_Year\n",
        "UNION ALL \n",
        "SELECT LEFT(CoC_Number,2) AS State, Count_Year, '0' as Sheltered, \n",
        "    'NA' as Shelter_Type, 'veteran' as Category, SUM(Unsheltered_Homeless_Veterans) as How_Many \n",
        "FROM {project_name}.{hud_instance}.{hud_table}\n",
        "WHERE (Unsheltered_Homeless_Veterans IS NOT NULL AND Unsheltered_Homeless_Veterans <> 0) \n",
        "GROUP BY State, Count_Year\n",
        ")\n",
        "'''"
      ],
      "execution_count": 28,
      "outputs": []
    },
    {
      "cell_type": "markdown",
      "metadata": {
        "id": "p29XbxSwtiv5"
      },
      "source": [
        "## Query Data"
      ]
    },
    {
      "cell_type": "markdown",
      "metadata": {
        "id": "RgAO3YXTuCmU"
      },
      "source": [
        "### Question 1: What is the category breakdown by year for homelessness?"
      ]
    },
    {
      "cell_type": "code",
      "metadata": {
        "colab": {
          "base_uri": "https://localhost:8080/",
          "height": 700
        },
        "id": "9r15Pegif2am",
        "outputId": "aadd1dc4-f687-4353-e7cc-31cdbc3035c2"
      },
      "source": [
        "# Now use sub query to query the data\n",
        "query = subquery + f'''\n",
        "SELECT SUM(How_Many) as how_many, Category, Count_Year as year\n",
        "FROM tdata\n",
        "GROUP BY Category, Count_Year\n",
        "'''\n",
        "df = client.query(query).to_dataframe()\n",
        "df.head(50)"
      ],
      "execution_count": 29,
      "outputs": [
        {
          "output_type": "execute_result",
          "data": {
            "text/html": [
              "<div>\n",
              "<style scoped>\n",
              "    .dataframe tbody tr th:only-of-type {\n",
              "        vertical-align: middle;\n",
              "    }\n",
              "\n",
              "    .dataframe tbody tr th {\n",
              "        vertical-align: top;\n",
              "    }\n",
              "\n",
              "    .dataframe thead th {\n",
              "        text-align: right;\n",
              "    }\n",
              "</style>\n",
              "<table border=\"1\" class=\"dataframe\">\n",
              "  <thead>\n",
              "    <tr style=\"text-align: right;\">\n",
              "      <th></th>\n",
              "      <th>how_many</th>\n",
              "      <th>Category</th>\n",
              "      <th>Count_Year</th>\n",
              "    </tr>\n",
              "  </thead>\n",
              "  <tbody>\n",
              "    <tr>\n",
              "      <th>0</th>\n",
              "      <td>360189</td>\n",
              "      <td>individual</td>\n",
              "      <td>2014</td>\n",
              "    </tr>\n",
              "    <tr>\n",
              "      <th>1</th>\n",
              "      <td>368174</td>\n",
              "      <td>individual</td>\n",
              "      <td>2013</td>\n",
              "    </tr>\n",
              "    <tr>\n",
              "      <th>2</th>\n",
              "      <td>382156</td>\n",
              "      <td>individual</td>\n",
              "      <td>2012</td>\n",
              "    </tr>\n",
              "    <tr>\n",
              "      <th>3</th>\n",
              "      <td>372417</td>\n",
              "      <td>individual</td>\n",
              "      <td>2018</td>\n",
              "    </tr>\n",
              "    <tr>\n",
              "      <th>4</th>\n",
              "      <td>366585</td>\n",
              "      <td>individual</td>\n",
              "      <td>2017</td>\n",
              "    </tr>\n",
              "    <tr>\n",
              "      <th>5</th>\n",
              "      <td>355212</td>\n",
              "      <td>individual</td>\n",
              "      <td>2016</td>\n",
              "    </tr>\n",
              "    <tr>\n",
              "      <th>6</th>\n",
              "      <td>358422</td>\n",
              "      <td>individual</td>\n",
              "      <td>2015</td>\n",
              "    </tr>\n",
              "    <tr>\n",
              "      <th>7</th>\n",
              "      <td>49689</td>\n",
              "      <td>veteran</td>\n",
              "      <td>2014</td>\n",
              "    </tr>\n",
              "    <tr>\n",
              "      <th>8</th>\n",
              "      <td>40020</td>\n",
              "      <td>veteran</td>\n",
              "      <td>2017</td>\n",
              "    </tr>\n",
              "    <tr>\n",
              "      <th>9</th>\n",
              "      <td>39471</td>\n",
              "      <td>veteran</td>\n",
              "      <td>2016</td>\n",
              "    </tr>\n",
              "    <tr>\n",
              "      <th>10</th>\n",
              "      <td>47725</td>\n",
              "      <td>veteran</td>\n",
              "      <td>2015</td>\n",
              "    </tr>\n",
              "    <tr>\n",
              "      <th>11</th>\n",
              "      <td>37878</td>\n",
              "      <td>veteran</td>\n",
              "      <td>2018</td>\n",
              "    </tr>\n",
              "    <tr>\n",
              "      <th>12</th>\n",
              "      <td>20710</td>\n",
              "      <td>veteran</td>\n",
              "      <td>2013</td>\n",
              "    </tr>\n",
              "    <tr>\n",
              "      <th>13</th>\n",
              "      <td>25436</td>\n",
              "      <td>veteran</td>\n",
              "      <td>2012</td>\n",
              "    </tr>\n",
              "    <tr>\n",
              "      <th>14</th>\n",
              "      <td>216261</td>\n",
              "      <td>family</td>\n",
              "      <td>2014</td>\n",
              "    </tr>\n",
              "    <tr>\n",
              "      <th>15</th>\n",
              "      <td>222190</td>\n",
              "      <td>family</td>\n",
              "      <td>2013</td>\n",
              "    </tr>\n",
              "    <tr>\n",
              "      <th>16</th>\n",
              "      <td>239397</td>\n",
              "      <td>family</td>\n",
              "      <td>2012</td>\n",
              "    </tr>\n",
              "    <tr>\n",
              "      <th>17</th>\n",
              "      <td>180413</td>\n",
              "      <td>family</td>\n",
              "      <td>2018</td>\n",
              "    </tr>\n",
              "    <tr>\n",
              "      <th>18</th>\n",
              "      <td>184411</td>\n",
              "      <td>family</td>\n",
              "      <td>2017</td>\n",
              "    </tr>\n",
              "    <tr>\n",
              "      <th>19</th>\n",
              "      <td>194716</td>\n",
              "      <td>family</td>\n",
              "      <td>2016</td>\n",
              "    </tr>\n",
              "    <tr>\n",
              "      <th>20</th>\n",
              "      <td>206286</td>\n",
              "      <td>family</td>\n",
              "      <td>2015</td>\n",
              "    </tr>\n",
              "  </tbody>\n",
              "</table>\n",
              "</div>"
            ],
            "text/plain": [
              "    how_many    Category  Count_Year\n",
              "0     360189  individual        2014\n",
              "1     368174  individual        2013\n",
              "2     382156  individual        2012\n",
              "3     372417  individual        2018\n",
              "4     366585  individual        2017\n",
              "5     355212  individual        2016\n",
              "6     358422  individual        2015\n",
              "7      49689     veteran        2014\n",
              "8      40020     veteran        2017\n",
              "9      39471     veteran        2016\n",
              "10     47725     veteran        2015\n",
              "11     37878     veteran        2018\n",
              "12     20710     veteran        2013\n",
              "13     25436     veteran        2012\n",
              "14    216261      family        2014\n",
              "15    222190      family        2013\n",
              "16    239397      family        2012\n",
              "17    180413      family        2018\n",
              "18    184411      family        2017\n",
              "19    194716      family        2016\n",
              "20    206286      family        2015"
            ]
          },
          "metadata": {},
          "execution_count": 29
        }
      ]
    },
    {
      "cell_type": "markdown",
      "metadata": {
        "id": "ZjvTt_4jtlkn"
      },
      "source": [
        "#### Question 1: Plot Data"
      ]
    },
    {
      "cell_type": "code",
      "metadata": {
        "colab": {
          "base_uri": "https://localhost:8080/",
          "height": 297
        },
        "id": "vB1CPaHwhp2K",
        "outputId": "9ab4069b-f428-4165-da16-5aea44d47ac8"
      },
      "source": [
        "# Prepare data for plotting\n",
        "df_to_plot = df.groupby(['Count_Year','Category'])['how_many'].sum().unstack()\n",
        "df_to_plot"
      ],
      "execution_count": 63,
      "outputs": [
        {
          "output_type": "execute_result",
          "data": {
            "text/html": [
              "<div>\n",
              "<style scoped>\n",
              "    .dataframe tbody tr th:only-of-type {\n",
              "        vertical-align: middle;\n",
              "    }\n",
              "\n",
              "    .dataframe tbody tr th {\n",
              "        vertical-align: top;\n",
              "    }\n",
              "\n",
              "    .dataframe thead th {\n",
              "        text-align: right;\n",
              "    }\n",
              "</style>\n",
              "<table border=\"1\" class=\"dataframe\">\n",
              "  <thead>\n",
              "    <tr style=\"text-align: right;\">\n",
              "      <th>Category</th>\n",
              "      <th>family</th>\n",
              "      <th>individual</th>\n",
              "      <th>veteran</th>\n",
              "    </tr>\n",
              "    <tr>\n",
              "      <th>Count_Year</th>\n",
              "      <th></th>\n",
              "      <th></th>\n",
              "      <th></th>\n",
              "    </tr>\n",
              "  </thead>\n",
              "  <tbody>\n",
              "    <tr>\n",
              "      <th>2012</th>\n",
              "      <td>239397</td>\n",
              "      <td>382156</td>\n",
              "      <td>25436</td>\n",
              "    </tr>\n",
              "    <tr>\n",
              "      <th>2013</th>\n",
              "      <td>222190</td>\n",
              "      <td>368174</td>\n",
              "      <td>20710</td>\n",
              "    </tr>\n",
              "    <tr>\n",
              "      <th>2014</th>\n",
              "      <td>216261</td>\n",
              "      <td>360189</td>\n",
              "      <td>49689</td>\n",
              "    </tr>\n",
              "    <tr>\n",
              "      <th>2015</th>\n",
              "      <td>206286</td>\n",
              "      <td>358422</td>\n",
              "      <td>47725</td>\n",
              "    </tr>\n",
              "    <tr>\n",
              "      <th>2016</th>\n",
              "      <td>194716</td>\n",
              "      <td>355212</td>\n",
              "      <td>39471</td>\n",
              "    </tr>\n",
              "    <tr>\n",
              "      <th>2017</th>\n",
              "      <td>184411</td>\n",
              "      <td>366585</td>\n",
              "      <td>40020</td>\n",
              "    </tr>\n",
              "    <tr>\n",
              "      <th>2018</th>\n",
              "      <td>180413</td>\n",
              "      <td>372417</td>\n",
              "      <td>37878</td>\n",
              "    </tr>\n",
              "  </tbody>\n",
              "</table>\n",
              "</div>"
            ],
            "text/plain": [
              "Category    family  individual  veteran\n",
              "Count_Year                             \n",
              "2012        239397      382156    25436\n",
              "2013        222190      368174    20710\n",
              "2014        216261      360189    49689\n",
              "2015        206286      358422    47725\n",
              "2016        194716      355212    39471\n",
              "2017        184411      366585    40020\n",
              "2018        180413      372417    37878"
            ]
          },
          "metadata": {},
          "execution_count": 63
        }
      ]
    },
    {
      "cell_type": "code",
      "metadata": {
        "id": "F1jYLqBasqhl"
      },
      "source": [
        "# Plot data using stacked barchart.\n",
        "df_to_plot.plot.bar(stacked=True)\n",
        "plt.legend(ncol=3, bbox_to_anchor=(.9,-.25))\n",
        "plt.plot()"
      ],
      "execution_count": null,
      "outputs": []
    },
    {
      "cell_type": "markdown",
      "metadata": {
        "id": "kMUWGghvuStn"
      },
      "source": [
        "### Question 2: What are homelessness trends by State?\n",
        "\n",
        "To make the plots more meaningful, take the top 10 states with the highest homelessness rates."
      ]
    },
    {
      "cell_type": "code",
      "metadata": {
        "colab": {
          "base_uri": "https://localhost:8080/"
        },
        "id": "bX8IfA0lueAf",
        "outputId": "46845421-76b3-4bc8-e448-60768f2327aa"
      },
      "source": [
        "# Get base data\n",
        "query = subquery + f'''\n",
        "SELECT SUM(How_Many) as how_many, State, Count_Year as year\n",
        "FROM tdata\n",
        "WHERE State IN (SELECT State\n",
        "                FROM tdata\n",
        "                GROUP BY State\n",
        "                ORDER BY SUM(How_Many) DESC\n",
        "                LIMIT 10)\n",
        "GROUP BY State, Count_Year\n",
        "'''\n",
        "df = client.query(query).to_dataframe()\n",
        "# df.head(50)\n",
        "\n",
        "df['State'].value_counts()"
      ],
      "execution_count": 81,
      "outputs": [
        {
          "output_type": "execute_result",
          "data": {
            "text/plain": [
              "MA    7\n",
              "PA    7\n",
              "OR    7\n",
              "WA    7\n",
              "GA    7\n",
              "TX    7\n",
              "CA    7\n",
              "NY    7\n",
              "IL    7\n",
              "FL    7\n",
              "Name: State, dtype: int64"
            ]
          },
          "metadata": {},
          "execution_count": 81
        }
      ]
    },
    {
      "cell_type": "markdown",
      "metadata": {
        "id": "4llg6pFeAbS-"
      },
      "source": [
        "#### Question 2: Plot Data"
      ]
    },
    {
      "cell_type": "code",
      "metadata": {
        "colab": {
          "base_uri": "https://localhost:8080/",
          "height": 297
        },
        "id": "XvCYpKpe7qdA",
        "outputId": "127f9c8a-515e-4973-e685-fe3910788e02"
      },
      "source": [
        "# Prepare data for plotting\n",
        "df_to_plot = df.groupby(['year','State'])['how_many'].sum().unstack()\n",
        "df_to_plot"
      ],
      "execution_count": 68,
      "outputs": [
        {
          "output_type": "execute_result",
          "data": {
            "text/html": [
              "<div>\n",
              "<style scoped>\n",
              "    .dataframe tbody tr th:only-of-type {\n",
              "        vertical-align: middle;\n",
              "    }\n",
              "\n",
              "    .dataframe tbody tr th {\n",
              "        vertical-align: top;\n",
              "    }\n",
              "\n",
              "    .dataframe thead th {\n",
              "        text-align: right;\n",
              "    }\n",
              "</style>\n",
              "<table border=\"1\" class=\"dataframe\">\n",
              "  <thead>\n",
              "    <tr style=\"text-align: right;\">\n",
              "      <th>State</th>\n",
              "      <th>CA</th>\n",
              "      <th>FL</th>\n",
              "      <th>GA</th>\n",
              "      <th>IL</th>\n",
              "      <th>MA</th>\n",
              "      <th>NY</th>\n",
              "      <th>OR</th>\n",
              "      <th>PA</th>\n",
              "      <th>TX</th>\n",
              "      <th>WA</th>\n",
              "    </tr>\n",
              "    <tr>\n",
              "      <th>Count_Year</th>\n",
              "      <th></th>\n",
              "      <th></th>\n",
              "      <th></th>\n",
              "      <th></th>\n",
              "      <th></th>\n",
              "      <th></th>\n",
              "      <th></th>\n",
              "      <th></th>\n",
              "      <th></th>\n",
              "      <th></th>\n",
              "    </tr>\n",
              "  </thead>\n",
              "  <tbody>\n",
              "    <tr>\n",
              "      <th>2012</th>\n",
              "      <td>130197</td>\n",
              "      <td>58300</td>\n",
              "      <td>21719</td>\n",
              "      <td>14478</td>\n",
              "      <td>17556</td>\n",
              "      <td>70157</td>\n",
              "      <td>16626</td>\n",
              "      <td>14871</td>\n",
              "      <td>36532</td>\n",
              "      <td>20882</td>\n",
              "    </tr>\n",
              "    <tr>\n",
              "      <th>2013</th>\n",
              "      <td>126561</td>\n",
              "      <td>51039</td>\n",
              "      <td>17876</td>\n",
              "      <td>13810</td>\n",
              "      <td>19078</td>\n",
              "      <td>77888</td>\n",
              "      <td>14607</td>\n",
              "      <td>15258</td>\n",
              "      <td>31486</td>\n",
              "      <td>18020</td>\n",
              "    </tr>\n",
              "    <tr>\n",
              "      <th>2014</th>\n",
              "      <td>126048</td>\n",
              "      <td>46094</td>\n",
              "      <td>17964</td>\n",
              "      <td>14341</td>\n",
              "      <td>22501</td>\n",
              "      <td>83132</td>\n",
              "      <td>13456</td>\n",
              "      <td>16744</td>\n",
              "      <td>31213</td>\n",
              "      <td>19875</td>\n",
              "    </tr>\n",
              "    <tr>\n",
              "      <th>2015</th>\n",
              "      <td>127049</td>\n",
              "      <td>39826</td>\n",
              "      <td>15338</td>\n",
              "      <td>14403</td>\n",
              "      <td>22268</td>\n",
              "      <td>90649</td>\n",
              "      <td>14690</td>\n",
              "      <td>16796</td>\n",
              "      <td>26071</td>\n",
              "      <td>20712</td>\n",
              "    </tr>\n",
              "    <tr>\n",
              "      <th>2016</th>\n",
              "      <td>127754</td>\n",
              "      <td>36461</td>\n",
              "      <td>13964</td>\n",
              "      <td>12539</td>\n",
              "      <td>20557</td>\n",
              "      <td>87600</td>\n",
              "      <td>14579</td>\n",
              "      <td>16475</td>\n",
              "      <td>24890</td>\n",
              "      <td>22311</td>\n",
              "    </tr>\n",
              "    <tr>\n",
              "      <th>2017</th>\n",
              "      <td>142968</td>\n",
              "      <td>35007</td>\n",
              "      <td>10886</td>\n",
              "      <td>11662</td>\n",
              "      <td>18418</td>\n",
              "      <td>90747</td>\n",
              "      <td>15204</td>\n",
              "      <td>15101</td>\n",
              "      <td>25748</td>\n",
              "      <td>23205</td>\n",
              "    </tr>\n",
              "    <tr>\n",
              "      <th>2018</th>\n",
              "      <td>140808</td>\n",
              "      <td>33573</td>\n",
              "      <td>10204</td>\n",
              "      <td>11447</td>\n",
              "      <td>21053</td>\n",
              "      <td>93121</td>\n",
              "      <td>15839</td>\n",
              "      <td>14494</td>\n",
              "      <td>27245</td>\n",
              "      <td>23940</td>\n",
              "    </tr>\n",
              "  </tbody>\n",
              "</table>\n",
              "</div>"
            ],
            "text/plain": [
              "State           CA     FL     GA     IL  ...     OR     PA     TX     WA\n",
              "Count_Year                               ...                            \n",
              "2012        130197  58300  21719  14478  ...  16626  14871  36532  20882\n",
              "2013        126561  51039  17876  13810  ...  14607  15258  31486  18020\n",
              "2014        126048  46094  17964  14341  ...  13456  16744  31213  19875\n",
              "2015        127049  39826  15338  14403  ...  14690  16796  26071  20712\n",
              "2016        127754  36461  13964  12539  ...  14579  16475  24890  22311\n",
              "2017        142968  35007  10886  11662  ...  15204  15101  25748  23205\n",
              "2018        140808  33573  10204  11447  ...  15839  14494  27245  23940\n",
              "\n",
              "[7 rows x 10 columns]"
            ]
          },
          "metadata": {},
          "execution_count": 68
        }
      ]
    },
    {
      "cell_type": "code",
      "metadata": {
        "colab": {
          "base_uri": "https://localhost:8080/",
          "height": 564
        },
        "id": "T6M0CZOG8iFl",
        "outputId": "b41fba05-fef2-4362-89e1-500e6805fdb7"
      },
      "source": [
        "# TODO: Use interactive plot\n",
        "# Plot data using stacked barchart.\n",
        "df_to_plot.plot.line(figsize=(12,8))\n",
        "plt.legend(ncol=5, bbox_to_anchor=(.6,-.1))\n",
        "plt.plot()"
      ],
      "execution_count": 79,
      "outputs": [
        {
          "output_type": "execute_result",
          "data": {
            "text/plain": [
              "[]"
            ]
          },
          "metadata": {},
          "execution_count": 79
        },
        {
          "output_type": "display_data",
          "data": {
            "image/png": "[encoded data removed]",
            "text/plain": [
              "<Figure size 864x576 with 1 Axes>"
            ]
          },
          "metadata": {
            "needs_background": "light"
          }
        }
      ]
    },
    {
      "cell_type": "markdown",
      "metadata": {
        "id": "2Rl7cDTysz3Q"
      },
      "source": [
        "# Historical Air Quality"
      ]
    },
    {
      "cell_type": "markdown",
      "metadata": {
        "id": "UpKET4F6CJX9"
      },
      "source": [
        "## Details\n",
        "[Historical Air Quality](https://console.cloud.google.com/marketplace/product/epa/historical-air-quality?project=ds-6-project-5)\n",
        "- Different datasets for each type of measure like wind, temperature, pressure, particulate, etc.\n",
        "- Data is summarized\n",
        "- Unique key\n",
        "  - state_code\n",
        "  - county_code\n",
        "  - site_num"
      ]
    },
    {
      "cell_type": "markdown",
      "metadata": {
        "id": "fg0vBiZnEwQ2"
      },
      "source": [
        "## Skills Used\n",
        "\n",
        "--TODO fill this out"
      ]
    },
    {
      "cell_type": "markdown",
      "metadata": {
        "id": "31g01oBwCoCT"
      },
      "source": [
        "## Extract Data"
      ]
    },
    {
      "cell_type": "code",
      "metadata": {
        "id": "gq4i2Hr5tDDJ"
      },
      "source": [
        "# Cache instance and table name(s) so can change in one place if needed and will propagate to queries.\n",
        "air_instance = 'epa_historical_air_quality'\n"
      ],
      "execution_count": 5,
      "outputs": []
    },
    {
      "cell_type": "code",
      "metadata": {
        "colab": {
          "base_uri": "https://localhost:8080/"
        },
        "id": "IL2MEOrbJdZp",
        "outputId": "d1c9854d-1bbc-4ae2-b5c0-a3508f9b2e05"
      },
      "source": [
        "# Construct a reference to the \"covid19_google_mobility\" dataset\n",
        "# dataset_ref = client.dataset(\"covid19_geotab_mobility_impact\", project=\"bigquery-public-data\")\n",
        "dataset_ref = client.dataset(air_instance, project=project_name)\n",
        "\n",
        "# API request - fetch the dataset\n",
        "dataset = client.get_dataset(dataset_ref)\n",
        "\n",
        "# Get all the tables in the dataset\n",
        "tables = list(client.list_tables(dataset))\n",
        "\n",
        "# Print names of all tables in the dataset \n",
        "# After viewing full table list, I chose to select only the daily summaries because the hourly summaries \n",
        "# were too detailed.\n",
        "for table in tables: \n",
        "  if re.search('.daily.', table.table_id):\n",
        "    print(table.table_id)"
      ],
      "execution_count": 6,
      "outputs": [
        {
          "output_type": "stream",
          "name": "stdout",
          "text": [
            "co_daily_summary\n",
            "hap_daily_summary\n",
            "lead_daily_summary\n",
            "no2_daily_summary\n",
            "nonoxnoy_daily_summary\n",
            "o3_daily_summary\n",
            "pm10_daily_summary\n",
            "pm25_frm_daily_summary\n",
            "pm25_nonfrm_daily_summary\n",
            "pm25_speciation_daily_summary\n",
            "pressure_daily_summary\n",
            "rh_and_dp_daily_summary\n",
            "so2_daily_summary\n",
            "temperature_daily_summary\n",
            "voc_daily_summary\n",
            "wind_daily_summary\n"
          ]
        }
      ]
    },
    {
      "cell_type": "code",
      "metadata": {
        "colab": {
          "base_uri": "https://localhost:8080/"
        },
        "id": "xCB2jcY5P6X3",
        "outputId": "f97f3a45-3f29-4b54-d24e-163ec0878311"
      },
      "source": [
        "# Look at schemas for the tables to confirm if they have the same columns.\n",
        "for table in tables:\n",
        "  if re.search('.daily.', table.table_id):\n",
        "    table_details = client.get_table(table)\n",
        "    print('-'*50)\n",
        "    print(table_details.table_id)\n",
        "    print('-'*50)\n",
        "    print(table_details.schema)"
      ],
      "execution_count": 16,
      "outputs": [
        {
          "output_type": "stream",
          "name": "stdout",
          "text": [
            "--------------------------------------------------\n",
            "co_daily_summary\n",
            "--------------------------------------------------\n",
            "[SchemaField('state_code', 'STRING', 'NULLABLE', 'The FIPS code of the state in which the monitor resides.', ()), SchemaField('county_code', 'STRING', 'NULLABLE', 'The FIPS code of the county in which the monitor resides.', ()), SchemaField('site_num', 'STRING', 'NULLABLE', 'A unique number within the county identifying the site.', ()), SchemaField('parameter_code', 'INTEGER', 'NULLABLE', 'The AQS code corresponding to the parameter measured by the monitor.', ()), SchemaField('poc', 'INTEGER', 'NULLABLE', 'This is the “Parameter Occurrence Code” used to distinguish different instruments that measure the same parameter at the same site.', ()), SchemaField('latitude', 'FLOAT', 'NULLABLE', 'The monitoring site’s angular distance north of the equator measured in decimal degrees.', ()), SchemaField('longitude', 'FLOAT', 'NULLABLE', 'The monitoring site’s angular distance east of the prime meridian measured in decimal degrees.', ()), SchemaField('datum', 'STRING', 'NULLABLE', 'The Datum associated with the Latitude and Longitude measures.', ()), SchemaField('parameter_name', 'STRING', 'NULLABLE', 'The name or description assigned in AQS to the parameter measured by the monitor. Parameters may be pollutants or non-pollutants.', ()), SchemaField('sample_duration', 'STRING', 'NULLABLE', 'The length of time that air passes through the monitoring device before it is analyzed (measured). So, it represents an averaging period in the atmosphere (for example, a 24-hour sample duration draws ambient air over a collection filter for 24 straight hours). For continuous monitors, it can represent an averaging time of many samples (for example, a 1-hour value may be the average of four one-minute samples collected during each quarter of the hour).', ()), SchemaField('pollutant_standard', 'STRING', 'NULLABLE', 'A description of the ambient air quality standard rules used to aggregate statistics. (See description at beginning of document.)', ()), SchemaField('date_local', 'DATE', 'NULLABLE', 'The calendar date for the summary. All daily summaries are for the local standard day (midnight to midnight) at the monitor.', ()), SchemaField('units_of_measure', 'STRING', 'NULLABLE', 'The unit of measure for the parameter. QAD always returns data in the standard units for the parameter. Submitters are allowed to report data in any unit and EPA converts to a standard unit so that we may use the data in calculations.', ()), SchemaField('event_type', 'STRING', 'NULLABLE', 'Indicates whether data measured during exceptional events are included in the summary. A wildfire is an example of an exceptional event; it is something that affects air quality, but the local agency has no control over. No Events means no events occurred. Events Included means events occurred and the data from them is included in the summary. Events Excluded means that events occurred but data form them is excluded from the summary. Concurred Events Excluded means that events occurred but only EPA concurred exclusions are removed from the summary. If an event occurred for the parameter in question, the data will have multiple records for each monitor.', ()), SchemaField('observation_count', 'INTEGER', 'NULLABLE', 'The number of observations (samples) taken during the day.', ()), SchemaField('observation_percent', 'FLOAT', 'NULLABLE', 'The percent representing the number of observations taken with respect to the number scheduled to be taken during the day. This is only calculated for monitors where measurements are required (e.g., only certain parameters).', ()), SchemaField('arithmetic_mean', 'FLOAT', 'NULLABLE', 'The average (arithmetic mean) value for the day.', ()), SchemaField('first_max_value', 'FLOAT', 'NULLABLE', 'The highest value for the day.', ()), SchemaField('first_max_hour', 'INTEGER', 'NULLABLE', 'The hour (on a 24-hour clock) when the highest value for the day (the previous field) was taken.', ()), SchemaField('aqi', 'INTEGER', 'NULLABLE', 'The Air Quality Index for the day for the pollutant, if applicable.', ()), SchemaField('method_code', 'INTEGER', 'NULLABLE', 'An internal system code indicating the method (processes, equipment, and protocols) used in gathering and measuring the sample. The method name is in the next column.', ()), SchemaField('method_name', 'STRING', 'NULLABLE', 'A short description of the processes, equipment, and protocols used in gathering and measuring the sample.', ()), SchemaField('local_site_name', 'STRING', 'NULLABLE', 'The name of the site (if any) given by the State, local, or tribal air pollution control agency that operates it.', ()), SchemaField('address', 'STRING', 'NULLABLE', 'The approximate street address of the monitoring site.', ()), SchemaField('state_name', 'STRING', 'NULLABLE', 'The name of the state where the monitoring site is located.', ()), SchemaField('county_name', 'STRING', 'NULLABLE', 'The name of the county where the monitoring site is located.', ()), SchemaField('city_name', 'STRING', 'NULLABLE', 'The name of the city where the monitoring site is located. This represents the legal incorporated boundaries of cities and not urban areas.', ()), SchemaField('cbsa_name', 'STRING', 'NULLABLE', 'The name of the core bases statistical area (metropolitan area) where the monitoring site is located.', ()), SchemaField('date_of_last_change', 'DATE', 'NULLABLE', 'The date the last time any numeric values in this record were updated in the AQS data system.', ())]\n",
            "--------------------------------------------------\n",
            "hap_daily_summary\n",
            "--------------------------------------------------\n",
            "[SchemaField('state_code', 'STRING', 'NULLABLE', 'The FIPS code of the state in which the monitor resides.', ()), SchemaField('county_code', 'STRING', 'NULLABLE', 'The FIPS code of the county in which the monitor resides.', ()), SchemaField('site_num', 'STRING', 'NULLABLE', 'A unique number within the county identifying the site.', ()), SchemaField('parameter_code', 'INTEGER', 'NULLABLE', 'The AQS code corresponding to the parameter measured by the monitor.', ()), SchemaField('poc', 'INTEGER', 'NULLABLE', 'This is the “Parameter Occurrence Code” used to distinguish different instruments that measure the same parameter at the same site.', ()), SchemaField('latitude', 'FLOAT', 'NULLABLE', 'The monitoring site’s angular distance north of the equator measured in decimal degrees.', ()), SchemaField('longitude', 'FLOAT', 'NULLABLE', 'The monitoring site’s angular distance east of the prime meridian measured in decimal degrees.', ()), SchemaField('datum', 'STRING', 'NULLABLE', 'The Datum associated with the Latitude and Longitude measures.', ()), SchemaField('parameter_name', 'STRING', 'NULLABLE', 'The name or description assigned in AQS to the parameter measured by the monitor. Parameters may be pollutants or non-pollutants.', ()), SchemaField('sample_duration', 'STRING', 'NULLABLE', 'The length of time that air passes through the monitoring device before it is analyzed (measured). So, it represents an averaging period in the atmosphere (for example, a 24-hour sample duration draws ambient air over a collection filter for 24 straight hours). For continuous monitors, it can represent an averaging time of many samples (for example, a 1-hour value may be the average of four one-minute samples collected during each quarter of the hour).', ()), SchemaField('pollutant_standard', 'STRING', 'NULLABLE', 'A description of the ambient air quality standard rules used to aggregate statistics. (See description at beginning of document.)', ()), SchemaField('date_local', 'DATE', 'NULLABLE', 'The calendar date for the summary. All daily summaries are for the local standard day (midnight to midnight) at the monitor.', ()), SchemaField('units_of_measure', 'STRING', 'NULLABLE', 'The unit of measure for the parameter. QAD always returns data in the standard units for the parameter. Submitters are allowed to report data in any unit and EPA converts to a standard unit so that we may use the data in calculations.', ()), SchemaField('event_type', 'STRING', 'NULLABLE', 'Indicates whether data measured during exceptional events are included in the summary. A wildfire is an example of an exceptional event; it is something that affects air quality, but the local agency has no control over. No Events means no events occurred. Events Included means events occurred and the data from them is included in the summary. Events Excluded means that events occurred but data form them is excluded from the summary. Concurred Events Excluded means that events occurred but only EPA concurred exclusions are removed from the summary. If an event occurred for the parameter in question, the data will have multiple records for each monitor.', ()), SchemaField('observation_count', 'INTEGER', 'NULLABLE', 'The number of observations (samples) taken during the day.', ()), SchemaField('observation_percent', 'FLOAT', 'NULLABLE', 'The percent representing the number of observations taken with respect to the number scheduled to be taken during the day. This is only calculated for monitors where measurements are required (e.g., only certain parameters).', ()), SchemaField('arithmetic_mean', 'FLOAT', 'NULLABLE', 'The average (arithmetic mean) value for the day.', ()), SchemaField('first_max_value', 'FLOAT', 'NULLABLE', 'The highest value for the day.', ()), SchemaField('first_max_hour', 'INTEGER', 'NULLABLE', 'The hour (on a 24-hour clock) when the highest value for the day (the previous field) was taken.', ()), SchemaField('aqi', 'INTEGER', 'NULLABLE', 'The Air Quality Index for the day for the pollutant, if applicable.', ()), SchemaField('method_code', 'INTEGER', 'NULLABLE', 'An internal system code indicating the method (processes, equipment, and protocols) used in gathering and measuring the sample. The method name is in the next column.', ()), SchemaField('method_name', 'STRING', 'NULLABLE', 'A short description of the processes, equipment, and protocols used in gathering and measuring the sample.', ()), SchemaField('local_site_name', 'STRING', 'NULLABLE', 'The name of the site (if any) given by the State, local, or tribal air pollution control agency that operates it.', ()), SchemaField('address', 'STRING', 'NULLABLE', 'The approximate street address of the monitoring site.', ()), SchemaField('state_name', 'STRING', 'NULLABLE', 'The name of the state where the monitoring site is located.', ()), SchemaField('county_name', 'STRING', 'NULLABLE', 'The name of the county where the monitoring site is located.', ()), SchemaField('city_name', 'STRING', 'NULLABLE', 'The name of the city where the monitoring site is located. This represents the legal incorporated boundaries of cities and not urban areas.', ()), SchemaField('cbsa_name', 'STRING', 'NULLABLE', 'The name of the core bases statistical area (metropolitan area) where the monitoring site is located.', ()), SchemaField('date_of_last_change', 'DATE', 'NULLABLE', 'The date the last time any numeric values in this record were updated in the AQS data system.', ())]\n",
            "--------------------------------------------------\n",
            "lead_daily_summary\n",
            "--------------------------------------------------\n",
            "[SchemaField('state_code', 'STRING', 'NULLABLE', 'The FIPS code of the state in which the monitor resides.', ()), SchemaField('county_code', 'STRING', 'NULLABLE', 'The FIPS code of the county in which the monitor resides.', ()), SchemaField('site_num', 'STRING', 'NULLABLE', 'A unique number within the county identifying the site.', ()), SchemaField('parameter_code', 'INTEGER', 'NULLABLE', 'The AQS code corresponding to the parameter measured by the monitor.', ()), SchemaField('poc', 'INTEGER', 'NULLABLE', 'This is the “Parameter Occurrence Code” used to distinguish different instruments that measure the same parameter at the same site.', ()), SchemaField('latitude', 'FLOAT', 'NULLABLE', 'The monitoring site’s angular distance north of the equator measured in decimal degrees.', ()), SchemaField('longitude', 'FLOAT', 'NULLABLE', 'The monitoring site’s angular distance east of the prime meridian measured in decimal degrees.', ()), SchemaField('datum', 'STRING', 'NULLABLE', 'The Datum associated with the Latitude and Longitude measures.', ()), SchemaField('parameter_name', 'STRING', 'NULLABLE', 'The name or description assigned in AQS to the parameter measured by the monitor. Parameters may be pollutants or non-pollutants.', ()), SchemaField('sample_duration', 'STRING', 'NULLABLE', 'The length of time that air passes through the monitoring device before it is analyzed (measured). So, it represents an averaging period in the atmosphere (for example, a 24-hour sample duration draws ambient air over a collection filter for 24 straight hours). For continuous monitors, it can represent an averaging time of many samples (for example, a 1-hour value may be the average of four one-minute samples collected during each quarter of the hour).', ()), SchemaField('pollutant_standard', 'STRING', 'NULLABLE', 'A description of the ambient air quality standard rules used to aggregate statistics. (See description at beginning of document.)', ()), SchemaField('date_local', 'DATE', 'NULLABLE', 'The calendar date for the summary. All daily summaries are for the local standard day (midnight to midnight) at the monitor.', ()), SchemaField('units_of_measure', 'STRING', 'NULLABLE', 'The unit of measure for the parameter. QAD always returns data in the standard units for the parameter. Submitters are allowed to report data in any unit and EPA converts to a standard unit so that we may use the data in calculations.', ()), SchemaField('event_type', 'STRING', 'NULLABLE', 'Indicates whether data measured during exceptional events are included in the summary. A wildfire is an example of an exceptional event; it is something that affects air quality, but the local agency has no control over. No Events means no events occurred. Events Included means events occurred and the data from them is included in the summary. Events Excluded means that events occurred but data form them is excluded from the summary. Concurred Events Excluded means that events occurred but only EPA concurred exclusions are removed from the summary. If an event occurred for the parameter in question, the data will have multiple records for each monitor.', ()), SchemaField('observation_count', 'INTEGER', 'NULLABLE', 'The number of observations (samples) taken during the day.', ()), SchemaField('observation_percent', 'FLOAT', 'NULLABLE', 'The percent representing the number of observations taken with respect to the number scheduled to be taken during the day. This is only calculated for monitors where measurements are required (e.g., only certain parameters).', ()), SchemaField('arithmetic_mean', 'FLOAT', 'NULLABLE', 'The average (arithmetic mean) value for the day.', ()), SchemaField('first_max_value', 'FLOAT', 'NULLABLE', 'The highest value for the day.', ()), SchemaField('first_max_hour', 'INTEGER', 'NULLABLE', 'The hour (on a 24-hour clock) when the highest value for the day (the previous field) was taken.', ()), SchemaField('aqi', 'INTEGER', 'NULLABLE', 'The Air Quality Index for the day for the pollutant, if applicable.', ()), SchemaField('method_code', 'INTEGER', 'NULLABLE', 'An internal system code indicating the method (processes, equipment, and protocols) used in gathering and measuring the sample. The method name is in the next column.', ()), SchemaField('method_name', 'STRING', 'NULLABLE', 'A short description of the processes, equipment, and protocols used in gathering and measuring the sample.', ()), SchemaField('local_site_name', 'STRING', 'NULLABLE', 'The name of the site (if any) given by the State, local, or tribal air pollution control agency that operates it.', ()), SchemaField('address', 'STRING', 'NULLABLE', 'The approximate street address of the monitoring site.', ()), SchemaField('state_name', 'STRING', 'NULLABLE', 'The name of the state where the monitoring site is located.', ()), SchemaField('county_name', 'STRING', 'NULLABLE', 'The name of the county where the monitoring site is located.', ()), SchemaField('city_name', 'STRING', 'NULLABLE', 'The name of the city where the monitoring site is located. This represents the legal incorporated boundaries of cities and not urban areas.', ()), SchemaField('cbsa_name', 'STRING', 'NULLABLE', 'The name of the core bases statistical area (metropolitan area) where the monitoring site is located.', ()), SchemaField('date_of_last_change', 'DATE', 'NULLABLE', 'The date the last time any numeric values in this record were updated in the AQS data system.', ())]\n",
            "--------------------------------------------------\n",
            "no2_daily_summary\n",
            "--------------------------------------------------\n",
            "[SchemaField('state_code', 'STRING', 'NULLABLE', 'The FIPS code of the state in which the monitor resides.', ()), SchemaField('county_code', 'STRING', 'NULLABLE', 'The FIPS code of the county in which the monitor resides.', ()), SchemaField('site_num', 'STRING', 'NULLABLE', 'A unique number within the county identifying the site.', ()), SchemaField('parameter_code', 'INTEGER', 'NULLABLE', 'The AQS code corresponding to the parameter measured by the monitor.', ()), SchemaField('poc', 'INTEGER', 'NULLABLE', 'This is the “Parameter Occurrence Code” used to distinguish different instruments that measure the same parameter at the same site.', ()), SchemaField('latitude', 'FLOAT', 'NULLABLE', 'The monitoring site’s angular distance north of the equator measured in decimal degrees.', ()), SchemaField('longitude', 'FLOAT', 'NULLABLE', 'The monitoring site’s angular distance east of the prime meridian measured in decimal degrees.', ()), SchemaField('datum', 'STRING', 'NULLABLE', 'The Datum associated with the Latitude and Longitude measures.', ()), SchemaField('parameter_name', 'STRING', 'NULLABLE', 'The name or description assigned in AQS to the parameter measured by the monitor. Parameters may be pollutants or non-pollutants.', ()), SchemaField('sample_duration', 'STRING', 'NULLABLE', 'The length of time that air passes through the monitoring device before it is analyzed (measured). So, it represents an averaging period in the atmosphere (for example, a 24-hour sample duration draws ambient air over a collection filter for 24 straight hours). For continuous monitors, it can represent an averaging time of many samples (for example, a 1-hour value may be the average of four one-minute samples collected during each quarter of the hour).', ()), SchemaField('pollutant_standard', 'STRING', 'NULLABLE', 'A description of the ambient air quality standard rules used to aggregate statistics. (See description at beginning of document.)', ()), SchemaField('date_local', 'DATE', 'NULLABLE', 'The calendar date for the summary. All daily summaries are for the local standard day (midnight to midnight) at the monitor.', ()), SchemaField('units_of_measure', 'STRING', 'NULLABLE', 'The unit of measure for the parameter. QAD always returns data in the standard units for the parameter. Submitters are allowed to report data in any unit and EPA converts to a standard unit so that we may use the data in calculations.', ()), SchemaField('event_type', 'STRING', 'NULLABLE', 'Indicates whether data measured during exceptional events are included in the summary. A wildfire is an example of an exceptional event; it is something that affects air quality, but the local agency has no control over. No Events means no events occurred. Events Included means events occurred and the data from them is included in the summary. Events Excluded means that events occurred but data form them is excluded from the summary. Concurred Events Excluded means that events occurred but only EPA concurred exclusions are removed from the summary. If an event occurred for the parameter in question, the data will have multiple records for each monitor.', ()), SchemaField('observation_count', 'INTEGER', 'NULLABLE', 'The number of observations (samples) taken during the day.', ()), SchemaField('observation_percent', 'FLOAT', 'NULLABLE', 'The percent representing the number of observations taken with respect to the number scheduled to be taken during the day. This is only calculated for monitors where measurements are required (e.g., only certain parameters).', ()), SchemaField('arithmetic_mean', 'FLOAT', 'NULLABLE', 'The average (arithmetic mean) value for the day.', ()), SchemaField('first_max_value', 'FLOAT', 'NULLABLE', 'The highest value for the day.', ()), SchemaField('first_max_hour', 'INTEGER', 'NULLABLE', 'The hour (on a 24-hour clock) when the highest value for the day (the previous field) was taken.', ()), SchemaField('aqi', 'INTEGER', 'NULLABLE', 'The Air Quality Index for the day for the pollutant, if applicable.', ()), SchemaField('method_code', 'INTEGER', 'NULLABLE', 'An internal system code indicating the method (processes, equipment, and protocols) used in gathering and measuring the sample. The method name is in the next column.', ()), SchemaField('method_name', 'STRING', 'NULLABLE', 'A short description of the processes, equipment, and protocols used in gathering and measuring the sample.', ()), SchemaField('local_site_name', 'STRING', 'NULLABLE', 'The name of the site (if any) given by the State, local, or tribal air pollution control agency that operates it.', ()), SchemaField('address', 'STRING', 'NULLABLE', 'The approximate street address of the monitoring site.', ()), SchemaField('state_name', 'STRING', 'NULLABLE', 'The name of the state where the monitoring site is located.', ()), SchemaField('county_name', 'STRING', 'NULLABLE', 'The name of the county where the monitoring site is located.', ()), SchemaField('city_name', 'STRING', 'NULLABLE', 'The name of the city where the monitoring site is located. This represents the legal incorporated boundaries of cities and not urban areas.', ()), SchemaField('cbsa_name', 'STRING', 'NULLABLE', 'The name of the core bases statistical area (metropolitan area) where the monitoring site is located.', ()), SchemaField('date_of_last_change', 'DATE', 'NULLABLE', 'The date the last time any numeric values in this record were updated in the AQS data system.', ())]\n",
            "--------------------------------------------------\n",
            "nonoxnoy_daily_summary\n",
            "--------------------------------------------------\n",
            "[SchemaField('state_code', 'STRING', 'NULLABLE', 'The FIPS code of the state in which the monitor resides.', ()), SchemaField('county_code', 'STRING', 'NULLABLE', 'The FIPS code of the county in which the monitor resides.', ()), SchemaField('site_num', 'STRING', 'NULLABLE', 'A unique number within the county identifying the site.', ()), SchemaField('parameter_code', 'INTEGER', 'NULLABLE', 'The AQS code corresponding to the parameter measured by the monitor.', ()), SchemaField('poc', 'INTEGER', 'NULLABLE', 'This is the “Parameter Occurrence Code” used to distinguish different instruments that measure the same parameter at the same site.', ()), SchemaField('latitude', 'FLOAT', 'NULLABLE', 'The monitoring site’s angular distance north of the equator measured in decimal degrees.', ()), SchemaField('longitude', 'FLOAT', 'NULLABLE', 'The monitoring site’s angular distance east of the prime meridian measured in decimal degrees.', ()), SchemaField('datum', 'STRING', 'NULLABLE', 'The Datum associated with the Latitude and Longitude measures.', ()), SchemaField('parameter_name', 'STRING', 'NULLABLE', 'The name or description assigned in AQS to the parameter measured by the monitor. Parameters may be pollutants or non-pollutants.', ()), SchemaField('sample_duration', 'STRING', 'NULLABLE', 'The length of time that air passes through the monitoring device before it is analyzed (measured). So, it represents an averaging period in the atmosphere (for example, a 24-hour sample duration draws ambient air over a collection filter for 24 straight hours). For continuous monitors, it can represent an averaging time of many samples (for example, a 1-hour value may be the average of four one-minute samples collected during each quarter of the hour).', ()), SchemaField('pollutant_standard', 'STRING', 'NULLABLE', 'A description of the ambient air quality standard rules used to aggregate statistics. (See description at beginning of document.)', ()), SchemaField('date_local', 'DATE', 'NULLABLE', 'The calendar date for the summary. All daily summaries are for the local standard day (midnight to midnight) at the monitor.', ()), SchemaField('units_of_measure', 'STRING', 'NULLABLE', 'The unit of measure for the parameter. QAD always returns data in the standard units for the parameter. Submitters are allowed to report data in any unit and EPA converts to a standard unit so that we may use the data in calculations.', ()), SchemaField('event_type', 'STRING', 'NULLABLE', 'Indicates whether data measured during exceptional events are included in the summary. A wildfire is an example of an exceptional event; it is something that affects air quality, but the local agency has no control over. No Events means no events occurred. Events Included means events occurred and the data from them is included in the summary. Events Excluded means that events occurred but data form them is excluded from the summary. Concurred Events Excluded means that events occurred but only EPA concurred exclusions are removed from the summary. If an event occurred for the parameter in question, the data will have multiple records for each monitor.', ()), SchemaField('observation_count', 'INTEGER', 'NULLABLE', 'The number of observations (samples) taken during the day.', ()), SchemaField('observation_percent', 'FLOAT', 'NULLABLE', 'The percent representing the number of observations taken with respect to the number scheduled to be taken during the day. This is only calculated for monitors where measurements are required (e.g., only certain parameters).', ()), SchemaField('arithmetic_mean', 'FLOAT', 'NULLABLE', 'The average (arithmetic mean) value for the day.', ()), SchemaField('first_max_value', 'FLOAT', 'NULLABLE', 'The highest value for the day.', ()), SchemaField('first_max_hour', 'INTEGER', 'NULLABLE', 'The hour (on a 24-hour clock) when the highest value for the day (the previous field) was taken.', ()), SchemaField('aqi', 'INTEGER', 'NULLABLE', 'The Air Quality Index for the day for the pollutant, if applicable.', ()), SchemaField('method_code', 'INTEGER', 'NULLABLE', 'An internal system code indicating the method (processes, equipment, and protocols) used in gathering and measuring the sample. The method name is in the next column.', ()), SchemaField('method_name', 'STRING', 'NULLABLE', 'A short description of the processes, equipment, and protocols used in gathering and measuring the sample.', ()), SchemaField('local_site_name', 'STRING', 'NULLABLE', 'The name of the site (if any) given by the State, local, or tribal air pollution control agency that operates it.', ()), SchemaField('address', 'STRING', 'NULLABLE', 'The approximate street address of the monitoring site.', ()), SchemaField('state_name', 'STRING', 'NULLABLE', 'The name of the state where the monitoring site is located.', ()), SchemaField('county_name', 'STRING', 'NULLABLE', 'The name of the county where the monitoring site is located.', ()), SchemaField('city_name', 'STRING', 'NULLABLE', 'The name of the city where the monitoring site is located. This represents the legal incorporated boundaries of cities and not urban areas.', ()), SchemaField('cbsa_name', 'STRING', 'NULLABLE', 'The name of the core bases statistical area (metropolitan area) where the monitoring site is located.', ()), SchemaField('date_of_last_change', 'DATE', 'NULLABLE', 'The date the last time any numeric values in this record were updated in the AQS data system.', ())]\n",
            "--------------------------------------------------\n",
            "o3_daily_summary\n",
            "--------------------------------------------------\n",
            "[SchemaField('state_code', 'STRING', 'NULLABLE', 'The FIPS code of the state in which the monitor resides.', ()), SchemaField('county_code', 'STRING', 'NULLABLE', 'The FIPS code of the county in which the monitor resides.', ()), SchemaField('site_num', 'STRING', 'NULLABLE', 'A unique number within the county identifying the site.', ()), SchemaField('parameter_code', 'INTEGER', 'NULLABLE', 'The AQS code corresponding to the parameter measured by the monitor.', ()), SchemaField('poc', 'INTEGER', 'NULLABLE', 'This is the “Parameter Occurrence Code” used to distinguish different instruments that measure the same parameter at the same site.', ()), SchemaField('latitude', 'FLOAT', 'NULLABLE', 'The monitoring site’s angular distance north of the equator measured in decimal degrees.', ()), SchemaField('longitude', 'FLOAT', 'NULLABLE', 'The monitoring site’s angular distance east of the prime meridian measured in decimal degrees.', ()), SchemaField('datum', 'STRING', 'NULLABLE', 'The Datum associated with the Latitude and Longitude measures.', ()), SchemaField('parameter_name', 'STRING', 'NULLABLE', 'The name or description assigned in AQS to the parameter measured by the monitor. Parameters may be pollutants or non-pollutants.', ()), SchemaField('sample_duration', 'STRING', 'NULLABLE', 'The length of time that air passes through the monitoring device before it is analyzed (measured). So, it represents an averaging period in the atmosphere (for example, a 24-hour sample duration draws ambient air over a collection filter for 24 straight hours). For continuous monitors, it can represent an averaging time of many samples (for example, a 1-hour value may be the average of four one-minute samples collected during each quarter of the hour).', ()), SchemaField('pollutant_standard', 'STRING', 'NULLABLE', 'A description of the ambient air quality standard rules used to aggregate statistics. (See description at beginning of document.)', ()), SchemaField('date_local', 'DATE', 'NULLABLE', 'The calendar date for the summary. All daily summaries are for the local standard day (midnight to midnight) at the monitor.', ()), SchemaField('units_of_measure', 'STRING', 'NULLABLE', 'The unit of measure for the parameter. QAD always returns data in the standard units for the parameter. Submitters are allowed to report data in any unit and EPA converts to a standard unit so that we may use the data in calculations.', ()), SchemaField('event_type', 'STRING', 'NULLABLE', 'Indicates whether data measured during exceptional events are included in the summary. A wildfire is an example of an exceptional event; it is something that affects air quality, but the local agency has no control over. No Events means no events occurred. Events Included means events occurred and the data from them is included in the summary. Events Excluded means that events occurred but data form them is excluded from the summary. Concurred Events Excluded means that events occurred but only EPA concurred exclusions are removed from the summary. If an event occurred for the parameter in question, the data will have multiple records for each monitor.', ()), SchemaField('observation_count', 'INTEGER', 'NULLABLE', 'The number of observations (samples) taken during the day.', ()), SchemaField('observation_percent', 'FLOAT', 'NULLABLE', 'The percent representing the number of observations taken with respect to the number scheduled to be taken during the day. This is only calculated for monitors where measurements are required (e.g., only certain parameters).', ()), SchemaField('arithmetic_mean', 'FLOAT', 'NULLABLE', 'The average (arithmetic mean) value for the day.', ()), SchemaField('first_max_value', 'FLOAT', 'NULLABLE', 'The highest value for the day.', ()), SchemaField('first_max_hour', 'INTEGER', 'NULLABLE', 'The hour (on a 24-hour clock) when the highest value for the day (the previous field) was taken.', ()), SchemaField('aqi', 'INTEGER', 'NULLABLE', 'The Air Quality Index for the day for the pollutant, if applicable.', ()), SchemaField('method_code', 'INTEGER', 'NULLABLE', 'An internal system code indicating the method (processes, equipment, and protocols) used in gathering and measuring the sample. The method name is in the next column.', ()), SchemaField('method_name', 'STRING', 'NULLABLE', 'A short description of the processes, equipment, and protocols used in gathering and measuring the sample.', ()), SchemaField('local_site_name', 'STRING', 'NULLABLE', 'The name of the site (if any) given by the State, local, or tribal air pollution control agency that operates it.', ()), SchemaField('address', 'STRING', 'NULLABLE', 'The approximate street address of the monitoring site.', ()), SchemaField('state_name', 'STRING', 'NULLABLE', 'The name of the state where the monitoring site is located.', ()), SchemaField('county_name', 'STRING', 'NULLABLE', 'The name of the county where the monitoring site is located.', ()), SchemaField('city_name', 'STRING', 'NULLABLE', 'The name of the city where the monitoring site is located. This represents the legal incorporated boundaries of cities and not urban areas.', ()), SchemaField('cbsa_name', 'STRING', 'NULLABLE', 'The name of the core bases statistical area (metropolitan area) where the monitoring site is located.', ()), SchemaField('date_of_last_change', 'DATE', 'NULLABLE', 'The date the last time any numeric values in this record were updated in the AQS data system.', ())]\n",
            "--------------------------------------------------\n",
            "pm10_daily_summary\n",
            "--------------------------------------------------\n",
            "[SchemaField('state_code', 'STRING', 'NULLABLE', 'The FIPS code of the state in which the monitor resides.', ()), SchemaField('county_code', 'STRING', 'NULLABLE', 'The FIPS code of the county in which the monitor resides.', ()), SchemaField('site_num', 'STRING', 'NULLABLE', 'A unique number within the county identifying the site.', ()), SchemaField('parameter_code', 'INTEGER', 'NULLABLE', 'The AQS code corresponding to the parameter measured by the monitor.', ()), SchemaField('poc', 'INTEGER', 'NULLABLE', 'This is the “Parameter Occurrence Code” used to distinguish different instruments that measure the same parameter at the same site.', ()), SchemaField('latitude', 'FLOAT', 'NULLABLE', 'The monitoring site’s angular distance north of the equator measured in decimal degrees.', ()), SchemaField('longitude', 'FLOAT', 'NULLABLE', 'The monitoring site’s angular distance east of the prime meridian measured in decimal degrees.', ()), SchemaField('datum', 'STRING', 'NULLABLE', 'The Datum associated with the Latitude and Longitude measures.', ()), SchemaField('parameter_name', 'STRING', 'NULLABLE', 'The name or description assigned in AQS to the parameter measured by the monitor. Parameters may be pollutants or non-pollutants.', ()), SchemaField('sample_duration', 'STRING', 'NULLABLE', 'The length of time that air passes through the monitoring device before it is analyzed (measured). So, it represents an averaging period in the atmosphere (for example, a 24-hour sample duration draws ambient air over a collection filter for 24 straight hours). For continuous monitors, it can represent an averaging time of many samples (for example, a 1-hour value may be the average of four one-minute samples collected during each quarter of the hour).', ()), SchemaField('pollutant_standard', 'STRING', 'NULLABLE', 'A description of the ambient air quality standard rules used to aggregate statistics. (See description at beginning of document.)', ()), SchemaField('date_local', 'DATE', 'NULLABLE', 'The calendar date for the summary. All daily summaries are for the local standard day (midnight to midnight) at the monitor.', ()), SchemaField('units_of_measure', 'STRING', 'NULLABLE', 'The unit of measure for the parameter. QAD always returns data in the standard units for the parameter. Submitters are allowed to report data in any unit and EPA converts to a standard unit so that we may use the data in calculations.', ()), SchemaField('event_type', 'STRING', 'NULLABLE', 'Indicates whether data measured during exceptional events are included in the summary. A wildfire is an example of an exceptional event; it is something that affects air quality, but the local agency has no control over. No Events means no events occurred. Events Included means events occurred and the data from them is included in the summary. Events Excluded means that events occurred but data form them is excluded from the summary. Concurred Events Excluded means that events occurred but only EPA concurred exclusions are removed from the summary. If an event occurred for the parameter in question, the data will have multiple records for each monitor.', ()), SchemaField('observation_count', 'INTEGER', 'NULLABLE', 'The number of observations (samples) taken during the day.', ()), SchemaField('observation_percent', 'FLOAT', 'NULLABLE', 'The percent representing the number of observations taken with respect to the number scheduled to be taken during the day. This is only calculated for monitors where measurements are required (e.g., only certain parameters).', ()), SchemaField('arithmetic_mean', 'FLOAT', 'NULLABLE', 'The average (arithmetic mean) value for the day.', ()), SchemaField('first_max_value', 'FLOAT', 'NULLABLE', 'The highest value for the day.', ()), SchemaField('first_max_hour', 'INTEGER', 'NULLABLE', 'The hour (on a 24-hour clock) when the highest value for the day (the previous field) was taken.', ()), SchemaField('aqi', 'INTEGER', 'NULLABLE', 'The Air Quality Index for the day for the pollutant, if applicable.', ()), SchemaField('method_code', 'INTEGER', 'NULLABLE', 'An internal system code indicating the method (processes, equipment, and protocols) used in gathering and measuring the sample. The method name is in the next column.', ()), SchemaField('method_name', 'STRING', 'NULLABLE', 'A short description of the processes, equipment, and protocols used in gathering and measuring the sample.', ()), SchemaField('local_site_name', 'STRING', 'NULLABLE', 'The name of the site (if any) given by the State, local, or tribal air pollution control agency that operates it.', ()), SchemaField('address', 'STRING', 'NULLABLE', 'The approximate street address of the monitoring site.', ()), SchemaField('state_name', 'STRING', 'NULLABLE', 'The name of the state where the monitoring site is located.', ()), SchemaField('county_name', 'STRING', 'NULLABLE', 'The name of the county where the monitoring site is located.', ()), SchemaField('city_name', 'STRING', 'NULLABLE', 'The name of the city where the monitoring site is located. This represents the legal incorporated boundaries of cities and not urban areas.', ()), SchemaField('cbsa_name', 'STRING', 'NULLABLE', 'The name of the core bases statistical area (metropolitan area) where the monitoring site is located.', ()), SchemaField('date_of_last_change', 'DATE', 'NULLABLE', 'The date the last time any numeric values in this record were updated in the AQS data system.', ())]\n",
            "--------------------------------------------------\n",
            "pm25_frm_daily_summary\n",
            "--------------------------------------------------\n",
            "[SchemaField('state_code', 'STRING', 'NULLABLE', 'The FIPS code of the state in which the monitor resides.', ()), SchemaField('county_code', 'STRING', 'NULLABLE', 'The FIPS code of the county in which the monitor resides.', ()), SchemaField('site_num', 'STRING', 'NULLABLE', 'A unique number within the county identifying the site.', ()), SchemaField('parameter_code', 'INTEGER', 'NULLABLE', 'The AQS code corresponding to the parameter measured by the monitor.', ()), SchemaField('poc', 'INTEGER', 'NULLABLE', 'This is the “Parameter Occurrence Code” used to distinguish different instruments that measure the same parameter at the same site.', ()), SchemaField('latitude', 'FLOAT', 'NULLABLE', 'The monitoring site’s angular distance north of the equator measured in decimal degrees.', ()), SchemaField('longitude', 'FLOAT', 'NULLABLE', 'The monitoring site’s angular distance east of the prime meridian measured in decimal degrees.', ()), SchemaField('datum', 'STRING', 'NULLABLE', 'The Datum associated with the Latitude and Longitude measures.', ()), SchemaField('parameter_name', 'STRING', 'NULLABLE', 'The name or description assigned in AQS to the parameter measured by the monitor. Parameters may be pollutants or non-pollutants.', ()), SchemaField('sample_duration', 'STRING', 'NULLABLE', 'The length of time that air passes through the monitoring device before it is analyzed (measured). So, it represents an averaging period in the atmosphere (for example, a 24-hour sample duration draws ambient air over a collection filter for 24 straight hours). For continuous monitors, it can represent an averaging time of many samples (for example, a 1-hour value may be the average of four one-minute samples collected during each quarter of the hour).', ()), SchemaField('pollutant_standard', 'STRING', 'NULLABLE', 'A description of the ambient air quality standard rules used to aggregate statistics. (See description at beginning of document.)', ()), SchemaField('date_local', 'DATE', 'NULLABLE', 'The calendar date for the summary. All daily summaries are for the local standard day (midnight to midnight) at the monitor.', ()), SchemaField('units_of_measure', 'STRING', 'NULLABLE', 'The unit of measure for the parameter. QAD always returns data in the standard units for the parameter. Submitters are allowed to report data in any unit and EPA converts to a standard unit so that we may use the data in calculations.', ()), SchemaField('event_type', 'STRING', 'NULLABLE', 'Indicates whether data measured during exceptional events are included in the summary. A wildfire is an example of an exceptional event; it is something that affects air quality, but the local agency has no control over. No Events means no events occurred. Events Included means events occurred and the data from them is included in the summary. Events Excluded means that events occurred but data form them is excluded from the summary. Concurred Events Excluded means that events occurred but only EPA concurred exclusions are removed from the summary. If an event occurred for the parameter in question, the data will have multiple records for each monitor.', ()), SchemaField('observation_count', 'INTEGER', 'NULLABLE', 'The number of observations (samples) taken during the day.', ()), SchemaField('observation_percent', 'FLOAT', 'NULLABLE', 'The percent representing the number of observations taken with respect to the number scheduled to be taken during the day. This is only calculated for monitors where measurements are required (e.g., only certain parameters).', ()), SchemaField('arithmetic_mean', 'FLOAT', 'NULLABLE', 'The average (arithmetic mean) value for the day.', ()), SchemaField('first_max_value', 'FLOAT', 'NULLABLE', 'The highest value for the day.', ()), SchemaField('first_max_hour', 'INTEGER', 'NULLABLE', 'The hour (on a 24-hour clock) when the highest value for the day (the previous field) was taken.', ()), SchemaField('aqi', 'INTEGER', 'NULLABLE', 'The Air Quality Index for the day for the pollutant, if applicable.', ()), SchemaField('method_code', 'INTEGER', 'NULLABLE', 'An internal system code indicating the method (processes, equipment, and protocols) used in gathering and measuring the sample. The method name is in the next column.', ()), SchemaField('method_name', 'STRING', 'NULLABLE', 'A short description of the processes, equipment, and protocols used in gathering and measuring the sample.', ()), SchemaField('local_site_name', 'STRING', 'NULLABLE', 'The name of the site (if any) given by the State, local, or tribal air pollution control agency that operates it.', ()), SchemaField('address', 'STRING', 'NULLABLE', 'The approximate street address of the monitoring site.', ()), SchemaField('state_name', 'STRING', 'NULLABLE', 'The name of the state where the monitoring site is located.', ()), SchemaField('county_name', 'STRING', 'NULLABLE', 'The name of the county where the monitoring site is located.', ()), SchemaField('city_name', 'STRING', 'NULLABLE', 'The name of the city where the monitoring site is located. This represents the legal incorporated boundaries of cities and not urban areas.', ()), SchemaField('cbsa_name', 'STRING', 'NULLABLE', 'The name of the core bases statistical area (metropolitan area) where the monitoring site is located.', ()), SchemaField('date_of_last_change', 'DATE', 'NULLABLE', 'The date the last time any numeric values in this record were updated in the AQS data system.', ())]\n",
            "--------------------------------------------------\n",
            "pm25_nonfrm_daily_summary\n",
            "--------------------------------------------------\n",
            "[SchemaField('state_code', 'STRING', 'NULLABLE', 'The FIPS code of the state in which the monitor resides.', ()), SchemaField('county_code', 'STRING', 'NULLABLE', 'The FIPS code of the county in which the monitor resides.', ()), SchemaField('site_num', 'STRING', 'NULLABLE', 'A unique number within the county identifying the site.', ()), SchemaField('parameter_code', 'INTEGER', 'NULLABLE', 'The AQS code corresponding to the parameter measured by the monitor.', ()), SchemaField('poc', 'INTEGER', 'NULLABLE', 'This is the “Parameter Occurrence Code” used to distinguish different instruments that measure the same parameter at the same site.', ()), SchemaField('latitude', 'FLOAT', 'NULLABLE', 'The monitoring site’s angular distance north of the equator measured in decimal degrees.', ()), SchemaField('longitude', 'FLOAT', 'NULLABLE', 'The monitoring site’s angular distance east of the prime meridian measured in decimal degrees.', ()), SchemaField('datum', 'STRING', 'NULLABLE', 'The Datum associated with the Latitude and Longitude measures.', ()), SchemaField('parameter_name', 'STRING', 'NULLABLE', 'The name or description assigned in AQS to the parameter measured by the monitor. Parameters may be pollutants or non-pollutants.', ()), SchemaField('sample_duration', 'STRING', 'NULLABLE', 'The length of time that air passes through the monitoring device before it is analyzed (measured). So, it represents an averaging period in the atmosphere (for example, a 24-hour sample duration draws ambient air over a collection filter for 24 straight hours). For continuous monitors, it can represent an averaging time of many samples (for example, a 1-hour value may be the average of four one-minute samples collected during each quarter of the hour).', ()), SchemaField('pollutant_standard', 'STRING', 'NULLABLE', 'A description of the ambient air quality standard rules used to aggregate statistics. (See description at beginning of document.)', ()), SchemaField('date_local', 'DATE', 'NULLABLE', 'The calendar date for the summary. All daily summaries are for the local standard day (midnight to midnight) at the monitor.', ()), SchemaField('units_of_measure', 'STRING', 'NULLABLE', 'The unit of measure for the parameter. QAD always returns data in the standard units for the parameter. Submitters are allowed to report data in any unit and EPA converts to a standard unit so that we may use the data in calculations.', ()), SchemaField('event_type', 'STRING', 'NULLABLE', 'Indicates whether data measured during exceptional events are included in the summary. A wildfire is an example of an exceptional event; it is something that affects air quality, but the local agency has no control over. No Events means no events occurred. Events Included means events occurred and the data from them is included in the summary. Events Excluded means that events occurred but data form them is excluded from the summary. Concurred Events Excluded means that events occurred but only EPA concurred exclusions are removed from the summary. If an event occurred for the parameter in question, the data will have multiple records for each monitor.', ()), SchemaField('observation_count', 'INTEGER', 'NULLABLE', 'The number of observations (samples) taken during the day.', ()), SchemaField('observation_percent', 'FLOAT', 'NULLABLE', 'The percent representing the number of observations taken with respect to the number scheduled to be taken during the day. This is only calculated for monitors where measurements are required (e.g., only certain parameters).', ()), SchemaField('arithmetic_mean', 'FLOAT', 'NULLABLE', 'The average (arithmetic mean) value for the day.', ()), SchemaField('first_max_value', 'FLOAT', 'NULLABLE', 'The highest value for the day.', ()), SchemaField('first_max_hour', 'INTEGER', 'NULLABLE', 'The hour (on a 24-hour clock) when the highest value for the day (the previous field) was taken.', ()), SchemaField('aqi', 'INTEGER', 'NULLABLE', 'The Air Quality Index for the day for the pollutant, if applicable.', ()), SchemaField('method_code', 'INTEGER', 'NULLABLE', 'An internal system code indicating the method (processes, equipment, and protocols) used in gathering and measuring the sample. The method name is in the next column.', ()), SchemaField('method_name', 'STRING', 'NULLABLE', 'A short description of the processes, equipment, and protocols used in gathering and measuring the sample.', ()), SchemaField('local_site_name', 'STRING', 'NULLABLE', 'The name of the site (if any) given by the State, local, or tribal air pollution control agency that operates it.', ()), SchemaField('address', 'STRING', 'NULLABLE', 'The approximate street address of the monitoring site.', ()), SchemaField('state_name', 'STRING', 'NULLABLE', 'The name of the state where the monitoring site is located.', ()), SchemaField('county_name', 'STRING', 'NULLABLE', 'The name of the county where the monitoring site is located.', ()), SchemaField('city_name', 'STRING', 'NULLABLE', 'The name of the city where the monitoring site is located. This represents the legal incorporated boundaries of cities and not urban areas.', ()), SchemaField('cbsa_name', 'STRING', 'NULLABLE', 'The name of the core bases statistical area (metropolitan area) where the monitoring site is located.', ()), SchemaField('date_of_last_change', 'DATE', 'NULLABLE', 'The date the last time any numeric values in this record were updated in the AQS data system.', ())]\n",
            "--------------------------------------------------\n",
            "pm25_speciation_daily_summary\n",
            "--------------------------------------------------\n",
            "[SchemaField('state_code', 'STRING', 'NULLABLE', 'The FIPS code of the state in which the monitor resides.', ()), SchemaField('county_code', 'STRING', 'NULLABLE', 'The FIPS code of the county in which the monitor resides.', ()), SchemaField('site_num', 'STRING', 'NULLABLE', 'A unique number within the county identifying the site.', ()), SchemaField('parameter_code', 'INTEGER', 'NULLABLE', 'The AQS code corresponding to the parameter measured by the monitor.', ()), SchemaField('poc', 'INTEGER', 'NULLABLE', 'This is the “Parameter Occurrence Code” used to distinguish different instruments that measure the same parameter at the same site.', ()), SchemaField('latitude', 'FLOAT', 'NULLABLE', 'The monitoring site’s angular distance north of the equator measured in decimal degrees.', ()), SchemaField('longitude', 'FLOAT', 'NULLABLE', 'The monitoring site’s angular distance east of the prime meridian measured in decimal degrees.', ()), SchemaField('datum', 'STRING', 'NULLABLE', 'The Datum associated with the Latitude and Longitude measures.', ()), SchemaField('parameter_name', 'STRING', 'NULLABLE', 'The name or description assigned in AQS to the parameter measured by the monitor. Parameters may be pollutants or non-pollutants.', ()), SchemaField('sample_duration', 'STRING', 'NULLABLE', 'The length of time that air passes through the monitoring device before it is analyzed (measured). So, it represents an averaging period in the atmosphere (for example, a 24-hour sample duration draws ambient air over a collection filter for 24 straight hours). For continuous monitors, it can represent an averaging time of many samples (for example, a 1-hour value may be the average of four one-minute samples collected during each quarter of the hour).', ()), SchemaField('pollutant_standard', 'STRING', 'NULLABLE', 'A description of the ambient air quality standard rules used to aggregate statistics. (See description at beginning of document.)', ()), SchemaField('date_local', 'DATE', 'NULLABLE', 'The calendar date for the summary. All daily summaries are for the local standard day (midnight to midnight) at the monitor.', ()), SchemaField('units_of_measure', 'STRING', 'NULLABLE', 'The unit of measure for the parameter. QAD always returns data in the standard units for the parameter. Submitters are allowed to report data in any unit and EPA converts to a standard unit so that we may use the data in calculations.', ()), SchemaField('event_type', 'STRING', 'NULLABLE', 'Indicates whether data measured during exceptional events are included in the summary. A wildfire is an example of an exceptional event; it is something that affects air quality, but the local agency has no control over. No Events means no events occurred. Events Included means events occurred and the data from them is included in the summary. Events Excluded means that events occurred but data form them is excluded from the summary. Concurred Events Excluded means that events occurred but only EPA concurred exclusions are removed from the summary. If an event occurred for the parameter in question, the data will have multiple records for each monitor.', ()), SchemaField('observation_count', 'INTEGER', 'NULLABLE', 'The number of observations (samples) taken during the day.', ()), SchemaField('observation_percent', 'FLOAT', 'NULLABLE', 'The percent representing the number of observations taken with respect to the number scheduled to be taken during the day. This is only calculated for monitors where measurements are required (e.g., only certain parameters).', ()), SchemaField('arithmetic_mean', 'FLOAT', 'NULLABLE', 'The average (arithmetic mean) value for the day.', ()), SchemaField('first_max_value', 'FLOAT', 'NULLABLE', 'The highest value for the day.', ()), SchemaField('first_max_hour', 'INTEGER', 'NULLABLE', 'The hour (on a 24-hour clock) when the highest value for the day (the previous field) was taken.', ()), SchemaField('aqi', 'INTEGER', 'NULLABLE', 'The Air Quality Index for the day for the pollutant, if applicable.', ()), SchemaField('method_code', 'INTEGER', 'NULLABLE', 'An internal system code indicating the method (processes, equipment, and protocols) used in gathering and measuring the sample. The method name is in the next column.', ()), SchemaField('method_name', 'STRING', 'NULLABLE', 'A short description of the processes, equipment, and protocols used in gathering and measuring the sample.', ()), SchemaField('local_site_name', 'STRING', 'NULLABLE', 'The name of the site (if any) given by the State, local, or tribal air pollution control agency that operates it.', ()), SchemaField('address', 'STRING', 'NULLABLE', 'The approximate street address of the monitoring site.', ()), SchemaField('state_name', 'STRING', 'NULLABLE', 'The name of the state where the monitoring site is located.', ()), SchemaField('county_name', 'STRING', 'NULLABLE', 'The name of the county where the monitoring site is located.', ()), SchemaField('city_name', 'STRING', 'NULLABLE', 'The name of the city where the monitoring site is located. This represents the legal incorporated boundaries of cities and not urban areas.', ()), SchemaField('cbsa_name', 'STRING', 'NULLABLE', 'The name of the core bases statistical area (metropolitan area) where the monitoring site is located.', ()), SchemaField('date_of_last_change', 'DATE', 'NULLABLE', 'The date the last time any numeric values in this record were updated in the AQS data system.', ())]\n",
            "--------------------------------------------------\n",
            "pressure_daily_summary\n",
            "--------------------------------------------------\n",
            "[SchemaField('state_code', 'STRING', 'NULLABLE', 'The FIPS code of the state in which the monitor resides.', ()), SchemaField('county_code', 'STRING', 'NULLABLE', 'The FIPS code of the county in which the monitor resides.', ()), SchemaField('site_num', 'STRING', 'NULLABLE', 'A unique number within the county identifying the site.', ()), SchemaField('parameter_code', 'INTEGER', 'NULLABLE', 'The AQS code corresponding to the parameter measured by the monitor.', ()), SchemaField('poc', 'INTEGER', 'NULLABLE', 'This is the “Parameter Occurrence Code” used to distinguish different instruments that measure the same parameter at the same site.', ()), SchemaField('latitude', 'FLOAT', 'NULLABLE', 'The monitoring site’s angular distance north of the equator measured in decimal degrees.', ()), SchemaField('longitude', 'FLOAT', 'NULLABLE', 'The monitoring site’s angular distance east of the prime meridian measured in decimal degrees.', ()), SchemaField('datum', 'STRING', 'NULLABLE', 'The Datum associated with the Latitude and Longitude measures.', ()), SchemaField('parameter_name', 'STRING', 'NULLABLE', 'The name or description assigned in AQS to the parameter measured by the monitor. Parameters may be pollutants or non-pollutants.', ()), SchemaField('sample_duration', 'STRING', 'NULLABLE', 'The length of time that air passes through the monitoring device before it is analyzed (measured). So, it represents an averaging period in the atmosphere (for example, a 24-hour sample duration draws ambient air over a collection filter for 24 straight hours). For continuous monitors, it can represent an averaging time of many samples (for example, a 1-hour value may be the average of four one-minute samples collected during each quarter of the hour).', ()), SchemaField('pollutant_standard', 'STRING', 'NULLABLE', 'A description of the ambient air quality standard rules used to aggregate statistics. (See description at beginning of document.)', ()), SchemaField('date_local', 'DATE', 'NULLABLE', 'The calendar date for the summary. All daily summaries are for the local standard day (midnight to midnight) at the monitor.', ()), SchemaField('units_of_measure', 'STRING', 'NULLABLE', 'The unit of measure for the parameter. QAD always returns data in the standard units for the parameter. Submitters are allowed to report data in any unit and EPA converts to a standard unit so that we may use the data in calculations.', ()), SchemaField('event_type', 'STRING', 'NULLABLE', 'Indicates whether data measured during exceptional events are included in the summary. A wildfire is an example of an exceptional event; it is something that affects air quality, but the local agency has no control over. No Events means no events occurred. Events Included means events occurred and the data from them is included in the summary. Events Excluded means that events occurred but data form them is excluded from the summary. Concurred Events Excluded means that events occurred but only EPA concurred exclusions are removed from the summary. If an event occurred for the parameter in question, the data will have multiple records for each monitor.', ()), SchemaField('observation_count', 'INTEGER', 'NULLABLE', 'The number of observations (samples) taken during the day.', ()), SchemaField('observation_percent', 'FLOAT', 'NULLABLE', 'The percent representing the number of observations taken with respect to the number scheduled to be taken during the day. This is only calculated for monitors where measurements are required (e.g., only certain parameters).', ()), SchemaField('arithmetic_mean', 'FLOAT', 'NULLABLE', 'The average (arithmetic mean) value for the day.', ()), SchemaField('first_max_value', 'FLOAT', 'NULLABLE', 'The highest value for the day.', ()), SchemaField('first_max_hour', 'INTEGER', 'NULLABLE', 'The hour (on a 24-hour clock) when the highest value for the day (the previous field) was taken.', ()), SchemaField('aqi', 'INTEGER', 'NULLABLE', 'The Air Quality Index for the day for the pollutant, if applicable.', ()), SchemaField('method_code', 'INTEGER', 'NULLABLE', 'An internal system code indicating the method (processes, equipment, and protocols) used in gathering and measuring the sample. The method name is in the next column.', ()), SchemaField('method_name', 'STRING', 'NULLABLE', 'A short description of the processes, equipment, and protocols used in gathering and measuring the sample.', ()), SchemaField('local_site_name', 'STRING', 'NULLABLE', 'The name of the site (if any) given by the State, local, or tribal air pollution control agency that operates it.', ()), SchemaField('address', 'STRING', 'NULLABLE', 'The approximate street address of the monitoring site.', ()), SchemaField('state_name', 'STRING', 'NULLABLE', 'The name of the state where the monitoring site is located.', ()), SchemaField('county_name', 'STRING', 'NULLABLE', 'The name of the county where the monitoring site is located.', ()), SchemaField('city_name', 'STRING', 'NULLABLE', 'The name of the city where the monitoring site is located. This represents the legal incorporated boundaries of cities and not urban areas.', ()), SchemaField('cbsa_name', 'STRING', 'NULLABLE', 'The name of the core bases statistical area (metropolitan area) where the monitoring site is located.', ()), SchemaField('date_of_last_change', 'DATE', 'NULLABLE', 'The date the last time any numeric values in this record were updated in the AQS data system.', ())]\n",
            "--------------------------------------------------\n",
            "rh_and_dp_daily_summary\n",
            "--------------------------------------------------\n",
            "[SchemaField('state_code', 'STRING', 'NULLABLE', 'The FIPS code of the state in which the monitor resides.', ()), SchemaField('county_code', 'STRING', 'NULLABLE', 'The FIPS code of the county in which the monitor resides.', ()), SchemaField('site_num', 'STRING', 'NULLABLE', 'A unique number within the county identifying the site.', ()), SchemaField('parameter_code', 'INTEGER', 'NULLABLE', 'The AQS code corresponding to the parameter measured by the monitor.', ()), SchemaField('poc', 'INTEGER', 'NULLABLE', 'This is the “Parameter Occurrence Code” used to distinguish different instruments that measure the same parameter at the same site.', ()), SchemaField('latitude', 'FLOAT', 'NULLABLE', 'The monitoring site’s angular distance north of the equator measured in decimal degrees.', ()), SchemaField('longitude', 'FLOAT', 'NULLABLE', 'The monitoring site’s angular distance east of the prime meridian measured in decimal degrees.', ()), SchemaField('datum', 'STRING', 'NULLABLE', 'The Datum associated with the Latitude and Longitude measures.', ()), SchemaField('parameter_name', 'STRING', 'NULLABLE', 'The name or description assigned in AQS to the parameter measured by the monitor. Parameters may be pollutants or non-pollutants.', ()), SchemaField('sample_duration', 'STRING', 'NULLABLE', 'The length of time that air passes through the monitoring device before it is analyzed (measured). So, it represents an averaging period in the atmosphere (for example, a 24-hour sample duration draws ambient air over a collection filter for 24 straight hours). For continuous monitors, it can represent an averaging time of many samples (for example, a 1-hour value may be the average of four one-minute samples collected during each quarter of the hour).', ()), SchemaField('pollutant_standard', 'STRING', 'NULLABLE', 'A description of the ambient air quality standard rules used to aggregate statistics. (See description at beginning of document.)', ()), SchemaField('date_local', 'DATE', 'NULLABLE', 'The calendar date for the summary. All daily summaries are for the local standard day (midnight to midnight) at the monitor.', ()), SchemaField('units_of_measure', 'STRING', 'NULLABLE', 'The unit of measure for the parameter. QAD always returns data in the standard units for the parameter. Submitters are allowed to report data in any unit and EPA converts to a standard unit so that we may use the data in calculations.', ()), SchemaField('event_type', 'STRING', 'NULLABLE', 'Indicates whether data measured during exceptional events are included in the summary. A wildfire is an example of an exceptional event; it is something that affects air quality, but the local agency has no control over. No Events means no events occurred. Events Included means events occurred and the data from them is included in the summary. Events Excluded means that events occurred but data form them is excluded from the summary. Concurred Events Excluded means that events occurred but only EPA concurred exclusions are removed from the summary. If an event occurred for the parameter in question, the data will have multiple records for each monitor.', ()), SchemaField('observation_count', 'INTEGER', 'NULLABLE', 'The number of observations (samples) taken during the day.', ()), SchemaField('observation_percent', 'FLOAT', 'NULLABLE', 'The percent representing the number of observations taken with respect to the number scheduled to be taken during the day. This is only calculated for monitors where measurements are required (e.g., only certain parameters).', ()), SchemaField('arithmetic_mean', 'FLOAT', 'NULLABLE', 'The average (arithmetic mean) value for the day.', ()), SchemaField('first_max_value', 'FLOAT', 'NULLABLE', 'The highest value for the day.', ()), SchemaField('first_max_hour', 'INTEGER', 'NULLABLE', 'The hour (on a 24-hour clock) when the highest value for the day (the previous field) was taken.', ()), SchemaField('aqi', 'INTEGER', 'NULLABLE', 'The Air Quality Index for the day for the pollutant, if applicable.', ()), SchemaField('method_code', 'INTEGER', 'NULLABLE', 'An internal system code indicating the method (processes, equipment, and protocols) used in gathering and measuring the sample. The method name is in the next column.', ()), SchemaField('method_name', 'STRING', 'NULLABLE', 'A short description of the processes, equipment, and protocols used in gathering and measuring the sample.', ()), SchemaField('local_site_name', 'STRING', 'NULLABLE', 'The name of the site (if any) given by the State, local, or tribal air pollution control agency that operates it.', ()), SchemaField('address', 'STRING', 'NULLABLE', 'The approximate street address of the monitoring site.', ()), SchemaField('state_name', 'STRING', 'NULLABLE', 'The name of the state where the monitoring site is located.', ()), SchemaField('county_name', 'STRING', 'NULLABLE', 'The name of the county where the monitoring site is located.', ()), SchemaField('city_name', 'STRING', 'NULLABLE', 'The name of the city where the monitoring site is located. This represents the legal incorporated boundaries of cities and not urban areas.', ()), SchemaField('cbsa_name', 'STRING', 'NULLABLE', 'The name of the core bases statistical area (metropolitan area) where the monitoring site is located.', ()), SchemaField('date_of_last_change', 'DATE', 'NULLABLE', 'The date the last time any numeric values in this record were updated in the AQS data system.', ())]\n",
            "--------------------------------------------------\n",
            "so2_daily_summary\n",
            "--------------------------------------------------\n",
            "[SchemaField('state_code', 'STRING', 'NULLABLE', 'The FIPS code of the state in which the monitor resides.', ()), SchemaField('county_code', 'STRING', 'NULLABLE', 'The FIPS code of the county in which the monitor resides.', ()), SchemaField('site_num', 'STRING', 'NULLABLE', 'A unique number within the county identifying the site.', ()), SchemaField('parameter_code', 'INTEGER', 'NULLABLE', 'The AQS code corresponding to the parameter measured by the monitor.', ()), SchemaField('poc', 'INTEGER', 'NULLABLE', 'This is the “Parameter Occurrence Code” used to distinguish different instruments that measure the same parameter at the same site.', ()), SchemaField('latitude', 'FLOAT', 'NULLABLE', 'The monitoring site’s angular distance north of the equator measured in decimal degrees.', ()), SchemaField('longitude', 'FLOAT', 'NULLABLE', 'The monitoring site’s angular distance east of the prime meridian measured in decimal degrees.', ()), SchemaField('datum', 'STRING', 'NULLABLE', 'The Datum associated with the Latitude and Longitude measures.', ()), SchemaField('parameter_name', 'STRING', 'NULLABLE', 'The name or description assigned in AQS to the parameter measured by the monitor. Parameters may be pollutants or non-pollutants.', ()), SchemaField('sample_duration', 'STRING', 'NULLABLE', 'The length of time that air passes through the monitoring device before it is analyzed (measured). So, it represents an averaging period in the atmosphere (for example, a 24-hour sample duration draws ambient air over a collection filter for 24 straight hours). For continuous monitors, it can represent an averaging time of many samples (for example, a 1-hour value may be the average of four one-minute samples collected during each quarter of the hour).', ()), SchemaField('pollutant_standard', 'STRING', 'NULLABLE', 'A description of the ambient air quality standard rules used to aggregate statistics. (See description at beginning of document.)', ()), SchemaField('date_local', 'DATE', 'NULLABLE', 'The calendar date for the summary. All daily summaries are for the local standard day (midnight to midnight) at the monitor.', ()), SchemaField('units_of_measure', 'STRING', 'NULLABLE', 'The unit of measure for the parameter. QAD always returns data in the standard units for the parameter. Submitters are allowed to report data in any unit and EPA converts to a standard unit so that we may use the data in calculations.', ()), SchemaField('event_type', 'STRING', 'NULLABLE', 'Indicates whether data measured during exceptional events are included in the summary. A wildfire is an example of an exceptional event; it is something that affects air quality, but the local agency has no control over. No Events means no events occurred. Events Included means events occurred and the data from them is included in the summary. Events Excluded means that events occurred but data form them is excluded from the summary. Concurred Events Excluded means that events occurred but only EPA concurred exclusions are removed from the summary. If an event occurred for the parameter in question, the data will have multiple records for each monitor.', ()), SchemaField('observation_count', 'INTEGER', 'NULLABLE', 'The number of observations (samples) taken during the day.', ()), SchemaField('observation_percent', 'FLOAT', 'NULLABLE', 'The percent representing the number of observations taken with respect to the number scheduled to be taken during the day. This is only calculated for monitors where measurements are required (e.g., only certain parameters).', ()), SchemaField('arithmetic_mean', 'FLOAT', 'NULLABLE', 'The average (arithmetic mean) value for the day.', ()), SchemaField('first_max_value', 'FLOAT', 'NULLABLE', 'The highest value for the day.', ()), SchemaField('first_max_hour', 'INTEGER', 'NULLABLE', 'The hour (on a 24-hour clock) when the highest value for the day (the previous field) was taken.', ()), SchemaField('aqi', 'INTEGER', 'NULLABLE', 'The Air Quality Index for the day for the pollutant, if applicable.', ()), SchemaField('method_code', 'INTEGER', 'NULLABLE', 'An internal system code indicating the method (processes, equipment, and protocols) used in gathering and measuring the sample. The method name is in the next column.', ()), SchemaField('method_name', 'STRING', 'NULLABLE', 'A short description of the processes, equipment, and protocols used in gathering and measuring the sample.', ()), SchemaField('local_site_name', 'STRING', 'NULLABLE', 'The name of the site (if any) given by the State, local, or tribal air pollution control agency that operates it.', ()), SchemaField('address', 'STRING', 'NULLABLE', 'The approximate street address of the monitoring site.', ()), SchemaField('state_name', 'STRING', 'NULLABLE', 'The name of the state where the monitoring site is located.', ()), SchemaField('county_name', 'STRING', 'NULLABLE', 'The name of the county where the monitoring site is located.', ()), SchemaField('city_name', 'STRING', 'NULLABLE', 'The name of the city where the monitoring site is located. This represents the legal incorporated boundaries of cities and not urban areas.', ()), SchemaField('cbsa_name', 'STRING', 'NULLABLE', 'The name of the core bases statistical area (metropolitan area) where the monitoring site is located.', ()), SchemaField('date_of_last_change', 'DATE', 'NULLABLE', 'The date the last time any numeric values in this record were updated in the AQS data system.', ())]\n",
            "--------------------------------------------------\n",
            "temperature_daily_summary\n",
            "--------------------------------------------------\n",
            "[SchemaField('state_code', 'STRING', 'NULLABLE', 'The FIPS code of the state in which the monitor resides.', ()), SchemaField('county_code', 'STRING', 'NULLABLE', 'The FIPS code of the county in which the monitor resides.', ()), SchemaField('site_num', 'STRING', 'NULLABLE', 'A unique number within the county identifying the site.', ()), SchemaField('parameter_code', 'INTEGER', 'NULLABLE', 'The AQS code corresponding to the parameter measured by the monitor.', ()), SchemaField('poc', 'INTEGER', 'NULLABLE', 'This is the “Parameter Occurrence Code” used to distinguish different instruments that measure the same parameter at the same site.', ()), SchemaField('latitude', 'FLOAT', 'NULLABLE', 'The monitoring site’s angular distance north of the equator measured in decimal degrees.', ()), SchemaField('longitude', 'FLOAT', 'NULLABLE', 'The monitoring site’s angular distance east of the prime meridian measured in decimal degrees.', ()), SchemaField('datum', 'STRING', 'NULLABLE', 'The Datum associated with the Latitude and Longitude measures.', ()), SchemaField('parameter_name', 'STRING', 'NULLABLE', 'The name or description assigned in AQS to the parameter measured by the monitor. Parameters may be pollutants or non-pollutants.', ()), SchemaField('sample_duration', 'STRING', 'NULLABLE', 'The length of time that air passes through the monitoring device before it is analyzed (measured). So, it represents an averaging period in the atmosphere (for example, a 24-hour sample duration draws ambient air over a collection filter for 24 straight hours). For continuous monitors, it can represent an averaging time of many samples (for example, a 1-hour value may be the average of four one-minute samples collected during each quarter of the hour).', ()), SchemaField('pollutant_standard', 'STRING', 'NULLABLE', 'A description of the ambient air quality standard rules used to aggregate statistics. (See description at beginning of document.)', ()), SchemaField('date_local', 'DATE', 'NULLABLE', 'The calendar date for the summary. All daily summaries are for the local standard day (midnight to midnight) at the monitor.', ()), SchemaField('units_of_measure', 'STRING', 'NULLABLE', 'The unit of measure for the parameter. QAD always returns data in the standard units for the parameter. Submitters are allowed to report data in any unit and EPA converts to a standard unit so that we may use the data in calculations.', ()), SchemaField('event_type', 'STRING', 'NULLABLE', 'Indicates whether data measured during exceptional events are included in the summary. A wildfire is an example of an exceptional event; it is something that affects air quality, but the local agency has no control over. No Events means no events occurred. Events Included means events occurred and the data from them is included in the summary. Events Excluded means that events occurred but data form them is excluded from the summary. Concurred Events Excluded means that events occurred but only EPA concurred exclusions are removed from the summary. If an event occurred for the parameter in question, the data will have multiple records for each monitor.', ()), SchemaField('observation_count', 'INTEGER', 'NULLABLE', 'The number of observations (samples) taken during the day.', ()), SchemaField('observation_percent', 'FLOAT', 'NULLABLE', 'The percent representing the number of observations taken with respect to the number scheduled to be taken during the day. This is only calculated for monitors where measurements are required (e.g., only certain parameters).', ()), SchemaField('arithmetic_mean', 'FLOAT', 'NULLABLE', 'The average (arithmetic mean) value for the day.', ()), SchemaField('first_max_value', 'FLOAT', 'NULLABLE', 'The highest value for the day.', ()), SchemaField('first_max_hour', 'INTEGER', 'NULLABLE', 'The hour (on a 24-hour clock) when the highest value for the day (the previous field) was taken.', ()), SchemaField('aqi', 'INTEGER', 'NULLABLE', 'The Air Quality Index for the day for the pollutant, if applicable.', ()), SchemaField('method_code', 'INTEGER', 'NULLABLE', 'An internal system code indicating the method (processes, equipment, and protocols) used in gathering and measuring the sample. The method name is in the next column.', ()), SchemaField('method_name', 'STRING', 'NULLABLE', 'A short description of the processes, equipment, and protocols used in gathering and measuring the sample.', ()), SchemaField('local_site_name', 'STRING', 'NULLABLE', 'The name of the site (if any) given by the State, local, or tribal air pollution control agency that operates it.', ()), SchemaField('address', 'STRING', 'NULLABLE', 'The approximate street address of the monitoring site.', ()), SchemaField('state_name', 'STRING', 'NULLABLE', 'The name of the state where the monitoring site is located.', ()), SchemaField('county_name', 'STRING', 'NULLABLE', 'The name of the county where the monitoring site is located.', ()), SchemaField('city_name', 'STRING', 'NULLABLE', 'The name of the city where the monitoring site is located. This represents the legal incorporated boundaries of cities and not urban areas.', ()), SchemaField('cbsa_name', 'STRING', 'NULLABLE', 'The name of the core bases statistical area (metropolitan area) where the monitoring site is located.', ()), SchemaField('date_of_last_change', 'DATE', 'NULLABLE', 'The date the last time any numeric values in this record were updated in the AQS data system.', ())]\n",
            "--------------------------------------------------\n",
            "voc_daily_summary\n",
            "--------------------------------------------------\n",
            "[SchemaField('state_code', 'STRING', 'NULLABLE', 'The FIPS code of the state in which the monitor resides.', ()), SchemaField('county_code', 'STRING', 'NULLABLE', 'The FIPS code of the county in which the monitor resides.', ()), SchemaField('site_num', 'STRING', 'NULLABLE', 'A unique number within the county identifying the site.', ()), SchemaField('parameter_code', 'INTEGER', 'NULLABLE', 'The AQS code corresponding to the parameter measured by the monitor.', ()), SchemaField('poc', 'INTEGER', 'NULLABLE', 'This is the “Parameter Occurrence Code” used to distinguish different instruments that measure the same parameter at the same site.', ()), SchemaField('latitude', 'FLOAT', 'NULLABLE', 'The monitoring site’s angular distance north of the equator measured in decimal degrees.', ()), SchemaField('longitude', 'FLOAT', 'NULLABLE', 'The monitoring site’s angular distance east of the prime meridian measured in decimal degrees.', ()), SchemaField('datum', 'STRING', 'NULLABLE', 'The Datum associated with the Latitude and Longitude measures.', ()), SchemaField('parameter_name', 'STRING', 'NULLABLE', 'The name or description assigned in AQS to the parameter measured by the monitor. Parameters may be pollutants or non-pollutants.', ()), SchemaField('sample_duration', 'STRING', 'NULLABLE', 'The length of time that air passes through the monitoring device before it is analyzed (measured). So, it represents an averaging period in the atmosphere (for example, a 24-hour sample duration draws ambient air over a collection filter for 24 straight hours). For continuous monitors, it can represent an averaging time of many samples (for example, a 1-hour value may be the average of four one-minute samples collected during each quarter of the hour).', ()), SchemaField('pollutant_standard', 'STRING', 'NULLABLE', 'A description of the ambient air quality standard rules used to aggregate statistics. (See description at beginning of document.)', ()), SchemaField('date_local', 'DATE', 'NULLABLE', 'The calendar date for the summary. All daily summaries are for the local standard day (midnight to midnight) at the monitor.', ()), SchemaField('units_of_measure', 'STRING', 'NULLABLE', 'The unit of measure for the parameter. QAD always returns data in the standard units for the parameter. Submitters are allowed to report data in any unit and EPA converts to a standard unit so that we may use the data in calculations.', ()), SchemaField('event_type', 'STRING', 'NULLABLE', 'Indicates whether data measured during exceptional events are included in the summary. A wildfire is an example of an exceptional event; it is something that affects air quality, but the local agency has no control over. No Events means no events occurred. Events Included means events occurred and the data from them is included in the summary. Events Excluded means that events occurred but data form them is excluded from the summary. Concurred Events Excluded means that events occurred but only EPA concurred exclusions are removed from the summary. If an event occurred for the parameter in question, the data will have multiple records for each monitor.', ()), SchemaField('observation_count', 'INTEGER', 'NULLABLE', 'The number of observations (samples) taken during the day.', ()), SchemaField('observation_percent', 'FLOAT', 'NULLABLE', 'The percent representing the number of observations taken with respect to the number scheduled to be taken during the day. This is only calculated for monitors where measurements are required (e.g., only certain parameters).', ()), SchemaField('arithmetic_mean', 'FLOAT', 'NULLABLE', 'The average (arithmetic mean) value for the day.', ()), SchemaField('first_max_value', 'FLOAT', 'NULLABLE', 'The highest value for the day.', ()), SchemaField('first_max_hour', 'INTEGER', 'NULLABLE', 'The hour (on a 24-hour clock) when the highest value for the day (the previous field) was taken.', ()), SchemaField('aqi', 'INTEGER', 'NULLABLE', 'The Air Quality Index for the day for the pollutant, if applicable.', ()), SchemaField('method_code', 'INTEGER', 'NULLABLE', 'An internal system code indicating the method (processes, equipment, and protocols) used in gathering and measuring the sample. The method name is in the next column.', ()), SchemaField('method_name', 'STRING', 'NULLABLE', 'A short description of the processes, equipment, and protocols used in gathering and measuring the sample.', ()), SchemaField('local_site_name', 'STRING', 'NULLABLE', 'The name of the site (if any) given by the State, local, or tribal air pollution control agency that operates it.', ()), SchemaField('address', 'STRING', 'NULLABLE', 'The approximate street address of the monitoring site.', ()), SchemaField('state_name', 'STRING', 'NULLABLE', 'The name of the state where the monitoring site is located.', ()), SchemaField('county_name', 'STRING', 'NULLABLE', 'The name of the county where the monitoring site is located.', ()), SchemaField('city_name', 'STRING', 'NULLABLE', 'The name of the city where the monitoring site is located. This represents the legal incorporated boundaries of cities and not urban areas.', ()), SchemaField('cbsa_name', 'STRING', 'NULLABLE', 'The name of the core bases statistical area (metropolitan area) where the monitoring site is located.', ()), SchemaField('date_of_last_change', 'DATE', 'NULLABLE', 'The date the last time any numeric values in this record were updated in the AQS data system.', ())]\n",
            "--------------------------------------------------\n",
            "wind_daily_summary\n",
            "--------------------------------------------------\n",
            "[SchemaField('state_code', 'STRING', 'NULLABLE', 'The FIPS code of the state in which the monitor resides.', ()), SchemaField('county_code', 'STRING', 'NULLABLE', 'The FIPS code of the county in which the monitor resides.', ()), SchemaField('site_num', 'STRING', 'NULLABLE', 'A unique number within the county identifying the site.', ()), SchemaField('parameter_code', 'INTEGER', 'NULLABLE', 'The AQS code corresponding to the parameter measured by the monitor.', ()), SchemaField('poc', 'INTEGER', 'NULLABLE', 'This is the “Parameter Occurrence Code” used to distinguish different instruments that measure the same parameter at the same site.', ()), SchemaField('latitude', 'FLOAT', 'NULLABLE', 'The monitoring site’s angular distance north of the equator measured in decimal degrees.', ()), SchemaField('longitude', 'FLOAT', 'NULLABLE', 'The monitoring site’s angular distance east of the prime meridian measured in decimal degrees.', ()), SchemaField('datum', 'STRING', 'NULLABLE', 'The Datum associated with the Latitude and Longitude measures.', ()), SchemaField('parameter_name', 'STRING', 'NULLABLE', 'The name or description assigned in AQS to the parameter measured by the monitor. Parameters may be pollutants or non-pollutants.', ()), SchemaField('sample_duration', 'STRING', 'NULLABLE', 'The length of time that air passes through the monitoring device before it is analyzed (measured). So, it represents an averaging period in the atmosphere (for example, a 24-hour sample duration draws ambient air over a collection filter for 24 straight hours). For continuous monitors, it can represent an averaging time of many samples (for example, a 1-hour value may be the average of four one-minute samples collected during each quarter of the hour).', ()), SchemaField('pollutant_standard', 'STRING', 'NULLABLE', 'A description of the ambient air quality standard rules used to aggregate statistics. (See description at beginning of document.)', ()), SchemaField('date_local', 'DATE', 'NULLABLE', 'The calendar date for the summary. All daily summaries are for the local standard day (midnight to midnight) at the monitor.', ()), SchemaField('units_of_measure', 'STRING', 'NULLABLE', 'The unit of measure for the parameter. QAD always returns data in the standard units for the parameter. Submitters are allowed to report data in any unit and EPA converts to a standard unit so that we may use the data in calculations.', ()), SchemaField('event_type', 'STRING', 'NULLABLE', 'Indicates whether data measured during exceptional events are included in the summary. A wildfire is an example of an exceptional event; it is something that affects air quality, but the local agency has no control over. No Events means no events occurred. Events Included means events occurred and the data from them is included in the summary. Events Excluded means that events occurred but data form them is excluded from the summary. Concurred Events Excluded means that events occurred but only EPA concurred exclusions are removed from the summary. If an event occurred for the parameter in question, the data will have multiple records for each monitor.', ()), SchemaField('observation_count', 'INTEGER', 'NULLABLE', 'The number of observations (samples) taken during the day.', ()), SchemaField('observation_percent', 'FLOAT', 'NULLABLE', 'The percent representing the number of observations taken with respect to the number scheduled to be taken during the day. This is only calculated for monitors where measurements are required (e.g., only certain parameters).', ()), SchemaField('arithmetic_mean', 'FLOAT', 'NULLABLE', 'The average (arithmetic mean) value for the day.', ()), SchemaField('first_max_value', 'FLOAT', 'NULLABLE', 'The highest value for the day.', ()), SchemaField('first_max_hour', 'INTEGER', 'NULLABLE', 'The hour (on a 24-hour clock) when the highest value for the day (the previous field) was taken.', ()), SchemaField('aqi', 'INTEGER', 'NULLABLE', 'The Air Quality Index for the day for the pollutant, if applicable.', ()), SchemaField('method_code', 'INTEGER', 'NULLABLE', 'An internal system code indicating the method (processes, equipment, and protocols) used in gathering and measuring the sample. The method name is in the next column.', ()), SchemaField('method_name', 'STRING', 'NULLABLE', 'A short description of the processes, equipment, and protocols used in gathering and measuring the sample.', ()), SchemaField('local_site_name', 'STRING', 'NULLABLE', 'The name of the site (if any) given by the State, local, or tribal air pollution control agency that operates it.', ()), SchemaField('address', 'STRING', 'NULLABLE', 'The approximate street address of the monitoring site.', ()), SchemaField('state_name', 'STRING', 'NULLABLE', 'The name of the state where the monitoring site is located.', ()), SchemaField('county_name', 'STRING', 'NULLABLE', 'The name of the county where the monitoring site is located.', ()), SchemaField('city_name', 'STRING', 'NULLABLE', 'The name of the city where the monitoring site is located. This represents the legal incorporated boundaries of cities and not urban areas.', ()), SchemaField('cbsa_name', 'STRING', 'NULLABLE', 'The name of the core bases statistical area (metropolitan area) where the monitoring site is located.', ()), SchemaField('date_of_last_change', 'DATE', 'NULLABLE', 'The date the last time any numeric values in this record were updated in the AQS data system.', ())]\n"
          ]
        }
      ]
    },
    {
      "cell_type": "markdown",
      "metadata": {
        "id": "Cxm6WRtaTIbV"
      },
      "source": [
        "Confirmed that columns are the same for each table. This indicates that I can join the tables together on the same columns and summarize the data on the same columns and that I can easily UNION the results together from all tables into a single table for further analysis in a dataframe without having to hit the Big Query database. \n",
        "\n",
        "*Note: the data already comes in a summarized form. However the purpose of this exercise is to show that I can aggregate the detailed data so I will be doing the aggregation here using SQL.*"
      ]
    },
    {
      "cell_type": "markdown",
      "metadata": {
        "id": "4n20CXlyD8ZE"
      },
      "source": [
        "## Data Dictionary\n",
        "\n",
        "[EPA Site describing air quality measures](https://www.epa.gov/naaqs)\n",
        "\n",
        "### Air Quality\n",
        "\n",
        "- CO - Carbon Monoxide\n",
        "- HAP - Hazardous Air Pollutants - those pollutants that are known or suspected to cause cancer or other serious health effects. \n",
        "- Lead - \n",
        "- NO2 - Nitrogen Dioxide\n",
        "- [NoNoxNoy](https://www.aeroqual.com/meet-the-nitrogen-oxide-family) - \n",
        "  - Nitric oxide (NO)\n",
        "  - Oxides of nitrogen (NOx)\n",
        "  - Reactive oxides of nitrogen (NOy)\n",
        "- O3 - Ozone\n",
        "- PM10 - Particulate Matter 10 micrometers and smaller - also known as course dust.\n",
        "- PM25 - FRM Federal Reference Method vs. FEM Federal Equivalent Method\n",
        "  - PM25 frm - PM 2.5 micrometers and smaller - fine dust.\n",
        "  - PM25 nonfrm\n",
        "  - pm25 speciation\n",
        "- SO2 - Sulfer Dioxide\n",
        "- VOC - [Volatile Organic Compounds](https://www.epa.gov/indoor-air-quality-iaq/volatile-organic-compounds-impact-indoor-air-quality)\n",
        "\n",
        "### Weather\n",
        "\n",
        "- RH and DP - Relative Humidity and Dewpoint\n",
        "- Pressure\n",
        "- Temperature\n",
        "- Wind\n",
        "\n"
      ]
    },
    {
      "cell_type": "markdown",
      "metadata": {
        "id": "OEhbbWLoCUtd"
      },
      "source": [
        "## Query Data"
      ]
    },
    {
      "cell_type": "markdown",
      "metadata": {
        "id": "egv7o9ZYCsB_"
      },
      "source": [
        "### Question 1: What does the data look like?\n",
        "\n",
        "I needed to see what the data looked like so that I could decide what questions to formulate based on the data storage and availability."
      ]
    },
    {
      "cell_type": "code",
      "metadata": {
        "colab": {
          "base_uri": "https://localhost:8080/",
          "height": 80
        },
        "id": "ZSIcftBYAB8C",
        "outputId": "0b49ecaa-3b7f-4c8c-9728-9c1dbb0ef0b6"
      },
      "source": [
        "# Since there was a lot of data, I wanted to know what years were covered in the data\n",
        "# and the number of records per datum.\n",
        "query = f'''\n",
        "  SELECT MIN(date_local) as earliest_date, MAX(date_local) as latest_date\n",
        "  FROM {project_name}.{air_instance}.pm10_daily_summary\n",
        "'''\n",
        "df = client.query(query).to_dataframe()\n",
        "df"
      ],
      "execution_count": 17,
      "outputs": [
        {
          "output_type": "execute_result",
          "data": {
            "text/html": [
              "<div>\n",
              "<style scoped>\n",
              "    .dataframe tbody tr th:only-of-type {\n",
              "        vertical-align: middle;\n",
              "    }\n",
              "\n",
              "    .dataframe tbody tr th {\n",
              "        vertical-align: top;\n",
              "    }\n",
              "\n",
              "    .dataframe thead th {\n",
              "        text-align: right;\n",
              "    }\n",
              "</style>\n",
              "<table border=\"1\" class=\"dataframe\">\n",
              "  <thead>\n",
              "    <tr style=\"text-align: right;\">\n",
              "      <th></th>\n",
              "      <th>earliest_date</th>\n",
              "      <th>latest_date</th>\n",
              "    </tr>\n",
              "  </thead>\n",
              "  <tbody>\n",
              "    <tr>\n",
              "      <th>0</th>\n",
              "      <td>1990-01-01</td>\n",
              "      <td>2019-12-31</td>\n",
              "    </tr>\n",
              "  </tbody>\n",
              "</table>\n",
              "</div>"
            ],
            "text/plain": [
              "  earliest_date latest_date\n",
              "0    1990-01-01  2019-12-31"
            ]
          },
          "metadata": {},
          "execution_count": 17
        }
      ]
    },
    {
      "cell_type": "markdown",
      "metadata": {
        "id": "I1maZM18WDQ1"
      },
      "source": [
        "Provided data is for years 1990 through 2019."
      ]
    },
    {
      "cell_type": "code",
      "metadata": {
        "colab": {
          "base_uri": "https://localhost:8080/",
          "height": 142
        },
        "id": "YKvoVe0mIXeG",
        "outputId": "4b16c16f-cfd8-42d2-89c4-dae023854c88"
      },
      "source": [
        "# Seeing what categories were included in nonoxnoy.\n",
        "query = f'''\n",
        "  SELECT DISTINCT parameter_name \n",
        "  FROM {project_name}.{air_instance}.nonoxnoy_daily_summary\n",
        "'''\n",
        "df = client.query(query).to_dataframe()\n",
        "df"
      ],
      "execution_count": 18,
      "outputs": [
        {
          "output_type": "execute_result",
          "data": {
            "text/html": [
              "<div>\n",
              "<style scoped>\n",
              "    .dataframe tbody tr th:only-of-type {\n",
              "        vertical-align: middle;\n",
              "    }\n",
              "\n",
              "    .dataframe tbody tr th {\n",
              "        vertical-align: top;\n",
              "    }\n",
              "\n",
              "    .dataframe thead th {\n",
              "        text-align: right;\n",
              "    }\n",
              "</style>\n",
              "<table border=\"1\" class=\"dataframe\">\n",
              "  <thead>\n",
              "    <tr style=\"text-align: right;\">\n",
              "      <th></th>\n",
              "      <th>parameter_name</th>\n",
              "    </tr>\n",
              "  </thead>\n",
              "  <tbody>\n",
              "    <tr>\n",
              "      <th>0</th>\n",
              "      <td>Reactive oxides of nitrogen (NOy)</td>\n",
              "    </tr>\n",
              "    <tr>\n",
              "      <th>1</th>\n",
              "      <td>Nitric oxide (NO)</td>\n",
              "    </tr>\n",
              "    <tr>\n",
              "      <th>2</th>\n",
              "      <td>Oxides of nitrogen (NOx)</td>\n",
              "    </tr>\n",
              "  </tbody>\n",
              "</table>\n",
              "</div>"
            ],
            "text/plain": [
              "                      parameter_name\n",
              "0  Reactive oxides of nitrogen (NOy)\n",
              "1                  Nitric oxide (NO)\n",
              "2           Oxides of nitrogen (NOx)"
            ]
          },
          "metadata": {},
          "execution_count": 18
        }
      ]
    },
    {
      "cell_type": "markdown",
      "metadata": {
        "id": "5Nxu5C_qWIdv"
      },
      "source": [
        "The results show what parameters are in the nonoxnoy prefixed tables."
      ]
    },
    {
      "cell_type": "code",
      "metadata": {
        "colab": {
          "base_uri": "https://localhost:8080/",
          "height": 514
        },
        "id": "zpbfo6WVM3zZ",
        "outputId": "3c1b4173-98e9-4285-f332-71336b06e71d"
      },
      "source": [
        "# See how state code is stored. Get state code for New Mexico.\n",
        "# Used wildcard to pick up anything that ended with Mexico.\n",
        "# It was interesting to see that Mexico was in the data. hmmm. I thought this was only for the US.\n",
        "query = f'''\n",
        "  SELECT DISTINCT state_code, state_name, county_code, county_name, city_name  \n",
        "  FROM {project_name}.{air_instance}.co_daily_summary\n",
        "  WHERE state_name LIKE '%Mexico'\n",
        "  ORDER BY state_code, county_code\n",
        "  LIMIT 50\n",
        "'''\n",
        "df = client.query(query).to_dataframe()\n",
        "df"
      ],
      "execution_count": 25,
      "outputs": [
        {
          "output_type": "execute_result",
          "data": {
            "text/html": [
              "<div>\n",
              "<style scoped>\n",
              "    .dataframe tbody tr th:only-of-type {\n",
              "        vertical-align: middle;\n",
              "    }\n",
              "\n",
              "    .dataframe tbody tr th {\n",
              "        vertical-align: top;\n",
              "    }\n",
              "\n",
              "    .dataframe thead th {\n",
              "        text-align: right;\n",
              "    }\n",
              "</style>\n",
              "<table border=\"1\" class=\"dataframe\">\n",
              "  <thead>\n",
              "    <tr style=\"text-align: right;\">\n",
              "      <th></th>\n",
              "      <th>state_code</th>\n",
              "      <th>state_name</th>\n",
              "      <th>county_code</th>\n",
              "      <th>county_name</th>\n",
              "      <th>city_name</th>\n",
              "    </tr>\n",
              "  </thead>\n",
              "  <tbody>\n",
              "    <tr>\n",
              "      <th>0</th>\n",
              "      <td>35</td>\n",
              "      <td>New Mexico</td>\n",
              "      <td>001</td>\n",
              "      <td>Bernalillo</td>\n",
              "      <td>Albuquerque</td>\n",
              "    </tr>\n",
              "    <tr>\n",
              "      <th>1</th>\n",
              "      <td>35</td>\n",
              "      <td>New Mexico</td>\n",
              "      <td>001</td>\n",
              "      <td>Bernalillo</td>\n",
              "      <td>North Valley</td>\n",
              "    </tr>\n",
              "    <tr>\n",
              "      <th>2</th>\n",
              "      <td>35</td>\n",
              "      <td>New Mexico</td>\n",
              "      <td>001</td>\n",
              "      <td>Bernalillo</td>\n",
              "      <td>South Valley</td>\n",
              "    </tr>\n",
              "    <tr>\n",
              "      <th>3</th>\n",
              "      <td>35</td>\n",
              "      <td>New Mexico</td>\n",
              "      <td>001</td>\n",
              "      <td>Bernalillo</td>\n",
              "      <td>Not in a city</td>\n",
              "    </tr>\n",
              "    <tr>\n",
              "      <th>4</th>\n",
              "      <td>35</td>\n",
              "      <td>New Mexico</td>\n",
              "      <td>013</td>\n",
              "      <td>Dona Ana</td>\n",
              "      <td>Las Cruces</td>\n",
              "    </tr>\n",
              "    <tr>\n",
              "      <th>5</th>\n",
              "      <td>35</td>\n",
              "      <td>New Mexico</td>\n",
              "      <td>013</td>\n",
              "      <td>Dona Ana</td>\n",
              "      <td>Not in a city</td>\n",
              "    </tr>\n",
              "    <tr>\n",
              "      <th>6</th>\n",
              "      <td>35</td>\n",
              "      <td>New Mexico</td>\n",
              "      <td>043</td>\n",
              "      <td>Sandoval</td>\n",
              "      <td>Not in a city</td>\n",
              "    </tr>\n",
              "    <tr>\n",
              "      <th>7</th>\n",
              "      <td>35</td>\n",
              "      <td>New Mexico</td>\n",
              "      <td>043</td>\n",
              "      <td>Sandoval</td>\n",
              "      <td>Rio Rancho Estates</td>\n",
              "    </tr>\n",
              "    <tr>\n",
              "      <th>8</th>\n",
              "      <td>35</td>\n",
              "      <td>New Mexico</td>\n",
              "      <td>045</td>\n",
              "      <td>San Juan</td>\n",
              "      <td>Farmington</td>\n",
              "    </tr>\n",
              "    <tr>\n",
              "      <th>9</th>\n",
              "      <td>35</td>\n",
              "      <td>New Mexico</td>\n",
              "      <td>049</td>\n",
              "      <td>Santa Fe</td>\n",
              "      <td>Santa Fe</td>\n",
              "    </tr>\n",
              "    <tr>\n",
              "      <th>10</th>\n",
              "      <td>80</td>\n",
              "      <td>Country Of Mexico</td>\n",
              "      <td>002</td>\n",
              "      <td>BAJA CALIFORNIA NORTE</td>\n",
              "      <td>Tijuana</td>\n",
              "    </tr>\n",
              "    <tr>\n",
              "      <th>11</th>\n",
              "      <td>80</td>\n",
              "      <td>Country Of Mexico</td>\n",
              "      <td>002</td>\n",
              "      <td>BAJA CALIFORNIA NORTE</td>\n",
              "      <td>Mexicali</td>\n",
              "    </tr>\n",
              "    <tr>\n",
              "      <th>12</th>\n",
              "      <td>80</td>\n",
              "      <td>Country Of Mexico</td>\n",
              "      <td>002</td>\n",
              "      <td>BAJA CALIFORNIA NORTE</td>\n",
              "      <td>Rosarito</td>\n",
              "    </tr>\n",
              "    <tr>\n",
              "      <th>13</th>\n",
              "      <td>80</td>\n",
              "      <td>Country Of Mexico</td>\n",
              "      <td>006</td>\n",
              "      <td>CHIHUAHUA STATE</td>\n",
              "      <td>Ciudad-Juarez</td>\n",
              "    </tr>\n",
              "    <tr>\n",
              "      <th>14</th>\n",
              "      <td>80</td>\n",
              "      <td>Country Of Mexico</td>\n",
              "      <td>026</td>\n",
              "      <td>SONORA</td>\n",
              "      <td>Not in a city</td>\n",
              "    </tr>\n",
              "  </tbody>\n",
              "</table>\n",
              "</div>"
            ],
            "text/plain": [
              "   state_code         state_name  ...            county_name           city_name\n",
              "0          35         New Mexico  ...             Bernalillo         Albuquerque\n",
              "1          35         New Mexico  ...             Bernalillo        North Valley\n",
              "2          35         New Mexico  ...             Bernalillo        South Valley\n",
              "3          35         New Mexico  ...             Bernalillo       Not in a city\n",
              "4          35         New Mexico  ...               Dona Ana          Las Cruces\n",
              "5          35         New Mexico  ...               Dona Ana       Not in a city\n",
              "6          35         New Mexico  ...               Sandoval       Not in a city\n",
              "7          35         New Mexico  ...               Sandoval  Rio Rancho Estates\n",
              "8          35         New Mexico  ...               San Juan          Farmington\n",
              "9          35         New Mexico  ...               Santa Fe            Santa Fe\n",
              "10         80  Country Of Mexico  ...  BAJA CALIFORNIA NORTE             Tijuana\n",
              "11         80  Country Of Mexico  ...  BAJA CALIFORNIA NORTE            Mexicali\n",
              "12         80  Country Of Mexico  ...  BAJA CALIFORNIA NORTE            Rosarito\n",
              "13         80  Country Of Mexico  ...        CHIHUAHUA STATE       Ciudad-Juarez\n",
              "14         80  Country Of Mexico  ...                 SONORA       Not in a city\n",
              "\n",
              "[15 rows x 5 columns]"
            ]
          },
          "metadata": {},
          "execution_count": 25
        }
      ]
    },
    {
      "cell_type": "markdown",
      "metadata": {
        "id": "uIciVX4JWN0L"
      },
      "source": [
        "We see that New Mexico is FIPS state code 35 which can be used for faster querying. We also see that the country of Mexico is included in the results. This was unexpected because I thought the data was only for the US. It looks like the Mexico data only contains cities that are US neighbors."
      ]
    },
    {
      "cell_type": "code",
      "metadata": {
        "id": "KYehj0SDUqr5"
      },
      "source": [
        ""
      ],
      "execution_count": null,
      "outputs": []
    },
    {
      "cell_type": "markdown",
      "metadata": {
        "id": "kdwicCp9CyGC"
      },
      "source": [
        "### Question 2: What data do I want to explore?"
      ]
    },
    {
      "cell_type": "code",
      "metadata": {
        "id": "YWZEY0C1AslV"
      },
      "source": [
        ""
      ],
      "execution_count": null,
      "outputs": []
    },
    {
      "cell_type": "markdown",
      "metadata": {
        "id": "hlo2roYOBbll"
      },
      "source": [
        "# Traffic Fatalities\n",
        "\n",
        "May do this at some future date."
      ]
    },
    {
      "cell_type": "markdown",
      "metadata": {
        "id": "xnzL2R68BfuE"
      },
      "source": [
        "## Details\n",
        "\n",
        "[Data 360 - Traffic Safety Data Source](https://console.cloud.google.com/marketplace/product/dataflix-public-datasets/data-360-traffic-and-safety?project=ds-6-project-5)\n",
        "- multiple tables; each has incident data\n",
        "- unique key\n",
        "  - consecutive_number - which is the state code + case number\n",
        "- can join multiple events on unique key"
      ]
    },
    {
      "cell_type": "markdown",
      "metadata": {
        "id": "0eW9gb-XE2UH"
      },
      "source": [
        "## Skills Used\n",
        "\n",
        "--TODO fill this out"
      ]
    },
    {
      "cell_type": "code",
      "metadata": {
        "id": "-zmC1lpABgZT"
      },
      "source": [
        "# Cache instance and table name(s) so can change in one place if needed and will propagate to queries.\n",
        "traffic_instance = 'nhtsa_traffic_fatalities'\n",
        "traffic_table = ''"
      ],
      "execution_count": 12,
      "outputs": []
    },
    {
      "cell_type": "code",
      "metadata": {
        "colab": {
          "base_uri": "https://localhost:8080/"
        },
        "id": "rVNa-LD8MLiS",
        "outputId": "7f20f9f7-3ff7-498a-f546-788124ac71df"
      },
      "source": [
        "# Construct a reference to the \"covid19_google_mobility\" dataset\n",
        "# dataset_ref = client.dataset(\"covid19_geotab_mobility_impact\", project=\"bigquery-public-data\")\n",
        "dataset_ref = client.dataset(traffic_instance, project=project_name)\n",
        "\n",
        "# API request - fetch the dataset\n",
        "dataset = client.get_dataset(dataset_ref)\n",
        "\n",
        "# Get all the tables in the dataset\n",
        "tables = list(client.list_tables(dataset))\n",
        "\n",
        "# Print names of all tables in the dataset \n",
        "# After viewing full table list, I chose to take 2016 because it was the most recent year available.\n",
        "for table in tables: \n",
        "  if re.search('.2016', table.table_id):\n",
        "    print(table.table_id)"
      ],
      "execution_count": 26,
      "outputs": [
        {
          "output_type": "stream",
          "name": "stdout",
          "text": [
            "accident_2016\n",
            "cevent_2016\n",
            "damage_2016\n",
            "distract_2016\n",
            "drimpair_2016\n",
            "factor_2016\n",
            "maneuver_2016\n",
            "nmcrash_2016\n",
            "nmimpair_2016\n",
            "nmprior_2016\n",
            "parkwork_2016\n",
            "pbtype_2016\n",
            "person_2016\n",
            "safetyeq_2016\n",
            "vehicle_2016\n",
            "vevent_2016\n",
            "vindecode_2016\n",
            "violatn_2016\n",
            "vision_2016\n",
            "vsoe_2016\n"
          ]
        }
      ]
    }
  ]
}