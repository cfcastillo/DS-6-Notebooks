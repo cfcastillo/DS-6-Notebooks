{
  "nbformat": 4,
  "nbformat_minor": 0,
  "metadata": {
    "colab": {
      "name": "Project 6 - Notebook cfc.ipynb",
      "provenance": [],
      "collapsed_sections": [],
      "toc_visible": true,
      "authorship_tag": "ABX9TyOYEYmLj0lp7pQXD1xQF6aJ",
      "include_colab_link": true
    },
    "kernelspec": {
      "name": "python3",
      "display_name": "Python 3"
    },
    "language_info": {
      "name": "python"
    }
  },
  "cells": [
    {
      "cell_type": "markdown",
      "metadata": {
        "id": "view-in-github",
        "colab_type": "text"
      },
      "source": [
        "<a href=\"https://colab.research.google.com/github/cfcastillo/DS-6-Notebooks/blob/main/Project_6_Notebook_cfc.ipynb\" target=\"_parent\"><img src=\"https://colab.research.google.com/assets/colab-badge.svg\" alt=\"Open In Colab\"/></a>"
      ]
    },
    {
      "cell_type": "markdown",
      "metadata": {
        "id": "EIgtwWNlarYC"
      },
      "source": [
        "# Problem Definition\n",
        "\n",
        "The purpose of this project is to get familiar with Deep Learning by using pre-pickled data in conjunction with **blah blah blah** to analyze an animal image and classify the animal species.\n",
        "\n",
        "Pickling is the process of constructing (serializing) or deconstructing (de-serializing) an object into a binary/byte form. A pickled object contains the information needed to reconstruct the object later. Pickling can be used when transporting large amounts of data.\n",
        "\n",
        "This is a **binary classification** problem because our target will be a 1 or 0 to indicate if the image is a cat (1) or dog(0).\n",
        "\n"
      ]
    },
    {
      "cell_type": "markdown",
      "metadata": {
        "id": "j7j9Y4TDa5X2"
      },
      "source": [
        "# Data Collection"
      ]
    },
    {
      "cell_type": "markdown",
      "metadata": {
        "id": "1faCHIjobl8k"
      },
      "source": [
        "## Imports"
      ]
    },
    {
      "cell_type": "code",
      "metadata": {
        "id": "QfQPgzzSer2x"
      },
      "source": [
        "import tensorflow.keras as keras\n",
        "import tensorflow as tf\n",
        "import pandas as pd\n",
        "import numpy as np\n",
        "import pickle\n",
        "from PIL import Image #Python imaging library for importing an image\n",
        "import matplotlib.pyplot as plt\n",
        "import cv2\n",
        "from sklearn import datasets\n",
        "from keras.models import Sequential\n",
        "from keras.layers import Dense, Flatten, Conv2D, MaxPooling2D\n",
        "from sklearn.model_selection import train_test_split\n",
        "from sklearn.preprocessing import StandardScaler"
      ],
      "execution_count": 25,
      "outputs": []
    },
    {
      "cell_type": "markdown",
      "metadata": {
        "id": "kAuOuhJ1bpjX"
      },
      "source": [
        "## Load Data"
      ]
    },
    {
      "cell_type": "code",
      "metadata": {
        "id": "wNLKZBmwecoL",
        "colab": {
          "base_uri": "https://localhost:8080/"
        },
        "outputId": "93298e48-86f3-4581-c0d5-c36d96ffc958"
      },
      "source": [
        "# Mount Drive\n",
        "from google.colab import drive\n",
        "drive.mount('/drive')"
      ],
      "execution_count": 2,
      "outputs": [
        {
          "output_type": "stream",
          "name": "stdout",
          "text": [
            "Drive already mounted at /drive; to attempt to forcibly remount, call drive.mount(\"/drive\", force_remount=True).\n"
          ]
        }
      ]
    },
    {
      "cell_type": "code",
      "metadata": {
        "id": "0JyCSQUQed0o"
      },
      "source": [
        "# Load Data\n",
        "data_path = '/drive/My Drive/Cohort_6/Projects/Project 6/Data/'\n",
        "X_data_file = 'X.pickle'\n",
        "y_data_file = 'y.pickle'\n",
        "image_name = 'dog.jpg'\n",
        "\n",
        "# Read pickle data\n",
        "df_X_read = pickle.load(open(data_path + X_data_file, 'rb'))\n",
        "df_y_read = pickle.load(open(data_path + y_data_file, 'rb'))"
      ],
      "execution_count": 3,
      "outputs": []
    },
    {
      "cell_type": "code",
      "metadata": {
        "colab": {
          "base_uri": "https://localhost:8080/"
        },
        "id": "AOYZF97K3ZWD",
        "outputId": "b25219e4-a3cb-406b-9fe5-0729eaaef0c6"
      },
      "source": [
        "# See what data types we have after reading the pickle files\n",
        "# This was necessary after I failed to convert the data to a dataframe. I discovered\n",
        "# that I could not convert an n-dimension array where n > 2 to a dataframe.\n",
        "print(f'X type={type(df_X_read)}')\n",
        "print(f'y type={type(df_y_read)}')"
      ],
      "execution_count": 4,
      "outputs": [
        {
          "output_type": "stream",
          "name": "stdout",
          "text": [
            "X type=<class 'numpy.ndarray'>\n",
            "y type=<class 'list'>\n"
          ]
        }
      ]
    },
    {
      "cell_type": "code",
      "metadata": {
        "colab": {
          "base_uri": "https://localhost:8080/"
        },
        "id": "Gcn43ED-qlP0",
        "outputId": "9fe2f2f8-560f-4917-a647-6cdb555683cd"
      },
      "source": [
        "# Check dimensions on X because failed to convert to dataframe and wanted to know why.\n",
        "df_X_read.shape"
      ],
      "execution_count": 5,
      "outputs": [
        {
          "output_type": "execute_result",
          "data": {
            "text/plain": [
              "(24946, 100, 100, 1)"
            ]
          },
          "metadata": {},
          "execution_count": 5
        }
      ]
    },
    {
      "cell_type": "markdown",
      "metadata": {
        "id": "7JkGem0Ha7fU"
      },
      "source": [
        "# Data Cleaning"
      ]
    },
    {
      "cell_type": "code",
      "metadata": {
        "colab": {
          "base_uri": "https://localhost:8080/"
        },
        "id": "b2EAinqbnWdY",
        "outputId": "16f685ae-fb11-46c8-97fa-c22df04b12f0"
      },
      "source": [
        "# Look at some values. Confirmed values fall between 0 and 255 \n",
        "# because... a byte can contain decimal values from 0 to 255 = 2^8\n",
        "print(f'max X = {df_X_read.min()}')\n",
        "print(f'min X = {df_X_read.max()}')"
      ],
      "execution_count": 6,
      "outputs": [
        {
          "output_type": "stream",
          "name": "stdout",
          "text": [
            "max X = 0\n",
            "min X = 255\n"
          ]
        }
      ]
    },
    {
      "cell_type": "code",
      "metadata": {
        "id": "LKiNezNxo3CQ"
      },
      "source": [
        "# Scale the values to contain values from 0 to 1 by dividing by 255\n",
        "df_X_scaled = df_X_read / 255"
      ],
      "execution_count": 7,
      "outputs": []
    },
    {
      "cell_type": "code",
      "metadata": {
        "colab": {
          "base_uri": "https://localhost:8080/"
        },
        "id": "r0Rj5cNSpIfa",
        "outputId": "2566f2a9-3fc9-453d-930f-6ee6d343f001"
      },
      "source": [
        "# Look at some values. Confirm values now fall between 0 and 1\n",
        "print(f'scaled max X = {df_X_scaled.min()}')\n",
        "print(f'scaled min X = {df_X_scaled.max()}')"
      ],
      "execution_count": 8,
      "outputs": [
        {
          "output_type": "stream",
          "name": "stdout",
          "text": [
            "scaled max X = 0.0\n",
            "scaled min X = 1.0\n"
          ]
        }
      ]
    },
    {
      "cell_type": "code",
      "metadata": {
        "colab": {
          "base_uri": "https://localhost:8080/"
        },
        "id": "eoqgJmtjrNEK",
        "outputId": "2b5c36dd-463f-493e-f937-aaa3e63e4e5c"
      },
      "source": [
        "# Convert y from list to numpy array so can be fit to model\n",
        "df_y = np.array(df_y_read)\n",
        "print(f'y type={type(df_y)}')"
      ],
      "execution_count": 9,
      "outputs": [
        {
          "output_type": "stream",
          "name": "stdout",
          "text": [
            "y type=<class 'numpy.ndarray'>\n"
          ]
        }
      ]
    },
    {
      "cell_type": "markdown",
      "metadata": {
        "id": "o8EipOm6a-Hj"
      },
      "source": [
        "# Exploratory Data Analysis (EDA)\n",
        "\n",
        "We have a 4 dimensional array. The dimensions are as follows#\n",
        "\n",
        "- 2 dimensions give you black and white\n",
        "- 3 dimensions give you color\n",
        "- 4th dimension is over time - the volume.\n",
        "\n",
        "Our data has one volume, so we need to slice out the 4th dimension to get the image data into a 3 dimensional format needed by imshow."
      ]
    },
    {
      "cell_type": "code",
      "metadata": {
        "colab": {
          "base_uri": "https://localhost:8080/"
        },
        "id": "PB41UZd5k3pc",
        "outputId": "e62b6f8e-4ec4-4998-85b5-4067f3b234f1"
      },
      "source": [
        "# Check dimensions on arrays. Confirm X has 4 dimensions.\n",
        "# We have 24946 images that are 100x100 pixels.\n",
        "df_X_scaled.shape"
      ],
      "execution_count": 10,
      "outputs": [
        {
          "output_type": "execute_result",
          "data": {
            "text/plain": [
              "(24946, 100, 100, 1)"
            ]
          },
          "metadata": {},
          "execution_count": 10
        }
      ]
    },
    {
      "cell_type": "code",
      "metadata": {
        "colab": {
          "base_uri": "https://localhost:8080/"
        },
        "id": "arapb7ly-rHX",
        "outputId": "dff8359b-9319-4c46-cc2b-70358990cf54"
      },
      "source": [
        "df_y.shape"
      ],
      "execution_count": 11,
      "outputs": [
        {
          "output_type": "execute_result",
          "data": {
            "text/plain": [
              "(24946,)"
            ]
          },
          "metadata": {},
          "execution_count": 11
        }
      ]
    },
    {
      "cell_type": "markdown",
      "metadata": {
        "id": "t22VpJSwvKQh"
      },
      "source": [
        "[Link to using imshow plotting tool](https://matplotlib.org/stable/api/_as_gen/matplotlib.pyplot.imshow.html)\n",
        "\n",
        "[And another...](https://www.pythonpool.com/matplotlib-imshow/)\n",
        "\n",
        "[Plotting 4 dimensional images](https://bic-berkeley.github.io/psych-214-fall-2016/intro_to_4d.html)"
      ]
    },
    {
      "cell_type": "code",
      "metadata": {
        "id": "LsVRYS2mq_fZ"
      },
      "source": [
        "# Visualize one of the scaled images\n",
        "# 2-dimensional arrays are black and white\n",
        "# 3-dimensional arrays are color\n",
        "\n",
        "# slice to get only the first 3 dimensions.\n",
        "df_X_images = df_X_scaled[:,:,:,0]"
      ],
      "execution_count": 12,
      "outputs": []
    },
    {
      "cell_type": "code",
      "metadata": {
        "colab": {
          "base_uri": "https://localhost:8080/",
          "height": 285
        },
        "id": "00w7mggP0_Mp",
        "outputId": "d77b7912-6ca2-4d1a-eeeb-f95c35c6a875"
      },
      "source": [
        "# show the image and look at the response value\n",
        "img_index = 24000\n",
        "plt.imshow(df_X_images[img_index], cmap=plt.cm.pink)\n",
        "# plt.imshow(cv2.cvtColor(img[img_index], cv2.COLOR_BGR2RGB))\n",
        "plt.show()\n",
        "\n",
        "# look at response value to see if it agrees with what we see\n",
        "# 1 - cat\n",
        "# 0 - dog\n",
        "print(f'cat(1) or dog(0) = {df_y[img_index]}')\n"
      ],
      "execution_count": 13,
      "outputs": [
        {
          "output_type": "display_data",
          "data": {
            "image/png": "[encoded data removed]",
            "text/plain": [
              "<Figure size 432x288 with 1 Axes>"
            ]
          },
          "metadata": {
            "needs_background": "light"
          }
        },
        {
          "output_type": "stream",
          "name": "stdout",
          "text": [
            "cat(1) or dog(0) = 1\n"
          ]
        }
      ]
    },
    {
      "cell_type": "markdown",
      "metadata": {
        "id": "XWIu3QoB2OWJ"
      },
      "source": [
        "## Colors?\n",
        "\n",
        "The natural colors from the image without any manipulation are turquoise/blue. I experimented with other color palettes. Anything in the monochrome range returned inverse colors. \"pink\" looked somewhat natural.\n",
        "\n",
        "I would need to explore how to use color mapping to display the true image colors."
      ]
    },
    {
      "cell_type": "markdown",
      "metadata": {
        "id": "n2pVtkyHbAuB"
      },
      "source": [
        "# Processing"
      ]
    },
    {
      "cell_type": "markdown",
      "metadata": {
        "id": "gbFx1RPW9PUH"
      },
      "source": [
        "## Create test and training sets"
      ]
    },
    {
      "cell_type": "code",
      "metadata": {
        "id": "RaVpS6kS8T0-"
      },
      "source": [
        "# Create training and testing data sets\n",
        "X_train, X_test, y_train, y_test = train_test_split(df_X_scaled, df_y, test_size=0.30, random_state=42)"
      ],
      "execution_count": 14,
      "outputs": []
    },
    {
      "cell_type": "code",
      "metadata": {
        "colab": {
          "base_uri": "https://localhost:8080/"
        },
        "id": "Hz43IVHJwVMW",
        "outputId": "3ecea62d-a269-43bb-d937-9e7a646e9a6c"
      },
      "source": [
        "X_train.shape"
      ],
      "execution_count": 15,
      "outputs": [
        {
          "output_type": "execute_result",
          "data": {
            "text/plain": [
              "(17462, 100, 100, 1)"
            ]
          },
          "metadata": {},
          "execution_count": 15
        }
      ]
    },
    {
      "cell_type": "code",
      "metadata": {
        "colab": {
          "base_uri": "https://localhost:8080/"
        },
        "id": "a1Ov-WCywbQg",
        "outputId": "bd47af25-bc2f-4867-d6d3-8b9b6ca2e9ed"
      },
      "source": [
        "X_test.shape"
      ],
      "execution_count": 16,
      "outputs": [
        {
          "output_type": "execute_result",
          "data": {
            "text/plain": [
              "(7484, 100, 100, 1)"
            ]
          },
          "metadata": {},
          "execution_count": 16
        }
      ]
    },
    {
      "cell_type": "code",
      "metadata": {
        "colab": {
          "base_uri": "https://localhost:8080/"
        },
        "id": "SC1ALDVEwfOr",
        "outputId": "eb7e658c-4ede-4efe-c9fc-bb5999fea1be"
      },
      "source": [
        "y_train.shape"
      ],
      "execution_count": 17,
      "outputs": [
        {
          "output_type": "execute_result",
          "data": {
            "text/plain": [
              "(17462,)"
            ]
          },
          "metadata": {},
          "execution_count": 17
        }
      ]
    },
    {
      "cell_type": "code",
      "metadata": {
        "colab": {
          "base_uri": "https://localhost:8080/"
        },
        "id": "8oYk6x9kwg09",
        "outputId": "a264cdb8-033c-4230-902d-b8efbbcfcf65"
      },
      "source": [
        "y_test.shape"
      ],
      "execution_count": 18,
      "outputs": [
        {
          "output_type": "execute_result",
          "data": {
            "text/plain": [
              "(7484,)"
            ]
          },
          "metadata": {},
          "execution_count": 18
        }
      ]
    },
    {
      "cell_type": "code",
      "metadata": {
        "colab": {
          "base_uri": "https://localhost:8080/"
        },
        "id": "11mEbEpWw2_N",
        "outputId": "7990d769-8c68-4a44-c0d8-36ce516ffb32"
      },
      "source": [
        "X_train.shape[1:]"
      ],
      "execution_count": 19,
      "outputs": [
        {
          "output_type": "execute_result",
          "data": {
            "text/plain": [
              "(100, 100, 1)"
            ]
          },
          "metadata": {},
          "execution_count": 19
        }
      ]
    },
    {
      "cell_type": "markdown",
      "metadata": {
        "id": "8WPjbxsK9Buq"
      },
      "source": [
        "## Build neural network\n",
        "\n",
        "Build a neural network with the following: \n",
        "1. Sequential layers\n",
        "1. At least two 2D convolutional layers using the ‘relu’ activation function and a (3,3) kernel size. \n",
        "1. A MaxPooling2D layer after each 2D convolutional layer that has a pool size of (2,2). \n",
        "1. A dense output layer using the ‘sigmoid’ activation function. \n",
        "\n",
        "\n",
        "[Tensorflow documentation on how to do convolutional](https://www.tensorflow.org/tutorials/images/cnn)\n",
        "\n",
        "[Another site describing how to add convolutional layers and how to choose parameters](https://www.pyimagesearch.com/2018/12/31/keras-conv2d-and-convolutional-layers/)\n"
      ]
    },
    {
      "cell_type": "code",
      "metadata": {
        "id": "vI5K5O688y3g"
      },
      "source": [
        "# Initialize model type\n",
        "model = Sequential()\n",
        "\n",
        "# first layer - 100,100 is shape size. 3 is for rgb color channel.\n",
        "# input_shape(height, width, color channels) --> sliced X_train to get the last 3 dimensions for the input_shape.\n",
        "\n",
        "# define layer 1\n",
        "model.add(Conv2D(filters=32, kernel_size=(3,3), activation='relu', input_shape=X_train.shape[1:]))\n",
        "model.add(MaxPooling2D(pool_size=(2,2)))\n",
        "# define layer 2\n",
        "model.add(Conv2D(filters=64, kernel_size=(3,3), activation='relu'))\n",
        "model.add(MaxPooling2D(pool_size=(2,2)))\n",
        "# define layer 3\n",
        "model.add(Conv2D(filters=128, kernel_size=(3,3), activation='relu'))\n",
        "model.add(MaxPooling2D(pool_size=(2,2)))\n",
        "# flatten for output layer - this has something to do with labels.\n",
        "model.add(Flatten())\n",
        "# define output layer\n",
        "# Dense first parameter is 1 neuron because it is a binary classification problem.\n",
        "model.add(Dense(1, activation='sigmoid'))\n"
      ],
      "execution_count": 20,
      "outputs": []
    },
    {
      "cell_type": "markdown",
      "metadata": {
        "id": "wonS0HVs9Ycy"
      },
      "source": [
        "## Compile model\n",
        "\n",
        "Use the ‘adam’ optimizer. Determine which loss function and metric is most appropriate for this problem.\n",
        "\n",
        "### Loss function selection\n",
        "\n",
        "[How to choose a loss function](https://neptune.ai/blog/keras-loss-functions)\n",
        "\n",
        "[Keras loss functions](https://keras.io/api/losses/)\n",
        "\n",
        "### Metrics parameter selection\n",
        "\n",
        "[How to choose a metrics function](https://neptune.ai/blog/keras-metrics)\n",
        "\n",
        "[Keras metrics functions](https://keras.io/api/metrics/)\n"
      ]
    },
    {
      "cell_type": "code",
      "metadata": {
        "id": "SNJKdsMjDbYN"
      },
      "source": [
        "# model.compile(optimizer='adam', loss='binary_crossentropy', metrics=['binary_accuracy'])\n",
        "model.compile(optimizer='adam', loss='binary_crossentropy', metrics=['accuracy'])"
      ],
      "execution_count": 21,
      "outputs": []
    },
    {
      "cell_type": "markdown",
      "metadata": {
        "id": "WvhynEbPqT9b"
      },
      "source": [
        "## Fit Model"
      ]
    },
    {
      "cell_type": "code",
      "metadata": {
        "colab": {
          "base_uri": "https://localhost:8080/"
        },
        "id": "xL9CGWCVqQsc",
        "outputId": "3ad91a11-bf60-4d4c-d1ae-d6e91521f509"
      },
      "source": [
        "# Can add epochs if needed to improve model.\n",
        "epochs = 10\n",
        "model.fit(X_train, y_train, epochs=epochs)"
      ],
      "execution_count": 22,
      "outputs": [
        {
          "output_type": "stream",
          "name": "stdout",
          "text": [
            "Epoch 1/10\n",
            "546/546 [==============================] - 273s 498ms/step - loss: 0.6171 - accuracy: 0.6490\n",
            "Epoch 2/10\n",
            "546/546 [==============================] - 269s 494ms/step - loss: 0.4876 - accuracy: 0.7662\n",
            "Epoch 3/10\n",
            "546/546 [==============================] - 270s 494ms/step - loss: 0.4293 - accuracy: 0.8011\n",
            "Epoch 4/10\n",
            "546/546 [==============================] - 270s 495ms/step - loss: 0.3767 - accuracy: 0.8330\n",
            "Epoch 5/10\n",
            "546/546 [==============================] - 270s 495ms/step - loss: 0.3340 - accuracy: 0.8539\n",
            "Epoch 6/10\n",
            "546/546 [==============================] - 269s 492ms/step - loss: 0.2881 - accuracy: 0.8782\n",
            "Epoch 7/10\n",
            "546/546 [==============================] - 271s 496ms/step - loss: 0.2536 - accuracy: 0.8930\n",
            "Epoch 8/10\n",
            "546/546 [==============================] - 271s 496ms/step - loss: 0.2180 - accuracy: 0.9112\n",
            "Epoch 9/10\n",
            "546/546 [==============================] - 271s 497ms/step - loss: 0.1869 - accuracy: 0.9238\n",
            "Epoch 10/10\n",
            "546/546 [==============================] - 271s 497ms/step - loss: 0.1485 - accuracy: 0.9423\n"
          ]
        },
        {
          "output_type": "execute_result",
          "data": {
            "text/plain": [
              "<keras.callbacks.History at 0x7fa5c4f50ad0>"
            ]
          },
          "metadata": {},
          "execution_count": 22
        }
      ]
    },
    {
      "cell_type": "markdown",
      "metadata": {
        "id": "uvPifObjqXUb"
      },
      "source": [
        "## Evaluate Model"
      ]
    },
    {
      "cell_type": "code",
      "metadata": {
        "colab": {
          "base_uri": "https://localhost:8080/"
        },
        "id": "A8xncUsZqrUW",
        "outputId": "3fb9fdbe-7013-476f-f404-19823a639dc4"
      },
      "source": [
        "val_loss, val_acc = model.evaluate(X_test, y_test)\n",
        "val_acc"
      ],
      "execution_count": 23,
      "outputs": [
        {
          "output_type": "stream",
          "name": "stdout",
          "text": [
            "234/234 [==============================] - 33s 138ms/step - loss: 0.3943 - accuracy: 0.8489\n"
          ]
        },
        {
          "output_type": "execute_result",
          "data": {
            "text/plain": [
              "0.8488776087760925"
            ]
          },
          "metadata": {},
          "execution_count": 23
        }
      ]
    },
    {
      "cell_type": "markdown",
      "metadata": {
        "id": "9mvYjzCKFOM7"
      },
      "source": [
        "## Testing Model with Imported Image\n",
        "\n",
        "1. Define a function that will read in a new image and convert it to a 4 dimensional array of pixels.\n",
        "1. Use the function defined above to read in the dog.jpg image that is saved in the Project 6/Data folder.\n",
        "1. Use the neural network you created to predict whether the image is a dog or a cat.\n",
        "\n",
        "**BONUS** Repeat above steps using photo of family pet.\n",
        "\n",
        "[How to work with images in Python](https://www.geeksforgeeks.org/working-images-python/)"
      ]
    },
    {
      "cell_type": "code",
      "metadata": {
        "id": "WfzpgKdXFQgP"
      },
      "source": [
        "def image_to_array(file_name):\n",
        "  # retrieve image file\n",
        "  img = Image.open(file_name)\n",
        "  \n",
        "  # retrieve and print file details\n",
        "  width, height = img.size\n",
        "  mode = img.mode\n",
        "  format = img.format\n",
        "  # print(f'width={width}; height={height}; mode={mode}; format={format}')\n",
        "\n",
        "  # model based on 100x100 size images so convert to this size.\n",
        "  img = img.resize((100,100))\n",
        "  width, height = img.size\n",
        "  # print(f'new width={width}; new height={height}')\n",
        "\n",
        "  # convert image to numpy array\n",
        "  data = np.asarray(img)\n",
        "\n",
        "  # scale the image\n",
        "  data_scaled = data/255\n",
        "\n",
        "  # make 4 dimensional array\n",
        "  # TODO: I am pretty sure I am doing this rescaling incorrectly. I had to hard wire 3 for the first dim and 1 for the last.\n",
        "  data_4dim = data_scaled.reshape(4, data_scaled.shape[0],data_scaled.shape[1], 1)\n",
        "\n",
        "  return data_4dim"
      ],
      "execution_count": 98,
      "outputs": []
    },
    {
      "cell_type": "code",
      "metadata": {
        "colab": {
          "base_uri": "https://localhost:8080/"
        },
        "id": "IYo3yvHnJQ6x",
        "outputId": "1669653a-c51a-48f8-cf6f-14aa7494c9fe"
      },
      "source": [
        "# dog image provided by instructor\n",
        "# Run the image through the model and see the result. Should be 1 for cat or 0 for dog.\n",
        "prediction = model.predict(image_to_array(data_path + image_name))\n",
        "print(prediction)\n",
        "print(f'prediction is {np.argmax(prediction)}')"
      ],
      "execution_count": 88,
      "outputs": [
        {
          "output_type": "stream",
          "name": "stdout",
          "text": [
            "[[0.82546985]\n",
            " [0.5301129 ]\n",
            " [0.30595595]]\n",
            "prediction is 0\n"
          ]
        }
      ]
    },
    {
      "cell_type": "code",
      "metadata": {
        "colab": {
          "base_uri": "https://localhost:8080/"
        },
        "id": "himdYD_9VT54",
        "outputId": "9851ada1-3928-4755-8610-a3f5ed783911"
      },
      "source": [
        "# cat image provided by me\n",
        "# Run the image through the model and see the result. Should be 1 for cat or 0 for dog.\n",
        "my_file = '/drive/MyDrive/Student Folder - Cecilia/Projects/Project 6 - Deep Learning/Daisy.png'\n",
        "\n",
        "prediction = model.predict(image_to_array(my_file))\n",
        "print(prediction)\n",
        "print(f'prediction is {np.argmax(prediction)}')\n",
        "# image_to_array(my_file)"
      ],
      "execution_count": 99,
      "outputs": [
        {
          "output_type": "stream",
          "name": "stdout",
          "text": [
            "[[0.9579104 ]\n",
            " [0.995417  ]\n",
            " [0.99713266]\n",
            " [0.9959583 ]]\n",
            "prediction is 2\n"
          ]
        }
      ]
    },
    {
      "cell_type": "markdown",
      "metadata": {
        "id": "rdxbp9k_bChz"
      },
      "source": [
        "# Communicate Results"
      ]
    }
  ]
}