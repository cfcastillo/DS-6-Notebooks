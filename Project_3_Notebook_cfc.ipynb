{
  "nbformat": 4,
  "nbformat_minor": 0,
  "metadata": {
    "colab": {
      "name": "Project 3 - Notebook cfc.ipynb",
      "provenance": [],
      "collapsed_sections": [],
      "toc_visible": true,
      "mount_file_id": "1_JDPpP9Jt8L6RI189JxAsYMd2x2kw_1n",
      "authorship_tag": "ABX9TyOstFiKE5+nN9jh1D6Xt44o",
      "include_colab_link": true
    },
    "kernelspec": {
      "display_name": "Python 3",
      "name": "python3"
    },
    "language_info": {
      "name": "python"
    }
  },
  "cells": [
    {
      "cell_type": "markdown",
      "metadata": {
        "id": "view-in-github",
        "colab_type": "text"
      },
      "source": [
        "<a href=\"https://colab.research.google.com/github/cfcastillo/DS-6-Notebooks/blob/main/Project_3_Notebook_cfc.ipynb\" target=\"_parent\"><img src=\"https://colab.research.google.com/assets/colab-badge.svg\" alt=\"Open In Colab\"/></a>"
      ]
    },
    {
      "cell_type": "markdown",
      "metadata": {
        "id": "EIgtwWNlarYC"
      },
      "source": [
        "# Problem Definition\n",
        "\n",
        "The purpose of this project is to predict **new song popularity** (target) based on data features (variables) collected for songs that have been on the top 200 Weekly Global charts of Spotify in 2020 and 2021. [Project details](https://docs.google.com/document/d/1v73i9PjBgqlaW6YMCd76MYSc96q2fqNv/edit)\n",
        "\n",
        "This is a **supervised regression** problem.\n",
        "\n",
        "**Goals**\n",
        "\n",
        "* To Minimize the cross-validated root mean squared error (RMSE) around 10.\n",
        "* To determine the importance of the features in driving the regression result.\n",
        "* To choose parameters that will avoid over-fitting in the result.\n",
        "\n",
        "**Methodology**\n",
        "\n",
        "The project will be done using tree-based regression techniques."
      ]
    },
    {
      "cell_type": "markdown",
      "metadata": {
        "id": "j7j9Y4TDa5X2"
      },
      "source": [
        "# Data Collection\n",
        "\n",
        "The dataset includes all songs that have been on the Top 200 Weekly (Global) charts of Spotify in 2020 and 2021. Below, is a link to the data description.\n",
        "\n",
        "[Data Description](https://docs.google.com/document/d/14xiF2TXOGvbMbf5sxYQAwtXDlfrdPh_hxmeDHGCMH0E/edit)"
      ]
    },
    {
      "cell_type": "markdown",
      "metadata": {
        "id": "1faCHIjobl8k"
      },
      "source": [
        "## Imports"
      ]
    },
    {
      "cell_type": "code",
      "metadata": {
        "id": "QfQPgzzSer2x"
      },
      "source": [
        "# grab the imports needed for the project\n",
        "import pandas as pd\n",
        "import matplotlib.pyplot as plt\n",
        "import numpy as np\n",
        "import seaborn as sns\n",
        "import statsmodels.api as sm\n",
        "\n",
        "# all\n",
        "from sklearn import datasets\n",
        "from sklearn import metrics\n",
        "from sklearn import preprocessing\n",
        "from sklearn.preprocessing import LabelEncoder\n",
        "from sklearn.preprocessing import MultiLabelBinarizer\n",
        "from sklearn.metrics import classification_report\n",
        "import sklearn.model_selection as model_selection\n",
        "\n",
        "# Regression\n",
        "from sklearn.linear_model import LinearRegression\n",
        "from sklearn.tree import DecisionTreeRegressor \n",
        "from sklearn.ensemble import RandomForestRegressor\n",
        "import xgboost as xgb\n",
        "from sklearn.model_selection import GridSearchCV\n",
        "from sklearn.model_selection import train_test_split\n",
        "from sklearn.model_selection import cross_val_score\n",
        "from sklearn.metrics import mean_squared_error\n",
        "from sklearn.metrics import r2_score\n",
        "from sklearn.metrics import accuracy_score\n",
        "from sklearn import metrics  \n",
        "\n",
        "# Visualization\n",
        "import graphviz\n",
        "from IPython.display import display\n",
        "from sklearn import tree\n"
      ],
      "execution_count": null,
      "outputs": []
    },
    {
      "cell_type": "code",
      "metadata": {
        "id": "a6RBlJ4hpx73",
        "colab": {
          "base_uri": "https://localhost:8080/"
        },
        "outputId": "1efc79e9-0606-4de1-8ed8-b4da9c2f4884"
      },
      "source": [
        "# Installs\n",
        "!pip3 install dtreeviz\n",
        "from dtreeviz.trees import dtreeviz"
      ],
      "execution_count": null,
      "outputs": [
        {
          "output_type": "stream",
          "name": "stdout",
          "text": [
            "Requirement already satisfied: dtreeviz in /usr/local/lib/python3.7/dist-packages (1.3.1)\n",
            "Requirement already satisfied: graphviz>=0.9 in /usr/local/lib/python3.7/dist-packages (from dtreeviz) (0.10.1)\n",
            "Requirement already satisfied: pytest in /usr/local/lib/python3.7/dist-packages (from dtreeviz) (3.6.4)\n",
            "Requirement already satisfied: pandas in /usr/local/lib/python3.7/dist-packages (from dtreeviz) (1.1.5)\n",
            "Requirement already satisfied: matplotlib in /usr/local/lib/python3.7/dist-packages (from dtreeviz) (3.2.2)\n",
            "Requirement already satisfied: numpy in /usr/local/lib/python3.7/dist-packages (from dtreeviz) (1.19.5)\n",
            "Requirement already satisfied: scikit-learn in /usr/local/lib/python3.7/dist-packages (from dtreeviz) (0.22.2.post1)\n",
            "Requirement already satisfied: colour in /usr/local/lib/python3.7/dist-packages (from dtreeviz) (0.1.5)\n",
            "Requirement already satisfied: python-dateutil>=2.1 in /usr/local/lib/python3.7/dist-packages (from matplotlib->dtreeviz) (2.8.2)\n",
            "Requirement already satisfied: kiwisolver>=1.0.1 in /usr/local/lib/python3.7/dist-packages (from matplotlib->dtreeviz) (1.3.2)\n",
            "Requirement already satisfied: pyparsing!=2.0.4,!=2.1.2,!=2.1.6,>=2.0.1 in /usr/local/lib/python3.7/dist-packages (from matplotlib->dtreeviz) (2.4.7)\n",
            "Requirement already satisfied: cycler>=0.10 in /usr/local/lib/python3.7/dist-packages (from matplotlib->dtreeviz) (0.10.0)\n",
            "Requirement already satisfied: six in /usr/local/lib/python3.7/dist-packages (from cycler>=0.10->matplotlib->dtreeviz) (1.15.0)\n",
            "Requirement already satisfied: pytz>=2017.2 in /usr/local/lib/python3.7/dist-packages (from pandas->dtreeviz) (2018.9)\n",
            "Requirement already satisfied: setuptools in /usr/local/lib/python3.7/dist-packages (from pytest->dtreeviz) (57.4.0)\n",
            "Requirement already satisfied: pluggy<0.8,>=0.5 in /usr/local/lib/python3.7/dist-packages (from pytest->dtreeviz) (0.7.1)\n",
            "Requirement already satisfied: py>=1.5.0 in /usr/local/lib/python3.7/dist-packages (from pytest->dtreeviz) (1.10.0)\n",
            "Requirement already satisfied: attrs>=17.4.0 in /usr/local/lib/python3.7/dist-packages (from pytest->dtreeviz) (21.2.0)\n",
            "Requirement already satisfied: atomicwrites>=1.0 in /usr/local/lib/python3.7/dist-packages (from pytest->dtreeviz) (1.4.0)\n",
            "Requirement already satisfied: more-itertools>=4.0.0 in /usr/local/lib/python3.7/dist-packages (from pytest->dtreeviz) (8.9.0)\n",
            "Requirement already satisfied: scipy>=0.17.0 in /usr/local/lib/python3.7/dist-packages (from scikit-learn->dtreeviz) (1.4.1)\n",
            "Requirement already satisfied: joblib>=0.11 in /usr/local/lib/python3.7/dist-packages (from scikit-learn->dtreeviz) (1.0.1)\n"
          ]
        }
      ]
    },
    {
      "cell_type": "markdown",
      "metadata": {
        "id": "kAuOuhJ1bpjX"
      },
      "source": [
        "## Load Data"
      ]
    },
    {
      "cell_type": "code",
      "metadata": {
        "id": "wNLKZBmwecoL",
        "colab": {
          "base_uri": "https://localhost:8080/"
        },
        "outputId": "4c4985a3-22e1-4208-f2ab-c336a125705b"
      },
      "source": [
        "# Mount Drive\n",
        "from google.colab import drive\n",
        "drive.mount('/drive')"
      ],
      "execution_count": null,
      "outputs": [
        {
          "output_type": "stream",
          "name": "stdout",
          "text": [
            "Mounted at /drive\n"
          ]
        }
      ]
    },
    {
      "cell_type": "code",
      "metadata": {
        "id": "0JyCSQUQed0o"
      },
      "source": [
        "# Load Data\n",
        "data_path = '/drive/My Drive/Cohort_6/Projects/Project 3/Data/Project_3_Spotify.csv'\n",
        "data = pd.read_csv(data_path)"
      ],
      "execution_count": null,
      "outputs": []
    },
    {
      "cell_type": "markdown",
      "metadata": {
        "id": "7JkGem0Ha7fU"
      },
      "source": [
        "# Data Cleaning"
      ]
    },
    {
      "cell_type": "code",
      "metadata": {
        "id": "wJ6bMhoEgKs0",
        "colab": {
          "base_uri": "https://localhost:8080/",
          "height": 744
        },
        "outputId": "b0f26faa-79f1-4dbe-f7fb-05aab467b8c7"
      },
      "source": [
        "# View top 5 records - all columns\n",
        "data.head()"
      ],
      "execution_count": null,
      "outputs": [
        {
          "output_type": "execute_result",
          "data": {
            "text/html": [
              "<div>\n",
              "<style scoped>\n",
              "    .dataframe tbody tr th:only-of-type {\n",
              "        vertical-align: middle;\n",
              "    }\n",
              "\n",
              "    .dataframe tbody tr th {\n",
              "        vertical-align: top;\n",
              "    }\n",
              "\n",
              "    .dataframe thead th {\n",
              "        text-align: right;\n",
              "    }\n",
              "</style>\n",
              "<table border=\"1\" class=\"dataframe\">\n",
              "  <thead>\n",
              "    <tr style=\"text-align: right;\">\n",
              "      <th></th>\n",
              "      <th>Index</th>\n",
              "      <th>Highest Charting Position</th>\n",
              "      <th>Number of Times Charted</th>\n",
              "      <th>Week of Highest Charting</th>\n",
              "      <th>Song Name</th>\n",
              "      <th>Streams</th>\n",
              "      <th>Artist</th>\n",
              "      <th>Artist Followers</th>\n",
              "      <th>Song ID</th>\n",
              "      <th>Genre</th>\n",
              "      <th>Release Date</th>\n",
              "      <th>Weeks Charted</th>\n",
              "      <th>Popularity</th>\n",
              "      <th>Danceability</th>\n",
              "      <th>Energy</th>\n",
              "      <th>Loudness</th>\n",
              "      <th>Speechiness</th>\n",
              "      <th>Acousticness</th>\n",
              "      <th>Liveness</th>\n",
              "      <th>Tempo</th>\n",
              "      <th>Duration (ms)</th>\n",
              "      <th>Valence</th>\n",
              "      <th>Chord</th>\n",
              "    </tr>\n",
              "  </thead>\n",
              "  <tbody>\n",
              "    <tr>\n",
              "      <th>0</th>\n",
              "      <td>1</td>\n",
              "      <td>1</td>\n",
              "      <td>8</td>\n",
              "      <td>2021-07-23--2021-07-30</td>\n",
              "      <td>Beggin'</td>\n",
              "      <td>48,633,449</td>\n",
              "      <td>Måneskin</td>\n",
              "      <td>3377762</td>\n",
              "      <td>3Wrjm47oTz2sjIgck11l5e</td>\n",
              "      <td>['indie rock italiano', 'italian pop']</td>\n",
              "      <td>2017-12-08</td>\n",
              "      <td>2021-07-23--2021-07-30\\n2021-07-16--2021-07-23...</td>\n",
              "      <td>100</td>\n",
              "      <td>0.714</td>\n",
              "      <td>0.8</td>\n",
              "      <td>-4.808</td>\n",
              "      <td>0.0504</td>\n",
              "      <td>0.127</td>\n",
              "      <td>0.359</td>\n",
              "      <td>134.002</td>\n",
              "      <td>211560</td>\n",
              "      <td>0.589</td>\n",
              "      <td>B</td>\n",
              "    </tr>\n",
              "    <tr>\n",
              "      <th>1</th>\n",
              "      <td>2</td>\n",
              "      <td>2</td>\n",
              "      <td>3</td>\n",
              "      <td>2021-07-23--2021-07-30</td>\n",
              "      <td>STAY (with Justin Bieber)</td>\n",
              "      <td>47,248,719</td>\n",
              "      <td>The Kid LAROI</td>\n",
              "      <td>2230022</td>\n",
              "      <td>5HCyWlXZPP0y6Gqq8TgA20</td>\n",
              "      <td>['australian hip hop']</td>\n",
              "      <td>2021-07-09</td>\n",
              "      <td>2021-07-23--2021-07-30\\n2021-07-16--2021-07-23...</td>\n",
              "      <td>99</td>\n",
              "      <td>0.591</td>\n",
              "      <td>0.764</td>\n",
              "      <td>-5.484</td>\n",
              "      <td>0.0483</td>\n",
              "      <td>0.0383</td>\n",
              "      <td>0.103</td>\n",
              "      <td>169.928</td>\n",
              "      <td>141806</td>\n",
              "      <td>0.478</td>\n",
              "      <td>C#/Db</td>\n",
              "    </tr>\n",
              "    <tr>\n",
              "      <th>2</th>\n",
              "      <td>3</td>\n",
              "      <td>1</td>\n",
              "      <td>11</td>\n",
              "      <td>2021-06-25--2021-07-02</td>\n",
              "      <td>good 4 u</td>\n",
              "      <td>40,162,559</td>\n",
              "      <td>Olivia Rodrigo</td>\n",
              "      <td>6266514</td>\n",
              "      <td>4ZtFanR9U6ndgddUvNcjcG</td>\n",
              "      <td>['pop']</td>\n",
              "      <td>2021-05-21</td>\n",
              "      <td>2021-07-23--2021-07-30\\n2021-07-16--2021-07-23...</td>\n",
              "      <td>99</td>\n",
              "      <td>0.563</td>\n",
              "      <td>0.664</td>\n",
              "      <td>-5.044</td>\n",
              "      <td>0.154</td>\n",
              "      <td>0.335</td>\n",
              "      <td>0.0849</td>\n",
              "      <td>166.928</td>\n",
              "      <td>178147</td>\n",
              "      <td>0.688</td>\n",
              "      <td>A</td>\n",
              "    </tr>\n",
              "    <tr>\n",
              "      <th>3</th>\n",
              "      <td>4</td>\n",
              "      <td>3</td>\n",
              "      <td>5</td>\n",
              "      <td>2021-07-02--2021-07-09</td>\n",
              "      <td>Bad Habits</td>\n",
              "      <td>37,799,456</td>\n",
              "      <td>Ed Sheeran</td>\n",
              "      <td>83293380</td>\n",
              "      <td>6PQ88X9TkUIAUIZJHW2upE</td>\n",
              "      <td>['pop', 'uk pop']</td>\n",
              "      <td>2021-06-25</td>\n",
              "      <td>2021-07-23--2021-07-30\\n2021-07-16--2021-07-23...</td>\n",
              "      <td>98</td>\n",
              "      <td>0.808</td>\n",
              "      <td>0.897</td>\n",
              "      <td>-3.712</td>\n",
              "      <td>0.0348</td>\n",
              "      <td>0.0469</td>\n",
              "      <td>0.364</td>\n",
              "      <td>126.026</td>\n",
              "      <td>231041</td>\n",
              "      <td>0.591</td>\n",
              "      <td>B</td>\n",
              "    </tr>\n",
              "    <tr>\n",
              "      <th>4</th>\n",
              "      <td>5</td>\n",
              "      <td>5</td>\n",
              "      <td>1</td>\n",
              "      <td>2021-07-23--2021-07-30</td>\n",
              "      <td>INDUSTRY BABY (feat. Jack Harlow)</td>\n",
              "      <td>33,948,454</td>\n",
              "      <td>Lil Nas X</td>\n",
              "      <td>5473565</td>\n",
              "      <td>27NovPIUIRrOZoCHxABJwK</td>\n",
              "      <td>['lgbtq+ hip hop', 'pop rap']</td>\n",
              "      <td>2021-07-23</td>\n",
              "      <td>2021-07-23--2021-07-30</td>\n",
              "      <td>96</td>\n",
              "      <td>0.736</td>\n",
              "      <td>0.704</td>\n",
              "      <td>-7.409</td>\n",
              "      <td>0.0615</td>\n",
              "      <td>0.0203</td>\n",
              "      <td>0.0501</td>\n",
              "      <td>149.995</td>\n",
              "      <td>212000</td>\n",
              "      <td>0.894</td>\n",
              "      <td>D#/Eb</td>\n",
              "    </tr>\n",
              "  </tbody>\n",
              "</table>\n",
              "</div>"
            ],
            "text/plain": [
              "   Index  Highest Charting Position  ...  Valence  Chord\n",
              "0      1                          1  ...    0.589      B\n",
              "1      2                          2  ...    0.478  C#/Db\n",
              "2      3                          1  ...    0.688      A\n",
              "3      4                          3  ...    0.591      B\n",
              "4      5                          5  ...    0.894  D#/Eb\n",
              "\n",
              "[5 rows x 23 columns]"
            ]
          },
          "metadata": {},
          "execution_count": 459
        }
      ]
    },
    {
      "cell_type": "code",
      "metadata": {
        "id": "Uv2m9nI4gJMK",
        "colab": {
          "base_uri": "https://localhost:8080/"
        },
        "outputId": "f1aae3d2-3ec2-4add-ee42-8ba165044467"
      },
      "source": [
        "# Any Nulls?\n",
        "data.isnull().sum().sum()"
      ],
      "execution_count": null,
      "outputs": [
        {
          "output_type": "execute_result",
          "data": {
            "text/plain": [
              "0"
            ]
          },
          "metadata": {},
          "execution_count": 460
        }
      ]
    },
    {
      "cell_type": "code",
      "metadata": {
        "id": "DDqE-RnnzoC8"
      },
      "source": [
        "# Get a copy of the data before massaging the data.\n",
        "data_clean = data.copy()"
      ],
      "execution_count": null,
      "outputs": []
    },
    {
      "cell_type": "markdown",
      "metadata": {
        "id": "LTpF2qDfzEb3"
      },
      "source": [
        "## Drop columns\n",
        "\n",
        "Since the project requirement is to predict **new** song popularity, we will drop columns that would not be available for new songs. Additionally, we will drop columns that are not predictors, such as the row index and song id."
      ]
    },
    {
      "cell_type": "code",
      "metadata": {
        "id": "ykhp7AePzfqn",
        "colab": {
          "base_uri": "https://localhost:8080/",
          "height": 502
        },
        "outputId": "200f2c70-2b6b-461e-d6f4-d88e64d7b747"
      },
      "source": [
        "# Drop indexes\n",
        "data_clean.drop(['Index', 'Song ID'], inplace=True, axis=1)\n",
        "\n",
        "# Drop features that would not exist for new songs\n",
        "data_clean.drop(['Highest Charting Position', 'Number of Times Charted', 'Week of Highest Charting', 'Streams', 'Weeks Charted'], inplace=True, axis=1)\n",
        "\n",
        "data_clean.tail()"
      ],
      "execution_count": null,
      "outputs": [
        {
          "output_type": "execute_result",
          "data": {
            "text/html": [
              "<div>\n",
              "<style scoped>\n",
              "    .dataframe tbody tr th:only-of-type {\n",
              "        vertical-align: middle;\n",
              "    }\n",
              "\n",
              "    .dataframe tbody tr th {\n",
              "        vertical-align: top;\n",
              "    }\n",
              "\n",
              "    .dataframe thead th {\n",
              "        text-align: right;\n",
              "    }\n",
              "</style>\n",
              "<table border=\"1\" class=\"dataframe\">\n",
              "  <thead>\n",
              "    <tr style=\"text-align: right;\">\n",
              "      <th></th>\n",
              "      <th>Song Name</th>\n",
              "      <th>Artist</th>\n",
              "      <th>Artist Followers</th>\n",
              "      <th>Genre</th>\n",
              "      <th>Release Date</th>\n",
              "      <th>Popularity</th>\n",
              "      <th>Danceability</th>\n",
              "      <th>Energy</th>\n",
              "      <th>Loudness</th>\n",
              "      <th>Speechiness</th>\n",
              "      <th>Acousticness</th>\n",
              "      <th>Liveness</th>\n",
              "      <th>Tempo</th>\n",
              "      <th>Duration (ms)</th>\n",
              "      <th>Valence</th>\n",
              "      <th>Chord</th>\n",
              "    </tr>\n",
              "  </thead>\n",
              "  <tbody>\n",
              "    <tr>\n",
              "      <th>1551</th>\n",
              "      <td>New Rules</td>\n",
              "      <td>Dua Lipa</td>\n",
              "      <td>27167675</td>\n",
              "      <td>['dance pop', 'pop', 'uk pop']</td>\n",
              "      <td>2017-06-02</td>\n",
              "      <td>79</td>\n",
              "      <td>0.762</td>\n",
              "      <td>0.7</td>\n",
              "      <td>-6.021</td>\n",
              "      <td>0.0694</td>\n",
              "      <td>0.00261</td>\n",
              "      <td>0.153</td>\n",
              "      <td>116.073</td>\n",
              "      <td>209320</td>\n",
              "      <td>0.608</td>\n",
              "      <td>A</td>\n",
              "    </tr>\n",
              "    <tr>\n",
              "      <th>1552</th>\n",
              "      <td>Cheirosa - Ao Vivo</td>\n",
              "      <td>Jorge &amp; Mateus</td>\n",
              "      <td>15019109</td>\n",
              "      <td>['sertanejo', 'sertanejo universitario']</td>\n",
              "      <td>2019-10-11</td>\n",
              "      <td>66</td>\n",
              "      <td>0.528</td>\n",
              "      <td>0.87</td>\n",
              "      <td>-3.123</td>\n",
              "      <td>0.0851</td>\n",
              "      <td>0.24</td>\n",
              "      <td>0.333</td>\n",
              "      <td>152.37</td>\n",
              "      <td>181930</td>\n",
              "      <td>0.714</td>\n",
              "      <td>B</td>\n",
              "    </tr>\n",
              "    <tr>\n",
              "      <th>1553</th>\n",
              "      <td>Havana (feat. Young Thug)</td>\n",
              "      <td>Camila Cabello</td>\n",
              "      <td>22698747</td>\n",
              "      <td>['dance pop', 'electropop', 'pop', 'post-teen ...</td>\n",
              "      <td>2018-01-12</td>\n",
              "      <td>81</td>\n",
              "      <td>0.765</td>\n",
              "      <td>0.523</td>\n",
              "      <td>-4.333</td>\n",
              "      <td>0.03</td>\n",
              "      <td>0.184</td>\n",
              "      <td>0.132</td>\n",
              "      <td>104.988</td>\n",
              "      <td>217307</td>\n",
              "      <td>0.394</td>\n",
              "      <td>D</td>\n",
              "    </tr>\n",
              "    <tr>\n",
              "      <th>1554</th>\n",
              "      <td>Surtada - Remix Brega Funk</td>\n",
              "      <td>Dadá Boladão, Tati Zaqui, OIK</td>\n",
              "      <td>208630</td>\n",
              "      <td>['brega funk', 'funk carioca']</td>\n",
              "      <td>2019-09-25</td>\n",
              "      <td>60</td>\n",
              "      <td>0.832</td>\n",
              "      <td>0.55</td>\n",
              "      <td>-7.026</td>\n",
              "      <td>0.0587</td>\n",
              "      <td>0.249</td>\n",
              "      <td>0.182</td>\n",
              "      <td>154.064</td>\n",
              "      <td>152784</td>\n",
              "      <td>0.881</td>\n",
              "      <td>F</td>\n",
              "    </tr>\n",
              "    <tr>\n",
              "      <th>1555</th>\n",
              "      <td>Lover (Remix) [feat. Shawn Mendes]</td>\n",
              "      <td>Taylor Swift</td>\n",
              "      <td>42227614</td>\n",
              "      <td>['pop', 'post-teen pop']</td>\n",
              "      <td>2019-11-13</td>\n",
              "      <td>70</td>\n",
              "      <td>0.448</td>\n",
              "      <td>0.603</td>\n",
              "      <td>-7.176</td>\n",
              "      <td>0.064</td>\n",
              "      <td>0.433</td>\n",
              "      <td>0.0862</td>\n",
              "      <td>205.272</td>\n",
              "      <td>221307</td>\n",
              "      <td>0.422</td>\n",
              "      <td>G</td>\n",
              "    </tr>\n",
              "  </tbody>\n",
              "</table>\n",
              "</div>"
            ],
            "text/plain": [
              "                               Song Name  ... Chord\n",
              "1551                           New Rules  ...     A\n",
              "1552                  Cheirosa - Ao Vivo  ...     B\n",
              "1553           Havana (feat. Young Thug)  ...     D\n",
              "1554          Surtada - Remix Brega Funk  ...     F\n",
              "1555  Lover (Remix) [feat. Shawn Mendes]  ...     G\n",
              "\n",
              "[5 rows x 16 columns]"
            ]
          },
          "metadata": {},
          "execution_count": 462
        }
      ]
    },
    {
      "cell_type": "markdown",
      "metadata": {
        "id": "W7V3LjkZ7eOA"
      },
      "source": [
        "## Fix Data Types\n",
        "\n",
        "Some columns were imported as object data types but actually contain numeric values. These columns needed to be converted to their numerical equivalent as required by the XG Boost model."
      ]
    },
    {
      "cell_type": "code",
      "metadata": {
        "id": "vqu1DMSh718n"
      },
      "source": [
        "# Convert strings into numbers. Note: some are blank so using coerce will turn them into \n",
        "# NaN which can be removed later.\n",
        "\n",
        "# Target data\n",
        "data_clean['Popularity'] = pd.to_numeric(data_clean['Popularity'], errors='coerce')\n",
        "\n",
        "# Feature data\n",
        "data_clean['Artist Followers'] = pd.to_numeric(data_clean['Artist Followers'], errors='coerce')\n",
        "data_clean['Danceability'] = pd.to_numeric(data_clean['Danceability'], errors='coerce')\n",
        "data_clean['Energy'] = pd.to_numeric(data_clean['Energy'], errors='coerce')\n",
        "data_clean['Loudness'] = pd.to_numeric(data_clean['Loudness'], errors='coerce')\n",
        "data_clean['Speechiness'] = pd.to_numeric(data_clean['Speechiness'], errors='coerce')\n",
        "data_clean['Acousticness'] = pd.to_numeric(data_clean['Acousticness'], errors='coerce')\n",
        "data_clean['Liveness'] = pd.to_numeric(data_clean['Liveness'], errors='coerce')\n",
        "data_clean['Tempo'] = pd.to_numeric(data_clean['Tempo'], errors='coerce')\n",
        "data_clean['Duration (ms)'] = pd.to_numeric(data_clean['Duration (ms)'], errors='coerce')\n",
        "data_clean['Valence'] = pd.to_numeric(data_clean['Valence'], errors='coerce')\n",
        "\n",
        "# Convert date\n",
        "data_clean['Release Date'] = pd.to_datetime(data_clean['Release Date'], errors='coerce')"
      ],
      "execution_count": null,
      "outputs": []
    },
    {
      "cell_type": "code",
      "metadata": {
        "colab": {
          "base_uri": "https://localhost:8080/"
        },
        "id": "XFUCejopVzOv",
        "outputId": "cf6e439d-030d-43b7-8218-d2d5f8b1c1a3"
      },
      "source": [
        "# Conversion produced some nulls for values that could not be converted. Remove these rows\n",
        "# since all predictors in these rows are null.\n",
        "data_clean = data_clean.dropna()\n",
        "print(data_clean.isna().sum())"
      ],
      "execution_count": null,
      "outputs": [
        {
          "output_type": "stream",
          "name": "stdout",
          "text": [
            "Song Name           0\n",
            "Artist              0\n",
            "Artist Followers    0\n",
            "Genre               0\n",
            "Release Date        0\n",
            "Popularity          0\n",
            "Danceability        0\n",
            "Energy              0\n",
            "Loudness            0\n",
            "Speechiness         0\n",
            "Acousticness        0\n",
            "Liveness            0\n",
            "Tempo               0\n",
            "Duration (ms)       0\n",
            "Valence             0\n",
            "Chord               0\n",
            "dtype: int64\n"
          ]
        }
      ]
    },
    {
      "cell_type": "code",
      "metadata": {
        "id": "q98qdz7ogHle",
        "colab": {
          "base_uri": "https://localhost:8080/"
        },
        "outputId": "6280bc5e-9c79-49a4-d972-f0ab5999f5ca"
      },
      "source": [
        "# Verify final data types\n",
        "data_clean.dtypes"
      ],
      "execution_count": null,
      "outputs": [
        {
          "output_type": "execute_result",
          "data": {
            "text/plain": [
              "Song Name                   object\n",
              "Artist                      object\n",
              "Artist Followers           float64\n",
              "Genre                       object\n",
              "Release Date        datetime64[ns]\n",
              "Popularity                 float64\n",
              "Danceability               float64\n",
              "Energy                     float64\n",
              "Loudness                   float64\n",
              "Speechiness                float64\n",
              "Acousticness               float64\n",
              "Liveness                   float64\n",
              "Tempo                      float64\n",
              "Duration (ms)              float64\n",
              "Valence                    float64\n",
              "Chord                       object\n",
              "dtype: object"
            ]
          },
          "metadata": {},
          "execution_count": 465
        }
      ]
    },
    {
      "cell_type": "markdown",
      "metadata": {
        "id": "WcYHmAXP3lXs"
      },
      "source": [
        "## Feature Engineering\n",
        "\n",
        "In this step, character data and columns containing multiple values were split and encoded so they could be modeled. Below are links to resources used for feature engineering.\n",
        "\n",
        "[Techniques](https://towardsdatascience.com/feature-engineering-for-machine-learning-3a5e293a5114)\n",
        "\n",
        "[Encoding Notebook](https://colab.research.google.com/drive/10mMFd3bsO7Gy8MbYY56Ukv8lg0-PCBmc)\n",
        "\n",
        "[Imputation Notebook](https://colab.research.google.com/drive/1pq84SRJTOXSdKN9j9g6pORrKtIuQomhH)\n",
        "\n",
        "[Lambda Examples](https://colab.research.google.com/drive/1jz5eSsPq2m1Onq492yKx0-oNO2UofiHR)\n",
        "\n",
        "[SK Learn One Hot Encoder](https://scikit-learn.org/stable/modules/generated/sklearn.preprocessing.OneHotEncoder.html#sklearn.preprocessing.OneHotEncoder)\n",
        "\n",
        "[SK Learn Multi Label Binarizer](https://scikit-learn.org/stable/modules/generated/sklearn.preprocessing.MultiLabelBinarizer.html)"
      ]
    },
    {
      "cell_type": "code",
      "metadata": {
        "id": "MDo2xqvY4SRq"
      },
      "source": [
        "# Create label encoders instances\n",
        "le = LabelEncoder()\n",
        "mlb = MultiLabelBinarizer()\n",
        "mlb2 = MultiLabelBinarizer()  # second instance to handle more condensed genre features"
      ],
      "execution_count": null,
      "outputs": []
    },
    {
      "cell_type": "code",
      "metadata": {
        "id": "Qj3vZ30-i6TU"
      },
      "source": [
        "# Genre processing functions\n",
        "# Initial Genre cleaning before groupings\n",
        "\n",
        "# Preprocessing for first genre splitting which is less condensed.\n",
        "def genrePreProcessing1(df):\n",
        "  genrePreProcessingAll(df)\n",
        "\n",
        "  # Use regex to identify and remove specified characters so friendly column names can be generated when encoded.\n",
        "  df['Genre'] = df['Genre'].str.replace(r\"[\\[\\]'\\-\\&\\+\\s]\", '', regex=True)\n",
        "\n",
        "  # Turn Genre column into lists by splitting on comma.\n",
        "  data_clean_enc['Genre'] = data_clean_enc['Genre'].str.split(',')\n",
        "\n",
        "# Preprocessing for second genre splitting which will be more condensed.\n",
        "def genrePreProcessing2(df):\n",
        "  genrePreProcessingAll(df)\n",
        "\n",
        "  # Use regex to identify and remove specified characters so friendly column names can be generated when encoded.\n",
        "  df['Genre'] = df['Genre'].str.replace(r\"[\\[\\]'\\-\\&\\+\\,]\", '', regex=True)\n",
        "\n",
        "# Preprocessing for all genre splitting.\n",
        "def genrePreProcessingAll(df):\n",
        "  # Combine some values to create categories.\n",
        "  df['Genre'] = df['Genre'].str.replace('hip hop','hiphop')\n",
        "\n",
        "  # Fill in blank genre. Blank genre will show as []\n",
        "  df['Genre'] = df['Genre'].str.replace('\\[\\]','unknown')\n",
        "\n",
        "# Do some final cleaning for Genre\n",
        "def genrePostProcessing(df):\n",
        "  # HACK! FILL NAN WITH ZERO FOR NOW SINCE DON'T KNOW WHAT IS CAUSING THIS ANOMALY\n",
        "  df.fillna(0, inplace=True)\n",
        "\n",
        "  # Remove unencoded column\n",
        "  df.drop(['Genre'], inplace=True, axis=1)"
      ],
      "execution_count": null,
      "outputs": []
    },
    {
      "cell_type": "code",
      "metadata": {
        "id": "3G2bbXEN2xVT"
      },
      "source": [
        "# THIS PRODUCES NULLS IN LAST 11 ROWS AND MAKES ALL ENCODED VALUES INTO FLOATS INSTEAD OF INTEGERS!!!!\n",
        "# Encode Genre - one hot encode\n",
        "data_clean_enc = data_clean.copy()\n",
        "\n",
        "genrePreProcessing1(data_clean_enc)\n",
        "\n",
        "# Use multi label binarizer to transform the Genre column into individual columns\n",
        "# ALERT: THIS LINE IS CREATING NULL VALUES ON ALL GENRE FEATURE COLUMNS FOR LAST 11 ROWS ONLY. NOT SURE WHY.\n",
        "data_clean_enc = data_clean_enc.join(pd.DataFrame(mlb.fit_transform(data_clean_enc['Genre']),columns=mlb.classes_))\n",
        "\n",
        "genrePostProcessing(data_clean_enc)"
      ],
      "execution_count": null,
      "outputs": []
    },
    {
      "cell_type": "code",
      "metadata": {
        "colab": {
          "base_uri": "https://localhost:8080/",
          "height": 415
        },
        "id": "Q8XijsH8qNyT",
        "outputId": "e0ef54b9-e712-4dfa-abc2-97b2431200a9"
      },
      "source": [
        "data_clean.head()"
      ],
      "execution_count": null,
      "outputs": [
        {
          "output_type": "execute_result",
          "data": {
            "text/html": [
              "<div>\n",
              "<style scoped>\n",
              "    .dataframe tbody tr th:only-of-type {\n",
              "        vertical-align: middle;\n",
              "    }\n",
              "\n",
              "    .dataframe tbody tr th {\n",
              "        vertical-align: top;\n",
              "    }\n",
              "\n",
              "    .dataframe thead th {\n",
              "        text-align: right;\n",
              "    }\n",
              "</style>\n",
              "<table border=\"1\" class=\"dataframe\">\n",
              "  <thead>\n",
              "    <tr style=\"text-align: right;\">\n",
              "      <th></th>\n",
              "      <th>Song Name</th>\n",
              "      <th>Artist</th>\n",
              "      <th>Artist Followers</th>\n",
              "      <th>Genre</th>\n",
              "      <th>Release Date</th>\n",
              "      <th>Popularity</th>\n",
              "      <th>Danceability</th>\n",
              "      <th>Energy</th>\n",
              "      <th>Loudness</th>\n",
              "      <th>Speechiness</th>\n",
              "      <th>Acousticness</th>\n",
              "      <th>Liveness</th>\n",
              "      <th>Tempo</th>\n",
              "      <th>Duration (ms)</th>\n",
              "      <th>Valence</th>\n",
              "      <th>Chord</th>\n",
              "    </tr>\n",
              "  </thead>\n",
              "  <tbody>\n",
              "    <tr>\n",
              "      <th>0</th>\n",
              "      <td>Beggin'</td>\n",
              "      <td>Måneskin</td>\n",
              "      <td>3377762.0</td>\n",
              "      <td>['indie rock italiano', 'italian pop']</td>\n",
              "      <td>2017-12-08</td>\n",
              "      <td>100.0</td>\n",
              "      <td>0.714</td>\n",
              "      <td>0.800</td>\n",
              "      <td>-4.808</td>\n",
              "      <td>0.0504</td>\n",
              "      <td>0.1270</td>\n",
              "      <td>0.3590</td>\n",
              "      <td>134.002</td>\n",
              "      <td>211560.0</td>\n",
              "      <td>0.589</td>\n",
              "      <td>B</td>\n",
              "    </tr>\n",
              "    <tr>\n",
              "      <th>1</th>\n",
              "      <td>STAY (with Justin Bieber)</td>\n",
              "      <td>The Kid LAROI</td>\n",
              "      <td>2230022.0</td>\n",
              "      <td>['australian hip hop']</td>\n",
              "      <td>2021-07-09</td>\n",
              "      <td>99.0</td>\n",
              "      <td>0.591</td>\n",
              "      <td>0.764</td>\n",
              "      <td>-5.484</td>\n",
              "      <td>0.0483</td>\n",
              "      <td>0.0383</td>\n",
              "      <td>0.1030</td>\n",
              "      <td>169.928</td>\n",
              "      <td>141806.0</td>\n",
              "      <td>0.478</td>\n",
              "      <td>C#/Db</td>\n",
              "    </tr>\n",
              "    <tr>\n",
              "      <th>2</th>\n",
              "      <td>good 4 u</td>\n",
              "      <td>Olivia Rodrigo</td>\n",
              "      <td>6266514.0</td>\n",
              "      <td>['pop']</td>\n",
              "      <td>2021-05-21</td>\n",
              "      <td>99.0</td>\n",
              "      <td>0.563</td>\n",
              "      <td>0.664</td>\n",
              "      <td>-5.044</td>\n",
              "      <td>0.1540</td>\n",
              "      <td>0.3350</td>\n",
              "      <td>0.0849</td>\n",
              "      <td>166.928</td>\n",
              "      <td>178147.0</td>\n",
              "      <td>0.688</td>\n",
              "      <td>A</td>\n",
              "    </tr>\n",
              "    <tr>\n",
              "      <th>3</th>\n",
              "      <td>Bad Habits</td>\n",
              "      <td>Ed Sheeran</td>\n",
              "      <td>83293380.0</td>\n",
              "      <td>['pop', 'uk pop']</td>\n",
              "      <td>2021-06-25</td>\n",
              "      <td>98.0</td>\n",
              "      <td>0.808</td>\n",
              "      <td>0.897</td>\n",
              "      <td>-3.712</td>\n",
              "      <td>0.0348</td>\n",
              "      <td>0.0469</td>\n",
              "      <td>0.3640</td>\n",
              "      <td>126.026</td>\n",
              "      <td>231041.0</td>\n",
              "      <td>0.591</td>\n",
              "      <td>B</td>\n",
              "    </tr>\n",
              "    <tr>\n",
              "      <th>4</th>\n",
              "      <td>INDUSTRY BABY (feat. Jack Harlow)</td>\n",
              "      <td>Lil Nas X</td>\n",
              "      <td>5473565.0</td>\n",
              "      <td>['lgbtq+ hip hop', 'pop rap']</td>\n",
              "      <td>2021-07-23</td>\n",
              "      <td>96.0</td>\n",
              "      <td>0.736</td>\n",
              "      <td>0.704</td>\n",
              "      <td>-7.409</td>\n",
              "      <td>0.0615</td>\n",
              "      <td>0.0203</td>\n",
              "      <td>0.0501</td>\n",
              "      <td>149.995</td>\n",
              "      <td>212000.0</td>\n",
              "      <td>0.894</td>\n",
              "      <td>D#/Eb</td>\n",
              "    </tr>\n",
              "  </tbody>\n",
              "</table>\n",
              "</div>"
            ],
            "text/plain": [
              "                           Song Name          Artist  ...  Valence  Chord\n",
              "0                            Beggin'        Måneskin  ...    0.589      B\n",
              "1          STAY (with Justin Bieber)   The Kid LAROI  ...    0.478  C#/Db\n",
              "2                           good 4 u  Olivia Rodrigo  ...    0.688      A\n",
              "3                         Bad Habits      Ed Sheeran  ...    0.591      B\n",
              "4  INDUSTRY BABY (feat. Jack Harlow)       Lil Nas X  ...    0.894  D#/Eb\n",
              "\n",
              "[5 rows x 16 columns]"
            ]
          },
          "metadata": {},
          "execution_count": 469
        }
      ]
    },
    {
      "cell_type": "code",
      "metadata": {
        "id": "4rRzVR3Gh_o6"
      },
      "source": [
        "# Grab fresh dataset to be used for different encoding process.\n",
        "data_clean_enc2 = data_clean.copy()\n",
        "\n",
        "genrePreProcessing2(data_clean_enc2)\n",
        "\n",
        "# Use multi label binarizer to transform the Genre column into individual columns\n",
        "# Group Genre values more to reduce columns - reduced from 350 to 308. More grouping needed.\n",
        "# Create unique lists for genre. i.e. italian pop, pop will become italian and pop\n",
        "data_clean_enc2['Genre'] = data_clean_enc2['Genre'].apply(lambda x: np.unique(x.split()))\n",
        "data_clean_enc2 = data_clean_enc2.join(pd.DataFrame(mlb2.fit_transform(data_clean_enc2['Genre']),columns=mlb2.classes_))\n",
        "\n",
        "genrePostProcessing(data_clean_enc2)\n",
        "\n",
        "# If using this grouping, then get copy to override previous methodology.\n",
        "data_clean_enc = data_clean_enc2.copy()"
      ],
      "execution_count": null,
      "outputs": []
    },
    {
      "cell_type": "code",
      "metadata": {
        "id": "sWCQGxPZqIkV"
      },
      "source": [
        "# Export feature columns to Excel to examine how to further group them since \n",
        "# Grouping #2 is still resulting in over 300 columns.\n",
        "# file_name = \"test.xlsx\"\n",
        "# data_clean_enc.sum().to_excel(file_name)"
      ],
      "execution_count": null,
      "outputs": []
    },
    {
      "cell_type": "code",
      "metadata": {
        "id": "H5JQJ6EG2vuf"
      },
      "source": [
        "# Manually combine genres that are similar\n",
        "data_clean_enc['urban'] = data_clean_enc['urbaine'] + data_clean_enc['urban'] + data_clean_enc['urbano']\n",
        "data_clean_enc.drop(['urbaine', 'urbano'], axis=1, inplace=True)\n",
        "\n",
        "data_clean_enc['alternative'] = data_clean_enc['alternative'] + data_clean_enc['alt']\n",
        "data_clean_enc.drop(['alt'], axis=1, inplace=True)\n",
        "\n",
        "data_clean_enc['argentino'] = data_clean_enc['argentino'] + data_clean_enc['argentine']\n",
        "data_clean_enc.drop(['argentine'], axis=1, inplace=True)\n",
        "\n",
        "data_clean_enc['colombiano'] = data_clean_enc['colombiano'] + data_clean_enc['colombian']\n",
        "data_clean_enc.drop(['colombian'], axis=1, inplace=True)\n",
        "\n",
        "data_clean_enc['electro'] = data_clean_enc['electro'] + data_clean_enc['electropop'] + data_clean_enc['electronic']\n",
        "data_clean_enc.drop(['electropop', 'electronic'], axis=1, inplace=True)\n",
        "\n",
        "data_clean_enc['hiphop'] = data_clean_enc['hiphop'] + data_clean_enc['hip']\n",
        "data_clean_enc.drop(['hip'], axis=1, inplace=True)\n",
        "\n",
        "data_clean_enc['italian'] = data_clean_enc['italian'] + data_clean_enc['italiana'] + data_clean_enc['italiano']\n",
        "data_clean_enc.drop(['italiana', 'italiano'], axis=1, inplace=True)\n",
        "\n",
        "data_clean_enc['latino'] = data_clean_enc['latino'] + data_clean_enc['latin'] + data_clean_enc['latina']\n",
        "data_clean_enc.drop(['latin', 'latina'], axis=1, inplace=True)\n",
        "\n",
        "data_clean_enc['puertorican'] = data_clean_enc['puerto'] + data_clean_enc['rican']\n",
        "data_clean_enc.drop(['puerto', 'rican'], axis=1, inplace=True)\n",
        "\n",
        "# View totals again to determine list to keep and which ones to throw into \"other\" group\n",
        "# These columns will be retained further down at the beginning of the EDA.\n",
        "genres_to_keep = ['pop','rap','hiphop','trap','latino','dance','postteen','reggaeton','melodic','canadian','electro',\n",
        "                  'uk','rb','rock','house','colombiano','german','atl','group','kpop','edm','chicago','alternative','drill',\n",
        "                  'tropical','boy','contemporary']\n"
      ],
      "execution_count": null,
      "outputs": []
    },
    {
      "cell_type": "code",
      "metadata": {
        "id": "xoiJCFTN2z8d"
      },
      "source": [
        "# Since some songs have multiple artists, pull out the first artist in the column \n",
        "# since this is likely the lead artist and thus more important for predicting song success.\n",
        "data_clean_enc['Artist'] = data_clean_enc['Artist'].apply(lambda x: x.split(',')[0])\n",
        "\n",
        "# Now encode.\n",
        "data_clean_enc['Artist Lb'] = le.fit_transform(data_clean_enc['Artist'])\n",
        "\n",
        "# Remove unencoded column\n",
        "data_clean_enc.drop(['Artist'], inplace=True, axis=1)"
      ],
      "execution_count": null,
      "outputs": []
    },
    {
      "cell_type": "code",
      "metadata": {
        "id": "ECCYtO5Q214w"
      },
      "source": [
        "# TODO: Encode song name. WILL DO AT SOME FUTURE DATE.\n",
        "# First remove data about featured artists and remix - anything in parenthesis or square brackets.\n",
        "# Then remove dashes\n",
        "# data_clean_enc['Song Name']\n",
        "\n",
        "data_clean_enc.drop(['Song Name'], inplace=True, axis=1)"
      ],
      "execution_count": null,
      "outputs": []
    },
    {
      "cell_type": "code",
      "metadata": {
        "id": "Nrurnufh26iL"
      },
      "source": [
        "# Encode chord\n",
        "data_clean_enc['Chord Lb'] = le.fit_transform(data_clean_enc['Chord'])\n",
        "data_clean_enc[['Chord Lb', 'Chord']]\n",
        "\n",
        "# Remove unencoded column\n",
        "data_clean_enc.drop(['Chord'], inplace=True, axis=1)"
      ],
      "execution_count": null,
      "outputs": []
    },
    {
      "cell_type": "code",
      "metadata": {
        "id": "SK9oXwmtUoTM"
      },
      "source": [
        "# Split release date into month, day, day of week to see if release date has impact on popularity.\n",
        "data_clean_enc['Release Month'] = data_clean_enc['Release Date'].dt.month\n",
        "data_clean_enc['Release Day'] = data_clean_enc['Release Date'].dt.day\n",
        "data_clean_enc['Release Weekday'] = data_clean_enc['Release Date'].dt.dayofweek # Assumes week starts on Monday\n",
        "# Verify results\n",
        "data_clean_enc[['Release Date', 'Release Month', 'Release Day', 'Release Weekday']]\n",
        "\n",
        "# Remove Release Date because model cannot use dates. Model will use date parts instead.\n",
        "data_clean_enc.drop(['Release Date'], inplace=True, axis=1)"
      ],
      "execution_count": null,
      "outputs": []
    },
    {
      "cell_type": "code",
      "metadata": {
        "id": "QAPynM_le3U5",
        "colab": {
          "base_uri": "https://localhost:8080/",
          "height": 272
        },
        "outputId": "7f3b4758-8270-4007-8ea2-5a79baa39419"
      },
      "source": [
        "# Final data review to see what else needs to be done\n",
        "data_clean_enc.head()\n",
        "# print(data_clean_enc.shape)"
      ],
      "execution_count": null,
      "outputs": [
        {
          "output_type": "execute_result",
          "data": {
            "text/html": [
              "<div>\n",
              "<style scoped>\n",
              "    .dataframe tbody tr th:only-of-type {\n",
              "        vertical-align: middle;\n",
              "    }\n",
              "\n",
              "    .dataframe tbody tr th {\n",
              "        vertical-align: top;\n",
              "    }\n",
              "\n",
              "    .dataframe thead th {\n",
              "        text-align: right;\n",
              "    }\n",
              "</style>\n",
              "<table border=\"1\" class=\"dataframe\">\n",
              "  <thead>\n",
              "    <tr style=\"text-align: right;\">\n",
              "      <th></th>\n",
              "      <th>Artist Followers</th>\n",
              "      <th>Popularity</th>\n",
              "      <th>Danceability</th>\n",
              "      <th>Energy</th>\n",
              "      <th>Loudness</th>\n",
              "      <th>Speechiness</th>\n",
              "      <th>Acousticness</th>\n",
              "      <th>Liveness</th>\n",
              "      <th>Tempo</th>\n",
              "      <th>Duration (ms)</th>\n",
              "      <th>Valence</th>\n",
              "      <th>150</th>\n",
              "      <th>a</th>\n",
              "      <th>acoustic</th>\n",
              "      <th>adult</th>\n",
              "      <th>advocacy</th>\n",
              "      <th>african</th>\n",
              "      <th>afrofuturism</th>\n",
              "      <th>afroswing</th>\n",
              "      <th>albanian</th>\n",
              "      <th>album</th>\n",
              "      <th>alternative</th>\n",
              "      <th>american</th>\n",
              "      <th>argentino</th>\n",
              "      <th>art</th>\n",
              "      <th>atl</th>\n",
              "      <th>aussietronica</th>\n",
              "      <th>australian</th>\n",
              "      <th>baiano</th>\n",
              "      <th>band</th>\n",
              "      <th>banda</th>\n",
              "      <th>basshall</th>\n",
              "      <th>beatlesque</th>\n",
              "      <th>bedroom</th>\n",
              "      <th>belge</th>\n",
              "      <th>belgian</th>\n",
              "      <th>bh</th>\n",
              "      <th>big</th>\n",
              "      <th>boricua</th>\n",
              "      <th>boston</th>\n",
              "      <th>...</th>\n",
              "      <th>swing</th>\n",
              "      <th>synthpop</th>\n",
              "      <th>talent</th>\n",
              "      <th>techno</th>\n",
              "      <th>tekk</th>\n",
              "      <th>tennessee</th>\n",
              "      <th>tonlist</th>\n",
              "      <th>torch</th>\n",
              "      <th>toronto</th>\n",
              "      <th>touch</th>\n",
              "      <th>trance</th>\n",
              "      <th>trancecore</th>\n",
              "      <th>trap</th>\n",
              "      <th>triste</th>\n",
              "      <th>tropical</th>\n",
              "      <th>tunes</th>\n",
              "      <th>turkish</th>\n",
              "      <th>uk</th>\n",
              "      <th>underground</th>\n",
              "      <th>universitario</th>\n",
              "      <th>unknown</th>\n",
              "      <th>urban</th>\n",
              "      <th>vancouver</th>\n",
              "      <th>vapor</th>\n",
              "      <th>vegas</th>\n",
              "      <th>venezolano</th>\n",
              "      <th>venezuelan</th>\n",
              "      <th>viral</th>\n",
              "      <th>vocal</th>\n",
              "      <th>wave</th>\n",
              "      <th>weirdcore</th>\n",
              "      <th>west</th>\n",
              "      <th>yacht</th>\n",
              "      <th>z</th>\n",
              "      <th>puertorican</th>\n",
              "      <th>Artist Lb</th>\n",
              "      <th>Chord Lb</th>\n",
              "      <th>Release Month</th>\n",
              "      <th>Release Day</th>\n",
              "      <th>Release Weekday</th>\n",
              "    </tr>\n",
              "  </thead>\n",
              "  <tbody>\n",
              "    <tr>\n",
              "      <th>0</th>\n",
              "      <td>3377762.0</td>\n",
              "      <td>100.0</td>\n",
              "      <td>0.714</td>\n",
              "      <td>0.800</td>\n",
              "      <td>-4.808</td>\n",
              "      <td>0.0504</td>\n",
              "      <td>0.1270</td>\n",
              "      <td>0.3590</td>\n",
              "      <td>134.002</td>\n",
              "      <td>211560.0</td>\n",
              "      <td>0.589</td>\n",
              "      <td>0.0</td>\n",
              "      <td>0.0</td>\n",
              "      <td>0.0</td>\n",
              "      <td>0.0</td>\n",
              "      <td>0.0</td>\n",
              "      <td>0.0</td>\n",
              "      <td>0.0</td>\n",
              "      <td>0.0</td>\n",
              "      <td>0.0</td>\n",
              "      <td>0.0</td>\n",
              "      <td>0.0</td>\n",
              "      <td>0.0</td>\n",
              "      <td>0.0</td>\n",
              "      <td>0.0</td>\n",
              "      <td>0.0</td>\n",
              "      <td>0.0</td>\n",
              "      <td>0.0</td>\n",
              "      <td>0.0</td>\n",
              "      <td>0.0</td>\n",
              "      <td>0.0</td>\n",
              "      <td>0.0</td>\n",
              "      <td>0.0</td>\n",
              "      <td>0.0</td>\n",
              "      <td>0.0</td>\n",
              "      <td>0.0</td>\n",
              "      <td>0.0</td>\n",
              "      <td>0.0</td>\n",
              "      <td>0.0</td>\n",
              "      <td>0.0</td>\n",
              "      <td>...</td>\n",
              "      <td>0.0</td>\n",
              "      <td>0.0</td>\n",
              "      <td>0.0</td>\n",
              "      <td>0.0</td>\n",
              "      <td>0.0</td>\n",
              "      <td>0.0</td>\n",
              "      <td>0.0</td>\n",
              "      <td>0.0</td>\n",
              "      <td>0.0</td>\n",
              "      <td>0.0</td>\n",
              "      <td>0.0</td>\n",
              "      <td>0.0</td>\n",
              "      <td>0.0</td>\n",
              "      <td>0.0</td>\n",
              "      <td>0.0</td>\n",
              "      <td>0.0</td>\n",
              "      <td>0.0</td>\n",
              "      <td>0.0</td>\n",
              "      <td>0.0</td>\n",
              "      <td>0.0</td>\n",
              "      <td>0.0</td>\n",
              "      <td>0.0</td>\n",
              "      <td>0.0</td>\n",
              "      <td>0.0</td>\n",
              "      <td>0.0</td>\n",
              "      <td>0.0</td>\n",
              "      <td>0.0</td>\n",
              "      <td>0.0</td>\n",
              "      <td>0.0</td>\n",
              "      <td>0.0</td>\n",
              "      <td>0.0</td>\n",
              "      <td>0.0</td>\n",
              "      <td>0.0</td>\n",
              "      <td>0.0</td>\n",
              "      <td>0.0</td>\n",
              "      <td>331</td>\n",
              "      <td>2</td>\n",
              "      <td>12</td>\n",
              "      <td>8</td>\n",
              "      <td>4</td>\n",
              "    </tr>\n",
              "    <tr>\n",
              "      <th>1</th>\n",
              "      <td>2230022.0</td>\n",
              "      <td>99.0</td>\n",
              "      <td>0.591</td>\n",
              "      <td>0.764</td>\n",
              "      <td>-5.484</td>\n",
              "      <td>0.0483</td>\n",
              "      <td>0.0383</td>\n",
              "      <td>0.1030</td>\n",
              "      <td>169.928</td>\n",
              "      <td>141806.0</td>\n",
              "      <td>0.478</td>\n",
              "      <td>0.0</td>\n",
              "      <td>0.0</td>\n",
              "      <td>0.0</td>\n",
              "      <td>0.0</td>\n",
              "      <td>0.0</td>\n",
              "      <td>0.0</td>\n",
              "      <td>0.0</td>\n",
              "      <td>0.0</td>\n",
              "      <td>0.0</td>\n",
              "      <td>0.0</td>\n",
              "      <td>0.0</td>\n",
              "      <td>0.0</td>\n",
              "      <td>0.0</td>\n",
              "      <td>0.0</td>\n",
              "      <td>0.0</td>\n",
              "      <td>0.0</td>\n",
              "      <td>1.0</td>\n",
              "      <td>0.0</td>\n",
              "      <td>0.0</td>\n",
              "      <td>0.0</td>\n",
              "      <td>0.0</td>\n",
              "      <td>0.0</td>\n",
              "      <td>0.0</td>\n",
              "      <td>0.0</td>\n",
              "      <td>0.0</td>\n",
              "      <td>0.0</td>\n",
              "      <td>0.0</td>\n",
              "      <td>0.0</td>\n",
              "      <td>0.0</td>\n",
              "      <td>...</td>\n",
              "      <td>0.0</td>\n",
              "      <td>0.0</td>\n",
              "      <td>0.0</td>\n",
              "      <td>0.0</td>\n",
              "      <td>0.0</td>\n",
              "      <td>0.0</td>\n",
              "      <td>0.0</td>\n",
              "      <td>0.0</td>\n",
              "      <td>0.0</td>\n",
              "      <td>0.0</td>\n",
              "      <td>0.0</td>\n",
              "      <td>0.0</td>\n",
              "      <td>0.0</td>\n",
              "      <td>0.0</td>\n",
              "      <td>0.0</td>\n",
              "      <td>0.0</td>\n",
              "      <td>0.0</td>\n",
              "      <td>0.0</td>\n",
              "      <td>0.0</td>\n",
              "      <td>0.0</td>\n",
              "      <td>0.0</td>\n",
              "      <td>0.0</td>\n",
              "      <td>0.0</td>\n",
              "      <td>0.0</td>\n",
              "      <td>0.0</td>\n",
              "      <td>0.0</td>\n",
              "      <td>0.0</td>\n",
              "      <td>0.0</td>\n",
              "      <td>0.0</td>\n",
              "      <td>0.0</td>\n",
              "      <td>0.0</td>\n",
              "      <td>0.0</td>\n",
              "      <td>0.0</td>\n",
              "      <td>0.0</td>\n",
              "      <td>0.0</td>\n",
              "      <td>451</td>\n",
              "      <td>4</td>\n",
              "      <td>7</td>\n",
              "      <td>9</td>\n",
              "      <td>4</td>\n",
              "    </tr>\n",
              "    <tr>\n",
              "      <th>2</th>\n",
              "      <td>6266514.0</td>\n",
              "      <td>99.0</td>\n",
              "      <td>0.563</td>\n",
              "      <td>0.664</td>\n",
              "      <td>-5.044</td>\n",
              "      <td>0.1540</td>\n",
              "      <td>0.3350</td>\n",
              "      <td>0.0849</td>\n",
              "      <td>166.928</td>\n",
              "      <td>178147.0</td>\n",
              "      <td>0.688</td>\n",
              "      <td>0.0</td>\n",
              "      <td>0.0</td>\n",
              "      <td>0.0</td>\n",
              "      <td>0.0</td>\n",
              "      <td>0.0</td>\n",
              "      <td>0.0</td>\n",
              "      <td>0.0</td>\n",
              "      <td>0.0</td>\n",
              "      <td>0.0</td>\n",
              "      <td>0.0</td>\n",
              "      <td>0.0</td>\n",
              "      <td>0.0</td>\n",
              "      <td>0.0</td>\n",
              "      <td>0.0</td>\n",
              "      <td>0.0</td>\n",
              "      <td>0.0</td>\n",
              "      <td>0.0</td>\n",
              "      <td>0.0</td>\n",
              "      <td>0.0</td>\n",
              "      <td>0.0</td>\n",
              "      <td>0.0</td>\n",
              "      <td>0.0</td>\n",
              "      <td>0.0</td>\n",
              "      <td>0.0</td>\n",
              "      <td>0.0</td>\n",
              "      <td>0.0</td>\n",
              "      <td>0.0</td>\n",
              "      <td>0.0</td>\n",
              "      <td>0.0</td>\n",
              "      <td>...</td>\n",
              "      <td>0.0</td>\n",
              "      <td>0.0</td>\n",
              "      <td>0.0</td>\n",
              "      <td>0.0</td>\n",
              "      <td>0.0</td>\n",
              "      <td>0.0</td>\n",
              "      <td>0.0</td>\n",
              "      <td>0.0</td>\n",
              "      <td>0.0</td>\n",
              "      <td>0.0</td>\n",
              "      <td>0.0</td>\n",
              "      <td>0.0</td>\n",
              "      <td>0.0</td>\n",
              "      <td>0.0</td>\n",
              "      <td>0.0</td>\n",
              "      <td>0.0</td>\n",
              "      <td>0.0</td>\n",
              "      <td>0.0</td>\n",
              "      <td>0.0</td>\n",
              "      <td>0.0</td>\n",
              "      <td>0.0</td>\n",
              "      <td>0.0</td>\n",
              "      <td>0.0</td>\n",
              "      <td>0.0</td>\n",
              "      <td>0.0</td>\n",
              "      <td>0.0</td>\n",
              "      <td>0.0</td>\n",
              "      <td>0.0</td>\n",
              "      <td>0.0</td>\n",
              "      <td>0.0</td>\n",
              "      <td>0.0</td>\n",
              "      <td>0.0</td>\n",
              "      <td>0.0</td>\n",
              "      <td>0.0</td>\n",
              "      <td>0.0</td>\n",
              "      <td>353</td>\n",
              "      <td>0</td>\n",
              "      <td>5</td>\n",
              "      <td>21</td>\n",
              "      <td>4</td>\n",
              "    </tr>\n",
              "    <tr>\n",
              "      <th>3</th>\n",
              "      <td>83293380.0</td>\n",
              "      <td>98.0</td>\n",
              "      <td>0.808</td>\n",
              "      <td>0.897</td>\n",
              "      <td>-3.712</td>\n",
              "      <td>0.0348</td>\n",
              "      <td>0.0469</td>\n",
              "      <td>0.3640</td>\n",
              "      <td>126.026</td>\n",
              "      <td>231041.0</td>\n",
              "      <td>0.591</td>\n",
              "      <td>0.0</td>\n",
              "      <td>0.0</td>\n",
              "      <td>0.0</td>\n",
              "      <td>0.0</td>\n",
              "      <td>0.0</td>\n",
              "      <td>0.0</td>\n",
              "      <td>0.0</td>\n",
              "      <td>0.0</td>\n",
              "      <td>0.0</td>\n",
              "      <td>0.0</td>\n",
              "      <td>0.0</td>\n",
              "      <td>0.0</td>\n",
              "      <td>0.0</td>\n",
              "      <td>0.0</td>\n",
              "      <td>0.0</td>\n",
              "      <td>0.0</td>\n",
              "      <td>0.0</td>\n",
              "      <td>0.0</td>\n",
              "      <td>0.0</td>\n",
              "      <td>0.0</td>\n",
              "      <td>0.0</td>\n",
              "      <td>0.0</td>\n",
              "      <td>0.0</td>\n",
              "      <td>0.0</td>\n",
              "      <td>0.0</td>\n",
              "      <td>0.0</td>\n",
              "      <td>0.0</td>\n",
              "      <td>0.0</td>\n",
              "      <td>0.0</td>\n",
              "      <td>...</td>\n",
              "      <td>0.0</td>\n",
              "      <td>0.0</td>\n",
              "      <td>0.0</td>\n",
              "      <td>0.0</td>\n",
              "      <td>0.0</td>\n",
              "      <td>0.0</td>\n",
              "      <td>0.0</td>\n",
              "      <td>0.0</td>\n",
              "      <td>0.0</td>\n",
              "      <td>0.0</td>\n",
              "      <td>0.0</td>\n",
              "      <td>0.0</td>\n",
              "      <td>0.0</td>\n",
              "      <td>0.0</td>\n",
              "      <td>0.0</td>\n",
              "      <td>0.0</td>\n",
              "      <td>0.0</td>\n",
              "      <td>1.0</td>\n",
              "      <td>0.0</td>\n",
              "      <td>0.0</td>\n",
              "      <td>0.0</td>\n",
              "      <td>0.0</td>\n",
              "      <td>0.0</td>\n",
              "      <td>0.0</td>\n",
              "      <td>0.0</td>\n",
              "      <td>0.0</td>\n",
              "      <td>0.0</td>\n",
              "      <td>0.0</td>\n",
              "      <td>0.0</td>\n",
              "      <td>0.0</td>\n",
              "      <td>0.0</td>\n",
              "      <td>0.0</td>\n",
              "      <td>0.0</td>\n",
              "      <td>0.0</td>\n",
              "      <td>0.0</td>\n",
              "      <td>141</td>\n",
              "      <td>2</td>\n",
              "      <td>6</td>\n",
              "      <td>25</td>\n",
              "      <td>4</td>\n",
              "    </tr>\n",
              "    <tr>\n",
              "      <th>4</th>\n",
              "      <td>5473565.0</td>\n",
              "      <td>96.0</td>\n",
              "      <td>0.736</td>\n",
              "      <td>0.704</td>\n",
              "      <td>-7.409</td>\n",
              "      <td>0.0615</td>\n",
              "      <td>0.0203</td>\n",
              "      <td>0.0501</td>\n",
              "      <td>149.995</td>\n",
              "      <td>212000.0</td>\n",
              "      <td>0.894</td>\n",
              "      <td>0.0</td>\n",
              "      <td>0.0</td>\n",
              "      <td>0.0</td>\n",
              "      <td>0.0</td>\n",
              "      <td>0.0</td>\n",
              "      <td>0.0</td>\n",
              "      <td>0.0</td>\n",
              "      <td>0.0</td>\n",
              "      <td>0.0</td>\n",
              "      <td>0.0</td>\n",
              "      <td>0.0</td>\n",
              "      <td>0.0</td>\n",
              "      <td>0.0</td>\n",
              "      <td>0.0</td>\n",
              "      <td>0.0</td>\n",
              "      <td>0.0</td>\n",
              "      <td>0.0</td>\n",
              "      <td>0.0</td>\n",
              "      <td>0.0</td>\n",
              "      <td>0.0</td>\n",
              "      <td>0.0</td>\n",
              "      <td>0.0</td>\n",
              "      <td>0.0</td>\n",
              "      <td>0.0</td>\n",
              "      <td>0.0</td>\n",
              "      <td>0.0</td>\n",
              "      <td>0.0</td>\n",
              "      <td>0.0</td>\n",
              "      <td>0.0</td>\n",
              "      <td>...</td>\n",
              "      <td>0.0</td>\n",
              "      <td>0.0</td>\n",
              "      <td>0.0</td>\n",
              "      <td>0.0</td>\n",
              "      <td>0.0</td>\n",
              "      <td>0.0</td>\n",
              "      <td>0.0</td>\n",
              "      <td>0.0</td>\n",
              "      <td>0.0</td>\n",
              "      <td>0.0</td>\n",
              "      <td>0.0</td>\n",
              "      <td>0.0</td>\n",
              "      <td>0.0</td>\n",
              "      <td>0.0</td>\n",
              "      <td>0.0</td>\n",
              "      <td>0.0</td>\n",
              "      <td>0.0</td>\n",
              "      <td>0.0</td>\n",
              "      <td>0.0</td>\n",
              "      <td>0.0</td>\n",
              "      <td>0.0</td>\n",
              "      <td>0.0</td>\n",
              "      <td>0.0</td>\n",
              "      <td>0.0</td>\n",
              "      <td>0.0</td>\n",
              "      <td>0.0</td>\n",
              "      <td>0.0</td>\n",
              "      <td>0.0</td>\n",
              "      <td>0.0</td>\n",
              "      <td>0.0</td>\n",
              "      <td>0.0</td>\n",
              "      <td>0.0</td>\n",
              "      <td>0.0</td>\n",
              "      <td>0.0</td>\n",
              "      <td>0.0</td>\n",
              "      <td>261</td>\n",
              "      <td>6</td>\n",
              "      <td>7</td>\n",
              "      <td>23</td>\n",
              "      <td>4</td>\n",
              "    </tr>\n",
              "  </tbody>\n",
              "</table>\n",
              "<p>5 rows × 295 columns</p>\n",
              "</div>"
            ],
            "text/plain": [
              "   Artist Followers  Popularity  ...  Release Day  Release Weekday\n",
              "0         3377762.0       100.0  ...            8                4\n",
              "1         2230022.0        99.0  ...            9                4\n",
              "2         6266514.0        99.0  ...           21                4\n",
              "3        83293380.0        98.0  ...           25                4\n",
              "4         5473565.0        96.0  ...           23                4\n",
              "\n",
              "[5 rows x 295 columns]"
            ]
          },
          "metadata": {},
          "execution_count": 477
        }
      ]
    },
    {
      "cell_type": "markdown",
      "metadata": {
        "id": "o8EipOm6a-Hj"
      },
      "source": [
        "# Exploratory Data Analysis (EDA)\n",
        "\n",
        "* Get correlations on continuous variables\n",
        " * Artist Followers\n",
        " * Danceability\n",
        " * Energy\n",
        " * Loudness\n",
        " * Speechiness\n",
        " * Acousticness\n",
        " * Liveness\n",
        " * Tempo\n",
        " * Duration (ms)\n",
        " * Valence\n",
        " * Release Month, Day, Weekday\n",
        "* TODO: Get average popularity across genres\n"
      ]
    },
    {
      "cell_type": "code",
      "metadata": {
        "id": "U7K_PvnLQeaC"
      },
      "source": [
        "# Get lists of columns that can be used for further analysis\n",
        "continuous_cols = ['Artist Followers','Danceability','Energy','Loudness','Speechiness','Acousticness','Liveness','Tempo',\n",
        "                  'Duration (ms)','Valence']\n",
        "other_cols = ['Artist Lb','Chord Lb']\n",
        "release_date_cols = ['Release Month','Release Day','Release Weekday']\n",
        "non_genre_cols = continuous_cols + other_cols + release_date_cols + ['Popularity']\n",
        "cols_to_keep = non_genre_cols + genres_to_keep"
      ],
      "execution_count": null,
      "outputs": []
    },
    {
      "cell_type": "markdown",
      "metadata": {
        "id": "m0hkrNy6WHri"
      },
      "source": [
        "## Histograms - Continuous Variables"
      ]
    },
    {
      "cell_type": "code",
      "metadata": {
        "id": "ucIMuthIAMAv",
        "colab": {
          "base_uri": "https://localhost:8080/",
          "height": 499
        },
        "outputId": "e89129fe-44fe-4bed-8fe5-3d9813b0acc6"
      },
      "source": [
        "# Get continuous variables into a dataframe for analysis\n",
        "data_eda_cnt = data_clean_enc[continuous_cols].copy()\n",
        "\n",
        "# Get histograms of continuous variables to note biases in the data.\n",
        "across = 5\n",
        "down = 2\n",
        "fig, axs = plt.subplots(down,across, figsize = (20,8))\n",
        "plt.subplots_adjust(hspace=.5)\n",
        "\n",
        "n = 0\n",
        "for i in range(down): #loop rows\n",
        "  for j in range(across): #loop cols\n",
        "    if n < data_eda_cnt.shape[1]: #safety to avoid array out of bounds error - don't exceed number of cols\n",
        "      col = data_eda_cnt.columns[n]\n",
        "      axs[i,j].hist(data_eda_cnt[col])\n",
        "      axs[i,j].set_title(col)\n",
        "      n+=1"
      ],
      "execution_count": null,
      "outputs": [
        {
          "output_type": "display_data",
          "data": {
            "image/png": "[encoded data removed]",
            "text/plain": [
              "<Figure size 1440x576 with 10 Axes>"
            ]
          },
          "metadata": {
            "needs_background": "light"
          }
        }
      ]
    },
    {
      "cell_type": "code",
      "metadata": {
        "colab": {
          "base_uri": "https://localhost:8080/",
          "height": 299
        },
        "id": "RhQm4Al2PlNO",
        "outputId": "56a6911a-3275-4305-8ee2-fb95baa306da"
      },
      "source": [
        "# Get stats on continuous variables\n",
        "data_eda_cnt.describe()"
      ],
      "execution_count": null,
      "outputs": [
        {
          "output_type": "execute_result",
          "data": {
            "text/html": [
              "<div>\n",
              "<style scoped>\n",
              "    .dataframe tbody tr th:only-of-type {\n",
              "        vertical-align: middle;\n",
              "    }\n",
              "\n",
              "    .dataframe tbody tr th {\n",
              "        vertical-align: top;\n",
              "    }\n",
              "\n",
              "    .dataframe thead th {\n",
              "        text-align: right;\n",
              "    }\n",
              "</style>\n",
              "<table border=\"1\" class=\"dataframe\">\n",
              "  <thead>\n",
              "    <tr style=\"text-align: right;\">\n",
              "      <th></th>\n",
              "      <th>Artist Followers</th>\n",
              "      <th>Danceability</th>\n",
              "      <th>Energy</th>\n",
              "      <th>Loudness</th>\n",
              "      <th>Speechiness</th>\n",
              "      <th>Acousticness</th>\n",
              "      <th>Liveness</th>\n",
              "      <th>Tempo</th>\n",
              "      <th>Duration (ms)</th>\n",
              "      <th>Valence</th>\n",
              "    </tr>\n",
              "  </thead>\n",
              "  <tbody>\n",
              "    <tr>\n",
              "      <th>count</th>\n",
              "      <td>1.545000e+03</td>\n",
              "      <td>1545.000000</td>\n",
              "      <td>1545.000000</td>\n",
              "      <td>1545.000000</td>\n",
              "      <td>1545.000000</td>\n",
              "      <td>1545.000000</td>\n",
              "      <td>1545.000000</td>\n",
              "      <td>1545.000000</td>\n",
              "      <td>1545.000000</td>\n",
              "      <td>1545.000000</td>\n",
              "    </tr>\n",
              "    <tr>\n",
              "      <th>mean</th>\n",
              "      <td>1.471690e+07</td>\n",
              "      <td>0.689997</td>\n",
              "      <td>0.633495</td>\n",
              "      <td>-6.348474</td>\n",
              "      <td>0.123656</td>\n",
              "      <td>0.248695</td>\n",
              "      <td>0.181202</td>\n",
              "      <td>122.811023</td>\n",
              "      <td>197940.816828</td>\n",
              "      <td>0.514704</td>\n",
              "    </tr>\n",
              "    <tr>\n",
              "      <th>std</th>\n",
              "      <td>1.667579e+07</td>\n",
              "      <td>0.142444</td>\n",
              "      <td>0.161577</td>\n",
              "      <td>2.509281</td>\n",
              "      <td>0.110383</td>\n",
              "      <td>0.250326</td>\n",
              "      <td>0.144071</td>\n",
              "      <td>29.591088</td>\n",
              "      <td>47148.930420</td>\n",
              "      <td>0.227326</td>\n",
              "    </tr>\n",
              "    <tr>\n",
              "      <th>min</th>\n",
              "      <td>4.883000e+03</td>\n",
              "      <td>0.150000</td>\n",
              "      <td>0.054000</td>\n",
              "      <td>-25.166000</td>\n",
              "      <td>0.023200</td>\n",
              "      <td>0.000025</td>\n",
              "      <td>0.019700</td>\n",
              "      <td>46.718000</td>\n",
              "      <td>30133.000000</td>\n",
              "      <td>0.032000</td>\n",
              "    </tr>\n",
              "    <tr>\n",
              "      <th>25%</th>\n",
              "      <td>2.123734e+06</td>\n",
              "      <td>0.599000</td>\n",
              "      <td>0.532000</td>\n",
              "      <td>-7.491000</td>\n",
              "      <td>0.045600</td>\n",
              "      <td>0.048500</td>\n",
              "      <td>0.096600</td>\n",
              "      <td>97.960000</td>\n",
              "      <td>169266.000000</td>\n",
              "      <td>0.343000</td>\n",
              "    </tr>\n",
              "    <tr>\n",
              "      <th>50%</th>\n",
              "      <td>6.852509e+06</td>\n",
              "      <td>0.707000</td>\n",
              "      <td>0.642000</td>\n",
              "      <td>-5.990000</td>\n",
              "      <td>0.076500</td>\n",
              "      <td>0.161000</td>\n",
              "      <td>0.124000</td>\n",
              "      <td>122.012000</td>\n",
              "      <td>193591.000000</td>\n",
              "      <td>0.512000</td>\n",
              "    </tr>\n",
              "    <tr>\n",
              "      <th>75%</th>\n",
              "      <td>2.269875e+07</td>\n",
              "      <td>0.796000</td>\n",
              "      <td>0.752000</td>\n",
              "      <td>-4.711000</td>\n",
              "      <td>0.165000</td>\n",
              "      <td>0.388000</td>\n",
              "      <td>0.217000</td>\n",
              "      <td>143.860000</td>\n",
              "      <td>218902.000000</td>\n",
              "      <td>0.691000</td>\n",
              "    </tr>\n",
              "    <tr>\n",
              "      <th>max</th>\n",
              "      <td>8.333778e+07</td>\n",
              "      <td>0.980000</td>\n",
              "      <td>0.970000</td>\n",
              "      <td>1.509000</td>\n",
              "      <td>0.884000</td>\n",
              "      <td>0.994000</td>\n",
              "      <td>0.962000</td>\n",
              "      <td>205.272000</td>\n",
              "      <td>588139.000000</td>\n",
              "      <td>0.979000</td>\n",
              "    </tr>\n",
              "  </tbody>\n",
              "</table>\n",
              "</div>"
            ],
            "text/plain": [
              "       Artist Followers  Danceability  ...  Duration (ms)      Valence\n",
              "count      1.545000e+03   1545.000000  ...    1545.000000  1545.000000\n",
              "mean       1.471690e+07      0.689997  ...  197940.816828     0.514704\n",
              "std        1.667579e+07      0.142444  ...   47148.930420     0.227326\n",
              "min        4.883000e+03      0.150000  ...   30133.000000     0.032000\n",
              "25%        2.123734e+06      0.599000  ...  169266.000000     0.343000\n",
              "50%        6.852509e+06      0.707000  ...  193591.000000     0.512000\n",
              "75%        2.269875e+07      0.796000  ...  218902.000000     0.691000\n",
              "max        8.333778e+07      0.980000  ...  588139.000000     0.979000\n",
              "\n",
              "[8 rows x 10 columns]"
            ]
          },
          "metadata": {},
          "execution_count": 480
        }
      ]
    },
    {
      "cell_type": "markdown",
      "metadata": {
        "id": "41EoDpohcM9y"
      },
      "source": [
        "### Observations\n",
        "\n",
        "* **Artist Followers** is negatively skewed indicating that many newly released songs do not have very many followers. \n",
        "\n",
        "* **Danceability and energy** are positively skewed indicating that many new songs are high energy.\n",
        "\n",
        "* **Loudness** is measured in Loudness Units Relative to Full Scale (LUFS). The value provided in the file is the adjustment that was applied to bring the decibels down to the same -14 LUFS value so that a listener can avoid large fluctions in loudness from song to song. Therefore a large negative means the song was much louder so that it had to be adjusted down more to get within Spotify's desired range. In looking at the data, it is apparant that most songs required some adjustment.\n",
        "\n",
        "* **Speechiness** indicates how many spoken words are on a track. High speechiness indicates the song is mostly spoken words. Smaller numbers indicate new songs are more musical with fewer words.\n",
        "\n",
        "* **Valence** indicates music positivity. A higher valence indicates the music is more positive or cheerful whereas a lower valence indicates the song is more negative, sad, angry, or depressed. The new song list valence is normally distributed indicating songs are pretty neutral in this area.\n",
        "\n",
        "* **Liveness** indicates the presence of an audience in the music. This value is negatively skewed indicating most songs were performed in studio without a live audience.\n",
        "\n",
        "* **Acousticness** indicates how much electrical amplification is in a song. Smaller numbers show that a large number of new songs are more natural in sound using less electrical amplification. \n",
        "\n",
        "* **Song duration** is normally distributed with most songs running around 3 minutes.\n",
        "\n",
        "* **Tempo** is normally distributed with most songs having a beat between 100 and 150 beats per minute. Here are some [common tempos by genre](https://learningmusic.ableton.com/make-beats/tempo-and-genre.html):\n",
        "  * Dub: 60-90 bpm.\n",
        "  * Hip-hop: 60-100 bpm.\n",
        "  * House: 115-130 bpm.\n",
        "  * Techno/trance: 120-140 bpm.\n",
        "  * Dubstep: 135-145 bpm.\n",
        "  * Drum and bass: 160-180 bpm"
      ]
    },
    {
      "cell_type": "markdown",
      "metadata": {
        "id": "3t4Qhhq9WVz8"
      },
      "source": [
        "## Pie Charts - Categorical Variables"
      ]
    },
    {
      "cell_type": "code",
      "metadata": {
        "colab": {
          "base_uri": "https://localhost:8080/",
          "height": 344
        },
        "id": "KvnKrv-3QSi_",
        "outputId": "9c0ba1f9-abc5-4ab1-9397-0d11e3355daf"
      },
      "source": [
        "# Get continuous variables into a dataframe for analysis\n",
        "data_eda_rlse = data_clean_enc[release_date_cols].copy()\n",
        "\n",
        "# Show pie plots to observe value distribution\n",
        "fig, (ax1, ax2, ax3) = plt.subplots(1,3, figsize = (17,14))\n",
        "plt.subplots_adjust(hspace=.25)\n",
        "\n",
        "data_eda_rlse['Release Month'].value_counts().plot.pie(ax=ax1)\n",
        "data_eda_rlse['Release Day'].value_counts().plot.pie(ax=ax2)\n",
        "data_eda_rlse['Release Weekday'].value_counts().plot.pie(ax=ax3, title='Week Starts with Sunday=0')\n"
      ],
      "execution_count": null,
      "outputs": [
        {
          "output_type": "execute_result",
          "data": {
            "text/plain": [
              "<matplotlib.axes._subplots.AxesSubplot at 0x7f3b21fea4d0>"
            ]
          },
          "metadata": {},
          "execution_count": 481
        },
        {
          "output_type": "display_data",
          "data": {
            "image/png": "[encoded data removed]",
            "text/plain": [
              "<Figure size 1224x1008 with 3 Axes>"
            ]
          },
          "metadata": {}
        }
      ]
    },
    {
      "cell_type": "markdown",
      "metadata": {
        "id": "vnZ__VYlbx4O"
      },
      "source": [
        "### Observations\n",
        "\n",
        "Release Month and Release Day are pretty evenly distributed. However, **weekday for release is significantly higher for Wednesday and Thursday** indicating that a successful release should be on one of those two days."
      ]
    },
    {
      "cell_type": "markdown",
      "metadata": {
        "id": "RL2QX0yLW2vF"
      },
      "source": [
        "## Correlations Between Predictors"
      ]
    },
    {
      "cell_type": "code",
      "metadata": {
        "colab": {
          "base_uri": "https://localhost:8080/",
          "height": 690
        },
        "id": "hQcbRf81W6yJ",
        "outputId": "bd22a60f-ce2b-4ba6-ce89-a0742cd6aaca"
      },
      "source": [
        "# Correlations between variables - non-genre\n",
        "data_eda_corr = data_clean_enc[non_genre_cols].copy()\n",
        "\n",
        "plt.figure(figsize=(15,10))\n",
        "correlation_matrix = data_eda_corr.corr().round(2)\n",
        "sns.heatmap(data=correlation_matrix, annot=True, cmap='Greens')"
      ],
      "execution_count": null,
      "outputs": [
        {
          "output_type": "execute_result",
          "data": {
            "text/plain": [
              "<matplotlib.axes._subplots.AxesSubplot at 0x7f3b221cb850>"
            ]
          },
          "metadata": {},
          "execution_count": 482
        },
        {
          "output_type": "display_data",
          "data": {
            "image/png": "[encoded data removed]",
            "text/plain": [
              "<Figure size 1080x720 with 2 Axes>"
            ]
          },
          "metadata": {
            "needs_background": "light"
          }
        }
      ]
    },
    {
      "cell_type": "markdown",
      "metadata": {
        "id": "teA4xFjna7JT"
      },
      "source": [
        "### Observations\n",
        "\n",
        "* Energy and Loudness were highly correlated indicating high loudness resulted in high energy.\n",
        "\n",
        "* Valence showed moderate correlation with Danceability, Energy, and Loudness indicating that positive songs might also have high danceability, energy, and loudness. \n",
        "\n",
        "* Acousticness was negatively correlated with Danceability, Energy, and Loudness indicating more natural sounds did not contribute to these three categories.\n",
        "\n",
        "* All other correlations were modest indicating other variables were more independent."
      ]
    },
    {
      "cell_type": "markdown",
      "metadata": {
        "id": "7CFQjHRAdKeH"
      },
      "source": [
        "## Correlations with Popularity"
      ]
    },
    {
      "cell_type": "code",
      "metadata": {
        "colab": {
          "base_uri": "https://localhost:8080/"
        },
        "id": "37AP5v_5ciOJ",
        "outputId": "3f32a716-62f7-422b-f512-8b6f45222b1a"
      },
      "source": [
        "# Correlations between target and predictors to see which predictors have a linear correlation with Popularity.\n",
        "corr = data_eda_corr.corr()['Popularity'].round(3)\n",
        "correlated_vars = abs(corr).sort_values(ascending=False)\n",
        "correlated_vars"
      ],
      "execution_count": null,
      "outputs": [
        {
          "output_type": "execute_result",
          "data": {
            "text/plain": [
              "Popularity          1.000\n",
              "Loudness            0.159\n",
              "Artist Followers    0.104\n",
              "Energy              0.095\n",
              "Acousticness        0.091\n",
              "Release Day         0.090\n",
              "Duration (ms)       0.082\n",
              "Release Month       0.064\n",
              "Chord Lb            0.046\n",
              "Release Weekday     0.041\n",
              "Artist Lb           0.041\n",
              "Speechiness         0.032\n",
              "Liveness            0.029\n",
              "Danceability        0.028\n",
              "Tempo               0.025\n",
              "Valence             0.001\n",
              "Name: Popularity, dtype: float64"
            ]
          },
          "metadata": {},
          "execution_count": 483
        }
      ]
    },
    {
      "cell_type": "markdown",
      "metadata": {
        "id": "rNCJOTZXeuDg"
      },
      "source": [
        "### Observations\n",
        "\n",
        "Looking at linear correlations between Popularity (target) and the predictor columns indicates that there is **very little correlation between predictors and the target** indicating that a more complex relationship exists between the predictors and target. Therefore, further analysis will need to be done to determine how the predictors will affect song Popularity."
      ]
    },
    {
      "cell_type": "markdown",
      "metadata": {
        "id": "n2pVtkyHbAuB"
      },
      "source": [
        "# Processing\n",
        "\n",
        "[Decision Trees Notebook](https://colab.research.google.com/drive/1VemtU48HSaw8l70PCYNtMSWYjIAkZ05B)\n",
        "\n",
        "[Random Forest Notebook](https://colab.research.google.com/drive/1eovGCLgqtIIOIpqGqTmOVmgpTOaRBlvN)\n",
        "\n",
        "[XG Boost Notebook](https://colab.research.google.com/drive/1N2T8cBBQMQzJMklUjCNicu--IBVcmUFh)"
      ]
    },
    {
      "cell_type": "markdown",
      "metadata": {
        "id": "VtTWZkB8dXKX"
      },
      "source": [
        "### Prepare Test Data"
      ]
    },
    {
      "cell_type": "code",
      "metadata": {
        "id": "UDtibFyEdSK8"
      },
      "source": [
        "# Create new dataset that contains the columns we want to keep for our analysis.\n",
        "# data_final = data_clean_enc[cols_to_keep].copy()\n",
        "data_final = data_clean_enc[non_genre_cols].copy()\n",
        "\n",
        "# Break up data into training and testing sets\n",
        "X = data_final.drop(['Popularity'], axis = 1).copy()\n",
        "y = data_final['Popularity']\n",
        "\n",
        "# Get target and feature names for visualizations\n",
        "target_name = 'Popularity'\n",
        "feature_names = X.columns.to_list()\n",
        "\n",
        "# List parameters to be used in all models\n",
        "test_size = 0.2"
      ],
      "execution_count": 505,
      "outputs": []
    },
    {
      "cell_type": "markdown",
      "metadata": {
        "id": "671Vnj49Z4sU"
      },
      "source": [
        "## Decision Tree"
      ]
    },
    {
      "cell_type": "code",
      "metadata": {
        "id": "NPvGCUJ_Ew9P",
        "colab": {
          "base_uri": "https://localhost:8080/"
        },
        "outputId": "9cb2f7bc-5553-4568-9beb-bd2abe482a97"
      },
      "source": [
        "# Number of iterations for cross validation\n",
        "# Loop of 10 produces inconsistent results. \n",
        "# Anything over 50 produces optimal max depth between 5 and 7 - numbers are very close for all three.\n",
        "num_loops = 200\n",
        "\n",
        "# Try different max depth for each CV test.\n",
        "max_depth = [1, 2, 3, 4, 5, 6, 7, 8]\n",
        "rms_depth = np.zeros(len(max_depth))\n",
        "\n",
        "for n, depth in enumerate(max_depth):\n",
        "  # Storage for each result so we can get mean from all iterations.\n",
        "  rmse_results = np.zeros(num_loops)\n",
        "  for idx in range(0,num_loops):\n",
        "    # Create train and test data sets.\n",
        "    X_train, X_test, y_train, y_test = train_test_split(X,y,test_size=test_size)\n",
        "    # Configure model\n",
        "    model_dt = DecisionTreeRegressor(max_depth=depth, random_state=0) \n",
        "    model_dt.fit(X_train,y_train)\n",
        "    y_pred_dt = model_dt.predict(X_test)\n",
        "    rmse_results[idx] = np.sqrt(mean_squared_error(y_test, y_pred_dt))\n",
        "\n",
        "  # Record RMSE by depth to find optimal depth\n",
        "  rms_depth[n] = rmse_results.mean().round(3)\n",
        "\n",
        "# Print result so we can see which depth provided best RMSE\n",
        "print(f\"CV RMSE by Depth:\\n\")\n",
        "for n, depth in enumerate(max_depth):\n",
        "  print(f'Depth={max_depth[n]} | RMSE={rms_depth[n]}')\n",
        "  if rms_depth[n] == rms_depth.min():\n",
        "    optimal_depth = max_depth[n]\n",
        "    optimal_rmse = rms_depth[n]\n",
        "    print(f'Optimal Depth={optimal_depth}')"
      ],
      "execution_count": 506,
      "outputs": [
        {
          "output_type": "stream",
          "name": "stdout",
          "text": [
            "CV RMSE by Depth:\n",
            "\n",
            "Depth=1 | RMSE=15.265\n",
            "Depth=2 | RMSE=11.115\n",
            "Depth=3 | RMSE=10.656\n",
            "Depth=4 | RMSE=10.619\n",
            "Optimal Depth=4\n",
            "Depth=5 | RMSE=10.711\n",
            "Depth=6 | RMSE=10.764\n",
            "Depth=7 | RMSE=11.109\n",
            "Depth=8 | RMSE=11.469\n"
          ]
        }
      ]
    },
    {
      "cell_type": "code",
      "metadata": {
        "id": "S7HFwGNwibVG",
        "colab": {
          "base_uri": "https://localhost:8080/",
          "height": 334
        },
        "outputId": "f506cfc9-de09-4197-aa35-4b0889e66af5"
      },
      "source": [
        "# Plot result of max depth showing optimal depth.\n",
        "plt.figure(figsize = (8,5))\n",
        "plt.plot(max_depth, rms_depth)\n",
        "plt.plot(optimal_depth,optimal_rmse,'rx', markersize=10, markeredgewidth=3) \n",
        "plt.xlabel('Max Depth')\n",
        "plt.ylabel('RMSE')\n",
        "plt.grid()"
      ],
      "execution_count": 507,
      "outputs": [
        {
          "output_type": "display_data",
          "data": {
            "image/png": "[encoded data removed]",
            "text/plain": [
              "<Figure size 576x360 with 1 Axes>"
            ]
          },
          "metadata": {
            "needs_background": "light"
          }
        }
      ]
    },
    {
      "cell_type": "code",
      "metadata": {
        "id": "GrbomCl-miW5",
        "colab": {
          "base_uri": "https://localhost:8080/"
        },
        "outputId": "c62ce252-2f96-498c-c1ec-8c2f2aa1a219"
      },
      "source": [
        "# Train model with optimal max depth\n",
        "X_train, X_test, y_train, y_test = train_test_split(X,y,test_size=test_size)\n",
        "model_dt = DecisionTreeRegressor(max_depth=optimal_depth, random_state=0) \n",
        "model_dt.fit(X_train,y_train)\n",
        "y_pred_dt = model_dt.predict(X_test)\n",
        "rms_error = np.sqrt(mean_squared_error(y_test, y_pred_dt))\n",
        "\n",
        "print(f\"Optimal RMSE: {rms_error.round(2)}\")"
      ],
      "execution_count": 508,
      "outputs": [
        {
          "output_type": "stream",
          "name": "stdout",
          "text": [
            "Optimal RMSE: 10.29\n"
          ]
        }
      ]
    },
    {
      "cell_type": "code",
      "metadata": {
        "id": "trsZaPKVt0Na",
        "colab": {
          "base_uri": "https://localhost:8080/",
          "height": 677
        },
        "outputId": "83c2ba31-55da-4302-f6a3-a8873b97d6e1"
      },
      "source": [
        "# Show Tree\n",
        "display(graphviz.Source(tree.export_graphviz(model_dt, feature_names=feature_names, filled = True)))"
      ],
      "execution_count": 509,
      "outputs": [
        {
          "output_type": "display_data",
          "data": {
            "text/plain": [
              "<graphviz.files.Source at 0x7f3b2183bb50>"
            ],
            "image/svg+xml": "<?xml version=\"1.0\" encoding=\"UTF-8\" standalone=\"no\"?>\n<!DOCTYPE svg PUBLIC \"-//W3C//DTD SVG 1.1//EN\"\n \"http://www.w3.org/Graphics/SVG/1.1/DTD/svg11.dtd\">\n<!-- Generated by graphviz version 2.40.1 (20161225.0304)\n -->\n<!-- Title: Tree Pages: 1 -->\n<svg width=\"1873pt\" height=\"477pt\"\n viewBox=\"0.00 0.00 1873.00 477.00\" xmlns=\"http://www.w3.org/2000/svg\" xmlns:xlink=\"http://www.w3.org/1999/xlink\">\n<g id=\"graph0\" class=\"graph\" transform=\"scale(1 1) rotate(0) translate(4 473)\">\n<title>Tree</title>\n<polygon fill=\"#ffffff\" stroke=\"transparent\" points=\"-4,4 -4,-473 1869,-473 1869,4 -4,4\"/>\n<!-- 0 -->\n<g id=\"node1\" class=\"node\">\n<title>0</title>\n<polygon fill=\"#e88e4d\" stroke=\"#000000\" points=\"992.5,-469 795.5,-469 795.5,-401 992.5,-401 992.5,-469\"/>\n<text text-anchor=\"middle\" x=\"894\" y=\"-453.8\" font-family=\"Times,serif\" font-size=\"14.00\" fill=\"#000000\">Artist Followers &lt;= 1258162.5</text>\n<text text-anchor=\"middle\" x=\"894\" y=\"-438.8\" font-family=\"Times,serif\" font-size=\"14.00\" fill=\"#000000\">mse = 249.951</text>\n<text text-anchor=\"middle\" x=\"894\" y=\"-423.8\" font-family=\"Times,serif\" font-size=\"14.00\" fill=\"#000000\">samples = 1236</text>\n<text text-anchor=\"middle\" x=\"894\" y=\"-408.8\" font-family=\"Times,serif\" font-size=\"14.00\" fill=\"#000000\">value = 70.061</text>\n</g>\n<!-- 1 -->\n<g id=\"node2\" class=\"node\">\n<title>1</title>\n<polygon fill=\"#eb9d64\" stroke=\"#000000\" points=\"804.5,-365 607.5,-365 607.5,-297 804.5,-297 804.5,-365\"/>\n<text text-anchor=\"middle\" x=\"706\" y=\"-349.8\" font-family=\"Times,serif\" font-size=\"14.00\" fill=\"#000000\">Artist Followers &lt;= 1249426.0</text>\n<text text-anchor=\"middle\" x=\"706\" y=\"-334.8\" font-family=\"Times,serif\" font-size=\"14.00\" fill=\"#000000\">mse = 797.665</text>\n<text text-anchor=\"middle\" x=\"706\" y=\"-319.8\" font-family=\"Times,serif\" font-size=\"14.00\" fill=\"#000000\">samples = 231</text>\n<text text-anchor=\"middle\" x=\"706\" y=\"-304.8\" font-family=\"Times,serif\" font-size=\"14.00\" fill=\"#000000\">value = 61.039</text>\n</g>\n<!-- 0&#45;&gt;1 -->\n<g id=\"edge1\" class=\"edge\">\n<title>0&#45;&gt;1</title>\n<path fill=\"none\" stroke=\"#000000\" d=\"M832.4418,-400.9465C814.5883,-391.0701 794.9552,-380.2093 776.5944,-370.0522\"/>\n<polygon fill=\"#000000\" stroke=\"#000000\" points=\"778.1411,-366.908 767.6965,-365.13 774.7527,-373.0333 778.1411,-366.908\"/>\n<text text-anchor=\"middle\" x=\"774.608\" y=\"-385.4556\" font-family=\"Times,serif\" font-size=\"14.00\" fill=\"#000000\">True</text>\n</g>\n<!-- 16 -->\n<g id=\"node17\" class=\"node\">\n<title>16</title>\n<polygon fill=\"#e78b48\" stroke=\"#000000\" points=\"1209.5,-365 1064.5,-365 1064.5,-297 1209.5,-297 1209.5,-365\"/>\n<text text-anchor=\"middle\" x=\"1137\" y=\"-349.8\" font-family=\"Times,serif\" font-size=\"14.00\" fill=\"#000000\">Release Month &lt;= 2.5</text>\n<text text-anchor=\"middle\" x=\"1137\" y=\"-334.8\" font-family=\"Times,serif\" font-size=\"14.00\" fill=\"#000000\">mse = 101.046</text>\n<text text-anchor=\"middle\" x=\"1137\" y=\"-319.8\" font-family=\"Times,serif\" font-size=\"14.00\" fill=\"#000000\">samples = 1005</text>\n<text text-anchor=\"middle\" x=\"1137\" y=\"-304.8\" font-family=\"Times,serif\" font-size=\"14.00\" fill=\"#000000\">value = 72.135</text>\n</g>\n<!-- 0&#45;&gt;16 -->\n<g id=\"edge16\" class=\"edge\">\n<title>0&#45;&gt;16</title>\n<path fill=\"none\" stroke=\"#000000\" d=\"M973.5673,-400.9465C999.5787,-389.8141 1028.5127,-377.4308 1054.7198,-366.2146\"/>\n<polygon fill=\"#000000\" stroke=\"#000000\" points=\"1056.4249,-369.292 1064.2412,-362.1396 1053.6706,-362.8566 1056.4249,-369.292\"/>\n<text text-anchor=\"middle\" x=\"1054.9449\" y=\"-381.6469\" font-family=\"Times,serif\" font-size=\"14.00\" fill=\"#000000\">False</text>\n</g>\n<!-- 2 -->\n<g id=\"node3\" class=\"node\">\n<title>2</title>\n<polygon fill=\"#e78a47\" stroke=\"#000000\" points=\"449,-261 315,-261 315,-193 449,-193 449,-261\"/>\n<text text-anchor=\"middle\" x=\"382\" y=\"-245.8\" font-family=\"Times,serif\" font-size=\"14.00\" fill=\"#000000\">Loudness &lt;= &#45;11.99</text>\n<text text-anchor=\"middle\" x=\"382\" y=\"-230.8\" font-family=\"Times,serif\" font-size=\"14.00\" fill=\"#000000\">mse = 142.361</text>\n<text text-anchor=\"middle\" x=\"382\" y=\"-215.8\" font-family=\"Times,serif\" font-size=\"14.00\" fill=\"#000000\">samples = 190</text>\n<text text-anchor=\"middle\" x=\"382\" y=\"-200.8\" font-family=\"Times,serif\" font-size=\"14.00\" fill=\"#000000\">value = 72.432</text>\n</g>\n<!-- 1&#45;&gt;2 -->\n<g id=\"edge2\" class=\"edge\">\n<title>1&#45;&gt;2</title>\n<path fill=\"none\" stroke=\"#000000\" d=\"M607.4697,-299.373C559.7709,-284.0623 503.3524,-265.9526 458.8841,-251.6788\"/>\n<polygon fill=\"#000000\" stroke=\"#000000\" points=\"459.8879,-248.3252 449.2967,-248.6014 457.7485,-254.9903 459.8879,-248.3252\"/>\n</g>\n<!-- 9 -->\n<g id=\"node10\" class=\"node\">\n<title>9</title>\n<polygon fill=\"#fcf3ec\" stroke=\"#000000\" points=\"774.5,-261 637.5,-261 637.5,-193 774.5,-193 774.5,-261\"/>\n<text text-anchor=\"middle\" x=\"706\" y=\"-245.8\" font-family=\"Times,serif\" font-size=\"14.00\" fill=\"#000000\">Release Day &lt;= 13.5</text>\n<text text-anchor=\"middle\" x=\"706\" y=\"-230.8\" font-family=\"Times,serif\" font-size=\"14.00\" fill=\"#000000\">mse = 445.648</text>\n<text text-anchor=\"middle\" x=\"706\" y=\"-215.8\" font-family=\"Times,serif\" font-size=\"14.00\" fill=\"#000000\">samples = 41</text>\n<text text-anchor=\"middle\" x=\"706\" y=\"-200.8\" font-family=\"Times,serif\" font-size=\"14.00\" fill=\"#000000\">value = 8.244</text>\n</g>\n<!-- 1&#45;&gt;9 -->\n<g id=\"edge9\" class=\"edge\">\n<title>1&#45;&gt;9</title>\n<path fill=\"none\" stroke=\"#000000\" d=\"M706,-296.9465C706,-288.776 706,-279.9318 706,-271.3697\"/>\n<polygon fill=\"#000000\" stroke=\"#000000\" points=\"709.5001,-271.13 706,-261.13 702.5001,-271.13 709.5001,-271.13\"/>\n</g>\n<!-- 3 -->\n<g id=\"node4\" class=\"node\">\n<title>3</title>\n<polygon fill=\"#eda674\" stroke=\"#000000\" points=\"233.5,-157 114.5,-157 114.5,-89 233.5,-89 233.5,-157\"/>\n<text text-anchor=\"middle\" x=\"174\" y=\"-141.8\" font-family=\"Times,serif\" font-size=\"14.00\" fill=\"#000000\">Valence &lt;= 0.339</text>\n<text text-anchor=\"middle\" x=\"174\" y=\"-126.8\" font-family=\"Times,serif\" font-size=\"14.00\" fill=\"#000000\">mse = 217.29</text>\n<text text-anchor=\"middle\" x=\"174\" y=\"-111.8\" font-family=\"Times,serif\" font-size=\"14.00\" fill=\"#000000\">samples = 10</text>\n<text text-anchor=\"middle\" x=\"174\" y=\"-96.8\" font-family=\"Times,serif\" font-size=\"14.00\" fill=\"#000000\">value = 55.1</text>\n</g>\n<!-- 2&#45;&gt;3 -->\n<g id=\"edge3\" class=\"edge\">\n<title>2&#45;&gt;3</title>\n<path fill=\"none\" stroke=\"#000000\" d=\"M314.7556,-193.3778C291.7034,-181.8517 265.8863,-168.9432 242.719,-157.3595\"/>\n<polygon fill=\"#000000\" stroke=\"#000000\" points=\"244.1553,-154.1646 233.6458,-152.8229 241.0248,-160.4256 244.1553,-154.1646\"/>\n</g>\n<!-- 6 -->\n<g id=\"node7\" class=\"node\">\n<title>6</title>\n<polygon fill=\"#e78945\" stroke=\"#000000\" points=\"476.5,-157 287.5,-157 287.5,-89 476.5,-89 476.5,-157\"/>\n<text text-anchor=\"middle\" x=\"382\" y=\"-141.8\" font-family=\"Times,serif\" font-size=\"14.00\" fill=\"#000000\">Artist Followers &lt;= 626648.5</text>\n<text text-anchor=\"middle\" x=\"382\" y=\"-126.8\" font-family=\"Times,serif\" font-size=\"14.00\" fill=\"#000000\">mse = 120.583</text>\n<text text-anchor=\"middle\" x=\"382\" y=\"-111.8\" font-family=\"Times,serif\" font-size=\"14.00\" fill=\"#000000\">samples = 180</text>\n<text text-anchor=\"middle\" x=\"382\" y=\"-96.8\" font-family=\"Times,serif\" font-size=\"14.00\" fill=\"#000000\">value = 73.394</text>\n</g>\n<!-- 2&#45;&gt;6 -->\n<g id=\"edge6\" class=\"edge\">\n<title>2&#45;&gt;6</title>\n<path fill=\"none\" stroke=\"#000000\" d=\"M382,-192.9465C382,-184.776 382,-175.9318 382,-167.3697\"/>\n<polygon fill=\"#000000\" stroke=\"#000000\" points=\"385.5001,-167.13 382,-157.13 378.5001,-167.13 385.5001,-167.13\"/>\n</g>\n<!-- 4 -->\n<g id=\"node5\" class=\"node\">\n<title>4</title>\n<polygon fill=\"#e89152\" stroke=\"#000000\" points=\"104,-53 0,-53 0,0 104,0 104,-53\"/>\n<text text-anchor=\"middle\" x=\"52\" y=\"-37.8\" font-family=\"Times,serif\" font-size=\"14.00\" fill=\"#000000\">mse = 221.188</text>\n<text text-anchor=\"middle\" x=\"52\" y=\"-22.8\" font-family=\"Times,serif\" font-size=\"14.00\" fill=\"#000000\">samples = 4</text>\n<text text-anchor=\"middle\" x=\"52\" y=\"-7.8\" font-family=\"Times,serif\" font-size=\"14.00\" fill=\"#000000\">value = 68.25</text>\n</g>\n<!-- 3&#45;&gt;4 -->\n<g id=\"edge4\" class=\"edge\">\n<title>3&#45;&gt;4</title>\n<path fill=\"none\" stroke=\"#000000\" d=\"M130.9874,-88.9777C118.9476,-79.4545 105.8812,-69.1191 93.9065,-59.6473\"/>\n<polygon fill=\"#000000\" stroke=\"#000000\" points=\"95.8311,-56.7072 85.8167,-53.2485 91.4885,-62.1973 95.8311,-56.7072\"/>\n</g>\n<!-- 5 -->\n<g id=\"node6\" class=\"node\">\n<title>5</title>\n<polygon fill=\"#f0b58a\" stroke=\"#000000\" points=\"226,-53 122,-53 122,0 226,0 226,-53\"/>\n<text text-anchor=\"middle\" x=\"174\" y=\"-37.8\" font-family=\"Times,serif\" font-size=\"14.00\" fill=\"#000000\">mse = 22.556</text>\n<text text-anchor=\"middle\" x=\"174\" y=\"-22.8\" font-family=\"Times,serif\" font-size=\"14.00\" fill=\"#000000\">samples = 6</text>\n<text text-anchor=\"middle\" x=\"174\" y=\"-7.8\" font-family=\"Times,serif\" font-size=\"14.00\" fill=\"#000000\">value = 46.333</text>\n</g>\n<!-- 3&#45;&gt;5 -->\n<g id=\"edge5\" class=\"edge\">\n<title>3&#45;&gt;5</title>\n<path fill=\"none\" stroke=\"#000000\" d=\"M174,-88.9777C174,-80.7364 174,-71.887 174,-63.5153\"/>\n<polygon fill=\"#000000\" stroke=\"#000000\" points=\"177.5001,-63.2484 174,-53.2485 170.5001,-63.2485 177.5001,-63.2484\"/>\n</g>\n<!-- 7 -->\n<g id=\"node8\" class=\"node\">\n<title>7</title>\n<polygon fill=\"#e68540\" stroke=\"#000000\" points=\"348,-53 244,-53 244,0 348,0 348,-53\"/>\n<text text-anchor=\"middle\" x=\"296\" y=\"-37.8\" font-family=\"Times,serif\" font-size=\"14.00\" fill=\"#000000\">mse = 89.218</text>\n<text text-anchor=\"middle\" x=\"296\" y=\"-22.8\" font-family=\"Times,serif\" font-size=\"14.00\" fill=\"#000000\">samples = 136</text>\n<text text-anchor=\"middle\" x=\"296\" y=\"-7.8\" font-family=\"Times,serif\" font-size=\"14.00\" fill=\"#000000\">value = 75.368</text>\n</g>\n<!-- 6&#45;&gt;7 -->\n<g id=\"edge7\" class=\"edge\">\n<title>6&#45;&gt;7</title>\n<path fill=\"none\" stroke=\"#000000\" d=\"M351.6796,-88.9777C343.519,-79.8207 334.6892,-69.9129 326.5179,-60.744\"/>\n<polygon fill=\"#000000\" stroke=\"#000000\" points=\"329.1042,-58.3854 319.838,-53.2485 323.8783,-63.0427 329.1042,-58.3854\"/>\n</g>\n<!-- 8 -->\n<g id=\"node9\" class=\"node\">\n<title>8</title>\n<polygon fill=\"#e99254\" stroke=\"#000000\" points=\"470,-53 366,-53 366,0 470,0 470,-53\"/>\n<text text-anchor=\"middle\" x=\"418\" y=\"-37.8\" font-family=\"Times,serif\" font-size=\"14.00\" fill=\"#000000\">mse = 168.299</text>\n<text text-anchor=\"middle\" x=\"418\" y=\"-22.8\" font-family=\"Times,serif\" font-size=\"14.00\" fill=\"#000000\">samples = 44</text>\n<text text-anchor=\"middle\" x=\"418\" y=\"-7.8\" font-family=\"Times,serif\" font-size=\"14.00\" fill=\"#000000\">value = 67.295</text>\n</g>\n<!-- 6&#45;&gt;8 -->\n<g id=\"edge8\" class=\"edge\">\n<title>6&#45;&gt;8</title>\n<path fill=\"none\" stroke=\"#000000\" d=\"M394.6923,-88.9777C397.8692,-80.4617 401.2884,-71.2963 404.5029,-62.6798\"/>\n<polygon fill=\"#000000\" stroke=\"#000000\" points=\"407.8052,-63.8411 408.0213,-53.2485 401.2467,-61.3944 407.8052,-63.8411\"/>\n</g>\n<!-- 10 -->\n<g id=\"node11\" class=\"node\">\n<title>10</title>\n<polygon fill=\"#fefbf9\" stroke=\"#000000\" points=\"696.5,-157 551.5,-157 551.5,-89 696.5,-89 696.5,-157\"/>\n<text text-anchor=\"middle\" x=\"624\" y=\"-141.8\" font-family=\"Times,serif\" font-size=\"14.00\" fill=\"#000000\">Release Month &lt;= 4.5</text>\n<text text-anchor=\"middle\" x=\"624\" y=\"-126.8\" font-family=\"Times,serif\" font-size=\"14.00\" fill=\"#000000\">mse = 115.673</text>\n<text text-anchor=\"middle\" x=\"624\" y=\"-111.8\" font-family=\"Times,serif\" font-size=\"14.00\" fill=\"#000000\">samples = 38</text>\n<text text-anchor=\"middle\" x=\"624\" y=\"-96.8\" font-family=\"Times,serif\" font-size=\"14.00\" fill=\"#000000\">value = 3.105</text>\n</g>\n<!-- 9&#45;&gt;10 -->\n<g id=\"edge10\" class=\"edge\">\n<title>9&#45;&gt;10</title>\n<path fill=\"none\" stroke=\"#000000\" d=\"M679.1501,-192.9465C672.1417,-184.0578 664.5045,-174.3716 657.209,-165.1188\"/>\n<polygon fill=\"#000000\" stroke=\"#000000\" points=\"659.8502,-162.8157 650.9102,-157.13 654.3533,-167.1498 659.8502,-162.8157\"/>\n</g>\n<!-- 13 -->\n<g id=\"node14\" class=\"node\">\n<title>13</title>\n<polygon fill=\"#e78945\" stroke=\"#000000\" points=\"861,-157 715,-157 715,-89 861,-89 861,-157\"/>\n<text text-anchor=\"middle\" x=\"788\" y=\"-141.8\" font-family=\"Times,serif\" font-size=\"14.00\" fill=\"#000000\">Danceability &lt;= 0.854</text>\n<text text-anchor=\"middle\" x=\"788\" y=\"-126.8\" font-family=\"Times,serif\" font-size=\"14.00\" fill=\"#000000\">mse = 54.222</text>\n<text text-anchor=\"middle\" x=\"788\" y=\"-111.8\" font-family=\"Times,serif\" font-size=\"14.00\" fill=\"#000000\">samples = 3</text>\n<text text-anchor=\"middle\" x=\"788\" y=\"-96.8\" font-family=\"Times,serif\" font-size=\"14.00\" fill=\"#000000\">value = 73.333</text>\n</g>\n<!-- 9&#45;&gt;13 -->\n<g id=\"edge13\" class=\"edge\">\n<title>9&#45;&gt;13</title>\n<path fill=\"none\" stroke=\"#000000\" d=\"M732.8499,-192.9465C739.8583,-184.0578 747.4955,-174.3716 754.791,-165.1188\"/>\n<polygon fill=\"#000000\" stroke=\"#000000\" points=\"757.6467,-167.1498 761.0898,-157.13 752.1498,-162.8157 757.6467,-167.1498\"/>\n</g>\n<!-- 11 -->\n<g id=\"node12\" class=\"node\">\n<title>11</title>\n<polygon fill=\"#efb387\" stroke=\"#000000\" points=\"577.5,-53 488.5,-53 488.5,0 577.5,0 577.5,-53\"/>\n<text text-anchor=\"middle\" x=\"533\" y=\"-37.8\" font-family=\"Times,serif\" font-size=\"14.00\" fill=\"#000000\">mse = 6.25</text>\n<text text-anchor=\"middle\" x=\"533\" y=\"-22.8\" font-family=\"Times,serif\" font-size=\"14.00\" fill=\"#000000\">samples = 2</text>\n<text text-anchor=\"middle\" x=\"533\" y=\"-7.8\" font-family=\"Times,serif\" font-size=\"14.00\" fill=\"#000000\">value = 47.5</text>\n</g>\n<!-- 10&#45;&gt;11 -->\n<g id=\"edge11\" class=\"edge\">\n<title>10&#45;&gt;11</title>\n<path fill=\"none\" stroke=\"#000000\" d=\"M591.9168,-88.9777C583.2817,-79.8207 573.9386,-69.9129 565.2922,-60.744\"/>\n<polygon fill=\"#000000\" stroke=\"#000000\" points=\"567.6311,-58.1226 558.224,-53.2485 562.5383,-62.9251 567.6311,-58.1226\"/>\n</g>\n<!-- 12 -->\n<g id=\"node13\" class=\"node\">\n<title>12</title>\n<polygon fill=\"#ffffff\" stroke=\"#000000\" points=\"692.5,-53 595.5,-53 595.5,0 692.5,0 692.5,-53\"/>\n<text text-anchor=\"middle\" x=\"644\" y=\"-37.8\" font-family=\"Times,serif\" font-size=\"14.00\" fill=\"#000000\">mse = 6.175</text>\n<text text-anchor=\"middle\" x=\"644\" y=\"-22.8\" font-family=\"Times,serif\" font-size=\"14.00\" fill=\"#000000\">samples = 36</text>\n<text text-anchor=\"middle\" x=\"644\" y=\"-7.8\" font-family=\"Times,serif\" font-size=\"14.00\" fill=\"#000000\">value = 0.639</text>\n</g>\n<!-- 10&#45;&gt;12 -->\n<g id=\"edge12\" class=\"edge\">\n<title>10&#45;&gt;12</title>\n<path fill=\"none\" stroke=\"#000000\" d=\"M631.0513,-88.9777C632.7783,-80.6449 634.6341,-71.6903 636.3862,-63.2364\"/>\n<polygon fill=\"#000000\" stroke=\"#000000\" points=\"639.854,-63.7507 638.4563,-53.2485 632.9996,-62.3301 639.854,-63.7507\"/>\n</g>\n<!-- 14 -->\n<g id=\"node15\" class=\"node\">\n<title>14</title>\n<polygon fill=\"#e58139\" stroke=\"#000000\" points=\"799.5,-53 710.5,-53 710.5,0 799.5,0 799.5,-53\"/>\n<text text-anchor=\"middle\" x=\"755\" y=\"-37.8\" font-family=\"Times,serif\" font-size=\"14.00\" fill=\"#000000\">mse = 16.0</text>\n<text text-anchor=\"middle\" x=\"755\" y=\"-22.8\" font-family=\"Times,serif\" font-size=\"14.00\" fill=\"#000000\">samples = 2</text>\n<text text-anchor=\"middle\" x=\"755\" y=\"-7.8\" font-family=\"Times,serif\" font-size=\"14.00\" fill=\"#000000\">value = 78.0</text>\n</g>\n<!-- 13&#45;&gt;14 -->\n<g id=\"edge14\" class=\"edge\">\n<title>13&#45;&gt;14</title>\n<path fill=\"none\" stroke=\"#000000\" d=\"M776.3654,-88.9777C773.4845,-80.5533 770.3863,-71.4934 767.4675,-62.9579\"/>\n<polygon fill=\"#000000\" stroke=\"#000000\" points=\"770.6946,-61.578 764.1471,-53.2485 764.0712,-63.843 770.6946,-61.578\"/>\n</g>\n<!-- 15 -->\n<g id=\"node16\" class=\"node\">\n<title>15</title>\n<polygon fill=\"#ea985d\" stroke=\"#000000\" points=\"906.5,-53 817.5,-53 817.5,0 906.5,0 906.5,-53\"/>\n<text text-anchor=\"middle\" x=\"862\" y=\"-37.8\" font-family=\"Times,serif\" font-size=\"14.00\" fill=\"#000000\">mse = 0.0</text>\n<text text-anchor=\"middle\" x=\"862\" y=\"-22.8\" font-family=\"Times,serif\" font-size=\"14.00\" fill=\"#000000\">samples = 1</text>\n<text text-anchor=\"middle\" x=\"862\" y=\"-7.8\" font-family=\"Times,serif\" font-size=\"14.00\" fill=\"#000000\">value = 64.0</text>\n</g>\n<!-- 13&#45;&gt;15 -->\n<g id=\"edge15\" class=\"edge\">\n<title>13&#45;&gt;15</title>\n<path fill=\"none\" stroke=\"#000000\" d=\"M814.0896,-88.9777C820.9711,-80.0039 828.4056,-70.3089 835.3178,-61.295\"/>\n<polygon fill=\"#000000\" stroke=\"#000000\" points=\"838.1804,-63.3137 841.4882,-53.2485 832.6256,-59.0541 838.1804,-63.3137\"/>\n</g>\n<!-- 17 -->\n<g id=\"node18\" class=\"node\">\n<title>17</title>\n<polygon fill=\"#e89051\" stroke=\"#000000\" points=\"1204,-261 1070,-261 1070,-193 1204,-193 1204,-261\"/>\n<text text-anchor=\"middle\" x=\"1137\" y=\"-245.8\" font-family=\"Times,serif\" font-size=\"14.00\" fill=\"#000000\">Loudness &lt;= &#45;8.027</text>\n<text text-anchor=\"middle\" x=\"1137\" y=\"-230.8\" font-family=\"Times,serif\" font-size=\"14.00\" fill=\"#000000\">mse = 79.831</text>\n<text text-anchor=\"middle\" x=\"1137\" y=\"-215.8\" font-family=\"Times,serif\" font-size=\"14.00\" fill=\"#000000\">samples = 174</text>\n<text text-anchor=\"middle\" x=\"1137\" y=\"-200.8\" font-family=\"Times,serif\" font-size=\"14.00\" fill=\"#000000\">value = 68.793</text>\n</g>\n<!-- 16&#45;&gt;17 -->\n<g id=\"edge17\" class=\"edge\">\n<title>16&#45;&gt;17</title>\n<path fill=\"none\" stroke=\"#000000\" d=\"M1137,-296.9465C1137,-288.776 1137,-279.9318 1137,-271.3697\"/>\n<polygon fill=\"#000000\" stroke=\"#000000\" points=\"1140.5001,-271.13 1137,-261.13 1133.5001,-271.13 1140.5001,-271.13\"/>\n</g>\n<!-- 24 -->\n<g id=\"node25\" class=\"node\">\n<title>24</title>\n<polygon fill=\"#e78946\" stroke=\"#000000\" points=\"1565.5,-261 1420.5,-261 1420.5,-193 1565.5,-193 1565.5,-261\"/>\n<text text-anchor=\"middle\" x=\"1493\" y=\"-245.8\" font-family=\"Times,serif\" font-size=\"14.00\" fill=\"#000000\">Release Month &lt;= 9.5</text>\n<text text-anchor=\"middle\" x=\"1493\" y=\"-230.8\" font-family=\"Times,serif\" font-size=\"14.00\" fill=\"#000000\">mse = 102.66</text>\n<text text-anchor=\"middle\" x=\"1493\" y=\"-215.8\" font-family=\"Times,serif\" font-size=\"14.00\" fill=\"#000000\">samples = 831</text>\n<text text-anchor=\"middle\" x=\"1493\" y=\"-200.8\" font-family=\"Times,serif\" font-size=\"14.00\" fill=\"#000000\">value = 72.835</text>\n</g>\n<!-- 16&#45;&gt;24 -->\n<g id=\"edge24\" class=\"edge\">\n<title>16&#45;&gt;24</title>\n<path fill=\"none\" stroke=\"#000000\" d=\"M1209.901,-309.7031C1268.095,-292.7026 1349.6389,-268.8808 1410.2722,-251.1677\"/>\n<polygon fill=\"#000000\" stroke=\"#000000\" points=\"1411.5792,-254.4322 1420.1965,-248.2684 1409.6162,-247.7131 1411.5792,-254.4322\"/>\n</g>\n<!-- 18 -->\n<g id=\"node19\" class=\"node\">\n<title>18</title>\n<polygon fill=\"#ea995e\" stroke=\"#000000\" points=\"1109,-157 983,-157 983,-89 1109,-89 1109,-157\"/>\n<text text-anchor=\"middle\" x=\"1046\" y=\"-141.8\" font-family=\"Times,serif\" font-size=\"14.00\" fill=\"#000000\">Artist Lb &lt;= 379.0</text>\n<text text-anchor=\"middle\" x=\"1046\" y=\"-126.8\" font-family=\"Times,serif\" font-size=\"14.00\" fill=\"#000000\">mse = 118.25</text>\n<text text-anchor=\"middle\" x=\"1046\" y=\"-111.8\" font-family=\"Times,serif\" font-size=\"14.00\" fill=\"#000000\">samples = 35</text>\n<text text-anchor=\"middle\" x=\"1046\" y=\"-96.8\" font-family=\"Times,serif\" font-size=\"14.00\" fill=\"#000000\">value = 63.486</text>\n</g>\n<!-- 17&#45;&gt;18 -->\n<g id=\"edge18\" class=\"edge\">\n<title>17&#45;&gt;18</title>\n<path fill=\"none\" stroke=\"#000000\" d=\"M1107.2032,-192.9465C1099.347,-183.968 1090.7788,-174.1758 1082.6087,-164.8385\"/>\n<polygon fill=\"#000000\" stroke=\"#000000\" points=\"1085.0829,-162.351 1075.8637,-157.13 1079.8148,-166.9606 1085.0829,-162.351\"/>\n</g>\n<!-- 21 -->\n<g id=\"node22\" class=\"node\">\n<title>21</title>\n<polygon fill=\"#e88e4d\" stroke=\"#000000\" points=\"1331,-157 1127,-157 1127,-89 1331,-89 1331,-157\"/>\n<text text-anchor=\"middle\" x=\"1229\" y=\"-141.8\" font-family=\"Times,serif\" font-size=\"14.00\" fill=\"#000000\">Artist Followers &lt;= 46800156.0</text>\n<text text-anchor=\"middle\" x=\"1229\" y=\"-126.8\" font-family=\"Times,serif\" font-size=\"14.00\" fill=\"#000000\">mse = 61.278</text>\n<text text-anchor=\"middle\" x=\"1229\" y=\"-111.8\" font-family=\"Times,serif\" font-size=\"14.00\" fill=\"#000000\">samples = 139</text>\n<text text-anchor=\"middle\" x=\"1229\" y=\"-96.8\" font-family=\"Times,serif\" font-size=\"14.00\" fill=\"#000000\">value = 70.129</text>\n</g>\n<!-- 17&#45;&gt;21 -->\n<g id=\"edge21\" class=\"edge\">\n<title>17&#45;&gt;21</title>\n<path fill=\"none\" stroke=\"#000000\" d=\"M1167.1242,-192.9465C1175.0668,-183.968 1183.7291,-174.1758 1191.989,-164.8385\"/>\n<polygon fill=\"#000000\" stroke=\"#000000\" points=\"1194.8038,-166.939 1198.8081,-157.13 1189.5608,-162.301 1194.8038,-166.939\"/>\n</g>\n<!-- 19 -->\n<g id=\"node20\" class=\"node\">\n<title>19</title>\n<polygon fill=\"#e99659\" stroke=\"#000000\" points=\"1026,-53 924,-53 924,0 1026,0 1026,-53\"/>\n<text text-anchor=\"middle\" x=\"975\" y=\"-37.8\" font-family=\"Times,serif\" font-size=\"14.00\" fill=\"#000000\">mse = 111.507</text>\n<text text-anchor=\"middle\" x=\"975\" y=\"-22.8\" font-family=\"Times,serif\" font-size=\"14.00\" fill=\"#000000\">samples = 30</text>\n<text text-anchor=\"middle\" x=\"975\" y=\"-7.8\" font-family=\"Times,serif\" font-size=\"14.00\" fill=\"#000000\">value = 65.4</text>\n</g>\n<!-- 18&#45;&gt;19 -->\n<g id=\"edge19\" class=\"edge\">\n<title>18&#45;&gt;19</title>\n<path fill=\"none\" stroke=\"#000000\" d=\"M1020.9681,-88.9777C1014.4329,-80.0954 1007.378,-70.5067 1000.8036,-61.5711\"/>\n<polygon fill=\"#000000\" stroke=\"#000000\" points=\"1003.4257,-59.229 994.6802,-53.2485 997.7874,-63.3775 1003.4257,-59.229\"/>\n</g>\n<!-- 20 -->\n<g id=\"node21\" class=\"node\">\n<title>20</title>\n<polygon fill=\"#eeab7c\" stroke=\"#000000\" points=\"1133.5,-53 1044.5,-53 1044.5,0 1133.5,0 1133.5,-53\"/>\n<text text-anchor=\"middle\" x=\"1089\" y=\"-37.8\" font-family=\"Times,serif\" font-size=\"14.00\" fill=\"#000000\">mse = 4.8</text>\n<text text-anchor=\"middle\" x=\"1089\" y=\"-22.8\" font-family=\"Times,serif\" font-size=\"14.00\" fill=\"#000000\">samples = 5</text>\n<text text-anchor=\"middle\" x=\"1089\" y=\"-7.8\" font-family=\"Times,serif\" font-size=\"14.00\" fill=\"#000000\">value = 52.0</text>\n</g>\n<!-- 18&#45;&gt;20 -->\n<g id=\"edge20\" class=\"edge\">\n<title>18&#45;&gt;20</title>\n<path fill=\"none\" stroke=\"#000000\" d=\"M1061.1602,-88.9777C1064.9957,-80.3702 1069.1268,-71.0992 1073.0022,-62.402\"/>\n<polygon fill=\"#000000\" stroke=\"#000000\" points=\"1076.2077,-63.8073 1077.081,-53.2485 1069.8138,-60.9581 1076.2077,-63.8073\"/>\n</g>\n<!-- 22 -->\n<g id=\"node23\" class=\"node\">\n<title>22</title>\n<polygon fill=\"#e78b48\" stroke=\"#000000\" points=\"1254.5,-53 1151.5,-53 1151.5,0 1254.5,0 1254.5,-53\"/>\n<text text-anchor=\"middle\" x=\"1203\" y=\"-37.8\" font-family=\"Times,serif\" font-size=\"14.00\" fill=\"#000000\">mse = 52.84</text>\n<text text-anchor=\"middle\" x=\"1203\" y=\"-22.8\" font-family=\"Times,serif\" font-size=\"14.00\" fill=\"#000000\">samples = 108</text>\n<text text-anchor=\"middle\" x=\"1203\" y=\"-7.8\" font-family=\"Times,serif\" font-size=\"14.00\" fill=\"#000000\">value = 72.111</text>\n</g>\n<!-- 21&#45;&gt;22 -->\n<g id=\"edge22\" class=\"edge\">\n<title>21&#45;&gt;22</title>\n<path fill=\"none\" stroke=\"#000000\" d=\"M1219.8334,-88.9777C1217.5636,-80.5533 1215.1226,-71.4934 1212.8229,-62.9579\"/>\n<polygon fill=\"#000000\" stroke=\"#000000\" points=\"1216.1879,-61.9936 1210.2068,-53.2485 1209.429,-63.8147 1216.1879,-61.9936\"/>\n</g>\n<!-- 23 -->\n<g id=\"node24\" class=\"node\">\n<title>23</title>\n<polygon fill=\"#ea995f\" stroke=\"#000000\" points=\"1377,-53 1273,-53 1273,0 1377,0 1377,-53\"/>\n<text text-anchor=\"middle\" x=\"1325\" y=\"-37.8\" font-family=\"Times,serif\" font-size=\"14.00\" fill=\"#000000\">mse = 29.336</text>\n<text text-anchor=\"middle\" x=\"1325\" y=\"-22.8\" font-family=\"Times,serif\" font-size=\"14.00\" fill=\"#000000\">samples = 31</text>\n<text text-anchor=\"middle\" x=\"1325\" y=\"-7.8\" font-family=\"Times,serif\" font-size=\"14.00\" fill=\"#000000\">value = 63.226</text>\n</g>\n<!-- 21&#45;&gt;23 -->\n<g id=\"edge23\" class=\"edge\">\n<title>21&#45;&gt;23</title>\n<path fill=\"none\" stroke=\"#000000\" d=\"M1262.846,-88.9777C1272.0466,-79.7292 1282.0092,-69.7147 1291.2069,-60.4691\"/>\n<polygon fill=\"#000000\" stroke=\"#000000\" points=\"1293.8187,-62.8064 1298.3901,-53.2485 1288.8561,-57.8695 1293.8187,-62.8064\"/>\n</g>\n<!-- 25 -->\n<g id=\"node26\" class=\"node\">\n<title>25</title>\n<polygon fill=\"#e68844\" stroke=\"#000000\" points=\"1564.5,-157 1421.5,-157 1421.5,-89 1564.5,-89 1564.5,-157\"/>\n<text text-anchor=\"middle\" x=\"1493\" y=\"-141.8\" font-family=\"Times,serif\" font-size=\"14.00\" fill=\"#000000\">Speechiness &lt;= 0.166</text>\n<text text-anchor=\"middle\" x=\"1493\" y=\"-126.8\" font-family=\"Times,serif\" font-size=\"14.00\" fill=\"#000000\">mse = 88.979</text>\n<text text-anchor=\"middle\" x=\"1493\" y=\"-111.8\" font-family=\"Times,serif\" font-size=\"14.00\" fill=\"#000000\">samples = 621</text>\n<text text-anchor=\"middle\" x=\"1493\" y=\"-96.8\" font-family=\"Times,serif\" font-size=\"14.00\" fill=\"#000000\">value = 73.849</text>\n</g>\n<!-- 24&#45;&gt;25 -->\n<g id=\"edge25\" class=\"edge\">\n<title>24&#45;&gt;25</title>\n<path fill=\"none\" stroke=\"#000000\" d=\"M1493,-192.9465C1493,-184.776 1493,-175.9318 1493,-167.3697\"/>\n<polygon fill=\"#000000\" stroke=\"#000000\" points=\"1496.5001,-167.13 1493,-157.13 1489.5001,-167.13 1496.5001,-167.13\"/>\n</g>\n<!-- 28 -->\n<g id=\"node29\" class=\"node\">\n<title>28</title>\n<polygon fill=\"#e88e4e\" stroke=\"#000000\" points=\"1753.5,-157 1628.5,-157 1628.5,-89 1753.5,-89 1753.5,-157\"/>\n<text text-anchor=\"middle\" x=\"1691\" y=\"-141.8\" font-family=\"Times,serif\" font-size=\"14.00\" fill=\"#000000\">Liveness &lt;= 0.056</text>\n<text text-anchor=\"middle\" x=\"1691\" y=\"-126.8\" font-family=\"Times,serif\" font-size=\"14.00\" fill=\"#000000\">mse = 131.098</text>\n<text text-anchor=\"middle\" x=\"1691\" y=\"-111.8\" font-family=\"Times,serif\" font-size=\"14.00\" fill=\"#000000\">samples = 210</text>\n<text text-anchor=\"middle\" x=\"1691\" y=\"-96.8\" font-family=\"Times,serif\" font-size=\"14.00\" fill=\"#000000\">value = 69.838</text>\n</g>\n<!-- 24&#45;&gt;28 -->\n<g id=\"edge28\" class=\"edge\">\n<title>24&#45;&gt;28</title>\n<path fill=\"none\" stroke=\"#000000\" d=\"M1557.8326,-192.9465C1577.4913,-182.6207 1599.1987,-171.2188 1619.2816,-160.6703\"/>\n<polygon fill=\"#000000\" stroke=\"#000000\" points=\"1621.1558,-163.6393 1628.3813,-155.8906 1617.9007,-157.4422 1621.1558,-163.6393\"/>\n</g>\n<!-- 26 -->\n<g id=\"node27\" class=\"node\">\n<title>26</title>\n<polygon fill=\"#e68640\" stroke=\"#000000\" points=\"1499,-53 1395,-53 1395,0 1499,0 1499,-53\"/>\n<text text-anchor=\"middle\" x=\"1447\" y=\"-37.8\" font-family=\"Times,serif\" font-size=\"14.00\" fill=\"#000000\">mse = 83.337</text>\n<text text-anchor=\"middle\" x=\"1447\" y=\"-22.8\" font-family=\"Times,serif\" font-size=\"14.00\" fill=\"#000000\">samples = 446</text>\n<text text-anchor=\"middle\" x=\"1447\" y=\"-7.8\" font-family=\"Times,serif\" font-size=\"14.00\" fill=\"#000000\">value = 75.078</text>\n</g>\n<!-- 25&#45;&gt;26 -->\n<g id=\"edge26\" class=\"edge\">\n<title>25&#45;&gt;26</title>\n<path fill=\"none\" stroke=\"#000000\" d=\"M1476.7821,-88.9777C1472.679,-80.3702 1468.2597,-71.0992 1464.1139,-62.402\"/>\n<polygon fill=\"#000000\" stroke=\"#000000\" points=\"1467.213,-60.7693 1459.7506,-53.2485 1460.8942,-63.7814 1467.213,-60.7693\"/>\n</g>\n<!-- 27 -->\n<g id=\"node28\" class=\"node\">\n<title>27</title>\n<polygon fill=\"#e78d4c\" stroke=\"#000000\" points=\"1621,-53 1517,-53 1517,0 1621,0 1621,-53\"/>\n<text text-anchor=\"middle\" x=\"1569\" y=\"-37.8\" font-family=\"Times,serif\" font-size=\"14.00\" fill=\"#000000\">mse = 89.678</text>\n<text text-anchor=\"middle\" x=\"1569\" y=\"-22.8\" font-family=\"Times,serif\" font-size=\"14.00\" fill=\"#000000\">samples = 175</text>\n<text text-anchor=\"middle\" x=\"1569\" y=\"-7.8\" font-family=\"Times,serif\" font-size=\"14.00\" fill=\"#000000\">value = 70.714</text>\n</g>\n<!-- 25&#45;&gt;27 -->\n<g id=\"edge27\" class=\"edge\">\n<title>25&#45;&gt;27</title>\n<path fill=\"none\" stroke=\"#000000\" d=\"M1519.7948,-88.9777C1526.8622,-80.0039 1534.4976,-70.3089 1541.5967,-61.295\"/>\n<polygon fill=\"#000000\" stroke=\"#000000\" points=\"1544.4963,-63.2701 1547.9338,-53.2485 1538.997,-58.9391 1544.4963,-63.2701\"/>\n</g>\n<!-- 29 -->\n<g id=\"node30\" class=\"node\">\n<title>29</title>\n<polygon fill=\"#eda977\" stroke=\"#000000\" points=\"1743,-53 1639,-53 1639,0 1743,0 1743,-53\"/>\n<text text-anchor=\"middle\" x=\"1691\" y=\"-37.8\" font-family=\"Times,serif\" font-size=\"14.00\" fill=\"#000000\">mse = 101.889</text>\n<text text-anchor=\"middle\" x=\"1691\" y=\"-22.8\" font-family=\"Times,serif\" font-size=\"14.00\" fill=\"#000000\">samples = 6</text>\n<text text-anchor=\"middle\" x=\"1691\" y=\"-7.8\" font-family=\"Times,serif\" font-size=\"14.00\" fill=\"#000000\">value = 53.667</text>\n</g>\n<!-- 28&#45;&gt;29 -->\n<g id=\"edge29\" class=\"edge\">\n<title>28&#45;&gt;29</title>\n<path fill=\"none\" stroke=\"#000000\" d=\"M1691,-88.9777C1691,-80.7364 1691,-71.887 1691,-63.5153\"/>\n<polygon fill=\"#000000\" stroke=\"#000000\" points=\"1694.5001,-63.2484 1691,-53.2485 1687.5001,-63.2485 1694.5001,-63.2484\"/>\n</g>\n<!-- 30 -->\n<g id=\"node31\" class=\"node\">\n<title>30</title>\n<polygon fill=\"#e88e4d\" stroke=\"#000000\" points=\"1865,-53 1761,-53 1761,0 1865,0 1865,-53\"/>\n<text text-anchor=\"middle\" x=\"1813\" y=\"-37.8\" font-family=\"Times,serif\" font-size=\"14.00\" fill=\"#000000\">mse = 124.039</text>\n<text text-anchor=\"middle\" x=\"1813\" y=\"-22.8\" font-family=\"Times,serif\" font-size=\"14.00\" fill=\"#000000\">samples = 204</text>\n<text text-anchor=\"middle\" x=\"1813\" y=\"-7.8\" font-family=\"Times,serif\" font-size=\"14.00\" fill=\"#000000\">value = 70.314</text>\n</g>\n<!-- 28&#45;&gt;30 -->\n<g id=\"edge30\" class=\"edge\">\n<title>28&#45;&gt;30</title>\n<path fill=\"none\" stroke=\"#000000\" d=\"M1734.0126,-88.9777C1746.0524,-79.4545 1759.1188,-69.1191 1771.0935,-59.6473\"/>\n<polygon fill=\"#000000\" stroke=\"#000000\" points=\"1773.5115,-62.1973 1779.1833,-53.2485 1769.1689,-56.7072 1773.5115,-62.1973\"/>\n</g>\n</g>\n</svg>\n"
          },
          "metadata": {}
        }
      ]
    },
    {
      "cell_type": "code",
      "metadata": {
        "id": "-hKWLVnGqBQj"
      },
      "source": [
        "# Visualize using dtreeviz \n",
        "# This plot is very small making it hard to read. Commenting out for now.\n",
        "# dtreeviz(model_dt, X_train, y_train, target_name=target_name, feature_names=feature_names)"
      ],
      "execution_count": 510,
      "outputs": []
    },
    {
      "cell_type": "markdown",
      "metadata": {
        "id": "fQHMU83DvkxO"
      },
      "source": [
        "## Random Forest"
      ]
    },
    {
      "cell_type": "code",
      "metadata": {
        "colab": {
          "base_uri": "https://localhost:8080/"
        },
        "id": "CUMvah1KvvBL",
        "outputId": "c9bf178f-1eb3-4991-fba1-0bcf05afec96"
      },
      "source": [
        "# Number of iterations for cross validation\n",
        "# Loop of 10 produces inconsistent results. \n",
        "# Anything over 50 produces optimal max depth between 5 and 7 - numbers are very close for all three.\n",
        "num_loops = 200\n",
        "\n",
        "# Try different number of trees - go from min to max in steps\n",
        "# num_trees = range(min, max, steps)\n",
        "num_trees = range(10, 70, 10)\n",
        "rms_trees = np.zeros(len(num_trees))\n",
        "\n",
        "for n, trees in enumerate(num_trees):\n",
        "  # Storage for each result so we can get mean from all iterations.\n",
        "  rmse_results = np.zeros(num_loops)\n",
        "  for idx in range(0,num_loops):\n",
        "    # Create train and test data sets.\n",
        "    X_train, X_test, y_train, y_test = train_test_split(X,y,test_size=test_size)\n",
        "    # Configure model. Use optimal depth gained in Decision Tree above.\n",
        "    model_rf = RandomForestRegressor(n_estimators=trees, max_depth=optimal_depth, random_state=0)\n",
        "    model_rf.fit(X_train, y_train)\n",
        "    y_pred_rf = model_rf.predict(X_test)\n",
        "    rmse_results[idx] = np.sqrt(mean_squared_error(y_test, y_pred_rf))\n",
        "\n",
        "  # Record RMSE by depth to find optimal depth\n",
        "  rms_trees[n] = rmse_results.mean().round(3)\n",
        "\n",
        "# Print result so we can see which tree count provided best RMSE\n",
        "print(f\"CV RMSE by Tree Count:\\n\")\n",
        "for n, trees in enumerate(num_trees):\n",
        "  print(f'Trees={num_trees[n]} | RMSE={rms_trees[n]}')\n",
        "  if rms_trees[n] == rms_trees.min():\n",
        "    optimal_trees = num_trees[n]\n",
        "    optimal_rmse = rms_trees[n]\n",
        "    print(f'Optimal Trees={optimal_trees}')"
      ],
      "execution_count": 511,
      "outputs": [
        {
          "output_type": "stream",
          "name": "stdout",
          "text": [
            "CV RMSE by Tree Count:\n",
            "\n",
            "Trees=10 | RMSE=10.34\n",
            "Trees=20 | RMSE=10.255\n",
            "Trees=30 | RMSE=10.176\n",
            "Optimal Trees=30\n",
            "Trees=40 | RMSE=10.204\n",
            "Trees=50 | RMSE=10.297\n",
            "Trees=60 | RMSE=10.238\n"
          ]
        }
      ]
    },
    {
      "cell_type": "code",
      "metadata": {
        "colab": {
          "base_uri": "https://localhost:8080/",
          "height": 279
        },
        "id": "WQ9Q7f3T0oJm",
        "outputId": "a569ac85-a13c-40bd-a8eb-b481b20c1072"
      },
      "source": [
        "# Visualize result of optimal number of trees.\n",
        "plt.plot(num_trees, rms_trees)\n",
        "plt.plot(optimal_trees,optimal_rmse,'rx', markersize=10, markeredgewidth=3) \n",
        "plt.xlabel('Tree No.')\n",
        "plt.ylabel('RMSE')\n",
        "plt.grid()"
      ],
      "execution_count": 512,
      "outputs": [
        {
          "output_type": "display_data",
          "data": {
            "image/png": "[encoded data removed]",
            "text/plain": [
              "<Figure size 432x288 with 1 Axes>"
            ]
          },
          "metadata": {
            "needs_background": "light"
          }
        }
      ]
    },
    {
      "cell_type": "code",
      "metadata": {
        "colab": {
          "base_uri": "https://localhost:8080/",
          "height": 677
        },
        "id": "GknjQus94DKp",
        "outputId": "752fe8af-9084-4281-a8c2-bb1033c835ec"
      },
      "source": [
        "# Display one tree from the random forest\n",
        "display(graphviz.Source(tree.export_graphviz(model_rf.estimators_[0], feature_names=feature_names)))"
      ],
      "execution_count": 513,
      "outputs": [
        {
          "output_type": "display_data",
          "data": {
            "text/plain": [
              "<graphviz.files.Source at 0x7f3b20e129d0>"
            ],
            "image/svg+xml": "<?xml version=\"1.0\" encoding=\"UTF-8\" standalone=\"no\"?>\n<!DOCTYPE svg PUBLIC \"-//W3C//DTD SVG 1.1//EN\"\n \"http://www.w3.org/Graphics/SVG/1.1/DTD/svg11.dtd\">\n<!-- Generated by graphviz version 2.40.1 (20161225.0304)\n -->\n<!-- Title: Tree Pages: 1 -->\n<svg width=\"1855pt\" height=\"477pt\"\n viewBox=\"0.00 0.00 1855.00 477.00\" xmlns=\"http://www.w3.org/2000/svg\" xmlns:xlink=\"http://www.w3.org/1999/xlink\">\n<g id=\"graph0\" class=\"graph\" transform=\"scale(1 1) rotate(0) translate(4 473)\">\n<title>Tree</title>\n<polygon fill=\"#ffffff\" stroke=\"transparent\" points=\"-4,4 -4,-473 1851,-473 1851,4 -4,4\"/>\n<!-- 0 -->\n<g id=\"node1\" class=\"node\">\n<title>0</title>\n<polygon fill=\"none\" stroke=\"#000000\" points=\"1001.5,-469 804.5,-469 804.5,-401 1001.5,-401 1001.5,-469\"/>\n<text text-anchor=\"middle\" x=\"903\" y=\"-453.8\" font-family=\"Times,serif\" font-size=\"14.00\" fill=\"#000000\">Artist Followers &lt;= 2060874.5</text>\n<text text-anchor=\"middle\" x=\"903\" y=\"-438.8\" font-family=\"Times,serif\" font-size=\"14.00\" fill=\"#000000\">mse = 259.341</text>\n<text text-anchor=\"middle\" x=\"903\" y=\"-423.8\" font-family=\"Times,serif\" font-size=\"14.00\" fill=\"#000000\">samples = 764</text>\n<text text-anchor=\"middle\" x=\"903\" y=\"-408.8\" font-family=\"Times,serif\" font-size=\"14.00\" fill=\"#000000\">value = 70.04</text>\n</g>\n<!-- 1 -->\n<g id=\"node2\" class=\"node\">\n<title>1</title>\n<polygon fill=\"none\" stroke=\"#000000\" points=\"792.5,-365 595.5,-365 595.5,-297 792.5,-297 792.5,-365\"/>\n<text text-anchor=\"middle\" x=\"694\" y=\"-349.8\" font-family=\"Times,serif\" font-size=\"14.00\" fill=\"#000000\">Artist Followers &lt;= 1248344.0</text>\n<text text-anchor=\"middle\" x=\"694\" y=\"-334.8\" font-family=\"Times,serif\" font-size=\"14.00\" fill=\"#000000\">mse = 688.228</text>\n<text text-anchor=\"middle\" x=\"694\" y=\"-319.8\" font-family=\"Times,serif\" font-size=\"14.00\" fill=\"#000000\">samples = 187</text>\n<text text-anchor=\"middle\" x=\"694\" y=\"-304.8\" font-family=\"Times,serif\" font-size=\"14.00\" fill=\"#000000\">value = 61.766</text>\n</g>\n<!-- 0&#45;&gt;1 -->\n<g id=\"edge1\" class=\"edge\">\n<title>0&#45;&gt;1</title>\n<path fill=\"none\" stroke=\"#000000\" d=\"M834.5656,-400.9465C814.4472,-390.9354 792.296,-379.9129 771.6457,-369.6371\"/>\n<polygon fill=\"#000000\" stroke=\"#000000\" points=\"773.1003,-366.4516 762.5882,-365.13 769.9817,-372.7185 773.1003,-366.4516\"/>\n<text text-anchor=\"middle\" x=\"770.5393\" y=\"-385.1319\" font-family=\"Times,serif\" font-size=\"14.00\" fill=\"#000000\">True</text>\n</g>\n<!-- 16 -->\n<g id=\"node17\" class=\"node\">\n<title>16</title>\n<polygon fill=\"none\" stroke=\"#000000\" points=\"1205,-365 1071,-365 1071,-297 1205,-297 1205,-365\"/>\n<text text-anchor=\"middle\" x=\"1138\" y=\"-349.8\" font-family=\"Times,serif\" font-size=\"14.00\" fill=\"#000000\">Loudness &lt;= &#45;8.195</text>\n<text text-anchor=\"middle\" x=\"1138\" y=\"-334.8\" font-family=\"Times,serif\" font-size=\"14.00\" fill=\"#000000\">mse = 103.409</text>\n<text text-anchor=\"middle\" x=\"1138\" y=\"-319.8\" font-family=\"Times,serif\" font-size=\"14.00\" fill=\"#000000\">samples = 577</text>\n<text text-anchor=\"middle\" x=\"1138\" y=\"-304.8\" font-family=\"Times,serif\" font-size=\"14.00\" fill=\"#000000\">value = 72.531</text>\n</g>\n<!-- 0&#45;&gt;16 -->\n<g id=\"edge16\" class=\"edge\">\n<title>0&#45;&gt;16</title>\n<path fill=\"none\" stroke=\"#000000\" d=\"M979.9478,-400.9465C1006.0566,-389.392 1035.2102,-376.49 1061.2997,-364.944\"/>\n<polygon fill=\"#000000\" stroke=\"#000000\" points=\"1063.0336,-368.0041 1070.7617,-360.7565 1060.2007,-361.6029 1063.0336,-368.0041\"/>\n<text text-anchor=\"middle\" x=\"1061.7503\" y=\"-380.376\" font-family=\"Times,serif\" font-size=\"14.00\" fill=\"#000000\">False</text>\n</g>\n<!-- 2 -->\n<g id=\"node3\" class=\"node\">\n<title>2</title>\n<polygon fill=\"none\" stroke=\"#000000\" points=\"443,-261 309,-261 309,-193 443,-193 443,-261\"/>\n<text text-anchor=\"middle\" x=\"376\" y=\"-245.8\" font-family=\"Times,serif\" font-size=\"14.00\" fill=\"#000000\">Loudness &lt;= &#45;11.99</text>\n<text text-anchor=\"middle\" x=\"376\" y=\"-230.8\" font-family=\"Times,serif\" font-size=\"14.00\" fill=\"#000000\">mse = 116.145</text>\n<text text-anchor=\"middle\" x=\"376\" y=\"-215.8\" font-family=\"Times,serif\" font-size=\"14.00\" fill=\"#000000\">samples = 124</text>\n<text text-anchor=\"middle\" x=\"376\" y=\"-200.8\" font-family=\"Times,serif\" font-size=\"14.00\" fill=\"#000000\">value = 72.648</text>\n</g>\n<!-- 1&#45;&gt;2 -->\n<g id=\"edge2\" class=\"edge\">\n<title>1&#45;&gt;2</title>\n<path fill=\"none\" stroke=\"#000000\" d=\"M595.126,-298.6638C549.1904,-283.6409 495.403,-266.05 452.6141,-252.0562\"/>\n<polygon fill=\"#000000\" stroke=\"#000000\" points=\"453.6952,-248.7274 443.1026,-248.9455 451.5193,-255.3806 453.6952,-248.7274\"/>\n</g>\n<!-- 9 -->\n<g id=\"node10\" class=\"node\">\n<title>9</title>\n<polygon fill=\"none\" stroke=\"#000000\" points=\"792.5,-261 595.5,-261 595.5,-193 792.5,-193 792.5,-261\"/>\n<text text-anchor=\"middle\" x=\"694\" y=\"-245.8\" font-family=\"Times,serif\" font-size=\"14.00\" fill=\"#000000\">Artist Followers &lt;= 1252902.0</text>\n<text text-anchor=\"middle\" x=\"694\" y=\"-230.8\" font-family=\"Times,serif\" font-size=\"14.00\" fill=\"#000000\">mse = 1119.719</text>\n<text text-anchor=\"middle\" x=\"694\" y=\"-215.8\" font-family=\"Times,serif\" font-size=\"14.00\" fill=\"#000000\">samples = 63</text>\n<text text-anchor=\"middle\" x=\"694\" y=\"-200.8\" font-family=\"Times,serif\" font-size=\"14.00\" fill=\"#000000\">value = 39.183</text>\n</g>\n<!-- 1&#45;&gt;9 -->\n<g id=\"edge9\" class=\"edge\">\n<title>1&#45;&gt;9</title>\n<path fill=\"none\" stroke=\"#000000\" d=\"M694,-296.9465C694,-288.776 694,-279.9318 694,-271.3697\"/>\n<polygon fill=\"#000000\" stroke=\"#000000\" points=\"697.5001,-271.13 694,-261.13 690.5001,-271.13 697.5001,-271.13\"/>\n</g>\n<!-- 3 -->\n<g id=\"node4\" class=\"node\">\n<title>3</title>\n<polygon fill=\"none\" stroke=\"#000000\" points=\"235.5,-157 98.5,-157 98.5,-89 235.5,-89 235.5,-157\"/>\n<text text-anchor=\"middle\" x=\"167\" y=\"-141.8\" font-family=\"Times,serif\" font-size=\"14.00\" fill=\"#000000\">Release Day &lt;= 29.0</text>\n<text text-anchor=\"middle\" x=\"167\" y=\"-126.8\" font-family=\"Times,serif\" font-size=\"14.00\" fill=\"#000000\">mse = 69.972</text>\n<text text-anchor=\"middle\" x=\"167\" y=\"-111.8\" font-family=\"Times,serif\" font-size=\"14.00\" fill=\"#000000\">samples = 7</text>\n<text text-anchor=\"middle\" x=\"167\" y=\"-96.8\" font-family=\"Times,serif\" font-size=\"14.00\" fill=\"#000000\">value = 53.167</text>\n</g>\n<!-- 2&#45;&gt;3 -->\n<g id=\"edge3\" class=\"edge\">\n<title>2&#45;&gt;3</title>\n<path fill=\"none\" stroke=\"#000000\" d=\"M308.7207,-193.5213C288.3468,-183.3831 265.8017,-172.1645 244.7989,-161.7133\"/>\n<polygon fill=\"#000000\" stroke=\"#000000\" points=\"246.1003,-158.4516 235.5882,-157.13 242.9817,-164.7185 246.1003,-158.4516\"/>\n</g>\n<!-- 6 -->\n<g id=\"node7\" class=\"node\">\n<title>6</title>\n<polygon fill=\"none\" stroke=\"#000000\" points=\"470.5,-157 281.5,-157 281.5,-89 470.5,-89 470.5,-157\"/>\n<text text-anchor=\"middle\" x=\"376\" y=\"-141.8\" font-family=\"Times,serif\" font-size=\"14.00\" fill=\"#000000\">Artist Followers &lt;= 925365.5</text>\n<text text-anchor=\"middle\" x=\"376\" y=\"-126.8\" font-family=\"Times,serif\" font-size=\"14.00\" fill=\"#000000\">mse = 92.378</text>\n<text text-anchor=\"middle\" x=\"376\" y=\"-111.8\" font-family=\"Times,serif\" font-size=\"14.00\" fill=\"#000000\">samples = 117</text>\n<text text-anchor=\"middle\" x=\"376\" y=\"-96.8\" font-family=\"Times,serif\" font-size=\"14.00\" fill=\"#000000\">value = 73.939</text>\n</g>\n<!-- 2&#45;&gt;6 -->\n<g id=\"edge6\" class=\"edge\">\n<title>2&#45;&gt;6</title>\n<path fill=\"none\" stroke=\"#000000\" d=\"M376,-192.9465C376,-184.776 376,-175.9318 376,-167.3697\"/>\n<polygon fill=\"#000000\" stroke=\"#000000\" points=\"379.5001,-167.13 376,-157.13 372.5001,-167.13 379.5001,-167.13\"/>\n</g>\n<!-- 4 -->\n<g id=\"node5\" class=\"node\">\n<title>4</title>\n<polygon fill=\"none\" stroke=\"#000000\" points=\"104,-53 0,-53 0,0 104,0 104,-53\"/>\n<text text-anchor=\"middle\" x=\"52\" y=\"-37.8\" font-family=\"Times,serif\" font-size=\"14.00\" fill=\"#000000\">mse = 15.174</text>\n<text text-anchor=\"middle\" x=\"52\" y=\"-22.8\" font-family=\"Times,serif\" font-size=\"14.00\" fill=\"#000000\">samples = 6</text>\n<text text-anchor=\"middle\" x=\"52\" y=\"-7.8\" font-family=\"Times,serif\" font-size=\"14.00\" fill=\"#000000\">value = 50.909</text>\n</g>\n<!-- 3&#45;&gt;4 -->\n<g id=\"edge4\" class=\"edge\">\n<title>3&#45;&gt;4</title>\n<path fill=\"none\" stroke=\"#000000\" d=\"M126.4553,-88.9777C115.2155,-79.546 103.0264,-69.3178 91.8279,-59.9208\"/>\n<polygon fill=\"#000000\" stroke=\"#000000\" points=\"93.7866,-56.9954 83.8764,-53.2485 89.287,-62.3576 93.7866,-56.9954\"/>\n</g>\n<!-- 5 -->\n<g id=\"node6\" class=\"node\">\n<title>5</title>\n<polygon fill=\"none\" stroke=\"#000000\" points=\"211.5,-53 122.5,-53 122.5,0 211.5,0 211.5,-53\"/>\n<text text-anchor=\"middle\" x=\"167\" y=\"-37.8\" font-family=\"Times,serif\" font-size=\"14.00\" fill=\"#000000\">mse = 0.0</text>\n<text text-anchor=\"middle\" x=\"167\" y=\"-22.8\" font-family=\"Times,serif\" font-size=\"14.00\" fill=\"#000000\">samples = 1</text>\n<text text-anchor=\"middle\" x=\"167\" y=\"-7.8\" font-family=\"Times,serif\" font-size=\"14.00\" fill=\"#000000\">value = 78.0</text>\n</g>\n<!-- 3&#45;&gt;5 -->\n<g id=\"edge5\" class=\"edge\">\n<title>3&#45;&gt;5</title>\n<path fill=\"none\" stroke=\"#000000\" d=\"M167,-88.9777C167,-80.7364 167,-71.887 167,-63.5153\"/>\n<polygon fill=\"#000000\" stroke=\"#000000\" points=\"170.5001,-63.2484 167,-53.2485 163.5001,-63.2485 170.5001,-63.2484\"/>\n</g>\n<!-- 7 -->\n<g id=\"node8\" class=\"node\">\n<title>7</title>\n<polygon fill=\"none\" stroke=\"#000000\" points=\"334,-53 230,-53 230,0 334,0 334,-53\"/>\n<text text-anchor=\"middle\" x=\"282\" y=\"-37.8\" font-family=\"Times,serif\" font-size=\"14.00\" fill=\"#000000\">mse = 80.391</text>\n<text text-anchor=\"middle\" x=\"282\" y=\"-22.8\" font-family=\"Times,serif\" font-size=\"14.00\" fill=\"#000000\">samples = 103</text>\n<text text-anchor=\"middle\" x=\"282\" y=\"-7.8\" font-family=\"Times,serif\" font-size=\"14.00\" fill=\"#000000\">value = 75.069</text>\n</g>\n<!-- 6&#45;&gt;7 -->\n<g id=\"edge7\" class=\"edge\">\n<title>6&#45;&gt;7</title>\n<path fill=\"none\" stroke=\"#000000\" d=\"M342.8591,-88.9777C333.8502,-79.7292 324.0952,-69.7147 315.0891,-60.4691\"/>\n<polygon fill=\"#000000\" stroke=\"#000000\" points=\"317.5404,-57.9696 308.0555,-53.2485 312.5261,-62.8539 317.5404,-57.9696\"/>\n</g>\n<!-- 8 -->\n<g id=\"node9\" class=\"node\">\n<title>8</title>\n<polygon fill=\"none\" stroke=\"#000000\" points=\"456,-53 352,-53 352,0 456,0 456,-53\"/>\n<text text-anchor=\"middle\" x=\"404\" y=\"-37.8\" font-family=\"Times,serif\" font-size=\"14.00\" fill=\"#000000\">mse = 103.085</text>\n<text text-anchor=\"middle\" x=\"404\" y=\"-22.8\" font-family=\"Times,serif\" font-size=\"14.00\" fill=\"#000000\">samples = 14</text>\n<text text-anchor=\"middle\" x=\"404\" y=\"-7.8\" font-family=\"Times,serif\" font-size=\"14.00\" fill=\"#000000\">value = 65.773</text>\n</g>\n<!-- 6&#45;&gt;8 -->\n<g id=\"edge8\" class=\"edge\">\n<title>6&#45;&gt;8</title>\n<path fill=\"none\" stroke=\"#000000\" d=\"M385.8718,-88.9777C388.3161,-80.5533 390.9449,-71.4934 393.4215,-62.9579\"/>\n<polygon fill=\"#000000\" stroke=\"#000000\" points=\"396.8135,-63.8277 396.2388,-53.2485 390.0907,-61.877 396.8135,-63.8277\"/>\n</g>\n<!-- 10 -->\n<g id=\"node11\" class=\"node\">\n<title>10</title>\n<polygon fill=\"none\" stroke=\"#000000\" points=\"690,-157 538,-157 538,-89 690,-89 690,-157\"/>\n<text text-anchor=\"middle\" x=\"614\" y=\"-141.8\" font-family=\"Times,serif\" font-size=\"14.00\" fill=\"#000000\">Release Month &lt;= 10.0</text>\n<text text-anchor=\"middle\" x=\"614\" y=\"-126.8\" font-family=\"Times,serif\" font-size=\"14.00\" fill=\"#000000\">mse = 170.75</text>\n<text text-anchor=\"middle\" x=\"614\" y=\"-111.8\" font-family=\"Times,serif\" font-size=\"14.00\" fill=\"#000000\">samples = 27</text>\n<text text-anchor=\"middle\" x=\"614\" y=\"-96.8\" font-family=\"Times,serif\" font-size=\"14.00\" fill=\"#000000\">value = 3.0</text>\n</g>\n<!-- 9&#45;&gt;10 -->\n<g id=\"edge10\" class=\"edge\">\n<title>9&#45;&gt;10</title>\n<path fill=\"none\" stroke=\"#000000\" d=\"M667.805,-192.9465C660.9675,-184.0578 653.5166,-174.3716 646.399,-165.1188\"/>\n<polygon fill=\"#000000\" stroke=\"#000000\" points=\"649.1252,-162.9223 640.2538,-157.13 643.5768,-167.1903 649.1252,-162.9223\"/>\n</g>\n<!-- 13 -->\n<g id=\"node14\" class=\"node\">\n<title>13</title>\n<polygon fill=\"none\" stroke=\"#000000\" points=\"842,-157 708,-157 708,-89 842,-89 842,-157\"/>\n<text text-anchor=\"middle\" x=\"775\" y=\"-141.8\" font-family=\"Times,serif\" font-size=\"14.00\" fill=\"#000000\">Loudness &lt;= &#45;8.049</text>\n<text text-anchor=\"middle\" x=\"775\" y=\"-126.8\" font-family=\"Times,serif\" font-size=\"14.00\" fill=\"#000000\">mse = 102.137</text>\n<text text-anchor=\"middle\" x=\"775\" y=\"-111.8\" font-family=\"Times,serif\" font-size=\"14.00\" fill=\"#000000\">samples = 36</text>\n<text text-anchor=\"middle\" x=\"775\" y=\"-96.8\" font-family=\"Times,serif\" font-size=\"14.00\" fill=\"#000000\">value = 66.491</text>\n</g>\n<!-- 9&#45;&gt;13 -->\n<g id=\"edge13\" class=\"edge\">\n<title>9&#45;&gt;13</title>\n<path fill=\"none\" stroke=\"#000000\" d=\"M720.5224,-192.9465C727.4454,-184.0578 734.9894,-174.3716 742.196,-165.1188\"/>\n<polygon fill=\"#000000\" stroke=\"#000000\" points=\"745.0346,-167.1701 748.418,-157.13 739.512,-162.8688 745.0346,-167.1701\"/>\n</g>\n<!-- 11 -->\n<g id=\"node12\" class=\"node\">\n<title>11</title>\n<polygon fill=\"none\" stroke=\"#000000\" points=\"571.5,-53 474.5,-53 474.5,0 571.5,0 571.5,-53\"/>\n<text text-anchor=\"middle\" x=\"523\" y=\"-37.8\" font-family=\"Times,serif\" font-size=\"14.00\" fill=\"#000000\">mse = 10.999</text>\n<text text-anchor=\"middle\" x=\"523\" y=\"-22.8\" font-family=\"Times,serif\" font-size=\"14.00\" fill=\"#000000\">samples = 26</text>\n<text text-anchor=\"middle\" x=\"523\" y=\"-7.8\" font-family=\"Times,serif\" font-size=\"14.00\" fill=\"#000000\">value = 0.974</text>\n</g>\n<!-- 10&#45;&gt;11 -->\n<g id=\"edge11\" class=\"edge\">\n<title>10&#45;&gt;11</title>\n<path fill=\"none\" stroke=\"#000000\" d=\"M581.9168,-88.9777C573.2817,-79.8207 563.9386,-69.9129 555.2922,-60.744\"/>\n<polygon fill=\"#000000\" stroke=\"#000000\" points=\"557.6311,-58.1226 548.224,-53.2485 552.5383,-62.9251 557.6311,-58.1226\"/>\n</g>\n<!-- 12 -->\n<g id=\"node13\" class=\"node\">\n<title>12</title>\n<polygon fill=\"none\" stroke=\"#000000\" points=\"678.5,-53 589.5,-53 589.5,0 678.5,0 678.5,-53\"/>\n<text text-anchor=\"middle\" x=\"634\" y=\"-37.8\" font-family=\"Times,serif\" font-size=\"14.00\" fill=\"#000000\">mse = 0.0</text>\n<text text-anchor=\"middle\" x=\"634\" y=\"-22.8\" font-family=\"Times,serif\" font-size=\"14.00\" fill=\"#000000\">samples = 1</text>\n<text text-anchor=\"middle\" x=\"634\" y=\"-7.8\" font-family=\"Times,serif\" font-size=\"14.00\" fill=\"#000000\">value = 82.0</text>\n</g>\n<!-- 10&#45;&gt;12 -->\n<g id=\"edge12\" class=\"edge\">\n<title>10&#45;&gt;12</title>\n<path fill=\"none\" stroke=\"#000000\" d=\"M621.0513,-88.9777C622.7783,-80.6449 624.6341,-71.6903 626.3862,-63.2364\"/>\n<polygon fill=\"#000000\" stroke=\"#000000\" points=\"629.854,-63.7507 628.4563,-53.2485 622.9996,-62.3301 629.854,-63.7507\"/>\n</g>\n<!-- 14 -->\n<g id=\"node15\" class=\"node\">\n<title>14</title>\n<polygon fill=\"none\" stroke=\"#000000\" points=\"801,-53 697,-53 697,0 801,0 801,-53\"/>\n<text text-anchor=\"middle\" x=\"749\" y=\"-37.8\" font-family=\"Times,serif\" font-size=\"14.00\" fill=\"#000000\">mse = 49.481</text>\n<text text-anchor=\"middle\" x=\"749\" y=\"-22.8\" font-family=\"Times,serif\" font-size=\"14.00\" fill=\"#000000\">samples = 12</text>\n<text text-anchor=\"middle\" x=\"749\" y=\"-7.8\" font-family=\"Times,serif\" font-size=\"14.00\" fill=\"#000000\">value = 60.136</text>\n</g>\n<!-- 13&#45;&gt;14 -->\n<g id=\"edge14\" class=\"edge\">\n<title>13&#45;&gt;14</title>\n<path fill=\"none\" stroke=\"#000000\" d=\"M765.8334,-88.9777C763.5636,-80.5533 761.1226,-71.4934 758.8229,-62.9579\"/>\n<polygon fill=\"#000000\" stroke=\"#000000\" points=\"762.1879,-61.9936 756.2068,-53.2485 755.429,-63.8147 762.1879,-61.9936\"/>\n</g>\n<!-- 15 -->\n<g id=\"node16\" class=\"node\">\n<title>15</title>\n<polygon fill=\"none\" stroke=\"#000000\" points=\"915,-53 819,-53 819,0 915,0 915,-53\"/>\n<text text-anchor=\"middle\" x=\"867\" y=\"-37.8\" font-family=\"Times,serif\" font-size=\"14.00\" fill=\"#000000\">mse = 90.516</text>\n<text text-anchor=\"middle\" x=\"867\" y=\"-22.8\" font-family=\"Times,serif\" font-size=\"14.00\" fill=\"#000000\">samples = 24</text>\n<text text-anchor=\"middle\" x=\"867\" y=\"-7.8\" font-family=\"Times,serif\" font-size=\"14.00\" fill=\"#000000\">value = 71.0</text>\n</g>\n<!-- 13&#45;&gt;15 -->\n<g id=\"edge15\" class=\"edge\">\n<title>13&#45;&gt;15</title>\n<path fill=\"none\" stroke=\"#000000\" d=\"M807.4358,-88.9777C816.1657,-79.8207 825.6115,-69.9129 834.3529,-60.744\"/>\n<polygon fill=\"#000000\" stroke=\"#000000\" points=\"837.1318,-62.9014 841.4989,-53.2485 832.0653,-58.0712 837.1318,-62.9014\"/>\n</g>\n<!-- 17 -->\n<g id=\"node18\" class=\"node\">\n<title>17</title>\n<polygon fill=\"none\" stroke=\"#000000\" points=\"1226,-261 1050,-261 1050,-193 1226,-193 1226,-261\"/>\n<text text-anchor=\"middle\" x=\"1138\" y=\"-245.8\" font-family=\"Times,serif\" font-size=\"14.00\" fill=\"#000000\">Duration (ms) &lt;= 151160.0</text>\n<text text-anchor=\"middle\" x=\"1138\" y=\"-230.8\" font-family=\"Times,serif\" font-size=\"14.00\" fill=\"#000000\">mse = 120.874</text>\n<text text-anchor=\"middle\" x=\"1138\" y=\"-215.8\" font-family=\"Times,serif\" font-size=\"14.00\" fill=\"#000000\">samples = 88</text>\n<text text-anchor=\"middle\" x=\"1138\" y=\"-200.8\" font-family=\"Times,serif\" font-size=\"14.00\" fill=\"#000000\">value = 66.787</text>\n</g>\n<!-- 16&#45;&gt;17 -->\n<g id=\"edge17\" class=\"edge\">\n<title>16&#45;&gt;17</title>\n<path fill=\"none\" stroke=\"#000000\" d=\"M1138,-296.9465C1138,-288.776 1138,-279.9318 1138,-271.3697\"/>\n<polygon fill=\"#000000\" stroke=\"#000000\" points=\"1141.5001,-271.13 1138,-261.13 1134.5001,-271.13 1141.5001,-271.13\"/>\n</g>\n<!-- 24 -->\n<g id=\"node25\" class=\"node\">\n<title>24</title>\n<polygon fill=\"none\" stroke=\"#000000\" points=\"1547.5,-261 1404.5,-261 1404.5,-193 1547.5,-193 1547.5,-261\"/>\n<text text-anchor=\"middle\" x=\"1476\" y=\"-245.8\" font-family=\"Times,serif\" font-size=\"14.00\" fill=\"#000000\">Speechiness &lt;= 0.345</text>\n<text text-anchor=\"middle\" x=\"1476\" y=\"-230.8\" font-family=\"Times,serif\" font-size=\"14.00\" fill=\"#000000\">mse = 94.058</text>\n<text text-anchor=\"middle\" x=\"1476\" y=\"-215.8\" font-family=\"Times,serif\" font-size=\"14.00\" fill=\"#000000\">samples = 489</text>\n<text text-anchor=\"middle\" x=\"1476\" y=\"-200.8\" font-family=\"Times,serif\" font-size=\"14.00\" fill=\"#000000\">value = 73.49</text>\n</g>\n<!-- 16&#45;&gt;24 -->\n<g id=\"edge24\" class=\"edge\">\n<title>16&#45;&gt;24</title>\n<path fill=\"none\" stroke=\"#000000\" d=\"M1205.182,-310.3286C1259.5979,-293.5852 1336.4671,-269.9332 1394.4153,-252.103\"/>\n<polygon fill=\"#000000\" stroke=\"#000000\" points=\"1395.746,-255.3555 1404.2745,-249.0694 1393.6874,-248.6651 1395.746,-255.3555\"/>\n</g>\n<!-- 18 -->\n<g id=\"node19\" class=\"node\">\n<title>18</title>\n<polygon fill=\"none\" stroke=\"#000000\" points=\"1132,-157 1006,-157 1006,-89 1132,-89 1132,-157\"/>\n<text text-anchor=\"middle\" x=\"1069\" y=\"-141.8\" font-family=\"Times,serif\" font-size=\"14.00\" fill=\"#000000\">Artist Lb &lt;= 434.5</text>\n<text text-anchor=\"middle\" x=\"1069\" y=\"-126.8\" font-family=\"Times,serif\" font-size=\"14.00\" fill=\"#000000\">mse = 60.68</text>\n<text text-anchor=\"middle\" x=\"1069\" y=\"-111.8\" font-family=\"Times,serif\" font-size=\"14.00\" fill=\"#000000\">samples = 10</text>\n<text text-anchor=\"middle\" x=\"1069\" y=\"-96.8\" font-family=\"Times,serif\" font-size=\"14.00\" fill=\"#000000\">value = 56.714</text>\n</g>\n<!-- 17&#45;&gt;18 -->\n<g id=\"edge18\" class=\"edge\">\n<title>17&#45;&gt;18</title>\n<path fill=\"none\" stroke=\"#000000\" d=\"M1115.4068,-192.9465C1109.6286,-184.2373 1103.3425,-174.7626 1097.3166,-165.6801\"/>\n<polygon fill=\"#000000\" stroke=\"#000000\" points=\"1100.089,-163.5278 1091.6439,-157.13 1094.256,-167.3978 1100.089,-163.5278\"/>\n</g>\n<!-- 21 -->\n<g id=\"node22\" class=\"node\">\n<title>21</title>\n<polygon fill=\"none\" stroke=\"#000000\" points=\"1266,-157 1150,-157 1150,-89 1266,-89 1266,-157\"/>\n<text text-anchor=\"middle\" x=\"1208\" y=\"-141.8\" font-family=\"Times,serif\" font-size=\"14.00\" fill=\"#000000\">Energy &lt;= 0.179</text>\n<text text-anchor=\"middle\" x=\"1208\" y=\"-126.8\" font-family=\"Times,serif\" font-size=\"14.00\" fill=\"#000000\">mse = 109.956</text>\n<text text-anchor=\"middle\" x=\"1208\" y=\"-111.8\" font-family=\"Times,serif\" font-size=\"14.00\" fill=\"#000000\">samples = 78</text>\n<text text-anchor=\"middle\" x=\"1208\" y=\"-96.8\" font-family=\"Times,serif\" font-size=\"14.00\" fill=\"#000000\">value = 68.626</text>\n</g>\n<!-- 17&#45;&gt;21 -->\n<g id=\"edge21\" class=\"edge\">\n<title>17&#45;&gt;21</title>\n<path fill=\"none\" stroke=\"#000000\" d=\"M1160.9206,-192.9465C1166.7826,-184.2373 1173.1598,-174.7626 1179.273,-165.6801\"/>\n<polygon fill=\"#000000\" stroke=\"#000000\" points=\"1182.3476,-167.3802 1185.0279,-157.13 1176.5405,-163.4716 1182.3476,-167.3802\"/>\n</g>\n<!-- 19 -->\n<g id=\"node20\" class=\"node\">\n<title>19</title>\n<polygon fill=\"none\" stroke=\"#000000\" points=\"1022.5,-53 933.5,-53 933.5,0 1022.5,0 1022.5,-53\"/>\n<text text-anchor=\"middle\" x=\"978\" y=\"-37.8\" font-family=\"Times,serif\" font-size=\"14.00\" fill=\"#000000\">mse = 32.75</text>\n<text text-anchor=\"middle\" x=\"978\" y=\"-22.8\" font-family=\"Times,serif\" font-size=\"14.00\" fill=\"#000000\">samples = 9</text>\n<text text-anchor=\"middle\" x=\"978\" y=\"-7.8\" font-family=\"Times,serif\" font-size=\"14.00\" fill=\"#000000\">value = 55.5</text>\n</g>\n<!-- 18&#45;&gt;19 -->\n<g id=\"edge19\" class=\"edge\">\n<title>18&#45;&gt;19</title>\n<path fill=\"none\" stroke=\"#000000\" d=\"M1036.9168,-88.9777C1028.2817,-79.8207 1018.9386,-69.9129 1010.2922,-60.744\"/>\n<polygon fill=\"#000000\" stroke=\"#000000\" points=\"1012.6311,-58.1226 1003.224,-53.2485 1007.5383,-62.9251 1012.6311,-58.1226\"/>\n</g>\n<!-- 20 -->\n<g id=\"node21\" class=\"node\">\n<title>20</title>\n<polygon fill=\"none\" stroke=\"#000000\" points=\"1129.5,-53 1040.5,-53 1040.5,0 1129.5,0 1129.5,-53\"/>\n<text text-anchor=\"middle\" x=\"1085\" y=\"-37.8\" font-family=\"Times,serif\" font-size=\"14.00\" fill=\"#000000\">mse = 0.0</text>\n<text text-anchor=\"middle\" x=\"1085\" y=\"-22.8\" font-family=\"Times,serif\" font-size=\"14.00\" fill=\"#000000\">samples = 1</text>\n<text text-anchor=\"middle\" x=\"1085\" y=\"-7.8\" font-family=\"Times,serif\" font-size=\"14.00\" fill=\"#000000\">value = 81.0</text>\n</g>\n<!-- 18&#45;&gt;20 -->\n<g id=\"edge20\" class=\"edge\">\n<title>18&#45;&gt;20</title>\n<path fill=\"none\" stroke=\"#000000\" d=\"M1074.641,-88.9777C1076.0226,-80.6449 1077.5073,-71.6903 1078.909,-63.2364\"/>\n<polygon fill=\"#000000\" stroke=\"#000000\" points=\"1082.3821,-63.6863 1080.565,-53.2485 1075.4764,-62.5413 1082.3821,-63.6863\"/>\n</g>\n<!-- 22 -->\n<g id=\"node23\" class=\"node\">\n<title>22</title>\n<polygon fill=\"none\" stroke=\"#000000\" points=\"1236.5,-53 1147.5,-53 1147.5,0 1236.5,0 1236.5,-53\"/>\n<text text-anchor=\"middle\" x=\"1192\" y=\"-37.8\" font-family=\"Times,serif\" font-size=\"14.00\" fill=\"#000000\">mse = 0.0</text>\n<text text-anchor=\"middle\" x=\"1192\" y=\"-22.8\" font-family=\"Times,serif\" font-size=\"14.00\" fill=\"#000000\">samples = 1</text>\n<text text-anchor=\"middle\" x=\"1192\" y=\"-7.8\" font-family=\"Times,serif\" font-size=\"14.00\" fill=\"#000000\">value = 46.0</text>\n</g>\n<!-- 21&#45;&gt;22 -->\n<g id=\"edge22\" class=\"edge\">\n<title>21&#45;&gt;22</title>\n<path fill=\"none\" stroke=\"#000000\" d=\"M1202.359,-88.9777C1200.9774,-80.6449 1199.4927,-71.6903 1198.091,-63.2364\"/>\n<polygon fill=\"#000000\" stroke=\"#000000\" points=\"1201.5236,-62.5413 1196.435,-53.2485 1194.6179,-63.6863 1201.5236,-62.5413\"/>\n</g>\n<!-- 23 -->\n<g id=\"node24\" class=\"node\">\n<title>23</title>\n<polygon fill=\"none\" stroke=\"#000000\" points=\"1359,-53 1255,-53 1255,0 1359,0 1359,-53\"/>\n<text text-anchor=\"middle\" x=\"1307\" y=\"-37.8\" font-family=\"Times,serif\" font-size=\"14.00\" fill=\"#000000\">mse = 94.805</text>\n<text text-anchor=\"middle\" x=\"1307\" y=\"-22.8\" font-family=\"Times,serif\" font-size=\"14.00\" fill=\"#000000\">samples = 77</text>\n<text text-anchor=\"middle\" x=\"1307\" y=\"-7.8\" font-family=\"Times,serif\" font-size=\"14.00\" fill=\"#000000\">value = 69.441</text>\n</g>\n<!-- 21&#45;&gt;23 -->\n<g id=\"edge23\" class=\"edge\">\n<title>21&#45;&gt;23</title>\n<path fill=\"none\" stroke=\"#000000\" d=\"M1242.9037,-88.9777C1252.3918,-79.7292 1262.6657,-69.7147 1272.1509,-60.4691\"/>\n<polygon fill=\"#000000\" stroke=\"#000000\" points=\"1274.8407,-62.7349 1279.5586,-53.2485 1269.9546,-57.7223 1274.8407,-62.7349\"/>\n</g>\n<!-- 25 -->\n<g id=\"node26\" class=\"node\">\n<title>25</title>\n<polygon fill=\"none\" stroke=\"#000000\" points=\"1535.5,-157 1416.5,-157 1416.5,-89 1535.5,-89 1535.5,-157\"/>\n<text text-anchor=\"middle\" x=\"1476\" y=\"-141.8\" font-family=\"Times,serif\" font-size=\"14.00\" fill=\"#000000\">Valence &lt;= 0.782</text>\n<text text-anchor=\"middle\" x=\"1476\" y=\"-126.8\" font-family=\"Times,serif\" font-size=\"14.00\" fill=\"#000000\">mse = 91.655</text>\n<text text-anchor=\"middle\" x=\"1476\" y=\"-111.8\" font-family=\"Times,serif\" font-size=\"14.00\" fill=\"#000000\">samples = 457</text>\n<text text-anchor=\"middle\" x=\"1476\" y=\"-96.8\" font-family=\"Times,serif\" font-size=\"14.00\" fill=\"#000000\">value = 74.013</text>\n</g>\n<!-- 24&#45;&gt;25 -->\n<g id=\"edge25\" class=\"edge\">\n<title>24&#45;&gt;25</title>\n<path fill=\"none\" stroke=\"#000000\" d=\"M1476,-192.9465C1476,-184.776 1476,-175.9318 1476,-167.3697\"/>\n<polygon fill=\"#000000\" stroke=\"#000000\" points=\"1479.5001,-167.13 1476,-157.13 1472.5001,-167.13 1479.5001,-167.13\"/>\n</g>\n<!-- 28 -->\n<g id=\"node29\" class=\"node\">\n<title>28</title>\n<polygon fill=\"none\" stroke=\"#000000\" points=\"1745.5,-157 1600.5,-157 1600.5,-89 1745.5,-89 1745.5,-157\"/>\n<text text-anchor=\"middle\" x=\"1673\" y=\"-141.8\" font-family=\"Times,serif\" font-size=\"14.00\" fill=\"#000000\">Release Month &lt;= 5.5</text>\n<text text-anchor=\"middle\" x=\"1673\" y=\"-126.8\" font-family=\"Times,serif\" font-size=\"14.00\" fill=\"#000000\">mse = 71.362</text>\n<text text-anchor=\"middle\" x=\"1673\" y=\"-111.8\" font-family=\"Times,serif\" font-size=\"14.00\" fill=\"#000000\">samples = 32</text>\n<text text-anchor=\"middle\" x=\"1673\" y=\"-96.8\" font-family=\"Times,serif\" font-size=\"14.00\" fill=\"#000000\">value = 66.273</text>\n</g>\n<!-- 24&#45;&gt;28 -->\n<g id=\"edge28\" class=\"edge\">\n<title>24&#45;&gt;28</title>\n<path fill=\"none\" stroke=\"#000000\" d=\"M1540.5052,-192.9465C1559.2984,-183.0252 1579.9734,-172.1105 1599.2883,-161.9138\"/>\n<polygon fill=\"#000000\" stroke=\"#000000\" points=\"1601.1406,-164.8938 1608.3499,-157.13 1597.8726,-158.7034 1601.1406,-164.8938\"/>\n</g>\n<!-- 26 -->\n<g id=\"node27\" class=\"node\">\n<title>26</title>\n<polygon fill=\"none\" stroke=\"#000000\" points=\"1481,-53 1377,-53 1377,0 1481,0 1481,-53\"/>\n<text text-anchor=\"middle\" x=\"1429\" y=\"-37.8\" font-family=\"Times,serif\" font-size=\"14.00\" fill=\"#000000\">mse = 88.844</text>\n<text text-anchor=\"middle\" x=\"1429\" y=\"-22.8\" font-family=\"Times,serif\" font-size=\"14.00\" fill=\"#000000\">samples = 391</text>\n<text text-anchor=\"middle\" x=\"1429\" y=\"-7.8\" font-family=\"Times,serif\" font-size=\"14.00\" fill=\"#000000\">value = 73.316</text>\n</g>\n<!-- 25&#45;&gt;26 -->\n<g id=\"edge26\" class=\"edge\">\n<title>25&#45;&gt;26</title>\n<path fill=\"none\" stroke=\"#000000\" d=\"M1459.4296,-88.9777C1455.2373,-80.3702 1450.7219,-71.0992 1446.486,-62.402\"/>\n<polygon fill=\"#000000\" stroke=\"#000000\" points=\"1449.5532,-60.7063 1442.0278,-53.2485 1443.2599,-63.7714 1449.5532,-60.7063\"/>\n</g>\n<!-- 27 -->\n<g id=\"node28\" class=\"node\">\n<title>27</title>\n<polygon fill=\"none\" stroke=\"#000000\" points=\"1603,-53 1499,-53 1499,0 1603,0 1603,-53\"/>\n<text text-anchor=\"middle\" x=\"1551\" y=\"-37.8\" font-family=\"Times,serif\" font-size=\"14.00\" fill=\"#000000\">mse = 90.079</text>\n<text text-anchor=\"middle\" x=\"1551\" y=\"-22.8\" font-family=\"Times,serif\" font-size=\"14.00\" fill=\"#000000\">samples = 66</text>\n<text text-anchor=\"middle\" x=\"1551\" y=\"-7.8\" font-family=\"Times,serif\" font-size=\"14.00\" fill=\"#000000\">value = 77.765</text>\n</g>\n<!-- 25&#45;&gt;27 -->\n<g id=\"edge27\" class=\"edge\">\n<title>25&#45;&gt;27</title>\n<path fill=\"none\" stroke=\"#000000\" d=\"M1502.4422,-88.9777C1509.4167,-80.0039 1516.9516,-70.3089 1523.9573,-61.295\"/>\n<polygon fill=\"#000000\" stroke=\"#000000\" points=\"1526.8379,-63.292 1530.211,-53.2485 1521.3109,-58.9964 1526.8379,-63.292\"/>\n</g>\n<!-- 29 -->\n<g id=\"node30\" class=\"node\">\n<title>29</title>\n<polygon fill=\"none\" stroke=\"#000000\" points=\"1725,-53 1621,-53 1621,0 1725,0 1725,-53\"/>\n<text text-anchor=\"middle\" x=\"1673\" y=\"-37.8\" font-family=\"Times,serif\" font-size=\"14.00\" fill=\"#000000\">mse = 41.215</text>\n<text text-anchor=\"middle\" x=\"1673\" y=\"-22.8\" font-family=\"Times,serif\" font-size=\"14.00\" fill=\"#000000\">samples = 17</text>\n<text text-anchor=\"middle\" x=\"1673\" y=\"-7.8\" font-family=\"Times,serif\" font-size=\"14.00\" fill=\"#000000\">value = 62.452</text>\n</g>\n<!-- 28&#45;&gt;29 -->\n<g id=\"edge29\" class=\"edge\">\n<title>28&#45;&gt;29</title>\n<path fill=\"none\" stroke=\"#000000\" d=\"M1673,-88.9777C1673,-80.7364 1673,-71.887 1673,-63.5153\"/>\n<polygon fill=\"#000000\" stroke=\"#000000\" points=\"1676.5001,-63.2484 1673,-53.2485 1669.5001,-63.2485 1676.5001,-63.2484\"/>\n</g>\n<!-- 30 -->\n<g id=\"node31\" class=\"node\">\n<title>30</title>\n<polygon fill=\"none\" stroke=\"#000000\" points=\"1847,-53 1743,-53 1743,0 1847,0 1847,-53\"/>\n<text text-anchor=\"middle\" x=\"1795\" y=\"-37.8\" font-family=\"Times,serif\" font-size=\"14.00\" fill=\"#000000\">mse = 67.082</text>\n<text text-anchor=\"middle\" x=\"1795\" y=\"-22.8\" font-family=\"Times,serif\" font-size=\"14.00\" fill=\"#000000\">samples = 15</text>\n<text text-anchor=\"middle\" x=\"1795\" y=\"-7.8\" font-family=\"Times,serif\" font-size=\"14.00\" fill=\"#000000\">value = 71.208</text>\n</g>\n<!-- 28&#45;&gt;30 -->\n<g id=\"edge30\" class=\"edge\">\n<title>28&#45;&gt;30</title>\n<path fill=\"none\" stroke=\"#000000\" d=\"M1716.0126,-88.9777C1728.0524,-79.4545 1741.1188,-69.1191 1753.0935,-59.6473\"/>\n<polygon fill=\"#000000\" stroke=\"#000000\" points=\"1755.5115,-62.1973 1761.1833,-53.2485 1751.1689,-56.7072 1755.5115,-62.1973\"/>\n</g>\n</g>\n</svg>\n"
          },
          "metadata": {}
        }
      ]
    },
    {
      "cell_type": "markdown",
      "metadata": {
        "id": "wNE9sb8249ON"
      },
      "source": [
        "## XG Boost"
      ]
    },
    {
      "cell_type": "markdown",
      "metadata": {
        "id": "dFFb0K4a5FIZ"
      },
      "source": [
        "### CV With No Parameters"
      ]
    },
    {
      "cell_type": "code",
      "metadata": {
        "colab": {
          "base_uri": "https://localhost:8080/"
        },
        "id": "DaXzmmRP46BF",
        "outputId": "4f16fc05-def4-4d90-f8b1-c5fbdff4cee3"
      },
      "source": [
        "# XG Boost - returns mse, not rmse. So need to take sqrt of result at end.\n",
        "num_loops = 200\n",
        "rmse_xgb  = np.zeros(num_loops)\n",
        "\n",
        "for idx in range(0,num_loops):\n",
        "  X_train, X_test, y_train, y_test = train_test_split(X,y,test_size=test_size)\n",
        "  model_xgb = xgb.XGBRegressor(objective ='reg:squarederror', verbosity=0, seed = 10)\n",
        "  model_xgb.fit(X_train,y_train)\n",
        "  y_pred_xgb = model_xgb.predict(X_test)\n",
        "  rmse_xgb[idx] = np.sqrt(mean_squared_error(y_test,y_pred_xgb))\n",
        "\n",
        "print(f'CV RMSE XG Boost: {rmse_xgb.mean()}')"
      ],
      "execution_count": 514,
      "outputs": [
        {
          "output_type": "stream",
          "name": "stdout",
          "text": [
            "CV RMSE XG Boost: 9.962185854011688\n"
          ]
        }
      ]
    },
    {
      "cell_type": "code",
      "metadata": {
        "id": "Zs4dCIbJMXgW",
        "colab": {
          "base_uri": "https://localhost:8080/",
          "height": 484
        },
        "outputId": "131405f0-10e9-492f-d189-ea764c7880ea"
      },
      "source": [
        "# View feature importance score so we know which features are contributing to the outcome\n",
        "feat_imp = pd.Series(model_xgb.feature_importances_, index=X.columns)\n",
        "\n",
        "# get rid of NaN and zero feature importance\n",
        "feat_imp.dropna(inplace=True)\n",
        "feat_imp.drop(feat_imp[feat_imp.values == 0].index, inplace=True)\n",
        "\n",
        "plt.figure(figsize = (20,6))\n",
        "ax = sns.barplot(x = feat_imp.index, y = feat_imp.values)\n",
        "ax.set_xticklabels(ax.get_xticklabels(),rotation = 90)\n",
        "plt.xlabel('Feature')\n",
        "plt.ylabel('Feature Importance Score')"
      ],
      "execution_count": 515,
      "outputs": [
        {
          "output_type": "execute_result",
          "data": {
            "text/plain": [
              "Text(0, 0.5, 'Feature Importance Score')"
            ]
          },
          "metadata": {},
          "execution_count": 515
        },
        {
          "output_type": "display_data",
          "data": {
            "image/png": "[encoded data removed]",
            "text/plain": [
              "<Figure size 1440x432 with 1 Axes>"
            ]
          },
          "metadata": {
            "needs_background": "light"
          }
        }
      ]
    },
    {
      "cell_type": "markdown",
      "metadata": {
        "id": "7AX2BvM55Kvi"
      },
      "source": [
        "### CV With Optimized Parameters"
      ]
    },
    {
      "cell_type": "code",
      "metadata": {
        "id": "f8HyKZZ95Opc",
        "colab": {
          "base_uri": "https://localhost:8080/"
        },
        "outputId": "2f607f7b-1ff8-46d8-f4a3-baffdd5b06fc"
      },
      "source": [
        "# Specify the parameters you want to try and their ranges. \n",
        "# small learning rate may require more estimators...\n",
        "# max_depth = tree depth\n",
        "# learning_rate = \n",
        "# n_estimators = number of trees\n",
        "param_test = {\n",
        " 'max_depth':[4,5,6,7,8],\n",
        " 'learning_rate' : [0.1, 0.2, 0.3, 0.4], \n",
        " 'n_estimators': [30,40,50,60,70]\n",
        "}\n",
        "\n",
        "# Perform the grid search\n",
        "# Allows us to specify multiple parameters for CV from parameter dictionaries.\n",
        "gsearch = GridSearchCV(estimator = xgb.XGBRegressor(objective = 'reg:squarederror', seed = 10), \n",
        "                        param_grid = param_test, scoring='neg_mean_squared_error', cv=5)\n",
        "\n",
        "# Fit to training data \n",
        "X_train, X_test, y_train, y_test = train_test_split(X,y,test_size=test_size)\n",
        "model_xgb_grid = gsearch.fit(X_train,y_train)\n",
        "\n",
        "# Save results to variables for use in next step\n",
        "best_learning_rate = model_xgb_grid.best_params_['learning_rate']\n",
        "best_max_depth = model_xgb_grid.best_params_['max_depth']\n",
        "best_n_estimators = model_xgb_grid.best_params_['n_estimators']\n",
        "\n",
        "# see grid search results\n",
        "print(model_xgb_grid.best_params_)\n"
      ],
      "execution_count": 516,
      "outputs": [
        {
          "output_type": "stream",
          "name": "stdout",
          "text": [
            "{'learning_rate': 0.1, 'max_depth': 5, 'n_estimators': 70}\n"
          ]
        }
      ]
    },
    {
      "cell_type": "code",
      "metadata": {
        "id": "pu9jt04wDVGN",
        "colab": {
          "base_uri": "https://localhost:8080/"
        },
        "outputId": "a4818e10-574c-48e8-a592-ffc2ad891e79"
      },
      "source": [
        "# Try out the optimal parameters\n",
        "numLoops = 200\n",
        "rmse_xgb_grid  = np.zeros(numLoops)\n",
        "\n",
        "for idx in range(0,numLoops):\n",
        "  X_train, X_test, y_train, y_test = train_test_split(X,y,test_size=test_size)\n",
        "  model_xgb_grid = xgb.XGBRegressor(objective ='reg:squarederror', verbosity=0, \n",
        "                          learning_rate = best_learning_rate, \n",
        "                          max_depth = best_max_depth, \n",
        "                          n_estimators = best_n_estimators, seed = 10)\n",
        "  model_xgb_grid.fit(X_train,y_train)\n",
        "  y_pred_xgb_grid = model_xgb_grid.predict(X_test)\n",
        "  rmse_xgb_grid[idx] = np.sqrt(mean_squared_error(y_test,y_pred_xgb_grid))\n",
        "\n",
        "print(f'CV RMSE XG Boost Grid: {rmse_xgb_grid.mean()}')"
      ],
      "execution_count": 517,
      "outputs": [
        {
          "output_type": "stream",
          "name": "stdout",
          "text": [
            "CV RMSE XG Boost Grid: 9.686278858183726\n"
          ]
        }
      ]
    },
    {
      "cell_type": "code",
      "metadata": {
        "id": "T0wWLayY7s8t",
        "colab": {
          "base_uri": "https://localhost:8080/",
          "height": 484
        },
        "outputId": "0e05cefa-3fe8-4abf-feb3-2cbfe5cfa945"
      },
      "source": [
        "# View feature importance score so we know which features are contributing to the outcome\n",
        "feat_imp = pd.Series(model_xgb_grid.feature_importances_, index=X.columns)\n",
        "\n",
        "# get rid of NaN and zero feature importance\n",
        "feat_imp.dropna(inplace=True)\n",
        "feat_imp.drop(feat_imp[feat_imp.values == 0].index, inplace=True)\n",
        "\n",
        "plt.figure(figsize = (20,6))\n",
        "ax = sns.barplot(x = feat_imp.index, y = feat_imp.values)\n",
        "ax.set_xticklabels(ax.get_xticklabels(),rotation = 90)\n",
        "plt.xlabel('Feature')\n",
        "plt.ylabel('Feature Importance Score')"
      ],
      "execution_count": 518,
      "outputs": [
        {
          "output_type": "execute_result",
          "data": {
            "text/plain": [
              "Text(0, 0.5, 'Feature Importance Score')"
            ]
          },
          "metadata": {},
          "execution_count": 518
        },
        {
          "output_type": "display_data",
          "data": {
            "image/png": "[encoded data removed]",
            "text/plain": [
              "<Figure size 1440x432 with 1 Axes>"
            ]
          },
          "metadata": {
            "needs_background": "light"
          }
        }
      ]
    },
    {
      "cell_type": "markdown",
      "metadata": {
        "id": "rdxbp9k_bChz"
      },
      "source": [
        "# Conclusions"
      ]
    }
  ]
}